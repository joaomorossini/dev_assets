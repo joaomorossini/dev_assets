{
 "cells": [
  {
   "cell_type": "code",
   "execution_count": null,
   "metadata": {},
   "outputs": [
    {
     "name": "stderr",
     "output_type": "stream",
     "text": [
      "/Users/morossini/anaconda3/envs/composio/lib/python3.12/site-packages/paramiko/pkey.py:100: CryptographyDeprecationWarning: TripleDES has been moved to cryptography.hazmat.decrepit.ciphers.algorithms.TripleDES and will be removed from this module in 48.0.0.\n",
      "  \"cipher\": algorithms.TripleDES,\n",
      "/Users/morossini/anaconda3/envs/composio/lib/python3.12/site-packages/paramiko/transport.py:259: CryptographyDeprecationWarning: TripleDES has been moved to cryptography.hazmat.decrepit.ciphers.algorithms.TripleDES and will be removed from this module in 48.0.0.\n",
      "  \"class\": algorithms.TripleDES,\n"
     ]
    }
   ],
   "source": [
    "import os\n",
    "import yaml\n",
    "from langchain.agents import create_tool_calling_agent, AgentExecutor\n",
    "from langchain_openai import ChatOpenAI\n",
    "from langchain_core.prompts import ChatPromptTemplate\n",
    "from composio_langchain import ComposioToolSet, App, Action\n",
    "from langchain.memory import ConversationBufferMemory\n",
    "from langchain.tools import StructuredTool\n",
    "from langchain_core.tools import ToolException\n",
    "from typing import List, Optional, Dict, Any\n",
    "import warnings\n",
    "\n",
    "warnings.filterwarnings(\"ignore\")"
   ]
  },
  {
   "cell_type": "code",
   "execution_count": 2,
   "metadata": {},
   "outputs": [],
   "source": [
    "class MyAgent:\n",
    "    def __init__(self, tools, custom_prompt: str = None):\n",
    "        self.llm = ChatOpenAI(\n",
    "            model=\"gpt-4o\",\n",
    "            api_key=os.getenv(\"OPENAI_API_KEY\"),\n",
    "        )\n",
    "        self.tools = tools\n",
    "        self.agent_memory = ConversationBufferMemory(memory_key=\"chat_history\", return_messages=True)\n",
    "        self.agent = create_tool_calling_agent(\n",
    "            llm=self.llm,\n",
    "            tools=self.enhance_agent_tools(tools),\n",
    "            prompt=ChatPromptTemplate.from_messages([\n",
    "                (\"system\", custom_prompt if custom_prompt else \"You are an experienced assistant. You are able to perform any task asked by the user through all the tools you have access to. Your goal is to complete the user's task by using the tools you have access to. This is a core instruction: ALWAYS ALWAYS ALWAYS USE A STRING AS ID\"),\n",
    "                (\"placeholder\", \"{chat_history}\"),\n",
    "                (\"human\", \"{input}\"),\n",
    "                (\"placeholder\", \"{agent_scratchpad}\"),\n",
    "            ]),\n",
    "        )\n",
    "        self.executor = AgentExecutor(agent=self.agent, tools=self.tools, memory=self.agent_memory, verbose=True)\n",
    "\n",
    "    def myinvoke(self, input: str):\n",
    "        result = self.executor.invoke({\"input\": input})\n",
    "        print(result)\n",
    "        print(\"\\n==================================================\")\n",
    "        print(\"--> Agent Response:\")\n",
    "        print(result['output'])\n",
    "        print(\"\\n==================================================\")\n",
    "\n",
    "    def try_except_tool(self, func):\n",
    "        try:\n",
    "            return func\n",
    "        except ToolException as e:\n",
    "            print(f\"Error: {e}\")\n",
    "\n",
    "    def enhance_agent_tools(self, agent_tools: List):\n",
    "        enhanced_agent_tools = [\n",
    "            StructuredTool(\n",
    "                name=tool.name,\n",
    "                description=tool.description,\n",
    "                args_schema=tool.args_schema,\n",
    "                func=self.try_except_tool(tool.func),\n",
    "                handle_tool_error=True,\n",
    "                handle_validation_error=True\n",
    "            ) for tool in agent_tools\n",
    "        ]\n",
    "        return enhanced_agent_tools"
   ]
  },
  {
   "cell_type": "code",
   "execution_count": 3,
   "metadata": {},
   "outputs": [],
   "source": [
    "composio_toolset = ComposioToolSet(api_key=os.getenv('COMPOSIO_API_KEY'))\n",
    "agent_tools = composio_toolset.get_tools(apps=[App.CLICKUP])\n",
    "agent = MyAgent(tools=agent_tools)"
   ]
  }
 ],
 "metadata": {
  "kernelspec": {
   "display_name": "composio",
   "language": "python",
   "name": "python3"
  },
  "language_info": {
   "codemirror_mode": {
    "name": "ipython",
    "version": 3
   },
   "file_extension": ".py",
   "mimetype": "text/x-python",
   "name": "python",
   "nbconvert_exporter": "python",
   "pygments_lexer": "ipython3",
   "version": "3.12.4"
  }
 },
 "nbformat": 4,
 "nbformat_minor": 2
}
