{
 "cells": [
  {
   "cell_type": "code",
   "execution_count": 1,
   "metadata": {},
   "outputs": [],
   "source": [
    "import os\n",
    "import yaml\n",
    "from langchain.agents import create_tool_calling_agent, AgentExecutor\n",
    "from langchain_openai import ChatOpenAI, AzureChatOpenAI\n",
    "from langchain_core.prompts import ChatPromptTemplate\n",
    "from langchain.memory import ConversationBufferMemory\n",
    "from langchain.tools import StructuredTool, tool\n",
    "from langchain_core.tools import ToolException\n",
    "from typing import List, Optional, Dict, Any\n",
    "from pprint import pprint\n",
    "import warnings\n",
    "\n",
    "warnings.filterwarnings(\"ignore\")"
   ]
  },
  {
   "cell_type": "code",
   "execution_count": 2,
   "metadata": {},
   "outputs": [],
   "source": [
    "@tool\n",
    "def fake_tool():\n",
    "    \"\"\"This is a fake tool\"\"\"\n",
    "    return \"I am a fake tool\""
   ]
  },
  {
   "cell_type": "code",
   "execution_count": 3,
   "metadata": {},
   "outputs": [],
   "source": [
    "class MyAgent:\n",
    "    def __init__(self, tools, custom_prompt: str = None):\n",
    "        self.llm = AzureChatOpenAI(\n",
    "            model=\"gpt-4o\",\n",
    "            api_key=os.getenv(\"AZURE_OPENAI_API_KEY\"),\n",
    "        )\n",
    "        self.tools = tools\n",
    "        self.agent_memory = ConversationBufferMemory(memory_key=\"chat_history\", return_messages=True)\n",
    "        self.agent = create_tool_calling_agent(\n",
    "            llm=self.llm,\n",
    "            tools=self._enhance_agent_tools(tools),\n",
    "            prompt=ChatPromptTemplate.from_messages([\n",
    "                (\"system\", custom_prompt if custom_prompt else \"You are an experienced assistant. You are able to perform any task asked by the user through all the tools you have access to. Your goal is to complete the user's task by using the tools you have access to. This is a core instruction: ALWAYS ALWAYS ALWAYS USE A STRING AS ID\"),\n",
    "                (\"placeholder\", \"{chat_history}\"),\n",
    "                (\"human\", \"{input}\"),\n",
    "                (\"placeholder\", \"{agent_scratchpad}\"),\n",
    "            ]),\n",
    "        )\n",
    "        self.executor = AgentExecutor(agent=self.agent, tools=self.tools, memory=self.agent_memory, verbose=True)\n",
    "\n",
    "    def run(self, user_message: str):\n",
    "        if not isinstance(input, str):\n",
    "            raise ValueError(\"Input must be a string\")\n",
    "        result = self.executor.invoke({\"input\": user_message})\n",
    "        print(result)\n",
    "        print(\"\\n==================================================\")\n",
    "        print(\"--> Agent Response:\")\n",
    "        print(result['output'])\n",
    "        print(\"\\n==================================================\")\n",
    "\n",
    "    def loop_run(self):\n",
    "        print(\"Type 'exit' to exit the loop\")\n",
    "        while True:\n",
    "            user_message = input(\"Enter a message: \")\n",
    "            if user_message == \"exit\":\n",
    "                break\n",
    "            result = self.executor.invoke({\"input\": user_message})\n",
    "            print(result)\n",
    "\n",
    "    def _try_except_tool(self, func):\n",
    "        try:\n",
    "            return func\n",
    "        except ToolException as e:\n",
    "            print(f\"Error: {e}\")\n",
    "\n",
    "    def _enhance_agent_tools(self, agent_tools: List):\n",
    "        enhanced_agent_tools = [\n",
    "            StructuredTool(\n",
    "                name=tool.name,\n",
    "                description=tool.description,\n",
    "                args_schema=tool.args_schema,\n",
    "                func=self._try_except_tool(tool._run),\n",
    "                handle_tool_error=True,\n",
    "                handle_validation_error=True\n",
    "            ) for tool in agent_tools\n",
    "        ]\n",
    "        return enhanced_agent_tools"
   ]
  },
  {
   "cell_type": "code",
   "execution_count": 4,
   "metadata": {},
   "outputs": [],
   "source": [
    "@tool\n",
    "def fake_tool():\n",
    "    \"\"\"This is a fake tool\"\"\"\n",
    "    return \"I am a fake tool\"\n",
    "\n",
    "agent = MyAgent(tools=[fake_tool])"
   ]
  },
  {
   "cell_type": "code",
   "execution_count": 5,
   "metadata": {},
   "outputs": [
    {
     "name": "stdout",
     "output_type": "stream",
     "text": [
      "Type 'exit' to exit the loop\n"
     ]
    },
    {
     "name": "stderr",
     "output_type": "stream",
     "text": [
      "Error in StdOutCallbackHandler.on_chain_start callback: AttributeError(\"'NoneType' object has no attribute 'get'\")\n"
     ]
    },
    {
     "name": "stdout",
     "output_type": "stream",
     "text": [
      "\u001b[32;1m\u001b[1;3mHello! How can I assist you today?\u001b[0m\n",
      "\n",
      "\u001b[1m> Finished chain.\u001b[0m\n",
      "{'input': 'Hey there', 'chat_history': [HumanMessage(content='Hey there'), AIMessage(content='Hello! How can I assist you today?')], 'output': 'Hello! How can I assist you today?'}\n"
     ]
    },
    {
     "name": "stderr",
     "output_type": "stream",
     "text": [
      "Error in StdOutCallbackHandler.on_chain_start callback: AttributeError(\"'NoneType' object has no attribute 'get'\")\n"
     ]
    },
    {
     "name": "stdout",
     "output_type": "stream",
     "text": [
      "\u001b[32;1m\u001b[1;3mI can assist you with a variety of tasks, including but not limited to:\n",
      "\n",
      "- Answering questions and providing information\n",
      "- Helping you with research or finding information online\n",
      "- Assisting with writing, editing, or proofreading\n",
      "- Managing schedules and reminders\n",
      "- Offering technical support or troubleshooting\n",
      "- Helping with calculations or data analysis\n",
      "- Providing recommendations for books, movies, restaurants, etc.\n",
      "\n",
      "Let me know what you need, and I'll do my best to help!\u001b[0m\n",
      "\n",
      "\u001b[1m> Finished chain.\u001b[0m\n",
      "{'input': 'How CAN you assist me today?', 'chat_history': [HumanMessage(content='Hey there'), AIMessage(content='Hello! How can I assist you today?'), HumanMessage(content='How CAN you assist me today?'), AIMessage(content=\"I can assist you with a variety of tasks, including but not limited to:\\n\\n- Answering questions and providing information\\n- Helping you with research or finding information online\\n- Assisting with writing, editing, or proofreading\\n- Managing schedules and reminders\\n- Offering technical support or troubleshooting\\n- Helping with calculations or data analysis\\n- Providing recommendations for books, movies, restaurants, etc.\\n\\nLet me know what you need, and I'll do my best to help!\")], 'output': \"I can assist you with a variety of tasks, including but not limited to:\\n\\n- Answering questions and providing information\\n- Helping you with research or finding information online\\n- Assisting with writing, editing, or proofreading\\n- Managing schedules and reminders\\n- Offering technical support or troubleshooting\\n- Helping with calculations or data analysis\\n- Providing recommendations for books, movies, restaurants, etc.\\n\\nLet me know what you need, and I'll do my best to help!\"}\n"
     ]
    }
   ],
   "source": [
    "agent.loop_run()"
   ]
  },
  {
   "cell_type": "code",
   "execution_count": null,
   "metadata": {},
   "outputs": [],
   "source": []
  }
 ],
 "metadata": {
  "kernelspec": {
   "display_name": "composio",
   "language": "python",
   "name": "python3"
  },
  "language_info": {
   "codemirror_mode": {
    "name": "ipython",
    "version": 3
   },
   "file_extension": ".py",
   "mimetype": "text/x-python",
   "name": "python",
   "nbconvert_exporter": "python",
   "pygments_lexer": "ipython3",
   "version": "3.11.9"
  }
 },
 "nbformat": 4,
 "nbformat_minor": 2
}
