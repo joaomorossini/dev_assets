import nbformat

def notebook_to_string(notebook_path):
    # Read the notebook
    with open(notebook_path, 'r', encoding='utf-8') as f:
        notebook = nbformat.read(f, as_version=4)

    # Concatenate all code cells
    code_string = ""
    for cell in notebook.cells:
        if cell.cell_type == 'code':
            code_string += cell.source + "\n"

    return code_string

# Example usage
notebook_path = 'path/to/your/notebook.ipynb'
code_as_string = notebook_to_string(notebook_path)
print(code_as_string)