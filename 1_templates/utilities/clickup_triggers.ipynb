{
 "cells": [
  {
   "cell_type": "code",
   "execution_count": 3,
   "metadata": {},
   "outputs": [],
   "source": [
    "CLICKUP_API_KEY=\"pk_82061927_R7GGIQIBKNDUODNGK7EFVVNIDOJDUWRH\"\n",
    "CLICKUP_API_KEY_RAFA=\"pk_84141406_KOPJTNTK0QHWINT2HRW0XDC9A3ZC4V6T\"\n",
    "CLICKUP_TEAM_ID=12927880\n",
    "CLICKUP_PROJETOS_SPACE_ID=54804921\n",
    "CLICKUP_LIST_ID=901305967064\n",
    "CLICKUP_FOLDER_ID=90131663060"
   ]
  },
  {
   "cell_type": "code",
   "execution_count": 4,
   "metadata": {},
   "outputs": [],
   "source": [
    "import requests"
   ]
  },
  {
   "cell_type": "markdown",
   "metadata": {},
   "source": [
    "# Create ClickUp Webhook"
   ]
  },
  {
   "cell_type": "code",
   "execution_count": null,
   "metadata": {},
   "outputs": [],
   "source": [
    "NGROK_ENDPOINT= input(\"Digite o endpoint do ngrok: \")\n",
    "LIST_ID = CLICKUP_LIST_ID\n",
    "WEBHOOK_URL = f\"{NGROK_ENDPOINT}/webhook\"  \n",
    "\n",
    "url = f\"https://api.clickup.com/api/v2/team/{CLICKUP_TEAM_ID}/webhook\"\n",
    "\n",
    "headers = {\n",
    "    \"Authorization\": CLICKUP_API_KEY_RAFA,\n",
    "    \"Content-Type\": \"application/json\"\n",
    "}\n",
    "\n",
    "data = {\n",
    "    \"endpoint\": WEBHOOK_URL,\n",
    "    \"events\": [\"taskStatusUpdated\"],  \n",
    "    \"list_id\": LIST_ID\n",
    "}\n",
    "\n",
    "response = requests.post(url, headers=headers, json=data)\n",
    "\n",
    "if response.status_code == 200:\n",
    "    print(\"Webhook criado com sucesso:\", response.json())\n",
    "else:\n",
    "    print(\"Erro ao criar webhook:\", response.text)"
   ]
  },
  {
   "cell_type": "markdown",
   "metadata": {},
   "source": [
    "# GET ClickUp Webhooks"
   ]
  },
  {
   "cell_type": "code",
   "execution_count": 5,
   "metadata": {},
   "outputs": [
    {
     "name": "stdout",
     "output_type": "stream",
     "text": [
      "Webhooks disponíveis: 0\n",
      "\n",
      "{'webhooks': []}\n"
     ]
    }
   ],
   "source": [
    "url = f\"https://api.clickup.com/api/v2/team/{CLICKUP_TEAM_ID}/webhook\"\n",
    "\n",
    "headers = {\"Authorization\": CLICKUP_API_KEY}\n",
    "\n",
    "response = requests.get(url, headers=headers)\n",
    "\n",
    "webhook_data = response.json()\n",
    "print(f\"Webhooks disponíveis: {len(webhook_data['webhooks'])}\\n\")\n",
    "print(webhook_data)"
   ]
  },
  {
   "cell_type": "markdown",
   "metadata": {},
   "source": [
    "# Delete ClickUp Webhook"
   ]
  },
  {
   "cell_type": "code",
   "execution_count": null,
   "metadata": {},
   "outputs": [],
   "source": [
    "import requests\n",
    "\n",
    "for webhook in webhook_data['webhooks']:\n",
    "    try:\n",
    "        url = \"https://api.clickup.com/api/v2/webhook/\" + webhook['id']\n",
    "\n",
    "        headers = {\"Authorization\": CLICKUP_API_KEY}\n",
    "\n",
    "        response = requests.delete(url, headers=headers)\n",
    "\n",
    "        data = response.json()\n",
    "        print(\"All webhooks deleted\")\n",
    "    except:\n",
    "        print(\"Erro ao deletar webhook\", webhook['id'])"
   ]
  },
  {
   "cell_type": "code",
   "execution_count": null,
   "metadata": {},
   "outputs": [],
   "source": []
  }
 ],
 "metadata": {
  "kernelspec": {
   "display_name": "hub",
   "language": "python",
   "name": "python3"
  },
  "language_info": {
   "codemirror_mode": {
    "name": "ipython",
    "version": 3
   },
   "file_extension": ".py",
   "mimetype": "text/x-python",
   "name": "python",
   "nbconvert_exporter": "python",
   "pygments_lexer": "ipython3",
   "version": "3.11.9"
  }
 },
 "nbformat": 4,
 "nbformat_minor": 2
}
