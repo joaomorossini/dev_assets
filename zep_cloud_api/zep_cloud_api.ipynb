{
 "cells": [
  {
   "cell_type": "code",
   "execution_count": 7,
   "metadata": {},
   "outputs": [],
   "source": [
    "# !pip install zep-cloud"
   ]
  },
  {
   "cell_type": "code",
   "execution_count": 8,
   "metadata": {},
   "outputs": [
    {
     "data": {
      "text/plain": [
       "True"
      ]
     },
     "execution_count": 8,
     "metadata": {},
     "output_type": "execute_result"
    }
   ],
   "source": [
    "import os\n",
    "from dotenv import load_dotenv\n",
    "\n",
    "load_dotenv()"
   ]
  },
  {
   "cell_type": "code",
   "execution_count": 9,
   "metadata": {},
   "outputs": [],
   "source": [
    "zep_cloud_api_key = os.getenv(\"ZEP_CLOUD_API_KEY\")"
   ]
  },
  {
   "cell_type": "code",
   "execution_count": 10,
   "metadata": {},
   "outputs": [],
   "source": [
    "from zep_cloud.client import Zep\n",
    "\n",
    "client = Zep(\n",
    "    api_key=zep_cloud_api_key,\n",
    ")"
   ]
  },
  {
   "cell_type": "code",
   "execution_count": 11,
   "metadata": {},
   "outputs": [
    {
     "name": "stdout",
     "output_type": "stream",
     "text": [
      "message='Data added'\n"
     ]
    }
   ],
   "source": [
    "response = client.graph.add(\n",
    "    user_id=\"morossini\",\n",
    "    type=\"text\",\n",
    "    data=\"I've been a vegetarian since 2009\"\n",
    ")\n",
    "print(response)"
   ]
  },
  {
   "cell_type": "code",
   "execution_count": 13,
   "metadata": {},
   "outputs": [
    {
     "name": "stdout",
     "output_type": "stream",
     "text": [
      "edges=[EntityEdge(created_at='2025-01-11T17:57:29.026076Z', episodes=[], expired_at=None, fact='user has the id of morossini', invalid_at=None, name='HAS_USER', source_node_uuid='2f78ef50-2778-4c38-a819-5f9c59ee2862', target_node_uuid='aa2d335d-2916-4947-869a-8dc06097ea40', uuid_='dd6e155d-2c4b-4d68-b18b-f389d1938d0b', valid_at='2025-01-11T17:57:29.026076Z', graph_id='2f78ef50-2778-4c38-a819-5f9c59ee2862'), EntityEdge(created_at='2025-01-11T17:57:29.026076Z', episodes=[], expired_at=None, fact='user has the email of morossini@proton.me', invalid_at=None, name='HAS_USER_EMAIL', source_node_uuid='2f78ef50-2778-4c38-a819-5f9c59ee2862', target_node_uuid='e7b589f7-421d-4568-9118-605e45c2b5ab', uuid_='36a8a033-8540-46bd-823d-b253551edc8c', valid_at='2025-01-11T17:57:29.026076Z', graph_id='2f78ef50-2778-4c38-a819-5f9c59ee2862'), EntityEdge(created_at='2025-01-11T17:57:29.026076Z', episodes=[], expired_at=None, fact='user has the name of João Guilherme Silva Morossini', invalid_at=None, name='HAS_USER_NAME', source_node_uuid='2f78ef50-2778-4c38-a819-5f9c59ee2862', target_node_uuid='8afd685e-4e5e-4730-84de-3059521fccc1', uuid_='693d9192-c5e2-4079-882a-aa6c0c3ac2b9', valid_at='2025-01-11T17:57:29.026076Z', graph_id='2f78ef50-2778-4c38-a819-5f9c59ee2862'), EntityEdge(created_at='2025-01-11T18:29:49.969942Z', episodes=['4b756833-5fdc-4f73-af0d-d8a9ee6de405'], expired_at=None, fact='João Morossini has Brazilian and Italian citizenship.', invalid_at=None, name='HAS_CITIZENSHIP', source_node_uuid='8afd685e-4e5e-4730-84de-3059521fccc1', target_node_uuid='1581319f-297d-4c90-9156-4a3a70177a96', uuid_='5c410dd1-e94e-4d30-bb4d-311b75a9f4bc', valid_at='2025-01-11T18:30:03.703385Z', graph_id='2f78ef50-2778-4c38-a819-5f9c59ee2862'), EntityEdge(created_at='2025-01-11T18:29:49.969919Z', episodes=['4b756833-5fdc-4f73-af0d-d8a9ee6de405'], expired_at=None, fact='João Morossini was born in Irati-PR-Brazil.', invalid_at=None, name='BORN_IN', source_node_uuid='8afd685e-4e5e-4730-84de-3059521fccc1', target_node_uuid='246e8b21-38f8-4146-9a36-69837bd09c87', uuid_='49243d5d-5fc5-4403-ad85-5c1c99dd62a4', valid_at='1988-03-22T00:00:00Z', graph_id='2f78ef50-2778-4c38-a819-5f9c59ee2862')] nodes=None\n"
     ]
    }
   ],
   "source": [
    "response = client.graph.search(\n",
    "    query=\"vegetarianism\",\n",
    "    user_id=\"morossini\"\n",
    ")\n",
    "print(response)"
   ]
  },
  {
   "cell_type": "code",
   "execution_count": 15,
   "metadata": {},
   "outputs": [
    {
     "name": "stdout",
     "output_type": "stream",
     "text": [
      "GraphSearchResults(edges=[EntityEdge(created_at='2025-01-11T17:57:29.026076Z', episodes=[], expired_at=None, fact='user has the id of morossini', invalid_at=None, name='HAS_USER', source_node_uuid='2f78ef50-2778-4c38-a819-5f9c59ee2862', target_node_uuid='aa2d335d-2916-4947-869a-8dc06097ea40', uuid_='dd6e155d-2c4b-4d68-b18b-f389d1938d0b', valid_at='2025-01-11T17:57:29.026076Z', graph_id='2f78ef50-2778-4c38-a819-5f9c59ee2862'), EntityEdge(created_at='2025-01-11T17:57:29.026076Z', episodes=[], expired_at=None, fact='user has the email of morossini@proton.me', invalid_at=None, name='HAS_USER_EMAIL', source_node_uuid='2f78ef50-2778-4c38-a819-5f9c59ee2862', target_node_uuid='e7b589f7-421d-4568-9118-605e45c2b5ab', uuid_='36a8a033-8540-46bd-823d-b253551edc8c', valid_at='2025-01-11T17:57:29.026076Z', graph_id='2f78ef50-2778-4c38-a819-5f9c59ee2862'), EntityEdge(created_at='2025-01-11T17:57:29.026076Z', episodes=[], expired_at=None, fact='user has the name of João Guilherme Silva Morossini', invalid_at=None, name='HAS_USER_NAME', source_node_uuid='2f78ef50-2778-4c38-a819-5f9c59ee2862', target_node_uuid='8afd685e-4e5e-4730-84de-3059521fccc1', uuid_='693d9192-c5e2-4079-882a-aa6c0c3ac2b9', valid_at='2025-01-11T17:57:29.026076Z', graph_id='2f78ef50-2778-4c38-a819-5f9c59ee2862'), EntityEdge(created_at='2025-01-11T18:29:49.969942Z', episodes=['4b756833-5fdc-4f73-af0d-d8a9ee6de405'], expired_at=None, fact='João Morossini has Brazilian and Italian citizenship.', invalid_at=None, name='HAS_CITIZENSHIP', source_node_uuid='8afd685e-4e5e-4730-84de-3059521fccc1', target_node_uuid='1581319f-297d-4c90-9156-4a3a70177a96', uuid_='5c410dd1-e94e-4d30-bb4d-311b75a9f4bc', valid_at='2025-01-11T18:30:03.703385Z', graph_id='2f78ef50-2778-4c38-a819-5f9c59ee2862'), EntityEdge(created_at='2025-01-11T18:29:49.969919Z', episodes=['4b756833-5fdc-4f73-af0d-d8a9ee6de405'], expired_at=None, fact='João Morossini was born in Irati-PR-Brazil.', invalid_at=None, name='BORN_IN', source_node_uuid='8afd685e-4e5e-4730-84de-3059521fccc1', target_node_uuid='246e8b21-38f8-4146-9a36-69837bd09c87', uuid_='49243d5d-5fc5-4403-ad85-5c1c99dd62a4', valid_at='1988-03-22T00:00:00Z', graph_id='2f78ef50-2778-4c38-a819-5f9c59ee2862')], nodes=None)\n"
     ]
    }
   ],
   "source": [
    "from pprint import pprint\n",
    "pprint(response)"
   ]
  },
  {
   "cell_type": "code",
   "execution_count": 16,
   "metadata": {},
   "outputs": [
    {
     "data": {
      "text/plain": [
       "[EntityEdge(created_at='2025-01-11T17:57:29.026076Z', episodes=[], expired_at=None, fact='user has the id of morossini', invalid_at=None, name='HAS_USER', source_node_uuid='2f78ef50-2778-4c38-a819-5f9c59ee2862', target_node_uuid='aa2d335d-2916-4947-869a-8dc06097ea40', uuid_='dd6e155d-2c4b-4d68-b18b-f389d1938d0b', valid_at='2025-01-11T17:57:29.026076Z', graph_id='2f78ef50-2778-4c38-a819-5f9c59ee2862'),\n",
       " EntityEdge(created_at='2025-01-11T17:57:29.026076Z', episodes=[], expired_at=None, fact='user has the email of morossini@proton.me', invalid_at=None, name='HAS_USER_EMAIL', source_node_uuid='2f78ef50-2778-4c38-a819-5f9c59ee2862', target_node_uuid='e7b589f7-421d-4568-9118-605e45c2b5ab', uuid_='36a8a033-8540-46bd-823d-b253551edc8c', valid_at='2025-01-11T17:57:29.026076Z', graph_id='2f78ef50-2778-4c38-a819-5f9c59ee2862'),\n",
       " EntityEdge(created_at='2025-01-11T17:57:29.026076Z', episodes=[], expired_at=None, fact='user has the name of João Guilherme Silva Morossini', invalid_at=None, name='HAS_USER_NAME', source_node_uuid='2f78ef50-2778-4c38-a819-5f9c59ee2862', target_node_uuid='8afd685e-4e5e-4730-84de-3059521fccc1', uuid_='693d9192-c5e2-4079-882a-aa6c0c3ac2b9', valid_at='2025-01-11T17:57:29.026076Z', graph_id='2f78ef50-2778-4c38-a819-5f9c59ee2862'),\n",
       " EntityEdge(created_at='2025-01-11T18:29:49.969942Z', episodes=['4b756833-5fdc-4f73-af0d-d8a9ee6de405'], expired_at=None, fact='João Morossini has Brazilian and Italian citizenship.', invalid_at=None, name='HAS_CITIZENSHIP', source_node_uuid='8afd685e-4e5e-4730-84de-3059521fccc1', target_node_uuid='1581319f-297d-4c90-9156-4a3a70177a96', uuid_='5c410dd1-e94e-4d30-bb4d-311b75a9f4bc', valid_at='2025-01-11T18:30:03.703385Z', graph_id='2f78ef50-2778-4c38-a819-5f9c59ee2862'),\n",
       " EntityEdge(created_at='2025-01-11T18:29:49.969919Z', episodes=['4b756833-5fdc-4f73-af0d-d8a9ee6de405'], expired_at=None, fact='João Morossini was born in Irati-PR-Brazil.', invalid_at=None, name='BORN_IN', source_node_uuid='8afd685e-4e5e-4730-84de-3059521fccc1', target_node_uuid='246e8b21-38f8-4146-9a36-69837bd09c87', uuid_='49243d5d-5fc5-4403-ad85-5c1c99dd62a4', valid_at='1988-03-22T00:00:00Z', graph_id='2f78ef50-2778-4c38-a819-5f9c59ee2862')]"
      ]
     },
     "execution_count": 16,
     "metadata": {},
     "output_type": "execute_result"
    }
   ],
   "source": [
    "response.edges"
   ]
  },
  {
   "cell_type": "code",
   "execution_count": 17,
   "metadata": {},
   "outputs": [
    {
     "name": "stdout",
     "output_type": "stream",
     "text": [
      "user has the id of morossini\n",
      "user has the email of morossini@proton.me\n",
      "user has the name of João Guilherme Silva Morossini\n",
      "João Morossini has Brazilian and Italian citizenship.\n",
      "João Morossini was born in Irati-PR-Brazil.\n"
     ]
    }
   ],
   "source": [
    "for edge in response.edges:\n",
    "    print(edge.fact)"
   ]
  },
  {
   "cell_type": "code",
   "execution_count": 19,
   "metadata": {},
   "outputs": [],
   "source": [
    "response = client.graph.episode.get_by_user_id(\n",
    "    user_id=\"morossini\",\n",
    ")"
   ]
  },
  {
   "cell_type": "code",
   "execution_count": 21,
   "metadata": {},
   "outputs": [
    {
     "data": {
      "text/plain": [
       "EpisodeResponse(episodes=[Episode(content='{\"name\": \"Jo\\\\u00e3o Morossini\", \"birth_date\": \"March 22,1988\", \"birth_place\": \"Irati-PR-Brazil\", \"citizenship\": \"Brazilian and Italian\"}', created_at='2025-01-11T18:29:45.583653Z', name='', source='json', source_description='', uuid_='4b756833-5fdc-4f73-af0d-d8a9ee6de405'), Episode(content='{\"name\": \"Jo\\\\u00e3o Morossini\", \"birth_date\": \"March 22,1988\", \"birth_place\": \"Irati-PR-Brazil\", \"citizenship\": \"Brazilian and Italian\"}', created_at='2025-01-11T18:30:03.696185Z', name='', source='json', source_description='', uuid_='f505ee33-f85f-4c8c-bdb6-54f97215b45f'), Episode(content=\"I've been a vegetarian since 2009\", created_at='2025-01-18T18:53:26.143575Z', name='', source='text', source_description='', uuid_='b0de4b2a-99f7-41ea-9263-1bfb2d68405d')])"
      ]
     },
     "execution_count": 21,
     "metadata": {},
     "output_type": "execute_result"
    }
   ],
   "source": [
    "response"
   ]
  },
  {
   "cell_type": "code",
   "execution_count": 22,
   "metadata": {},
   "outputs": [
    {
     "name": "stdout",
     "output_type": "stream",
     "text": [
      "{\"name\": \"Jo\\u00e3o Morossini\", \"birth_date\": \"March 22,1988\", \"birth_place\": \"Irati-PR-Brazil\", \"citizenship\": \"Brazilian and Italian\"}\n",
      "{\"name\": \"Jo\\u00e3o Morossini\", \"birth_date\": \"March 22,1988\", \"birth_place\": \"Irati-PR-Brazil\", \"citizenship\": \"Brazilian and Italian\"}\n",
      "I've been a vegetarian since 2009\n"
     ]
    }
   ],
   "source": [
    "for episode in response.episodes:\n",
    "    print(episode.content)"
   ]
  },
  {
   "cell_type": "code",
   "execution_count": 24,
   "metadata": {},
   "outputs": [
    {
     "data": {
      "text/plain": [
       "\"I've been a vegetarian since 2009\""
      ]
     },
     "execution_count": 24,
     "metadata": {},
     "output_type": "execute_result"
    }
   ],
   "source": [
    "response.episodes[-1].content"
   ]
  },
  {
   "cell_type": "code",
   "execution_count": null,
   "metadata": {},
   "outputs": [],
   "source": [
    "response = client.graph.add(\n",
    "    user_id=\"morossini\",\n",
    "    type=\"text\",\n",
    "    data=\"I've been a vegetarian since 2009\"\n",
    ")\n",
    "print(response)"
   ]
  },
  {
   "cell_type": "code",
   "execution_count": 25,
   "metadata": {},
   "outputs": [
    {
     "data": {
      "text/plain": [
       "SuccessResponse(message='Data added')"
      ]
     },
     "execution_count": 25,
     "metadata": {},
     "output_type": "execute_result"
    }
   ],
   "source": [
    "import json\n",
    "from zep_cloud.client import AsyncZep\n",
    "\n",
    "client = AsyncZep(\n",
    "    api_key=zep_cloud_api_key,\n",
    ")\n",
    "json_data = {\"languages\": [\n",
    "    {\"name\": \"Portuguese\", \"level\": \"Native\"},\n",
    "    {\"name\": \"English\", \"level\": \"Fluent\"},\n",
    "    {\"name\": \"Spanish\", \"level\": \"Advanced\"},\n",
    "]}\n",
    "json_string = json.dumps(json_data)\n",
    "response = await client.graph.add(\n",
    "    user_id=\"morossini\",\n",
    "    type=\"json\",\n",
    "    data=json_string,\n",
    ")\n",
    "\n",
    "response"
   ]
  },
  {
   "cell_type": "code",
   "execution_count": 27,
   "metadata": {},
   "outputs": [
    {
     "data": {
      "text/plain": [
       "SuccessResponse(message='Data added')"
      ]
     },
     "execution_count": 27,
     "metadata": {},
     "output_type": "execute_result"
    }
   ],
   "source": [
    "import json\n",
    "from zep_cloud.client import AsyncZep\n",
    "\n",
    "client = AsyncZep(\n",
    "    api_key=zep_cloud_api_key,\n",
    ")\n",
    "json_data = {\"languages\": [\n",
    "    {\"name\": \"Spanish\", \"level\": \"Advanced\"},\n",
    "]}\n",
    "json_string = json.dumps(json_data)\n",
    "response = await client.graph.add(\n",
    "    user_id=\"morossini\",\n",
    "    type=\"json\",\n",
    "    data=json_string,\n",
    ")\n",
    "\n",
    "response"
   ]
  },
  {
   "cell_type": "code",
   "execution_count": 28,
   "metadata": {},
   "outputs": [
    {
     "data": {
      "text/plain": [
       "GraphSearchResults(edges=[EntityEdge(created_at='2025-01-11T17:57:29.026076Z', episodes=[], expired_at=None, fact='user has the id of morossini', invalid_at=None, name='HAS_USER', source_node_uuid='2f78ef50-2778-4c38-a819-5f9c59ee2862', target_node_uuid='aa2d335d-2916-4947-869a-8dc06097ea40', uuid_='dd6e155d-2c4b-4d68-b18b-f389d1938d0b', valid_at='2025-01-11T17:57:29.026076Z', graph_id='2f78ef50-2778-4c38-a819-5f9c59ee2862'), EntityEdge(created_at='2025-01-11T18:29:49.969942Z', episodes=['4b756833-5fdc-4f73-af0d-d8a9ee6de405'], expired_at=None, fact='João Morossini has Brazilian and Italian citizenship.', invalid_at=None, name='HAS_CITIZENSHIP', source_node_uuid='8afd685e-4e5e-4730-84de-3059521fccc1', target_node_uuid='1581319f-297d-4c90-9156-4a3a70177a96', uuid_='5c410dd1-e94e-4d30-bb4d-311b75a9f4bc', valid_at='2025-01-11T18:30:03.703385Z', graph_id='2f78ef50-2778-4c38-a819-5f9c59ee2862'), EntityEdge(created_at='2025-01-11T17:57:29.026076Z', episodes=[], expired_at=None, fact='user has the email of morossini@proton.me', invalid_at=None, name='HAS_USER_EMAIL', source_node_uuid='2f78ef50-2778-4c38-a819-5f9c59ee2862', target_node_uuid='e7b589f7-421d-4568-9118-605e45c2b5ab', uuid_='36a8a033-8540-46bd-823d-b253551edc8c', valid_at='2025-01-11T17:57:29.026076Z', graph_id='2f78ef50-2778-4c38-a819-5f9c59ee2862'), EntityEdge(created_at='2025-01-11T18:29:49.969919Z', episodes=['4b756833-5fdc-4f73-af0d-d8a9ee6de405'], expired_at=None, fact='João Morossini was born in Irati-PR-Brazil.', invalid_at=None, name='BORN_IN', source_node_uuid='8afd685e-4e5e-4730-84de-3059521fccc1', target_node_uuid='246e8b21-38f8-4146-9a36-69837bd09c87', uuid_='49243d5d-5fc5-4403-ad85-5c1c99dd62a4', valid_at='1988-03-22T00:00:00Z', graph_id='2f78ef50-2778-4c38-a819-5f9c59ee2862'), EntityEdge(created_at='2025-01-11T17:57:29.026076Z', episodes=[], expired_at=None, fact='user has the name of João Guilherme Silva Morossini', invalid_at=None, name='HAS_USER_NAME', source_node_uuid='2f78ef50-2778-4c38-a819-5f9c59ee2862', target_node_uuid='8afd685e-4e5e-4730-84de-3059521fccc1', uuid_='693d9192-c5e2-4079-882a-aa6c0c3ac2b9', valid_at='2025-01-11T17:57:29.026076Z', graph_id='2f78ef50-2778-4c38-a819-5f9c59ee2862'), EntityEdge(created_at='2025-01-18T19:05:26.847404Z', episodes=['8a224f61-f89d-4925-bb3a-f0611e14bea6'], expired_at=None, fact='The individual speaks English fluently.', invalid_at=None, name='SPEAKS', source_node_uuid='89254829-10fb-4fb1-89bb-8943cd6e4125', target_node_uuid='0737bc58-6605-4727-9ab7-a27d6436d25a', uuid_='3cc06ba6-bffb-4495-90e5-3a295e0b6873', valid_at='2025-01-18T19:05:21.681617Z', graph_id='2f78ef50-2778-4c38-a819-5f9c59ee2862'), EntityEdge(created_at='2025-01-18T19:08:53.755142Z', episodes=['ad8101bb-3f60-4f93-9864-1a69cdcb4eb7'], expired_at=None, fact='The language is Spanish and the proficiency level is Advanced.', invalid_at=None, name='IS_LANGUAGE', source_node_uuid='23bafcd2-7f17-49c5-bb24-f53d70d22567', target_node_uuid='50e4134a-4348-4875-a135-301c56b24191', uuid_='ea010184-7198-4ade-bc5b-aeef1c5a9895', valid_at='2025-01-18T19:08:49.598368Z', graph_id='2f78ef50-2778-4c38-a819-5f9c59ee2862'), EntityEdge(created_at='2025-01-18T19:05:26.847426Z', episodes=['8a224f61-f89d-4925-bb3a-f0611e14bea6'], expired_at=None, fact='The individual speaks Spanish at an advanced level.', invalid_at=None, name='SPEAKS', source_node_uuid='23bafcd2-7f17-49c5-bb24-f53d70d22567', target_node_uuid='50e4134a-4348-4875-a135-301c56b24191', uuid_='ae8cfeae-0c40-4c5b-9b2c-b6b014e0ce17', valid_at='2025-01-18T19:05:21.681617Z', graph_id='2f78ef50-2778-4c38-a819-5f9c59ee2862'), EntityEdge(created_at='2025-01-18T19:05:26.847364Z', episodes=['8a224f61-f89d-4925-bb3a-f0611e14bea6'], expired_at=None, fact='The individual speaks Portuguese at a native level.', invalid_at=None, name='SPEAKS', source_node_uuid='87321565-9494-4828-b911-36101b311ee1', target_node_uuid='3e0e1690-9a37-4f94-aa73-739b2aa73105', uuid_='30d20645-a318-47d7-90b4-f15d143aea58', valid_at='2025-01-18T19:05:21.681617Z', graph_id='2f78ef50-2778-4c38-a819-5f9c59ee2862')], nodes=None)"
      ]
     },
     "execution_count": 28,
     "metadata": {},
     "output_type": "execute_result"
    }
   ],
   "source": [
    "search_results = await client.graph.search(\n",
    "    user_id=\"morossini\",\n",
    "    query=\"Which languages does Morossini speak?\",\n",
    "    # reranker=\"mmr\",\n",
    "    # mmr_lambda=0.5, # tune diversity vs relevance\n",
    ")\n",
    "search_results"
   ]
  },
  {
   "cell_type": "code",
   "execution_count": 30,
   "metadata": {},
   "outputs": [
    {
     "name": "stdout",
     "output_type": "stream",
     "text": [
      "Relationship:  HAS_USER\n",
      "Fact:  user has the id of morossini\n",
      "------------------------------------------------------------\n",
      "Relationship:  HAS_CITIZENSHIP\n",
      "Fact:  João Morossini has Brazilian and Italian citizenship.\n",
      "------------------------------------------------------------\n",
      "Relationship:  HAS_USER_EMAIL\n",
      "Fact:  user has the email of morossini@proton.me\n",
      "------------------------------------------------------------\n",
      "Relationship:  BORN_IN\n",
      "Fact:  João Morossini was born in Irati-PR-Brazil.\n",
      "------------------------------------------------------------\n",
      "Relationship:  HAS_USER_NAME\n",
      "Fact:  user has the name of João Guilherme Silva Morossini\n",
      "------------------------------------------------------------\n",
      "Relationship:  SPEAKS\n",
      "Fact:  The individual speaks English fluently.\n",
      "------------------------------------------------------------\n",
      "Relationship:  IS_LANGUAGE\n",
      "Fact:  The language is Spanish and the proficiency level is Advanced.\n",
      "------------------------------------------------------------\n",
      "Relationship:  SPEAKS\n",
      "Fact:  The individual speaks Spanish at an advanced level.\n",
      "------------------------------------------------------------\n",
      "Relationship:  SPEAKS\n",
      "Fact:  The individual speaks Portuguese at a native level.\n",
      "------------------------------------------------------------\n"
     ]
    }
   ],
   "source": [
    "edges = search_results.edges\n",
    "\n",
    "for edge in edges:\n",
    "    print(\"Relationship: \",edge.name)\n",
    "    print(\"Fact: \",edge.fact)\n",
    "    print(\"---\" * 20)"
   ]
  },
  {
   "cell_type": "code",
   "execution_count": 38,
   "metadata": {},
   "outputs": [
    {
     "data": {
      "text/plain": [
       "SuccessResponse(message='Data added')"
      ]
     },
     "execution_count": 38,
     "metadata": {},
     "output_type": "execute_result"
    }
   ],
   "source": [
    "data = \"This is another mock document representing a tender document from a client\"\n",
    "\n",
    "response = await client.graph.add(\n",
    "    user_id=\"morossini\",\n",
    "    type=\"text\",\n",
    "    data=data,\n",
    ")\n",
    "\n",
    "response"
   ]
  },
  {
   "cell_type": "code",
   "execution_count": 39,
   "metadata": {},
   "outputs": [
    {
     "data": {
      "text/plain": [
       "SuccessResponse(message='Data added')"
      ]
     },
     "execution_count": 39,
     "metadata": {},
     "output_type": "execute_result"
    }
   ],
   "source": [
    "json_data = {\"label\": \"Document\",\n",
    "             \"content\": \"This is a mock document representing a tender document from a client\",\n",
    "             \"client\": \"Client X\",\n",
    "             }\n",
    "\n",
    "json_string = json.dumps(json_data)\n",
    "\n",
    "response = await client.graph.add(\n",
    "    user_id=\"morossini\",\n",
    "    type=\"json\",\n",
    "    data=json_string,\n",
    ")\n",
    "\n",
    "response"
   ]
  },
  {
   "cell_type": "code",
   "execution_count": 40,
   "metadata": {},
   "outputs": [
    {
     "data": {
      "text/plain": [
       "SuccessResponse(message='Data added')"
      ]
     },
     "execution_count": 40,
     "metadata": {},
     "output_type": "execute_result"
    }
   ],
   "source": [
    "json_data = {\"label\": \"Document\",\n",
    "             \"content\": \"This is ANOTHER mock document representing a tender document from a client\",\n",
    "             \"client\": \"Client X\",\n",
    "             }\n",
    "\n",
    "json_string = json.dumps(json_data)\n",
    "\n",
    "response = await client.graph.add(\n",
    "    user_id=\"morossini\",\n",
    "    type=\"json\",\n",
    "    data=json_string,\n",
    ")\n",
    "\n",
    "response"
   ]
  },
  {
   "cell_type": "code",
   "execution_count": 43,
   "metadata": {},
   "outputs": [],
   "source": [
    "response = client.graph.episode.get_by_user_id(\n",
    "    user_id=\"morossini\",\n",
    ")"
   ]
  },
  {
   "cell_type": "code",
   "execution_count": 44,
   "metadata": {},
   "outputs": [
    {
     "data": {
      "text/plain": [
       "<coroutine object AsyncEpisodeClient.get_by_user_id at 0x117f06570>"
      ]
     },
     "execution_count": 44,
     "metadata": {},
     "output_type": "execute_result"
    }
   ],
   "source": [
    "response"
   ]
  },
  {
   "cell_type": "code",
   "execution_count": null,
   "metadata": {},
   "outputs": [],
   "source": []
  }
 ],
 "metadata": {
  "kernelspec": {
   "display_name": "base",
   "language": "python",
   "name": "python3"
  },
  "language_info": {
   "codemirror_mode": {
    "name": "ipython",
    "version": 3
   },
   "file_extension": ".py",
   "mimetype": "text/x-python",
   "name": "python",
   "nbconvert_exporter": "python",
   "pygments_lexer": "ipython3",
   "version": "3.11.5"
  }
 },
 "nbformat": 4,
 "nbformat_minor": 2
}
