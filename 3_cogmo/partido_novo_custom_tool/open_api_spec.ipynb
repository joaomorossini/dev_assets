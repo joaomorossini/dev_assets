{
 "cells": [
  {
   "cell_type": "code",
   "execution_count": 3,
   "metadata": {},
   "outputs": [
    {
     "name": "stdout",
     "output_type": "stream",
     "text": [
      "200\n",
      "{'status': 'ok', 'arr': {'nome': 'João Guilherme Silva Morossini', 'cpf': '046.118.669-12', 'titulo': '048362040922', 'filiacao': '20/03/2017', 'cidade': 'Capinzal', 'estado': 'Santa Catarina', 'uf': 'SC'}}\n"
     ]
    }
   ],
   "source": [
    "import requests\n",
    "\n",
    "def verifica_filiado(email: str) -> None:\n",
    "    \"\"\"\n",
    "    Verifica se o e-mail está associado a um filiado do partido e imprime o status e a resposta JSON.\n",
    "\n",
    "    Args:\n",
    "        email (str): O e-mail a ser verificado.\n",
    "    \"\"\"\n",
    "    endpoint = f\"https://espaco-novo.novo.org.br/api/verifica-filiado/{email}\"\n",
    "    response = requests.get(endpoint)\n",
    "\n",
    "    print(response.status_code)\n",
    "    print(response.json())\n",
    "\n",
    "# Exemplo de uso\n",
    "verifica_filiado(\"joaomorossini@duck.com\")"
   ]
  },
  {
   "cell_type": "code",
   "execution_count": null,
   "metadata": {},
   "outputs": [],
   "source": []
  }
 ],
 "metadata": {
  "kernelspec": {
   "display_name": "hub",
   "language": "python",
   "name": "python3"
  },
  "language_info": {
   "codemirror_mode": {
    "name": "ipython",
    "version": 3
   },
   "file_extension": ".py",
   "mimetype": "text/x-python",
   "name": "python",
   "nbconvert_exporter": "python",
   "pygments_lexer": "ipython3",
   "version": "3.11.9"
  }
 },
 "nbformat": 4,
 "nbformat_minor": 2
}
