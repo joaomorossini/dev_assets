{
 "cells": [
  {
   "cell_type": "markdown",
   "metadata": {},
   "source": [
    "# CSV"
   ]
  },
  {
   "cell_type": "code",
   "execution_count": 1,
   "metadata": {},
   "outputs": [
    {
     "name": "stdout",
     "output_type": "stream",
     "text": [
      "Output saved to: outputs/contatos_2024-12-13-14-47-34.csv\n",
      "Total contacts distributed: 152\n",
      "\n",
      "Contacts per agent:\n",
      "instancia_telefone  instancia_id\n",
      "5561992096216       6               25\n",
      "5561992203263       5               25\n",
      "5561992419152       2               26\n",
      "5561993065189       1               26\n",
      "5561994026991       4               25\n",
      "5561995571884       3               25\n",
      "dtype: int64\n"
     ]
    }
   ],
   "source": [
    "import datetime\n",
    "import pandas as pd\n",
    "import numpy as np\n",
    "\n",
    "# Load data\n",
    "folder = \"inputs\"\n",
    "agents = pd.read_csv(f'{folder}/numeros_telera_cogmo_exported_1.csv')\n",
    "contacts_1 = pd.read_csv(f'{folder}/bots_de_atendimento_exported_1.csv')\n",
    "contacts_2 = pd.read_csv(f'{folder}/contatos_filipe_exported_1.csv')\n",
    "\n",
    "# Combine both contact lists\n",
    "all_contacts = pd.concat([\n",
    "    contacts_1[['nome', 'ddd', 'telefone']],\n",
    "    contacts_2[['nome', 'ddd', 'telefone']]\n",
    "]).reset_index(drop=True)\n",
    "\n",
    "# Distribute contacts evenly among agents\n",
    "num_contacts = len(all_contacts)\n",
    "num_agents = len(agents)\n",
    "agent_indices = np.arange(num_contacts) % num_agents\n",
    "\n",
    "result = pd.DataFrame({\n",
    "    'instancia_telefone': agents['telefone'].values[agent_indices],\n",
    "    'instancia_id': agents['id'].values[agent_indices],\n",
    "    'contato_nome': all_contacts['nome'],\n",
    "    'contato_telefone': all_contacts['telefone']\n",
    "})\n",
    "\n",
    "# Save to CSV\n",
    "timestamp = datetime.datetime.now().strftime(\"%Y-%m-%d-%H-%M-%S\")\n",
    "result.to_csv(f'outputs/contatos_{timestamp}.csv', index=False)\n",
    "print(f\"Output saved to: outputs/contatos_{timestamp}.csv\")\n",
    "\n",
    "# Print summary\n",
    "print(f\"Total contacts distributed: {len(result)}\")\n",
    "print(\"\\nContacts per agent:\")\n",
    "print(result.groupby(['instancia_telefone', 'instancia_id']).size())"
   ]
  },
  {
   "cell_type": "markdown",
   "metadata": {},
   "source": [
    "# VCF"
   ]
  },
  {
   "cell_type": "code",
   "execution_count": 2,
   "metadata": {},
   "outputs": [
    {
     "name": "stdout",
     "output_type": "stream",
     "text": [
      "Output saved to: outputs/contatos_1_2024-12-16-14-31-13.vcf\n",
      "Output saved to: outputs/contatos_2_2024-12-16-14-31-13.vcf\n",
      "Output saved to: outputs/contatos_3_2024-12-16-14-31-13.vcf\n",
      "Output saved to: outputs/contatos_4_2024-12-16-14-31-13.vcf\n",
      "Output saved to: outputs/contatos_5_2024-12-16-14-31-13.vcf\n",
      "Output saved to: outputs/contatos_6_2024-12-16-14-31-13.vcf\n",
      "Total contacts distributed: 152\n",
      "\n",
      "Contacts per agent:\n",
      "instancia_telefone  instancia_id\n",
      "5561992096216       6               25\n",
      "5561992203263       5               25\n",
      "5561992419152       2               26\n",
      "5561993065189       1               26\n",
      "5561994026991       4               25\n",
      "5561995571884       3               25\n",
      "dtype: int64\n"
     ]
    }
   ],
   "source": [
    "import datetime\n",
    "import pandas as pd\n",
    "import numpy as np\n",
    "\n",
    "# Load data\n",
    "folder = \"inputs\"\n",
    "agents = pd.read_csv(f'{folder}/numeros_telera_cogmo_exported_1.csv')\n",
    "contacts_1 = pd.read_csv(f'{folder}/bots_de_atendimento_exported_1.csv')\n",
    "contacts_2 = pd.read_csv(f'{folder}/contatos_filipe_exported_1.csv')\n",
    "\n",
    "# Combine both contact lists\n",
    "all_contacts = pd.concat([\n",
    "    contacts_1[['nome', 'ddd', 'telefone']],\n",
    "    contacts_2[['nome', 'ddd', 'telefone']]\n",
    "]).reset_index(drop=True)\n",
    "\n",
    "# Distribute contacts evenly among agents\n",
    "num_contacts = len(all_contacts)\n",
    "num_agents = len(agents)\n",
    "agent_indices = np.arange(num_contacts) % num_agents\n",
    "\n",
    "result = pd.DataFrame({\n",
    "    'instancia_telefone': agents['telefone'].values[agent_indices],\n",
    "    'instancia_id': agents['id'].values[agent_indices],\n",
    "    'contato_nome': all_contacts['nome'],\n",
    "    'contato_telefone': all_contacts['telefone']\n",
    "})\n",
    "\n",
    "# Save a separate VCF file for each agent\n",
    "timestamp = datetime.datetime.now().strftime(\"%Y-%m-%d-%H-%M-%S\")\n",
    "for agent_id, group in result.groupby('instancia_id'):\n",
    "    vcf_filename = f'outputs/contatos_{agent_id}_{timestamp}.vcf'\n",
    "    with open(vcf_filename, 'w') as vcf_file:\n",
    "        for _, row in group.iterrows():\n",
    "            vcf_file.write(\"BEGIN:VCARD\\n\")\n",
    "            vcf_file.write(\"VERSION:3.0\\n\")\n",
    "            vcf_file.write(f\"N:{row['contato_nome']}\\n\")\n",
    "            vcf_file.write(f\"TEL;TYPE=CELL:{row['contato_telefone']}\\n\")\n",
    "            vcf_file.write(\"END:VCARD\\n\")\n",
    "    print(f\"Output saved to: {vcf_filename}\")\n",
    "\n",
    "# Print summary\n",
    "print(f\"Total contacts distributed: {len(result)}\")\n",
    "print(\"\\nContacts per agent:\")\n",
    "print(result.groupby(['instancia_telefone', 'instancia_id']).size())"
   ]
  }
 ],
 "metadata": {
  "kernelspec": {
   "display_name": "hub",
   "language": "python",
   "name": "python3"
  },
  "language_info": {
   "codemirror_mode": {
    "name": "ipython",
    "version": 3
   },
   "file_extension": ".py",
   "mimetype": "text/x-python",
   "name": "python",
   "nbconvert_exporter": "python",
   "pygments_lexer": "ipython3",
   "version": "3.11.9"
  }
 },
 "nbformat": 4,
 "nbformat_minor": 2
}
