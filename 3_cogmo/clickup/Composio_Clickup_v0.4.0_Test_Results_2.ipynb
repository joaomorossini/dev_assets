{
 "cells": [
  {
   "cell_type": "markdown",
   "metadata": {},
   "source": [
    "# Composio - ClickUp Actions Test"
   ]
  },
  {
   "cell_type": "code",
   "execution_count": 1,
   "metadata": {},
   "outputs": [
    {
     "name": "stderr",
     "output_type": "stream",
     "text": [
      "/Users/morossini/anaconda3/envs/composio/lib/python3.12/site-packages/paramiko/pkey.py:100: CryptographyDeprecationWarning: TripleDES has been moved to cryptography.hazmat.decrepit.ciphers.algorithms.TripleDES and will be removed from this module in 48.0.0.\n",
      "  \"cipher\": algorithms.TripleDES,\n",
      "/Users/morossini/anaconda3/envs/composio/lib/python3.12/site-packages/paramiko/transport.py:259: CryptographyDeprecationWarning: TripleDES has been moved to cryptography.hazmat.decrepit.ciphers.algorithms.TripleDES and will be removed from this module in 48.0.0.\n",
      "  \"class\": algorithms.TripleDES,\n"
     ]
    }
   ],
   "source": [
    "# import os\n",
    "# import yaml\n",
    "# from langchain.agents import create_tool_calling_agent, AgentExecutor\n",
    "# from langchain_openai import ChatOpenAI\n",
    "# from langchain_core.prompts import ChatPromptTemplate\n",
    "from composio_langchain import ComposioToolSet, App, Action\n",
    "# from langchain.memory import ConversationBufferMemory\n",
    "# from langchain.tools import StructuredTool\n",
    "# from langchain_core.tools import ToolException\n",
    "from typing import List, Optional, Dict, Any, Tuple\n",
    "# from pydantic import ValidationError\n",
    "from pprint import pprint\n",
    "from datetime import datetime\n",
    "import warnings\n",
    "\n",
    "warnings.filterwarnings(\"ignore\")"
   ]
  },
  {
   "cell_type": "code",
   "execution_count": 2,
   "metadata": {},
   "outputs": [],
   "source": [
    "def test_composio_clickup_tools(actions_with_args: List[Dict[str, Any]], workspace_id = 12927880) -> Tuple[List[Dict[str, Any]], List[Dict[str, Any]]]:\n",
    "    \"\"\"\n",
    "    Test Composio ClickUp tools with given actions and arguments.\n",
    "\n",
    "    Args:\n",
    "        actions_with_args (List[Dict[str, Any]]): A list of dictionaries containing action names and their arguments.\n",
    "\n",
    "    Returns:\n",
    "        Tuple[List[Dict[str, Any]], List[Dict[str, Any]]]: A tuple containing two lists:\n",
    "            - short_results: A summary of executed actions.\n",
    "            - full_results: Detailed results of executed actions.\n",
    "    \"\"\"\n",
    "    start_time = datetime.now()\n",
    "    composio_toolset = ComposioToolSet(workspace_id=workspace_id)\n",
    "    short_report = []\n",
    "    long_report = []\n",
    "\n",
    "    for action in actions_with_args:\n",
    "        try:\n",
    "            clickup_action = composio_toolset.get_actions(actions=[getattr(Action, action[\"name\"])])\n",
    "            result = clickup_action[0].invoke(action[\"args\"])\n",
    "            short_report.append({\"action\": action[\"name\"], \"executed\": result['execution_details']['executed']})\n",
    "            long_report.append({\"action\": action[\"name\"], \"results\": result})\n",
    "        except Exception as e:\n",
    "            short_report.append({\"action\": action[\"name\"], \"executed\": result['execution_details']['executed']})\n",
    "            long_report.append({\"action\": action[\"name\"], \"executed\": result['execution_details']['executed'], \"error\": str(e)})\n",
    "        print(short_report[-1])\n",
    "    \n",
    "    failed_count = sum(1 for report in short_report if not report[\"executed\"])\n",
    "    total_actions = len(actions_with_args)\n",
    "    print(f\"\\n{failed_count} out of {total_actions} actions failed\")\n",
    "    \n",
    "    end_time = datetime.now()\n",
    "    print(f\"\\nTest Duration: {end_time - start_time}\")\n",
    "    \n",
    "    return short_report, long_report\n",
    "\n",
    "def print_report(report):\n",
    "    divider = \"=\" * 100\n",
    "    pprint(report)\n",
    "    print(\"\\n\", divider, \"\\n\")\n",
    "\n",
    "def print_failed(long_report):\n",
    "    failed_found = False\n",
    "    for report in long_report:\n",
    "        try:\n",
    "            if report[\"results\"][\"execution_details\"]['executed'] == False:\n",
    "                print_report(report)\n",
    "                failed_found = True\n",
    "        except KeyError:\n",
    "            if \"executed\" in report and report[\"executed\"] == False:\n",
    "                print_report(report)\n",
    "                failed_found = True\n",
    "    if not failed_found:\n",
    "        print(\"All actions executed successfully\")"
   ]
  },
  {
   "cell_type": "markdown",
   "metadata": {},
   "source": [
    "---"
   ]
  },
  {
   "cell_type": "markdown",
   "metadata": {},
   "source": [
    "## Lists Test"
   ]
  },
  {
   "cell_type": "code",
   "execution_count": 3,
   "metadata": {},
   "outputs": [],
   "source": [
    "# Arguments values\n",
    "list_id = 901304862476\n",
    "folder_id = 54804921\n",
    "list_name = f\"-_-_ NEW LIST CREATED AT {datetime.now()}  _-_-\"\n",
    "\n",
    "# Actions with arguments\n",
    "list_actions = [\n",
    "    {\n",
    "    \"name\": \"CLICKUP_GET_LIST\",\n",
    "    \"args\": {\n",
    "        \"list_id\": list_id\n",
    "    }\n",
    "    },\n",
    "    {\n",
    "        \"name\": \"CLICKUP_GET_LISTS\",\n",
    "        \"args\": {\n",
    "            \"folder_id\": folder_id\n",
    "        }\n",
    "    },\n",
    "    {\n",
    "        \"name\": \"CLICKUP_CREATE_LIST\",\n",
    "        \"args\": {\n",
    "            \"folder_id\": folder_id, \n",
    "            \"name\": list_name,\n",
    "        }\n",
    "    },\n",
    "    {\n",
    "        \"name\": \"CLICKUP_MEMBERS_GET_LIST_USERS\",\n",
    "        \"args\": {\n",
    "            \"list_id\": list_id,\n",
    "        }\n",
    "    },\n",
    "]"
   ]
  },
  {
   "cell_type": "code",
   "execution_count": 4,
   "metadata": {},
   "outputs": [
    {
     "name": "stdout",
     "output_type": "stream",
     "text": [
      "{'action': 'CLICKUP_GET_LIST', 'executed': True}\n",
      "{'action': 'CLICKUP_GET_LISTS', 'executed': False}\n",
      "{'action': 'CLICKUP_CREATE_LIST', 'executed': False}\n",
      "{'action': 'CLICKUP_MEMBERS_GET_LIST_USERS', 'executed': True}\n",
      "\n",
      "2 out of 4 actions failed\n",
      "\n",
      "Test Duration: 0:00:14.169768\n"
     ]
    }
   ],
   "source": [
    "short_report_1, long_report_1 = test_composio_clickup_tools(list_actions)"
   ]
  },
  {
   "cell_type": "code",
   "execution_count": 25,
   "metadata": {},
   "outputs": [
    {
     "name": "stdout",
     "output_type": "stream",
     "text": [
      "{'action': 'CLICKUP_GET_LISTS',\n",
      " 'results': {'execution_details': {'executed': False},\n",
      "             'response_data': {'error': '{\"err\":\"Team not '\n",
      "                                        'authorized\",\"ECODE\":\"OAUTH_027\"}',\n",
      "                               'status_code': 401}}}\n",
      "\n",
      " ==================================================================================================== \n",
      "\n",
      "{'action': 'CLICKUP_CREATE_LIST',\n",
      " 'results': {'execution_details': {'executed': False},\n",
      "             'response_data': {'error': '{\"err\":\"Team not '\n",
      "                                        'authorized\",\"ECODE\":\"OAUTH_027\"}',\n",
      "                               'status_code': 401}}}\n",
      "\n",
      " ==================================================================================================== \n",
      "\n"
     ]
    }
   ],
   "source": [
    "print_failed(long_report_1)"
   ]
  },
  {
   "cell_type": "markdown",
   "metadata": {},
   "source": [
    "### Conclusion\n",
    "\n",
    "It's not clear why we were unable to get lists or create lists. It would be useful to have more detailed error messages\n",
    "\n",
    "---\n",
    "\n",
    "<br>"
   ]
  },
  {
   "cell_type": "markdown",
   "metadata": {},
   "source": [
    "## Spaces / Folders Test"
   ]
  },
  {
   "cell_type": "code",
   "execution_count": 6,
   "metadata": {},
   "outputs": [],
   "source": [
    "team_id = 12927880\n",
    "folder_id = \"54804921\"\n",
    "space_id = 54804921\n",
    "\n",
    "spaces_and_folders_actions = [\n",
    "    {\n",
    "        \"name\": \"CLICKUP_AUTHORIZATION_VIEW_ACCOUNT_DETAILS\",\n",
    "        \"args\": {}\n",
    "    },\n",
    "    {\n",
    "        \"name\": \"CLICKUP_AUTHORIZATION_GET_WORK_SPACE_LIST\",\n",
    "        \"args\": {}\n",
    "    },\n",
    "   \n",
    "    {\n",
    "        \"name\": \"CLICKUP_SPACES_GET_SPACE_DETAILS\",\n",
    "        \"args\": {\n",
    "            \"team_id\": team_id,\n",
    "        }\n",
    "    },\n",
    "    {\n",
    "        \"name\": \"CLICKUP_GET_WORKSPACE_SEATS\",\n",
    "        \"args\": {\n",
    "            \"team_id\": team_id,\n",
    "        }\n",
    "    },\n",
    "    {\n",
    "        \"name\": \"CLICKUP_GET_SPACES\",\n",
    "        \"args\": {\n",
    "            \"team_id\": team_id,\n",
    "        }\n",
    "    },\n",
    "    {\n",
    "        \"name\": \"CLICKUP_GET_SPACE\",\n",
    "        \"args\": {\n",
    "            \"space_id\": space_id,\n",
    "        }\n",
    "    },\n",
    "    {\n",
    "        \"name\": \"CLICKUP_GET_FOLDERS\",\n",
    "        \"args\": {\n",
    "            \"space_id\": space_id,\n",
    "        }\n",
    "    },\n",
    "]"
   ]
  },
  {
   "cell_type": "code",
   "execution_count": 7,
   "metadata": {},
   "outputs": [
    {
     "name": "stdout",
     "output_type": "stream",
     "text": [
      "{'action': 'CLICKUP_AUTHORIZATION_VIEW_ACCOUNT_DETAILS', 'executed': True}\n",
      "{'action': 'CLICKUP_AUTHORIZATION_GET_WORK_SPACE_LIST', 'executed': True}\n",
      "{'action': 'CLICKUP_SPACES_GET_SPACE_DETAILS', 'executed': True}\n",
      "{'action': 'CLICKUP_GET_WORKSPACE_SEATS', 'executed': True}\n",
      "{'action': 'CLICKUP_GET_SPACES', 'executed': True}\n",
      "{'action': 'CLICKUP_GET_SPACE', 'executed': True}\n",
      "{'action': 'CLICKUP_GET_FOLDERS', 'executed': True}\n",
      "\n",
      "0 out of 7 actions failed\n",
      "\n",
      "Test Duration: 0:00:24.019839\n"
     ]
    }
   ],
   "source": [
    "short_report_2, long_report_2 = test_composio_clickup_tools(spaces_and_folders_actions)"
   ]
  },
  {
   "cell_type": "code",
   "execution_count": 8,
   "metadata": {},
   "outputs": [
    {
     "name": "stdout",
     "output_type": "stream",
     "text": [
      "All actions executed successfully\n"
     ]
    }
   ],
   "source": [
    "print_failed(long_report_2)"
   ]
  },
  {
   "cell_type": "markdown",
   "metadata": {},
   "source": [
    "### Conclusion\n",
    "\n",
    "All actions related to workspace, spaces and folders that were tested here seem to be working correctly\n",
    "\n",
    "---\n",
    "\n",
    "<br>"
   ]
  },
  {
   "cell_type": "markdown",
   "metadata": {},
   "source": [
    "## Tasks Test"
   ]
  },
  {
   "cell_type": "code",
   "execution_count": 20,
   "metadata": {},
   "outputs": [],
   "source": [
    "list_id = 901304862476\n",
    "list_id_remove_task_from_list = 901304890424\n",
    "task_name = f\"-_-_ COMPOSIO CLICKUP CREATE TASK TEST - {datetime.now()} _-_-\"\n",
    "updated_task_name =  f\"-_-_ COMPOSIO CLICKUP UPDATE TASK TEST - {datetime.now()} _-_-\"\n",
    "task_id = \"86a4d5k4j\"\n",
    "# task_id_delete = [\"86a4d5k3y\", \"86a4d5k4b\", \"86a4d5k4j\"]\n",
    "task_id_delete = \"86a4d5k3c\"\n",
    "task_id_remove_from_list = \"86a4d9kxx\"\n",
    "comment_text = \"Comentário feito a partir da ação 'CLICKUP_CREATE_TASK_COMMENT'\"\n",
    "assignee = int(82061927)\n",
    "notify_all = False\n",
    "\n",
    "\n",
    "tasks_actions = [\n",
    "    {\n",
    "        \"name\": \"CLICKUP_CREATE_TASK_ATTACHMENT\",\n",
    "        \"args\": {\n",
    "            \"task_id\": task_id,\n",
    "            }\n",
    "    },\n",
    "    {\n",
    "        \"name\": \"CLICKUP_CREATE_TASK_COMMENT\",\n",
    "        \"args\": {\n",
    "            \"task_id\": task_id, \n",
    "            \"comment_text\": comment_text, \n",
    "            \"assignee\": assignee, \n",
    "            \"notify_all\": notify_all\n",
    "        }\n",
    "    },\n",
    "    {\n",
    "        \"name\": \"CLICKUP_GET_TASK_COMMENTS\",\n",
    "        \"args\": {\n",
    "            \"task_id\": task_id,\n",
    "        }\n",
    "    },    \n",
    "    {\n",
    "        \"name\": \"CLICKUP_ADD_TASK_TO_LIST\",\n",
    "        \"args\": {\n",
    "            \"list_id\": list_id, \n",
    "            \"task_id\": task_id\n",
    "        }\n",
    "    },\n",
    "    {\n",
    "        \"name\": \"CLICKUP_REMOVE_TASK_FROM_LIST\",\n",
    "        \"args\": {\n",
    "            \"list_id\": list_id_remove_task_from_list, \n",
    "            \"task_id\": task_id_remove_from_list\n",
    "        }\n",
    "    },\n",
    "     {\n",
    "        \"name\": \"CLICKUP_CREATE_TASK\",\n",
    "        \"args\": {\n",
    "            \"list_id\": list_id,\n",
    "            \"name\": task_name,\n",
    "        }\n",
    "    },    \n",
    "    {\n",
    "        \"name\": \"CLICKUP_GET_TASK\",\n",
    "        \"args\": {\n",
    "            \"task_id\": task_id,\n",
    "        }\n",
    "    },\n",
    "    {\n",
    "        \"name\": \"CLICKUP_UPDATE_TASK\",\n",
    "        \"args\": {\n",
    "            \"task_id\": task_id,\n",
    "            \"name\": updated_task_name,\n",
    "            \"assignees__add\": [],\n",
    "            \"assignees__rem\": [],\n",
    "        }\n",
    "    },\n",
    "    {\n",
    "        \"name\": \"CLICKUP_DELETE_TASK\",\n",
    "        \"args\": {\n",
    "            \"task_id\": task_id_delete,\n",
    "        }\n",
    "    },\n",
    "    {\n",
    "        \"name\": \"CLICKUP_GET_TASKS\",\n",
    "        \"args\": {\n",
    "            \"list_id\": list_id,\n",
    "        }\n",
    "    },\n",
    "    {\n",
    "        \"name\": \"CLICKUP_GET_FILTERED_TEAM_TASKS\",\n",
    "        \"args\": {\n",
    "            \"team_id\": team_id,\n",
    "\n",
    "        }\n",
    "    },\n",
    "    {\n",
    "        \"name\": \"CLICKUP_GET_TASK_MEMBERS\",\n",
    "        \"args\": {\n",
    "            \"task_id\": task_id,\n",
    "        }\n",
    "    },\n",
    "]"
   ]
  },
  {
   "cell_type": "code",
   "execution_count": 21,
   "metadata": {},
   "outputs": [
    {
     "name": "stdout",
     "output_type": "stream",
     "text": [
      "{'action': 'CLICKUP_CREATE_TASK_ATTACHMENT', 'executed': False}\n",
      "{'action': 'CLICKUP_CREATE_TASK_COMMENT', 'executed': True}\n",
      "{'action': 'CLICKUP_GET_TASK_COMMENTS', 'executed': True}\n",
      "{'action': 'CLICKUP_ADD_TASK_TO_LIST', 'executed': True}\n",
      "{'action': 'CLICKUP_REMOVE_TASK_FROM_LIST', 'executed': True}\n",
      "{'action': 'CLICKUP_CREATE_TASK', 'executed': True}\n",
      "{'action': 'CLICKUP_GET_TASK', 'executed': True}\n",
      "{'action': 'CLICKUP_UPDATE_TASK', 'executed': True}\n",
      "{'action': 'CLICKUP_DELETE_TASK', 'executed': True}\n",
      "{'action': 'CLICKUP_GET_TASKS', 'executed': True}\n",
      "{'action': 'CLICKUP_GET_FILTERED_TEAM_TASKS', 'executed': True}\n",
      "{'action': 'CLICKUP_GET_TASK_MEMBERS', 'executed': True}\n",
      "\n",
      "1 out of 12 actions failed\n",
      "\n",
      "Test Duration: 0:00:35.891557\n"
     ]
    }
   ],
   "source": [
    "short_report_3, long_report_3 = test_composio_clickup_tools(tasks_actions)"
   ]
  },
  {
   "cell_type": "code",
   "execution_count": 22,
   "metadata": {},
   "outputs": [
    {
     "name": "stdout",
     "output_type": "stream",
     "text": [
      "{'action': 'CLICKUP_CREATE_TASK_ATTACHMENT',\n",
      " 'results': {'execution_details': {'executed': False},\n",
      "             'response_data': {'error': '{\"err\":\"Request is not '\n",
      "                                        '\\'multipart/form-data\\'\",\"ECODE\":\"ATTCH_045\"}',\n",
      "                               'status_code': 400}}}\n",
      "\n",
      " ==================================================================================================== \n",
      "\n"
     ]
    }
   ],
   "source": [
    "print_failed(long_report_3)"
   ]
  },
  {
   "cell_type": "markdown",
   "metadata": {},
   "source": [
    "### Conclusion\n",
    "\n",
    "This action doesn't provide a way to actually attach something to a task. We suspect that the tool needs to accept another argument where the user can somehow select the file he or she intends to attach\n",
    "\n",
    "---\n",
    "\n",
    "<br>"
   ]
  },
  {
   "cell_type": "markdown",
   "metadata": {},
   "source": [
    "## Guest / User Test"
   ]
  },
  {
   "cell_type": "code",
   "execution_count": 15,
   "metadata": {},
   "outputs": [],
   "source": [
    "invite_guest_action = [\n",
    "    {\n",
    "        \"name\": \"CLICKUP_INVITE_GUEST_TO_WORKSPACE\",\n",
    "        \"args\": {\n",
    "            \"team_id\": team_id,\n",
    "            \"email\": \"joaomorossini@duck.com\", \n",
    "            \"can_edit\": False, \n",
    "            \"can_see_time_spent\": False,\n",
    "            \"can_edit_tags\": False,\n",
    "            \"can_see_time_estimated\": False,\n",
    "            \"can_create_views\": False,\n",
    "            \"custom_role_id\": 0,\n",
    "        }\n",
    "    }\n",
    "]"
   ]
  },
  {
   "cell_type": "code",
   "execution_count": null,
   "metadata": {},
   "outputs": [],
   "source": []
  },
  {
   "cell_type": "code",
   "execution_count": 12,
   "metadata": {},
   "outputs": [],
   "source": [
    "list_id = 901103926955\n",
    "email = \"joaomorossini@duck.com\"\n",
    "guest_id = \n",
    "user_id_delete = \n",
    "task_id = \"\"\n",
    "\n",
    "guest_and_user_actions = [\n",
    "    {\n",
    "        \"name\": \"CLICKUP_INVITE_GUEST_TO_WORKSPACE\",\n",
    "        \"args\": {\n",
    "            \"team_id\": team_id, \n",
    "            \"email\": email, \n",
    "            \"can_edit\": False, \n",
    "            \"can_see_time_spent\": False,\n",
    "            \"can_edit_tags\": False,\n",
    "            \"can_see_time_estimated\": False,\n",
    "            \"can_create_views\": False,\n",
    "            \"custom_role_id\": 0,\n",
    "        }\n",
    "    },\n",
    "    {\n",
    "        \"name\": \"CLICKUP_REMOVE_GUEST_FROM_WORKSPACE\",\n",
    "        \"args\": {\n",
    "            \"team_id\": team_id, \n",
    "            \"guest_id\": guest_id\n",
    "        }\n",
    "    },\n",
    "    {\n",
    "        \"name\": \"CLICKUP_ADD_GUEST_TO_TASK\",\n",
    "        \"args\": {\n",
    "            \"task_id\": task_id, \n",
    "            \"guest_id\": guest_id, \n",
    "            \"permission_level\": 'read'\n",
    "        }\n",
    "    },\n",
    "    {\n",
    "        \"name\": \"CLICKUP_REMOVE_GUEST_FROM_TASK\",\n",
    "        \"args\": {\n",
    "            \"task_id\": task_id,\n",
    "            \"guest_id\": guest_id\n",
    "        }\n",
    "    },\n",
    "    {\n",
    "        \"name\": \"CLICKUP_ADD_GUEST_TO_LIST\",\n",
    "        \"args\": {\n",
    "            \"list_id\": list_id, \n",
    "            \"guest_id\": guest_id, \n",
    "            \"permission_level\": 'read'\n",
    "        }\n",
    "    },\n",
    "    {\n",
    "        \"name\": \"CLICKUP_REMOVE_GUEST_FROM_LIST\",\n",
    "        \"args\": {\n",
    "            \"list_id\": list_id, \n",
    "            \"guest_id\": guest_id\n",
    "        }\n",
    "    },\n",
    "    {\n",
    "        \"name\": \"CLICKUP_INVITE_USER_TO_WORKSPACE\",\n",
    "        \"args\": {\n",
    "            \"team_id\": team_id,\n",
    "            \"email\": email,\n",
    "            \"admin\": False,\n",
    "        }\n",
    "    },\n",
    "    {\n",
    "        \"name\": \"CLICKUP_REMOVE_USER_FROM_WORKSPACE\",\n",
    "        \"args\": {\n",
    "            \"team_id\": team_id,\n",
    "            \"user_id\": user_id_delete,\n",
    "        }\n",
    "    },\n",
    "]"
   ]
  },
  {
   "cell_type": "code",
   "execution_count": 18,
   "metadata": {},
   "outputs": [
    {
     "name": "stdout",
     "output_type": "stream",
     "text": [
      "{'action': 'CLICKUP_INVITE_GUEST_TO_WORKSPACE', 'executed': False}\n",
      "{'action': 'CLICKUP_REMOVE_GUEST_FROM_WORKSPACE', 'executed': False}\n",
      "{'action': 'CLICKUP_ADD_GUEST_TO_TASK', 'executed': False}\n",
      "{'action': 'CLICKUP_REMOVE_GUEST_FROM_TASK', 'executed': False}\n",
      "{'action': 'CLICKUP_ADD_GUEST_TO_LIST', 'executed': False}\n",
      "{'action': 'CLICKUP_REMOVE_GUEST_FROM_LIST', 'executed': False}\n",
      "{'action': 'CLICKUP_INVITE_USER_TO_WORKSPACE', 'executed': False}\n",
      "{'action': 'CLICKUP_REMOVE_USER_FROM_WORKSPACE', 'executed': False}\n",
      "\n",
      "8 out of 8 actions failed\n",
      "\n",
      "Test Duration: 0:00:25.903528\n"
     ]
    }
   ],
   "source": [
    "short_report_4, long_report_4 = test_composio_clickup_tools(guest_and_user_actions, workspace_id=team_id)"
   ]
  },
  {
   "cell_type": "code",
   "execution_count": 19,
   "metadata": {},
   "outputs": [
    {
     "name": "stdout",
     "output_type": "stream",
     "text": [
      "{'action': 'CLICKUP_INVITE_GUEST_TO_WORKSPACE',\n",
      " 'results': {'execution_details': {'executed': False},\n",
      "             'response_data': {'error': '{\"err\":\"Team not '\n",
      "                                        'authorized\",\"ECODE\":\"OAUTH_057\"}',\n",
      "                               'status_code': 401}}}\n",
      "\n",
      " ==================================================================================================== \n",
      "\n",
      "{'action': 'CLICKUP_REMOVE_GUEST_FROM_WORKSPACE',\n",
      " 'results': {'execution_details': {'executed': False},\n",
      "             'response_data': {'error': '{\"err\":\"Team not '\n",
      "                                        'authorized\",\"ECODE\":\"OAUTH_057\"}',\n",
      "                               'status_code': 401}}}\n",
      "\n",
      " ==================================================================================================== \n",
      "\n",
      "{'action': 'CLICKUP_ADD_GUEST_TO_TASK',\n",
      " 'results': {'execution_details': {'executed': False},\n",
      "             'response_data': {'error': '{\"err\":\"Team(s) not '\n",
      "                                        'authorized\",\"ECODE\":\"OAUTH_023\"}',\n",
      "                               'status_code': 401}}}\n",
      "\n",
      " ==================================================================================================== \n",
      "\n",
      "{'action': 'CLICKUP_REMOVE_GUEST_FROM_TASK',\n",
      " 'results': {'execution_details': {'executed': False},\n",
      "             'response_data': {'error': '{\"err\":\"Team(s) not '\n",
      "                                        'authorized\",\"ECODE\":\"OAUTH_023\"}',\n",
      "                               'status_code': 401}}}\n",
      "\n",
      " ==================================================================================================== \n",
      "\n",
      "{'action': 'CLICKUP_ADD_GUEST_TO_LIST',\n",
      " 'results': {'execution_details': {'executed': False},\n",
      "             'response_data': {'error': '{\"err\":\"Team(s) not '\n",
      "                                        'authorized\",\"ECODE\":\"OAUTH_023\"}',\n",
      "                               'status_code': 401}}}\n",
      "\n",
      " ==================================================================================================== \n",
      "\n",
      "{'action': 'CLICKUP_REMOVE_GUEST_FROM_LIST',\n",
      " 'results': {'execution_details': {'executed': False},\n",
      "             'response_data': {'error': '{\"err\":\"Team(s) not '\n",
      "                                        'authorized\",\"ECODE\":\"OAUTH_023\"}',\n",
      "                               'status_code': 401}}}\n",
      "\n",
      " ==================================================================================================== \n",
      "\n",
      "{'action': 'CLICKUP_INVITE_USER_TO_WORKSPACE',\n",
      " 'error': '1 validation error for GetListMembersRequest\\n'\n",
      "          'list_id\\n'\n",
      "          '  field required (type=value_error.missing)',\n",
      " 'executed': False}\n",
      "\n",
      " ==================================================================================================== \n",
      "\n",
      "{'action': 'CLICKUP_REMOVE_USER_FROM_WORKSPACE',\n",
      " 'results': {'execution_details': {'executed': False},\n",
      "             'response_data': {'error': '{\"err\":\"Team must be on enterprise '\n",
      "                                        'plan\",\"ECODE\":\"TEAM_110\"}',\n",
      "                               'status_code': 403}}}\n",
      "\n",
      " ==================================================================================================== \n",
      "\n"
     ]
    }
   ],
   "source": [
    "print_failed(long_report_4)"
   ]
  },
  {
   "cell_type": "markdown",
   "metadata": {},
   "source": [
    "### Conclusion\n",
    "\n",
    "It's not clear why we were unable to use actions that need guest ids and user ids to work. It would be useful to have more detailed error messages.\n",
    "\n",
    "CLICKUP_INVITE_USER_TO_WORKSPACE: The error message states that a required field is missing, but the official docs do not show ```list_id``` as an argument for this action.\n",
    "\n",
    "CLICKUP_REMOVE_USER_FROM_WORKSPACE: We're on the free plan, so that seems to be the reason why we couldn't execute the action\n",
    "\n",
    "---\n",
    "\n",
    "<br>"
   ]
  },
  {
   "cell_type": "code",
   "execution_count": null,
   "metadata": {},
   "outputs": [],
   "source": [
    "successful_actions = []\n",
    "\n",
    "for report in [long_report_1, long_report_2, long_report_3, long_report_4, long_report_5]:\n",
    "    for action in report:\n",
    "        if action['status'] == 'success':\n",
    "            successful_actions.append(action['name'])\n",
    "\n",
    "print(successful_actions)\n"
   ]
  }
 ],
 "metadata": {
  "kernelspec": {
   "display_name": "composio",
   "language": "python",
   "name": "python3"
  },
  "language_info": {
   "codemirror_mode": {
    "name": "ipython",
    "version": 3
   },
   "file_extension": ".py",
   "mimetype": "text/x-python",
   "name": "python",
   "nbconvert_exporter": "python",
   "pygments_lexer": "ipython3",
   "version": "3.12.4"
  }
 },
 "nbformat": 4,
 "nbformat_minor": 2
}
