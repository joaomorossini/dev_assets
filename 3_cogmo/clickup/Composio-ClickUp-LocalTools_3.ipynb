{
 "cells": [
  {
   "cell_type": "code",
   "execution_count": 1,
   "metadata": {},
   "outputs": [],
   "source": [
    "import os\n",
    "import requests\n",
    "from dotenv import load_dotenv\n",
    "from typing import Any, Type, List\n",
    "from langchain_core.tools import BaseTool\n",
    "from langchain_core.pydantic_v1 import BaseModel, Field\n",
    "from datetime import datetime\n",
    "\n",
    "load_dotenv()\n",
    "CLICKUP_TOKEN = os.getenv(\"CLICKUP_TOKEN\")"
   ]
  },
  {
   "cell_type": "code",
   "execution_count": 2,
   "metadata": {},
   "outputs": [
    {
     "data": {
      "text/plain": [
       "{'Authorization': 'pk_84141406_KOPJTNTK0QHWINT2HRW0XDC9A3ZC4V6T'}"
      ]
     },
     "execution_count": 2,
     "metadata": {},
     "output_type": "execute_result"
    }
   ],
   "source": [
    "headers = {\"Authorization\": f\"{CLICKUP_TOKEN}\"}\n",
    "headers"
   ]
  },
  {
   "cell_type": "markdown",
   "metadata": {},
   "source": [
    "## Delete Task Tool"
   ]
  },
  {
   "cell_type": "code",
   "execution_count": 3,
   "metadata": {},
   "outputs": [
    {
     "name": "stderr",
     "output_type": "stream",
     "text": [
      "/Users/morossini/anaconda3/envs/secretary/lib/python3.11/site-packages/paramiko/pkey.py:100: CryptographyDeprecationWarning: TripleDES has been moved to cryptography.hazmat.decrepit.ciphers.algorithms.TripleDES and will be removed from this module in 48.0.0.\n",
      "  \"cipher\": algorithms.TripleDES,\n",
      "/Users/morossini/anaconda3/envs/secretary/lib/python3.11/site-packages/paramiko/transport.py:259: CryptographyDeprecationWarning: TripleDES has been moved to cryptography.hazmat.decrepit.ciphers.algorithms.TripleDES and will be removed from this module in 48.0.0.\n",
      "  \"class\": algorithms.TripleDES,\n"
     ]
    }
   ],
   "source": [
    "from composio.tools.local.clickup.actions.delete_task import DeleteTask, DeleteTaskRequest, DeleteTaskResponse\n",
    "\n",
    "class DeleteTaskTool(BaseTool):\n",
    "    name: str = \"delete_task_tool\"\n",
    "    description: str = \"\"\"\n",
    "    Ferramenta para deletar uma tarefa no ClickUp com base nos parâmetros fornecidos.\n",
    "    - Deletar Tarefa:\n",
    "        Invocar: \"DeleteTaskTool\" com os parâmetros apropriados.\n",
    "    \"\"\"\n",
    "    args_schema: Type[BaseModel] = DeleteTaskRequest\n",
    "    headers: dict = {\"Authorization\": f\"{CLICKUP_TOKEN}\"}\n",
    "\n",
    "    def __init__(self, **data):\n",
    "        super().__init__(**data)\n",
    "\n",
    "    def _run(self, task_id: str, **delete_params) -> Any:\n",
    "        \"\"\"Executa a deleção de tarefa no ClickUp\"\"\"\n",
    "\n",
    "        action = DeleteTask()\n",
    "\n",
    "\n",
    "        url = f\"{action.url}{action.path}\".format(task_id=task_id)\n",
    "        params = {key: value for key, value in delete_params.items() if value is not None}\n",
    "\n",
    "        response = requests.delete(url, headers=self.headers, params=params)\n",
    "\n",
    "        if response.status_code == 204:\n",
    "            response_json = {\"message\": \"Task deleted successfully\"}\n",
    "        else:\n",
    "            try:\n",
    "                response_json = response.json()\n",
    "            except requests.JSONDecodeError:\n",
    "                response_json = {\"error\": \"Invalid JSON response\"}\n",
    "        \n",
    "        print(f\"Response Body: {response_json}\")\n",
    "        return DeleteTaskResponse(data=response_json)"
   ]
  },
  {
   "cell_type": "markdown",
   "metadata": {},
   "source": [
    "## Update Task Tool"
   ]
  },
  {
   "cell_type": "code",
   "execution_count": 4,
   "metadata": {},
   "outputs": [],
   "source": [
    "from composio.tools.local.clickup.actions.update_task import UpdateTask, UpdateTaskRequest, UpdateTaskResponse\n",
    "\n",
    "class UpdateTaskRequestCustom(UpdateTaskRequest):\n",
    "    assignees_add: List[int] = Field(\n",
    "        default=None,\n",
    "        alias=\"assignees__add\",\n",
    "        description=\"\",\n",
    "    )\n",
    "    assignees_rem: List[int] = Field(\n",
    "        default=None,\n",
    "        alias=\"assignees__rem\",\n",
    "        description=\"\",\n",
    "    )\n",
    "\n",
    "\n",
    "class UpdateTaskTool(BaseTool):\n",
    "    name: str = \"update_task_tool\"\n",
    "    description: str = \"\"\"\n",
    "    Ferramenta para atualizar uma tarefa no ClickUp com base nos parâmetros fornecidos.\n",
    "    - Atualizar Tarefa:\n",
    "        Invocar: \"UpdateTaskTool\" com os parâmetros apropriados.\n",
    "    \"\"\"\n",
    "    args_schema: Type[BaseModel] = UpdateTaskRequestCustom\n",
    "    headers: dict = {\"Authorization\": f\"{CLICKUP_TOKEN}\"}\n",
    "\n",
    "    def __init__(self, **data):\n",
    "        super().__init__(**data)\n",
    "\n",
    "    def _run(self, task_id: str, **update_params) -> Any:\n",
    "        \"\"\"Executa a atualização de tarefa no ClickUp\"\"\"\n",
    "\n",
    "        action = UpdateTask()\n",
    "\n",
    "        url = f\"{action.url}{action.path}\".format(task_id=task_id)\n",
    "        params = {key: value for key, value in update_params.items() if value is not None}\n",
    "\n",
    "        response = requests.put(url, headers=self.headers, json=params)\n",
    "\n",
    "        if response.status_code == 200:\n",
    "            response_json = response.json()\n",
    "        else:\n",
    "            try:\n",
    "                response_json = response.json()\n",
    "            except requests.JSONDecodeError:\n",
    "                response_json = {\"error\": \"Invalid JSON response\"}\n",
    "        \n",
    "        print(f\"Response Body: {response_json}\")\n",
    "        return UpdateTaskResponse(data=response_json)"
   ]
  },
  {
   "cell_type": "markdown",
   "metadata": {},
   "source": [
    "## Agente"
   ]
  },
  {
   "cell_type": "code",
   "execution_count": 5,
   "metadata": {},
   "outputs": [],
   "source": [
    "from langchain import hub\n",
    "from langchain_openai import AzureChatOpenAI\n",
    "from langchain.agents import AgentExecutor, create_tool_calling_agent\n",
    "\n",
    "load_dotenv()\n",
    "\n",
    "llm = AzureChatOpenAI(model=\"gpt-4o\")\n",
    "prompt = hub.pull(\"hwchase17/openai-tools-agent\")"
   ]
  },
  {
   "cell_type": "code",
   "execution_count": 6,
   "metadata": {},
   "outputs": [],
   "source": [
    "prompt_template = f\"\"\"\"\\n\n",
    "You are Jarbas, Project Manager at Cogmo. You are responsible for managing projects and tasks in ClickUp.\n",
    "\n",
    "Using Tools:\n",
    "You have access to a variety of tools to help you in your conversations.\n",
    "Make sure to always pass the correct arguments to each tool.\n",
    "\n",
    "Project Management:\n",
    "Use ClickUp to manage projects and tasks. To do that, you need to understand its structure.\n",
    "Users will refer to lists by name (not always the exact name), so you need to search for the closest match and get its ID.\n",
    "-> Workspace: The highest level of organization in ClickUp. It contains all of your Spaces.\n",
    "--> Space: A collection of Folders and Lists. It's a way to group related work together.\n",
    "---> Folder: Used to group Lists together.\n",
    "----> List: Used to group tasks together.\n",
    "-----> Task: The basic unit of work in ClickUp. They can be assigned to people, have due dates, and more.\n",
    "Important ClickUp IDs (Always use these IDs when interacting with ClickUp):\n",
    "- Your ClickUp user details:\n",
    " - id: 84141406\n",
    " - username: Ana Beatriz\n",
    " - email: ti@cogmo.com.br\n",
    "- Cogmo Workspace (aka \"team_id\"): {os.getenv('CLICKUP_TEAM_ID', 12927880)}\n",
    "- 'Projetos' Space id {os.getenv('CLICKUP_PROJETOS_SPACE_ID', 54804921)}\n",
    "- \"Agentes Folder id: 90131663060\n",
    "- \"clickup_agent\" List id: 901304909413\n",
    "\"\"\""
   ]
  },
  {
   "cell_type": "code",
   "execution_count": 7,
   "metadata": {},
   "outputs": [],
   "source": [
    "prompt.messages[0].prompt.template = prompt_template"
   ]
  },
  {
   "cell_type": "code",
   "execution_count": 8,
   "metadata": {},
   "outputs": [
    {
     "name": "stderr",
     "output_type": "stream",
     "text": [
      "/Users/morossini/anaconda3/envs/secretary/lib/python3.11/site-packages/pydantic/json_schema.py:2179: PydanticJsonSchemaWarning: Default value alias='assignees__add' alias_priority=2 description='' extra={} is not JSON serializable; excluding default from JSON schema [non-serializable-default]\n",
      "  warnings.warn(message, PydanticJsonSchemaWarning)\n",
      "/Users/morossini/anaconda3/envs/secretary/lib/python3.11/site-packages/pydantic/json_schema.py:2179: PydanticJsonSchemaWarning: Default value alias='assignees__rem' alias_priority=2 description='' extra={} is not JSON serializable; excluding default from JSON schema [non-serializable-default]\n",
      "  warnings.warn(message, PydanticJsonSchemaWarning)\n"
     ]
    }
   ],
   "source": [
    "from langchain.memory import ConversationBufferMemory\n",
    "\n",
    "tools = [\n",
    "    UpdateTaskTool(),\n",
    "    DeleteTaskTool(),\n",
    "]\n",
    "\n",
    "agent_memory = ConversationBufferMemory(memory_key=\"chat_history\", return_messages=True)\n",
    "agent = create_tool_calling_agent(llm, tools, prompt)\n",
    "agent_executor = AgentExecutor(agent=agent, tools=tools, verbose=True)"
   ]
  },
  {
   "cell_type": "markdown",
   "metadata": {},
   "source": [
    "# Testes"
   ]
  },
  {
   "cell_type": "code",
   "execution_count": 9,
   "metadata": {},
   "outputs": [],
   "source": [
    "# load_dotenv()\n",
    "\n",
    "# agent_executor.invoke(\n",
    "#     {\n",
    "#         \"input\": f\"Delete a tarefa 86a4q652d\"\n",
    "#     }\n",
    "# )"
   ]
  },
  {
   "cell_type": "code",
   "execution_count": 10,
   "metadata": {},
   "outputs": [],
   "source": [
    "# agent_executor.invoke(\n",
    "#     {\n",
    "#         \"input\": f\"Mude o a data da tarefa 86a4q63vx para 2024-09-30\"\n",
    "#     }\n",
    "# )"
   ]
  },
  {
   "cell_type": "code",
   "execution_count": 11,
   "metadata": {},
   "outputs": [],
   "source": [
    "# agent_executor.invoke(\n",
    "#     {\n",
    "#         \"input\": f\"Quais são os principais ids do ClickUp a que você tem acesso?\"\n",
    "#     }\n",
    "# )"
   ]
  },
  {
   "cell_type": "code",
   "execution_count": 12,
   "metadata": {},
   "outputs": [],
   "source": [
    "# Envie uma requisição GET ao endpoint /user\n",
    "response = requests.get('https://api.clickup.com/api/v2/user', headers=headers)"
   ]
  },
  {
   "cell_type": "code",
   "execution_count": 13,
   "metadata": {},
   "outputs": [
    {
     "data": {
      "text/plain": [
       "b'{\"user\":{\"id\":84141406,\"username\":\"Ana Beatriz\",\"email\":\"ti@cogmo.com.br\",\"color\":\"#455963\",\"profilePicture\":\"https://attachments.clickup.com/profilePictures/84141406_ZkZ.jpg\",\"initials\":\"AB\",\"week_start_day\":1,\"global_font_support\":true,\"timezone\":\"America/Sao_Paulo\"}}'"
      ]
     },
     "execution_count": 13,
     "metadata": {},
     "output_type": "execute_result"
    }
   ],
   "source": [
    "response.content"
   ]
  },
  {
   "cell_type": "code",
   "execution_count": null,
   "metadata": {},
   "outputs": [],
   "source": []
  }
 ],
 "metadata": {
  "kernelspec": {
   "display_name": "composio",
   "language": "python",
   "name": "python3"
  },
  "language_info": {
   "codemirror_mode": {
    "name": "ipython",
    "version": 3
   },
   "file_extension": ".py",
   "mimetype": "text/x-python",
   "name": "python",
   "nbconvert_exporter": "python",
   "pygments_lexer": "ipython3",
   "version": "3.11.9"
  }
 },
 "nbformat": 4,
 "nbformat_minor": 2
}
