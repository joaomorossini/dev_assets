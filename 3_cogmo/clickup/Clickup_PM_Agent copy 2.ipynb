{
 "cells": [
  {
   "cell_type": "code",
   "execution_count": 1,
   "metadata": {},
   "outputs": [
    {
     "name": "stderr",
     "output_type": "stream",
     "text": [
      "/Users/morossini/anaconda3/envs/composio/lib/python3.12/site-packages/paramiko/pkey.py:100: CryptographyDeprecationWarning: TripleDES has been moved to cryptography.hazmat.decrepit.ciphers.algorithms.TripleDES and will be removed from this module in 48.0.0.\n",
      "  \"cipher\": algorithms.TripleDES,\n",
      "/Users/morossini/anaconda3/envs/composio/lib/python3.12/site-packages/paramiko/transport.py:259: CryptographyDeprecationWarning: TripleDES has been moved to cryptography.hazmat.decrepit.ciphers.algorithms.TripleDES and will be removed from this module in 48.0.0.\n",
      "  \"class\": algorithms.TripleDES,\n"
     ]
    }
   ],
   "source": [
    "import os\n",
    "import yaml\n",
    "from langchain.agents import create_tool_calling_agent, AgentExecutor\n",
    "from langchain_openai import ChatOpenAI\n",
    "from langchain_core.prompts import ChatPromptTemplate\n",
    "from composio_langchain import ComposioToolSet, App\n",
    "from langchain.memory import ConversationBufferMemory\n",
    "from langchain.tools import StructuredTool\n",
    "from langchain_core.tools import ToolException\n",
    "from typing import List, Optional, Dict, Any\n",
    "import warnings\n",
    "\n",
    "warnings.filterwarnings(\"ignore\")"
   ]
  },
  {
   "cell_type": "code",
   "execution_count": 2,
   "metadata": {},
   "outputs": [],
   "source": [
    "class MyAgent:\n",
    "    def __init__(self, tools, custom_prompt: str = None):\n",
    "        self.llm = ChatOpenAI(\n",
    "            model=\"gpt-4o\",\n",
    "            api_key=os.getenv(\"OPENAI_API_KEY\"),\n",
    "        )\n",
    "        self.tools = tools\n",
    "        self.agent_memory = ConversationBufferMemory(memory_key=\"chat_history\", return_messages=True)\n",
    "        self.agent = create_tool_calling_agent(\n",
    "            llm=self.llm,\n",
    "            tools=self.enhance_agent_tools(tools),\n",
    "            prompt=ChatPromptTemplate.from_messages([\n",
    "                (\"system\", custom_prompt if custom_prompt else \"You are an experienced assistant. You are able to perform any task asked by the user through all the tools you have access to. Your goal is to complete the user's task by using the tools you have access to. This is a core instruction: ALWAYS ALWAYS ALWAYS USE A STRING AS ID\"),\n",
    "                (\"placeholder\", \"{chat_history}\"),\n",
    "                (\"human\", \"{input}\"),\n",
    "                (\"placeholder\", \"{agent_scratchpad}\"),\n",
    "            ]),\n",
    "        )\n",
    "        self.executor = AgentExecutor(agent=self.agent, tools=self.tools, memory=self.agent_memory, verbose=True)\n",
    "\n",
    "    def myinvoke(self, input: str):\n",
    "        result = self.executor.invoke({\"input\": input})\n",
    "        print(result)\n",
    "        print(\"\\n==================================================\")\n",
    "        print(\"--> Agent Response:\")\n",
    "        print(result['output'])\n",
    "        print(\"\\n==================================================\")\n",
    "\n",
    "    def try_except_tool(self, func):\n",
    "        try:\n",
    "            return func\n",
    "        except ToolException as e:\n",
    "            print(f\"Error: {e}\")\n",
    "\n",
    "    def enhance_agent_tools(self, agent_tools: List):\n",
    "        enhanced_agent_tools = [\n",
    "            StructuredTool(\n",
    "                name=tool.name,\n",
    "                description=tool.description,\n",
    "                args_schema=tool.args_schema,\n",
    "                func=self.try_except_tool(tool.func),\n",
    "                handle_tool_error=True,\n",
    "                handle_validation_error=True\n",
    "            ) for tool in agent_tools\n",
    "        ]\n",
    "        return enhanced_agent_tools"
   ]
  },
  {
   "cell_type": "code",
   "execution_count": 3,
   "metadata": {},
   "outputs": [
    {
     "ename": "KeyError",
     "evalue": "'null'",
     "output_type": "error",
     "traceback": [
      "\u001b[0;31m---------------------------------------------------------------------------\u001b[0m",
      "\u001b[0;31mKeyError\u001b[0m                                  Traceback (most recent call last)",
      "Cell \u001b[0;32mIn[3], line 2\u001b[0m\n\u001b[1;32m      1\u001b[0m composio_toolset \u001b[38;5;241m=\u001b[39m ComposioToolSet(api_key\u001b[38;5;241m=\u001b[39mos\u001b[38;5;241m.\u001b[39mgetenv(\u001b[38;5;124m'\u001b[39m\u001b[38;5;124mCOMPOSIO_API_KEY\u001b[39m\u001b[38;5;124m'\u001b[39m))\n\u001b[0;32m----> 2\u001b[0m agent_tools \u001b[38;5;241m=\u001b[39m \u001b[43mcomposio_toolset\u001b[49m\u001b[38;5;241;43m.\u001b[39;49m\u001b[43mget_tools\u001b[49m\u001b[43m(\u001b[49m\u001b[43mapps\u001b[49m\u001b[38;5;241;43m=\u001b[39;49m\u001b[43m[\u001b[49m\u001b[43mApp\u001b[49m\u001b[38;5;241;43m.\u001b[39;49m\u001b[43mCLICKUP\u001b[49m\u001b[43m]\u001b[49m\u001b[43m)\u001b[49m\n",
      "File \u001b[0;32m~/anaconda3/envs/composio/lib/python3.12/site-packages/composio_langchain/toolset.py:181\u001b[0m, in \u001b[0;36mComposioToolSet.get_tools\u001b[0;34m(self, apps, tags, entity_id)\u001b[0m\n\u001b[1;32m    165\u001b[0m \u001b[38;5;28;01mdef\u001b[39;00m \u001b[38;5;21mget_tools\u001b[39m(\n\u001b[1;32m    166\u001b[0m     \u001b[38;5;28mself\u001b[39m,\n\u001b[1;32m    167\u001b[0m     apps: t\u001b[38;5;241m.\u001b[39mSequence[AppType],\n\u001b[1;32m    168\u001b[0m     tags: t\u001b[38;5;241m.\u001b[39mOptional[t\u001b[38;5;241m.\u001b[39mList[TagType]] \u001b[38;5;241m=\u001b[39m \u001b[38;5;28;01mNone\u001b[39;00m,\n\u001b[1;32m    169\u001b[0m     entity_id: t\u001b[38;5;241m.\u001b[39mOptional[\u001b[38;5;28mstr\u001b[39m] \u001b[38;5;241m=\u001b[39m \u001b[38;5;28;01mNone\u001b[39;00m,\n\u001b[1;32m    170\u001b[0m ) \u001b[38;5;241m-\u001b[39m\u001b[38;5;241m>\u001b[39m t\u001b[38;5;241m.\u001b[39mSequence[StructuredTool]:\n\u001b[1;32m    171\u001b[0m \u001b[38;5;250m    \u001b[39m\u001b[38;5;124;03m\"\"\"\u001b[39;00m\n\u001b[1;32m    172\u001b[0m \u001b[38;5;124;03m    Get composio tools wrapped as Langchain StructuredTool objects.\u001b[39;00m\n\u001b[1;32m    173\u001b[0m \n\u001b[0;32m   (...)\u001b[0m\n\u001b[1;32m    177\u001b[0m \u001b[38;5;124;03m    :return: Composio tools wrapped as `StructuredTool` objects\u001b[39;00m\n\u001b[1;32m    178\u001b[0m \u001b[38;5;124;03m    \"\"\"\u001b[39;00m\n\u001b[1;32m    180\u001b[0m     \u001b[38;5;28;01mreturn\u001b[39;00m [\n\u001b[0;32m--> 181\u001b[0m         \u001b[38;5;28;43mself\u001b[39;49m\u001b[38;5;241;43m.\u001b[39;49m\u001b[43m_wrap_tool\u001b[49m\u001b[43m(\u001b[49m\n\u001b[1;32m    182\u001b[0m \u001b[43m            \u001b[49m\u001b[43mschema\u001b[49m\u001b[38;5;241;43m=\u001b[39;49m\u001b[43mtool\u001b[49m\u001b[38;5;241;43m.\u001b[39;49m\u001b[43mmodel_dump\u001b[49m\u001b[43m(\u001b[49m\u001b[43mexclude_none\u001b[49m\u001b[38;5;241;43m=\u001b[39;49m\u001b[38;5;28;43;01mTrue\u001b[39;49;00m\u001b[43m)\u001b[49m\u001b[43m,\u001b[49m\n\u001b[1;32m    183\u001b[0m \u001b[43m            \u001b[49m\u001b[43mentity_id\u001b[49m\u001b[38;5;241;43m=\u001b[39;49m\u001b[43mentity_id\u001b[49m\u001b[43m \u001b[49m\u001b[38;5;129;43;01mor\u001b[39;49;00m\u001b[43m \u001b[49m\u001b[38;5;28;43mself\u001b[39;49m\u001b[38;5;241;43m.\u001b[39;49m\u001b[43mentity_id\u001b[49m\u001b[43m,\u001b[49m\n\u001b[1;32m    184\u001b[0m \u001b[43m        \u001b[49m\u001b[43m)\u001b[49m\n\u001b[1;32m    185\u001b[0m         \u001b[38;5;28;01mfor\u001b[39;00m tool \u001b[38;5;129;01min\u001b[39;00m \u001b[38;5;28mself\u001b[39m\u001b[38;5;241m.\u001b[39mget_action_schemas(apps\u001b[38;5;241m=\u001b[39mapps, tags\u001b[38;5;241m=\u001b[39mtags)\n\u001b[1;32m    186\u001b[0m     ]\n",
      "File \u001b[0;32m~/anaconda3/envs/composio/lib/python3.12/site-packages/composio_langchain/toolset.py:126\u001b[0m, in \u001b[0;36mComposioToolSet._wrap_tool\u001b[0;34m(self, schema, entity_id)\u001b[0m\n\u001b[1;32m    123\u001b[0m description \u001b[38;5;241m=\u001b[39m schema[\u001b[38;5;124m\"\u001b[39m\u001b[38;5;124mdescription\u001b[39m\u001b[38;5;124m\"\u001b[39m]\n\u001b[1;32m    124\u001b[0m schema_params \u001b[38;5;241m=\u001b[39m schema[\u001b[38;5;124m\"\u001b[39m\u001b[38;5;124mparameters\u001b[39m\u001b[38;5;124m\"\u001b[39m]\n\u001b[0;32m--> 126\u001b[0m action_func \u001b[38;5;241m=\u001b[39m \u001b[38;5;28;43mself\u001b[39;49m\u001b[38;5;241;43m.\u001b[39;49m\u001b[43m_wrap_action\u001b[49m\u001b[43m(\u001b[49m\n\u001b[1;32m    127\u001b[0m \u001b[43m    \u001b[49m\u001b[43maction\u001b[49m\u001b[38;5;241;43m=\u001b[39;49m\u001b[43maction\u001b[49m\u001b[43m,\u001b[49m\n\u001b[1;32m    128\u001b[0m \u001b[43m    \u001b[49m\u001b[43mdescription\u001b[49m\u001b[38;5;241;43m=\u001b[39;49m\u001b[43mdescription\u001b[49m\u001b[43m,\u001b[49m\n\u001b[1;32m    129\u001b[0m \u001b[43m    \u001b[49m\u001b[43mschema_params\u001b[49m\u001b[38;5;241;43m=\u001b[39;49m\u001b[43mschema_params\u001b[49m\u001b[43m,\u001b[49m\n\u001b[1;32m    130\u001b[0m \u001b[43m    \u001b[49m\u001b[43mentity_id\u001b[49m\u001b[38;5;241;43m=\u001b[39;49m\u001b[43mentity_id\u001b[49m\u001b[43m,\u001b[49m\n\u001b[1;32m    131\u001b[0m \u001b[43m\u001b[49m\u001b[43m)\u001b[49m\n\u001b[1;32m    133\u001b[0m parameters \u001b[38;5;241m=\u001b[39m json_schema_to_model(\n\u001b[1;32m    134\u001b[0m     json_schema\u001b[38;5;241m=\u001b[39mschema_params,\n\u001b[1;32m    135\u001b[0m )\n\u001b[1;32m    136\u001b[0m \u001b[38;5;28;01mreturn\u001b[39;00m StructuredTool\u001b[38;5;241m.\u001b[39mfrom_function(\n\u001b[1;32m    137\u001b[0m     name\u001b[38;5;241m=\u001b[39maction,\n\u001b[1;32m    138\u001b[0m     description\u001b[38;5;241m=\u001b[39mdescription,\n\u001b[0;32m   (...)\u001b[0m\n\u001b[1;32m    141\u001b[0m     func\u001b[38;5;241m=\u001b[39maction_func,\n\u001b[1;32m    142\u001b[0m )\n",
      "File \u001b[0;32m~/anaconda3/envs/composio/lib/python3.12/site-packages/composio_langchain/toolset.py:107\u001b[0m, in \u001b[0;36mComposioToolSet._wrap_action\u001b[0;34m(self, action, description, schema_params, entity_id)\u001b[0m\n\u001b[1;32m     94\u001b[0m     \u001b[38;5;28;01mreturn\u001b[39;00m \u001b[38;5;28mself\u001b[39m\u001b[38;5;241m.\u001b[39mexecute_action(\n\u001b[1;32m     95\u001b[0m         action\u001b[38;5;241m=\u001b[39mAction(value\u001b[38;5;241m=\u001b[39maction),\n\u001b[1;32m     96\u001b[0m         params\u001b[38;5;241m=\u001b[39mkwargs,\n\u001b[1;32m     97\u001b[0m         entity_id\u001b[38;5;241m=\u001b[39mentity_id \u001b[38;5;129;01mor\u001b[39;00m \u001b[38;5;28mself\u001b[39m\u001b[38;5;241m.\u001b[39mentity_id,\n\u001b[1;32m     98\u001b[0m     )\n\u001b[1;32m    100\u001b[0m action_func \u001b[38;5;241m=\u001b[39m types\u001b[38;5;241m.\u001b[39mFunctionType(\n\u001b[1;32m    101\u001b[0m     function\u001b[38;5;241m.\u001b[39m\u001b[38;5;18m__code__\u001b[39m,\n\u001b[1;32m    102\u001b[0m     \u001b[38;5;28mglobals\u001b[39m\u001b[38;5;241m=\u001b[39m\u001b[38;5;28mglobals\u001b[39m(),\n\u001b[1;32m    103\u001b[0m     name\u001b[38;5;241m=\u001b[39maction,\n\u001b[1;32m    104\u001b[0m     closure\u001b[38;5;241m=\u001b[39mfunction\u001b[38;5;241m.\u001b[39m\u001b[38;5;18m__closure__\u001b[39m,\n\u001b[1;32m    105\u001b[0m )\n\u001b[1;32m    106\u001b[0m action_func\u001b[38;5;241m.\u001b[39m__signature__ \u001b[38;5;241m=\u001b[39m Signature(  \u001b[38;5;66;03m# type: ignore\u001b[39;00m\n\u001b[0;32m--> 107\u001b[0m     parameters\u001b[38;5;241m=\u001b[39m\u001b[43mget_signature_format_from_schema_params\u001b[49m\u001b[43m(\u001b[49m\n\u001b[1;32m    108\u001b[0m \u001b[43m        \u001b[49m\u001b[43mschema_params\u001b[49m\u001b[38;5;241;43m=\u001b[39;49m\u001b[43mschema_params\u001b[49m\n\u001b[1;32m    109\u001b[0m \u001b[43m    \u001b[49m\u001b[43m)\u001b[49m\n\u001b[1;32m    110\u001b[0m )\n\u001b[1;32m    112\u001b[0m action_func\u001b[38;5;241m.\u001b[39m\u001b[38;5;18m__doc__\u001b[39m \u001b[38;5;241m=\u001b[39m description\n\u001b[1;32m    114\u001b[0m \u001b[38;5;28;01mreturn\u001b[39;00m action_func\n",
      "File \u001b[0;32m~/anaconda3/envs/composio/lib/python3.12/site-packages/composio/utils/shared.py:285\u001b[0m, in \u001b[0;36mget_signature_format_from_schema_params\u001b[0;34m(schema_params)\u001b[0m\n\u001b[1;32m    283\u001b[0m \u001b[38;5;28;01melif\u001b[39;00m param_type \u001b[38;5;129;01min\u001b[39;00m PYDANTIC_TYPE_TO_PYTHON_TYPE:\n\u001b[1;32m    284\u001b[0m     signature_param_type \u001b[38;5;241m=\u001b[39m PYDANTIC_TYPE_TO_PYTHON_TYPE[param_type]\n\u001b[0;32m--> 285\u001b[0m     param_default \u001b[38;5;241m=\u001b[39m param_schema\u001b[38;5;241m.\u001b[39mget(\u001b[38;5;124m\"\u001b[39m\u001b[38;5;124mdefault\u001b[39m\u001b[38;5;124m\"\u001b[39m, \u001b[43mFALLBACK_VALUES\u001b[49m\u001b[43m[\u001b[49m\u001b[43mparam_type\u001b[49m\u001b[43m]\u001b[49m)\n\u001b[1;32m    286\u001b[0m \u001b[38;5;28;01melse\u001b[39;00m:\n\u001b[1;32m    287\u001b[0m     signature_param_type \u001b[38;5;241m=\u001b[39m pydantic_model_from_param_schema(param_schema)\n",
      "\u001b[0;31mKeyError\u001b[0m: 'null'"
     ]
    }
   ],
   "source": [
    "composio_toolset = ComposioToolSet(api_key=os.getenv('COMPOSIO_API_KEY'))\n",
    "agent_tools = composio_toolset.get_tools(apps=[App.CLICKUP])"
   ]
  },
  {
   "cell_type": "code",
   "execution_count": null,
   "metadata": {},
   "outputs": [],
   "source": [
    "for i, tool in enumerate(agent_tools):\n",
    "    print(f\"{tool.name.upper},\")"
   ]
  },
  {
   "cell_type": "code",
   "execution_count": null,
   "metadata": {},
   "outputs": [],
   "source": [
    "print(f\"Tool name: {agent_tools[61].name}\\n\")\n",
    "print(\"Function details:\")\n",
    "agent_tools[61].func"
   ]
  },
  {
   "cell_type": "code",
   "execution_count": null,
   "metadata": {},
   "outputs": [],
   "source": [
    "agent = MyAgent(tools=agent_tools)"
   ]
  },
  {
   "cell_type": "code",
   "execution_count": null,
   "metadata": {},
   "outputs": [],
   "source": [
    "agent.myinvoke(\"Retrieve the name of my clickup workspace\")"
   ]
  },
  {
   "cell_type": "code",
   "execution_count": null,
   "metadata": {},
   "outputs": [],
   "source": [
    "clickup_team_id=\"12927880\""
   ]
  },
  {
   "cell_type": "code",
   "execution_count": null,
   "metadata": {},
   "outputs": [],
   "source": [
    "agent.myinvoke(f\"Which tools do you have for working with Clickup spaces?\")"
   ]
  },
  {
   "cell_type": "code",
   "execution_count": null,
   "metadata": {},
   "outputs": [],
   "source": [
    "agent.myinvoke(f\"Use 'clickup_spaces_get_space_details' with the following team_id to view available Spaces in my Workspace. team_id: {clickup_team_id}\")"
   ]
  },
  {
   "cell_type": "code",
   "execution_count": null,
   "metadata": {},
   "outputs": [],
   "source": [
    "agent.myinvoke(\"Use 'clickup_spaces_get_space_details' with the following team_id to view available Spaces in my Workspace. team_id:'12927880'. You MUST pass the team_id as an integer, NOT as a float or as a string\")"
   ]
  },
  {
   "cell_type": "code",
   "execution_count": null,
   "metadata": {},
   "outputs": [],
   "source": [
    "agent.myinvoke(\"What can you tell me about my Clickup space of 54804921?\")"
   ]
  },
  {
   "cell_type": "code",
   "execution_count": null,
   "metadata": {},
   "outputs": [],
   "source": [
    "agent.myinvoke(\"Can you give me a list of Spaces in my clickup workspace?\")"
   ]
  },
  {
   "cell_type": "code",
   "execution_count": null,
   "metadata": {},
   "outputs": [],
   "source": [
    "agent.myinvoke(\"Retrieve a list of members in my workspace\")"
   ]
  },
  {
   "cell_type": "code",
   "execution_count": null,
   "metadata": {},
   "outputs": [],
   "source": [
    "agent_tools[50]"
   ]
  },
  {
   "cell_type": "code",
   "execution_count": null,
   "metadata": {},
   "outputs": [],
   "source": [
    "agent_tools[0].func"
   ]
  },
  {
   "cell_type": "code",
   "execution_count": null,
   "metadata": {},
   "outputs": [],
   "source": [
    "type(agent_tools)"
   ]
  },
  {
   "cell_type": "code",
   "execution_count": null,
   "metadata": {},
   "outputs": [],
   "source": [
    "for i, tool in enumerate(agent_tools):\n",
    "    if \"clickup_lists_get_list_details\" in tool.name:\n",
    "        pprint(f\"{i}: {tool}\")"
   ]
  },
  {
   "cell_type": "code",
   "execution_count": null,
   "metadata": {},
   "outputs": [],
   "source": [
    "import inspect\n",
    "from pprint import pprint\n",
    "\n",
    "# Retrieve the Pydantic model class for the tool at index 51\n",
    "model_class = agent_tools[51].args_schema\n",
    "try:\n",
    "    # Attempt to print the source code of the Pydantic model class\n",
    "    source_code = inspect.getsource(model_class)\n",
    "    pprint(source_code)\n",
    "except OSError:\n",
    "    # Handle the case where the source code cannot be found\n",
    "    pprint(f\"Could not find the source code for the class {model_class.__name__}\")"
   ]
  },
  {
   "cell_type": "code",
   "execution_count": null,
   "metadata": {},
   "outputs": [],
   "source": []
  },
  {
   "cell_type": "code",
   "execution_count": null,
   "metadata": {},
   "outputs": [],
   "source": [
    "agent_tools[51].func"
   ]
  },
  {
   "cell_type": "code",
   "execution_count": null,
   "metadata": {},
   "outputs": [],
   "source": []
  },
  {
   "cell_type": "code",
   "execution_count": null,
   "metadata": {},
   "outputs": [],
   "source": [
    "import inspect\n",
    "from pprint import pprint\n",
    "\n",
    "function = inspect.getsource(agent_tools[60].func)\n",
    "pprint(function)"
   ]
  },
  {
   "cell_type": "code",
   "execution_count": null,
   "metadata": {},
   "outputs": [],
   "source": [
    "from composio_langchain.toolset import ComposioToolSet\n",
    "\n",
    "composio_toolset = ComposioToolSet(api_key=os.getenv('COMPOSIO_API_KEY'))\n",
    "composio_toolset"
   ]
  },
  {
   "cell_type": "code",
   "execution_count": null,
   "metadata": {},
   "outputs": [],
   "source": [
    "dir(composio_toolset)"
   ]
  },
  {
   "cell_type": "code",
   "execution_count": null,
   "metadata": {},
   "outputs": [],
   "source": []
  }
 ],
 "metadata": {
  "kernelspec": {
   "display_name": "composio",
   "language": "python",
   "name": "python3"
  },
  "language_info": {
   "codemirror_mode": {
    "name": "ipython",
    "version": 3
   },
   "file_extension": ".py",
   "mimetype": "text/x-python",
   "name": "python",
   "nbconvert_exporter": "python",
   "pygments_lexer": "ipython3",
   "version": "3.12.4"
  }
 },
 "nbformat": 4,
 "nbformat_minor": 2
}
