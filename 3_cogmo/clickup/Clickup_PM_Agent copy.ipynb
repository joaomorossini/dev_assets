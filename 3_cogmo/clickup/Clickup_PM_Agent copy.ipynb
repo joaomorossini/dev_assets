{
 "cells": [
  {
   "cell_type": "code",
   "execution_count": 3,
   "metadata": {},
   "outputs": [],
   "source": [
    "import os\n",
    "import yaml\n",
    "from langchain.agents import create_tool_calling_agent, AgentExecutor\n",
    "from langchain_openai import ChatOpenAI\n",
    "from langchain_core.prompts import ChatPromptTemplate\n",
    "from composio_langchain import ComposioToolSet, App\n",
    "from langchain.memory import ConversationBufferMemory\n",
    "from langchain.tools import StructuredTool\n",
    "from langchain_core.tools import ToolException\n",
    "from typing import List, Optional, Dict, Any\n",
    "import warnings\n",
    "\n",
    "warnings.filterwarnings(\"ignore\")"
   ]
  },
  {
   "cell_type": "code",
   "execution_count": 4,
   "metadata": {},
   "outputs": [],
   "source": [
    "class MyAgent:\n",
    "    def __init__(self, tools, custom_prompt: str = None):\n",
    "        self.llm = ChatOpenAI(\n",
    "            model=\"gpt-4o\",\n",
    "            api_key=os.getenv(\"OPENAI_API_KEY\"),\n",
    "        )\n",
    "        self.tools = tools\n",
    "        self.agent_memory = ConversationBufferMemory(memory_key=\"chat_history\", return_messages=True)\n",
    "        self.agent = create_tool_calling_agent(\n",
    "            llm=self.llm,\n",
    "            tools=self.enhace_agent_tools(tools),\n",
    "            prompt=ChatPromptTemplate.from_messages([\n",
    "                (\"system\", custom_prompt if custom_prompt else \"You are an experienced assistant. You are able to perform any task asked by the user through all the tools you have access to. Your goal is to complete the user's task by using the tools you have access to.\"),\n",
    "                (\"placeholder\", \"{chat_history}\"),\n",
    "                (\"human\", \"{input}\"),\n",
    "                (\"placeholder\", \"{agent_scratchpad}\"),\n",
    "            ]),\n",
    "        )\n",
    "        self.executor = AgentExecutor(agent=self.agent, tools=self.tools, memory=self.agent_memory, verbose=True)\n",
    "\n",
    "    def myinvoke(self, input: str):\n",
    "        result = self.executor.invoke({\"input\": input})\n",
    "        print(result)\n",
    "        print(\"\\n==================================================\")\n",
    "        print(\"--> Agent Response:\")\n",
    "        print(result['output'])\n",
    "        print(\"\\n==================================================\")\n",
    "\n",
    "    def try_except_tool(self, func):\n",
    "        try:\n",
    "            return func\n",
    "        except ToolException as e:\n",
    "            print(f\"Error: {e}\")\n",
    "\n",
    "    def enhace_agent_tools(self, agent_tools: List):\n",
    "        enhanced_agent_tools = [\n",
    "            StructuredTool(\n",
    "                name=tool.name,\n",
    "                description=tool.description,\n",
    "                args_schema=tool.args_schema,\n",
    "                func=self.try_except_tool(tool.func),\n",
    "                handle_tool_error=True,\n",
    "                handle_validation_error=True\n",
    "            ) for tool in agent_tools\n",
    "        ]\n",
    "        return enhanced_agent_tools"
   ]
  },
  {
   "cell_type": "code",
   "execution_count": 5,
   "metadata": {},
   "outputs": [],
   "source": [
    "composio_toolset = ComposioToolSet(api_key=os.getenv('COMPOSIO_API_KEY'))\n",
    "agent_tools = composio_toolset.get_tools(apps=[App.CLICKUP])"
   ]
  },
  {
   "cell_type": "code",
   "execution_count": 6,
   "metadata": {},
   "outputs": [
    {
     "data": {
      "text/plain": [
       "[StructuredTool(name='clickup_attachments_upload_file_to_task_as_attachment', description='Upload a file to a task as an attachment.  ***Note:** This request uses multipart/form-data as the content type.*', args_schema=<class 'pydantic.v1.main.attachments_upload_file_to_task_as_attachmentRequest'>, func=<function ComposioToolSet._wrap_action.<locals>.function at 0x12292eb60>),\n",
       " StructuredTool(name='clickup_authorization_get_access_token', description=\"These are the routes for authing the API and going through the [OAuth flow](https://clickup.com/api). Applications utilizing a personal API token don't use this endpoint. ***Note:** OAuth tokens are not supported when using the [**Try It** feature](https://clickup.com/api) of our Reference docs. You can't try this endpoint from your web browser.*\", args_schema=<class 'pydantic.v1.main.authorization_get_access_tokenRequest'>, func=<function ComposioToolSet._wrap_action.<locals>.function at 0x12292fc40>),\n",
       " StructuredTool(name='clickup_authorization_view_account_details', description=\"View the details of the authenticated user's ClickUp account.\", args_schema=<class 'pydantic.v1.main.authorization_view_account_detailsRequest'>, func=<function ComposioToolSet._wrap_action.<locals>.function at 0x12292c2c0>),\n",
       " StructuredTool(name='clickup_authorization_get_work_space_list', description='View the Workspaces available to the authenticated user.', args_schema=<class 'pydantic.v1.main.authorization_get_work_space_listRequest'>, func=<function ComposioToolSet._wrap_action.<locals>.function at 0x12292fb00>),\n",
       " StructuredTool(name='clickup_task_checklists_create_new_checklist', description='Add a new checklist to a task.', args_schema=<class 'pydantic.v1.main.task_checklists_create_new_checklistRequest'>, func=<function ComposioToolSet._wrap_action.<locals>.function at 0x12292c0e0>),\n",
       " StructuredTool(name='clickup_task_checklists_update_checklist', description='Rename a task checklist, or reorder a checklist so it appears above or below other checklists on a task.', args_schema=<class 'pydantic.v1.main.task_checklists_update_checklistRequest'>, func=<function ComposioToolSet._wrap_action.<locals>.function at 0x1229b54e0>),\n",
       " StructuredTool(name='clickup_task_checklists_remove_checklist', description='Delete a checklist from a task.', args_schema=<class 'pydantic.v1.main.task_checklists_remove_checklistRequest'>, func=<function ComposioToolSet._wrap_action.<locals>.function at 0x1229b5620>),\n",
       " StructuredTool(name='clickup_task_checklists_add_line_item', description='Add a line item to a task checklist.', args_schema=<class 'pydantic.v1.main.task_checklists_add_line_itemRequest'>, func=<function ComposioToolSet._wrap_action.<locals>.function at 0x1229b58a0>),\n",
       " StructuredTool(name='clickup_task_checklists_update_checklist_item', description='Update an individual line item in a task checklist.  You can rename it, set the assignee, mark it as resolved, or nest it under another checklist item.', args_schema=<class 'pydantic.v1.main.task_checklists_update_checklist_itemRequest'>, func=<function ComposioToolSet._wrap_action.<locals>.function at 0x1229b4400>),\n",
       " StructuredTool(name='clickup_task_checklists_remove_checklist_item', description='Delete a line item from a task checklist.', args_schema=<class 'pydantic.v1.main.task_checklists_remove_checklist_itemRequest'>, func=<function ComposioToolSet._wrap_action.<locals>.function at 0x1229b67a0>),\n",
       " StructuredTool(name='clickup_comments_get_task_comments', description='View task comments.  If you do not include the `start` and `start_id` parameters, this endpoint will return the most recent 25 comments. Use the `start` and `start id` parameters of the oldest comment to retrieve the next 25 comments.', args_schema=<class 'pydantic.v1.main.comments_get_task_commentsRequest'>, func=<function ComposioToolSet._wrap_action.<locals>.function at 0x12292f740>),\n",
       " StructuredTool(name='clickup_comments_create_new_task_comment', description='Add a new comment to a task.', args_schema=<class 'pydantic.v1.main.comments_create_new_task_commentRequest'>, func=<function ComposioToolSet._wrap_action.<locals>.function at 0x1229b5ee0>),\n",
       " StructuredTool(name='clickup_comments_get_view_comments', description='View comments from a Chat view.  If you do not include the `start` and `start_id` parameters, this endpoint will return the most recent 25 comments. Use the `start` and `start id` parameters of the oldest comment to retrieve the next 25 comments.', args_schema=<class 'pydantic.v1.main.comments_get_view_commentsRequest'>, func=<function ComposioToolSet._wrap_action.<locals>.function at 0x1229b6c00>),\n",
       " StructuredTool(name='clickup_comments_create_chat_view_comment', description='Add a new comment to a Chat view.', args_schema=<class 'pydantic.v1.main.comments_create_chat_view_commentRequest'>, func=<function ComposioToolSet._wrap_action.<locals>.function at 0x1229b5e40>),\n",
       " StructuredTool(name='clickup_comments_get_list_comments', description='View the comments added to a List.  If you do not include the `start` and `start_id` parameters, this endpoint will return the most recent 25 comments. Use the `start` and `start id` parameters of the oldest comment to retrieve the next 25 comments.', args_schema=<class 'pydantic.v1.main.comments_get_list_commentsRequest'>, func=<function ComposioToolSet._wrap_action.<locals>.function at 0x1229b4f40>),\n",
       " StructuredTool(name='clickup_comments_add_to_list_comment', description='Add a comment to a List.', args_schema=<class 'pydantic.v1.main.comments_add_to_list_commentRequest'>, func=<function ComposioToolSet._wrap_action.<locals>.function at 0x1229b6700>),\n",
       " StructuredTool(name='clickup_comments_update_task_comment', description='Replace the content of a task commment, assign a comment, and mark a comment as resolved.', args_schema=<class 'pydantic.v1.main.comments_update_task_commentRequest'>, func=<function ComposioToolSet._wrap_action.<locals>.function at 0x1229b47c0>),\n",
       " StructuredTool(name='clickup_comments_delete_task_comment', description='Delete a task comment.', args_schema=<class 'pydantic.v1.main.comments_delete_task_commentRequest'>, func=<function ComposioToolSet._wrap_action.<locals>.function at 0x1229b4720>),\n",
       " StructuredTool(name='clickup_custom_fields_get_list_fields', description='View the Custom Fields available on tasks in a specific List.', args_schema=<class 'pydantic.v1.main.custom_fields_get_list_fieldsRequest'>, func=<function ComposioToolSet._wrap_action.<locals>.function at 0x1229b6a20>),\n",
       " StructuredTool(name='clickup_custom_fields_remove_field_value', description='Remove the data from a Custom Field on a task. This does not delete the option from the Custom Field.', args_schema=<class 'pydantic.v1.main.custom_fields_remove_field_valueRequest'>, func=<function ComposioToolSet._wrap_action.<locals>.function at 0x1229b4e00>),\n",
       " StructuredTool(name='clickup_task_relationships_add_dependency', description='Set a task as waiting on or blocking another task.', args_schema=<class 'pydantic.v1.main.task_relationships_add_dependencyRequest'>, func=<function ComposioToolSet._wrap_action.<locals>.function at 0x1229b6de0>),\n",
       " StructuredTool(name='clickup_task_relationships_remove_dependency', description='Remove the dependency relationship between two or more tasks.', args_schema=<class 'pydantic.v1.main.task_relationships_remove_dependencyRequest'>, func=<function ComposioToolSet._wrap_action.<locals>.function at 0x1229b71a0>),\n",
       " StructuredTool(name='clickup_task_relationships_link_tasks', description='Link two tasks together.', args_schema=<class 'pydantic.v1.main.task_relationships_link_tasksRequest'>, func=<function ComposioToolSet._wrap_action.<locals>.function at 0x1229b7560>),\n",
       " StructuredTool(name='clickup_task_relationships_remove_link_between_tasks', description='Remove the link between two tasks.', args_schema=<class 'pydantic.v1.main.task_relationships_remove_link_between_tasksRequest'>, func=<function ComposioToolSet._wrap_action.<locals>.function at 0x1229b7880>),\n",
       " StructuredTool(name='clickup_folders_get_contents_of', description='View the Folders in a Space.', args_schema=<class 'pydantic.v1.main.folders_get_contents_ofRequest'>, func=<function ComposioToolSet._wrap_action.<locals>.function at 0x1229b7ba0>),\n",
       " StructuredTool(name='clickup_folders_create_new_folder', description='Add a new Folder to a Space.', args_schema=<class 'pydantic.v1.main.folders_create_new_folderRequest'>, func=<function ComposioToolSet._wrap_action.<locals>.function at 0x1229b7d80>),\n",
       " StructuredTool(name='clickup_folders_get_folder_content', description='View the Lists within a Folder.', args_schema=<class 'pydantic.v1.main.folders_get_folder_contentRequest'>, func=<function ComposioToolSet._wrap_action.<locals>.function at 0x1229b7f60>),\n",
       " StructuredTool(name='clickup_folders_rename_folder', description='Rename a Folder.', args_schema=<class 'pydantic.v1.main.folders_rename_folderRequest'>, func=<function ComposioToolSet._wrap_action.<locals>.function at 0x122c30040>),\n",
       " StructuredTool(name='clickup_folders_remove_folder', description='Delete a Folder from your Workspace.', args_schema=<class 'pydantic.v1.main.folders_remove_folderRequest'>, func=<function ComposioToolSet._wrap_action.<locals>.function at 0x122c302c0>),\n",
       " StructuredTool(name='clickup_goals_get_work_space_goals', description='View the Goals available in a Workspace.', args_schema=<class 'pydantic.v1.main.goals_get_work_space_goalsRequest'>, func=<function ComposioToolSet._wrap_action.<locals>.function at 0x122c30400>),\n",
       " StructuredTool(name='clickup_goals_add_new_goal_to_work_space', description='Add a new Goal to a Workspace.', args_schema=<class 'pydantic.v1.main.goals_add_new_goal_to_work_spaceRequest'>, func=<function ComposioToolSet._wrap_action.<locals>.function at 0x122c305e0>),\n",
       " StructuredTool(name='clickup_goals_get_details', description='View the details of a Goal including its Targets.', args_schema=<class 'pydantic.v1.main.goals_get_detailsRequest'>, func=<function ComposioToolSet._wrap_action.<locals>.function at 0x122c30ae0>),\n",
       " StructuredTool(name='clickup_goals_update_goal_details', description='Rename a Goal, set the due date, replace the description, add or remove owners, and set the Goal color.', args_schema=<class 'pydantic.v1.main.goals_update_goal_detailsRequest'>, func=<function ComposioToolSet._wrap_action.<locals>.function at 0x122c30c20>),\n",
       " StructuredTool(name='clickup_goals_remove_goal', description='Remove a Goal from your Workspace.', args_schema=<class 'pydantic.v1.main.goals_remove_goalRequest'>, func=<function ComposioToolSet._wrap_action.<locals>.function at 0x12292d440>),\n",
       " StructuredTool(name='clickup_goals_add_key_result', description='Add a Target to a Goal.', args_schema=<class 'pydantic.v1.main.goals_add_key_resultRequest'>, func=<function ComposioToolSet._wrap_action.<locals>.function at 0x12292c180>),\n",
       " StructuredTool(name='clickup_goals_update_key_result', description='Update a Target.', args_schema=<class 'pydantic.v1.main.goals_update_key_resultRequest'>, func=<function ComposioToolSet._wrap_action.<locals>.function at 0x12292e160>),\n",
       " StructuredTool(name='clickup_goals_remove_target', description='Delete a target from a Goal.', args_schema=<class 'pydantic.v1.main.goals_remove_targetRequest'>, func=<function ComposioToolSet._wrap_action.<locals>.function at 0x12292e480>),\n",
       " StructuredTool(name='clickup_guests_invite_to_work_space', description=\"Invite a guest to join a Workspace. To invite a member to your Workspace, use the [Invite User to Workspace](https://clickup.com/api/clickupreference/operation/InviteUserToWorkspace/) endpoint.  You'll also need to grant the guest access to specific items using the following endpoints: [Add Guest to Folder](clickupreference/operation/AddGuestToFolder/), [Add Guest to List](clickupreference/operation/AddGuestToList/), or [Add Guest to Task](clickupreference/operation/AddGuestToTask/).  ***Note:** This endpoint is only available to Workspaces on our [Enterprise Plan](https://clickup.com/pricing).*\", args_schema=<class 'pydantic.v1.main.guests_invite_to_work_spaceRequest'>, func=<function ComposioToolSet._wrap_action.<locals>.function at 0x12292c860>),\n",
       " StructuredTool(name='clickup_guests_get_guest_information', description='View information about a guest.  ***Note:** This endpoint is only available to Workspaces on our [Enterprise Plan](https://clickup.com/pricing).*', args_schema=<class 'pydantic.v1.main.guests_get_guest_informationRequest'>, func=<function ComposioToolSet._wrap_action.<locals>.function at 0x12292f560>),\n",
       " StructuredTool(name='clickup_guests_edit_guest_on_work_space', description='Rename and configure options for a guest.  ***Note:** This endpoint is only available to Workspaces on our [Enterprise Plan](https://clickup.com/pricing).*', args_schema=<class 'pydantic.v1.main.guests_edit_guest_on_work_spaceRequest'>, func=<function ComposioToolSet._wrap_action.<locals>.function at 0x12292f9c0>),\n",
       " StructuredTool(name='clickup_guests_revoke_guest_access_to_work_space', description=\"Revoke a guest's access to a Workspace.  ***Note:** This endpoint is only available to Workspaces on our [Enterprise Plan](https://clickup.com/pricing).*\", args_schema=<class 'pydantic.v1.main.guests_revoke_guest_access_to_work_spaceRequest'>, func=<function ComposioToolSet._wrap_action.<locals>.function at 0x1229b4ae0>),\n",
       " StructuredTool(name='clickup_guests_add_to_task', description='Share a task with a guest.  ***Note:** This endpoint is only available to Workspaces on our [Enterprise Plan](https://clickup.com/pricing).*', args_schema=<class 'pydantic.v1.main.guests_add_to_taskRequest'>, func=<function ComposioToolSet._wrap_action.<locals>.function at 0x1229b40e0>),\n",
       " StructuredTool(name='clickup_guests_revoke_access_to_task', description=\"Revoke a guest's access to a task.  ***Note:** This endpoint is only available to Workspaces on our [Enterprise Plan](https://clickup.com/pricing).*\", args_schema=<class 'pydantic.v1.main.guests_revoke_access_to_taskRequest'>, func=<function ComposioToolSet._wrap_action.<locals>.function at 0x12237c040>),\n",
       " StructuredTool(name='clickup_guests_share_list_with', description='Share a List with a guest.  ***Note:** This endpoint is only available to Workspaces on our [Enterprise Plan](https://clickup.com/pricing).*', args_schema=<class 'pydantic.v1.main.guests_share_list_withRequest'>, func=<function ComposioToolSet._wrap_action.<locals>.function at 0x122c30f40>),\n",
       " StructuredTool(name='clickup_guests_remove_from_list', description=\"Revoke a guest's access to a List. ***Note:** This endpoint is only available to Workspaces on our [Enterprise Plan](https://clickup.com/pricing).*\", args_schema=<class 'pydantic.v1.main.guests_remove_from_listRequest'>, func=<function ComposioToolSet._wrap_action.<locals>.function at 0x122c31260>),\n",
       " StructuredTool(name='clickup_guests_add_guest_to_folder', description='Share a Folder with a guest.  ***Note:** This endpoint is only available to Workspaces on our [Enterprise Plan](https://clickup.com/pricing).*', args_schema=<class 'pydantic.v1.main.guests_add_guest_to_folderRequest'>, func=<function ComposioToolSet._wrap_action.<locals>.function at 0x122c314e0>),\n",
       " StructuredTool(name='clickup_guests_revoke_access_from_folder', description=\"Revoke a guest's access to a Folder.  ***Note:** This endpoint is only available to Workspaces on our [Enterprise Plan](https://clickup.com/pricing).*\", args_schema=<class 'pydantic.v1.main.guests_revoke_access_from_folderRequest'>, func=<function ComposioToolSet._wrap_action.<locals>.function at 0x122c31800>),\n",
       " StructuredTool(name='clickup_lists_get_folder_lists', description='View the Lists within a Folder.', args_schema=<class 'pydantic.v1.main.lists_get_folder_listsRequest'>, func=<function ComposioToolSet._wrap_action.<locals>.function at 0x122c31a80>),\n",
       " StructuredTool(name='clickup_lists_add_to_folder', description='Add a new List to a Folder.', args_schema=<class 'pydantic.v1.main.lists_add_to_folderRequest'>, func=<function ComposioToolSet._wrap_action.<locals>.function at 0x122c31c60>),\n",
       " StructuredTool(name='clickup_lists_get_folder_less', description=\"View the Lists in a Space that aren't located in a Folder.\", args_schema=<class 'pydantic.v1.main.lists_get_folder_lessRequest'>, func=<function ComposioToolSet._wrap_action.<locals>.function at 0x122c32200>),\n",
       " StructuredTool(name='clickup_lists_create_folder_less_list', description='Add a new List in a Space.', args_schema=<class 'pydantic.v1.main.lists_create_folder_less_listRequest'>, func=<function ComposioToolSet._wrap_action.<locals>.function at 0x122c323e0>),\n",
       " StructuredTool(name='clickup_lists_get_list_details', description='View information about a List.', args_schema=<class 'pydantic.v1.main.lists_get_list_detailsRequest'>, func=<function ComposioToolSet._wrap_action.<locals>.function at 0x122c32980>),\n",
       " StructuredTool(name='clickup_lists_update_list_info_due_date_priority_assign_ee_color', description=\"Rename a List, update the List Info description, set a due date/time, set the List's priority, set an assignee, set or remove the List color.\", args_schema=<class 'pydantic.v1.main.lists_update_list_info_due_date_priority_assign_ee_colorRequest'>, func=<function ComposioToolSet._wrap_action.<locals>.function at 0x122c32ac0>),\n",
       " StructuredTool(name='clickup_lists_remove_list', description='Delete a List from your Workspace.', args_schema=<class 'pydantic.v1.main.lists_remove_listRequest'>, func=<function ComposioToolSet._wrap_action.<locals>.function at 0x122c33100>),\n",
       " StructuredTool(name='clickup_lists_add_task_to_list', description='Add a task to an additional List.  ***Note:** This endpoint requires the [Tasks in Multiple List ClickApp](https://help.clickup.com/hc/en-us/articles/6309958824727-Tasks-in-Multiple-Lists) to be enabled.*', args_schema=<class 'pydantic.v1.main.lists_add_task_to_listRequest'>, func=<function ComposioToolSet._wrap_action.<locals>.function at 0x122c33240>),\n",
       " StructuredTool(name='clickup_lists_remove_task_from_list', description=\"Remove a task from an additional List. You can't remove a task from its home List.  ***Note:** This endpoint requires the [Tasks in Multiple List ClickApp](https://help.clickup.com/hc/en-us/articles/6309958824727-Tasks-in-Multiple-Lists) to be enabled.*\", args_schema=<class 'pydantic.v1.main.lists_remove_task_from_listRequest'>, func=<function ComposioToolSet._wrap_action.<locals>.function at 0x122c33420>),\n",
       " StructuredTool(name='clickup_members_get_task_access', description='View the people who have access to a task.', args_schema=<class 'pydantic.v1.main.members_get_task_accessRequest'>, func=<function ComposioToolSet._wrap_action.<locals>.function at 0x122c33600>),\n",
       " StructuredTool(name='clickup_members_get_list_users', description='View the people who have access to a List.', args_schema=<class 'pydantic.v1.main.members_get_list_usersRequest'>, func=<function ComposioToolSet._wrap_action.<locals>.function at 0x122c33740>),\n",
       " StructuredTool(name='clickup_roles_list_available_custom_roles', description='View the Custom Roles available in a Workspace.', args_schema=<class 'pydantic.v1.main.roles_list_available_custom_rolesRequest'>, func=<function ComposioToolSet._wrap_action.<locals>.function at 0x122c33880>),\n",
       " StructuredTool(name='clickup_shared_hierarchy_view_tasks_lists_folders', description='View the tasks, Lists, and Folders that have been shared with the authenticated user.', args_schema=<class 'pydantic.v1.main.shared_hierarchy_view_tasks_lists_foldersRequest'>, func=<function ComposioToolSet._wrap_action.<locals>.function at 0x122c33a60>),\n",
       " StructuredTool(name='clickup_spaces_get_space_details', description='View the Spaces avialable in a Workspace. You can only get member info in private Spaces.', args_schema=<class 'pydantic.v1.main.spaces_get_space_detailsRequest'>, func=<function ComposioToolSet._wrap_action.<locals>.function at 0x122c33ba0>),\n",
       " StructuredTool(name='clickup_spaces_add_new_space_to_work_space', description='Add a new Space to a Workspace.', args_schema=<class 'pydantic.v1.main.spaces_add_new_space_to_work_spaceRequest'>, func=<function ComposioToolSet._wrap_action.<locals>.function at 0x122c33d80>),\n",
       " StructuredTool(name='clickup_spaces_get_details', description='View the Spaces available in a Workspace.', args_schema=<class 'pydantic.v1.main.spaces_get_detailsRequest'>, func=<function ComposioToolSet._wrap_action.<locals>.function at 0x122e40860>),\n",
       " StructuredTool(name='clickup_spaces_update_details_and_enable_click_apps', description='Rename, set the Space color, and enable ClickApps for a Space.', args_schema=<class 'pydantic.v1.main.spaces_update_details_and_enable_click_appsRequest'>, func=<function ComposioToolSet._wrap_action.<locals>.function at 0x122e409a0>),\n",
       " StructuredTool(name='clickup_spaces_remove_space', description='Delete a Space from your Workspace.', args_schema=<class 'pydantic.v1.main.spaces_remove_spaceRequest'>, func=<function ComposioToolSet._wrap_action.<locals>.function at 0x122e41580>),\n",
       " StructuredTool(name='clickup_tags_get_space', description='View the task Tags available in a Space.', args_schema=<class 'pydantic.v1.main.tags_get_spaceRequest'>, func=<function ComposioToolSet._wrap_action.<locals>.function at 0x122e416c0>),\n",
       " StructuredTool(name='clickup_tags_create_space_tag', description='Add a new task Tag to a Space.', args_schema=<class 'pydantic.v1.main.tags_create_space_tagRequest'>, func=<function ComposioToolSet._wrap_action.<locals>.function at 0x122e41800>),\n",
       " StructuredTool(name='clickup_tags_update_space_tag', description='Update a task Tag.', args_schema=<class 'pydantic.v1.main.tags_update_space_tagRequest'>, func=<function ComposioToolSet._wrap_action.<locals>.function at 0x122e41b20>),\n",
       " StructuredTool(name='clickup_tags_remove_space_tag', description='Delete a task Tag from a Space.', args_schema=<class 'pydantic.v1.main.tags_remove_space_tagRequest'>, func=<function ComposioToolSet._wrap_action.<locals>.function at 0x122e41ee0>),\n",
       " StructuredTool(name='clickup_tags_add_to_task', description='Add a Tag to a task.', args_schema=<class 'pydantic.v1.main.tags_add_to_taskRequest'>, func=<function ComposioToolSet._wrap_action.<locals>.function at 0x122e422a0>),\n",
       " StructuredTool(name='clickup_tags_remove_from_task', description='Remove a Tag from a task. This does not delete the Tag from the Space.', args_schema=<class 'pydantic.v1.main.tags_remove_from_taskRequest'>, func=<function ComposioToolSet._wrap_action.<locals>.function at 0x122e425c0>),\n",
       " StructuredTool(name='clickup_tasks_get_list_tasks', description='View the tasks in a List. Responses are limited to 100 tasks per page. You can only view task information of tasks you can access.  This endpoint only includes tasks where the specified `list_id` is their home List. Tasks added to the `list_id` with a different home List are not included in the response.', args_schema=<class 'pydantic.v1.main.tasks_get_list_tasksRequest'>, func=<function ComposioToolSet._wrap_action.<locals>.function at 0x122e428e0>),\n",
       " StructuredTool(name='clickup_tasks_create_new_task', description='Create a new task.', args_schema=<class 'pydantic.v1.main.tasks_create_new_taskRequest'>, func=<function ComposioToolSet._wrap_action.<locals>.function at 0x122e436a0>),\n",
       " StructuredTool(name='clickup_tasks_get_task_details', description='View information about a task. You can only view task information of tasks you can access.  Tasks with attachments will return an \"attachments\" response.', args_schema=<class 'pydantic.v1.main.tasks_get_task_detailsRequest'>, func=<function ComposioToolSet._wrap_action.<locals>.function at 0x122ef4360>),\n",
       " StructuredTool(name='clickup_tasks_update_task_fields', description='Update a task by including one or more fields in the request body.', args_schema=<class 'pydantic.v1.main.tasks_update_task_fieldsRequest'>, func=<function ComposioToolSet._wrap_action.<locals>.function at 0x122ef4720>),\n",
       " StructuredTool(name='clickup_tasks_remove_task_by_id', description='Delete a task from your Workspace.', args_schema=<class 'pydantic.v1.main.tasks_remove_task_by_idRequest'>, func=<function ComposioToolSet._wrap_action.<locals>.function at 0x122ef5260>),\n",
       " StructuredTool(name='clickup_tasks_filter_team_tasks', description='View the tasks that meet specific criteria from a Workspace. Responses are limited to 100 tasks per page.   You can only view task information of tasks you can access.', args_schema=<class 'pydantic.v1.main.tasks_filter_team_tasksRequest'>, func=<function ComposioToolSet._wrap_action.<locals>.function at 0x122ef54e0>),\n",
       " StructuredTool(name='clickup_tasks_get_time_in_status', description='View how long a task has been in each status. The Total time in Status ClickApp must first be enabled by the Workspace owner or an admin.', args_schema=<class 'pydantic.v1.main.tasks_get_time_in_statusRequest'>, func=<function ComposioToolSet._wrap_action.<locals>.function at 0x122ef65c0>),\n",
       " StructuredTool(name='clickup_tasks_get_time_in_status_bulk', description='View how long two or more tasks have been in each status.', args_schema=<class 'pydantic.v1.main.tasks_get_time_in_status_bulkRequest'>, func=<function ComposioToolSet._wrap_action.<locals>.function at 0x122ef6840>),\n",
       " StructuredTool(name='clickup_task_templates_get_templates', description='View the task templates available in a Workspace.', args_schema=<class 'pydantic.v1.main.task_templates_get_templatesRequest'>, func=<function ComposioToolSet._wrap_action.<locals>.function at 0x122ef6ac0>),\n",
       " StructuredTool(name='clickup_task_templates_create_from_template', description='Create a new task using a task template.', args_schema=<class 'pydantic.v1.main.task_templates_create_from_templateRequest'>, func=<function ComposioToolSet._wrap_action.<locals>.function at 0x122ef6ca0>),\n",
       " StructuredTool(name='clickup_teams_work_spaces_get_work_space_seats', description='View the used, total, and available member and guest seats for a Workspace.', args_schema=<class 'pydantic.v1.main.teams_work_spaces_get_work_space_seatsRequest'>, func=<function ComposioToolSet._wrap_action.<locals>.function at 0x122ef6f20>),\n",
       " StructuredTool(name='clickup_teams_work_spaces_get_work_space_plan', description='View the current [Plan](https://clickup.com/pricing) for the specified Workspace.', args_schema=<class 'pydantic.v1.main.teams_work_spaces_get_work_space_planRequest'>, func=<function ComposioToolSet._wrap_action.<locals>.function at 0x122ef7060>),\n",
       " StructuredTool(name='clickup_teams_user_groups_create_team', description=\"This endpoint is used to create [Teams: user groups](https://docs.clickup.com/en/articles/4010016-teams-how-to-create-user-groups) which are groups of users you can assign items to in your Workspace. In our API documentation, `team_id` refers to the id of a Workspace, and `group_id` refers to the id of a user group. **Note:** Adding a guest with view only permissions to a Team automatically converts them to a paid guest. If you don't have any paid guest seats available, a new member seat is automatically added to increase the number of paid guest seats available. This incurs a prorated charge based on your billing cycle.\", args_schema=<class 'pydantic.v1.main.teams_user_groups_create_teamRequest'>, func=<function ComposioToolSet._wrap_action.<locals>.function at 0x122ef71a0>),\n",
       " StructuredTool(name='clickup_custom_task_types_get_available_task_types', description='View the custom task types available in a Workspace.', args_schema=<class 'pydantic.v1.main.custom_task_types_get_available_task_typesRequest'>, func=<function ComposioToolSet._wrap_action.<locals>.function at 0x122ef7420>),\n",
       " StructuredTool(name='clickup_teams_user_groups_update_user_group', description=\"This endpoint is used to manage [Teams: user groups](https://docs.clickup.com/en/articles/4010016-teams-how-to-create-user-groups) which are groups of users you can assign items to in your Workspace. In our API documentation, `team_id` refers to the id of a Workspace, and `group_id` refers to the id of a user group. **Note:** Adding a guest with view only permissions to a Team automatically converts them to a paid guest. If you don't have any paid guest seats available, a new member seat is automatically added to increase the number of paid guest seats available. This incurs a prorated charge based on your billing cycle.\", args_schema=<class 'pydantic.v1.main.teams_user_groups_update_user_groupRequest'>, func=<function ComposioToolSet._wrap_action.<locals>.function at 0x122ef7560>),\n",
       " StructuredTool(name='clickup_teams_user_groups_remove_group', description='This endpoint is used to remove a [Team: user group](https://docs.clickup.com/en/articles/4010016-teams-how-to-create-user-groups) from your Workspace. In our API documentation, `team_id` refers to the id of a Workspace, and `group_id` refers to the id of a user group.', args_schema=<class 'pydantic.v1.main.teams_user_groups_remove_groupRequest'>, func=<function ComposioToolSet._wrap_action.<locals>.function at 0x122ef7920>),\n",
       " StructuredTool(name='clickup_teams_user_groups_get_user_groups', description='This endpoint is used to view [Teams: user groups](https://docs.clickup.com/en/articles/4010016-teams-how-to-create-user-groups) in your Workspace. In our API documentation, `team_id` refers to the id of a Workspace, and `group_id` refers to the id of a user group.', args_schema=<class 'pydantic.v1.main.teams_user_groups_get_user_groupsRequest'>, func=<function ComposioToolSet._wrap_action.<locals>.function at 0x122ef7a60>),\n",
       " StructuredTool(name='clickup_time_tracking_legacy_get_tracked_time', description='***Note:** This is a legacy time tracking endpoint. We recommend using the Time Tracking API endpoints to manage time entries.*', args_schema=<class 'pydantic.v1.main.time_tracking_legacy_get_tracked_timeRequest'>, func=<function ComposioToolSet._wrap_action.<locals>.function at 0x122ef7c40>),\n",
       " StructuredTool(name='clickup_time_tracking_legacy_record_time_for_task', description='***Note:** This is a legacy time tracking endpoint. We recommend using the Time Tracking API endpoints to manage time entries.*', args_schema=<class 'pydantic.v1.main.time_tracking_legacy_record_time_for_taskRequest'>, func=<function ComposioToolSet._wrap_action.<locals>.function at 0x122ef7ec0>),\n",
       " StructuredTool(name='clickup_time_tracking_legacy_edit_time_tracked', description='***Note:** This is a legacy time tracking endpoint. We recommend using the Time Tracking API endpoints to manage time entries.*', args_schema=<class 'pydantic.v1.main.time_tracking_legacy_edit_time_trackedRequest'>, func=<function ComposioToolSet._wrap_action.<locals>.function at 0x123014360>),\n",
       " StructuredTool(name='clickup_time_tracking_legacy_remove_tracked_time', description='***Note:** This is a legacy time tracking endpoint. We recommend using the Time Tracking API endpoints to manage time entries.*', args_schema=<class 'pydantic.v1.main.time_tracking_legacy_remove_tracked_timeRequest'>, func=<function ComposioToolSet._wrap_action.<locals>.function at 0x123014860>),\n",
       " StructuredTool(name='clickup_time_tracking_get_time_entries_within_date_range', description='View time entries filtered by start and end date.  By default, this endpoint returns time entries from the last 30 days created by the authenticated user.  To retrieve time entries for other users, you must include the `assignee` query parameter.  Only one of the following location filters can be included at a time: `space_id`, `folder_id`, `list_id`, or `task_id`.  ***Note:** A time entry that has a negative duration means that timer is currently running for that user.*', args_schema=<class 'pydantic.v1.main.time_tracking_get_time_entries_within_date_rangeRequest'>, func=<function ComposioToolSet._wrap_action.<locals>.function at 0x123014b80>),\n",
       " StructuredTool(name='clickup_time_tracking_create_time_entry', description='Create a time entry.  ***Note:** A time entry that has a negative duration means that timer is currently running for that user.*', args_schema=<class 'pydantic.v1.main.time_tracking_create_time_entryRequest'>, func=<function ComposioToolSet._wrap_action.<locals>.function at 0x1230153a0>),\n",
       " StructuredTool(name='clickup_time_tracking_get_single_time_entry', description='View a single time entry.  ***Note:** A time entry that has a negative duration means that timer is currently running for that user.*', args_schema=<class 'pydantic.v1.main.time_tracking_get_single_time_entryRequest'>, func=<function ComposioToolSet._wrap_action.<locals>.function at 0x123015b20>),\n",
       " StructuredTool(name='clickup_time_tracking_remove_entry', description='Delete a time entry from a Workspace.', args_schema=<class 'pydantic.v1.main.time_tracking_remove_entryRequest'>, func=<function ComposioToolSet._wrap_action.<locals>.function at 0x123015e40>),\n",
       " StructuredTool(name='clickup_time_tracking_update_time_entry_details', description='Update the details of a time entry.', args_schema=<class 'pydantic.v1.main.time_tracking_update_time_entry_detailsRequest'>, func=<function ComposioToolSet._wrap_action.<locals>.function at 0x123016020>),\n",
       " StructuredTool(name='clickup_time_tracking_get_time_entry_history', description='View a list of changes made to a time entry.', args_schema=<class 'pydantic.v1.main.time_tracking_get_time_entry_historyRequest'>, func=<function ComposioToolSet._wrap_action.<locals>.function at 0x123016700>),\n",
       " StructuredTool(name='clickup_time_tracking_get_current_time_entry', description=\"View a time entry that's currently tracking time for the authenticated user.  ***Note:** A time entry that has a negative duration means that timer is currently running for that user.*\", args_schema=<class 'pydantic.v1.main.time_tracking_get_current_time_entryRequest'>, func=<function ComposioToolSet._wrap_action.<locals>.function at 0x1230168e0>),\n",
       " StructuredTool(name='clickup_time_tracking_remove_tags_from_time_entries', description='Remove labels from time entries. This does not remove the label from a Workspace.', args_schema=<class 'pydantic.v1.main.time_tracking_remove_tags_from_time_entriesRequest'>, func=<function ComposioToolSet._wrap_action.<locals>.function at 0x123016ac0>),\n",
       " StructuredTool(name='clickup_time_tracking_get_all_tags_from_time_entries', description='View all the labels that have been applied to time entries in a Workspace.', args_schema=<class 'pydantic.v1.main.time_tracking_get_all_tags_from_time_entriesRequest'>, func=<function ComposioToolSet._wrap_action.<locals>.function at 0x123016ca0>),\n",
       " StructuredTool(name='clickup_time_tracking_add_tags_from_time_entries', description='Add a label to a time entry.', args_schema=<class 'pydantic.v1.main.time_tracking_add_tags_from_time_entriesRequest'>, func=<function ComposioToolSet._wrap_action.<locals>.function at 0x123016de0>),\n",
       " StructuredTool(name='clickup_time_tracking_change_tag_names', description='Rename an time entry label.', args_schema=<class 'pydantic.v1.main.time_tracking_change_tag_namesRequest'>, func=<function ComposioToolSet._wrap_action.<locals>.function at 0x123016fc0>),\n",
       " StructuredTool(name='clickup_time_tracking_start_timer', description='Start a timer for the authenticated user.', args_schema=<class 'pydantic.v1.main.time_tracking_start_timerRequest'>, func=<function ComposioToolSet._wrap_action.<locals>.function at 0x123017380>),\n",
       " StructuredTool(name='clickup_time_tracking_stop_time_entry', description=\"Stop a timer that's currently running for the authenticated user.\", args_schema=<class 'pydantic.v1.main.time_tracking_stop_time_entryRequest'>, func=<function ComposioToolSet._wrap_action.<locals>.function at 0x1230177e0>),\n",
       " StructuredTool(name='clickup_users_invite_user_to_work_space', description='Invite someone to join your Workspace as a member. To invite someone as a guest, use the [Invite Guest](https://clickup.com/api/clickupreference/operation/InviteGuestToWorkspace/) endpoint. ***Note:** This endpoint is only available to Workspaces on our [Enterprise Plan](https://clickup.com/pricing).*', args_schema=<class 'pydantic.v1.main.users_invite_user_to_work_spaceRequest'>, func=<function ComposioToolSet._wrap_action.<locals>.function at 0x123017920>),\n",
       " StructuredTool(name='clickup_users_get_user_details', description='View information about a user in a Workspace.  ***Note:** This endpoint is only available to Workspaces on our [Enterprise Plan](https://clickup.com/pricing).*', args_schema=<class 'pydantic.v1.main.users_get_user_detailsRequest'>, func=<function ComposioToolSet._wrap_action.<locals>.function at 0x123017c40>),\n",
       " StructuredTool(name='clickup_users_update_user_details', description=\"Update a user's name and role.  ***Note:** This endpoint is only available to Workspaces on our [Enterprise Plan](https://clickup.com/pricing).*\", args_schema=<class 'pydantic.v1.main.users_update_user_detailsRequest'>, func=<function ComposioToolSet._wrap_action.<locals>.function at 0x123017e20>),\n",
       " StructuredTool(name='clickup_users_deactivate_from_work_space', description='Deactivate a user from a Workspace.  ***Note:** This endpoint is only available to Workspaces on our [Enterprise Plan](https://clickup.com/pricing).*', args_schema=<class 'pydantic.v1.main.users_deactivate_from_work_spaceRequest'>, func=<function ComposioToolSet._wrap_action.<locals>.function at 0x123abc220>),\n",
       " StructuredTool(name='clickup_views_get_everything_level', description='View the task and page views available at the Everything Level of a Workspace.', args_schema=<class 'pydantic.v1.main.views_get_everything_levelRequest'>, func=<function ComposioToolSet._wrap_action.<locals>.function at 0x123abc400>),\n",
       " StructuredTool(name='clickup_views_space_views_get', description='View the task and page views available for a Space.', args_schema=<class 'pydantic.v1.main.views_space_views_getRequest'>, func=<function ComposioToolSet._wrap_action.<locals>.function at 0x123abc540>),\n",
       " StructuredTool(name='clickup_views_folder_views_get', description='View the task and page views available for a Folder.', args_schema=<class 'pydantic.v1.main.views_folder_views_getRequest'>, func=<function ComposioToolSet._wrap_action.<locals>.function at 0x123abc680>),\n",
       " StructuredTool(name='clickup_views_get_list_views', description='View the task and page views available for a List.<br> Views and required views are separate responses.', args_schema=<class 'pydantic.v1.main.views_get_list_viewsRequest'>, func=<function ComposioToolSet._wrap_action.<locals>.function at 0x123abc7c0>),\n",
       " StructuredTool(name='clickup_views_get_view_info', description='View information about a specific task or page view.', args_schema=<class 'pydantic.v1.main.views_get_view_infoRequest'>, func=<function ComposioToolSet._wrap_action.<locals>.function at 0x123abc900>),\n",
       " StructuredTool(name='clickup_views_delete_view_by_id', description='Delete View', args_schema=<class 'pydantic.v1.main.views_delete_view_by_idRequest'>, func=<function ComposioToolSet._wrap_action.<locals>.function at 0x123abca40>),\n",
       " StructuredTool(name='clickup_views_get_tasks_in_view', description='See all visible tasks in a view in ClickUp.', args_schema=<class 'pydantic.v1.main.views_get_tasks_in_viewRequest'>, func=<function ComposioToolSet._wrap_action.<locals>.function at 0x123abcb80>),\n",
       " StructuredTool(name='clickup_web_hooks_work_space_get', description='View the webhooks created via the API for a Workspace. This endpoint returns webhooks created by the authenticated user.', args_schema=<class 'pydantic.v1.main.web_hooks_work_space_getRequest'>, func=<function ComposioToolSet._wrap_action.<locals>.function at 0x123abcd60>),\n",
       " StructuredTool(name='clickup_web_hooks_create_web_hook', description='Set up a webhook to monitor for events.<br> We do not have a dedicated IP address for webhooks. We use our domain name and dynamic addressing.', args_schema=<class 'pydantic.v1.main.web_hooks_create_web_hookRequest'>, func=<function ComposioToolSet._wrap_action.<locals>.function at 0x123abcea0>),\n",
       " StructuredTool(name='clickup_web_hooks_update_events_to_monitor', description='Update a webhook to change the events to be monitored.', args_schema=<class 'pydantic.v1.main.web_hooks_update_events_to_monitorRequest'>, func=<function ComposioToolSet._wrap_action.<locals>.function at 0x123abd3a0>),\n",
       " StructuredTool(name='clickup_web_hooks_remove_web_hook_by_id', description='Delete a webhook to stop monitoring the events and locations of the webhook.', args_schema=<class 'pydantic.v1.main.web_hooks_remove_web_hook_by_idRequest'>, func=<function ComposioToolSet._wrap_action.<locals>.function at 0x123abd6c0>)]"
      ]
     },
     "execution_count": 6,
     "metadata": {},
     "output_type": "execute_result"
    }
   ],
   "source": [
    "agent_tools"
   ]
  },
  {
   "cell_type": "code",
   "execution_count": 9,
   "metadata": {},
   "outputs": [],
   "source": [
    "agent = MyAgent(tools=agent_tools)"
   ]
  },
  {
   "cell_type": "code",
   "execution_count": 10,
   "metadata": {},
   "outputs": [
    {
     "name": "stdout",
     "output_type": "stream",
     "text": [
      "\n",
      "\n",
      "\u001b[1m> Entering new AgentExecutor chain...\u001b[0m\n",
      "\u001b[32;1m\u001b[1;3m\n",
      "Invoking: `clickup_authorization_view_account_details` with `{}`\n",
      "\n",
      "\n",
      "\u001b[0m\u001b[38;5;200m\u001b[1;3m{'execution_details': {'executed': True}, 'response_data': {'user': {'id': 81918955, 'username': 'João Guilherme Silva Morossini', 'email': 'joaog.morossini@gmail.com', 'color': '#81b1ff', 'profilePicture': 'https://attachments.clickup.com/profilePictures/81918955_kcK.jpg', 'initials': 'JM', 'week_start_day': 1, 'global_font_support': True, 'timezone': 'America/Sao_Paulo'}}}\u001b[0m\u001b[32;1m\u001b[1;3m\n",
      "Invoking: `clickup_authorization_get_work_space_list` with `{}`\n",
      "\n",
      "\n",
      "\u001b[0m\u001b[36;1m\u001b[1;3m{'execution_details': {'executed': True}, 'response_data': {'teams': [{'id': '12927880', 'name': 'Cogmo Workspace', 'color': '#202020', 'avatar': 'https://attachments2.clickup.com/team_avatars/12927880_9xT.blob?Expires=1735603200&Key-Pair-Id=APKAIYJRUKB5RLQWHZWQ&Signature=IjQQWt2qYTYv5yXQn3jhIfm5i9-ETIQdodisZqlZDGzoY4qAE5qvv~0FHDxbzSqeN0Rd-osZw5sJIpIpYWO1SPzvm2u-gVJgy9RGaaB4KtnMyZw-wStnG67hevdPdOukxHFE~VLEEP2HoHSnYyWyjUrMFmA0f256ZsU8hhM4Lq8JuUfFJyi69HbCD2l~F8kCeLOadW4z0ofkTTMfVNjDrqezFkiL72Rlr3v~bmq3oCGKIaAMZFWyorq3ru5HDJvphqudIkrFpA56kIgESPIzzU3lkINk7CVHJ2xKRRnU4ruo4cjufxo5RAtL9RehP5gaP8r2A1BmgDlZ5uLTUiK0kg__', 'members': [{'user': {'id': 44309342, 'username': 'Hibrael Loures', 'email': 'ibraelmoura@gmail.com', 'color': None, 'profilePicture': 'https://attachments.clickup.com/profilePictures/44309342_YHC.jpg', 'initials': 'HL', 'role': 3, 'custom_role': None, 'last_active': '1719956684066', 'date_joined': '1719500887900', 'date_invited': '1719500735732'}, 'invited_by': {'id': 18951490, 'username': 'Gabriel Alberton', 'color': '#7b68ee', 'email': 'gabriel@cogmo.com.br', 'initials': 'GA', 'profilePicture': 'https://attachments.clickup.com/profilePictures/18951490_W33.jpg'}}, {'user': {'id': 82061927, 'username': 'Rafael Alves Magalhães', 'email': 'magalhaesrafael07@gmail.com', 'color': '', 'profilePicture': None, 'initials': 'RM', 'role': 3, 'custom_role': None, 'last_active': '1722256491948', 'date_joined': '1715710208104', 'date_invited': '1715710148238'}, 'invited_by': {'id': 18951490, 'username': 'Gabriel Alberton', 'color': '#7b68ee', 'email': 'gabriel@cogmo.com.br', 'initials': 'GA', 'profilePicture': 'https://attachments.clickup.com/profilePictures/18951490_W33.jpg'}}, {'user': {'id': 3115657, 'username': 'Filipe Werlang', 'email': 'filipewerlang.d@gmail.com', 'color': '#622aea', 'profilePicture': 'https://attachments.clickup.com/profilePictures/3115657_GPh.jpg', 'initials': 'FW', 'role': 3, 'custom_role': None, 'last_active': '1716570383387', 'date_joined': '1713903403635', 'date_invited': '1713903340285'}, 'invited_by': {'id': 18951490, 'username': 'Gabriel Alberton', 'color': '#7b68ee', 'email': 'gabriel@cogmo.com.br', 'initials': 'GA', 'profilePicture': 'https://attachments.clickup.com/profilePictures/18951490_W33.jpg'}}, {'user': {'id': 72816031, 'username': 'Gabriel Silvestre', 'email': 'gabriel.h.silvestre11@gmail.com', 'color': '', 'profilePicture': None, 'initials': 'GS', 'role': 4, 'custom_role': None, 'last_active': '1711651350955', 'date_joined': '1706705323185', 'date_invited': '1706703387889'}, 'invited_by': {'id': 18951490, 'username': 'Gabriel Alberton', 'color': '#7b68ee', 'email': 'gabriel@cogmo.com.br', 'initials': 'GA', 'profilePicture': 'https://attachments.clickup.com/profilePictures/18951490_W33.jpg'}, 'can_see_time_spent': True, 'can_see_time_estimated': True, 'can_see_points_estimated': True, 'can_edit_tags': False, 'can_create_views': False}, {'user': {'id': 81955248, 'username': 'Sara Lima dos Santos', 'email': 'zarahlimma@gmail.com', 'color': '#02579b', 'profilePicture': None, 'initials': 'SS', 'role': 4, 'custom_role': None, 'last_active': '1705520398448', 'date_joined': '1700762889153', 'date_invited': '1700762748501'}, 'invited_by': {'id': 18951490, 'username': 'Gabriel Alberton', 'color': '#7b68ee', 'email': 'gabriel@cogmo.com.br', 'initials': 'GA', 'profilePicture': 'https://attachments.clickup.com/profilePictures/18951490_W33.jpg'}, 'can_see_time_spent': True, 'can_see_time_estimated': True, 'can_see_points_estimated': True, 'can_edit_tags': False, 'can_create_views': False}, {'user': {'id': 81942227, 'username': None, 'email': 'asdf@hbnjg.com', 'color': None, 'profilePicture': None, 'initials': 'A', 'role': 4, 'custom_role': None, 'last_active': None, 'date_joined': None, 'date_invited': '1697648867625'}, 'invited_by': {'id': 18951490, 'username': 'Gabriel Alberton', 'color': '#7b68ee', 'email': 'gabriel@cogmo.com.br', 'initials': 'GA', 'profilePicture': 'https://attachments.clickup.com/profilePictures/18951490_W33.jpg'}, 'can_see_time_spent': True, 'can_see_time_estimated': True, 'can_see_points_estimated': True, 'can_edit_tags': False, 'can_create_views': False}, {'user': {'id': 81942111, 'username': 'Romulo Fernando', 'email': 'fssromulo@gmail.com', 'color': '#ff897f', 'profilePicture': None, 'initials': 'RF', 'role': 4, 'custom_role': None, 'last_active': '1697657536419', 'date_joined': '1697639835143', 'date_invited': '1697639162077'}, 'invited_by': {'id': 18951490, 'username': 'Gabriel Alberton', 'color': '#7b68ee', 'email': 'gabriel@cogmo.com.br', 'initials': 'GA', 'profilePicture': 'https://attachments.clickup.com/profilePictures/18951490_W33.jpg'}, 'can_see_time_spent': True, 'can_see_time_estimated': True, 'can_see_points_estimated': True, 'can_edit_tags': False, 'can_create_views': False}, {'user': {'id': 32424453, 'username': 'Marcelo Marra', 'email': 'marcelo@devsquad.email', 'color': '#ffa12f', 'profilePicture': None, 'initials': 'MM', 'role': 4, 'custom_role': None, 'last_active': '1697856401732', 'date_joined': '1697578574655', 'date_invited': '1697578470743'}, 'invited_by': {'id': 18951490, 'username': 'Gabriel Alberton', 'color': '#7b68ee', 'email': 'gabriel@cogmo.com.br', 'initials': 'GA', 'profilePicture': 'https://attachments.clickup.com/profilePictures/18951490_W33.jpg'}, 'can_see_time_spent': True, 'can_see_time_estimated': True, 'can_see_points_estimated': True, 'can_edit_tags': False, 'can_create_views': False}, {'user': {'id': 81941856, 'username': 'Joseph Torres Kaltenecker', 'email': 'joseph.kaltenecker@gmail.com', 'color': '#d60800', 'profilePicture': None, 'initials': 'JK', 'role': 4, 'custom_role': None, 'last_active': '1697684220484', 'date_joined': '1697584232755', 'date_invited': '1697569495566'}, 'invited_by': {'id': 18951490, 'username': 'Gabriel Alberton', 'color': '#7b68ee', 'email': 'gabriel@cogmo.com.br', 'initials': 'GA', 'profilePicture': 'https://attachments.clickup.com/profilePictures/18951490_W33.jpg'}, 'can_see_time_spent': True, 'can_see_time_estimated': True, 'can_see_points_estimated': True, 'can_edit_tags': False, 'can_create_views': False}, {'user': {'id': 42954980, 'username': 'Paulo Gontijo', 'email': 'paulo@devsquad.email', 'color': '#cddc39', 'profilePicture': None, 'initials': 'PG', 'role': 4, 'custom_role': None, 'last_active': '1697629728042', 'date_joined': '1697564620641', 'date_invited': '1697549149854'}, 'invited_by': {'id': 18951490, 'username': 'Gabriel Alberton', 'color': '#7b68ee', 'email': 'gabriel@cogmo.com.br', 'initials': 'GA', 'profilePicture': 'https://attachments.clickup.com/profilePictures/18951490_W33.jpg'}, 'can_see_time_spent': True, 'can_see_time_estimated': True, 'can_see_points_estimated': True, 'can_edit_tags': False, 'can_create_views': False}, {'user': {'id': 81934261, 'username': 'Davi Mello de Figueiredo', 'email': 'davi.figueiredo@devsquad.email', 'color': '#02579b', 'profilePicture': None, 'initials': 'DF', 'role': 4, 'custom_role': None, 'last_active': '1697515706191', 'date_joined': '1696005734675', 'date_invited': '1695853301124'}, 'invited_by': {'id': 18951490, 'username': 'Gabriel Alberton', 'color': '#7b68ee', 'email': 'gabriel@cogmo.com.br', 'initials': 'GA', 'profilePicture': 'https://attachments.clickup.com/profilePictures/18951490_W33.jpg'}, 'can_see_time_spent': True, 'can_see_time_estimated': True, 'can_see_points_estimated': True, 'can_edit_tags': False, 'can_create_views': False}, {'user': {'id': 32443176, 'username': 'Wellington Mota', 'email': 'wellington@devsquad.email', 'color': '#006063', 'profilePicture': None, 'initials': 'WM', 'role': 4, 'custom_role': None, 'last_active': '1697218599283', 'date_joined': '1696015880511', 'date_invited': '1695853300919'}, 'invited_by': {'id': 18951490, 'username': 'Gabriel Alberton', 'color': '#7b68ee', 'email': 'gabriel@cogmo.com.br', 'initials': 'GA', 'profilePicture': 'https://attachments.clickup.com/profilePictures/18951490_W33.jpg'}, 'can_see_time_spent': True, 'can_see_time_estimated': True, 'can_see_points_estimated': True, 'can_edit_tags': False, 'can_create_views': False}, {'user': {'id': 54949151, 'username': 'DAC CAPITAL', 'email': 'gerencial@daccapital.com.br', 'color': '#2ea52c', 'profilePicture': None, 'initials': 'DC', 'role': 4, 'custom_role': None, 'last_active': '1702326584933', 'date_joined': '1702326323812', 'date_invited': '1695150324637'}, 'invited_by': {'id': 18951490, 'username': 'Gabriel Alberton', 'color': '#7b68ee', 'email': 'gabriel@cogmo.com.br', 'initials': 'GA', 'profilePicture': 'https://attachments.clickup.com/profilePictures/18951490_W33.jpg'}, 'can_see_time_spent': True, 'can_see_time_estimated': True, 'can_see_points_estimated': True, 'can_edit_tags': False, 'can_create_views': False}, {'user': {'id': 81930584, 'username': None, 'email': 'raquel.cardoso@daccapital.br', 'color': None, 'profilePicture': None, 'initials': 'R', 'role': 4, 'custom_role': None, 'last_active': None, 'date_joined': None, 'date_invited': '1695150306102'}, 'invited_by': {'id': 18951490, 'username': 'Gabriel Alberton', 'color': '#7b68ee', 'email': 'gabriel@cogmo.com.br', 'initials': 'GA', 'profilePicture': 'https://attachments.clickup.com/profilePictures/18951490_W33.jpg'}, 'can_see_time_spent': True, 'can_see_time_estimated': True, 'can_see_points_estimated': True, 'can_edit_tags': False, 'can_create_views': False}, {'user': {'id': 54951651, 'username': 'Legal', 'email': 'legal@daccapital.com.br', 'color': '#622aea', 'profilePicture': None, 'initials': 'L', 'role': 4, 'custom_role': None, 'last_active': '1695665069022', 'date_joined': '1695151113312', 'date_invited': '1694655863772'}, 'invited_by': {'id': 18951490, 'username': 'Gabriel Alberton', 'color': '#7b68ee', 'email': 'gabriel@cogmo.com.br', 'initials': 'GA', 'profilePicture': 'https://attachments.clickup.com/profilePictures/18951490_W33.jpg'}, 'can_see_time_spent': True, 'can_see_time_estimated': True, 'can_see_points_estimated': True, 'can_edit_tags': False, 'can_create_views': False}, {'user': {'id': 81918955, 'username': 'João Guilherme Silva Morossini', 'email': 'joaog.morossini@gmail.com', 'color': '#81b1ff', 'profilePicture': 'https://attachments.clickup.com/profilePictures/81918955_kcK.jpg', 'initials': 'JM', 'role': 3, 'custom_role': None, 'last_active': '1722028055748', 'date_joined': '1693245712205', 'date_invited': '1693245455315'}, 'invited_by': {'id': 18951490, 'username': 'Gabriel Alberton', 'color': '#7b68ee', 'email': 'gabriel@cogmo.com.br', 'initials': 'GA', 'profilePicture': 'https://attachments.clickup.com/profilePictures/18951490_W33.jpg'}}, {'user': {'id': 55040420, 'username': 'Gabriela Barreto Alberton', 'email': 'gabibalberton@gmail.com', 'color': '#f8306d', 'profilePicture': 'https://attachments.clickup.com/profilePictures/55040420_3Pe.jpg', 'initials': 'GA', 'role': 3, 'custom_role': None, 'last_active': '1695936684276', 'date_joined': '1671653244700', 'date_invited': '1671653134716'}, 'invited_by': {'id': 18951490, 'username': 'Gabriel Alberton', 'color': '#7b68ee', 'email': 'gabriel@cogmo.com.br', 'initials': 'GA', 'profilePicture': 'https://attachments.clickup.com/profilePictures/18951490_W33.jpg'}}, {'user': {'id': 3195751, 'username': 'Nicolas Augusto França Melo', 'email': 'nicolasfmelo@gmail.com', 'color': '#ff4081', 'profilePicture': 'https://attachments.clickup.com/profilePictures/3195751_KsS.jpg', 'initials': 'NM', 'role': 4, 'custom_role': None, 'last_active': '1701520726948', 'date_joined': '1670092173360', 'date_invited': '1670092062140'}, 'invited_by': {'id': 18951490, 'username': 'Gabriel Alberton', 'color': '#7b68ee', 'email': 'gabriel@cogmo.com.br', 'initials': 'GA', 'profilePicture': 'https://attachments.clickup.com/profilePictures/18951490_W33.jpg'}, 'can_see_time_spent': True, 'can_see_time_estimated': True, 'can_see_points_estimated': True, 'can_edit_tags': False, 'can_create_views': False}, {'user': {'id': 54979221, 'username': 'Caio Ferreira da Costa Macedo', 'email': 'cmacedo2011@hotmail.com', 'color': '#ff4081', 'profilePicture': None, 'initials': 'CM', 'role': 3, 'custom_role': None, 'last_active': '1720449195119', 'date_joined': '1667955977241', 'date_invited': '1667952178032'}, 'invited_by': {'id': 18951490, 'username': 'Gabriel Alberton', 'color': '#7b68ee', 'email': 'gabriel@cogmo.com.br', 'initials': 'GA', 'profilePicture': 'https://attachments.clickup.com/profilePictures/18951490_W33.jpg'}}, {'user': {'id': 54969508, 'username': 'Jessé Dantas Macedo Santos de Jesus', 'email': 'jessedantasti@gmail.com', 'color': '#388d3c', 'profilePicture': None, 'initials': 'JJ', 'role': 4, 'custom_role': None, 'last_active': '1719953610878', 'date_joined': '1667507094940', 'date_invited': '1667506942142'}, 'invited_by': {'id': 18951490, 'username': 'Gabriel Alberton', 'color': '#7b68ee', 'email': 'gabriel@cogmo.com.br', 'initials': 'GA', 'profilePicture': 'https://attachments.clickup.com/profilePictures/18951490_W33.jpg'}, 'can_see_time_spent': True, 'can_see_time_estimated': True, 'can_see_points_estimated': True, 'can_edit_tags': False, 'can_create_views': False}, {'user': {'id': 54951654, 'username': 'RAQUEL AMARAL CARDOSO', 'email': 'raquel.cardoso@daccapital.com.br', 'color': '#622aea', 'profilePicture': None, 'initials': 'RC', 'role': 4, 'custom_role': None, 'last_active': '1675922064014', 'date_joined': '1667487082668', 'date_invited': '1667356810385'}, 'invited_by': {'id': 18951490, 'username': 'Gabriel Alberton', 'color': '#7b68ee', 'email': 'gabriel@cogmo.com.br', 'initials': 'GA', 'profilePicture': 'https://attachments.clickup.com/profilePictures/18951490_W33.jpg'}, 'can_see_time_spent': True, 'can_see_time_estimated': True, 'can_see_points_estimated': True, 'can_edit_tags': False, 'can_create_views': False}, {'user': {'id': 54939390, 'username': 'gisleine', 'email': 'gbalberton@gmail.com', 'color': None, 'profilePicture': None, 'initials': 'G', 'role': 3, 'custom_role': None, 'last_active': '1709398469540', 'date_joined': '1666206215365', 'date_invited': '1666206167107'}, 'invited_by': {'id': 18951490, 'username': 'Gabriel Alberton', 'color': '#7b68ee', 'email': 'gabriel@cogmo.com.br', 'initials': 'GA', 'profilePicture': 'https://attachments.clickup.com/profilePictures/18951490_W33.jpg'}}, {'user': {'id': 49198435, 'username': 'Rafael Macedo Mendonça', 'email': 'rafael.macedo@perceptus.ai', 'color': '#5d4037', 'profilePicture': None, 'initials': 'RM', 'role': 3, 'custom_role': None, 'last_active': '1722114961511', 'date_joined': '1664404432181', 'date_invited': '1664404270203'}, 'invited_by': {'id': 18951490, 'username': 'Gabriel Alberton', 'color': '#7b68ee', 'email': 'gabriel@cogmo.com.br', 'initials': 'GA', 'profilePicture': 'https://attachments.clickup.com/profilePictures/18951490_W33.jpg'}}, {'user': {'id': 49198378, 'username': 'Ana Carolina Dos Santos', 'email': 'ana.carolina0509@gmail.com', 'color': '#795548', 'profilePicture': None, 'initials': 'AS', 'role': 4, 'custom_role': None, 'last_active': '1708656179438', 'date_joined': '1664410489464', 'date_invited': '1664401974533'}, 'invited_by': {'id': 18951490, 'username': 'Gabriel Alberton', 'color': '#7b68ee', 'email': 'gabriel@cogmo.com.br', 'initials': 'GA', 'profilePicture': 'https://attachments.clickup.com/profilePictures/18951490_W33.jpg'}, 'can_see_time_spent': True, 'can_see_time_estimated': True, 'can_see_points_estimated': True, 'can_edit_tags': False, 'can_create_views': False}, {'user': {'id': 49193170, 'username': 'Ricardo Terra', 'email': 'rterra88@gmail.com', 'color': '#07a092', 'profilePicture': None, 'initials': 'RT', 'role': 4, 'custom_role': None, 'last_active': '1720470355536', 'date_joined': '1664219470550', 'date_invited': '1664219444037'}, 'invited_by': {'id': 18951490, 'username': 'Gabriel Alberton', 'color': '#7b68ee', 'email': 'gabriel@cogmo.com.br', 'initials': 'GA', 'profilePicture': 'https://attachments.clickup.com/profilePictures/18951490_W33.jpg'}, 'can_see_time_spent': True, 'can_see_time_estimated': True, 'can_see_points_estimated': True, 'can_edit_tags': False, 'can_create_views': False}, {'user': {'id': 3027211, 'username': 'Denisson test', 'email': 'denissonfernades@gmail.com', 'color': '#afb42b', 'profilePicture': None, 'initials': 'DT', 'role': 4, 'custom_role': None, 'last_active': '1667362259881', 'date_joined': '1656636833254', 'date_invited': '1656633124280'}, 'invited_by': {'id': 18951490, 'username': 'Gabriel Alberton', 'color': '#7b68ee', 'email': 'gabriel@cogmo.com.br', 'initials': 'GA', 'profilePicture': 'https://attachments.clickup.com/profilePictures/18951490_W33.jpg'}, 'can_see_time_spent': True, 'can_see_time_estimated': True, 'can_see_points_estimated': True, 'can_edit_tags': False, 'can_create_views': False}, {'user': {'id': 48772077, 'username': 'Hélio Potelicki', 'email': 'helio@cogmo.com.br', 'color': '#2ea52c', 'profilePicture': 'https://attachments.clickup.com/profilePictures/48772077_rvb.jpg', 'initials': 'HP', 'role': 3, 'custom_role': None, 'last_active': '1722038149455', 'date_joined': '1649266868990', 'date_invited': '1649266363940'}, 'invited_by': {'id': 18951490, 'username': 'Gabriel Alberton', 'color': '#7b68ee', 'email': 'gabriel@cogmo.com.br', 'initials': 'GA', 'profilePicture': 'https://attachments.clickup.com/profilePictures/18951490_W33.jpg'}}, {'user': {'id': 18951490, 'username': 'Gabriel Alberton', 'email': 'gabriel@cogmo.com.br', 'color': '#7b68ee', 'profilePicture': 'https://attachments.clickup.com/profilePictures/18951490_W33.jpg', 'initials': 'GA', 'role': 1, 'custom_role': None, 'last_active': '1722257726805', 'date_joined': '1632348127957', 'date_invited': '1632348127957'}}]}]}}\u001b[0m\u001b[32;1m\u001b[1;3mThe name of your ClickUp workspace is **\"Cogmo Workspace\"**.\u001b[0m\n",
      "\n",
      "\u001b[1m> Finished chain.\u001b[0m\n",
      "{'input': 'Retrieve the name of my clickup workspace', 'chat_history': [HumanMessage(content='Retrieve the name of my clickup workspace'), AIMessage(content='The name of your ClickUp workspace is **\"Cogmo Workspace\"**.')], 'output': 'The name of your ClickUp workspace is **\"Cogmo Workspace\"**.'}\n",
      "\n",
      "==================================================\n",
      "--> Agent Response:\n",
      "The name of your ClickUp workspace is **\"Cogmo Workspace\"**.\n",
      "\n",
      "==================================================\n"
     ]
    }
   ],
   "source": [
    "agent.myinvoke(\"Retrieve the name of my clickup workspace\")"
   ]
  },
  {
   "cell_type": "code",
   "execution_count": 11,
   "metadata": {},
   "outputs": [],
   "source": [
    "clickup_team_id=\"12927880\""
   ]
  },
  {
   "cell_type": "code",
   "execution_count": 12,
   "metadata": {},
   "outputs": [
    {
     "name": "stdout",
     "output_type": "stream",
     "text": [
      "\n",
      "\n",
      "\u001b[1m> Entering new AgentExecutor chain...\u001b[0m\n",
      "\u001b[32;1m\u001b[1;3mI have several tools for working with ClickUp spaces. Here are the available tools:\n",
      "\n",
      "1. **View the Spaces available in a Workspace**:\n",
      "   - `clickup_spaces_get_space_details`: View the Spaces available in a Workspace.\n",
      "\n",
      "2. **Add a new Space to a Workspace**:\n",
      "   - `clickup_spaces_add_new_space_to_work_space`: Add a new Space to a Workspace.\n",
      "\n",
      "3. **Update Space Details and Enable ClickApps**:\n",
      "   - `clickup_spaces_update_details_and_enable_click_apps`: Rename, set the Space color, and enable ClickApps for a Space.\n",
      "\n",
      "4. **Delete a Space from your Workspace**:\n",
      "   - `clickup_spaces_remove_space`: Delete a Space from your Workspace.\n",
      "\n",
      "5. **View the Spaces available in a Workspace** (Alternative method):\n",
      "   - `clickup_spaces_get_details`: View the Spaces available in a Workspace.\n",
      "\n",
      "If you need to perform any specific action with ClickUp spaces, please let me know!\u001b[0m\n",
      "\n",
      "\u001b[1m> Finished chain.\u001b[0m\n",
      "{'input': 'Which tools do you have for working with Clickup spaces?', 'chat_history': [HumanMessage(content='Retrieve the name of my clickup workspace'), AIMessage(content='The name of your ClickUp workspace is **\"Cogmo Workspace\"**.'), HumanMessage(content='Which tools do you have for working with Clickup spaces?'), AIMessage(content='I have several tools for working with ClickUp spaces. Here are the available tools:\\n\\n1. **View the Spaces available in a Workspace**:\\n   - `clickup_spaces_get_space_details`: View the Spaces available in a Workspace.\\n\\n2. **Add a new Space to a Workspace**:\\n   - `clickup_spaces_add_new_space_to_work_space`: Add a new Space to a Workspace.\\n\\n3. **Update Space Details and Enable ClickApps**:\\n   - `clickup_spaces_update_details_and_enable_click_apps`: Rename, set the Space color, and enable ClickApps for a Space.\\n\\n4. **Delete a Space from your Workspace**:\\n   - `clickup_spaces_remove_space`: Delete a Space from your Workspace.\\n\\n5. **View the Spaces available in a Workspace** (Alternative method):\\n   - `clickup_spaces_get_details`: View the Spaces available in a Workspace.\\n\\nIf you need to perform any specific action with ClickUp spaces, please let me know!')], 'output': 'I have several tools for working with ClickUp spaces. Here are the available tools:\\n\\n1. **View the Spaces available in a Workspace**:\\n   - `clickup_spaces_get_space_details`: View the Spaces available in a Workspace.\\n\\n2. **Add a new Space to a Workspace**:\\n   - `clickup_spaces_add_new_space_to_work_space`: Add a new Space to a Workspace.\\n\\n3. **Update Space Details and Enable ClickApps**:\\n   - `clickup_spaces_update_details_and_enable_click_apps`: Rename, set the Space color, and enable ClickApps for a Space.\\n\\n4. **Delete a Space from your Workspace**:\\n   - `clickup_spaces_remove_space`: Delete a Space from your Workspace.\\n\\n5. **View the Spaces available in a Workspace** (Alternative method):\\n   - `clickup_spaces_get_details`: View the Spaces available in a Workspace.\\n\\nIf you need to perform any specific action with ClickUp spaces, please let me know!'}\n",
      "\n",
      "==================================================\n",
      "--> Agent Response:\n",
      "I have several tools for working with ClickUp spaces. Here are the available tools:\n",
      "\n",
      "1. **View the Spaces available in a Workspace**:\n",
      "   - `clickup_spaces_get_space_details`: View the Spaces available in a Workspace.\n",
      "\n",
      "2. **Add a new Space to a Workspace**:\n",
      "   - `clickup_spaces_add_new_space_to_work_space`: Add a new Space to a Workspace.\n",
      "\n",
      "3. **Update Space Details and Enable ClickApps**:\n",
      "   - `clickup_spaces_update_details_and_enable_click_apps`: Rename, set the Space color, and enable ClickApps for a Space.\n",
      "\n",
      "4. **Delete a Space from your Workspace**:\n",
      "   - `clickup_spaces_remove_space`: Delete a Space from your Workspace.\n",
      "\n",
      "5. **View the Spaces available in a Workspace** (Alternative method):\n",
      "   - `clickup_spaces_get_details`: View the Spaces available in a Workspace.\n",
      "\n",
      "If you need to perform any specific action with ClickUp spaces, please let me know!\n",
      "\n",
      "==================================================\n"
     ]
    }
   ],
   "source": [
    "agent.myinvoke(f\"Which tools do you have for working with Clickup spaces?\")"
   ]
  },
  {
   "cell_type": "code",
   "execution_count": 13,
   "metadata": {},
   "outputs": [
    {
     "name": "stdout",
     "output_type": "stream",
     "text": [
      "\n",
      "\n",
      "\u001b[1m> Entering new AgentExecutor chain...\u001b[0m\n",
      "\u001b[32;1m\u001b[1;3m\n",
      "Invoking: `clickup_spaces_get_space_details` with `{'team_id': 12927880}`\n",
      "\n",
      "\n",
      "\u001b[0m\u001b[36;1m\u001b[1;3m{'execution_details': {'executed': False}, 'response_data': {'error': '{\"err\":\"invalid input syntax for integer: \\\\\"12927880.0\\\\\"\",\"ECODE\":\"SHARD_001\"}', 'status_code': 500}}\u001b[0m\u001b[32;1m\u001b[1;3mIt seems there was an error with the input syntax for the `team_id` provided. It might be due to an extra character or incorrect format. Kindly verify the `team_id` and provide it again, or let me know if there's anything else I can assist you with.\u001b[0m\n",
      "\n",
      "\u001b[1m> Finished chain.\u001b[0m\n",
      "{'input': \"Use 'clickup_spaces_get_space_details' with the following team_id to view available Spaces in my Workspace. team_id: 12927880\", 'chat_history': [HumanMessage(content='Retrieve the name of my clickup workspace'), AIMessage(content='The name of your ClickUp workspace is **\"Cogmo Workspace\"**.'), HumanMessage(content='Which tools do you have for working with Clickup spaces?'), AIMessage(content='I have several tools for working with ClickUp spaces. Here are the available tools:\\n\\n1. **View the Spaces available in a Workspace**:\\n   - `clickup_spaces_get_space_details`: View the Spaces available in a Workspace.\\n\\n2. **Add a new Space to a Workspace**:\\n   - `clickup_spaces_add_new_space_to_work_space`: Add a new Space to a Workspace.\\n\\n3. **Update Space Details and Enable ClickApps**:\\n   - `clickup_spaces_update_details_and_enable_click_apps`: Rename, set the Space color, and enable ClickApps for a Space.\\n\\n4. **Delete a Space from your Workspace**:\\n   - `clickup_spaces_remove_space`: Delete a Space from your Workspace.\\n\\n5. **View the Spaces available in a Workspace** (Alternative method):\\n   - `clickup_spaces_get_details`: View the Spaces available in a Workspace.\\n\\nIf you need to perform any specific action with ClickUp spaces, please let me know!'), HumanMessage(content=\"Use 'clickup_spaces_get_space_details' with the following team_id to view available Spaces in my Workspace. team_id: 12927880\"), AIMessage(content=\"It seems there was an error with the input syntax for the `team_id` provided. It might be due to an extra character or incorrect format. Kindly verify the `team_id` and provide it again, or let me know if there's anything else I can assist you with.\")], 'output': \"It seems there was an error with the input syntax for the `team_id` provided. It might be due to an extra character or incorrect format. Kindly verify the `team_id` and provide it again, or let me know if there's anything else I can assist you with.\"}\n",
      "\n",
      "==================================================\n",
      "--> Agent Response:\n",
      "It seems there was an error with the input syntax for the `team_id` provided. It might be due to an extra character or incorrect format. Kindly verify the `team_id` and provide it again, or let me know if there's anything else I can assist you with.\n",
      "\n",
      "==================================================\n"
     ]
    }
   ],
   "source": [
    "agent.myinvoke(f\"Use 'clickup_spaces_get_space_details' with the following team_id to view available Spaces in my Workspace. team_id: {clickup_team_id}\")"
   ]
  },
  {
   "cell_type": "code",
   "execution_count": 14,
   "metadata": {},
   "outputs": [
    {
     "name": "stdout",
     "output_type": "stream",
     "text": [
      "\n",
      "\n",
      "\u001b[1m> Entering new AgentExecutor chain...\u001b[0m\n",
      "\u001b[32;1m\u001b[1;3m\n",
      "Invoking: `clickup_spaces_get_space_details` with `{'team_id': 12927880}`\n",
      "\n",
      "\n",
      "\u001b[0m\u001b[36;1m\u001b[1;3m{'execution_details': {'executed': False}, 'response_data': {'error': '{\"err\":\"invalid input syntax for integer: \\\\\"12927880.0\\\\\"\",\"ECODE\":\"SHARD_001\"}', 'status_code': 500}}\u001b[0m\u001b[32;1m\u001b[1;3m\n",
      "Invoking: `clickup_spaces_get_space_details` with `{'team_id': 12927880}`\n",
      "responded: It seems there was an issue with the request. The error message indicates an invalid input syntax for the integer.\n",
      "\n",
      "Let's try again with the team ID formatted correctly as an integer.\n",
      "\n",
      "\u001b[0m\u001b[36;1m\u001b[1;3m{'execution_details': {'executed': False}, 'response_data': {'error': '{\"err\":\"invalid input syntax for integer: \\\\\"12927880.0\\\\\"\",\"ECODE\":\"SHARD_001\"}', 'status_code': 500}}\u001b[0m\u001b[32;1m\u001b[1;3m\n",
      "Invoking: `clickup_spaces_get_details` with `{'space_id': 12927880}`\n",
      "responded: It appears that the API is returning an error related to the input syntax for the integer, even though the `team_id` was correctly passed as an integer.\n",
      "\n",
      "There might be an issue on the server side. Let's try using an alternative tool to view the spaces available in your workspace.\n",
      "\n",
      "I'll use the `clickup_spaces_get_details` tool to achieve this.\n",
      "\n",
      "\u001b[0m\u001b[38;5;200m\u001b[1;3m{'execution_details': {'executed': False}, 'response_data': {'error': '{\"err\":\"Space ID invalid\",\"ECODE\":\"INPUT_002\"}', 'status_code': 400}}\u001b[0m\u001b[32;1m\u001b[1;3mIt appears I mistakenly used the `space_id` parameter instead of the `team_id` parameter. The correct tool for viewing spaces by `team_id` is `clickup_spaces_get_space_details`.\n",
      "\n",
      "Given the persistent error, it might be prudent to verify the `team_id` or check if there's an alternative way to identify the workspace.\n",
      "\n",
      "Would you like to try any other actions or provide additional context?\u001b[0m\n",
      "\n",
      "\u001b[1m> Finished chain.\u001b[0m\n",
      "{'input': \"Use 'clickup_spaces_get_space_details' with the following team_id to view available Spaces in my Workspace. team_id:'12927880'. You MUST pass the team_id as an integer, NOT as a float or as a string\", 'chat_history': [HumanMessage(content='Retrieve the name of my clickup workspace'), AIMessage(content='The name of your ClickUp workspace is **\"Cogmo Workspace\"**.'), HumanMessage(content='Which tools do you have for working with Clickup spaces?'), AIMessage(content='I have several tools for working with ClickUp spaces. Here are the available tools:\\n\\n1. **View the Spaces available in a Workspace**:\\n   - `clickup_spaces_get_space_details`: View the Spaces available in a Workspace.\\n\\n2. **Add a new Space to a Workspace**:\\n   - `clickup_spaces_add_new_space_to_work_space`: Add a new Space to a Workspace.\\n\\n3. **Update Space Details and Enable ClickApps**:\\n   - `clickup_spaces_update_details_and_enable_click_apps`: Rename, set the Space color, and enable ClickApps for a Space.\\n\\n4. **Delete a Space from your Workspace**:\\n   - `clickup_spaces_remove_space`: Delete a Space from your Workspace.\\n\\n5. **View the Spaces available in a Workspace** (Alternative method):\\n   - `clickup_spaces_get_details`: View the Spaces available in a Workspace.\\n\\nIf you need to perform any specific action with ClickUp spaces, please let me know!'), HumanMessage(content=\"Use 'clickup_spaces_get_space_details' with the following team_id to view available Spaces in my Workspace. team_id: 12927880\"), AIMessage(content=\"It seems there was an error with the input syntax for the `team_id` provided. It might be due to an extra character or incorrect format. Kindly verify the `team_id` and provide it again, or let me know if there's anything else I can assist you with.\"), HumanMessage(content=\"Use 'clickup_spaces_get_space_details' with the following team_id to view available Spaces in my Workspace. team_id:'12927880'. You MUST pass the team_id as an integer, NOT as a float or as a string\"), AIMessage(content=\"It appears I mistakenly used the `space_id` parameter instead of the `team_id` parameter. The correct tool for viewing spaces by `team_id` is `clickup_spaces_get_space_details`.\\n\\nGiven the persistent error, it might be prudent to verify the `team_id` or check if there's an alternative way to identify the workspace.\\n\\nWould you like to try any other actions or provide additional context?\")], 'output': \"It appears I mistakenly used the `space_id` parameter instead of the `team_id` parameter. The correct tool for viewing spaces by `team_id` is `clickup_spaces_get_space_details`.\\n\\nGiven the persistent error, it might be prudent to verify the `team_id` or check if there's an alternative way to identify the workspace.\\n\\nWould you like to try any other actions or provide additional context?\"}\n",
      "\n",
      "==================================================\n",
      "--> Agent Response:\n",
      "It appears I mistakenly used the `space_id` parameter instead of the `team_id` parameter. The correct tool for viewing spaces by `team_id` is `clickup_spaces_get_space_details`.\n",
      "\n",
      "Given the persistent error, it might be prudent to verify the `team_id` or check if there's an alternative way to identify the workspace.\n",
      "\n",
      "Would you like to try any other actions or provide additional context?\n",
      "\n",
      "==================================================\n"
     ]
    }
   ],
   "source": [
    "agent.myinvoke(\"Use 'clickup_spaces_get_space_details' with the following team_id to view available Spaces in my Workspace. team_id:'12927880'. You MUST pass the team_id as an integer, NOT as a float or as a string\")"
   ]
  },
  {
   "cell_type": "code",
   "execution_count": 15,
   "metadata": {},
   "outputs": [
    {
     "name": "stdout",
     "output_type": "stream",
     "text": [
      "\n",
      "\n",
      "\u001b[1m> Entering new AgentExecutor chain...\u001b[0m\n",
      "\u001b[32;1m\u001b[1;3m\n",
      "Invoking: `clickup_spaces_get_details` with `{'space_id': 54804921}`\n",
      "\n",
      "\n",
      "\u001b[0m\u001b[38;5;200m\u001b[1;3m{'execution_details': {'executed': False}, 'response_data': {'error': '{\"err\":\"Space ID invalid\",\"ECODE\":\"INPUT_002\"}', 'status_code': 400}}\u001b[0m\u001b[32;1m\u001b[1;3mIt appears that the Space ID `54804921` is invalid. Please verify the Space ID and try again, or let me know if there's any other information or action you would like to pursue.\u001b[0m\n",
      "\n",
      "\u001b[1m> Finished chain.\u001b[0m\n",
      "{'input': 'What can you tell me about my Clickup space of 54804921?', 'chat_history': [HumanMessage(content='Retrieve the name of my clickup workspace'), AIMessage(content='The name of your ClickUp workspace is **\"Cogmo Workspace\"**.'), HumanMessage(content='Which tools do you have for working with Clickup spaces?'), AIMessage(content='I have several tools for working with ClickUp spaces. Here are the available tools:\\n\\n1. **View the Spaces available in a Workspace**:\\n   - `clickup_spaces_get_space_details`: View the Spaces available in a Workspace.\\n\\n2. **Add a new Space to a Workspace**:\\n   - `clickup_spaces_add_new_space_to_work_space`: Add a new Space to a Workspace.\\n\\n3. **Update Space Details and Enable ClickApps**:\\n   - `clickup_spaces_update_details_and_enable_click_apps`: Rename, set the Space color, and enable ClickApps for a Space.\\n\\n4. **Delete a Space from your Workspace**:\\n   - `clickup_spaces_remove_space`: Delete a Space from your Workspace.\\n\\n5. **View the Spaces available in a Workspace** (Alternative method):\\n   - `clickup_spaces_get_details`: View the Spaces available in a Workspace.\\n\\nIf you need to perform any specific action with ClickUp spaces, please let me know!'), HumanMessage(content=\"Use 'clickup_spaces_get_space_details' with the following team_id to view available Spaces in my Workspace. team_id: 12927880\"), AIMessage(content=\"It seems there was an error with the input syntax for the `team_id` provided. It might be due to an extra character or incorrect format. Kindly verify the `team_id` and provide it again, or let me know if there's anything else I can assist you with.\"), HumanMessage(content=\"Use 'clickup_spaces_get_space_details' with the following team_id to view available Spaces in my Workspace. team_id:'12927880'. You MUST pass the team_id as an integer, NOT as a float or as a string\"), AIMessage(content=\"It appears I mistakenly used the `space_id` parameter instead of the `team_id` parameter. The correct tool for viewing spaces by `team_id` is `clickup_spaces_get_space_details`.\\n\\nGiven the persistent error, it might be prudent to verify the `team_id` or check if there's an alternative way to identify the workspace.\\n\\nWould you like to try any other actions or provide additional context?\"), HumanMessage(content='What can you tell me about my Clickup space of 54804921?'), AIMessage(content=\"It appears that the Space ID `54804921` is invalid. Please verify the Space ID and try again, or let me know if there's any other information or action you would like to pursue.\")], 'output': \"It appears that the Space ID `54804921` is invalid. Please verify the Space ID and try again, or let me know if there's any other information or action you would like to pursue.\"}\n",
      "\n",
      "==================================================\n",
      "--> Agent Response:\n",
      "It appears that the Space ID `54804921` is invalid. Please verify the Space ID and try again, or let me know if there's any other information or action you would like to pursue.\n",
      "\n",
      "==================================================\n"
     ]
    }
   ],
   "source": [
    "agent.myinvoke(\"What can you tell me about my Clickup space of 54804921?\")"
   ]
  },
  {
   "cell_type": "code",
   "execution_count": 16,
   "metadata": {},
   "outputs": [
    {
     "name": "stdout",
     "output_type": "stream",
     "text": [
      "\n",
      "\n",
      "\u001b[1m> Entering new AgentExecutor chain...\u001b[0m\n",
      "\u001b[32;1m\u001b[1;3m\n",
      "Invoking: `clickup_authorization_get_work_space_list` with `{}`\n",
      "\n",
      "\n",
      "\u001b[0m\u001b[36;1m\u001b[1;3m{'execution_details': {'executed': True}, 'response_data': {'teams': [{'id': '12927880', 'name': 'Cogmo Workspace', 'color': '#202020', 'avatar': 'https://attachments2.clickup.com/team_avatars/12927880_9xT.blob?Expires=1735603200&Key-Pair-Id=APKAIYJRUKB5RLQWHZWQ&Signature=IjQQWt2qYTYv5yXQn3jhIfm5i9-ETIQdodisZqlZDGzoY4qAE5qvv~0FHDxbzSqeN0Rd-osZw5sJIpIpYWO1SPzvm2u-gVJgy9RGaaB4KtnMyZw-wStnG67hevdPdOukxHFE~VLEEP2HoHSnYyWyjUrMFmA0f256ZsU8hhM4Lq8JuUfFJyi69HbCD2l~F8kCeLOadW4z0ofkTTMfVNjDrqezFkiL72Rlr3v~bmq3oCGKIaAMZFWyorq3ru5HDJvphqudIkrFpA56kIgESPIzzU3lkINk7CVHJ2xKRRnU4ruo4cjufxo5RAtL9RehP5gaP8r2A1BmgDlZ5uLTUiK0kg__', 'members': [{'user': {'id': 44309342, 'username': 'Hibrael Loures', 'email': 'ibraelmoura@gmail.com', 'color': None, 'profilePicture': 'https://attachments.clickup.com/profilePictures/44309342_YHC.jpg', 'initials': 'HL', 'role': 3, 'custom_role': None, 'last_active': '1719956684066', 'date_joined': '1719500887900', 'date_invited': '1719500735732'}, 'invited_by': {'id': 18951490, 'username': 'Gabriel Alberton', 'color': '#7b68ee', 'email': 'gabriel@cogmo.com.br', 'initials': 'GA', 'profilePicture': 'https://attachments.clickup.com/profilePictures/18951490_W33.jpg'}}, {'user': {'id': 82061927, 'username': 'Rafael Alves Magalhães', 'email': 'magalhaesrafael07@gmail.com', 'color': '', 'profilePicture': None, 'initials': 'RM', 'role': 3, 'custom_role': None, 'last_active': '1722256491948', 'date_joined': '1715710208104', 'date_invited': '1715710148238'}, 'invited_by': {'id': 18951490, 'username': 'Gabriel Alberton', 'color': '#7b68ee', 'email': 'gabriel@cogmo.com.br', 'initials': 'GA', 'profilePicture': 'https://attachments.clickup.com/profilePictures/18951490_W33.jpg'}}, {'user': {'id': 3115657, 'username': 'Filipe Werlang', 'email': 'filipewerlang.d@gmail.com', 'color': '#622aea', 'profilePicture': 'https://attachments.clickup.com/profilePictures/3115657_GPh.jpg', 'initials': 'FW', 'role': 3, 'custom_role': None, 'last_active': '1716570383387', 'date_joined': '1713903403635', 'date_invited': '1713903340285'}, 'invited_by': {'id': 18951490, 'username': 'Gabriel Alberton', 'color': '#7b68ee', 'email': 'gabriel@cogmo.com.br', 'initials': 'GA', 'profilePicture': 'https://attachments.clickup.com/profilePictures/18951490_W33.jpg'}}, {'user': {'id': 72816031, 'username': 'Gabriel Silvestre', 'email': 'gabriel.h.silvestre11@gmail.com', 'color': '', 'profilePicture': None, 'initials': 'GS', 'role': 4, 'custom_role': None, 'last_active': '1711651350955', 'date_joined': '1706705323185', 'date_invited': '1706703387889'}, 'invited_by': {'id': 18951490, 'username': 'Gabriel Alberton', 'color': '#7b68ee', 'email': 'gabriel@cogmo.com.br', 'initials': 'GA', 'profilePicture': 'https://attachments.clickup.com/profilePictures/18951490_W33.jpg'}, 'can_see_time_spent': True, 'can_see_time_estimated': True, 'can_see_points_estimated': True, 'can_edit_tags': False, 'can_create_views': False}, {'user': {'id': 81955248, 'username': 'Sara Lima dos Santos', 'email': 'zarahlimma@gmail.com', 'color': '#02579b', 'profilePicture': None, 'initials': 'SS', 'role': 4, 'custom_role': None, 'last_active': '1705520398448', 'date_joined': '1700762889153', 'date_invited': '1700762748501'}, 'invited_by': {'id': 18951490, 'username': 'Gabriel Alberton', 'color': '#7b68ee', 'email': 'gabriel@cogmo.com.br', 'initials': 'GA', 'profilePicture': 'https://attachments.clickup.com/profilePictures/18951490_W33.jpg'}, 'can_see_time_spent': True, 'can_see_time_estimated': True, 'can_see_points_estimated': True, 'can_edit_tags': False, 'can_create_views': False}, {'user': {'id': 81942227, 'username': None, 'email': 'asdf@hbnjg.com', 'color': None, 'profilePicture': None, 'initials': 'A', 'role': 4, 'custom_role': None, 'last_active': None, 'date_joined': None, 'date_invited': '1697648867625'}, 'invited_by': {'id': 18951490, 'username': 'Gabriel Alberton', 'color': '#7b68ee', 'email': 'gabriel@cogmo.com.br', 'initials': 'GA', 'profilePicture': 'https://attachments.clickup.com/profilePictures/18951490_W33.jpg'}, 'can_see_time_spent': True, 'can_see_time_estimated': True, 'can_see_points_estimated': True, 'can_edit_tags': False, 'can_create_views': False}, {'user': {'id': 81942111, 'username': 'Romulo Fernando', 'email': 'fssromulo@gmail.com', 'color': '#ff897f', 'profilePicture': None, 'initials': 'RF', 'role': 4, 'custom_role': None, 'last_active': '1697657536419', 'date_joined': '1697639835143', 'date_invited': '1697639162077'}, 'invited_by': {'id': 18951490, 'username': 'Gabriel Alberton', 'color': '#7b68ee', 'email': 'gabriel@cogmo.com.br', 'initials': 'GA', 'profilePicture': 'https://attachments.clickup.com/profilePictures/18951490_W33.jpg'}, 'can_see_time_spent': True, 'can_see_time_estimated': True, 'can_see_points_estimated': True, 'can_edit_tags': False, 'can_create_views': False}, {'user': {'id': 32424453, 'username': 'Marcelo Marra', 'email': 'marcelo@devsquad.email', 'color': '#ffa12f', 'profilePicture': None, 'initials': 'MM', 'role': 4, 'custom_role': None, 'last_active': '1697856401732', 'date_joined': '1697578574655', 'date_invited': '1697578470743'}, 'invited_by': {'id': 18951490, 'username': 'Gabriel Alberton', 'color': '#7b68ee', 'email': 'gabriel@cogmo.com.br', 'initials': 'GA', 'profilePicture': 'https://attachments.clickup.com/profilePictures/18951490_W33.jpg'}, 'can_see_time_spent': True, 'can_see_time_estimated': True, 'can_see_points_estimated': True, 'can_edit_tags': False, 'can_create_views': False}, {'user': {'id': 81941856, 'username': 'Joseph Torres Kaltenecker', 'email': 'joseph.kaltenecker@gmail.com', 'color': '#d60800', 'profilePicture': None, 'initials': 'JK', 'role': 4, 'custom_role': None, 'last_active': '1697684220484', 'date_joined': '1697584232755', 'date_invited': '1697569495566'}, 'invited_by': {'id': 18951490, 'username': 'Gabriel Alberton', 'color': '#7b68ee', 'email': 'gabriel@cogmo.com.br', 'initials': 'GA', 'profilePicture': 'https://attachments.clickup.com/profilePictures/18951490_W33.jpg'}, 'can_see_time_spent': True, 'can_see_time_estimated': True, 'can_see_points_estimated': True, 'can_edit_tags': False, 'can_create_views': False}, {'user': {'id': 42954980, 'username': 'Paulo Gontijo', 'email': 'paulo@devsquad.email', 'color': '#cddc39', 'profilePicture': None, 'initials': 'PG', 'role': 4, 'custom_role': None, 'last_active': '1697629728042', 'date_joined': '1697564620641', 'date_invited': '1697549149854'}, 'invited_by': {'id': 18951490, 'username': 'Gabriel Alberton', 'color': '#7b68ee', 'email': 'gabriel@cogmo.com.br', 'initials': 'GA', 'profilePicture': 'https://attachments.clickup.com/profilePictures/18951490_W33.jpg'}, 'can_see_time_spent': True, 'can_see_time_estimated': True, 'can_see_points_estimated': True, 'can_edit_tags': False, 'can_create_views': False}, {'user': {'id': 81934261, 'username': 'Davi Mello de Figueiredo', 'email': 'davi.figueiredo@devsquad.email', 'color': '#02579b', 'profilePicture': None, 'initials': 'DF', 'role': 4, 'custom_role': None, 'last_active': '1697515706191', 'date_joined': '1696005734675', 'date_invited': '1695853301124'}, 'invited_by': {'id': 18951490, 'username': 'Gabriel Alberton', 'color': '#7b68ee', 'email': 'gabriel@cogmo.com.br', 'initials': 'GA', 'profilePicture': 'https://attachments.clickup.com/profilePictures/18951490_W33.jpg'}, 'can_see_time_spent': True, 'can_see_time_estimated': True, 'can_see_points_estimated': True, 'can_edit_tags': False, 'can_create_views': False}, {'user': {'id': 32443176, 'username': 'Wellington Mota', 'email': 'wellington@devsquad.email', 'color': '#006063', 'profilePicture': None, 'initials': 'WM', 'role': 4, 'custom_role': None, 'last_active': '1697218599283', 'date_joined': '1696015880511', 'date_invited': '1695853300919'}, 'invited_by': {'id': 18951490, 'username': 'Gabriel Alberton', 'color': '#7b68ee', 'email': 'gabriel@cogmo.com.br', 'initials': 'GA', 'profilePicture': 'https://attachments.clickup.com/profilePictures/18951490_W33.jpg'}, 'can_see_time_spent': True, 'can_see_time_estimated': True, 'can_see_points_estimated': True, 'can_edit_tags': False, 'can_create_views': False}, {'user': {'id': 54949151, 'username': 'DAC CAPITAL', 'email': 'gerencial@daccapital.com.br', 'color': '#2ea52c', 'profilePicture': None, 'initials': 'DC', 'role': 4, 'custom_role': None, 'last_active': '1702326584933', 'date_joined': '1702326323812', 'date_invited': '1695150324637'}, 'invited_by': {'id': 18951490, 'username': 'Gabriel Alberton', 'color': '#7b68ee', 'email': 'gabriel@cogmo.com.br', 'initials': 'GA', 'profilePicture': 'https://attachments.clickup.com/profilePictures/18951490_W33.jpg'}, 'can_see_time_spent': True, 'can_see_time_estimated': True, 'can_see_points_estimated': True, 'can_edit_tags': False, 'can_create_views': False}, {'user': {'id': 81930584, 'username': None, 'email': 'raquel.cardoso@daccapital.br', 'color': None, 'profilePicture': None, 'initials': 'R', 'role': 4, 'custom_role': None, 'last_active': None, 'date_joined': None, 'date_invited': '1695150306102'}, 'invited_by': {'id': 18951490, 'username': 'Gabriel Alberton', 'color': '#7b68ee', 'email': 'gabriel@cogmo.com.br', 'initials': 'GA', 'profilePicture': 'https://attachments.clickup.com/profilePictures/18951490_W33.jpg'}, 'can_see_time_spent': True, 'can_see_time_estimated': True, 'can_see_points_estimated': True, 'can_edit_tags': False, 'can_create_views': False}, {'user': {'id': 54951651, 'username': 'Legal', 'email': 'legal@daccapital.com.br', 'color': '#622aea', 'profilePicture': None, 'initials': 'L', 'role': 4, 'custom_role': None, 'last_active': '1695665069022', 'date_joined': '1695151113312', 'date_invited': '1694655863772'}, 'invited_by': {'id': 18951490, 'username': 'Gabriel Alberton', 'color': '#7b68ee', 'email': 'gabriel@cogmo.com.br', 'initials': 'GA', 'profilePicture': 'https://attachments.clickup.com/profilePictures/18951490_W33.jpg'}, 'can_see_time_spent': True, 'can_see_time_estimated': True, 'can_see_points_estimated': True, 'can_edit_tags': False, 'can_create_views': False}, {'user': {'id': 81918955, 'username': 'João Guilherme Silva Morossini', 'email': 'joaog.morossini@gmail.com', 'color': '#81b1ff', 'profilePicture': 'https://attachments.clickup.com/profilePictures/81918955_kcK.jpg', 'initials': 'JM', 'role': 3, 'custom_role': None, 'last_active': '1722028055748', 'date_joined': '1693245712205', 'date_invited': '1693245455315'}, 'invited_by': {'id': 18951490, 'username': 'Gabriel Alberton', 'color': '#7b68ee', 'email': 'gabriel@cogmo.com.br', 'initials': 'GA', 'profilePicture': 'https://attachments.clickup.com/profilePictures/18951490_W33.jpg'}}, {'user': {'id': 55040420, 'username': 'Gabriela Barreto Alberton', 'email': 'gabibalberton@gmail.com', 'color': '#f8306d', 'profilePicture': 'https://attachments.clickup.com/profilePictures/55040420_3Pe.jpg', 'initials': 'GA', 'role': 3, 'custom_role': None, 'last_active': '1695936684276', 'date_joined': '1671653244700', 'date_invited': '1671653134716'}, 'invited_by': {'id': 18951490, 'username': 'Gabriel Alberton', 'color': '#7b68ee', 'email': 'gabriel@cogmo.com.br', 'initials': 'GA', 'profilePicture': 'https://attachments.clickup.com/profilePictures/18951490_W33.jpg'}}, {'user': {'id': 3195751, 'username': 'Nicolas Augusto França Melo', 'email': 'nicolasfmelo@gmail.com', 'color': '#ff4081', 'profilePicture': 'https://attachments.clickup.com/profilePictures/3195751_KsS.jpg', 'initials': 'NM', 'role': 4, 'custom_role': None, 'last_active': '1701520726948', 'date_joined': '1670092173360', 'date_invited': '1670092062140'}, 'invited_by': {'id': 18951490, 'username': 'Gabriel Alberton', 'color': '#7b68ee', 'email': 'gabriel@cogmo.com.br', 'initials': 'GA', 'profilePicture': 'https://attachments.clickup.com/profilePictures/18951490_W33.jpg'}, 'can_see_time_spent': True, 'can_see_time_estimated': True, 'can_see_points_estimated': True, 'can_edit_tags': False, 'can_create_views': False}, {'user': {'id': 54979221, 'username': 'Caio Ferreira da Costa Macedo', 'email': 'cmacedo2011@hotmail.com', 'color': '#ff4081', 'profilePicture': None, 'initials': 'CM', 'role': 3, 'custom_role': None, 'last_active': '1720449195119', 'date_joined': '1667955977241', 'date_invited': '1667952178032'}, 'invited_by': {'id': 18951490, 'username': 'Gabriel Alberton', 'color': '#7b68ee', 'email': 'gabriel@cogmo.com.br', 'initials': 'GA', 'profilePicture': 'https://attachments.clickup.com/profilePictures/18951490_W33.jpg'}}, {'user': {'id': 54969508, 'username': 'Jessé Dantas Macedo Santos de Jesus', 'email': 'jessedantasti@gmail.com', 'color': '#388d3c', 'profilePicture': None, 'initials': 'JJ', 'role': 4, 'custom_role': None, 'last_active': '1719953610878', 'date_joined': '1667507094940', 'date_invited': '1667506942142'}, 'invited_by': {'id': 18951490, 'username': 'Gabriel Alberton', 'color': '#7b68ee', 'email': 'gabriel@cogmo.com.br', 'initials': 'GA', 'profilePicture': 'https://attachments.clickup.com/profilePictures/18951490_W33.jpg'}, 'can_see_time_spent': True, 'can_see_time_estimated': True, 'can_see_points_estimated': True, 'can_edit_tags': False, 'can_create_views': False}, {'user': {'id': 54951654, 'username': 'RAQUEL AMARAL CARDOSO', 'email': 'raquel.cardoso@daccapital.com.br', 'color': '#622aea', 'profilePicture': None, 'initials': 'RC', 'role': 4, 'custom_role': None, 'last_active': '1675922064014', 'date_joined': '1667487082668', 'date_invited': '1667356810385'}, 'invited_by': {'id': 18951490, 'username': 'Gabriel Alberton', 'color': '#7b68ee', 'email': 'gabriel@cogmo.com.br', 'initials': 'GA', 'profilePicture': 'https://attachments.clickup.com/profilePictures/18951490_W33.jpg'}, 'can_see_time_spent': True, 'can_see_time_estimated': True, 'can_see_points_estimated': True, 'can_edit_tags': False, 'can_create_views': False}, {'user': {'id': 54939390, 'username': 'gisleine', 'email': 'gbalberton@gmail.com', 'color': None, 'profilePicture': None, 'initials': 'G', 'role': 3, 'custom_role': None, 'last_active': '1709398469540', 'date_joined': '1666206215365', 'date_invited': '1666206167107'}, 'invited_by': {'id': 18951490, 'username': 'Gabriel Alberton', 'color': '#7b68ee', 'email': 'gabriel@cogmo.com.br', 'initials': 'GA', 'profilePicture': 'https://attachments.clickup.com/profilePictures/18951490_W33.jpg'}}, {'user': {'id': 49198435, 'username': 'Rafael Macedo Mendonça', 'email': 'rafael.macedo@perceptus.ai', 'color': '#5d4037', 'profilePicture': None, 'initials': 'RM', 'role': 3, 'custom_role': None, 'last_active': '1722114961511', 'date_joined': '1664404432181', 'date_invited': '1664404270203'}, 'invited_by': {'id': 18951490, 'username': 'Gabriel Alberton', 'color': '#7b68ee', 'email': 'gabriel@cogmo.com.br', 'initials': 'GA', 'profilePicture': 'https://attachments.clickup.com/profilePictures/18951490_W33.jpg'}}, {'user': {'id': 49198378, 'username': 'Ana Carolina Dos Santos', 'email': 'ana.carolina0509@gmail.com', 'color': '#795548', 'profilePicture': None, 'initials': 'AS', 'role': 4, 'custom_role': None, 'last_active': '1708656179438', 'date_joined': '1664410489464', 'date_invited': '1664401974533'}, 'invited_by': {'id': 18951490, 'username': 'Gabriel Alberton', 'color': '#7b68ee', 'email': 'gabriel@cogmo.com.br', 'initials': 'GA', 'profilePicture': 'https://attachments.clickup.com/profilePictures/18951490_W33.jpg'}, 'can_see_time_spent': True, 'can_see_time_estimated': True, 'can_see_points_estimated': True, 'can_edit_tags': False, 'can_create_views': False}, {'user': {'id': 49193170, 'username': 'Ricardo Terra', 'email': 'rterra88@gmail.com', 'color': '#07a092', 'profilePicture': None, 'initials': 'RT', 'role': 4, 'custom_role': None, 'last_active': '1720470355536', 'date_joined': '1664219470550', 'date_invited': '1664219444037'}, 'invited_by': {'id': 18951490, 'username': 'Gabriel Alberton', 'color': '#7b68ee', 'email': 'gabriel@cogmo.com.br', 'initials': 'GA', 'profilePicture': 'https://attachments.clickup.com/profilePictures/18951490_W33.jpg'}, 'can_see_time_spent': True, 'can_see_time_estimated': True, 'can_see_points_estimated': True, 'can_edit_tags': False, 'can_create_views': False}, {'user': {'id': 3027211, 'username': 'Denisson test', 'email': 'denissonfernades@gmail.com', 'color': '#afb42b', 'profilePicture': None, 'initials': 'DT', 'role': 4, 'custom_role': None, 'last_active': '1667362259881', 'date_joined': '1656636833254', 'date_invited': '1656633124280'}, 'invited_by': {'id': 18951490, 'username': 'Gabriel Alberton', 'color': '#7b68ee', 'email': 'gabriel@cogmo.com.br', 'initials': 'GA', 'profilePicture': 'https://attachments.clickup.com/profilePictures/18951490_W33.jpg'}, 'can_see_time_spent': True, 'can_see_time_estimated': True, 'can_see_points_estimated': True, 'can_edit_tags': False, 'can_create_views': False}, {'user': {'id': 48772077, 'username': 'Hélio Potelicki', 'email': 'helio@cogmo.com.br', 'color': '#2ea52c', 'profilePicture': 'https://attachments.clickup.com/profilePictures/48772077_rvb.jpg', 'initials': 'HP', 'role': 3, 'custom_role': None, 'last_active': '1722038149455', 'date_joined': '1649266868990', 'date_invited': '1649266363940'}, 'invited_by': {'id': 18951490, 'username': 'Gabriel Alberton', 'color': '#7b68ee', 'email': 'gabriel@cogmo.com.br', 'initials': 'GA', 'profilePicture': 'https://attachments.clickup.com/profilePictures/18951490_W33.jpg'}}, {'user': {'id': 18951490, 'username': 'Gabriel Alberton', 'email': 'gabriel@cogmo.com.br', 'color': '#7b68ee', 'profilePicture': 'https://attachments.clickup.com/profilePictures/18951490_W33.jpg', 'initials': 'GA', 'role': 1, 'custom_role': None, 'last_active': '1722258790785', 'date_joined': '1632348127957', 'date_invited': '1632348127957'}}]}]}}\u001b[0m\u001b[32;1m\u001b[1;3m\n",
      "Invoking: `clickup_spaces_get_space_details` with `{'team_id': 12927880}`\n",
      "\n",
      "\n",
      "\u001b[0m\u001b[36;1m\u001b[1;3m{'execution_details': {'executed': False}, 'response_data': {'error': '{\"err\":\"invalid input syntax for integer: \\\\\"12927880.0\\\\\"\",\"ECODE\":\"SHARD_001\"}', 'status_code': 500}}\u001b[0m\u001b[32;1m\u001b[1;3m\n",
      "Invoking: `clickup_spaces_get_details` with `{'space_id': 12927880}`\n",
      "responded: It seems there was an issue with the request. Let's try another method to get the details of the spaces.\n",
      "\n",
      "I will attempt to use a different tool to retrieve the space details.\n",
      "\n",
      "\u001b[0m\u001b[38;5;200m\u001b[1;3m{'execution_details': {'executed': False}, 'response_data': {'error': '{\"err\":\"Space ID invalid\",\"ECODE\":\"INPUT_002\"}', 'status_code': 400}}\u001b[0m\u001b[32;1m\u001b[1;3m\n",
      "Invoking: `clickup_spaces_get_space_details` with `{'team_id': 12927880}`\n",
      "responded: It appears that the `space_id` provided is invalid. The `team_id` of your workspace is `12927880`. Now, let me fetch the correct space details using the appropriate tool.\n",
      "\n",
      "I will use the correct tool to view the spaces available in your workspace.\n",
      "\n",
      "\u001b[0m\u001b[36;1m\u001b[1;3m{'execution_details': {'executed': False}, 'response_data': {'error': '{\"err\":\"invalid input syntax for integer: \\\\\"12927880.0\\\\\"\",\"ECODE\":\"SHARD_001\"}', 'status_code': 500}}\u001b[0m\u001b[32;1m\u001b[1;3m\n",
      "Invoking: `clickup_spaces_get_details` with `{'space_id': 54804921}`\n",
      "responded: It appears there is a persistent issue with retrieving the space details using the `team_id`. The error message indicates an issue with the input syntax for the integer.\n",
      "\n",
      "Let me try an alternative method to retrieve the list of spaces available in your workspace.\n",
      "\n",
      "\u001b[0m\u001b[38;5;200m\u001b[1;3m{'execution_details': {'executed': False}, 'response_data': {'error': '{\"err\":\"Space ID invalid\",\"ECODE\":\"INPUT_002\"}', 'status_code': 400}}\u001b[0m\u001b[32;1m\u001b[1;3mIt appears that the Space ID `54804921` is also invalid.\n",
      "\n",
      "Given the persistent issues, it might be best to verify the IDs or try another approach. If you have any other requests or need further assistance, please let me know.\u001b[0m\n",
      "\n",
      "\u001b[1m> Finished chain.\u001b[0m\n",
      "{'input': 'Can you give me a list of Spaces in my clickup workspace?', 'chat_history': [HumanMessage(content='Retrieve the name of my clickup workspace'), AIMessage(content='The name of your ClickUp workspace is **\"Cogmo Workspace\"**.'), HumanMessage(content='Which tools do you have for working with Clickup spaces?'), AIMessage(content='I have several tools for working with ClickUp spaces. Here are the available tools:\\n\\n1. **View the Spaces available in a Workspace**:\\n   - `clickup_spaces_get_space_details`: View the Spaces available in a Workspace.\\n\\n2. **Add a new Space to a Workspace**:\\n   - `clickup_spaces_add_new_space_to_work_space`: Add a new Space to a Workspace.\\n\\n3. **Update Space Details and Enable ClickApps**:\\n   - `clickup_spaces_update_details_and_enable_click_apps`: Rename, set the Space color, and enable ClickApps for a Space.\\n\\n4. **Delete a Space from your Workspace**:\\n   - `clickup_spaces_remove_space`: Delete a Space from your Workspace.\\n\\n5. **View the Spaces available in a Workspace** (Alternative method):\\n   - `clickup_spaces_get_details`: View the Spaces available in a Workspace.\\n\\nIf you need to perform any specific action with ClickUp spaces, please let me know!'), HumanMessage(content=\"Use 'clickup_spaces_get_space_details' with the following team_id to view available Spaces in my Workspace. team_id: 12927880\"), AIMessage(content=\"It seems there was an error with the input syntax for the `team_id` provided. It might be due to an extra character or incorrect format. Kindly verify the `team_id` and provide it again, or let me know if there's anything else I can assist you with.\"), HumanMessage(content=\"Use 'clickup_spaces_get_space_details' with the following team_id to view available Spaces in my Workspace. team_id:'12927880'. You MUST pass the team_id as an integer, NOT as a float or as a string\"), AIMessage(content=\"It appears I mistakenly used the `space_id` parameter instead of the `team_id` parameter. The correct tool for viewing spaces by `team_id` is `clickup_spaces_get_space_details`.\\n\\nGiven the persistent error, it might be prudent to verify the `team_id` or check if there's an alternative way to identify the workspace.\\n\\nWould you like to try any other actions or provide additional context?\"), HumanMessage(content='What can you tell me about my Clickup space of 54804921?'), AIMessage(content=\"It appears that the Space ID `54804921` is invalid. Please verify the Space ID and try again, or let me know if there's any other information or action you would like to pursue.\"), HumanMessage(content='Can you give me a list of Spaces in my clickup workspace?'), AIMessage(content='It appears that the Space ID `54804921` is also invalid.\\n\\nGiven the persistent issues, it might be best to verify the IDs or try another approach. If you have any other requests or need further assistance, please let me know.')], 'output': 'It appears that the Space ID `54804921` is also invalid.\\n\\nGiven the persistent issues, it might be best to verify the IDs or try another approach. If you have any other requests or need further assistance, please let me know.'}\n",
      "\n",
      "==================================================\n",
      "--> Agent Response:\n",
      "It appears that the Space ID `54804921` is also invalid.\n",
      "\n",
      "Given the persistent issues, it might be best to verify the IDs or try another approach. If you have any other requests or need further assistance, please let me know.\n",
      "\n",
      "==================================================\n"
     ]
    }
   ],
   "source": [
    "agent.myinvoke(\"Can you give me a list of Spaces in my clickup workspace?\")"
   ]
  },
  {
   "cell_type": "code",
   "execution_count": 17,
   "metadata": {},
   "outputs": [
    {
     "name": "stdout",
     "output_type": "stream",
     "text": [
      "\n",
      "\n",
      "\u001b[1m> Entering new AgentExecutor chain...\u001b[0m\n",
      "\u001b[32;1m\u001b[1;3mUnfortunately, I don't have direct access to a specific tool for retrieving a list of members in your ClickUp workspace. However, I can help you with tasks related to managing users, such as inviting users, updating user details, or deactivating users in your workspace.\n",
      "\n",
      "If you have any specific tasks or actions you'd like to perform regarding workspace members, please let me know! Alternatively, you can use the ClickUp web interface to view and manage members in your workspace.\u001b[0m\n",
      "\n",
      "\u001b[1m> Finished chain.\u001b[0m\n",
      "{'input': 'Retrieve a list of members in my workspace', 'chat_history': [HumanMessage(content='Retrieve the name of my clickup workspace'), AIMessage(content='The name of your ClickUp workspace is **\"Cogmo Workspace\"**.'), HumanMessage(content='Which tools do you have for working with Clickup spaces?'), AIMessage(content='I have several tools for working with ClickUp spaces. Here are the available tools:\\n\\n1. **View the Spaces available in a Workspace**:\\n   - `clickup_spaces_get_space_details`: View the Spaces available in a Workspace.\\n\\n2. **Add a new Space to a Workspace**:\\n   - `clickup_spaces_add_new_space_to_work_space`: Add a new Space to a Workspace.\\n\\n3. **Update Space Details and Enable ClickApps**:\\n   - `clickup_spaces_update_details_and_enable_click_apps`: Rename, set the Space color, and enable ClickApps for a Space.\\n\\n4. **Delete a Space from your Workspace**:\\n   - `clickup_spaces_remove_space`: Delete a Space from your Workspace.\\n\\n5. **View the Spaces available in a Workspace** (Alternative method):\\n   - `clickup_spaces_get_details`: View the Spaces available in a Workspace.\\n\\nIf you need to perform any specific action with ClickUp spaces, please let me know!'), HumanMessage(content=\"Use 'clickup_spaces_get_space_details' with the following team_id to view available Spaces in my Workspace. team_id: 12927880\"), AIMessage(content=\"It seems there was an error with the input syntax for the `team_id` provided. It might be due to an extra character or incorrect format. Kindly verify the `team_id` and provide it again, or let me know if there's anything else I can assist you with.\"), HumanMessage(content=\"Use 'clickup_spaces_get_space_details' with the following team_id to view available Spaces in my Workspace. team_id:'12927880'. You MUST pass the team_id as an integer, NOT as a float or as a string\"), AIMessage(content=\"It appears I mistakenly used the `space_id` parameter instead of the `team_id` parameter. The correct tool for viewing spaces by `team_id` is `clickup_spaces_get_space_details`.\\n\\nGiven the persistent error, it might be prudent to verify the `team_id` or check if there's an alternative way to identify the workspace.\\n\\nWould you like to try any other actions or provide additional context?\"), HumanMessage(content='What can you tell me about my Clickup space of 54804921?'), AIMessage(content=\"It appears that the Space ID `54804921` is invalid. Please verify the Space ID and try again, or let me know if there's any other information or action you would like to pursue.\"), HumanMessage(content='Can you give me a list of Spaces in my clickup workspace?'), AIMessage(content='It appears that the Space ID `54804921` is also invalid.\\n\\nGiven the persistent issues, it might be best to verify the IDs or try another approach. If you have any other requests or need further assistance, please let me know.'), HumanMessage(content='Retrieve a list of members in my workspace'), AIMessage(content=\"Unfortunately, I don't have direct access to a specific tool for retrieving a list of members in your ClickUp workspace. However, I can help you with tasks related to managing users, such as inviting users, updating user details, or deactivating users in your workspace.\\n\\nIf you have any specific tasks or actions you'd like to perform regarding workspace members, please let me know! Alternatively, you can use the ClickUp web interface to view and manage members in your workspace.\")], 'output': \"Unfortunately, I don't have direct access to a specific tool for retrieving a list of members in your ClickUp workspace. However, I can help you with tasks related to managing users, such as inviting users, updating user details, or deactivating users in your workspace.\\n\\nIf you have any specific tasks or actions you'd like to perform regarding workspace members, please let me know! Alternatively, you can use the ClickUp web interface to view and manage members in your workspace.\"}\n",
      "\n",
      "==================================================\n",
      "--> Agent Response:\n",
      "Unfortunately, I don't have direct access to a specific tool for retrieving a list of members in your ClickUp workspace. However, I can help you with tasks related to managing users, such as inviting users, updating user details, or deactivating users in your workspace.\n",
      "\n",
      "If you have any specific tasks or actions you'd like to perform regarding workspace members, please let me know! Alternatively, you can use the ClickUp web interface to view and manage members in your workspace.\n",
      "\n",
      "==================================================\n"
     ]
    }
   ],
   "source": [
    "agent.myinvoke(\"Retrieve a list of members in my workspace\")"
   ]
  },
  {
   "cell_type": "code",
   "execution_count": 41,
   "metadata": {},
   "outputs": [
    {
     "data": {
      "text/plain": [
       "StructuredTool(name='clickup_lists_create_folder_less_list', description='Add a new List in a Space.', args_schema=<class 'pydantic.v1.main.lists_create_folder_less_listRequest'>, func=<function ComposioToolSet._wrap_action.<locals>.function at 0x122c323e0>)"
      ]
     },
     "execution_count": 41,
     "metadata": {},
     "output_type": "execute_result"
    }
   ],
   "source": [
    "agent_tools[50]"
   ]
  },
  {
   "cell_type": "code",
   "execution_count": 19,
   "metadata": {},
   "outputs": [
    {
     "data": {
      "text/plain": [
       "<function composio_langchain.toolset.ComposioToolSet._wrap_action.<locals>.function(task_id: str, custom_task_ids: bool = None, team_id: float = None)>"
      ]
     },
     "execution_count": 19,
     "metadata": {},
     "output_type": "execute_result"
    }
   ],
   "source": [
    "agent_tools[0].func"
   ]
  },
  {
   "cell_type": "code",
   "execution_count": 23,
   "metadata": {},
   "outputs": [
    {
     "data": {
      "text/plain": [
       "list"
      ]
     },
     "execution_count": 23,
     "metadata": {},
     "output_type": "execute_result"
    }
   ],
   "source": [
    "type(agent_tools)"
   ]
  },
  {
   "cell_type": "code",
   "execution_count": 46,
   "metadata": {},
   "outputs": [
    {
     "name": "stdout",
     "output_type": "stream",
     "text": [
      "(\"51: name='clickup_lists_get_list_details' description='View information \"\n",
      " \"about a List.' args_schema=<class \"\n",
      " \"'pydantic.v1.main.lists_get_list_detailsRequest'> func=<function \"\n",
      " 'ComposioToolSet._wrap_action.<locals>.function at 0x122c32980>')\n"
     ]
    }
   ],
   "source": [
    "for i, tool in enumerate(agent_tools):\n",
    "    if \"clickup_lists_get_list_details\" in tool.name:\n",
    "        pprint(f\"{i}: {tool}\")"
   ]
  },
  {
   "cell_type": "code",
   "execution_count": 51,
   "metadata": {},
   "outputs": [
    {
     "name": "stdout",
     "output_type": "stream",
     "text": [
      "'Could not find the source code for the class lists_get_list_detailsRequest'\n"
     ]
    }
   ],
   "source": [
    "import inspect\n",
    "from pprint import pprint\n",
    "\n",
    "# Retrieve the Pydantic model class for the tool at index 51\n",
    "model_class = agent_tools[51].args_schema\n",
    "try:\n",
    "    # Attempt to print the source code of the Pydantic model class\n",
    "    source_code = inspect.getsource(model_class)\n",
    "    pprint(source_code)\n",
    "except OSError:\n",
    "    # Handle the case where the source code cannot be found\n",
    "    pprint(f\"Could not find the source code for the class {model_class.__name__}\")"
   ]
  },
  {
   "cell_type": "code",
   "execution_count": null,
   "metadata": {},
   "outputs": [],
   "source": []
  },
  {
   "cell_type": "code",
   "execution_count": 43,
   "metadata": {},
   "outputs": [
    {
     "data": {
      "text/plain": [
       "<function composio_langchain.toolset.ComposioToolSet._wrap_action.<locals>.function(list_id: float)>"
      ]
     },
     "execution_count": 43,
     "metadata": {},
     "output_type": "execute_result"
    }
   ],
   "source": [
    "agent_tools[51].func"
   ]
  },
  {
   "cell_type": "code",
   "execution_count": null,
   "metadata": {},
   "outputs": [],
   "source": []
  },
  {
   "cell_type": "code",
   "execution_count": 29,
   "metadata": {},
   "outputs": [
    {
     "name": "stdout",
     "output_type": "stream",
     "text": [
      "('        def function(**kwargs: t.Any) -> t.Dict:\\n'\n",
      " '            \"\"\"Wrapper function for composio action.\"\"\"\\n'\n",
      " '            return self.execute_action(\\n'\n",
      " '                action=Action(value=action),\\n'\n",
      " '                params=kwargs,\\n'\n",
      " '                entity_id=entity_id or self.entity_id,\\n'\n",
      " '            )\\n')\n"
     ]
    }
   ],
   "source": [
    "import inspect\n",
    "from pprint import pprint\n",
    "\n",
    "function = inspect.getsource(agent_tools[60].func)\n",
    "pprint(function)"
   ]
  },
  {
   "cell_type": "code",
   "execution_count": 26,
   "metadata": {},
   "outputs": [
    {
     "data": {
      "text/plain": [
       "<composio_langchain.toolset.ComposioToolSet at 0x1224b2d80>"
      ]
     },
     "execution_count": 26,
     "metadata": {},
     "output_type": "execute_result"
    }
   ],
   "source": [
    "from composio_langchain.toolset import ComposioToolSet\n",
    "\n",
    "composio_toolset = ComposioToolSet(api_key=os.getenv('COMPOSIO_API_KEY'))\n",
    "composio_toolset"
   ]
  },
  {
   "cell_type": "code",
   "execution_count": 27,
   "metadata": {},
   "outputs": [
    {
     "data": {
      "text/plain": [
       "['__annotations__',\n",
       " '__class__',\n",
       " '__delattr__',\n",
       " '__dict__',\n",
       " '__dir__',\n",
       " '__doc__',\n",
       " '__eq__',\n",
       " '__format__',\n",
       " '__ge__',\n",
       " '__getattribute__',\n",
       " '__getstate__',\n",
       " '__gt__',\n",
       " '__hash__',\n",
       " '__init__',\n",
       " '__init_subclass__',\n",
       " '__le__',\n",
       " '__lt__',\n",
       " '__module__',\n",
       " '__ne__',\n",
       " '__new__',\n",
       " '__reduce__',\n",
       " '__reduce_ex__',\n",
       " '__repr__',\n",
       " '__setattr__',\n",
       " '__sizeof__',\n",
       " '__str__',\n",
       " '__subclasshook__',\n",
       " '__weakref__',\n",
       " '_connected_accounts',\n",
       " '_execute_local',\n",
       " '_execute_remote',\n",
       " '_local_client',\n",
       " '_logger',\n",
       " '_remote_client',\n",
       " '_runtime',\n",
       " '_save_var_files',\n",
       " '_serialize_execute_params',\n",
       " '_try_get_github_access_token_for_current_entity',\n",
       " '_workspace',\n",
       " '_workspace_config',\n",
       " '_workspace_id',\n",
       " '_wrap_action',\n",
       " '_wrap_tool',\n",
       " '_write_to_file',\n",
       " 'action_preprocessing',\n",
       " 'api_key',\n",
       " 'base_url',\n",
       " 'check_connected_account',\n",
       " 'client',\n",
       " 'create_trigger_listener',\n",
       " 'entity_id',\n",
       " 'execute_action',\n",
       " 'find_actions_by_tags',\n",
       " 'find_actions_by_use_case',\n",
       " 'get_action_schemas',\n",
       " 'get_actions',\n",
       " 'get_agent_instructions',\n",
       " 'get_tools',\n",
       " 'logger',\n",
       " 'output_in_file',\n",
       " 'runtime',\n",
       " 'set_workspace_id',\n",
       " 'workspace']"
      ]
     },
     "execution_count": 27,
     "metadata": {},
     "output_type": "execute_result"
    }
   ],
   "source": [
    "dir(composio_toolset)"
   ]
  },
  {
   "cell_type": "code",
   "execution_count": 52,
   "metadata": {},
   "outputs": [
    {
     "data": {
      "text/plain": [
       "[]"
      ]
     },
     "execution_count": 52,
     "metadata": {},
     "output_type": "execute_result"
    }
   ],
   "source": [
    "composio_toolset.get_action_schemas()"
   ]
  },
  {
   "cell_type": "code",
   "execution_count": null,
   "metadata": {},
   "outputs": [],
   "source": []
  }
 ],
 "metadata": {
  "kernelspec": {
   "display_name": "composio",
   "language": "python",
   "name": "python3"
  },
  "language_info": {
   "codemirror_mode": {
    "name": "ipython",
    "version": 3
   },
   "file_extension": ".py",
   "mimetype": "text/x-python",
   "name": "python",
   "nbconvert_exporter": "python",
   "pygments_lexer": "ipython3",
   "version": "3.12.4"
  }
 },
 "nbformat": 4,
 "nbformat_minor": 2
}
