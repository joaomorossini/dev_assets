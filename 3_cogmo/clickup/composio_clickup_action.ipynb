{
 "cells": [
  {
   "cell_type": "code",
   "execution_count": null,
   "metadata": {},
   "outputs": [],
   "source": [
    "composio_clickup_actions = [\n",
    "    \"CLICKUP_GET_LIST\",\n",
    "    \"CLICKUP_GET_LISTS\",\n",
    "    \"CLICKUP_CREATE_LIST\",\n",
    "    \"CLICKUP_MEMBERS_GET_LIST_USERS\",\n",
    "    \"CLICKUP_AUTHORIZATION_VIEW_ACCOUNT_DETAILS\",\n",
    "    \"CLICKUP_AUTHORIZATION_GET_WORK_SPACE_LIST\",\n",
    "    \"CLICKUP_SPACES_GET_SPACE_DETAILS\",\n",
    "    \"CLICKUP_GET_WORKSPACE_SEATS\",\n",
    "    \"CLICKUP_GET_SPACES\",\n",
    "    \"CLICKUP_GET_SPACE\",\n",
    "    \"CLICKUP_GET_FOLDERS\",\n",
    "    \"CLICKUP_CREATE_TASK_ATTACHMENT\",\n",
    "    \"CLICKUP_CREATE_TASK_COMMENT\",\n",
    "    \"CLICKUP_GET_TASK_COMMENTS\",\n",
    "    \"CLICKUP_ADD_TASK_TO_LIST\",\n",
    "    \"CLICKUP_REMOVE_TASK_FROM_LIST\",\n",
    "    \"CLICKUP_CREATE_TASK\",\n",
    "    \"CLICKUP_GET_TASK\",\n",
    "    \"CLICKUP_UPDATE_TASK\",\n",
    "    \"CLICKUP_DELETE_TASK\",\n",
    "    \"CLICKUP_GET_TASKS\",\n",
    "    \"CLICKUP_GET_FILTERED_TEAM_TASKS\",\n",
    "    \"CLICKUP_GET_TASK_MEMBERS\",\n",
    "    \"CLICKUP_INVITE_GUEST_TO_WORKSPACE\",\n",
    "    \"CLICKUP_INVITE_GUEST_TO_WORKSPACE\",\n",
    "    \"CLICKUP_REMOVE_GUEST_FROM_WORKSPACE\",\n",
    "    \"CLICKUP_ADD_GUEST_TO_TASK\",\n",
    "    \"CLICKUP_REMOVE_GUEST_FROM_TASK\",\n",
    "    \"CLICKUP_ADD_GUEST_TO_LIST\",\n",
    "    \"CLICKUP_REMOVE_GUEST_FROM_LIST\",\n",
    "    \"CLICKUP_INVITE_USER_TO_WORKSPACE\",\n",
    "    \"CLICKUP_REMOVE_USER_FROM_WORKSPACE\"\n",
    "]"
   ]
  },
  {
   "cell_type": "code",
   "execution_count": null,
   "metadata": {},
   "outputs": [],
   "source": []
  }
 ],
 "metadata": {
  "kernelspec": {
   "display_name": "composio",
   "language": "python",
   "name": "python3"
  },
  "language_info": {
   "codemirror_mode": {
    "name": "ipython",
    "version": 3
   },
   "file_extension": ".py",
   "mimetype": "text/x-python",
   "name": "python",
   "nbconvert_exporter": "python",
   "pygments_lexer": "ipython3",
   "version": "3.12.4"
  }
 },
 "nbformat": 4,
 "nbformat_minor": 2
}
