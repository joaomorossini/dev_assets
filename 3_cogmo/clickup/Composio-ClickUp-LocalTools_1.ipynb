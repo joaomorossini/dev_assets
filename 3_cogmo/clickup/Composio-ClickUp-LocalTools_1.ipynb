{
 "cells": [
  {
   "cell_type": "markdown",
   "metadata": {},
   "source": [
    "## Create Task Tool"
   ]
  },
  {
   "cell_type": "code",
   "execution_count": 1,
   "metadata": {},
   "outputs": [
    {
     "name": "stderr",
     "output_type": "stream",
     "text": [
      "/Users/morossini/anaconda3/envs/secretary/lib/python3.11/site-packages/paramiko/pkey.py:100: CryptographyDeprecationWarning: TripleDES has been moved to cryptography.hazmat.decrepit.ciphers.algorithms.TripleDES and will be removed from this module in 48.0.0.\n",
      "  \"cipher\": algorithms.TripleDES,\n",
      "/Users/morossini/anaconda3/envs/secretary/lib/python3.11/site-packages/paramiko/transport.py:259: CryptographyDeprecationWarning: TripleDES has been moved to cryptography.hazmat.decrepit.ciphers.algorithms.TripleDES and will be removed from this module in 48.0.0.\n",
      "  \"class\": algorithms.TripleDES,\n"
     ]
    }
   ],
   "source": [
    "import os\n",
    "import requests\n",
    "from dotenv import load_dotenv\n",
    "from typing import Any, Type, List\n",
    "from langchain_core.tools import BaseTool\n",
    "from langchain_core.pydantic_v1 import BaseModel, Field\n",
    "from composio.tools.local.clickup.actions.create_task import CreateTask, CreateTaskRequest, CreateTaskResponse\n",
    "\n",
    "\n",
    "load_dotenv()\n",
    "CLICKUP_TOKEN = os.getenv(\"CLICKUP_TOKEN\")\n",
    "\n",
    "class CreateTaskTool(BaseTool):\n",
    "    name: str = \"create_task_tool\"\n",
    "    description: str = \"\"\"\n",
    "    Ferramenta para criar uma nova tarefa no ClickUp com base nos parâmetros fornecidos.\n",
    "    - Criar Tarefa:\n",
    "        Invocar: \"CreateTaskTool\" com os parâmetros apropriados.\n",
    "    \"\"\"\n",
    "    args_schema: Type[BaseModel] = CreateTaskRequest\n",
    "    headers: dict = {\"Authorization\": f\"{CLICKUP_TOKEN}\"}\n",
    "\n",
    "    def __init__(self, **data):\n",
    "        super().__init__(**data)\n",
    "\n",
    "    def _run(self, list_id: int, **task_data) -> Any:\n",
    "        \"\"\"Executa a criação de tarefa no ClickUp\"\"\"\n",
    "\n",
    "        action = CreateTask()\n",
    "\n",
    "        url = f\"{action.url}{action.path}\".format(list_id=list_id)\n",
    "        params = {key: value for key, value in task_data.items() if value is not None}\n",
    "\n",
    "        response = requests.post(url, headers=self.headers, json=params)\n",
    "\n",
    "        if response.status_code == 201:\n",
    "            response_json = response.json()\n",
    "        else:\n",
    "            try:\n",
    "                response_json = response.json()\n",
    "            except requests.JSONDecodeError:\n",
    "                response_json = {\"error\": \"Invalid JSON response\"}\n",
    "\n",
    "        print(f\"Response Body: {response_json}\")\n",
    "        return CreateTaskResponse(data=response_json)"
   ]
  },
  {
   "cell_type": "markdown",
   "metadata": {},
   "source": [
    "## Delete Task Tool"
   ]
  },
  {
   "cell_type": "code",
   "execution_count": 2,
   "metadata": {},
   "outputs": [],
   "source": [
    "from composio.tools.local.clickup.actions.delete_task import DeleteTask, DeleteTaskRequest, DeleteTaskResponse\n",
    "\n",
    "class DeleteTaskTool(BaseTool):\n",
    "    name: str = \"delete_task_tool\"\n",
    "    description: str = \"\"\"\n",
    "    Ferramenta para deletar uma tarefa no ClickUp com base nos parâmetros fornecidos.\n",
    "    - Deletar Tarefa:\n",
    "        Invocar: \"DeleteTaskTool\" com os parâmetros apropriados.\n",
    "    \"\"\"\n",
    "    args_schema: Type[BaseModel] = DeleteTaskRequest\n",
    "    headers: dict = {\"Authorization\": f\"Bearer {CLICKUP_TOKEN}\"}\n",
    "\n",
    "    def __init__(self, **data):\n",
    "        super().__init__(**data)\n",
    "\n",
    "    def _run(self, task_id: str, **delete_params) -> Any:\n",
    "        \"\"\"Executa a deleção de tarefa no ClickUp\"\"\"\n",
    "\n",
    "        action = DeleteTask()\n",
    "\n",
    "\n",
    "        url = f\"{action.url}{action.path}\".format(task_id=task_id)\n",
    "        params = {key: value for key, value in delete_params.items() if value is not None}\n",
    "\n",
    "        response = requests.delete(url, headers=self.headers, params=params)\n",
    "\n",
    "        if response.status_code == 204:\n",
    "            response_json = {\"message\": \"Task deleted successfully\"}\n",
    "        else:\n",
    "            try:\n",
    "                response_json = response.json()\n",
    "            except requests.JSONDecodeError:\n",
    "                response_json = {\"error\": \"Invalid JSON response\"}\n",
    "        \n",
    "        print(f\"Response Body: {response_json}\")\n",
    "        return DeleteTaskResponse(data=response_json)"
   ]
  },
  {
   "cell_type": "markdown",
   "metadata": {},
   "source": [
    "## Update Task Tool"
   ]
  },
  {
   "cell_type": "code",
   "execution_count": 3,
   "metadata": {},
   "outputs": [],
   "source": [
    "from composio.tools.local.clickup.actions.update_task import UpdateTask, UpdateTaskRequest, UpdateTaskResponse\n",
    "\n",
    "class UpdateTaskRequestCustom(UpdateTaskRequest):\n",
    "    assignees_add: List[int] = Field(\n",
    "        default=None,\n",
    "        alias=\"assignees__add\",\n",
    "        description=\"\",\n",
    "    )\n",
    "    assignees_rem: List[int] = Field(\n",
    "        default=None,\n",
    "        alias=\"assignees__rem\",\n",
    "        description=\"\",\n",
    "    )\n",
    "\n",
    "\n",
    "class UpdateTaskTool(BaseTool):\n",
    "    name: str = \"update_task_tool\"\n",
    "    description: str = \"\"\"\n",
    "    Ferramenta para atualizar uma tarefa no ClickUp com base nos parâmetros fornecidos.\n",
    "    - Atualizar Tarefa:\n",
    "        Invocar: \"UpdateTaskTool\" com os parâmetros apropriados.\n",
    "    \"\"\"\n",
    "    args_schema: Type[BaseModel] = UpdateTaskRequestCustom\n",
    "    headers: dict = {\"Authorization\": f\"Bearer {CLICKUP_TOKEN}\"}\n",
    "\n",
    "    def __init__(self, **data):\n",
    "        super().__init__(**data)\n",
    "\n",
    "    def _run(self, task_id: str, **update_params) -> Any:\n",
    "        \"\"\"Executa a atualização de tarefa no ClickUp\"\"\"\n",
    "\n",
    "        action = UpdateTask()\n",
    "\n",
    "        url = f\"{action.url}{action.path}\".format(task_id=task_id)\n",
    "        params = {key: value for key, value in update_params.items() if value is not None}\n",
    "\n",
    "        response = requests.put(url, headers=self.headers, json=params)\n",
    "\n",
    "        if response.status_code == 200:\n",
    "            response_json = response.json()\n",
    "        else:\n",
    "            try:\n",
    "                response_json = response.json()\n",
    "            except requests.JSONDecodeError:\n",
    "                response_json = {\"error\": \"Invalid JSON response\"}\n",
    "        \n",
    "        print(f\"Response Body: {response_json}\")\n",
    "        return UpdateTaskResponse(data=response_json)"
   ]
  },
  {
   "cell_type": "markdown",
   "metadata": {},
   "source": [
    "## Create Task Comment"
   ]
  },
  {
   "cell_type": "code",
   "execution_count": 4,
   "metadata": {},
   "outputs": [],
   "source": [
    "from composio.tools.local.clickup.actions.create_task_comment import CreateTaskComment, CreateTaskCommentRequest, CreateTaskCommentResponse\n",
    "\n",
    "class CreateTaskCommentTool(BaseTool):\n",
    "    name: str = \"create_task_comment_tool\"\n",
    "    description: str = \"\"\"\n",
    "    Ferramenta para adicionar um novo comentário a uma tarefa no ClickUp com base nos parâmetros fornecidos.\n",
    "    - Criar Comentário:\n",
    "        Invocar: \"CreateTaskCommentTool\" com os parâmetros apropriados.\n",
    "    \"\"\"\n",
    "    args_schema: Type[BaseModel] = CreateTaskCommentRequest\n",
    "    headers: dict = {\"Authorization\": f\"Bearer {CLICKUP_TOKEN}\"}\n",
    "\n",
    "    def __init__(self, **data):\n",
    "        super().__init__(**data)\n",
    "\n",
    "    def _run(self, task_id: str, **comment_data) -> Any:\n",
    "        \"\"\"Executa a criação de comentário na tarefa no ClickUp\"\"\"\n",
    "\n",
    "        action = CreateTaskComment()\n",
    "\n",
    "        url = f\"{action.url}{action.path}\".format(task_id=task_id)\n",
    "        params = {key: value for key, value in comment_data.items() if value is not None}\n",
    "\n",
    "        response = requests.post(url, headers=self.headers, json=params)\n",
    "\n",
    "        if response.status_code == 200:\n",
    "            response_json = response.json()\n",
    "        else:\n",
    "            try:\n",
    "                response_json = response.json()\n",
    "            except requests.JSONDecodeError:\n",
    "                response_json = {\"error\": \"Invalid JSON response\"}\n",
    "        \n",
    "        print(f\"Response Body: {response_json}\")\n",
    "        return CreateTaskCommentResponse(data=response_json)\n"
   ]
  },
  {
   "cell_type": "markdown",
   "metadata": {},
   "source": [
    "## Get Task Comments"
   ]
  },
  {
   "cell_type": "code",
   "execution_count": 5,
   "metadata": {},
   "outputs": [],
   "source": [
    "from composio.tools.local.clickup.actions.get_task_comments import GetTaskComments, GetTaskCommentsRequest, GetTaskCommentsResponse\n",
    "\n",
    "class GetTaskCommentsTool(BaseTool):\n",
    "    name: str = \"get_task_comments_tool\"\n",
    "    description: str = \"\"\"\n",
    "    Ferramenta para obter os comentários de uma tarefa no ClickUp com base nos parâmetros fornecidos.\n",
    "    - Obter Comentários:\n",
    "        Invocar: \"GetTaskCommentsTool\" com os parâmetros apropriados.\n",
    "    \"\"\"\n",
    "    args_schema: Type[BaseModel] = GetTaskCommentsRequest\n",
    "    headers: dict = {\"Authorization\": f\"Bearer {CLICKUP_TOKEN}\"}\n",
    "\n",
    "    def __init__(self, **data):\n",
    "        super().__init__(**data)\n",
    "\n",
    "    def _run(self, task_id: str, **query_params) -> Any:\n",
    "        \"\"\"Executa a consulta de comentários da tarefa no ClickUp\"\"\"\n",
    "\n",
    "        action = GetTaskComments()\n",
    "\n",
    "        url = f\"{action.url}{action.path}\".format(task_id=task_id)\n",
    "        params = {key: value for key, value in query_params.items() if value is not None}\n",
    "\n",
    "        response = requests.get(url, headers=self.headers, params=params)\n",
    "\n",
    "        if response.status_code == 200:\n",
    "            response_json = response.json()\n",
    "        else:\n",
    "            try:\n",
    "                response_json = response.json()\n",
    "            except requests.JSONDecodeError:\n",
    "                response_json = {\"error\": \"Invalid JSON response\"}\n",
    "        \n",
    "        print(f\"Response Body: {response_json}\")\n",
    "        return GetTaskCommentsResponse(data=response_json)"
   ]
  },
  {
   "cell_type": "markdown",
   "metadata": {},
   "source": [
    "## Add Task to List\n",
    "\n",
    "**Necessita do plano ilimitado da ClickUp**"
   ]
  },
  {
   "cell_type": "code",
   "execution_count": 6,
   "metadata": {},
   "outputs": [],
   "source": [
    "from composio.tools.local.clickup.actions.add_task_to_list import AddTaskToList, AddTaskToListRequest, AddTaskToListResponse\n",
    "\n",
    "class AddTaskToListTool(BaseTool):\n",
    "    name: str = \"add_task_to_list_tool\"\n",
    "    description: str = \"\"\"\n",
    "    Ferramenta para adicionar uma tarefa a uma lista no ClickUp com base nos parâmetros fornecidos.\n",
    "    - Adicionar Tarefa à Lista:\n",
    "        Invocar: \"AddTaskToListTool\" com os parâmetros apropriados.\n",
    "    \"\"\"\n",
    "    args_schema: Type[BaseModel] = AddTaskToListRequest\n",
    "    headers: dict = {\"Authorization\": f\"Bearer {CLICKUP_TOKEN}\"}\n",
    "\n",
    "    def __init__(self, **data):\n",
    "        super().__init__(**data)\n",
    "\n",
    "    def _run(self, list_id: int, task_id: str) -> Any:\n",
    "        \"\"\"Executa a adição de tarefa a uma lista no ClickUp\"\"\"\n",
    "\n",
    "        action = AddTaskToList()\n",
    "\n",
    "        url = f\"{action.url}{action.path}\".format(list_id=list_id, task_id=task_id)\n",
    "        params = {}  # Sem parâmetros adicionais para esta ação\n",
    "\n",
    "        response = requests.post(url, headers=self.headers, json=params)\n",
    "\n",
    "        if response.status_code == 200:\n",
    "            response_json = response.json()\n",
    "        else:\n",
    "            try:\n",
    "                response_json = response.json()\n",
    "            except requests.JSONDecodeError:\n",
    "                response_json = {\"error\": \"Invalid JSON response\"}\n",
    "        \n",
    "        print(f\"Response Body: {response_json}\")\n",
    "        return AddTaskToListResponse(data=response_json)"
   ]
  },
  {
   "cell_type": "markdown",
   "metadata": {},
   "source": [
    "## Remove Task From List"
   ]
  },
  {
   "cell_type": "code",
   "execution_count": 7,
   "metadata": {},
   "outputs": [],
   "source": [
    "from composio.tools.local.clickup.actions.remove_task_from_list import RemoveTaskFromList, RemoveTaskFromListRequest, RemoveTaskFromListResponse\n",
    "\n",
    "class RemoveTaskFromListTool(BaseTool):\n",
    "    name: str = \"remove_task_from_list_tool\"\n",
    "    description: str = \"\"\"\n",
    "    Ferramenta para remover uma tarefa de uma lista no ClickUp com base nos parâmetros fornecidos.\n",
    "    - Remover Tarefa da Lista:\n",
    "        Invocar: \"RemoveTaskFromListTool\" com os parâmetros apropriados.\n",
    "    \"\"\"\n",
    "    args_schema: Type[BaseModel] = RemoveTaskFromListRequest\n",
    "    headers: dict = {\"Authorization\": f\"Bearer {CLICKUP_TOKEN}\"}\n",
    "\n",
    "    def __init__(self, **data):\n",
    "        super().__init__(**data)\n",
    "\n",
    "    def _run(self, list_id: int, task_id: str) -> Any:\n",
    "        \"\"\"Executa a remoção de uma tarefa de uma lista no ClickUp\"\"\"\n",
    "\n",
    "        action = RemoveTaskFromList()\n",
    "\n",
    "        url = f\"{action.url}{action.path}\".format(list_id=list_id, task_id=task_id)\n",
    "\n",
    "        response = requests.delete(url, headers=self.headers)\n",
    "\n",
    "        if response.status_code == 200:\n",
    "            response_json = response.json()\n",
    "        else:\n",
    "            try:\n",
    "                response_json = response.json()\n",
    "            except requests.JSONDecodeError:\n",
    "                response_json = {\"error\": \"Invalid JSON response\"}\n",
    "        \n",
    "        print(f\"Response Body: {response_json}\")\n",
    "        return RemoveTaskFromListResponse(data=response_json)"
   ]
  },
  {
   "cell_type": "markdown",
   "metadata": {},
   "source": [
    "## Create Folderless List"
   ]
  },
  {
   "cell_type": "code",
   "execution_count": 8,
   "metadata": {},
   "outputs": [],
   "source": [
    "from composio.tools.local.clickup.actions.create_folderless_list import CreateFolderlessList, CreateFolderlessListRequest, CreateFolderlessListResponse\n",
    "\n",
    "class CreateFolderlessListTool(BaseTool):\n",
    "    name: str = \"create_folderless_list_tool\"\n",
    "    description: str = \"\"\"\n",
    "    Ferramenta para criar uma nova lista em um espaço no ClickUp com base nos parâmetros fornecidos.\n",
    "    - Criar Lista Sem Pasta:\n",
    "        Invocar: \"CreateFolderlessListTool\" com os parâmetros apropriados.\n",
    "    \"\"\"\n",
    "    args_schema: Type[BaseModel] = CreateFolderlessListRequest\n",
    "    headers: dict = {\"Authorization\": f\"Bearer {CLICKUP_TOKEN}\"}\n",
    "\n",
    "    def __init__(self, **data):\n",
    "        super().__init__(**data)\n",
    "\n",
    "    def _run(self, space_id: int, **list_data) -> Any:\n",
    "        \"\"\"Executa a criação de uma lista sem pasta no ClickUp\"\"\"\n",
    "\n",
    "        action = CreateFolderlessList()\n",
    "\n",
    "        url = f\"{action.url}{action.path}\".format(space_id=space_id)\n",
    "        params = {key: value for key, value in list_data.items() if value is not None}\n",
    "\n",
    "        response = requests.post(url, headers=self.headers, json=params)\n",
    "\n",
    "        if response.status_code == 200:\n",
    "            response_json = response.json()\n",
    "        else:\n",
    "            try:\n",
    "                response_json = response.json()\n",
    "            except requests.JSONDecodeError:\n",
    "                response_json = {\"error\": \"Invalid JSON response\"}\n",
    "        \n",
    "        print(f\"Response Body: {response_json}\")\n",
    "        return CreateFolderlessListResponse(data=response_json)"
   ]
  },
  {
   "cell_type": "markdown",
   "metadata": {},
   "source": [
    "## Get Lists"
   ]
  },
  {
   "cell_type": "code",
   "execution_count": 9,
   "metadata": {},
   "outputs": [],
   "source": [
    "from composio.tools.local.clickup.actions.get_lists import GetLists, GetListsRequest, GetListsResponse\n",
    "\n",
    "class GetListsTool(BaseTool):\n",
    "    name: str = \"get_lists_tool\"\n",
    "    description: str = \"\"\"\n",
    "    Ferramenta para visualizar as listas dentro de uma pasta no ClickUp com base nos parâmetros fornecidos.\n",
    "    - Obter Listas:\n",
    "        Invocar: \"GetListsTool\" com os parâmetros apropriados.\n",
    "    \"\"\"\n",
    "    args_schema: Type[BaseModel] = GetListsRequest\n",
    "    headers: dict = {\"Authorization\": f\"Bearer {CLICKUP_TOKEN}\"}\n",
    "\n",
    "    def __init__(self, **data):\n",
    "        super().__init__(**data)\n",
    "\n",
    "    def _run(self, folder_id: int, **query_params) -> Any:\n",
    "        \"\"\"Executa a obtenção de listas dentro de uma pasta no ClickUp\"\"\"\n",
    "\n",
    "        action = GetLists()\n",
    "\n",
    "        url = f\"{action.url}{action.path}\".format(folder_id=folder_id)\n",
    "        params = {key: value for key, value in query_params.items() if value is not None}\n",
    "\n",
    "        response = requests.get(url, headers=self.headers, params=params)\n",
    "\n",
    "        if response.status_code == 200:\n",
    "            response_json = response.json()\n",
    "        else:\n",
    "            try:\n",
    "                response_json = response.json()\n",
    "            except requests.JSONDecodeError:\n",
    "                response_json = {\"error\": \"Invalid JSON response\"}\n",
    "        \n",
    "        print(f\"Response Body: {response_json}\")\n",
    "        return GetListsResponse(data=response_json)"
   ]
  },
  {
   "cell_type": "markdown",
   "metadata": {},
   "source": [
    "## Agente"
   ]
  },
  {
   "cell_type": "code",
   "execution_count": 10,
   "metadata": {},
   "outputs": [],
   "source": [
    "from langchain import hub\n",
    "from langchain_openai import AzureChatOpenAI\n",
    "from langchain.agents import AgentExecutor, create_tool_calling_agent\n",
    "\n",
    "load_dotenv()\n",
    "\n",
    "llm = AzureChatOpenAI(model=\"gpt-4o\")"
   ]
  },
  {
   "cell_type": "code",
   "execution_count": 11,
   "metadata": {},
   "outputs": [],
   "source": [
    "new_prompt = f\"\"\"\"\\n\n",
    "Você é o Jarbas, Gerente de Projetos da Cogmo Technology\n",
    "\n",
    "Using Tools:\n",
    "You have access to a variety of tools to help you in your conversations.\n",
    "Make sure to always pass the correct arguments to each tool.\n",
    "\n",
    "Project Management:\n",
    "Use ClickUp to manage projects and tasks. To do that, you need to understand its structure.\n",
    "Users will refer to lists by name (not always the exact name), so you need to search for the closest match and get its ID.\n",
    "-> Workspace: The highest level of organization in ClickUp. It contains all of your Spaces.\n",
    "--> Space: A collection of Folders and Lists. It's a way to group related work together.\n",
    "---> Folder: Used to group Lists together.\n",
    "----> List: Used to group tasks together.\n",
    "-----> Task: The basic unit of work in ClickUp. They can be assigned to people, have due dates, and more.\n",
    "Important ClickUp IDs (Always use these IDs when interacting with ClickUp):\n",
    "- Cogmo Workspace (aka \"team_id\"): {os.getenv('CLICKUP_TEAM_ID', 12927880)}\n",
    "- 'Projetos' Space id {os.getenv('CLICKUP_PROJETOS_SPACE_ID', 54804921)}\n",
    "- \"Agentes Folder id: 90131663060\n",
    "- \"clickup_agent\" List id: 901304909413\n",
    "\"\"\"\n",
    "prompt.messages[0].prompt.template = new_prompt"
   ]
  },
  {
   "cell_type": "code",
   "execution_count": 12,
   "metadata": {},
   "outputs": [
    {
     "name": "stderr",
     "output_type": "stream",
     "text": [
      "/Users/morossini/anaconda3/envs/secretary/lib/python3.11/site-packages/pydantic/json_schema.py:2179: PydanticJsonSchemaWarning: Default value alias='assignees__add' alias_priority=2 description='' extra={} is not JSON serializable; excluding default from JSON schema [non-serializable-default]\n",
      "  warnings.warn(message, PydanticJsonSchemaWarning)\n",
      "/Users/morossini/anaconda3/envs/secretary/lib/python3.11/site-packages/pydantic/json_schema.py:2179: PydanticJsonSchemaWarning: Default value alias='assignees__rem' alias_priority=2 description='' extra={} is not JSON serializable; excluding default from JSON schema [non-serializable-default]\n",
      "  warnings.warn(message, PydanticJsonSchemaWarning)\n"
     ]
    }
   ],
   "source": [
    "tools = [\n",
    "    CreateTaskTool(), \n",
    "    DeleteTaskTool(), \n",
    "    UpdateTaskTool(), \n",
    "    CreateTaskCommentTool(),\n",
    "    GetTaskCommentsTool(),\n",
    "    # AddTaskToListTool(),\n",
    "    RemoveTaskFromListTool(),\n",
    "    CreateFolderlessListTool(),\n",
    "    GetListsTool(),\n",
    "]\n",
    "\n",
    "agent = create_tool_calling_agent(llm, tools, prompt)\n",
    "agent_executor = AgentExecutor(agent=agent, tools=tools, verbose=True)"
   ]
  },
  {
   "cell_type": "code",
   "execution_count": 13,
   "metadata": {},
   "outputs": [
    {
     "name": "stdout",
     "output_type": "stream",
     "text": [
      "verbose=True agent=RunnableMultiActionAgent(runnable=RunnableAssign(mapper={\n",
      "  agent_scratchpad: RunnableLambda(lambda x: message_formatter(x['intermediate_steps']))\n",
      "})\n",
      "| ChatPromptTemplate(input_variables=['agent_scratchpad', 'input'], optional_variables=['chat_history'], input_types={'chat_history': typing.List[typing.Union[langchain_core.messages.ai.AIMessage, langchain_core.messages.human.HumanMessage, langchain_core.messages.chat.ChatMessage, langchain_core.messages.system.SystemMessage, langchain_core.messages.function.FunctionMessage, langchain_core.messages.tool.ToolMessage]], 'agent_scratchpad': typing.List[typing.Union[langchain_core.messages.ai.AIMessage, langchain_core.messages.human.HumanMessage, langchain_core.messages.chat.ChatMessage, langchain_core.messages.system.SystemMessage, langchain_core.messages.function.FunctionMessage, langchain_core.messages.tool.ToolMessage]]}, partial_variables={'chat_history': []}, metadata={'lc_hub_owner': 'hwchase17', 'lc_hub_repo': 'openai-tools-agent', 'lc_hub_commit_hash': 'c18672812789a3b9697656dd539edf0120285dcae36396d0b548ae42a4ed66f5'}, messages=[SystemMessagePromptTemplate(prompt=PromptTemplate(input_variables=[], template='\"\\n\\nVocê é o Jarbas, Gerente de Projetos da Cogmo Technology\\n\\nUsing Tools:\\nYou have access to a variety of tools to help you in your conversations.\\nMake sure to always pass the correct arguments to each tool.\\n\\nProject Management:\\nUse ClickUp to manage projects and tasks. To do that, you need to understand its structure.\\nUsers will refer to lists by name (not always the exact name), so you need to search for the closest match and get its ID.\\n-> Workspace: The highest level of organization in ClickUp. It contains all of your Spaces.\\n--> Space: A collection of Folders and Lists. It\\'s a way to group related work together.\\n---> Folder: Used to group Lists together.\\n----> List: Used to group tasks together.\\n-----> Task: The basic unit of work in ClickUp. They can be assigned to people, have due dates, and more.\\nImportant ClickUp IDs (Always use these IDs when interacting with ClickUp):\\n- Cogmo Workspace (aka \"team_id\"): 12927880\\n- \\'Projetos\\' Space id 54804921\\n- \"Agentes Folder id: 90131663060\\n- \"clickup_agent\" List id: 901304909413\\n')), MessagesPlaceholder(variable_name='chat_history', optional=True), HumanMessagePromptTemplate(prompt=PromptTemplate(input_variables=['input'], template='{input}')), MessagesPlaceholder(variable_name='agent_scratchpad')])\n",
      "| RunnableBinding(bound=AzureChatOpenAI(client=<openai.resources.chat.completions.Completions object at 0x11e2a0190>, async_client=<openai.resources.chat.completions.AsyncCompletions object at 0x11e58fb50>, model_name='gpt-4o', openai_api_key=SecretStr('**********'), openai_proxy='', azure_endpoint='https://openai-cogmo-2.openai.azure.com', openai_api_version='2023-12-01-preview', openai_api_type='azure'), kwargs={'tools': [{'type': 'function', 'function': {'name': 'create_task_tool', 'description': '\\n    Ferramenta para criar uma nova tarefa no ClickUp com base nos parâmetros fornecidos.\\n    - Criar Tarefa:\\n        Invocar: \"CreateTaskTool\" com os parâmetros apropriados.\\n    ', 'parameters': {'properties': {'list_id': {'description': '', 'type': 'integer'}, 'custom_task_ids': {'default': None, 'description': 'If you want to reference a task by it\"s custom task id, this value must be `true`. ', 'type': 'boolean'}, 'team_id': {'default': None, 'description': 'Only used when the `custom_task_ids` parameter is set to `true`.   For example: `custom_task_ids=true&team_id=123`. ', 'type': 'integer'}, 'tags': {'default': None, 'description': '', 'items': {'type': 'string'}, 'type': 'array'}, 'description': {'default': None, 'description': 'Description', 'type': 'string'}, 'name': {'description': 'Name', 'type': 'string'}, 'assignees': {'default': None, 'description': '', 'items': {'type': 'integer'}, 'type': 'array'}, 'status': {'default': None, 'description': 'Status', 'type': 'string'}, 'priority': {'default': None, 'description': 'Priority', 'type': 'integer'}, 'due_date': {'default': None, 'description': 'Due Date', 'type': 'integer'}, 'due_date_time': {'default': None, 'description': 'Due Date Time', 'type': 'boolean'}, 'time_estimate': {'default': None, 'description': 'Time Estimate', 'type': 'integer'}, 'start_date': {'default': None, 'description': 'Start Date', 'type': 'integer'}, 'start_date_time': {'default': None, 'description': 'Start Date Time', 'type': 'boolean'}, 'notify_all': {'default': None, 'description': 'If `notify_all` is true, notifications will be sent to everyone including the creator of the comment. ', 'type': 'boolean'}, 'parent': {'default': None, 'description': 'You can create a subtask by including an existing task ID.   The `parent` task ID you include cannot be a subtask, and must be in the same List specified in the path parameter. ', 'type': 'string'}, 'links_to': {'default': None, 'description': 'Include a task ID to create a linked dependency with your new task.', 'type': 'string'}, 'check_required_custom_fields': {'default': None, 'description': 'When creating a task via API any required Custom Fields are ignored by default (`false`).   You can enforce required Custom Fields by including `check_required_custom_fields: true`. ', 'type': 'boolean'}, 'custom_fields': {'default': None, 'description': '[Filter by Custom Fields.](https://clickup.com/api)', 'items': {'type': 'object'}, 'type': 'array'}, 'custom_item_id': {'default': None, 'description': 'To create a task that doesn\"t use a custom task type, either don\"t include this field in the request body, or send `\"null\"`.    To create this task as a Milestone, send a value of `1`.   To use a custom task type, send the custom task type ID as defined in your Workspace, such as `2`. ', 'type': 'integer'}}, 'required': ['list_id', 'name'], 'type': 'object'}}}, {'type': 'function', 'function': {'name': 'delete_task_tool', 'description': '\\n    Ferramenta para deletar uma tarefa no ClickUp com base nos parâmetros fornecidos.\\n    - Deletar Tarefa:\\n        Invocar: \"DeleteTaskTool\" com os parâmetros apropriados.\\n    ', 'parameters': {'properties': {'task_id': {'description': '', 'type': 'string'}, 'custom_task_ids': {'default': None, 'description': 'If you want to reference a task by it\"s custom task id, this value must be `true`. ', 'type': 'boolean'}, 'team_id': {'default': None, 'description': 'Only used when the `custom_task_ids` parameter is set to `true`.   For example: `custom_task_ids=true&team_id=123`. ', 'type': 'integer'}}, 'required': ['task_id'], 'type': 'object'}}}, {'type': 'function', 'function': {'name': 'update_task_tool', 'description': '\\n    Ferramenta para atualizar uma tarefa no ClickUp com base nos parâmetros fornecidos.\\n    - Atualizar Tarefa:\\n        Invocar: \"UpdateTaskTool\" com os parâmetros apropriados.\\n    ', 'parameters': {'properties': {'task_id': {'description': '', 'type': 'string'}, 'custom_task_ids': {'default': None, 'description': 'If you want to reference a task by it\"s custom task id, this value must be `true`. ', 'type': 'boolean'}, 'team_id': {'default': None, 'description': 'Only used when the `custom_task_ids` parameter is set to `true`.   For example: `custom_task_ids=true&team_id=123`. ', 'type': 'integer'}, 'description': {'default': None, 'description': 'To clear the task description, include `Description` with `\" \"`.', 'type': 'string'}, 'custom_item_id': {'default': None, 'description': 'To convert an item using a custom task type into a task, send `\"null\"`.    To update this task to be a Milestone, send a value of `1`.    To use a custom task type, send the custom task type ID as defined in your Workspace, such as `2`. ', 'type': 'integer'}, 'name': {'default': None, 'description': 'Name', 'type': 'string'}, 'status': {'default': None, 'description': 'Status', 'type': 'string'}, 'priority': {'default': None, 'description': 'Priority', 'type': 'integer'}, 'due_date': {'default': None, 'description': 'Due Date', 'type': 'integer'}, 'due_date_time': {'default': None, 'description': 'Due Date Time', 'type': 'boolean'}, 'parent': {'default': None, 'description': 'You can move a subtask to another parent task by including `\"parent\"` with a valid `task id`.   You cannot convert a subtask to a task by setting `\"parent\"` to `null`. ', 'type': 'string'}, 'time_estimate': {'default': None, 'description': 'Time Estimate', 'type': 'integer'}, 'start_date': {'default': None, 'description': 'Start Date', 'type': 'integer'}, 'start_date_time': {'default': None, 'description': 'Start Date Time', 'type': 'boolean'}, 'assignees_add': {'items': {'type': 'integer'}, 'type': 'array'}, 'assignees_rem': {'items': {'type': 'integer'}, 'type': 'array'}, 'archived': {'default': None, 'description': 'Archived', 'type': 'boolean'}}, 'required': ['task_id'], 'type': 'object'}}}, {'type': 'function', 'function': {'name': 'create_task_comment_tool', 'description': '\\n    Ferramenta para adicionar um novo comentário a uma tarefa no ClickUp com base nos parâmetros fornecidos.\\n    - Criar Comentário:\\n        Invocar: \"CreateTaskCommentTool\" com os parâmetros apropriados.\\n    ', 'parameters': {'properties': {'task_id': {'description': '', 'type': 'string'}, 'custom_task_ids': {'default': None, 'description': 'If you want to reference a task by it\"s custom task id, this value must be `true`. ', 'type': 'boolean'}, 'team_id': {'default': None, 'description': 'Only used when the `custom_task_ids` parameter is set to `true`.   For example: `custom_task_ids=true&team_id=123`. ', 'type': 'integer'}, 'comment_text': {'description': 'Comment Text', 'type': 'string'}, 'assignee': {'description': 'Assignee', 'type': 'integer'}, 'notify_all': {'description': 'If `notify_all` is true, notifications will be sent to everyone including the creator of the comment. ', 'type': 'boolean'}}, 'required': ['task_id', 'comment_text', 'assignee', 'notify_all'], 'type': 'object'}}}, {'type': 'function', 'function': {'name': 'get_task_comments_tool', 'description': '\\n    Ferramenta para obter os comentários de uma tarefa no ClickUp com base nos parâmetros fornecidos.\\n    - Obter Comentários:\\n        Invocar: \"GetTaskCommentsTool\" com os parâmetros apropriados.\\n    ', 'parameters': {'properties': {'task_id': {'description': '', 'type': 'string'}, 'custom_task_ids': {'default': None, 'description': 'If you want to reference a task by it\"s custom task id, this value must be `true`. ', 'type': 'boolean'}, 'team_id': {'default': None, 'description': 'Only used when the `custom_task_ids` parameter is set to `true`.   For example: `custom_task_ids=true&team_id=123`. ', 'type': 'integer'}, 'start': {'default': None, 'description': 'Enter the `date` of a task comment using Unix time in milliseconds.', 'type': 'integer'}, 'start_id': {'default': None, 'description': 'Enter the Comment `id` of a task comment.', 'type': 'string'}}, 'required': ['task_id'], 'type': 'object'}}}, {'type': 'function', 'function': {'name': 'remove_task_from_list_tool', 'description': '\\n    Ferramenta para remover uma tarefa de uma lista no ClickUp com base nos parâmetros fornecidos.\\n    - Remover Tarefa da Lista:\\n        Invocar: \"RemoveTaskFromListTool\" com os parâmetros apropriados.\\n    ', 'parameters': {'properties': {'list_id': {'description': '', 'type': 'integer'}, 'task_id': {'description': '', 'type': 'string'}}, 'required': ['list_id', 'task_id'], 'type': 'object'}}}, {'type': 'function', 'function': {'name': 'create_folderless_list_tool', 'description': '\\n    Ferramenta para criar uma nova lista em um espaço no ClickUp com base nos parâmetros fornecidos.\\n    - Criar Lista Sem Pasta:\\n        Invocar: \"CreateFolderlessListTool\" com os parâmetros apropriados.\\n    ', 'parameters': {'properties': {'space_id': {'description': '', 'type': 'integer'}, 'name': {'description': 'Name', 'type': 'string'}, 'content': {'default': None, 'description': 'Content', 'type': 'string'}, 'due_date': {'default': None, 'description': 'Due Date', 'type': 'integer'}, 'due_date_time': {'default': None, 'description': 'Due Date Time', 'type': 'boolean'}, 'priority': {'default': None, 'description': 'Priority', 'type': 'integer'}, 'assignee': {'default': None, 'description': 'Include a `user_id` to add a List owner.', 'type': 'integer'}, 'status': {'default': None, 'description': '**Status** refers to the List color rather than the task Statuses available in the List. ', 'type': 'string'}}, 'required': ['space_id', 'name'], 'type': 'object'}}}, {'type': 'function', 'function': {'name': 'get_lists_tool', 'description': '\\n    Ferramenta para visualizar as listas dentro de uma pasta no ClickUp com base nos parâmetros fornecidos.\\n    - Obter Listas:\\n        Invocar: \"GetListsTool\" com os parâmetros apropriados.\\n    ', 'parameters': {'properties': {'folder_id': {'description': '', 'type': 'integer'}, 'archived': {'default': None, 'description': '', 'type': 'boolean'}}, 'required': ['folder_id'], 'type': 'object'}}}]})\n",
      "| ToolsAgentOutputParser(), input_keys_arg=[], return_keys_arg=[], stream_runnable=True) tools=[CreateTaskTool(), DeleteTaskTool(), UpdateTaskTool(), CreateTaskCommentTool(), GetTaskCommentsTool(), RemoveTaskFromListTool(), CreateFolderlessListTool(), GetListsTool()]\n"
     ]
    }
   ],
   "source": [
    "print(agent_executor)"
   ]
  },
  {
   "cell_type": "code",
   "execution_count": 14,
   "metadata": {},
   "outputs": [
    {
     "data": {
      "text/plain": [
       "True"
      ]
     },
     "execution_count": 14,
     "metadata": {},
     "output_type": "execute_result"
    }
   ],
   "source": [
    "load_dotenv()"
   ]
  },
  {
   "cell_type": "markdown",
   "metadata": {},
   "source": [
    "# Testes"
   ]
  },
  {
   "cell_type": "markdown",
   "metadata": {},
   "source": [
    "## Teste 1 - Criar Tarefa"
   ]
  },
  {
   "cell_type": "code",
   "execution_count": 15,
   "metadata": {},
   "outputs": [
    {
     "name": "stdout",
     "output_type": "stream",
     "text": [
      "\n",
      "\n",
      "\u001b[1m> Entering new AgentExecutor chain...\u001b[0m\n",
      "\u001b[32;1m\u001b[1;3m\n",
      "Invoking: `create_task_tool` with `{'list_id': 901304909413, 'name': 'TESTE BEM SUCEDIDO'}`\n",
      "\n",
      "\n",
      "\u001b[0mResponse Body: {'id': '86a4q3yd1', 'custom_id': None, 'custom_item_id': 0, 'name': 'TESTE BEM SUCEDIDO', 'text_content': '', 'description': '', 'status': {'id': 'p54804921_1gR1N0KG', 'status': 'backlog', 'color': '#9c09bc', 'orderindex': 0, 'type': 'open'}, 'orderindex': '119424757.00000000000000000000000000000000', 'date_created': '1724788522006', 'date_updated': '1724788522006', 'date_closed': None, 'date_done': None, 'archived': False, 'creator': {'id': 82061927, 'username': 'Rafael Alves Magalhães', 'color': '', 'email': 'magalhaesrafael07@gmail.com', 'profilePicture': None}, 'assignees': [], 'group_assignees': [], 'watchers': [{'id': 82061927, 'username': 'Rafael Alves Magalhães', 'color': '', 'initials': 'RM', 'email': 'magalhaesrafael07@gmail.com', 'profilePicture': None}], 'checklists': [], 'tags': [], 'parent': None, 'priority': None, 'due_date': None, 'start_date': None, 'points': None, 'time_estimate': None, 'time_spent': 0, 'custom_fields': [], 'dependencies': [], 'linked_tasks': [], 'locations': [], 'team_id': '12927880', 'url': 'https://app.clickup.com/t/86a4q3yd1', 'sharing': {'public': False, 'public_share_expires_on': None, 'public_fields': ['assignees', 'priority', 'due_date', 'content', 'comments', 'attachments', 'customFields', 'subtasks', 'tags', 'checklists', 'coverimage'], 'token': None, 'seo_optimized': False}, 'permission_level': 'create', 'list': {'id': '901304909413', 'name': 'clickup_agent', 'access': True}, 'project': {'id': '90132806032', 'name': 'agente clickup playgroud (ana beatriz)', 'hidden': False, 'access': True}, 'folder': {'id': '90132806032', 'name': 'agente clickup playgroud (ana beatriz)', 'hidden': False, 'access': True}, 'space': {'id': '54804921'}}\n",
      "\u001b[36;1m\u001b[1;3mdata={'id': '86a4q3yd1', 'custom_id': None, 'custom_item_id': 0, 'name': 'TESTE BEM SUCEDIDO', 'text_content': '', 'description': '', 'status': {'id': 'p54804921_1gR1N0KG', 'status': 'backlog', 'color': '#9c09bc', 'orderindex': 0, 'type': 'open'}, 'orderindex': '119424757.00000000000000000000000000000000', 'date_created': '1724788522006', 'date_updated': '1724788522006', 'date_closed': None, 'date_done': None, 'archived': False, 'creator': {'id': 82061927, 'username': 'Rafael Alves Magalhães', 'color': '', 'email': 'magalhaesrafael07@gmail.com', 'profilePicture': None}, 'assignees': [], 'group_assignees': [], 'watchers': [{'id': 82061927, 'username': 'Rafael Alves Magalhães', 'color': '', 'initials': 'RM', 'email': 'magalhaesrafael07@gmail.com', 'profilePicture': None}], 'checklists': [], 'tags': [], 'parent': None, 'priority': None, 'due_date': None, 'start_date': None, 'points': None, 'time_estimate': None, 'time_spent': 0, 'custom_fields': [], 'dependencies': [], 'linked_tasks': [], 'locations': [], 'team_id': '12927880', 'url': 'https://app.clickup.com/t/86a4q3yd1', 'sharing': {'public': False, 'public_share_expires_on': None, 'public_fields': ['assignees', 'priority', 'due_date', 'content', 'comments', 'attachments', 'customFields', 'subtasks', 'tags', 'checklists', 'coverimage'], 'token': None, 'seo_optimized': False}, 'permission_level': 'create', 'list': {'id': '901304909413', 'name': 'clickup_agent', 'access': True}, 'project': {'id': '90132806032', 'name': 'agente clickup playgroud (ana beatriz)', 'hidden': False, 'access': True}, 'folder': {'id': '90132806032', 'name': 'agente clickup playgroud (ana beatriz)', 'hidden': False, 'access': True}, 'space': {'id': '54804921'}}\u001b[0m\u001b[32;1m\u001b[1;3mA tarefa 'TESTE BEM SUCEDIDO' foi criada com sucesso. Você pode visualizá-la [aqui](https://app.clickup.com/t/86a4q3yd1).\u001b[0m\n",
      "\n",
      "\u001b[1m> Finished chain.\u001b[0m\n"
     ]
    },
    {
     "data": {
      "text/plain": [
       "{'input': \"Crie uma tarefa com o título 'TESTE BEM SUCEDIDO'\",\n",
       " 'output': \"A tarefa 'TESTE BEM SUCEDIDO' foi criada com sucesso. Você pode visualizá-la [aqui](https://app.clickup.com/t/86a4q3yd1).\"}"
      ]
     },
     "execution_count": 15,
     "metadata": {},
     "output_type": "execute_result"
    }
   ],
   "source": [
    "agent_executor.invoke(\n",
    "    {\n",
    "        \"input\": \"Crie uma tarefa com o título 'NOVO TESTE BEM SUCEDIDO'\"\n",
    "    }\n",
    ")"
   ]
  },
  {
   "cell_type": "markdown",
   "metadata": {},
   "source": [
    "## Teste 2 - Dependências"
   ]
  },
  {
   "cell_type": "code",
   "execution_count": 16,
   "metadata": {},
   "outputs": [
    {
     "name": "stdout",
     "output_type": "stream",
     "text": [
      "\n",
      "\n",
      "\u001b[1m> Entering new AgentExecutor chain...\u001b[0m\n",
      "\u001b[32;1m\u001b[1;3m\n",
      "Invoking: `create_task_tool` with `{'list_id': 901304909413, 'name': 'FUNDAÇÃO'}`\n",
      "\n",
      "\n",
      "\u001b[0mResponse Body: {'id': '86a4q40ja', 'custom_id': None, 'custom_item_id': 0, 'name': 'FUNDAÇÃO', 'text_content': '', 'description': '', 'status': {'id': 'p54804921_1gR1N0KG', 'status': 'backlog', 'color': '#9c09bc', 'orderindex': 0, 'type': 'open'}, 'orderindex': '119424758.00000000000000000000000000000000', 'date_created': '1724788746259', 'date_updated': '1724788746259', 'date_closed': None, 'date_done': None, 'archived': False, 'creator': {'id': 82061927, 'username': 'Rafael Alves Magalhães', 'color': '', 'email': 'magalhaesrafael07@gmail.com', 'profilePicture': None}, 'assignees': [], 'group_assignees': [], 'watchers': [{'id': 82061927, 'username': 'Rafael Alves Magalhães', 'color': '', 'initials': 'RM', 'email': 'magalhaesrafael07@gmail.com', 'profilePicture': None}], 'checklists': [], 'tags': [], 'parent': None, 'priority': None, 'due_date': None, 'start_date': None, 'points': None, 'time_estimate': None, 'time_spent': 0, 'custom_fields': [], 'dependencies': [], 'linked_tasks': [], 'locations': [], 'team_id': '12927880', 'url': 'https://app.clickup.com/t/86a4q40ja', 'sharing': {'public': False, 'public_share_expires_on': None, 'public_fields': ['assignees', 'priority', 'due_date', 'content', 'comments', 'attachments', 'customFields', 'subtasks', 'tags', 'checklists', 'coverimage'], 'token': None, 'seo_optimized': False}, 'permission_level': 'create', 'list': {'id': '901304909413', 'name': 'clickup_agent', 'access': True}, 'project': {'id': '90132806032', 'name': 'agente clickup playgroud (ana beatriz)', 'hidden': False, 'access': True}, 'folder': {'id': '90132806032', 'name': 'agente clickup playgroud (ana beatriz)', 'hidden': False, 'access': True}, 'space': {'id': '54804921'}}\n",
      "\u001b[36;1m\u001b[1;3mdata={'id': '86a4q40ja', 'custom_id': None, 'custom_item_id': 0, 'name': 'FUNDAÇÃO', 'text_content': '', 'description': '', 'status': {'id': 'p54804921_1gR1N0KG', 'status': 'backlog', 'color': '#9c09bc', 'orderindex': 0, 'type': 'open'}, 'orderindex': '119424758.00000000000000000000000000000000', 'date_created': '1724788746259', 'date_updated': '1724788746259', 'date_closed': None, 'date_done': None, 'archived': False, 'creator': {'id': 82061927, 'username': 'Rafael Alves Magalhães', 'color': '', 'email': 'magalhaesrafael07@gmail.com', 'profilePicture': None}, 'assignees': [], 'group_assignees': [], 'watchers': [{'id': 82061927, 'username': 'Rafael Alves Magalhães', 'color': '', 'initials': 'RM', 'email': 'magalhaesrafael07@gmail.com', 'profilePicture': None}], 'checklists': [], 'tags': [], 'parent': None, 'priority': None, 'due_date': None, 'start_date': None, 'points': None, 'time_estimate': None, 'time_spent': 0, 'custom_fields': [], 'dependencies': [], 'linked_tasks': [], 'locations': [], 'team_id': '12927880', 'url': 'https://app.clickup.com/t/86a4q40ja', 'sharing': {'public': False, 'public_share_expires_on': None, 'public_fields': ['assignees', 'priority', 'due_date', 'content', 'comments', 'attachments', 'customFields', 'subtasks', 'tags', 'checklists', 'coverimage'], 'token': None, 'seo_optimized': False}, 'permission_level': 'create', 'list': {'id': '901304909413', 'name': 'clickup_agent', 'access': True}, 'project': {'id': '90132806032', 'name': 'agente clickup playgroud (ana beatriz)', 'hidden': False, 'access': True}, 'folder': {'id': '90132806032', 'name': 'agente clickup playgroud (ana beatriz)', 'hidden': False, 'access': True}, 'space': {'id': '54804921'}}\u001b[0m\u001b[32;1m\u001b[1;3m\n",
      "Invoking: `create_task_tool` with `{'list_id': 901304909413, 'name': 'ALVENARIA'}`\n",
      "\n",
      "\n",
      "\u001b[0mResponse Body: {'id': '86a4q40k2', 'custom_id': None, 'custom_item_id': 0, 'name': 'ALVENARIA', 'text_content': '', 'description': '', 'status': {'id': 'p54804921_1gR1N0KG', 'status': 'backlog', 'color': '#9c09bc', 'orderindex': 0, 'type': 'open'}, 'orderindex': '119424759.00000000000000000000000000000000', 'date_created': '1724788748304', 'date_updated': '1724788748304', 'date_closed': None, 'date_done': None, 'archived': False, 'creator': {'id': 82061927, 'username': 'Rafael Alves Magalhães', 'color': '', 'email': 'magalhaesrafael07@gmail.com', 'profilePicture': None}, 'assignees': [], 'group_assignees': [], 'watchers': [{'id': 82061927, 'username': 'Rafael Alves Magalhães', 'color': '', 'initials': 'RM', 'email': 'magalhaesrafael07@gmail.com', 'profilePicture': None}], 'checklists': [], 'tags': [], 'parent': None, 'priority': None, 'due_date': None, 'start_date': None, 'points': None, 'time_estimate': None, 'time_spent': 0, 'custom_fields': [], 'dependencies': [], 'linked_tasks': [], 'locations': [], 'team_id': '12927880', 'url': 'https://app.clickup.com/t/86a4q40k2', 'sharing': {'public': False, 'public_share_expires_on': None, 'public_fields': ['assignees', 'priority', 'due_date', 'content', 'comments', 'attachments', 'customFields', 'subtasks', 'tags', 'checklists', 'coverimage'], 'token': None, 'seo_optimized': False}, 'permission_level': 'create', 'list': {'id': '901304909413', 'name': 'clickup_agent', 'access': True}, 'project': {'id': '90132806032', 'name': 'agente clickup playgroud (ana beatriz)', 'hidden': False, 'access': True}, 'folder': {'id': '90132806032', 'name': 'agente clickup playgroud (ana beatriz)', 'hidden': False, 'access': True}, 'space': {'id': '54804921'}}\n",
      "\u001b[36;1m\u001b[1;3mdata={'id': '86a4q40k2', 'custom_id': None, 'custom_item_id': 0, 'name': 'ALVENARIA', 'text_content': '', 'description': '', 'status': {'id': 'p54804921_1gR1N0KG', 'status': 'backlog', 'color': '#9c09bc', 'orderindex': 0, 'type': 'open'}, 'orderindex': '119424759.00000000000000000000000000000000', 'date_created': '1724788748304', 'date_updated': '1724788748304', 'date_closed': None, 'date_done': None, 'archived': False, 'creator': {'id': 82061927, 'username': 'Rafael Alves Magalhães', 'color': '', 'email': 'magalhaesrafael07@gmail.com', 'profilePicture': None}, 'assignees': [], 'group_assignees': [], 'watchers': [{'id': 82061927, 'username': 'Rafael Alves Magalhães', 'color': '', 'initials': 'RM', 'email': 'magalhaesrafael07@gmail.com', 'profilePicture': None}], 'checklists': [], 'tags': [], 'parent': None, 'priority': None, 'due_date': None, 'start_date': None, 'points': None, 'time_estimate': None, 'time_spent': 0, 'custom_fields': [], 'dependencies': [], 'linked_tasks': [], 'locations': [], 'team_id': '12927880', 'url': 'https://app.clickup.com/t/86a4q40k2', 'sharing': {'public': False, 'public_share_expires_on': None, 'public_fields': ['assignees', 'priority', 'due_date', 'content', 'comments', 'attachments', 'customFields', 'subtasks', 'tags', 'checklists', 'coverimage'], 'token': None, 'seo_optimized': False}, 'permission_level': 'create', 'list': {'id': '901304909413', 'name': 'clickup_agent', 'access': True}, 'project': {'id': '90132806032', 'name': 'agente clickup playgroud (ana beatriz)', 'hidden': False, 'access': True}, 'folder': {'id': '90132806032', 'name': 'agente clickup playgroud (ana beatriz)', 'hidden': False, 'access': True}, 'space': {'id': '54804921'}}\u001b[0m\u001b[32;1m\u001b[1;3m\n",
      "Invoking: `update_task_tool` with `{'task_id': '86a4q40k2', 'links_to': '86a4q40ja', 'team_id': 12927880}`\n",
      "\n",
      "\n",
      "\u001b[0m"
     ]
    },
    {
     "name": "stderr",
     "output_type": "stream",
     "text": [
      "/Users/morossini/anaconda3/envs/secretary/lib/python3.11/site-packages/pydantic/main.py:364: UserWarning: Pydantic serializer warnings:\n",
      "  Expected `list[int]` but got `FieldInfo` - serialized value may not be as expected\n",
      "  Expected `list[int]` but got `FieldInfo` - serialized value may not be as expected\n",
      "  return self.__pydantic_serializer__.to_python(\n"
     ]
    },
    {
     "name": "stdout",
     "output_type": "stream",
     "text": [
      "Response Body: {'err': 'Oauth token not found', 'ECODE': 'OAUTH_019'}\n",
      "\u001b[38;5;200m\u001b[1;3mdata={'err': 'Oauth token not found', 'ECODE': 'OAUTH_019'}\u001b[0m\u001b[32;1m\u001b[1;3mParece que houve um problema ao tentar definir a dependência entre as tarefas 'ALVENARIA' e 'FUNDAÇÃO' devido a uma falha de autenticação.\n",
      "\n",
      "As tarefas foram criadas com sucesso:\n",
      "1. [FUNDAÇÃO](https://app.clickup.com/t/86a4q40ja)\n",
      "2. [ALVENARIA](https://app.clickup.com/t/86a4q40k2)\n",
      "\n",
      "Para definir a dependência, você pode acessar manualmente o ClickUp e configurar a tarefa 'ALVENARIA' para depender da tarefa 'FUNDAÇÃO' ou contatar o administrador para resolver o problema de autenticação.\u001b[0m\n",
      "\n",
      "\u001b[1m> Finished chain.\u001b[0m\n"
     ]
    },
    {
     "data": {
      "text/plain": [
       "{'input': \"Crie duas tarefas. Uma delas com o título 'ALVENARIA', que depende da outra, intitulada 'FUNDAÇÃO'\",\n",
       " 'output': \"Parece que houve um problema ao tentar definir a dependência entre as tarefas 'ALVENARIA' e 'FUNDAÇÃO' devido a uma falha de autenticação.\\n\\nAs tarefas foram criadas com sucesso:\\n1. [FUNDAÇÃO](https://app.clickup.com/t/86a4q40ja)\\n2. [ALVENARIA](https://app.clickup.com/t/86a4q40k2)\\n\\nPara definir a dependência, você pode acessar manualmente o ClickUp e configurar a tarefa 'ALVENARIA' para depender da tarefa 'FUNDAÇÃO' ou contatar o administrador para resolver o problema de autenticação.\"}"
      ]
     },
     "execution_count": 16,
     "metadata": {},
     "output_type": "execute_result"
    }
   ],
   "source": [
    "agent_executor.invoke(\n",
    "    {\n",
    "        \"input\": \"Crie duas tarefas. Uma delas com o título 'ALVENARIA', que depende da outra, intitulada 'FUNDAÇÃO'\"\n",
    "    }\n",
    ")"
   ]
  },
  {
   "cell_type": "code",
   "execution_count": null,
   "metadata": {},
   "outputs": [],
   "source": []
  }
 ],
 "metadata": {
  "kernelspec": {
   "display_name": "composio",
   "language": "python",
   "name": "python3"
  },
  "language_info": {
   "codemirror_mode": {
    "name": "ipython",
    "version": 3
   },
   "file_extension": ".py",
   "mimetype": "text/x-python",
   "name": "python",
   "nbconvert_exporter": "python",
   "pygments_lexer": "ipython3",
   "version": "3.11.9"
  }
 },
 "nbformat": 4,
 "nbformat_minor": 2
}
