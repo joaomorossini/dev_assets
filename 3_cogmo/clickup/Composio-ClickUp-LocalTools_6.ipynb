{
 "cells": [
  {
   "cell_type": "markdown",
   "metadata": {},
   "source": [
    "## Create Task Tool"
   ]
  },
  {
   "cell_type": "code",
   "execution_count": 1,
   "metadata": {},
   "outputs": [],
   "source": [
    "import os\n",
    "import requests\n",
    "from dotenv import load_dotenv\n",
    "from typing import Any, Type, List\n",
    "from langchain_core.tools import BaseTool\n",
    "from langchain_core.pydantic_v1 import BaseModel, Field\n",
    "from composio.tools.local.clickup.actions.create_task import CreateTask, CreateTaskRequest, CreateTaskResponse\n",
    "\n",
    "\n",
    "load_dotenv()\n",
    "CLICKUP_TOKEN = os.getenv(\"CLICKUP_TOKEN\")\n",
    "\n",
    "class CreateTaskTool(BaseTool):\n",
    "    name: str = \"create_task_tool\"\n",
    "    description: str = \"\"\"\n",
    "    Ferramenta para criar uma nova tarefa no ClickUp com base nos parâmetros fornecidos.\n",
    "    - Criar Tarefa:\n",
    "        Invocar: \"CreateTaskTool\" com os parâmetros apropriados.\n",
    "    \"\"\"\n",
    "    args_schema: Type[BaseModel] = CreateTaskRequest\n",
    "    headers: dict = {\"Authorization\": f\"{CLICKUP_TOKEN}\"}\n",
    "\n",
    "    def __init__(self, **data):\n",
    "        super().__init__(**data)\n",
    "\n",
    "    def _run(self, list_id: int, **task_data) -> Any:\n",
    "        \"\"\"Executa a criação de tarefa no ClickUp\"\"\"\n",
    "\n",
    "        action = CreateTask()\n",
    "\n",
    "        url = f\"{action.url}{action.path}\".format(list_id=list_id)\n",
    "        params = {key: value for key, value in task_data.items() if value is not None}\n",
    "\n",
    "        response = requests.post(url, headers=self.headers, json=params)\n",
    "\n",
    "        if response.status_code == 201:\n",
    "            response_json = response.json()\n",
    "        else:\n",
    "            try:\n",
    "                response_json = response.json()\n",
    "            except requests.JSONDecodeError:\n",
    "                response_json = {\"error\": \"Invalid JSON response\"}\n",
    "\n",
    "        print(f\"Response Body: {response_json}\")\n",
    "        response = CreateTaskResponse(data=response_json)\n",
    "        filtered_response = {\n",
    "            'id': response.data.get('id'),\n",
    "            'name': response.data.get('name'),\n",
    "            'status': response.data.get('status', {}).get('status'),\n",
    "            'assignees': response.data.get('assignees'),\n",
    "            'due_date': response.data.get('due_date'),\n",
    "            'error': response.data.get('err'),\n",
    "        }\n",
    "        return filtered_response\n",
    "        "
   ]
  },
  {
   "cell_type": "code",
   "execution_count": 2,
   "metadata": {},
   "outputs": [
    {
     "name": "stdout",
     "output_type": "stream",
     "text": [
      "Response Body: {'id': '86a4rfrqb', 'custom_id': None, 'custom_item_id': 0, 'name': 'TASK CRIADA ÀS 16:10', 'text_content': '', 'description': '', 'status': {'id': 'p54804921_1gR1N0KG', 'status': 'backlog', 'color': '#9c09bc', 'orderindex': 0, 'type': 'open'}, 'orderindex': '119424857.00000000000000000000000000000000', 'date_created': '1725043983581', 'date_updated': '1725043983581', 'date_closed': None, 'date_done': None, 'archived': False, 'creator': {'id': 84141406, 'username': 'Ana Beatriz', 'color': '#455963', 'email': 'ti@cogmo.com.br', 'profilePicture': 'https://attachments.clickup.com/profilePictures/84141406_ZkZ.jpg'}, 'assignees': [], 'group_assignees': [], 'watchers': [{'id': 84141406, 'username': 'Ana Beatriz', 'color': '#455963', 'initials': 'AB', 'email': 'ti@cogmo.com.br', 'profilePicture': 'https://attachments.clickup.com/profilePictures/84141406_ZkZ.jpg'}], 'checklists': [], 'tags': [], 'parent': None, 'priority': None, 'due_date': None, 'start_date': None, 'points': None, 'time_estimate': None, 'time_spent': 0, 'custom_fields': [], 'dependencies': [], 'linked_tasks': [], 'locations': [], 'team_id': '12927880', 'url': 'https://app.clickup.com/t/86a4rfrqb', 'sharing': {'public': False, 'public_share_expires_on': None, 'public_fields': ['assignees', 'priority', 'due_date', 'content', 'comments', 'attachments', 'customFields', 'subtasks', 'tags', 'checklists', 'coverimage'], 'token': None, 'seo_optimized': False}, 'permission_level': 'create', 'list': {'id': '901304909413', 'name': 'clickup_agent', 'access': True}, 'project': {'id': '90132806032', 'name': 'agente clickup playgroud (ana beatriz)', 'hidden': False, 'access': True}, 'folder': {'id': '90132806032', 'name': 'agente clickup playgroud (ana beatriz)', 'hidden': False, 'access': True}, 'space': {'id': '54804921'}}\n"
     ]
    },
    {
     "data": {
      "text/plain": [
       "{'id': '86a4rfrqb',\n",
       " 'name': 'TASK CRIADA ÀS 16:10',\n",
       " 'status': 'backlog',\n",
       " 'assignees': [],\n",
       " 'due_date': None,\n",
       " 'error': None}"
      ]
     },
     "execution_count": 2,
     "metadata": {},
     "output_type": "execute_result"
    }
   ],
   "source": [
    "tool = CreateTaskTool()\n",
    "tool._run(901304909413, name=\"TASK CRIADA ÀS 16:10\")"
   ]
  },
  {
   "cell_type": "markdown",
   "metadata": {},
   "source": [
    "## Delete Task Tool"
   ]
  },
  {
   "cell_type": "code",
   "execution_count": 3,
   "metadata": {},
   "outputs": [],
   "source": [
    "from composio.tools.local.clickup.actions.delete_task import DeleteTask, DeleteTaskRequest, DeleteTaskResponse\n",
    "\n",
    "class DeleteTaskTool(BaseTool):\n",
    "    name: str = \"delete_task_tool\"\n",
    "    description: str = \"\"\"\n",
    "    Ferramenta para deletar uma tarefa no ClickUp com base nos parâmetros fornecidos.\n",
    "    - Deletar Tarefa:\n",
    "        Invocar: \"DeleteTaskTool\" com os parâmetros apropriados.\n",
    "    \"\"\"\n",
    "    args_schema: Type[BaseModel] = DeleteTaskRequest\n",
    "    headers: dict = {\"Authorization\": f\"{CLICKUP_TOKEN}\"}\n",
    "\n",
    "    def __init__(self, **data):\n",
    "        super().__init__(**data)\n",
    "\n",
    "    def _run(self, task_id: str, **delete_params) -> Any:\n",
    "        \"\"\"Executa a deleção de tarefa no ClickUp\"\"\"\n",
    "\n",
    "        action = DeleteTask()\n",
    "\n",
    "\n",
    "        url = f\"{action.url}{action.path}\".format(task_id=task_id)\n",
    "        params = {key: value for key, value in delete_params.items() if value is not None}\n",
    "\n",
    "        response = requests.delete(url, headers=self.headers, params=params)\n",
    "\n",
    "        if response.status_code == 204:\n",
    "            response_json = {\"message\": \"Task deleted successfully\"}\n",
    "        else:\n",
    "            try:\n",
    "                response_json = response.json()\n",
    "            except requests.JSONDecodeError:\n",
    "                response_json = {\"error\": \"Invalid JSON response\"}\n",
    "        \n",
    "        print(f\"Response Body: {response_json}\")\n",
    "        return DeleteTaskResponse(data=response_json)"
   ]
  },
  {
   "cell_type": "markdown",
   "metadata": {},
   "source": [
    "## Update Task Tool"
   ]
  },
  {
   "cell_type": "code",
   "execution_count": 4,
   "metadata": {},
   "outputs": [],
   "source": [
    "from composio.tools.local.clickup.actions.update_task import UpdateTask, UpdateTaskRequest, UpdateTaskResponse\n",
    "\n",
    "class UpdateTaskTool(BaseTool):\n",
    "    name: str = \"update_task_tool\"\n",
    "    description: str = \"\"\"\n",
    "    Ferramenta para atualizar uma tarefa no ClickUp com base nos parâmetros fornecidos.\n",
    "    - Atualizar Tarefa:\n",
    "        Invocar: \"UpdateTaskTool\" com os parâmetros apropriados.\n",
    "    \"\"\"\n",
    "    args_schema: Type[BaseModel] = UpdateTaskRequest\n",
    "    headers: dict = {\"Authorization\": f\"{CLICKUP_TOKEN}\"}\n",
    "\n",
    "    def __init__(self, **data):\n",
    "        super().__init__(**data)\n",
    "\n",
    "    def _run(self, task_id: str, **update_params) -> Any:\n",
    "        \"\"\"Executa a atualização de tarefa no ClickUp\"\"\"\n",
    "\n",
    "        action = UpdateTask()\n",
    "\n",
    "        url = f\"{action.url}{action.path}\".format(task_id=task_id)\n",
    "        params = {key: value for key, value in update_params.items() if value is not None}\n",
    "\n",
    "        response = requests.put(url, headers=self.headers, json=params)\n",
    "\n",
    "        if response.status_code == 200:\n",
    "            response_json = response.json()\n",
    "        else:\n",
    "            try:\n",
    "                response_json = response.json()\n",
    "            except requests.JSONDecodeError:\n",
    "                response_json = {\"error\": \"Invalid JSON response\"}\n",
    "        \n",
    "        print(f\"Response Body: {response_json}\")\n",
    "        response = UpdateTaskResponse(data=response_json)\n",
    "        filtered_response = {\n",
    "            'id': response.data.get('id'),\n",
    "            'name': response.data.get('name'),\n",
    "            'status': response.data.get('status', {}).get('status'),\n",
    "            'assignees': response.data.get('assignees'),\n",
    "            'due_date': response.data.get('due_date'),\n",
    "            'error': response.data.get('err'),\n",
    "        }\n",
    "        return filtered_response"
   ]
  },
  {
   "cell_type": "code",
   "execution_count": 5,
   "metadata": {},
   "outputs": [
    {
     "name": "stdout",
     "output_type": "stream",
     "text": [
      "Response Body: {'id': '86a4r2jbp', 'custom_id': None, 'custom_item_id': 0, 'name': 'TASK ATUALIZADA ÀS 16:11', 'text_content': '', 'description': '', 'status': {'id': 'p54804921_1gR1N0KG', 'status': 'backlog', 'color': '#9c09bc', 'orderindex': 0, 'type': 'open'}, 'orderindex': '119424851.00000000000000000000000000000000', 'date_created': '1724958606754', 'date_updated': '1725043985151', 'date_closed': None, 'date_done': None, 'archived': False, 'creator': {'id': 84141406, 'username': 'Ana Beatriz', 'color': '#455963', 'email': 'ti@cogmo.com.br', 'profilePicture': 'https://attachments.clickup.com/profilePictures/84141406_ZkZ.jpg'}, 'assignees': [], 'group_assignees': [], 'watchers': [{'id': 84141406, 'username': 'Ana Beatriz', 'color': '#455963', 'initials': 'AB', 'email': 'ti@cogmo.com.br', 'profilePicture': 'https://attachments.clickup.com/profilePictures/84141406_ZkZ.jpg'}], 'checklists': [], 'tags': [], 'parent': None, 'priority': None, 'due_date': None, 'start_date': None, 'points': None, 'time_estimate': None, 'time_spent': 0, 'custom_fields': [], 'dependencies': [], 'linked_tasks': [], 'locations': [], 'team_id': '12927880', 'url': 'https://app.clickup.com/t/86a4r2jbp', 'sharing': {'public': False, 'public_share_expires_on': None, 'public_fields': ['assignees', 'priority', 'due_date', 'content', 'comments', 'attachments', 'customFields', 'subtasks', 'tags', 'checklists', 'coverimage'], 'token': None, 'seo_optimized': False}, 'permission_level': 'create', 'list': {'id': '901304909413', 'name': 'clickup_agent', 'access': True}, 'project': {'id': '90132806032', 'name': 'agente clickup playgroud (ana beatriz)', 'hidden': False, 'access': True}, 'folder': {'id': '90132806032', 'name': 'agente clickup playgroud (ana beatriz)', 'hidden': False, 'access': True}, 'space': {'id': '54804921'}, 'attachments': []}\n"
     ]
    },
    {
     "data": {
      "text/plain": [
       "{'id': '86a4r2jbp',\n",
       " 'name': 'TASK ATUALIZADA ÀS 16:11',\n",
       " 'status': 'backlog',\n",
       " 'assignees': [],\n",
       " 'due_date': None,\n",
       " 'error': None}"
      ]
     },
     "execution_count": 5,
     "metadata": {},
     "output_type": "execute_result"
    }
   ],
   "source": [
    "tool = UpdateTaskTool()\n",
    "result = tool._run('86a4r2jbp', name=\"TASK ATUALIZADA ÀS 16:11\")\n",
    "result"
   ]
  },
  {
   "cell_type": "markdown",
   "metadata": {},
   "source": [
    "## Create Task Comment"
   ]
  },
  {
   "cell_type": "code",
   "execution_count": 6,
   "metadata": {},
   "outputs": [],
   "source": [
    "from composio.tools.local.clickup.actions.create_task_comment import CreateTaskComment, CreateTaskCommentRequest, CreateTaskCommentResponse\n",
    "\n",
    "class CreateTaskCommentTool(BaseTool):\n",
    "    name: str = \"create_task_comment_tool\"\n",
    "    description: str = \"\"\"\n",
    "    Ferramenta para adicionar um novo comentário a uma tarefa no ClickUp com base nos parâmetros fornecidos.\n",
    "    - Criar Comentário:\n",
    "        Invocar: \"CreateTaskCommentTool\" com os parâmetros apropriados.\n",
    "    \"\"\"\n",
    "    args_schema: Type[BaseModel] = CreateTaskCommentRequest\n",
    "    headers: dict = {\"Authorization\": f\"{CLICKUP_TOKEN}\"}\n",
    "\n",
    "    def __init__(self, **data):\n",
    "        super().__init__(**data)\n",
    "\n",
    "    def _run(self, task_id: str, **comment_data) -> Any:\n",
    "        \"\"\"Executa a criação de comentário na tarefa no ClickUp\"\"\"\n",
    "\n",
    "        action = CreateTaskComment()\n",
    "\n",
    "        url = f\"{action.url}{action.path}\".format(task_id=task_id)\n",
    "        params = {key: value for key, value in comment_data.items() if value is not None}\n",
    "\n",
    "        response = requests.post(url, headers=self.headers, json=params)\n",
    "\n",
    "        if response.status_code == 200:\n",
    "            response_json = response.json()\n",
    "        else:\n",
    "            try:\n",
    "                response_json = response.json()\n",
    "            except requests.JSONDecodeError:\n",
    "                response_json = {\"error\": \"Invalid JSON response\"}\n",
    "        \n",
    "        print(f\"Response Body: {response_json}\")\n",
    "        response = CreateTaskCommentResponse(data=response_json)\n",
    "        filtered_response = {\n",
    "            'comment_id': response.data.get('id'),\n",
    "            'comment_text': response.data.get('comment_text'),\n",
    "            'task_id': response.data.get('version', {}).get('data', {}).get('relationships', [])[1].get('object_id'),\n",
    "            'error': response.data.get('err'),\n",
    "        }\n",
    "        return filtered_response\n",
    "        # return response\n"
   ]
  },
  {
   "cell_type": "code",
   "execution_count": 7,
   "metadata": {},
   "outputs": [
    {
     "name": "stdout",
     "output_type": "stream",
     "text": [
      "Response Body: {'id': 90130067007161, 'hist_id': '4181684972526747456', 'date': 1725043986960, 'version': {'object_type': 'comment', 'object_id': '90130067007161', 'workspace_id': 12927880, 'operation': 'c', 'data': {'context': {'audit_context': {'userid': 84141406, 'ip': '52.62.19.8', 'user_agent': 'python-requests/2.32.3', 'current_time': 1725043986918, 'route': '*'}, 'originating_service': 'publicapi'}, 'relationships': [{'type': 'comment-author', 'object_type': 'user', 'object_id': 84141406, 'workspace_id': '12927880'}, {'type': 'comment-parent', 'object_type': 'task', 'object_id': '86a4r2jbp', 'workspace_id': '12927880'}], 'changes': [{'field': 'date_created', 'after': 1725043986960}]}, 'master_id': 18, 'version': 1725043986991000, 'deleted': False, 'traceparent': '6184203072161484442', 'date_created': 1725043986991, 'date_updated': 1725043986991, 'event_publish_time': 1725043986997}}\n"
     ]
    },
    {
     "data": {
      "text/plain": [
       "{'comment_id': 90130067007161,\n",
       " 'comment_text': None,\n",
       " 'task_id': '86a4r2jbp',\n",
       " 'error': None}"
      ]
     },
     "execution_count": 7,
     "metadata": {},
     "output_type": "execute_result"
    }
   ],
   "source": [
    "tool = CreateTaskCommentTool()\n",
    "result = tool._run('86a4r2jbp', comment_text=\"Comentário adicionado à tarefa\")\n",
    "result"
   ]
  },
  {
   "cell_type": "markdown",
   "metadata": {},
   "source": [
    "## Get Task Comments"
   ]
  },
  {
   "cell_type": "code",
   "execution_count": 8,
   "metadata": {},
   "outputs": [],
   "source": [
    "from composio.tools.local.clickup.actions.get_task_comments import GetTaskComments, GetTaskCommentsRequest, GetTaskCommentsResponse\n",
    "\n",
    "class GetTaskCommentsTool(BaseTool):\n",
    "    name: str = \"get_task_comments_tool\"\n",
    "    description: str = \"\"\"\n",
    "    Ferramenta para obter os comentários de uma tarefa no ClickUp com base nos parâmetros fornecidos.\n",
    "    - Obter Comentários:\n",
    "        Invocar: \"GetTaskCommentsTool\" com os parâmetros apropriados.\n",
    "    \"\"\"\n",
    "    args_schema: Type[BaseModel] = GetTaskCommentsRequest\n",
    "    headers: dict = {\"Authorization\": f\"{CLICKUP_TOKEN}\"}\n",
    "\n",
    "    def __init__(self, **data):\n",
    "        super().__init__(**data)\n",
    "\n",
    "    def _run(self, task_id: str, **query_params) -> Any:\n",
    "        \"\"\"Executa a consulta de comentários da tarefa no ClickUp\"\"\"\n",
    "\n",
    "        action = GetTaskComments()\n",
    "\n",
    "        url = f\"{action.url}{action.path}\".format(task_id=task_id)\n",
    "        params = {key: value for key, value in query_params.items() if value is not None}\n",
    "\n",
    "        response = requests.get(url, headers=self.headers, params=params)\n",
    "\n",
    "        if response.status_code == 200:\n",
    "            response_json = response.json()\n",
    "        else:\n",
    "            try:\n",
    "                response_json = response.json()\n",
    "            except requests.JSONDecodeError:\n",
    "                response_json = {\"error\": \"Invalid JSON response\"}\n",
    "        \n",
    "        print(f\"Response Body: {response_json}\")\n",
    "        response = GetTaskCommentsResponse(data=response_json)\n",
    "        comments = response.data.get('comments')\n",
    "        filtered_response = []\n",
    "        for comment in comments:\n",
    "            filtered_response.append({\n",
    "                'comment_id': comment.get('id'),\n",
    "                'comment_text': comment.get('comment_text'),\n",
    "            })\n",
    "        filtered_response.append({'error': comment.get('error')})\n",
    "        return filtered_response"
   ]
  },
  {
   "cell_type": "code",
   "execution_count": 9,
   "metadata": {},
   "outputs": [
    {
     "name": "stdout",
     "output_type": "stream",
     "text": [
      "Response Body: {'comments': [{'id': '90130067007161', 'comment': [{'text': 'Comentário adicionado à tarefa'}], 'comment_text': 'Comentário adicionado à tarefa', 'user': {'id': 84141406, 'username': 'Ana Beatriz', 'email': 'ti@cogmo.com.br', 'color': '#455963', 'initials': 'AB', 'profilePicture': 'https://attachments.clickup.com/profilePictures/84141406_ZkZ.jpg'}, 'assignee': None, 'group_assignee': None, 'reactions': [], 'date': '1725043986960', 'reply_count': 0}, {'id': '90130066760826', 'comment': [{'text': 'Comentário adicionado à tarefa'}], 'comment_text': 'Comentário adicionado à tarefa', 'user': {'id': 84141406, 'username': 'Ana Beatriz', 'email': 'ti@cogmo.com.br', 'color': '#455963', 'initials': 'AB', 'profilePicture': 'https://attachments.clickup.com/profilePictures/84141406_ZkZ.jpg'}, 'assignee': None, 'group_assignee': None, 'reactions': [], 'date': '1724960031536', 'reply_count': 0}, {'id': '90130066756781', 'comment': [{'text': 'Comentário adicionado à tarefa'}], 'comment_text': 'Comentário adicionado à tarefa', 'user': {'id': 84141406, 'username': 'Ana Beatriz', 'email': 'ti@cogmo.com.br', 'color': '#455963', 'initials': 'AB', 'profilePicture': 'https://attachments.clickup.com/profilePictures/84141406_ZkZ.jpg'}, 'assignee': None, 'group_assignee': None, 'reactions': [], 'date': '1724959471043', 'reply_count': 0}, {'id': '90130066755890', 'comment': [{'text': 'Comentário adicionado à tarefa'}], 'comment_text': 'Comentário adicionado à tarefa', 'user': {'id': 84141406, 'username': 'Ana Beatriz', 'email': 'ti@cogmo.com.br', 'color': '#455963', 'initials': 'AB', 'profilePicture': 'https://attachments.clickup.com/profilePictures/84141406_ZkZ.jpg'}, 'assignee': None, 'group_assignee': None, 'reactions': [], 'date': '1724959311990', 'reply_count': 0}, {'id': '90130066755580', 'comment': [{'text': 'Comentário adicionado à tarefa'}], 'comment_text': 'Comentário adicionado à tarefa', 'user': {'id': 84141406, 'username': 'Ana Beatriz', 'email': 'ti@cogmo.com.br', 'color': '#455963', 'initials': 'AB', 'profilePicture': 'https://attachments.clickup.com/profilePictures/84141406_ZkZ.jpg'}, 'assignee': None, 'group_assignee': None, 'reactions': [], 'date': '1724959288161', 'reply_count': 0}, {'id': '90130066754774', 'comment': [{'text': 'Comentário adicionado à tarefa'}], 'comment_text': 'Comentário adicionado à tarefa', 'user': {'id': 84141406, 'username': 'Ana Beatriz', 'email': 'ti@cogmo.com.br', 'color': '#455963', 'initials': 'AB', 'profilePicture': 'https://attachments.clickup.com/profilePictures/84141406_ZkZ.jpg'}, 'assignee': None, 'group_assignee': None, 'reactions': [], 'date': '1724959233945', 'reply_count': 0}, {'id': '90130066753995', 'comment': [{'text': 'Comentário adicionado à tarefa'}], 'comment_text': 'Comentário adicionado à tarefa', 'user': {'id': 84141406, 'username': 'Ana Beatriz', 'email': 'ti@cogmo.com.br', 'color': '#455963', 'initials': 'AB', 'profilePicture': 'https://attachments.clickup.com/profilePictures/84141406_ZkZ.jpg'}, 'assignee': None, 'group_assignee': None, 'reactions': [], 'date': '1724959191608', 'reply_count': 0}, {'id': '90130066752876', 'comment': [{'text': 'Comentário adicionado à tarefa'}], 'comment_text': 'Comentário adicionado à tarefa', 'user': {'id': 84141406, 'username': 'Ana Beatriz', 'email': 'ti@cogmo.com.br', 'color': '#455963', 'initials': 'AB', 'profilePicture': 'https://attachments.clickup.com/profilePictures/84141406_ZkZ.jpg'}, 'assignee': None, 'group_assignee': None, 'reactions': [], 'date': '1724958944964', 'reply_count': 0}]}\n"
     ]
    },
    {
     "data": {
      "text/plain": [
       "[{'comment_id': '90130067007161',\n",
       "  'comment_text': 'Comentário adicionado à tarefa'},\n",
       " {'comment_id': '90130066760826',\n",
       "  'comment_text': 'Comentário adicionado à tarefa'},\n",
       " {'comment_id': '90130066756781',\n",
       "  'comment_text': 'Comentário adicionado à tarefa'},\n",
       " {'comment_id': '90130066755890',\n",
       "  'comment_text': 'Comentário adicionado à tarefa'},\n",
       " {'comment_id': '90130066755580',\n",
       "  'comment_text': 'Comentário adicionado à tarefa'},\n",
       " {'comment_id': '90130066754774',\n",
       "  'comment_text': 'Comentário adicionado à tarefa'},\n",
       " {'comment_id': '90130066753995',\n",
       "  'comment_text': 'Comentário adicionado à tarefa'},\n",
       " {'comment_id': '90130066752876',\n",
       "  'comment_text': 'Comentário adicionado à tarefa'},\n",
       " {'error': None}]"
      ]
     },
     "execution_count": 9,
     "metadata": {},
     "output_type": "execute_result"
    }
   ],
   "source": [
    "tool = GetTaskCommentsTool()\n",
    "result = tool._run('86a4r2jbp')\n",
    "result"
   ]
  },
  {
   "cell_type": "markdown",
   "metadata": {},
   "source": [
    "## Add Task to List\n",
    "\n",
    "**Necessita do plano ilimitado da ClickUp**"
   ]
  },
  {
   "cell_type": "code",
   "execution_count": 10,
   "metadata": {},
   "outputs": [],
   "source": [
    "from composio.tools.local.clickup.actions.add_task_to_list import AddTaskToList, AddTaskToListRequest, AddTaskToListResponse\n",
    "\n",
    "class AddTaskToListTool(BaseTool):\n",
    "    name: str = \"add_task_to_list_tool\"\n",
    "    description: str = \"\"\"\n",
    "    Ferramenta para adicionar uma tarefa a uma lista no ClickUp com base nos parâmetros fornecidos.\n",
    "    - Adicionar Tarefa à Lista:\n",
    "        Invocar: \"AddTaskToListTool\" com os parâmetros apropriados.\n",
    "    \"\"\"\n",
    "    args_schema: Type[BaseModel] = AddTaskToListRequest\n",
    "    headers: dict = {\"Authorization\": f\"Bearer {CLICKUP_TOKEN}\"}\n",
    "\n",
    "    def __init__(self, **data):\n",
    "        super().__init__(**data)\n",
    "\n",
    "    def _run(self, list_id: int, task_id: str) -> Any:\n",
    "        \"\"\"Executa a adição de tarefa a uma lista no ClickUp\"\"\"\n",
    "\n",
    "        action = AddTaskToList()\n",
    "\n",
    "        url = f\"{action.url}{action.path}\".format(list_id=list_id, task_id=task_id)\n",
    "        params = {}  # Sem parâmetros adicionais para esta ação\n",
    "\n",
    "        response = requests.post(url, headers=self.headers, json=params)\n",
    "\n",
    "        if response.status_code == 200:\n",
    "            response_json = response.json()\n",
    "        else:\n",
    "            try:\n",
    "                response_json = response.json()\n",
    "            except requests.JSONDecodeError:\n",
    "                response_json = {\"error\": \"Invalid JSON response\"}\n",
    "        \n",
    "        print(f\"Response Body: {response_json}\")\n",
    "        return AddTaskToListResponse(data=response_json)"
   ]
  },
  {
   "cell_type": "markdown",
   "metadata": {},
   "source": [
    "## Remove Task From List"
   ]
  },
  {
   "cell_type": "code",
   "execution_count": 11,
   "metadata": {},
   "outputs": [],
   "source": [
    "from composio.tools.local.clickup.actions.remove_task_from_list import RemoveTaskFromList, RemoveTaskFromListRequest, RemoveTaskFromListResponse\n",
    "\n",
    "class RemoveTaskFromListTool(BaseTool):\n",
    "    name: str = \"remove_task_from_list_tool\"\n",
    "    description: str = \"\"\"\n",
    "    Ferramenta para remover uma tarefa de uma lista no ClickUp com base nos parâmetros fornecidos.\n",
    "    - Remover Tarefa da Lista:\n",
    "        Invocar: \"RemoveTaskFromListTool\" com os parâmetros apropriados.\n",
    "    \"\"\"\n",
    "    args_schema: Type[BaseModel] = RemoveTaskFromListRequest\n",
    "    headers: dict = {\"Authorization\": f\"{CLICKUP_TOKEN}\"}\n",
    "\n",
    "    def __init__(self, **data):\n",
    "        super().__init__(**data)\n",
    "\n",
    "    def _run(self, list_id: int, task_id: str) -> Any:\n",
    "        \"\"\"Executa a remoção de uma tarefa de uma lista no ClickUp\"\"\"\n",
    "\n",
    "        action = RemoveTaskFromList()\n",
    "\n",
    "        url = f\"{action.url}{action.path}\".format(list_id=list_id, task_id=task_id)\n",
    "\n",
    "        response = requests.delete(url, headers=self.headers)\n",
    "\n",
    "        if response.status_code == 200:\n",
    "            response_json = response.json()\n",
    "        else:\n",
    "            try:\n",
    "                response_json = response.json()\n",
    "            except requests.JSONDecodeError:\n",
    "                response_json = {\"error\": \"Invalid JSON response\"}\n",
    "        \n",
    "        print(f\"Response Body: {response_json}\")\n",
    "        response = RemoveTaskFromListResponse(data=response_json)\n",
    "        if 'err' in response.data:\n",
    "            return f\"Error: {response.data['err']}\"\n",
    "        return f\"Task removed successfully from list {list_id}\""
   ]
  },
  {
   "cell_type": "code",
   "execution_count": 12,
   "metadata": {},
   "outputs": [
    {
     "name": "stdout",
     "output_type": "stream",
     "text": [
      "Response Body: {}\n"
     ]
    },
    {
     "data": {
      "text/plain": [
       "'Task removed successfully from list 901305116068'"
      ]
     },
     "execution_count": 12,
     "metadata": {},
     "output_type": "execute_result"
    }
   ],
   "source": [
    "list_id = 901305116068\n",
    "task_id = '86a4r2jbp'\n",
    "tool = RemoveTaskFromListTool()\n",
    "result = tool._run(list_id, task_id)\n",
    "result"
   ]
  },
  {
   "cell_type": "markdown",
   "metadata": {},
   "source": [
    "## Create Folderless List"
   ]
  },
  {
   "cell_type": "code",
   "execution_count": 13,
   "metadata": {},
   "outputs": [],
   "source": [
    "from composio.tools.local.clickup.actions.create_folderless_list import CreateFolderlessList, CreateFolderlessListRequest, CreateFolderlessListResponse\n",
    "\n",
    "class CreateFolderlessListTool(BaseTool):\n",
    "    name: str = \"create_folderless_list_tool\"\n",
    "    description: str = \"\"\"\n",
    "    Ferramenta para criar uma nova lista em um espaço no ClickUp com base nos parâmetros fornecidos.\n",
    "    - Criar Lista Sem Pasta:\n",
    "        Invocar: \"CreateFolderlessListTool\" com os parâmetros apropriados.\n",
    "    \"\"\"\n",
    "    args_schema: Type[BaseModel] = CreateFolderlessListRequest\n",
    "    headers: dict = {\"Authorization\": f\"{CLICKUP_TOKEN}\"}\n",
    "\n",
    "    def __init__(self, **data):\n",
    "        super().__init__(**data)\n",
    "\n",
    "    def _run(self, space_id: int, **list_data) -> Any:\n",
    "        \"\"\"Executa a criação de uma lista sem pasta no ClickUp\"\"\"\n",
    "\n",
    "        action = CreateFolderlessList()\n",
    "\n",
    "        url = f\"{action.url}{action.path}\".format(space_id=space_id)\n",
    "        params = {key: value for key, value in list_data.items() if value is not None}\n",
    "\n",
    "        response = requests.post(url, headers=self.headers, json=params)\n",
    "\n",
    "        if response.status_code == 200:\n",
    "            response_json = response.json()\n",
    "        else:\n",
    "            try:\n",
    "                response_json = response.json()\n",
    "            except requests.JSONDecodeError:\n",
    "                response_json = {\"error\": \"Invalid JSON response\"}\n",
    "        \n",
    "        print(f\"Response Body: {response_json}\")\n",
    "        response = CreateFolderlessListResponse(data=response_json)\n",
    "        filtered_response = {\n",
    "            'list_id': response.data.get('id'),\n",
    "            'list_name': response.data.get('name'),\n",
    "            'error': response.data.get('err'),\n",
    "        }\n",
    "        return filtered_response"
   ]
  },
  {
   "cell_type": "code",
   "execution_count": 14,
   "metadata": {},
   "outputs": [
    {
     "name": "stdout",
     "output_type": "stream",
     "text": [
      "Response Body: {'err': 'List name taken', 'ECODE': 'SUBCAT_016'}\n"
     ]
    },
    {
     "data": {
      "text/plain": [
       "{'list_id': None, 'list_name': None, 'error': 'List name taken'}"
      ]
     },
     "execution_count": 14,
     "metadata": {},
     "output_type": "execute_result"
    }
   ],
   "source": [
    "tool = CreateFolderlessListTool()\n",
    "result = tool._run(54804921, name=\"Mais Uma Lista Sem Pasta\")\n",
    "result"
   ]
  },
  {
   "cell_type": "markdown",
   "metadata": {},
   "source": [
    "## Get Lists"
   ]
  },
  {
   "cell_type": "code",
   "execution_count": 15,
   "metadata": {},
   "outputs": [],
   "source": [
    "from composio.tools.local.clickup.actions.get_lists import GetLists, GetListsRequest, GetListsResponse\n",
    "\n",
    "class GetListsTool(BaseTool):\n",
    "    name: str = \"get_lists_tool\"\n",
    "    description: str = \"\"\"\n",
    "    Ferramenta para visualizar as listas dentro de uma pasta no ClickUp com base nos parâmetros fornecidos.\n",
    "    - Obter Listas:\n",
    "        Invocar: \"GetListsTool\" com os parâmetros apropriados.\n",
    "    \"\"\"\n",
    "    args_schema: Type[BaseModel] = GetListsRequest\n",
    "    headers: dict = {\"Authorization\": f\"{CLICKUP_TOKEN}\"}\n",
    "\n",
    "    def __init__(self, **data):\n",
    "        super().__init__(**data)\n",
    "\n",
    "    def _run(self, folder_id: int, **query_params) -> Any:\n",
    "        \"\"\"Executa a obtenção de listas dentro de uma pasta no ClickUp\"\"\"\n",
    "\n",
    "        action = GetLists()\n",
    "\n",
    "        url = f\"{action.url}{action.path}\".format(folder_id=folder_id)\n",
    "        params = {key: value for key, value in query_params.items() if value is not None}\n",
    "\n",
    "        response = requests.get(url, headers=self.headers, params=params)\n",
    "\n",
    "        if response.status_code == 200:\n",
    "            response_json = response.json()\n",
    "        else:\n",
    "            try:\n",
    "                response_json = response.json()\n",
    "            except requests.JSONDecodeError:\n",
    "                response_json = {\"error\": \"Invalid JSON response\"}\n",
    "        \n",
    "        print(f\"Response Body: {response_json}\")\n",
    "        response = GetListsResponse(data=response_json)\n",
    "        filtered_response = [\n",
    "            {\n",
    "                \"id\": item.get(\"id\"),\n",
    "                \"name\": item.get(\"name\"),\n",
    "                \"task_count\": item.get(\"task_count\")\n",
    "            }\n",
    "            for item in response.data.get(\"lists\", [])\n",
    "        ]\n",
    "        return filtered_response"
   ]
  },
  {
   "cell_type": "code",
   "execution_count": 16,
   "metadata": {},
   "outputs": [
    {
     "name": "stdout",
     "output_type": "stream",
     "text": [
      "Response Body: {'lists': [{'id': '901303519577', 'name': 'Agents Hub', 'orderindex': 4, 'content': '', 'status': None, 'priority': None, 'assignee': None, 'task_count': 23, 'due_date': None, 'start_date': None, 'folder': {'id': '90131663060', 'name': 'Agentes', 'hidden': False, 'access': True}, 'space': {'id': '54804921', 'name': 'Projetos', 'access': True}, 'archived': False, 'override_statuses': False, 'permission_level': 'create'}, {'id': '901301915357', 'name': 'NutriChatBot', 'orderindex': 5, 'status': None, 'priority': None, 'assignee': None, 'task_count': 0, 'due_date': None, 'start_date': None, 'folder': {'id': '90131663060', 'name': 'Agentes', 'hidden': False, 'access': True}, 'space': {'id': '54804921', 'name': 'Projetos', 'access': True}, 'archived': False, 'override_statuses': None, 'permission_level': 'create'}, {'id': '901301762971', 'name': 'Chatbot Site e Cobrador', 'orderindex': 7, 'content': '', 'status': None, 'priority': {'priority': 'high', 'color': '#f8ae00'}, 'assignee': {'color': '#81b1ff', 'username': 'João Guilherme Silva Morossini', 'initials': 'JM', 'profilePicture': 'https://attachments.clickup.com/profilePictures/81918955_kcK.jpg'}, 'task_count': 1, 'due_date': None, 'start_date': '1706598000000', 'folder': {'id': '90131663060', 'name': 'Agentes', 'hidden': False, 'access': True}, 'space': {'id': '54804921', 'name': 'Projetos', 'access': True}, 'archived': False, 'override_statuses': True, 'permission_level': 'create'}, {'id': '901303713036', 'name': 'Moderador de comunidade', 'orderindex': 9, 'status': None, 'priority': None, 'assignee': None, 'task_count': 1, 'due_date': None, 'start_date': None, 'folder': {'id': '90131663060', 'name': 'Agentes', 'hidden': False, 'access': True}, 'space': {'id': '54804921', 'name': 'Projetos', 'access': True}, 'archived': False, 'override_statuses': False, 'permission_level': 'create'}, {'id': '901303159092', 'name': 'Mediador', 'orderindex': 10, 'status': None, 'priority': None, 'assignee': None, 'task_count': 0, 'due_date': None, 'start_date': None, 'folder': {'id': '90131663060', 'name': 'Agentes', 'hidden': False, 'access': True}, 'space': {'id': '54804921', 'name': 'Projetos', 'access': True}, 'archived': False, 'override_statuses': None, 'permission_level': 'create'}, {'id': '901303713072', 'name': 'Peqii', 'orderindex': 12, 'status': None, 'priority': None, 'assignee': None, 'task_count': 3, 'due_date': None, 'start_date': None, 'folder': {'id': '90131663060', 'name': 'Agentes', 'hidden': False, 'access': True}, 'space': {'id': '54804921', 'name': 'Projetos', 'access': True}, 'archived': False, 'override_statuses': False, 'permission_level': 'create'}, {'id': '901303748839', 'name': 'Secretária', 'orderindex': 13, 'status': None, 'priority': None, 'assignee': None, 'task_count': 4, 'due_date': None, 'start_date': None, 'folder': {'id': '90131663060', 'name': 'Agentes', 'hidden': False, 'access': True}, 'space': {'id': '54804921', 'name': 'Projetos', 'access': True}, 'archived': False, 'override_statuses': False, 'permission_level': 'create'}, {'id': '901304886627', 'name': 'Educador', 'orderindex': 14, 'content': '', 'status': None, 'priority': None, 'assignee': None, 'task_count': 6, 'due_date': None, 'start_date': None, 'folder': {'id': '90131663060', 'name': 'Agentes', 'hidden': False, 'access': True}, 'space': {'id': '54804921', 'name': 'Projetos', 'access': True}, 'archived': False, 'override_statuses': False, 'permission_level': 'create'}, {'id': '901304907531', 'name': 'Gerente de projeto', 'orderindex': 15, 'content': '', 'status': None, 'priority': None, 'assignee': None, 'task_count': 3, 'due_date': None, 'start_date': None, 'folder': {'id': '90131663060', 'name': 'Agentes', 'hidden': False, 'access': True}, 'space': {'id': '54804921', 'name': 'Projetos', 'access': True}, 'archived': False, 'override_statuses': False, 'permission_level': 'create'}, {'id': '901304909787', 'name': 'Knowledge Graph e GraphRAG', 'orderindex': 17, 'content': '', 'status': None, 'priority': None, 'assignee': None, 'task_count': 2, 'due_date': None, 'start_date': None, 'folder': {'id': '90131663060', 'name': 'Agentes', 'hidden': False, 'access': True}, 'space': {'id': '54804921', 'name': 'Projetos', 'access': True}, 'archived': False, 'override_statuses': False, 'permission_level': 'create'}]}\n"
     ]
    },
    {
     "data": {
      "text/plain": [
       "[{'id': '901303519577', 'name': 'Agents Hub', 'task_count': 23},\n",
       " {'id': '901301915357', 'name': 'NutriChatBot', 'task_count': 0},\n",
       " {'id': '901301762971', 'name': 'Chatbot Site e Cobrador', 'task_count': 1},\n",
       " {'id': '901303713036', 'name': 'Moderador de comunidade', 'task_count': 1},\n",
       " {'id': '901303159092', 'name': 'Mediador', 'task_count': 0},\n",
       " {'id': '901303713072', 'name': 'Peqii', 'task_count': 3},\n",
       " {'id': '901303748839', 'name': 'Secretária', 'task_count': 4},\n",
       " {'id': '901304886627', 'name': 'Educador', 'task_count': 6},\n",
       " {'id': '901304907531', 'name': 'Gerente de projeto', 'task_count': 3},\n",
       " {'id': '901304909787', 'name': 'Knowledge Graph e GraphRAG', 'task_count': 2}]"
      ]
     },
     "execution_count": 16,
     "metadata": {},
     "output_type": "execute_result"
    }
   ],
   "source": [
    "tool = GetListsTool()\n",
    "result = tool._run(90131663060)\n",
    "result"
   ]
  },
  {
   "cell_type": "markdown",
   "metadata": {},
   "source": [
    "## Add Dependency"
   ]
  },
  {
   "cell_type": "code",
   "execution_count": null,
   "metadata": {},
   "outputs": [],
   "source": [
    "from composio.tools.local.clickup.actions.add_dependency import AddDependency, AddDependencyRequest, AddDependencyResponse\n",
    "\n",
    "class AddDependencyTool(BaseTool):\n",
    "    name: str = \"add_dependency_tool\"\n",
    "    description: str = \"\"\"\n",
    "    Ferramenta para definir uma tarefa como dependente ou bloqueadora de outra tarefa no ClickUp.\n",
    "    - Adicionar Dependência:\n",
    "        Invocar: \"AddDependencyTool\" com os parâmetros apropriados.\n",
    "    \"\"\"\n",
    "    args_schema: Type[BaseModel] = AddDependencyRequest\n",
    "    headers: dict = {\"Authorization\": f\"{CLICKUP_TOKEN}\"}\n",
    "\n",
    "    def __init__(self, **data):\n",
    "        super().__init__(**data)\n",
    "\n",
    "    def _run(self, task_id: str, **query_params) -> Any:\n",
    "        \"\"\"Executa a adição de uma dependência de tarefa no ClickUp\"\"\"\n",
    "\n",
    "        action = AddDependency()\n",
    "\n",
    "        url = f\"{action.url}{action.path}\".format(task_id=task_id)\n",
    "        params = {key: value for key, value in query_params.items() if value is not None}\n",
    "        request_body = {key: query_params.get(key) for key in action.request_params.keys()}\n",
    "\n",
    "        response = requests.post(url, headers=self.headers, params=params, json=request_body)\n",
    "\n",
    "        if response.status_code == 200:\n",
    "            response_json = response.json()\n",
    "        else:\n",
    "            try:\n",
    "                response_json = response.json()\n",
    "            except requests.JSONDecodeError:\n",
    "                response_json = {\"error\": \"Invalid JSON response\"}\n",
    "        \n",
    "        print(f\"Response Body: {response_json}\")\n",
    "        response = AddDependencyResponse(data=response_json)\n",
    "        if 'err' in response.data:\n",
    "            return f\"Error: {response.data['err']}\"\n",
    "        return f\"Dependency added successfully\""
   ]
  },
  {
   "cell_type": "code",
   "execution_count": null,
   "metadata": {},
   "outputs": [
    {
     "name": "stdout",
     "output_type": "stream",
     "text": [
      "Response Body: {}\n"
     ]
    },
    {
     "data": {
      "text/plain": [
       "'Dependency added successfully'"
      ]
     },
     "execution_count": 158,
     "metadata": {},
     "output_type": "execute_result"
    }
   ],
   "source": [
    "tool = AddDependencyTool()\n",
    "result = tool._run('86a4dv68h', depends_on='86a4dv68g')\n",
    "result"
   ]
  },
  {
   "cell_type": "markdown",
   "metadata": {},
   "source": [
    "## Authorized Teams Workspace"
   ]
  },
  {
   "cell_type": "code",
   "execution_count": null,
   "metadata": {},
   "outputs": [],
   "source": [
    "from composio.tools.local.clickup.actions.get_authorized_teams_workspaces import GetAuthorizedTeamsWorkspaces, GetAuthorizedTeamsWorkspacesRequest, GetAuthorizedTeamsWorkspacesResponse\n",
    "\n",
    "class GetAuthorizedTeamsWorkspacesTool(BaseTool):\n",
    "    name: str = \"get_authorized_teams_workspaces_tool\"\n",
    "    description: str = \"\"\"\n",
    "    Ferramenta para visualizar os Workspaces disponíveis para o usuário autenticado no ClickUp.\n",
    "    - Obter Workspaces:\n",
    "        Invocar: \"GetAuthorizedTeamsWorkspacesTool\" sem parâmetros adicionais.\n",
    "    \"\"\"\n",
    "    args_schema: Type[BaseModel] = GetAuthorizedTeamsWorkspacesRequest\n",
    "    headers: dict = {\"Authorization\": f\"sacasc{CLICKUP_TOKEN}\"}\n",
    "\n",
    "    def __init__(self, **data):\n",
    "        super().__init__(**data)\n",
    "\n",
    "    def _run(self) -> Any:\n",
    "        \"\"\"Executa a requisição para obter os Workspaces disponíveis para o usuário autenticado no ClickUp\"\"\"\n",
    "\n",
    "        action = GetAuthorizedTeamsWorkspaces()\n",
    "\n",
    "        url = f\"{action.url}{action.path}\"\n",
    "\n",
    "        response = requests.get(url, headers=self.headers)\n",
    "\n",
    "        if response.status_code == 200:\n",
    "            response_json = response.json()\n",
    "        else:\n",
    "            try:\n",
    "                response_json = response.json()\n",
    "            except requests.JSONDecodeError:\n",
    "                response_json = {\"error\": \"Invalid JSON response\"}\n",
    "        \n",
    "        print(f\"Response Body: {response_json}\")\n",
    "        response = GetAuthorizedTeamsWorkspacesResponse(data=response_json)\n",
    "        filtered_response = []\n",
    "        for team in response.data.get('teams', []):\n",
    "            team_info = {\n",
    "                'team_id': team.get('id'),\n",
    "                'team_name': team.get('name'),\n",
    "                'members': []\n",
    "            }\n",
    "            for member in team.get('members', []):\n",
    "                user = member.get('user', {})\n",
    "                user_info = {\n",
    "                    'user_id': user.get('id'),\n",
    "                    'username': user.get('username'),\n",
    "                    'email': user.get('email')\n",
    "                }\n",
    "                team_info['members'].append(user_info)\n",
    "            filtered_response.append(team_info)\n",
    "        filtered_response.append({'error': response.data.get('err')})\n",
    "        return filtered_response\n"
   ]
  },
  {
   "cell_type": "code",
   "execution_count": null,
   "metadata": {},
   "outputs": [
    {
     "name": "stdout",
     "output_type": "stream",
     "text": [
      "Response Body: {'err': 'Oauth token not found', 'ECODE': 'OAUTH_019'}\n"
     ]
    },
    {
     "data": {
      "text/plain": [
       "[{'error': 'Oauth token not found'}]"
      ]
     },
     "execution_count": 174,
     "metadata": {},
     "output_type": "execute_result"
    }
   ],
   "source": [
    "tool = GetAuthorizedTeamsWorkspacesTool()\n",
    "result = tool._run()\n",
    "result"
   ]
  },
  {
   "cell_type": "markdown",
   "metadata": {},
   "source": [
    "## Authorized User"
   ]
  },
  {
   "cell_type": "code",
   "execution_count": null,
   "metadata": {},
   "outputs": [],
   "source": [
    "from composio.tools.local.clickup.actions.get_authorized_user import GetAuthorizedUser, GetAuthorizedUserRequest, GetAuthorizedUserResponse\n",
    "\n",
    "class GetAuthorizedUserTool(BaseTool):\n",
    "    name: str = \"get_authorized_user_tool\"\n",
    "    description: str = \"\"\"\n",
    "    Ferramenta para visualizar os detalhes da conta do usuário autenticado no ClickUp.\n",
    "    - Obter detalhes do usuário:\n",
    "        Invocar: \"GetAuthorizedUserTool\" sem parâmetros adicionais.\n",
    "    \"\"\"\n",
    "    args_schema: Type[BaseModel] = GetAuthorizedUserRequest\n",
    "    headers: dict = {\"Authorization\": f\"{CLICKUP_TOKEN}\"}\n",
    "\n",
    "    def __init__(self, **data):\n",
    "        super().__init__(**data)\n",
    "\n",
    "    def _run(self) -> Any:\n",
    "        \"\"\"Executa a requisição para obter os detalhes da conta do usuário autenticado no ClickUp\"\"\"\n",
    "\n",
    "        action = GetAuthorizedUser()\n",
    "\n",
    "        url = f\"{action.url}{action.path}\"\n",
    "\n",
    "        response = requests.get(url, headers=self.headers)\n",
    "\n",
    "        if response.status_code == 200:\n",
    "            response_json = response.json()\n",
    "        else:\n",
    "            try:\n",
    "                response_json = response.json()\n",
    "            except requests.JSONDecodeError:\n",
    "                response_json = {\"error\": \"Invalid JSON response\"}\n",
    "        \n",
    "        print(f\"Response Body: {response_json}\")\n",
    "        response =  GetAuthorizedUserResponse(data=response_json)\n",
    "        filtered_response = {\n",
    "            'user_id': response.data.get('user', {}).get('id'),\n",
    "            'username': response.data.get('user', {}).get('username'),\n",
    "            'email': response.data.get('user', {}).get('email'),\n",
    "            'timezone': response.data.get('user', {}).get('timezone'),\n",
    "            'error': response.data.get('user', {}).get('err'),\n",
    "        }\n",
    "        return filtered_response"
   ]
  },
  {
   "cell_type": "code",
   "execution_count": null,
   "metadata": {},
   "outputs": [
    {
     "name": "stdout",
     "output_type": "stream",
     "text": [
      "Response Body: {'user': {'id': 84141406, 'username': 'Ana Beatriz', 'email': 'ti@cogmo.com.br', 'color': '#455963', 'profilePicture': 'https://attachments.clickup.com/profilePictures/84141406_ZkZ.jpg', 'initials': 'AB', 'week_start_day': 1, 'global_font_support': True, 'timezone': 'America/Sao_Paulo'}}\n"
     ]
    },
    {
     "data": {
      "text/plain": [
       "{'user_id': 84141406,\n",
       " 'username': 'Ana Beatriz',\n",
       " 'email': 'ti@cogmo.com.br',\n",
       " 'timezone': 'America/Sao_Paulo',\n",
       " 'error': None}"
      ]
     },
     "execution_count": 181,
     "metadata": {},
     "output_type": "execute_result"
    }
   ],
   "source": [
    "tool = GetAuthorizedUserTool()\n",
    "result = tool._run()\n",
    "result"
   ]
  },
  {
   "cell_type": "markdown",
   "metadata": {},
   "source": [
    "## Get Folder"
   ]
  },
  {
   "cell_type": "code",
   "execution_count": null,
   "metadata": {},
   "outputs": [],
   "source": [
    "\n",
    "from composio.tools.local.clickup.actions.get_folder import GetFolder, GetFolderRequest, GetFolderResponse\n",
    "\n",
    "class GetFolderTool(BaseTool):\n",
    "    name: str = \"get_folder_tool\"\n",
    "    description: str = \"\"\"\n",
    "    Ferramenta para visualizar as listas dentro de uma pasta no ClickUp.\n",
    "    - Obter conteúdo da pasta:\n",
    "        Invocar: \"GetFolderTool\" com o ID da pasta como parâmetro.\n",
    "    \"\"\"\n",
    "    args_schema: Type[BaseModel] = GetFolderRequest\n",
    "    headers: dict = {\"Authorization\": f\"{CLICKUP_TOKEN}\"}\n",
    "\n",
    "    def __init__(self, **data):\n",
    "        super().__init__(**data)\n",
    "\n",
    "    def _run(self, folder_id: int) -> Any:\n",
    "        \"\"\"Executa a requisição para obter o conteúdo de uma pasta no ClickUp\"\"\"\n",
    "\n",
    "        action = GetFolder()\n",
    "\n",
    "        url = f\"{action.url}{action.path}\".format(folder_id=folder_id)\n",
    "\n",
    "        response = requests.get(url, headers=self.headers)\n",
    "\n",
    "        if response.status_code == 200:\n",
    "            response_json = response.json()\n",
    "        else:\n",
    "            try:\n",
    "                response_json = response.json()\n",
    "            except requests.JSONDecodeError:\n",
    "                response_json = {\"error\": \"Invalid JSON response\"}\n",
    "\n",
    "        print(f\"Response Body: {response_json}\")\n",
    "        response = GetFolderResponse(data=response_json)\n",
    "        filtered_response = {\n",
    "            'folder_id': response.data.get('id'),\n",
    "            'folder_name': response.data.get('name'),\n",
    "            'lists': [\n",
    "                {\n",
    "                    'list_id': item.get('id'),\n",
    "                    'list_name': item.get('name'),\n",
    "                    'task_count': item.get('task_count')\n",
    "                }\n",
    "                for item in response.data.get('lists', [])\n",
    "            ],\n",
    "            'error': response.data.get('err'),\n",
    "        }\n",
    "        return filtered_response\n"
   ]
  },
  {
   "cell_type": "code",
   "execution_count": null,
   "metadata": {},
   "outputs": [
    {
     "name": "stdout",
     "output_type": "stream",
     "text": [
      "Response Body: {'id': '90131663060', 'name': 'Agentes', 'orderindex': 46, 'override_statuses': False, 'hidden': False, 'space': {'id': '54804921', 'name': 'Projetos', 'access': True}, 'task_count': '42', 'archived': False, 'statuses': [{'id': 'p54804921_KslxIFrF', 'status': 'doing', 'orderindex': 2, 'color': '#e16b16', 'type': 'custom'}, {'id': 'p54804921_yUsGlLJS', 'status': 'done', 'orderindex': 5, 'color': '#008844', 'type': 'closed'}, {'id': 'p54804921_1gR1N0KG', 'status': 'backlog', 'orderindex': 0, 'color': '#9c09bc', 'type': 'open'}, {'id': 'p54804921_oYhO88Lm', 'status': 'testing', 'orderindex': 3, 'color': '#d33d44', 'type': 'custom'}, {'id': 'p54804921_95z15BZN', 'status': 'todo', 'orderindex': 1, 'color': '#4466ff', 'type': 'custom'}, {'id': 'p54804921_sZXRFa49', 'status': 'brainstorming', 'orderindex': 4, 'color': '#1090e0', 'type': 'custom'}], 'lists': [{'id': '901303519577', 'name': 'Agents Hub', 'orderindex': 4, 'content': '', 'status': None, 'priority': None, 'assignee': None, 'task_count': 22, 'due_date': None, 'start_date': None, 'archived': False, 'override_statuses': False, 'statuses': [{'id': 'p54804921_1gR1N0KG', 'status': 'backlog', 'orderindex': 0, 'color': '#9c09bc', 'type': 'open', 'status_group': 'proj_54804921'}, {'id': 'p54804921_95z15BZN', 'status': 'todo', 'orderindex': 1, 'color': '#4466ff', 'type': 'custom', 'status_group': 'proj_54804921'}, {'id': 'p54804921_KslxIFrF', 'status': 'doing', 'orderindex': 2, 'color': '#e16b16', 'type': 'custom', 'status_group': 'proj_54804921'}, {'id': 'p54804921_oYhO88Lm', 'status': 'testing', 'orderindex': 3, 'color': '#d33d44', 'type': 'custom', 'status_group': 'proj_54804921'}, {'id': 'p54804921_sZXRFa49', 'status': 'brainstorming', 'orderindex': 4, 'color': '#1090e0', 'type': 'custom', 'status_group': 'proj_54804921'}, {'id': 'p54804921_yUsGlLJS', 'status': 'done', 'orderindex': 5, 'color': '#008844', 'type': 'closed', 'status_group': 'proj_54804921'}], 'permission_level': 'create'}, {'id': '901301915357', 'name': 'NutriChatBot', 'orderindex': 5, 'status': None, 'priority': None, 'assignee': None, 'task_count': 0, 'due_date': None, 'start_date': None, 'archived': False, 'override_statuses': None, 'statuses': [{'id': 'p54804921_1gR1N0KG', 'status': 'backlog', 'orderindex': 0, 'color': '#9c09bc', 'type': 'open', 'status_group': 'proj_54804921'}, {'id': 'p54804921_95z15BZN', 'status': 'todo', 'orderindex': 1, 'color': '#4466ff', 'type': 'custom', 'status_group': 'proj_54804921'}, {'id': 'p54804921_KslxIFrF', 'status': 'doing', 'orderindex': 2, 'color': '#e16b16', 'type': 'custom', 'status_group': 'proj_54804921'}, {'id': 'p54804921_oYhO88Lm', 'status': 'testing', 'orderindex': 3, 'color': '#d33d44', 'type': 'custom', 'status_group': 'proj_54804921'}, {'id': 'p54804921_sZXRFa49', 'status': 'brainstorming', 'orderindex': 4, 'color': '#1090e0', 'type': 'custom', 'status_group': 'proj_54804921'}, {'id': 'p54804921_yUsGlLJS', 'status': 'done', 'orderindex': 5, 'color': '#008844', 'type': 'closed', 'status_group': 'proj_54804921'}], 'permission_level': 'create'}, {'id': '901301762971', 'name': 'Chatbot Site e Cobrador', 'orderindex': 7, 'content': '', 'status': None, 'priority': {'priority': 'high', 'color': '#f8ae00'}, 'assignee': {'color': '#81b1ff', 'username': 'João Guilherme Silva Morossini', 'initials': 'JM', 'profilePicture': 'https://attachments.clickup.com/profilePictures/81918955_kcK.jpg'}, 'task_count': 1, 'due_date': None, 'start_date': '1706598000000', 'archived': False, 'override_statuses': True, 'statuses': [{'id': 'sc901301762971_TWYZRuMN', 'status': 'backlog', 'orderindex': 0, 'color': '#9c09bc', 'type': 'open', 'status_group': 'subcat_901301762971'}, {'id': 'sc901301762971_eHzppXvM', 'status': 'todo', 'orderindex': 1, 'color': '#4466ff', 'type': 'custom', 'status_group': 'subcat_901301762971'}, {'id': 'sc901301762971_oUwONxbj', 'status': 'doing', 'orderindex': 2, 'color': '#e16b16', 'type': 'custom', 'status_group': 'subcat_901301762971'}, {'id': 'sc901301762971_BDUC5nyv', 'status': 'testing', 'orderindex': 3, 'color': '#d33d44', 'type': 'custom', 'status_group': 'subcat_901301762971'}, {'id': 'sc901301762971_Qp3r38is', 'status': 'brainstorming', 'orderindex': 4, 'color': '#1090e0', 'type': 'custom', 'status_group': 'subcat_901301762971'}, {'id': 'sc901301762971_UP4PT3sp', 'status': 'waiting', 'orderindex': 5, 'color': '#f8ae00', 'type': 'custom', 'status_group': 'subcat_901301762971'}, {'id': 'sc901301762971_HzXA2xvY', 'status': 'done', 'orderindex': 6, 'color': '#008844', 'type': 'closed', 'status_group': 'subcat_901301762971'}], 'permission_level': 'create'}, {'id': '901303713036', 'name': 'Moderador de comunidade', 'orderindex': 9, 'status': None, 'priority': None, 'assignee': None, 'task_count': 1, 'due_date': None, 'start_date': None, 'archived': False, 'override_statuses': False, 'statuses': [{'id': 'p54804921_1gR1N0KG', 'status': 'backlog', 'orderindex': 0, 'color': '#9c09bc', 'type': 'open', 'status_group': 'proj_54804921'}, {'id': 'p54804921_95z15BZN', 'status': 'todo', 'orderindex': 1, 'color': '#4466ff', 'type': 'custom', 'status_group': 'proj_54804921'}, {'id': 'p54804921_KslxIFrF', 'status': 'doing', 'orderindex': 2, 'color': '#e16b16', 'type': 'custom', 'status_group': 'proj_54804921'}, {'id': 'p54804921_oYhO88Lm', 'status': 'testing', 'orderindex': 3, 'color': '#d33d44', 'type': 'custom', 'status_group': 'proj_54804921'}, {'id': 'p54804921_sZXRFa49', 'status': 'brainstorming', 'orderindex': 4, 'color': '#1090e0', 'type': 'custom', 'status_group': 'proj_54804921'}, {'id': 'p54804921_yUsGlLJS', 'status': 'done', 'orderindex': 5, 'color': '#008844', 'type': 'closed', 'status_group': 'proj_54804921'}], 'permission_level': 'create'}, {'id': '901303159092', 'name': 'Mediador', 'orderindex': 10, 'status': None, 'priority': None, 'assignee': None, 'task_count': 0, 'due_date': None, 'start_date': None, 'archived': False, 'override_statuses': None, 'statuses': [{'id': 'p54804921_1gR1N0KG', 'status': 'backlog', 'orderindex': 0, 'color': '#9c09bc', 'type': 'open', 'status_group': 'proj_54804921'}, {'id': 'p54804921_95z15BZN', 'status': 'todo', 'orderindex': 1, 'color': '#4466ff', 'type': 'custom', 'status_group': 'proj_54804921'}, {'id': 'p54804921_KslxIFrF', 'status': 'doing', 'orderindex': 2, 'color': '#e16b16', 'type': 'custom', 'status_group': 'proj_54804921'}, {'id': 'p54804921_oYhO88Lm', 'status': 'testing', 'orderindex': 3, 'color': '#d33d44', 'type': 'custom', 'status_group': 'proj_54804921'}, {'id': 'p54804921_sZXRFa49', 'status': 'brainstorming', 'orderindex': 4, 'color': '#1090e0', 'type': 'custom', 'status_group': 'proj_54804921'}, {'id': 'p54804921_yUsGlLJS', 'status': 'done', 'orderindex': 5, 'color': '#008844', 'type': 'closed', 'status_group': 'proj_54804921'}], 'permission_level': 'create'}, {'id': '901303713072', 'name': 'Peqii', 'orderindex': 12, 'status': None, 'priority': None, 'assignee': None, 'task_count': 3, 'due_date': None, 'start_date': None, 'archived': False, 'override_statuses': False, 'statuses': [{'id': 'p54804921_1gR1N0KG', 'status': 'backlog', 'orderindex': 0, 'color': '#9c09bc', 'type': 'open', 'status_group': 'proj_54804921'}, {'id': 'p54804921_95z15BZN', 'status': 'todo', 'orderindex': 1, 'color': '#4466ff', 'type': 'custom', 'status_group': 'proj_54804921'}, {'id': 'p54804921_KslxIFrF', 'status': 'doing', 'orderindex': 2, 'color': '#e16b16', 'type': 'custom', 'status_group': 'proj_54804921'}, {'id': 'p54804921_oYhO88Lm', 'status': 'testing', 'orderindex': 3, 'color': '#d33d44', 'type': 'custom', 'status_group': 'proj_54804921'}, {'id': 'p54804921_sZXRFa49', 'status': 'brainstorming', 'orderindex': 4, 'color': '#1090e0', 'type': 'custom', 'status_group': 'proj_54804921'}, {'id': 'p54804921_yUsGlLJS', 'status': 'done', 'orderindex': 5, 'color': '#008844', 'type': 'closed', 'status_group': 'proj_54804921'}], 'permission_level': 'create'}, {'id': '901303748839', 'name': 'Secretária', 'orderindex': 13, 'status': None, 'priority': None, 'assignee': None, 'task_count': 4, 'due_date': None, 'start_date': None, 'archived': False, 'override_statuses': False, 'statuses': [{'id': 'p54804921_1gR1N0KG', 'status': 'backlog', 'orderindex': 0, 'color': '#9c09bc', 'type': 'open', 'status_group': 'proj_54804921'}, {'id': 'p54804921_95z15BZN', 'status': 'todo', 'orderindex': 1, 'color': '#4466ff', 'type': 'custom', 'status_group': 'proj_54804921'}, {'id': 'p54804921_KslxIFrF', 'status': 'doing', 'orderindex': 2, 'color': '#e16b16', 'type': 'custom', 'status_group': 'proj_54804921'}, {'id': 'p54804921_oYhO88Lm', 'status': 'testing', 'orderindex': 3, 'color': '#d33d44', 'type': 'custom', 'status_group': 'proj_54804921'}, {'id': 'p54804921_sZXRFa49', 'status': 'brainstorming', 'orderindex': 4, 'color': '#1090e0', 'type': 'custom', 'status_group': 'proj_54804921'}, {'id': 'p54804921_yUsGlLJS', 'status': 'done', 'orderindex': 5, 'color': '#008844', 'type': 'closed', 'status_group': 'proj_54804921'}], 'permission_level': 'create'}, {'id': '901304886627', 'name': 'Educador', 'orderindex': 14, 'content': '', 'status': None, 'priority': None, 'assignee': None, 'task_count': 6, 'due_date': None, 'start_date': None, 'archived': False, 'override_statuses': False, 'statuses': [{'id': 'p54804921_1gR1N0KG', 'status': 'backlog', 'orderindex': 0, 'color': '#9c09bc', 'type': 'open', 'status_group': 'proj_54804921'}, {'id': 'p54804921_95z15BZN', 'status': 'todo', 'orderindex': 1, 'color': '#4466ff', 'type': 'custom', 'status_group': 'proj_54804921'}, {'id': 'p54804921_KslxIFrF', 'status': 'doing', 'orderindex': 2, 'color': '#e16b16', 'type': 'custom', 'status_group': 'proj_54804921'}, {'id': 'p54804921_oYhO88Lm', 'status': 'testing', 'orderindex': 3, 'color': '#d33d44', 'type': 'custom', 'status_group': 'proj_54804921'}, {'id': 'p54804921_sZXRFa49', 'status': 'brainstorming', 'orderindex': 4, 'color': '#1090e0', 'type': 'custom', 'status_group': 'proj_54804921'}, {'id': 'p54804921_yUsGlLJS', 'status': 'done', 'orderindex': 5, 'color': '#008844', 'type': 'closed', 'status_group': 'proj_54804921'}], 'permission_level': 'create'}, {'id': '901304907531', 'name': 'Gerente de projeto', 'orderindex': 15, 'content': '', 'status': None, 'priority': None, 'assignee': None, 'task_count': 3, 'due_date': None, 'start_date': None, 'archived': False, 'override_statuses': False, 'statuses': [{'id': 'p54804921_1gR1N0KG', 'status': 'backlog', 'orderindex': 0, 'color': '#9c09bc', 'type': 'open', 'status_group': 'proj_54804921'}, {'id': 'p54804921_95z15BZN', 'status': 'todo', 'orderindex': 1, 'color': '#4466ff', 'type': 'custom', 'status_group': 'proj_54804921'}, {'id': 'p54804921_KslxIFrF', 'status': 'doing', 'orderindex': 2, 'color': '#e16b16', 'type': 'custom', 'status_group': 'proj_54804921'}, {'id': 'p54804921_oYhO88Lm', 'status': 'testing', 'orderindex': 3, 'color': '#d33d44', 'type': 'custom', 'status_group': 'proj_54804921'}, {'id': 'p54804921_sZXRFa49', 'status': 'brainstorming', 'orderindex': 4, 'color': '#1090e0', 'type': 'custom', 'status_group': 'proj_54804921'}, {'id': 'p54804921_yUsGlLJS', 'status': 'done', 'orderindex': 5, 'color': '#008844', 'type': 'closed', 'status_group': 'proj_54804921'}], 'permission_level': 'create'}, {'id': '901304909787', 'name': 'Knowledge Graph e GraphRAG', 'orderindex': 17, 'content': '', 'status': None, 'priority': None, 'assignee': None, 'task_count': 2, 'due_date': None, 'start_date': None, 'archived': False, 'override_statuses': False, 'statuses': [{'id': 'p54804921_1gR1N0KG', 'status': 'backlog', 'orderindex': 0, 'color': '#9c09bc', 'type': 'open', 'status_group': 'proj_54804921'}, {'id': 'p54804921_95z15BZN', 'status': 'todo', 'orderindex': 1, 'color': '#4466ff', 'type': 'custom', 'status_group': 'proj_54804921'}, {'id': 'p54804921_KslxIFrF', 'status': 'doing', 'orderindex': 2, 'color': '#e16b16', 'type': 'custom', 'status_group': 'proj_54804921'}, {'id': 'p54804921_oYhO88Lm', 'status': 'testing', 'orderindex': 3, 'color': '#d33d44', 'type': 'custom', 'status_group': 'proj_54804921'}, {'id': 'p54804921_sZXRFa49', 'status': 'brainstorming', 'orderindex': 4, 'color': '#1090e0', 'type': 'custom', 'status_group': 'proj_54804921'}, {'id': 'p54804921_yUsGlLJS', 'status': 'done', 'orderindex': 5, 'color': '#008844', 'type': 'closed', 'status_group': 'proj_54804921'}], 'permission_level': 'create'}], 'permission_level': 'create'}\n"
     ]
    },
    {
     "data": {
      "text/plain": [
       "{'folder_id': '90131663060',\n",
       " 'folder_name': 'Agentes',\n",
       " 'lists': [{'list_id': '901303519577',\n",
       "   'list_name': 'Agents Hub',\n",
       "   'task_count': 22},\n",
       "  {'list_id': '901301915357', 'list_name': 'NutriChatBot', 'task_count': 0},\n",
       "  {'list_id': '901301762971',\n",
       "   'list_name': 'Chatbot Site e Cobrador',\n",
       "   'task_count': 1},\n",
       "  {'list_id': '901303713036',\n",
       "   'list_name': 'Moderador de comunidade',\n",
       "   'task_count': 1},\n",
       "  {'list_id': '901303159092', 'list_name': 'Mediador', 'task_count': 0},\n",
       "  {'list_id': '901303713072', 'list_name': 'Peqii', 'task_count': 3},\n",
       "  {'list_id': '901303748839', 'list_name': 'Secretária', 'task_count': 4},\n",
       "  {'list_id': '901304886627', 'list_name': 'Educador', 'task_count': 6},\n",
       "  {'list_id': '901304907531',\n",
       "   'list_name': 'Gerente de projeto',\n",
       "   'task_count': 3},\n",
       "  {'list_id': '901304909787',\n",
       "   'list_name': 'Knowledge Graph e GraphRAG',\n",
       "   'task_count': 2}],\n",
       " 'error': None}"
      ]
     },
     "execution_count": 185,
     "metadata": {},
     "output_type": "execute_result"
    }
   ],
   "source": [
    "tool = GetFolderTool()\n",
    "result = tool._run(90131663060)\n",
    "result"
   ]
  },
  {
   "cell_type": "markdown",
   "metadata": {},
   "source": [
    "## Get Folders"
   ]
  },
  {
   "cell_type": "code",
   "execution_count": null,
   "metadata": {},
   "outputs": [],
   "source": [
    "from composio.tools.local.clickup.actions.get_folders import GetFolders, GetFoldersRequest, GetFoldersResponse\n",
    "\n",
    "class GetFoldersTool(BaseTool):\n",
    "    name: str = \"get_folders_tool\"\n",
    "    description: str = \"\"\"\n",
    "    Ferramenta para visualizar as pastas em um espaço no ClickUp.\n",
    "    - Obter conteúdo das pastas:\n",
    "        Invocar: \"GetFoldersTool\" com o ID do espaço como parâmetro e opcionalmente o status de arquivamento.\n",
    "    \"\"\"\n",
    "    args_schema: Type[BaseModel] = GetFoldersRequest\n",
    "    headers: dict = {\"Authorization\": f\"{CLICKUP_TOKEN}\"}\n",
    "\n",
    "    def __init__(self, **data):\n",
    "        super().__init__(**data)\n",
    "\n",
    "    def _run(self, space_id: int, archived: bool = None) -> Any:\n",
    "        \"\"\"Executa a requisição para obter as pastas de um espaço no ClickUp\"\"\"\n",
    "\n",
    "        action = GetFolders()\n",
    "\n",
    "        url = f\"{action.url}{action.path}\".format(space_id=space_id)\n",
    "        params = {\"archived\": archived} if archived is not None else {}\n",
    "\n",
    "        response = requests.get(url, headers=self.headers, params=params)\n",
    "\n",
    "        if response.status_code == 200:\n",
    "            response_json = response.json()\n",
    "        else:\n",
    "            try:\n",
    "                response_json = response.json()\n",
    "            except requests.JSONDecodeError:\n",
    "                response_json = {\"error\": \"Invalid JSON response\"}\n",
    "\n",
    "        print(f\"Response Body: {response_json}\")\n",
    "        response = GetFoldersResponse(data=response_json)\n",
    "        filtered_responses = [\n",
    "            {\n",
    "                'folder_id': folder.get('id'),\n",
    "                'folder_name': folder.get('name'),\n",
    "                'lists': [\n",
    "                    {\n",
    "                        'list_id': item.get('id'),\n",
    "                        'list_name': item.get('name'),\n",
    "                        'task_count': item.get('task_count')\n",
    "                    }\n",
    "                    for item in folder.get('lists', [])\n",
    "                ],\n",
    "                'error': folder.get('error'),\n",
    "            }\n",
    "            for folder in response.data.get('folders', [])\n",
    "        ]\n",
    "        return filtered_responses"
   ]
  },
  {
   "cell_type": "code",
   "execution_count": null,
   "metadata": {},
   "outputs": [
    {
     "name": "stdout",
     "output_type": "stream",
     "text": [
      "Response Body: {'folders': [{'id': '90131663060', 'name': 'Agentes', 'orderindex': 46, 'override_statuses': False, 'hidden': False, 'space': {'id': '54804921', 'name': 'Projetos'}, 'task_count': '42', 'archived': False, 'statuses': [], 'lists': [{'id': '901303519577', 'name': 'Agents Hub', 'orderindex': 4, 'content': '', 'status': None, 'priority': None, 'assignee': None, 'task_count': 22, 'due_date': None, 'start_date': None, 'space': {'id': '54804921', 'name': 'Projetos', 'access': True}, 'archived': False, 'override_statuses': False, 'statuses': [{'id': 'p54804921_1gR1N0KG', 'status': 'backlog', 'orderindex': 0, 'color': '#9c09bc', 'type': 'open', 'status_group': 'proj_54804921'}, {'id': 'p54804921_95z15BZN', 'status': 'todo', 'orderindex': 1, 'color': '#4466ff', 'type': 'custom', 'status_group': 'proj_54804921'}, {'id': 'p54804921_KslxIFrF', 'status': 'doing', 'orderindex': 2, 'color': '#e16b16', 'type': 'custom', 'status_group': 'proj_54804921'}, {'id': 'p54804921_oYhO88Lm', 'status': 'testing', 'orderindex': 3, 'color': '#d33d44', 'type': 'custom', 'status_group': 'proj_54804921'}, {'id': 'p54804921_sZXRFa49', 'status': 'brainstorming', 'orderindex': 4, 'color': '#1090e0', 'type': 'custom', 'status_group': 'proj_54804921'}, {'id': 'p54804921_yUsGlLJS', 'status': 'done', 'orderindex': 5, 'color': '#008844', 'type': 'closed', 'status_group': 'proj_54804921'}], 'permission_level': 'create'}, {'id': '901301915357', 'name': 'NutriChatBot', 'orderindex': 5, 'status': None, 'priority': None, 'assignee': None, 'task_count': 0, 'due_date': None, 'start_date': None, 'space': {'id': '54804921', 'name': 'Projetos', 'access': True}, 'archived': False, 'override_statuses': None, 'statuses': [{'id': 'p54804921_1gR1N0KG', 'status': 'backlog', 'orderindex': 0, 'color': '#9c09bc', 'type': 'open', 'status_group': 'proj_54804921'}, {'id': 'p54804921_95z15BZN', 'status': 'todo', 'orderindex': 1, 'color': '#4466ff', 'type': 'custom', 'status_group': 'proj_54804921'}, {'id': 'p54804921_KslxIFrF', 'status': 'doing', 'orderindex': 2, 'color': '#e16b16', 'type': 'custom', 'status_group': 'proj_54804921'}, {'id': 'p54804921_oYhO88Lm', 'status': 'testing', 'orderindex': 3, 'color': '#d33d44', 'type': 'custom', 'status_group': 'proj_54804921'}, {'id': 'p54804921_sZXRFa49', 'status': 'brainstorming', 'orderindex': 4, 'color': '#1090e0', 'type': 'custom', 'status_group': 'proj_54804921'}, {'id': 'p54804921_yUsGlLJS', 'status': 'done', 'orderindex': 5, 'color': '#008844', 'type': 'closed', 'status_group': 'proj_54804921'}], 'permission_level': 'create'}, {'id': '901301762971', 'name': 'Chatbot Site e Cobrador', 'orderindex': 7, 'content': '', 'status': None, 'priority': {'priority': 'high', 'color': '#f8ae00'}, 'assignee': {'color': '#81b1ff', 'username': 'João Guilherme Silva Morossini', 'initials': 'JM', 'profilePicture': 'https://attachments.clickup.com/profilePictures/81918955_kcK.jpg'}, 'task_count': 1, 'due_date': None, 'start_date': '1706598000000', 'space': {'id': '54804921', 'name': 'Projetos', 'access': True}, 'archived': False, 'override_statuses': True, 'statuses': [{'id': 'sc901301762971_TWYZRuMN', 'status': 'backlog', 'orderindex': 0, 'color': '#9c09bc', 'type': 'open', 'status_group': 'subcat_901301762971'}, {'id': 'sc901301762971_eHzppXvM', 'status': 'todo', 'orderindex': 1, 'color': '#4466ff', 'type': 'custom', 'status_group': 'subcat_901301762971'}, {'id': 'sc901301762971_oUwONxbj', 'status': 'doing', 'orderindex': 2, 'color': '#e16b16', 'type': 'custom', 'status_group': 'subcat_901301762971'}, {'id': 'sc901301762971_BDUC5nyv', 'status': 'testing', 'orderindex': 3, 'color': '#d33d44', 'type': 'custom', 'status_group': 'subcat_901301762971'}, {'id': 'sc901301762971_Qp3r38is', 'status': 'brainstorming', 'orderindex': 4, 'color': '#1090e0', 'type': 'custom', 'status_group': 'subcat_901301762971'}, {'id': 'sc901301762971_UP4PT3sp', 'status': 'waiting', 'orderindex': 5, 'color': '#f8ae00', 'type': 'custom', 'status_group': 'subcat_901301762971'}, {'id': 'sc901301762971_HzXA2xvY', 'status': 'done', 'orderindex': 6, 'color': '#008844', 'type': 'closed', 'status_group': 'subcat_901301762971'}], 'permission_level': 'create'}, {'id': '901303713036', 'name': 'Moderador de comunidade', 'orderindex': 9, 'status': None, 'priority': None, 'assignee': None, 'task_count': 1, 'due_date': None, 'start_date': None, 'space': {'id': '54804921', 'name': 'Projetos', 'access': True}, 'archived': False, 'override_statuses': False, 'statuses': [{'id': 'p54804921_1gR1N0KG', 'status': 'backlog', 'orderindex': 0, 'color': '#9c09bc', 'type': 'open', 'status_group': 'proj_54804921'}, {'id': 'p54804921_95z15BZN', 'status': 'todo', 'orderindex': 1, 'color': '#4466ff', 'type': 'custom', 'status_group': 'proj_54804921'}, {'id': 'p54804921_KslxIFrF', 'status': 'doing', 'orderindex': 2, 'color': '#e16b16', 'type': 'custom', 'status_group': 'proj_54804921'}, {'id': 'p54804921_oYhO88Lm', 'status': 'testing', 'orderindex': 3, 'color': '#d33d44', 'type': 'custom', 'status_group': 'proj_54804921'}, {'id': 'p54804921_sZXRFa49', 'status': 'brainstorming', 'orderindex': 4, 'color': '#1090e0', 'type': 'custom', 'status_group': 'proj_54804921'}, {'id': 'p54804921_yUsGlLJS', 'status': 'done', 'orderindex': 5, 'color': '#008844', 'type': 'closed', 'status_group': 'proj_54804921'}], 'permission_level': 'create'}, {'id': '901303159092', 'name': 'Mediador', 'orderindex': 10, 'status': None, 'priority': None, 'assignee': None, 'task_count': 0, 'due_date': None, 'start_date': None, 'space': {'id': '54804921', 'name': 'Projetos', 'access': True}, 'archived': False, 'override_statuses': None, 'statuses': [{'id': 'p54804921_1gR1N0KG', 'status': 'backlog', 'orderindex': 0, 'color': '#9c09bc', 'type': 'open', 'status_group': 'proj_54804921'}, {'id': 'p54804921_95z15BZN', 'status': 'todo', 'orderindex': 1, 'color': '#4466ff', 'type': 'custom', 'status_group': 'proj_54804921'}, {'id': 'p54804921_KslxIFrF', 'status': 'doing', 'orderindex': 2, 'color': '#e16b16', 'type': 'custom', 'status_group': 'proj_54804921'}, {'id': 'p54804921_oYhO88Lm', 'status': 'testing', 'orderindex': 3, 'color': '#d33d44', 'type': 'custom', 'status_group': 'proj_54804921'}, {'id': 'p54804921_sZXRFa49', 'status': 'brainstorming', 'orderindex': 4, 'color': '#1090e0', 'type': 'custom', 'status_group': 'proj_54804921'}, {'id': 'p54804921_yUsGlLJS', 'status': 'done', 'orderindex': 5, 'color': '#008844', 'type': 'closed', 'status_group': 'proj_54804921'}], 'permission_level': 'create'}, {'id': '901303713072', 'name': 'Peqii', 'orderindex': 12, 'status': None, 'priority': None, 'assignee': None, 'task_count': 3, 'due_date': None, 'start_date': None, 'space': {'id': '54804921', 'name': 'Projetos', 'access': True}, 'archived': False, 'override_statuses': False, 'statuses': [{'id': 'p54804921_1gR1N0KG', 'status': 'backlog', 'orderindex': 0, 'color': '#9c09bc', 'type': 'open', 'status_group': 'proj_54804921'}, {'id': 'p54804921_95z15BZN', 'status': 'todo', 'orderindex': 1, 'color': '#4466ff', 'type': 'custom', 'status_group': 'proj_54804921'}, {'id': 'p54804921_KslxIFrF', 'status': 'doing', 'orderindex': 2, 'color': '#e16b16', 'type': 'custom', 'status_group': 'proj_54804921'}, {'id': 'p54804921_oYhO88Lm', 'status': 'testing', 'orderindex': 3, 'color': '#d33d44', 'type': 'custom', 'status_group': 'proj_54804921'}, {'id': 'p54804921_sZXRFa49', 'status': 'brainstorming', 'orderindex': 4, 'color': '#1090e0', 'type': 'custom', 'status_group': 'proj_54804921'}, {'id': 'p54804921_yUsGlLJS', 'status': 'done', 'orderindex': 5, 'color': '#008844', 'type': 'closed', 'status_group': 'proj_54804921'}], 'permission_level': 'create'}, {'id': '901303748839', 'name': 'Secretária', 'orderindex': 13, 'status': None, 'priority': None, 'assignee': None, 'task_count': 4, 'due_date': None, 'start_date': None, 'space': {'id': '54804921', 'name': 'Projetos', 'access': True}, 'archived': False, 'override_statuses': False, 'statuses': [{'id': 'p54804921_1gR1N0KG', 'status': 'backlog', 'orderindex': 0, 'color': '#9c09bc', 'type': 'open', 'status_group': 'proj_54804921'}, {'id': 'p54804921_95z15BZN', 'status': 'todo', 'orderindex': 1, 'color': '#4466ff', 'type': 'custom', 'status_group': 'proj_54804921'}, {'id': 'p54804921_KslxIFrF', 'status': 'doing', 'orderindex': 2, 'color': '#e16b16', 'type': 'custom', 'status_group': 'proj_54804921'}, {'id': 'p54804921_oYhO88Lm', 'status': 'testing', 'orderindex': 3, 'color': '#d33d44', 'type': 'custom', 'status_group': 'proj_54804921'}, {'id': 'p54804921_sZXRFa49', 'status': 'brainstorming', 'orderindex': 4, 'color': '#1090e0', 'type': 'custom', 'status_group': 'proj_54804921'}, {'id': 'p54804921_yUsGlLJS', 'status': 'done', 'orderindex': 5, 'color': '#008844', 'type': 'closed', 'status_group': 'proj_54804921'}], 'permission_level': 'create'}, {'id': '901304886627', 'name': 'Educador', 'orderindex': 14, 'content': '', 'status': None, 'priority': None, 'assignee': None, 'task_count': 6, 'due_date': None, 'start_date': None, 'space': {'id': '54804921', 'name': 'Projetos', 'access': True}, 'archived': False, 'override_statuses': False, 'statuses': [{'id': 'p54804921_1gR1N0KG', 'status': 'backlog', 'orderindex': 0, 'color': '#9c09bc', 'type': 'open', 'status_group': 'proj_54804921'}, {'id': 'p54804921_95z15BZN', 'status': 'todo', 'orderindex': 1, 'color': '#4466ff', 'type': 'custom', 'status_group': 'proj_54804921'}, {'id': 'p54804921_KslxIFrF', 'status': 'doing', 'orderindex': 2, 'color': '#e16b16', 'type': 'custom', 'status_group': 'proj_54804921'}, {'id': 'p54804921_oYhO88Lm', 'status': 'testing', 'orderindex': 3, 'color': '#d33d44', 'type': 'custom', 'status_group': 'proj_54804921'}, {'id': 'p54804921_sZXRFa49', 'status': 'brainstorming', 'orderindex': 4, 'color': '#1090e0', 'type': 'custom', 'status_group': 'proj_54804921'}, {'id': 'p54804921_yUsGlLJS', 'status': 'done', 'orderindex': 5, 'color': '#008844', 'type': 'closed', 'status_group': 'proj_54804921'}], 'permission_level': 'create'}, {'id': '901304907531', 'name': 'Gerente de projeto', 'orderindex': 15, 'content': '', 'status': None, 'priority': None, 'assignee': None, 'task_count': 3, 'due_date': None, 'start_date': None, 'space': {'id': '54804921', 'name': 'Projetos', 'access': True}, 'archived': False, 'override_statuses': False, 'statuses': [{'id': 'p54804921_1gR1N0KG', 'status': 'backlog', 'orderindex': 0, 'color': '#9c09bc', 'type': 'open', 'status_group': 'proj_54804921'}, {'id': 'p54804921_95z15BZN', 'status': 'todo', 'orderindex': 1, 'color': '#4466ff', 'type': 'custom', 'status_group': 'proj_54804921'}, {'id': 'p54804921_KslxIFrF', 'status': 'doing', 'orderindex': 2, 'color': '#e16b16', 'type': 'custom', 'status_group': 'proj_54804921'}, {'id': 'p54804921_oYhO88Lm', 'status': 'testing', 'orderindex': 3, 'color': '#d33d44', 'type': 'custom', 'status_group': 'proj_54804921'}, {'id': 'p54804921_sZXRFa49', 'status': 'brainstorming', 'orderindex': 4, 'color': '#1090e0', 'type': 'custom', 'status_group': 'proj_54804921'}, {'id': 'p54804921_yUsGlLJS', 'status': 'done', 'orderindex': 5, 'color': '#008844', 'type': 'closed', 'status_group': 'proj_54804921'}], 'permission_level': 'create'}, {'id': '901304909787', 'name': 'Knowledge Graph e GraphRAG', 'orderindex': 17, 'content': '', 'status': None, 'priority': None, 'assignee': None, 'task_count': 2, 'due_date': None, 'start_date': None, 'space': {'id': '54804921', 'name': 'Projetos', 'access': True}, 'archived': False, 'override_statuses': False, 'statuses': [{'id': 'p54804921_1gR1N0KG', 'status': 'backlog', 'orderindex': 0, 'color': '#9c09bc', 'type': 'open', 'status_group': 'proj_54804921'}, {'id': 'p54804921_95z15BZN', 'status': 'todo', 'orderindex': 1, 'color': '#4466ff', 'type': 'custom', 'status_group': 'proj_54804921'}, {'id': 'p54804921_KslxIFrF', 'status': 'doing', 'orderindex': 2, 'color': '#e16b16', 'type': 'custom', 'status_group': 'proj_54804921'}, {'id': 'p54804921_oYhO88Lm', 'status': 'testing', 'orderindex': 3, 'color': '#d33d44', 'type': 'custom', 'status_group': 'proj_54804921'}, {'id': 'p54804921_sZXRFa49', 'status': 'brainstorming', 'orderindex': 4, 'color': '#1090e0', 'type': 'custom', 'status_group': 'proj_54804921'}, {'id': 'p54804921_yUsGlLJS', 'status': 'done', 'orderindex': 5, 'color': '#008844', 'type': 'closed', 'status_group': 'proj_54804921'}], 'permission_level': 'create'}], 'permission_level': 'create'}, {'id': '90132407003', 'name': 'langflow', 'orderindex': 50, 'override_statuses': False, 'hidden': False, 'space': {'id': '54804921', 'name': 'Projetos'}, 'task_count': '15', 'archived': False, 'statuses': [], 'lists': [{'id': '901304390573', 'name': 'agente criador de componente langflow', 'orderindex': 0, 'status': None, 'priority': None, 'assignee': None, 'task_count': 4, 'due_date': None, 'start_date': None, 'space': {'id': '54804921', 'name': 'Projetos', 'access': True}, 'archived': False, 'override_statuses': None, 'statuses': [{'id': 'p54804921_1gR1N0KG', 'status': 'backlog', 'orderindex': 0, 'color': '#9c09bc', 'type': 'open', 'status_group': 'proj_54804921'}, {'id': 'p54804921_95z15BZN', 'status': 'todo', 'orderindex': 1, 'color': '#4466ff', 'type': 'custom', 'status_group': 'proj_54804921'}, {'id': 'p54804921_KslxIFrF', 'status': 'doing', 'orderindex': 2, 'color': '#e16b16', 'type': 'custom', 'status_group': 'proj_54804921'}, {'id': 'p54804921_oYhO88Lm', 'status': 'testing', 'orderindex': 3, 'color': '#d33d44', 'type': 'custom', 'status_group': 'proj_54804921'}, {'id': 'p54804921_sZXRFa49', 'status': 'brainstorming', 'orderindex': 4, 'color': '#1090e0', 'type': 'custom', 'status_group': 'proj_54804921'}, {'id': 'p54804921_yUsGlLJS', 'status': 'done', 'orderindex': 5, 'color': '#008844', 'type': 'closed', 'status_group': 'proj_54804921'}], 'permission_level': 'create'}, {'id': '901304835357', 'name': 'heliotest', 'orderindex': 1, 'content': '', 'status': None, 'priority': None, 'assignee': None, 'task_count': 0, 'due_date': None, 'start_date': None, 'space': {'id': '54804921', 'name': 'Projetos', 'access': True}, 'archived': False, 'override_statuses': False, 'statuses': [{'id': 'p54804921_1gR1N0KG', 'status': 'backlog', 'orderindex': 0, 'color': '#9c09bc', 'type': 'open', 'status_group': 'proj_54804921'}, {'id': 'p54804921_95z15BZN', 'status': 'todo', 'orderindex': 1, 'color': '#4466ff', 'type': 'custom', 'status_group': 'proj_54804921'}, {'id': 'p54804921_KslxIFrF', 'status': 'doing', 'orderindex': 2, 'color': '#e16b16', 'type': 'custom', 'status_group': 'proj_54804921'}, {'id': 'p54804921_oYhO88Lm', 'status': 'testing', 'orderindex': 3, 'color': '#d33d44', 'type': 'custom', 'status_group': 'proj_54804921'}, {'id': 'p54804921_sZXRFa49', 'status': 'brainstorming', 'orderindex': 4, 'color': '#1090e0', 'type': 'custom', 'status_group': 'proj_54804921'}, {'id': 'p54804921_yUsGlLJS', 'status': 'done', 'orderindex': 5, 'color': '#008844', 'type': 'closed', 'status_group': 'proj_54804921'}], 'permission_level': 'create'}, {'id': '901304862476', 'name': 'composioTest', 'orderindex': 2, 'content': '', 'status': None, 'priority': None, 'assignee': None, 'task_count': 11, 'due_date': None, 'start_date': None, 'space': {'id': '54804921', 'name': 'Projetos', 'access': True}, 'archived': False, 'override_statuses': False, 'statuses': [{'id': 'p54804921_1gR1N0KG', 'status': 'backlog', 'orderindex': 0, 'color': '#9c09bc', 'type': 'open', 'status_group': 'proj_54804921'}, {'id': 'p54804921_95z15BZN', 'status': 'todo', 'orderindex': 1, 'color': '#4466ff', 'type': 'custom', 'status_group': 'proj_54804921'}, {'id': 'p54804921_KslxIFrF', 'status': 'doing', 'orderindex': 2, 'color': '#e16b16', 'type': 'custom', 'status_group': 'proj_54804921'}, {'id': 'p54804921_oYhO88Lm', 'status': 'testing', 'orderindex': 3, 'color': '#d33d44', 'type': 'custom', 'status_group': 'proj_54804921'}, {'id': 'p54804921_sZXRFa49', 'status': 'brainstorming', 'orderindex': 4, 'color': '#1090e0', 'type': 'custom', 'status_group': 'proj_54804921'}, {'id': 'p54804921_yUsGlLJS', 'status': 'done', 'orderindex': 5, 'color': '#008844', 'type': 'closed', 'status_group': 'proj_54804921'}], 'permission_level': 'create'}, {'id': '901304890424', 'name': 'composioTest (copy)', 'orderindex': 3, 'content': '', 'status': None, 'priority': None, 'assignee': None, 'task_count': 0, 'due_date': None, 'start_date': None, 'space': {'id': '54804921', 'name': 'Projetos', 'access': True}, 'archived': False, 'override_statuses': False, 'statuses': [{'id': 'p54804921_1gR1N0KG', 'status': 'backlog', 'orderindex': 0, 'color': '#9c09bc', 'type': 'open', 'status_group': 'proj_54804921'}, {'id': 'p54804921_95z15BZN', 'status': 'todo', 'orderindex': 1, 'color': '#4466ff', 'type': 'custom', 'status_group': 'proj_54804921'}, {'id': 'p54804921_KslxIFrF', 'status': 'doing', 'orderindex': 2, 'color': '#e16b16', 'type': 'custom', 'status_group': 'proj_54804921'}, {'id': 'p54804921_oYhO88Lm', 'status': 'testing', 'orderindex': 3, 'color': '#d33d44', 'type': 'custom', 'status_group': 'proj_54804921'}, {'id': 'p54804921_sZXRFa49', 'status': 'brainstorming', 'orderindex': 4, 'color': '#1090e0', 'type': 'custom', 'status_group': 'proj_54804921'}, {'id': 'p54804921_yUsGlLJS', 'status': 'done', 'orderindex': 5, 'color': '#008844', 'type': 'closed', 'status_group': 'proj_54804921'}], 'permission_level': 'create'}], 'permission_level': 'create'}, {'id': '90132806032', 'name': 'agente clickup playgroud (ana beatriz)', 'orderindex': 51, 'override_statuses': False, 'hidden': False, 'space': {'id': '54804921', 'name': 'Projetos'}, 'task_count': '56', 'archived': False, 'statuses': [], 'lists': [{'id': '901304909413', 'name': 'clickup_agent', 'orderindex': 0, 'content': '', 'status': None, 'priority': None, 'assignee': None, 'task_count': 54, 'due_date': None, 'start_date': None, 'space': {'id': '54804921', 'name': 'Projetos', 'access': True}, 'archived': False, 'override_statuses': False, 'statuses': [{'id': 'p54804921_1gR1N0KG', 'status': 'backlog', 'orderindex': 0, 'color': '#9c09bc', 'type': 'open', 'status_group': 'proj_54804921'}, {'id': 'p54804921_95z15BZN', 'status': 'todo', 'orderindex': 1, 'color': '#4466ff', 'type': 'custom', 'status_group': 'proj_54804921'}, {'id': 'p54804921_KslxIFrF', 'status': 'doing', 'orderindex': 2, 'color': '#e16b16', 'type': 'custom', 'status_group': 'proj_54804921'}, {'id': 'p54804921_oYhO88Lm', 'status': 'testing', 'orderindex': 3, 'color': '#d33d44', 'type': 'custom', 'status_group': 'proj_54804921'}, {'id': 'p54804921_sZXRFa49', 'status': 'brainstorming', 'orderindex': 4, 'color': '#1090e0', 'type': 'custom', 'status_group': 'proj_54804921'}, {'id': 'p54804921_yUsGlLJS', 'status': 'done', 'orderindex': 5, 'color': '#008844', 'type': 'closed', 'status_group': 'proj_54804921'}], 'permission_level': 'create'}, {'id': '901305116068', 'name': 'List', 'orderindex': 1, 'status': None, 'priority': None, 'assignee': None, 'task_count': 2, 'due_date': None, 'start_date': None, 'space': {'id': '54804921', 'name': 'Projetos', 'access': True}, 'archived': False, 'override_statuses': None, 'statuses': [{'id': 'p54804921_1gR1N0KG', 'status': 'backlog', 'orderindex': 0, 'color': '#9c09bc', 'type': 'open', 'status_group': 'proj_54804921'}, {'id': 'p54804921_95z15BZN', 'status': 'todo', 'orderindex': 1, 'color': '#4466ff', 'type': 'custom', 'status_group': 'proj_54804921'}, {'id': 'p54804921_KslxIFrF', 'status': 'doing', 'orderindex': 2, 'color': '#e16b16', 'type': 'custom', 'status_group': 'proj_54804921'}, {'id': 'p54804921_oYhO88Lm', 'status': 'testing', 'orderindex': 3, 'color': '#d33d44', 'type': 'custom', 'status_group': 'proj_54804921'}, {'id': 'p54804921_sZXRFa49', 'status': 'brainstorming', 'orderindex': 4, 'color': '#1090e0', 'type': 'custom', 'status_group': 'proj_54804921'}, {'id': 'p54804921_yUsGlLJS', 'status': 'done', 'orderindex': 5, 'color': '#008844', 'type': 'closed', 'status_group': 'proj_54804921'}], 'permission_level': 'create'}], 'permission_level': 'create'}]}\n"
     ]
    },
    {
     "data": {
      "text/plain": [
       "[{'folder_id': '90131663060',\n",
       "  'folder_name': 'Agentes',\n",
       "  'lists': [{'list_id': '901303519577',\n",
       "    'list_name': 'Agents Hub',\n",
       "    'task_count': 22},\n",
       "   {'list_id': '901301915357', 'list_name': 'NutriChatBot', 'task_count': 0},\n",
       "   {'list_id': '901301762971',\n",
       "    'list_name': 'Chatbot Site e Cobrador',\n",
       "    'task_count': 1},\n",
       "   {'list_id': '901303713036',\n",
       "    'list_name': 'Moderador de comunidade',\n",
       "    'task_count': 1},\n",
       "   {'list_id': '901303159092', 'list_name': 'Mediador', 'task_count': 0},\n",
       "   {'list_id': '901303713072', 'list_name': 'Peqii', 'task_count': 3},\n",
       "   {'list_id': '901303748839', 'list_name': 'Secretária', 'task_count': 4},\n",
       "   {'list_id': '901304886627', 'list_name': 'Educador', 'task_count': 6},\n",
       "   {'list_id': '901304907531',\n",
       "    'list_name': 'Gerente de projeto',\n",
       "    'task_count': 3},\n",
       "   {'list_id': '901304909787',\n",
       "    'list_name': 'Knowledge Graph e GraphRAG',\n",
       "    'task_count': 2}],\n",
       "  'error': None},\n",
       " {'folder_id': '90132407003',\n",
       "  'folder_name': 'langflow',\n",
       "  'lists': [{'list_id': '901304390573',\n",
       "    'list_name': 'agente criador de componente langflow',\n",
       "    'task_count': 4},\n",
       "   {'list_id': '901304835357', 'list_name': 'heliotest', 'task_count': 0},\n",
       "   {'list_id': '901304862476', 'list_name': 'composioTest', 'task_count': 11},\n",
       "   {'list_id': '901304890424',\n",
       "    'list_name': 'composioTest (copy)',\n",
       "    'task_count': 0}],\n",
       "  'error': None},\n",
       " {'folder_id': '90132806032',\n",
       "  'folder_name': 'agente clickup playgroud (ana beatriz)',\n",
       "  'lists': [{'list_id': '901304909413',\n",
       "    'list_name': 'clickup_agent',\n",
       "    'task_count': 54},\n",
       "   {'list_id': '901305116068', 'list_name': 'List', 'task_count': 2}],\n",
       "  'error': None}]"
      ]
     },
     "execution_count": 190,
     "metadata": {},
     "output_type": "execute_result"
    }
   ],
   "source": [
    "tool = GetFoldersTool()\n",
    "result = tool._run(54804921)\n",
    "result"
   ]
  },
  {
   "cell_type": "markdown",
   "metadata": {},
   "source": [
    "## Get List"
   ]
  },
  {
   "cell_type": "code",
   "execution_count": null,
   "metadata": {},
   "outputs": [],
   "source": [
    "from composio.tools.local.clickup.actions.get_list import GetList, GetListRequest, GetListResponse\n",
    "\n",
    "class GetListTool(BaseTool):\n",
    "    name: str = \"get_list_tool\"\n",
    "    description: str = \"\"\"\n",
    "    Ferramenta para visualizar informações sobre uma lista no ClickUp.\n",
    "    - Obter detalhes da lista:\n",
    "        Invocar: \"GetListTool\" com o ID da lista como parâmetro.\n",
    "    \"\"\"\n",
    "    args_schema: Type[BaseModel] = GetListRequest\n",
    "    headers: dict = {\"Authorization\": f\"{CLICKUP_TOKEN}\"}\n",
    "\n",
    "    def __init__(self, **data):\n",
    "        super().__init__(**data)\n",
    "\n",
    "    def _run(self, list_id: int) -> Any:\n",
    "        \"\"\"Executa a requisição para obter informações sobre uma lista no ClickUp\"\"\"\n",
    "\n",
    "        action = GetList()\n",
    "\n",
    "        url = f\"{action.url}{action.path}\".format(list_id=list_id)\n",
    "\n",
    "        response = requests.get(url, headers=self.headers)\n",
    "\n",
    "        if response.status_code == 200:\n",
    "            response_json = response.json()\n",
    "        else:\n",
    "            try:\n",
    "                response_json = response.json()\n",
    "            except requests.JSONDecodeError:\n",
    "                response_json = {\"error\": \"Invalid JSON response\"}\n",
    "\n",
    "        print(f\"Response Body: {response_json}\")\n",
    "        response = GetListResponse(data=response_json)\n",
    "        filtered_response = {\n",
    "            'list_id': response.data.get('id'),\n",
    "            'list_name': response.data.get('name'),\n",
    "            'folder_id': response.data.get('folder', {}).get('id'),\n",
    "            'folder_name': response.data.get('folder', {}).get('name'),\n",
    "            'error': response.data.get('err'),\n",
    "        }\n",
    "        return filtered_response"
   ]
  },
  {
   "cell_type": "code",
   "execution_count": null,
   "metadata": {},
   "outputs": [
    {
     "name": "stdout",
     "output_type": "stream",
     "text": [
      "Response Body: {'id': '901304909413', 'name': 'clickup_agent', 'deleted': False, 'orderindex': 0, 'content': '', 'priority': None, 'assignee': None, 'due_date': None, 'start_date': None, 'folder': {'id': '90132806032', 'name': 'agente clickup playgroud (ana beatriz)', 'hidden': False, 'access': True}, 'space': {'id': '54804921', 'name': 'Projetos', 'access': True}, 'inbound_address': 'a.t.901304909413.u-84141406.6188226b-47da-4be0-b3ac-fd9730078afb@tasks.clickup.com', 'archived': False, 'override_statuses': False, 'statuses': [{'id': 'p54804921_1gR1N0KG', 'status': 'backlog', 'orderindex': 0, 'color': '#9c09bc', 'type': 'open', 'status_group': 'proj_54804921'}, {'id': 'p54804921_95z15BZN', 'status': 'todo', 'orderindex': 1, 'color': '#4466ff', 'type': 'custom', 'status_group': 'proj_54804921'}, {'id': 'p54804921_KslxIFrF', 'status': 'doing', 'orderindex': 2, 'color': '#e16b16', 'type': 'custom', 'status_group': 'proj_54804921'}, {'id': 'p54804921_oYhO88Lm', 'status': 'testing', 'orderindex': 3, 'color': '#d33d44', 'type': 'custom', 'status_group': 'proj_54804921'}, {'id': 'p54804921_sZXRFa49', 'status': 'brainstorming', 'orderindex': 4, 'color': '#1090e0', 'type': 'custom', 'status_group': 'proj_54804921'}, {'id': 'p54804921_yUsGlLJS', 'status': 'done', 'orderindex': 5, 'color': '#008844', 'type': 'closed', 'status_group': 'proj_54804921'}], 'permission_level': 'create'}\n"
     ]
    },
    {
     "data": {
      "text/plain": [
       "{'list_id': '901304909413',\n",
       " 'list_name': 'clickup_agent',\n",
       " 'folder_id': '90132806032',\n",
       " 'folder_name': 'agente clickup playgroud (ana beatriz)',\n",
       " 'error': None}"
      ]
     },
     "execution_count": 197,
     "metadata": {},
     "output_type": "execute_result"
    }
   ],
   "source": [
    "tool = GetListTool()\n",
    "result = tool._run(901304909413)\n",
    "result"
   ]
  },
  {
   "cell_type": "markdown",
   "metadata": {},
   "source": [
    "## Get List Members"
   ]
  },
  {
   "cell_type": "code",
   "execution_count": null,
   "metadata": {},
   "outputs": [],
   "source": [
    "from composio.tools.local.clickup.actions.get_list_members import GetListMembers, GetListMembersRequest, GetListMembersResponse\n",
    "\n",
    "class GetListMembersTool(BaseTool):\n",
    "    name: str = \"get_list_members_tool\"\n",
    "    description: str = \"\"\"\n",
    "    Ferramenta para visualizar as pessoas que têm acesso a uma lista no ClickUp.\n",
    "    - Obter membros da lista:\n",
    "        Invocar: \"GetListMembersTool\" com o ID da lista como parâmetro.\n",
    "    \"\"\"\n",
    "    args_schema: Type[BaseModel] = GetListMembersRequest\n",
    "    headers: dict = {\"Authorization\": f\"{CLICKUP_TOKEN}\"}\n",
    "\n",
    "    def __init__(self, **data):\n",
    "        super().__init__(**data)\n",
    "\n",
    "    def _run(self, list_id: int) -> Any:\n",
    "        \"\"\"Executa a requisição para obter membros de uma lista no ClickUp\"\"\"\n",
    "\n",
    "        action = GetListMembers()\n",
    "\n",
    "        url = f\"{action.url}{action.path}\".format(list_id=list_id)\n",
    "\n",
    "        response = requests.get(url, headers=self.headers)\n",
    "\n",
    "        if response.status_code == 200:\n",
    "            response_json = response.json()\n",
    "        else:\n",
    "            try:\n",
    "                response_json = response.json()\n",
    "            except requests.JSONDecodeError:\n",
    "                response_json = {\"error\": \"Invalid JSON response\"}\n",
    "\n",
    "        print(f\"Response Body: {response_json}\")\n",
    "        response = GetListMembersResponse(data=response_json)\n",
    "        filtered_response = [\n",
    "            {\n",
    "                'user_id': member.get('id'),\n",
    "                'username': member.get('username'),\n",
    "                'email': member.get('email')\n",
    "            }\n",
    "            for member in response.data.get('members', [])\n",
    "        ]\n",
    "        filtered_response.append({'error': response.data.get('err')})\n",
    "        return filtered_response"
   ]
  },
  {
   "cell_type": "code",
   "execution_count": null,
   "metadata": {},
   "outputs": [
    {
     "name": "stdout",
     "output_type": "stream",
     "text": [
      "Response Body: {'members': [{'id': 3115657, 'username': 'Filipe Werlang', 'email': 'filipewerlang.d@gmail.com', 'color': '#622aea', 'initials': 'FW', 'profilePicture': 'https://attachments.clickup.com/profilePictures/3115657_GPh.jpg', 'profileInfo': {'display_profile': True, 'verified_ambassador': None, 'verified_consultant': None, 'top_tier_user': None, 'ai_expert': None, 'viewed_verified_ambassador': None, 'viewed_verified_consultant': None, 'viewed_top_tier_user': None, 'viewed_ai_expert': None}}, {'id': 18951490, 'username': 'Gabriel Alberton', 'email': 'gabriel@cogmo.com.br', 'color': '#7b68ee', 'initials': 'GA', 'profilePicture': 'https://attachments.clickup.com/profilePictures/18951490_W33.jpg', 'profileInfo': {'display_profile': True, 'verified_ambassador': None, 'verified_consultant': None, 'top_tier_user': None, 'ai_expert': None, 'viewed_verified_ambassador': None, 'viewed_verified_consultant': None, 'viewed_top_tier_user': None, 'viewed_ai_expert': None}}, {'id': 44309342, 'username': 'Hibrael Loures', 'email': 'ibraelmoura@gmail.com', 'color': None, 'initials': 'HL', 'profilePicture': 'https://attachments.clickup.com/profilePictures/44309342_YHC.jpg', 'profileInfo': {'display_profile': True, 'verified_ambassador': None, 'verified_consultant': None, 'top_tier_user': None, 'ai_expert': None, 'viewed_verified_ambassador': None, 'viewed_verified_consultant': None, 'viewed_top_tier_user': None, 'viewed_ai_expert': None}}, {'id': 48772077, 'username': 'Hélio Potelicki', 'email': 'helio@cogmo.com.br', 'color': '#2ea52c', 'initials': 'HP', 'profilePicture': 'https://attachments.clickup.com/profilePictures/48772077_rvb.jpg', 'profileInfo': {'display_profile': True, 'verified_ambassador': None, 'verified_consultant': None, 'top_tier_user': None, 'ai_expert': None, 'viewed_verified_ambassador': None, 'viewed_verified_consultant': None, 'viewed_top_tier_user': None, 'viewed_ai_expert': None}}, {'id': 49198435, 'username': 'Rafael Macedo Mendonça', 'email': 'rafael.macedo@perceptus.ai', 'color': '#5d4037', 'initials': 'RM', 'profilePicture': None, 'profileInfo': {'display_profile': True, 'verified_ambassador': None, 'verified_consultant': None, 'top_tier_user': None, 'ai_expert': None, 'viewed_verified_ambassador': None, 'viewed_verified_consultant': None, 'viewed_top_tier_user': None, 'viewed_ai_expert': None}}, {'id': 54979221, 'username': 'Caio Ferreira da Costa Macedo', 'email': 'cmacedo2011@hotmail.com', 'color': '#ff4081', 'initials': 'CM', 'profilePicture': None, 'profileInfo': {'display_profile': None, 'verified_ambassador': None, 'verified_consultant': None, 'top_tier_user': None, 'ai_expert': None, 'viewed_verified_ambassador': None, 'viewed_verified_consultant': None, 'viewed_top_tier_user': None, 'viewed_ai_expert': None}}, {'id': 55040420, 'username': 'Gabriela Barreto Alberton', 'email': 'gabibalberton@gmail.com', 'color': '#f8306d', 'initials': 'GA', 'profilePicture': 'https://attachments.clickup.com/profilePictures/55040420_3Pe.jpg', 'profileInfo': {'display_profile': True, 'verified_ambassador': None, 'verified_consultant': None, 'top_tier_user': None, 'ai_expert': None, 'viewed_verified_ambassador': None, 'viewed_verified_consultant': None, 'viewed_top_tier_user': None, 'viewed_ai_expert': None}}, {'id': 81918955, 'username': 'João Guilherme Silva Morossini', 'email': 'joaog.morossini@gmail.com', 'color': '#81b1ff', 'initials': 'JM', 'profilePicture': 'https://attachments.clickup.com/profilePictures/81918955_kcK.jpg', 'profileInfo': {'display_profile': True, 'verified_ambassador': None, 'verified_consultant': None, 'top_tier_user': None, 'ai_expert': None, 'viewed_verified_ambassador': None, 'viewed_verified_consultant': None, 'viewed_top_tier_user': None, 'viewed_ai_expert': None}}, {'id': 82061927, 'username': 'Rafael Alves Magalhães', 'email': 'magalhaesrafael07@gmail.com', 'color': '', 'initials': 'RM', 'profilePicture': None, 'profileInfo': {'display_profile': None, 'verified_ambassador': None, 'verified_consultant': None, 'top_tier_user': None, 'ai_expert': None, 'viewed_verified_ambassador': None, 'viewed_verified_consultant': None, 'viewed_top_tier_user': None, 'viewed_ai_expert': None}}, {'id': 84141406, 'username': 'Ana Beatriz', 'email': 'ti@cogmo.com.br', 'color': '#455963', 'initials': 'AB', 'profilePicture': 'https://attachments.clickup.com/profilePictures/84141406_ZkZ.jpg', 'profileInfo': {'display_profile': True, 'verified_ambassador': None, 'verified_consultant': None, 'top_tier_user': None, 'ai_expert': None, 'viewed_verified_ambassador': None, 'viewed_verified_consultant': None, 'viewed_top_tier_user': None, 'viewed_ai_expert': None}}]}\n"
     ]
    },
    {
     "data": {
      "text/plain": [
       "[{'user_id': 3115657,\n",
       "  'username': 'Filipe Werlang',\n",
       "  'email': 'filipewerlang.d@gmail.com'},\n",
       " {'user_id': 18951490,\n",
       "  'username': 'Gabriel Alberton',\n",
       "  'email': 'gabriel@cogmo.com.br'},\n",
       " {'user_id': 44309342,\n",
       "  'username': 'Hibrael Loures',\n",
       "  'email': 'ibraelmoura@gmail.com'},\n",
       " {'user_id': 48772077,\n",
       "  'username': 'Hélio Potelicki',\n",
       "  'email': 'helio@cogmo.com.br'},\n",
       " {'user_id': 49198435,\n",
       "  'username': 'Rafael Macedo Mendonça',\n",
       "  'email': 'rafael.macedo@perceptus.ai'},\n",
       " {'user_id': 54979221,\n",
       "  'username': 'Caio Ferreira da Costa Macedo',\n",
       "  'email': 'cmacedo2011@hotmail.com'},\n",
       " {'user_id': 55040420,\n",
       "  'username': 'Gabriela Barreto Alberton',\n",
       "  'email': 'gabibalberton@gmail.com'},\n",
       " {'user_id': 81918955,\n",
       "  'username': 'João Guilherme Silva Morossini',\n",
       "  'email': 'joaog.morossini@gmail.com'},\n",
       " {'user_id': 82061927,\n",
       "  'username': 'Rafael Alves Magalhães',\n",
       "  'email': 'magalhaesrafael07@gmail.com'},\n",
       " {'user_id': 84141406, 'username': 'Ana Beatriz', 'email': 'ti@cogmo.com.br'},\n",
       " {'error': None}]"
      ]
     },
     "execution_count": 200,
     "metadata": {},
     "output_type": "execute_result"
    }
   ],
   "source": [
    "tool = GetListMembersTool()\n",
    "result = tool._run(901304909413)\n",
    "result"
   ]
  },
  {
   "cell_type": "markdown",
   "metadata": {},
   "source": [
    "## Get Task Members"
   ]
  },
  {
   "cell_type": "code",
   "execution_count": null,
   "metadata": {},
   "outputs": [],
   "source": [
    "from composio.tools.local.clickup.actions.get_task_members import GetTaskMembers, GetTaskMembersRequest, GetTaskMembersResponse\n",
    "\n",
    "class GetTaskMembersTool(BaseTool):\n",
    "    name: str = \"get_task_members_tool\"\n",
    "    description: str = \"\"\"\n",
    "    Ferramenta para visualizar as pessoas que têm acesso a uma tarefa no ClickUp.\n",
    "    - Obter membros da tarefa:\n",
    "        Invocar: \"GetTaskMembersTool\" com o ID da tarefa como parâmetro.\n",
    "    \"\"\"\n",
    "    args_schema: Type[BaseModel] = GetTaskMembersRequest\n",
    "    headers: dict = {\"Authorization\": f\"{CLICKUP_TOKEN}\"}\n",
    "\n",
    "    def __init__(self, **data):\n",
    "        super().__init__(**data)\n",
    "\n",
    "    def _run(self, task_id: str) -> Any:\n",
    "        \"\"\"Executa a requisição para obter membros de uma tarefa no ClickUp\"\"\"\n",
    "\n",
    "        action = GetTaskMembers()\n",
    "\n",
    "        url = f\"{action.url}{action.path}\".format(task_id=task_id)\n",
    "        \n",
    "        response = requests.get(url, headers=self.headers)\n",
    "\n",
    "        if response.status_code == 200:\n",
    "            response_json = response.json()\n",
    "        else:\n",
    "            try:\n",
    "                response_json = response.json()\n",
    "            except requests.JSONDecodeError:\n",
    "                response_json = {\"error\": \"Invalid JSON response\"}\n",
    "\n",
    "        print(f\"Response Body: {response_json}\")\n",
    "        response = GetTaskMembersResponse(data=response_json)\n",
    "        filtered_response = {\n",
    "            'users': [\n",
    "                {\n",
    "                    'user_id': member.get('id'),\n",
    "                    'username': member.get('username'),\n",
    "                    'email': member.get('email')\n",
    "                }\n",
    "                for member in response.data.get('members', [])\n",
    "            ]\n",
    "        }\n",
    "        filtered_response['error'] = response.data.get('err')\n",
    "        return filtered_response"
   ]
  },
  {
   "cell_type": "code",
   "execution_count": null,
   "metadata": {},
   "outputs": [
    {
     "name": "stdout",
     "output_type": "stream",
     "text": [
      "Response Body: {'members': [{'id': 18951490, 'username': 'Gabriel Alberton', 'email': 'gabriel@cogmo.com.br', 'color': '#7b68ee', 'initials': 'GA', 'profilePicture': 'https://attachments.clickup.com/profilePictures/18951490_W33.jpg', 'profileInfo': {'display_profile': True, 'verified_ambassador': None, 'verified_consultant': None, 'top_tier_user': None, 'ai_expert': None, 'viewed_verified_ambassador': None, 'viewed_verified_consultant': None, 'viewed_top_tier_user': None, 'viewed_ai_expert': None}}]}\n"
     ]
    }
   ],
   "source": [
    "tool = GetTaskMembersTool()\n",
    "result = tool._run('86a4r2jbp')"
   ]
  },
  {
   "cell_type": "markdown",
   "metadata": {},
   "source": [
    "## Get Space"
   ]
  },
  {
   "cell_type": "code",
   "execution_count": null,
   "metadata": {},
   "outputs": [],
   "source": [
    "from composio.tools.local.clickup.actions.get_space import GetSpace, GetSpaceRequest, GetSpaceResponse\n",
    "\n",
    "class GetSpaceTool(BaseTool):\n",
    "    name: str = \"get_space_tool\"\n",
    "    description: str = \"\"\"\n",
    "    Ferramenta para visualizar os espaços disponíveis em um Workspace no ClickUp.\n",
    "    - Obter detalhes do espaço:\n",
    "        Invocar: \"GetSpaceTool\" com o ID do espaço como parâmetro.\n",
    "    \"\"\"\n",
    "    args_schema: Type[BaseModel] = GetSpaceRequest\n",
    "    headers: dict = {\"Authorization\": f\"{CLICKUP_TOKEN}\"}\n",
    "\n",
    "    def __init__(self, **data):\n",
    "        super().__init__(**data)\n",
    "\n",
    "    def _run(self, space_id: int) -> Any:\n",
    "        \"\"\"Executa a requisição para obter detalhes de um espaço no ClickUp\"\"\"\n",
    "\n",
    "        action = GetSpace()\n",
    "\n",
    "        url = f\"{action.url}{action.path}\".format(space_id=space_id)\n",
    "\n",
    "        response = requests.get(url, headers=self.headers)\n",
    "\n",
    "        if response.status_code == 200:\n",
    "            response_json = response.json()\n",
    "        else:\n",
    "            try:\n",
    "                response_json = response.json()\n",
    "            except requests.JSONDecodeError:\n",
    "                response_json = {\"error\": \"Invalid JSON response\"}\n",
    "\n",
    "        print(f\"Response Body: {response_json}\")\n",
    "        response = GetSpaceResponse(data=response_json)\n",
    "        filtered_response = {\n",
    "            'space_id': response.data.get('id'),\n",
    "            'space_name': response.data.get('name'),\n",
    "            'private': response.data.get('private'),\n",
    "            'admin_can_manage': response.data.get('admin_can_manage'),\n",
    "            'statuses': [\n",
    "                status.get('status')\n",
    "                for status in response.data.get('statuses', [])\n",
    "            ],\n",
    "            'error': response.data.get('err'),\n",
    "        }\n",
    "        return filtered_response"
   ]
  },
  {
   "cell_type": "code",
   "execution_count": null,
   "metadata": {},
   "outputs": [
    {
     "name": "stdout",
     "output_type": "stream",
     "text": [
      "Response Body: {'id': '54804921', 'name': 'Projetos', 'color': '#1ABC9C', 'private': False, 'avatar': None, 'admin_can_manage': True, 'statuses': [{'id': 'p54804921_1gR1N0KG', 'status': 'backlog', 'type': 'open', 'orderindex': 0, 'color': '#9c09bc'}, {'id': 'p54804921_95z15BZN', 'status': 'todo', 'type': 'custom', 'orderindex': 1, 'color': '#4466ff'}, {'id': 'p54804921_KslxIFrF', 'status': 'doing', 'type': 'custom', 'orderindex': 2, 'color': '#e16b16'}, {'id': 'p54804921_oYhO88Lm', 'status': 'testing', 'type': 'custom', 'orderindex': 3, 'color': '#d33d44'}, {'id': 'p54804921_sZXRFa49', 'status': 'brainstorming', 'type': 'custom', 'orderindex': 4, 'color': '#1090e0'}, {'id': 'p54804921_yUsGlLJS', 'status': 'done', 'type': 'closed', 'orderindex': 5, 'color': '#008844'}], 'multiple_assignees': True, 'features': {'due_dates': {'enabled': True, 'start_date': True, 'remap_due_dates': True, 'remap_closed_due_date': False}, 'sprints': {'enabled': False}, 'time_tracking': {'enabled': True, 'harvest': False, 'rollup': False, 'default_to_billable': 2}, 'points': {'enabled': False}, 'custom_items': {'enabled': False}, 'priorities': {'enabled': True, 'priorities': [{'color': '#f50000', 'id': '1', 'orderindex': '1', 'priority': 'urgent'}, {'color': '#f8ae00', 'id': '2', 'orderindex': '2', 'priority': 'high'}, {'color': '#6fddff', 'id': '3', 'orderindex': '3', 'priority': 'normal'}, {'color': '#d8d8d8', 'id': '4', 'orderindex': '4', 'priority': 'low'}]}, 'tags': {'enabled': True}, 'time_estimates': {'enabled': True, 'rollup': True, 'per_assignee': False}, 'zoom': {'enabled': False}, 'milestones': {'enabled': True}, 'custom_fields': {'enabled': True}, 'dependency_warning': {'enabled': True}, 'status_pies': {'enabled': False}, 'multiple_assignees': {'enabled': True}, 'scheduler_enabled': False}, 'archived': False}\n"
     ]
    },
    {
     "data": {
      "text/plain": [
       "{'space_id': '54804921',\n",
       " 'space_name': 'Projetos',\n",
       " 'private': False,\n",
       " 'admin_can_manage': True,\n",
       " 'statuses': ['backlog', 'todo', 'doing', 'testing', 'brainstorming', 'done'],\n",
       " 'error': None}"
      ]
     },
     "execution_count": 220,
     "metadata": {},
     "output_type": "execute_result"
    }
   ],
   "source": [
    "tool = GetSpaceTool()\n",
    "result = tool._run(54804921)\n",
    "result"
   ]
  },
  {
   "cell_type": "markdown",
   "metadata": {},
   "source": [
    "## Get Spaces"
   ]
  },
  {
   "cell_type": "code",
   "execution_count": null,
   "metadata": {},
   "outputs": [],
   "source": [
    "from composio.tools.local.clickup.actions.get_spaces import GetSpaces, GetSpacesRequest, GetSpacesResponse\n",
    "\n",
    "class GetSpacesTool(BaseTool):\n",
    "    name: str = \"get_spaces_tool\"\n",
    "    description: str = \"\"\"\n",
    "    Ferramenta para visualizar os espaços disponíveis em um Workspace no ClickUp.\n",
    "    - Obter detalhes dos espaços:\n",
    "        Invocar: \"GetSpacesTool\" com o ID do time (workspace) como parâmetro.\n",
    "    \"\"\"\n",
    "    args_schema: Type[BaseModel] = GetSpacesRequest\n",
    "    headers: dict = {\"Authorization\": f\"{CLICKUP_TOKEN}\"}\n",
    "\n",
    "    def __init__(self, **data):\n",
    "        super().__init__(**data)\n",
    "\n",
    "    def _run(self, team_id: int, archived: bool = None) -> Any:\n",
    "        \"\"\"Executa a requisição para obter detalhes dos espaços em um time no ClickUp\"\"\"\n",
    "\n",
    "        action = GetSpaces()\n",
    "\n",
    "        url = f\"{action.url}{action.path}\".format(team_id=team_id)\n",
    "\n",
    "        query_params = {\"archived\": archived} if archived is not None else {}\n",
    "\n",
    "        response = requests.get(url, headers=self.headers, params=query_params)\n",
    "\n",
    "        if response.status_code == 200:\n",
    "            response_json = response.json()\n",
    "        else:\n",
    "            try:\n",
    "                response_json = response.json()\n",
    "            except requests.JSONDecodeError:\n",
    "                response_json = {\"error\": \"Invalid JSON response\"}\n",
    "\n",
    "        print(f\"Response Body: {response_json}\")\n",
    "        response = GetSpacesResponse(data=response_json)\n",
    "        filtered_response = [{'id': space['id'], 'space_name': space['name']} for space in response.data['spaces']]\n",
    "        return filtered_response"
   ]
  },
  {
   "cell_type": "code",
   "execution_count": null,
   "metadata": {},
   "outputs": [
    {
     "name": "stdout",
     "output_type": "stream",
     "text": [
      "Response Body: {'spaces': [{'id': '54804921', 'name': 'Projetos', 'color': '#1ABC9C', 'private': False, 'avatar': None, 'admin_can_manage': True, 'statuses': [{'id': 'p54804921_1gR1N0KG', 'status': 'backlog', 'type': 'open', 'orderindex': 0, 'color': '#9c09bc'}, {'id': 'p54804921_95z15BZN', 'status': 'todo', 'type': 'custom', 'orderindex': 1, 'color': '#4466ff'}, {'id': 'p54804921_KslxIFrF', 'status': 'doing', 'type': 'custom', 'orderindex': 2, 'color': '#e16b16'}, {'id': 'p54804921_oYhO88Lm', 'status': 'testing', 'type': 'custom', 'orderindex': 3, 'color': '#d33d44'}, {'id': 'p54804921_sZXRFa49', 'status': 'brainstorming', 'type': 'custom', 'orderindex': 4, 'color': '#1090e0'}, {'id': 'p54804921_yUsGlLJS', 'status': 'done', 'type': 'closed', 'orderindex': 5, 'color': '#008844'}], 'multiple_assignees': True, 'features': {'due_dates': {'enabled': True, 'start_date': True, 'remap_due_dates': True, 'remap_closed_due_date': False}, 'sprints': {'enabled': False}, 'time_tracking': {'enabled': True, 'harvest': False, 'rollup': False, 'default_to_billable': 2}, 'points': {'enabled': False}, 'custom_items': {'enabled': False}, 'priorities': {'enabled': True, 'priorities': [{'color': '#f50000', 'id': '1', 'orderindex': '1', 'priority': 'urgent'}, {'color': '#f8ae00', 'id': '2', 'orderindex': '2', 'priority': 'high'}, {'color': '#6fddff', 'id': '3', 'orderindex': '3', 'priority': 'normal'}, {'color': '#d8d8d8', 'id': '4', 'orderindex': '4', 'priority': 'low'}]}, 'tags': {'enabled': True}, 'time_estimates': {'enabled': True, 'rollup': False, 'per_assignee': False}, 'zoom': {'enabled': False}, 'milestones': {'enabled': True}, 'custom_fields': {'enabled': True}, 'dependency_warning': {'enabled': True}, 'status_pies': {'enabled': False}, 'multiple_assignees': {'enabled': True}, 'scheduler_enabled': False}, 'archived': False}, {'id': '54964971', 'name': 'Onboard e infos', 'color': None, 'private': False, 'avatar': None, 'admin_can_manage': True, 'statuses': [{'id': 'p54964971_bnCuGGBv', 'status': 'to do', 'type': 'open', 'orderindex': 0, 'color': '#87909e'}, {'id': 'p54964971_Km4inFPG', 'status': 'complete', 'type': 'closed', 'orderindex': 1, 'color': '#008844'}], 'multiple_assignees': False, 'features': {'due_dates': {'enabled': True, 'start_date': True, 'remap_due_dates': False, 'remap_closed_due_date': False}, 'sprints': {'enabled': False}, 'points': {'enabled': False}, 'custom_items': {'enabled': False}, 'zoom': {'enabled': False}, 'milestones': {'enabled': False}, 'status_pies': {'enabled': False}, 'time_tracking': {'default_to_billable': 2}, 'scheduler_enabled': False}, 'archived': False}, {'id': '90130502870', 'name': 'Projetos pausados', 'color': '#595d66', 'private': True, 'avatar': None, 'admin_can_manage': True, 'statuses': [{'id': 'p90130502870_p54804921_1gR1N0KG', 'status': 'backlog', 'type': 'open', 'orderindex': 0, 'color': '#9c09bc'}, {'id': 'p90130502870_p54804921_95z15BZN', 'status': 'todo', 'type': 'custom', 'orderindex': 1, 'color': '#4466ff'}, {'id': 'p90130502870_p54804921_KslxIFrF', 'status': 'doing', 'type': 'custom', 'orderindex': 2, 'color': '#e16b16'}, {'id': 'p90130502870_p54804921_oYhO88Lm', 'status': 'testing', 'type': 'custom', 'orderindex': 3, 'color': '#d33d44'}, {'id': 'p90130502870_p54804921_sZXRFa49', 'status': 'brainstorming', 'type': 'custom', 'orderindex': 4, 'color': '#1090e0'}, {'id': 'p90130502870_p54804921_yUsGlLJS', 'status': 'done', 'type': 'closed', 'orderindex': 5, 'color': '#008844'}], 'multiple_assignees': True, 'features': {'due_dates': {'enabled': True, 'start_date': True, 'remap_due_dates': True, 'remap_closed_due_date': False}, 'sprints': {'enabled': False}, 'time_tracking': {'enabled': True, 'harvest': False, 'rollup': False, 'default_to_billable': 2}, 'points': {'enabled': False}, 'custom_items': {'enabled': False}, 'priorities': {'enabled': True, 'priorities': [{'color': '#f50000', 'id': '1', 'orderindex': '1', 'priority': 'urgent'}, {'color': '#f8ae00', 'id': '2', 'orderindex': '2', 'priority': 'high'}, {'color': '#6fddff', 'id': '3', 'orderindex': '3', 'priority': 'normal'}, {'color': '#d8d8d8', 'id': '4', 'orderindex': '4', 'priority': 'low'}]}, 'tags': {'enabled': True}, 'time_estimates': {'enabled': True, 'rollup': False, 'per_assignee': False}, 'zoom': {'enabled': True}, 'milestones': {'enabled': True}, 'custom_fields': {'enabled': True}, 'dependency_warning': {'enabled': True}, 'status_pies': {'enabled': False}, 'multiple_assignees': {'enabled': True}, 'scheduler_enabled': False}, 'archived': False, 'members': [{'user': {'id': 18951490, 'username': 'Gabriel Alberton', 'color': '#7b68ee', 'profilePicture': 'https://attachments.clickup.com/profilePictures/18951490_W33.jpg', 'initials': 'GA'}}, {'user': {'id': 48772077, 'username': 'Hélio Potelicki', 'color': '#2ea52c', 'profilePicture': 'https://attachments.clickup.com/profilePictures/48772077_rvb.jpg', 'initials': 'HP'}}, {'user': {'id': 84141406, 'username': 'Ana Beatriz', 'color': '#455963', 'profilePicture': 'https://attachments.clickup.com/profilePictures/84141406_ZkZ.jpg', 'initials': 'AB'}}]}, {'id': '90130940333', 'name': 'Conteudos', 'color': '#c580e6', 'private': True, 'avatar': None, 'admin_can_manage': False, 'statuses': [{'id': 'p90130940333_nhbZ5gz3', 'status': 'backlog', 'type': 'open', 'orderindex': 0, 'color': '#87909e'}, {'id': 'p90130940333_dX7hgCzZ', 'status': 'planning', 'type': 'custom', 'orderindex': 1, 'color': '#5f55ee'}, {'id': 'p90130940333_QQcJg1TJ', 'status': 'in progress', 'type': 'custom', 'orderindex': 2, 'color': '#f8ae00'}, {'id': 'p90130940333_CoruDecn', 'status': 'ready for review', 'type': 'custom', 'orderindex': 3, 'color': '#b660e0'}, {'id': 'p90130940333_mJniaApM', 'status': 'approved', 'type': 'done', 'orderindex': 4, 'color': '#0f9d9f'}, {'id': 'p90130940333_xQ94E057', 'status': 'rejected', 'type': 'done', 'orderindex': 5, 'color': '#d33d44'}, {'id': 'p90130940333_9uuaYZyK', 'status': 'on hold', 'type': 'done', 'orderindex': 6, 'color': '#aa8d80'}, {'id': 'p90130940333_yAQDhWjq', 'status': 'done', 'type': 'closed', 'orderindex': 7, 'color': '#008844'}], 'multiple_assignees': True, 'features': {'due_dates': {'enabled': True, 'start_date': True, 'remap_due_dates': True, 'remap_closed_due_date': False}, 'sprints': {'enabled': True}, 'time_tracking': {'enabled': True, 'harvest': False, 'rollup': True, 'default_to_billable': 2}, 'points': {'enabled': False}, 'custom_items': {'enabled': False}, 'priorities': {'enabled': True, 'priorities': [{'color': '#f50000', 'id': '1', 'orderindex': '1', 'priority': 'urgent'}, {'color': '#f8ae00', 'id': '2', 'orderindex': '2', 'priority': 'high'}, {'color': '#6fddff', 'id': '3', 'orderindex': '3', 'priority': 'normal'}, {'color': '#d8d8d8', 'id': '4', 'orderindex': '4', 'priority': 'low'}]}, 'tags': {'enabled': True}, 'time_estimates': {'enabled': True, 'rollup': True, 'per_assignee': False}, 'check_unresolved': {'enabled': True, 'subtasks': None, 'checklists': None, 'comments': None}, 'zoom': {'enabled': False}, 'milestones': {'enabled': True}, 'custom_fields': {'enabled': True}, 'remap_dependencies': {'enabled': True}, 'dependency_warning': {'enabled': True}, 'status_pies': {'enabled': True}, 'multiple_assignees': {'enabled': True}, 'emails': {'enabled': True}, 'scheduler_enabled': False}, 'archived': False, 'members': [{'user': {'id': 3115657, 'username': 'Filipe Werlang', 'color': '#622aea', 'profilePicture': 'https://attachments.clickup.com/profilePictures/3115657_GPh.jpg', 'initials': 'FW'}}, {'user': {'id': 18951490, 'username': 'Gabriel Alberton', 'color': '#7b68ee', 'profilePicture': 'https://attachments.clickup.com/profilePictures/18951490_W33.jpg', 'initials': 'GA'}}, {'user': {'id': 44309342, 'username': 'Hibrael Loures', 'color': None, 'profilePicture': 'https://attachments.clickup.com/profilePictures/44309342_YHC.jpg', 'initials': 'HL'}}, {'user': {'id': 84141406, 'username': 'Ana Beatriz', 'color': '#455963', 'profilePicture': 'https://attachments.clickup.com/profilePictures/84141406_ZkZ.jpg', 'initials': 'AB'}}]}]}\n",
      "[{'id': '54804921', 'space_name': 'Projetos'}, {'id': '54964971', 'space_name': 'Onboard e infos'}, {'id': '90130502870', 'space_name': 'Projetos pausados'}, {'id': '90130940333', 'space_name': 'Conteudos'}]\n"
     ]
    }
   ],
   "source": [
    "tool = GetSpacesTool()\n",
    "response = tool._run(12927880)\n",
    "print(response)"
   ]
  },
  {
   "cell_type": "markdown",
   "metadata": {},
   "source": [
    "## Get Filtered Team Tasks"
   ]
  },
  {
   "cell_type": "code",
   "execution_count": null,
   "metadata": {},
   "outputs": [],
   "source": [
    "from composio.tools.local.clickup.actions.get_filtered_team_tasks import GetFilteredTeamTasks, GetFilteredTeamTasksRequest, GetFilteredTeamTasksResponse\n",
    "\n",
    "class GetFilteredTeamTasksTool(BaseTool):\n",
    "    name: str = \"get_filtered_team_tasks_tool\"\n",
    "    description: str = \"\"\"\n",
    "    Ferramenta para visualizar tarefas que atendem a critérios específicos em um Workspace no ClickUp.\n",
    "    - Obter tarefas filtradas:\n",
    "        Invocar: \"GetFilteredTeamTasksTool\" com os parâmetros de filtro desejados.\n",
    "    \"\"\"\n",
    "    args_schema: Type[BaseModel] = GetFilteredTeamTasksRequest\n",
    "    headers: dict = {\"Authorization\": f\"{CLICKUP_TOKEN}\"}\n",
    "\n",
    "    def __init__(self, **data):\n",
    "        super().__init__(**data)\n",
    "\n",
    "    def _run(self, **kwargs) -> Any:\n",
    "        \"\"\"Executa a requisição para obter tarefas filtradas em um time no ClickUp\"\"\"\n",
    "\n",
    "        action = GetFilteredTeamTasks()\n",
    "\n",
    "        url = f\"{action.url}{action.path}\".format(team_Id=kwargs.get('team_Id'))\n",
    "\n",
    "        query_params = {k: v for k, v in kwargs.items() if v is not None}\n",
    "\n",
    "        response = requests.get(url, headers=self.headers, params=query_params)\n",
    "\n",
    "        if response.status_code == 200:\n",
    "            response_json = response.json()\n",
    "        else:\n",
    "            try:\n",
    "                response_json = response.json()\n",
    "            except requests.JSONDecodeError:\n",
    "                response_json = {\"error\": \"Invalid JSON response\"}\n",
    "\n",
    "        print(f\"Response Body: {response_json}\")\n",
    "        response = GetFilteredTeamTasksResponse(data=response_json)\n",
    "        filtered_response = {\n",
    "            'tasks': [\n",
    "                {\n",
    "                    'task_id': task.get('id'),\n",
    "                    'task_name': task.get('name'),\n",
    "                    'status': task.get('status', {}).get('status'),\n",
    "                    'assignees': task.get('assignees'),\n",
    "                    'due_date': task.get('due_date'),\n",
    "                }\n",
    "                for task in response.data.get('tasks', [])\n",
    "            ],\n",
    "            'error': response.data.get('err')\n",
    "        }\n",
    "        return filtered_response"
   ]
  },
  {
   "cell_type": "code",
   "execution_count": null,
   "metadata": {},
   "outputs": [
    {
     "name": "stdout",
     "output_type": "stream",
     "text": [
      "Response Body: {'err': 'Oauth token not found', 'ECODE': 'OAUTH_019'}\n"
     ]
    },
    {
     "data": {
      "text/plain": [
       "{'tasks': [], 'error': 'Oauth token not found'}"
      ]
     },
     "execution_count": 234,
     "metadata": {},
     "output_type": "execute_result"
    }
   ],
   "source": [
    "tool = GetFilteredTeamTasksTool()\n",
    "result = tool._run(team_Id=12927880, status='testing')\n",
    "result"
   ]
  },
  {
   "cell_type": "markdown",
   "metadata": {},
   "source": [
    "## Get Tasks"
   ]
  },
  {
   "cell_type": "code",
   "execution_count": null,
   "metadata": {},
   "outputs": [],
   "source": [
    "from composio.tools.local.clickup.actions.get_tasks import GetTasks, GetTasksRequest, GetTasksResponse\n",
    "\n",
    "class GetTasksTool(BaseTool):\n",
    "    name: str = \"get_tasks_tool\"\n",
    "    description: str = \"\"\"\n",
    "    Ferramenta para visualizar tarefas em uma lista no ClickUp.\n",
    "    - Obter tarefas:\n",
    "        Invocar: \"GetTasksTool\" com o ID da lista e parâmetros opcionais.\n",
    "    \"\"\"\n",
    "    args_schema: Type[BaseModel] = GetTasksRequest\n",
    "    headers: dict = {\"Authorization\": f\"{CLICKUP_TOKEN}\"}\n",
    "\n",
    "    def _init_(self, **data):\n",
    "        super()._init_(**data)\n",
    "\n",
    "    def _run(self, **kwargs) -> Any:\n",
    "        \"\"\"Executa a requisição para obter tarefas filtradas em uma lista no ClickUp\"\"\"\n",
    "\n",
    "        action = GetTasks()\n",
    "\n",
    "        url = f\"{action.url}{action.path}\".format(list_id=kwargs.get('list_id'))\n",
    "\n",
    "        query_params = {k: v for k, v in kwargs.items() if v is not None}\n",
    "\n",
    "        response = requests.get(url, headers=self.headers, params=query_params)\n",
    "\n",
    "        if response.status_code == 200:\n",
    "            response_json = response.json()\n",
    "        else:\n",
    "            try:\n",
    "                response_json = response.json()\n",
    "            except requests.JSONDecodeError:\n",
    "                response_json = {\"error\": \"Invalid JSON response\"}\n",
    "\n",
    "        print(f\"Response Body: {response_json}\")\n",
    "        response = GetTasksResponse(data=response_json)\n",
    "        filtered_response = []\n",
    "        for task in response.data.get('tasks', []):\n",
    "            task_info = {\n",
    "                'id': task.get('id'),\n",
    "                'name': task.get('name'),\n",
    "                'assignees': [assignee.get('username') for assignee in task.get('assignees', [])],\n",
    "                'due_date': task.get('due_date'),\n",
    "                'date_created': task.get('date_created'),\n",
    "                'status': task.get('status', {}).get('status'),\n",
    "                'url': f\"https://app.clickup.com/t/{task.get('id')}\"\n",
    "            }\n",
    "            filtered_response.append(task_info)\n",
    "            filtered_response.append({'error': response.data.get('error')})\n",
    "\n",
    "        return filtered_response"
   ]
  },
  {
   "cell_type": "code",
   "execution_count": null,
   "metadata": {},
   "outputs": [
    {
     "name": "stdout",
     "output_type": "stream",
     "text": [
      "Response Body: {'tasks': [{'id': '86a4r3bym', 'custom_id': None, 'custom_item_id': 0, 'name': 'ALVENARIA', 'text_content': '', 'description': '', 'status': {'status': 'backlog', 'id': 'p54804921_1gR1N0KG', 'color': '#9c09bc', 'type': 'open', 'orderindex': 0}, 'orderindex': '119424855.00000000000000000000000000000000', 'date_created': '1724961384759', 'date_updated': '1724961384759', 'date_closed': None, 'date_done': None, 'archived': False, 'creator': {'id': 84141406, 'username': 'Ana Beatriz', 'color': '#455963', 'email': 'ti@cogmo.com.br', 'profilePicture': 'https://attachments.clickup.com/profilePictures/84141406_ZkZ.jpg'}, 'assignees': [], 'group_assignees': [], 'watchers': [{'id': 84141406, 'username': 'Ana Beatriz', 'color': '#455963', 'initials': 'AB', 'email': 'ti@cogmo.com.br', 'profilePicture': 'https://attachments.clickup.com/profilePictures/84141406_ZkZ.jpg'}], 'checklists': [], 'tags': [], 'parent': None, 'priority': None, 'due_date': None, 'start_date': None, 'points': None, 'time_estimate': None, 'custom_fields': [], 'dependencies': [{'task_id': '86a4r3bym', 'depends_on': '86a4r3bxu', 'type': 1, 'date_created': '1724961387474', 'userid': '84141406', 'workspace_id': '12927880', 'chain_id': None}], 'linked_tasks': [], 'locations': [], 'team_id': '12927880', 'url': 'https://app.clickup.com/t/86a4r3bym', 'sharing': {'public': False, 'public_share_expires_on': None, 'public_fields': ['assignees', 'priority', 'due_date', 'content', 'comments', 'attachments', 'customFields', 'subtasks', 'tags', 'checklists', 'coverimage'], 'token': None, 'seo_optimized': False}, 'permission_level': 'create', 'list': {'id': '901304909413', 'name': 'clickup_agent', 'access': True}, 'project': {'id': '90132806032', 'name': 'agente clickup playgroud (ana beatriz)', 'hidden': False, 'access': True}, 'folder': {'id': '90132806032', 'name': 'agente clickup playgroud (ana beatriz)', 'hidden': False, 'access': True}, 'space': {'id': '54804921'}}, {'id': '86a4r3bxu', 'custom_id': None, 'custom_item_id': 0, 'name': 'FUNDAÇÃO', 'text_content': '', 'description': '', 'status': {'status': 'backlog', 'id': 'p54804921_1gR1N0KG', 'color': '#9c09bc', 'type': 'open', 'orderindex': 0}, 'orderindex': '119424854.00000000000000000000000000000000', 'date_created': '1724961383153', 'date_updated': '1724961383153', 'date_closed': None, 'date_done': None, 'archived': False, 'creator': {'id': 84141406, 'username': 'Ana Beatriz', 'color': '#455963', 'email': 'ti@cogmo.com.br', 'profilePicture': 'https://attachments.clickup.com/profilePictures/84141406_ZkZ.jpg'}, 'assignees': [], 'group_assignees': [], 'watchers': [{'id': 84141406, 'username': 'Ana Beatriz', 'color': '#455963', 'initials': 'AB', 'email': 'ti@cogmo.com.br', 'profilePicture': 'https://attachments.clickup.com/profilePictures/84141406_ZkZ.jpg'}], 'checklists': [], 'tags': [], 'parent': None, 'priority': None, 'due_date': None, 'start_date': None, 'points': None, 'time_estimate': None, 'custom_fields': [], 'dependencies': [{'task_id': '86a4r3bym', 'depends_on': '86a4r3bxu', 'type': 1, 'date_created': '1724961387474', 'userid': '84141406', 'workspace_id': '12927880', 'chain_id': None}], 'linked_tasks': [], 'locations': [], 'team_id': '12927880', 'url': 'https://app.clickup.com/t/86a4r3bxu', 'sharing': {'public': False, 'public_share_expires_on': None, 'public_fields': ['assignees', 'priority', 'due_date', 'content', 'comments', 'attachments', 'customFields', 'subtasks', 'tags', 'checklists', 'coverimage'], 'token': None, 'seo_optimized': False}, 'permission_level': 'create', 'list': {'id': '901304909413', 'name': 'clickup_agent', 'access': True}, 'project': {'id': '90132806032', 'name': 'agente clickup playgroud (ana beatriz)', 'hidden': False, 'access': True}, 'folder': {'id': '90132806032', 'name': 'agente clickup playgroud (ana beatriz)', 'hidden': False, 'access': True}, 'space': {'id': '54804921'}}, {'id': '86a4r2jbp', 'custom_id': None, 'custom_item_id': 0, 'name': 'TASK ATUALIZADA ÀS 16:11', 'text_content': '', 'description': '', 'status': {'status': 'backlog', 'id': 'p54804921_1gR1N0KG', 'color': '#9c09bc', 'type': 'open', 'orderindex': 0}, 'orderindex': '119424851.00000000000000000000000000000000', 'date_created': '1724958606754', 'date_updated': '1724960031536', 'date_closed': None, 'date_done': None, 'archived': False, 'creator': {'id': 84141406, 'username': 'Ana Beatriz', 'color': '#455963', 'email': 'ti@cogmo.com.br', 'profilePicture': 'https://attachments.clickup.com/profilePictures/84141406_ZkZ.jpg'}, 'assignees': [], 'group_assignees': [], 'watchers': [{'id': 84141406, 'username': 'Ana Beatriz', 'color': '#455963', 'initials': 'AB', 'email': 'ti@cogmo.com.br', 'profilePicture': 'https://attachments.clickup.com/profilePictures/84141406_ZkZ.jpg'}], 'checklists': [], 'tags': [], 'parent': None, 'priority': None, 'due_date': None, 'start_date': None, 'points': None, 'time_estimate': None, 'custom_fields': [], 'dependencies': [], 'linked_tasks': [], 'locations': [], 'team_id': '12927880', 'url': 'https://app.clickup.com/t/86a4r2jbp', 'sharing': {'public': False, 'public_share_expires_on': None, 'public_fields': ['assignees', 'priority', 'due_date', 'content', 'comments', 'attachments', 'customFields', 'subtasks', 'tags', 'checklists', 'coverimage'], 'token': None, 'seo_optimized': False}, 'permission_level': 'create', 'list': {'id': '901304909413', 'name': 'clickup_agent', 'access': True}, 'project': {'id': '90132806032', 'name': 'agente clickup playgroud (ana beatriz)', 'hidden': False, 'access': True}, 'folder': {'id': '90132806032', 'name': 'agente clickup playgroud (ana beatriz)', 'hidden': False, 'access': True}, 'space': {'id': '54804921'}}, {'id': '86a4r2ga8', 'custom_id': None, 'custom_item_id': 0, 'name': 'TASK CRIADA ÀS 16:05', 'text_content': '', 'description': '', 'status': {'status': 'backlog', 'id': 'p54804921_1gR1N0KG', 'color': '#9c09bc', 'type': 'open', 'orderindex': 0}, 'orderindex': '119424849.00000000000000000000000000000000', 'date_created': '1724958362753', 'date_updated': '1724958362753', 'date_closed': None, 'date_done': None, 'archived': False, 'creator': {'id': 84141406, 'username': 'Ana Beatriz', 'color': '#455963', 'email': 'ti@cogmo.com.br', 'profilePicture': 'https://attachments.clickup.com/profilePictures/84141406_ZkZ.jpg'}, 'assignees': [], 'group_assignees': [], 'watchers': [{'id': 84141406, 'username': 'Ana Beatriz', 'color': '#455963', 'initials': 'AB', 'email': 'ti@cogmo.com.br', 'profilePicture': 'https://attachments.clickup.com/profilePictures/84141406_ZkZ.jpg'}], 'checklists': [], 'tags': [], 'parent': None, 'priority': None, 'due_date': None, 'start_date': None, 'points': None, 'time_estimate': None, 'custom_fields': [], 'dependencies': [], 'linked_tasks': [], 'locations': [], 'team_id': '12927880', 'url': 'https://app.clickup.com/t/86a4r2ga8', 'sharing': {'public': False, 'public_share_expires_on': None, 'public_fields': ['assignees', 'priority', 'due_date', 'content', 'comments', 'attachments', 'customFields', 'subtasks', 'tags', 'checklists', 'coverimage'], 'token': None, 'seo_optimized': False}, 'permission_level': 'create', 'list': {'id': '901304909413', 'name': 'clickup_agent', 'access': True}, 'project': {'id': '90132806032', 'name': 'agente clickup playgroud (ana beatriz)', 'hidden': False, 'access': True}, 'folder': {'id': '90132806032', 'name': 'agente clickup playgroud (ana beatriz)', 'hidden': False, 'access': True}, 'space': {'id': '54804921'}}, {'id': '86a4r2ecz', 'custom_id': None, 'custom_item_id': 0, 'name': 'TASK CRIADA ÀS 15:56', 'text_content': '', 'description': '', 'status': {'status': 'backlog', 'id': 'p54804921_1gR1N0KG', 'color': '#9c09bc', 'type': 'open', 'orderindex': 0}, 'orderindex': '119424848.00000000000000000000000000000000', 'date_created': '1724958170291', 'date_updated': '1724958170291', 'date_closed': None, 'date_done': None, 'archived': False, 'creator': {'id': 84141406, 'username': 'Ana Beatriz', 'color': '#455963', 'email': 'ti@cogmo.com.br', 'profilePicture': 'https://attachments.clickup.com/profilePictures/84141406_ZkZ.jpg'}, 'assignees': [], 'group_assignees': [], 'watchers': [{'id': 84141406, 'username': 'Ana Beatriz', 'color': '#455963', 'initials': 'AB', 'email': 'ti@cogmo.com.br', 'profilePicture': 'https://attachments.clickup.com/profilePictures/84141406_ZkZ.jpg'}], 'checklists': [], 'tags': [], 'parent': None, 'priority': None, 'due_date': None, 'start_date': None, 'points': None, 'time_estimate': None, 'custom_fields': [], 'dependencies': [], 'linked_tasks': [], 'locations': [], 'team_id': '12927880', 'url': 'https://app.clickup.com/t/86a4r2ecz', 'sharing': {'public': False, 'public_share_expires_on': None, 'public_fields': ['assignees', 'priority', 'due_date', 'content', 'comments', 'attachments', 'customFields', 'subtasks', 'tags', 'checklists', 'coverimage'], 'token': None, 'seo_optimized': False}, 'permission_level': 'create', 'list': {'id': '901304909413', 'name': 'clickup_agent', 'access': True}, 'project': {'id': '90132806032', 'name': 'agente clickup playgroud (ana beatriz)', 'hidden': False, 'access': True}, 'folder': {'id': '90132806032', 'name': 'agente clickup playgroud (ana beatriz)', 'hidden': False, 'access': True}, 'space': {'id': '54804921'}}, {'id': '86a4r2b9f', 'custom_id': None, 'custom_item_id': 0, 'name': 'TASK CRIADA ÀS 15:56', 'text_content': '', 'description': '', 'status': {'status': 'backlog', 'id': 'p54804921_1gR1N0KG', 'color': '#9c09bc', 'type': 'open', 'orderindex': 0}, 'orderindex': '119424847.00000000000000000000000000000000', 'date_created': '1724957782089', 'date_updated': '1724957782089', 'date_closed': None, 'date_done': None, 'archived': False, 'creator': {'id': 84141406, 'username': 'Ana Beatriz', 'color': '#455963', 'email': 'ti@cogmo.com.br', 'profilePicture': 'https://attachments.clickup.com/profilePictures/84141406_ZkZ.jpg'}, 'assignees': [], 'group_assignees': [], 'watchers': [{'id': 84141406, 'username': 'Ana Beatriz', 'color': '#455963', 'initials': 'AB', 'email': 'ti@cogmo.com.br', 'profilePicture': 'https://attachments.clickup.com/profilePictures/84141406_ZkZ.jpg'}], 'checklists': [], 'tags': [], 'parent': None, 'priority': None, 'due_date': None, 'start_date': None, 'points': None, 'time_estimate': None, 'custom_fields': [], 'dependencies': [], 'linked_tasks': [], 'locations': [], 'team_id': '12927880', 'url': 'https://app.clickup.com/t/86a4r2b9f', 'sharing': {'public': False, 'public_share_expires_on': None, 'public_fields': ['assignees', 'priority', 'due_date', 'content', 'comments', 'attachments', 'customFields', 'subtasks', 'tags', 'checklists', 'coverimage'], 'token': None, 'seo_optimized': False}, 'permission_level': 'create', 'list': {'id': '901304909413', 'name': 'clickup_agent', 'access': True}, 'project': {'id': '90132806032', 'name': 'agente clickup playgroud (ana beatriz)', 'hidden': False, 'access': True}, 'folder': {'id': '90132806032', 'name': 'agente clickup playgroud (ana beatriz)', 'hidden': False, 'access': True}, 'space': {'id': '54804921'}}, {'id': '86a4r1ux8', 'custom_id': None, 'custom_item_id': 0, 'name': 'TESTE BEM SUCEDIDO04', 'text_content': '', 'description': '', 'status': {'status': 'backlog', 'id': 'p54804921_1gR1N0KG', 'color': '#9c09bc', 'type': 'open', 'orderindex': 0}, 'orderindex': '119424843.00000000000000000000000000000000', 'date_created': '1724956015230', 'date_updated': '1724956015230', 'date_closed': None, 'date_done': None, 'archived': False, 'creator': {'id': 84141406, 'username': 'Ana Beatriz', 'color': '#455963', 'email': 'ti@cogmo.com.br', 'profilePicture': 'https://attachments.clickup.com/profilePictures/84141406_ZkZ.jpg'}, 'assignees': [{'id': 82061927, 'username': 'Rafael Alves Magalhães', 'color': '', 'initials': 'RM', 'email': 'magalhaesrafael07@gmail.com', 'profilePicture': None}], 'group_assignees': [], 'watchers': [{'id': 84141406, 'username': 'Ana Beatriz', 'color': '#455963', 'initials': 'AB', 'email': 'ti@cogmo.com.br', 'profilePicture': 'https://attachments.clickup.com/profilePictures/84141406_ZkZ.jpg'}, {'id': 82061927, 'username': 'Rafael Alves Magalhães', 'color': '', 'initials': 'RM', 'email': 'magalhaesrafael07@gmail.com', 'profilePicture': None}], 'checklists': [], 'tags': [], 'parent': None, 'priority': None, 'due_date': None, 'start_date': None, 'points': None, 'time_estimate': None, 'custom_fields': [], 'dependencies': [], 'linked_tasks': [], 'locations': [], 'team_id': '12927880', 'url': 'https://app.clickup.com/t/86a4r1ux8', 'sharing': {'public': False, 'public_share_expires_on': None, 'public_fields': ['assignees', 'priority', 'due_date', 'content', 'comments', 'attachments', 'customFields', 'subtasks', 'tags', 'checklists', 'coverimage'], 'token': None, 'seo_optimized': False}, 'permission_level': 'create', 'list': {'id': '901304909413', 'name': 'clickup_agent', 'access': True}, 'project': {'id': '90132806032', 'name': 'agente clickup playgroud (ana beatriz)', 'hidden': False, 'access': True}, 'folder': {'id': '90132806032', 'name': 'agente clickup playgroud (ana beatriz)', 'hidden': False, 'access': True}, 'space': {'id': '54804921'}}, {'id': '86a4qz2xm', 'custom_id': None, 'custom_item_id': 0, 'name': 'TESTE BEM SUCEDIDO04', 'text_content': '', 'description': '', 'status': {'status': 'backlog', 'id': 'p54804921_1gR1N0KG', 'color': '#9c09bc', 'type': 'open', 'orderindex': 0}, 'orderindex': '119424807.00000000000000000000000000000000', 'date_created': '1724947418613', 'date_updated': '1724947418613', 'date_closed': None, 'date_done': None, 'archived': False, 'creator': {'id': 84141406, 'username': 'Ana Beatriz', 'color': '#455963', 'email': 'ti@cogmo.com.br', 'profilePicture': 'https://attachments.clickup.com/profilePictures/84141406_ZkZ.jpg'}, 'assignees': [{'id': 82061927, 'username': 'Rafael Alves Magalhães', 'color': '', 'initials': 'RM', 'email': 'magalhaesrafael07@gmail.com', 'profilePicture': None}], 'group_assignees': [], 'watchers': [{'id': 84141406, 'username': 'Ana Beatriz', 'color': '#455963', 'initials': 'AB', 'email': 'ti@cogmo.com.br', 'profilePicture': 'https://attachments.clickup.com/profilePictures/84141406_ZkZ.jpg'}, {'id': 82061927, 'username': 'Rafael Alves Magalhães', 'color': '', 'initials': 'RM', 'email': 'magalhaesrafael07@gmail.com', 'profilePicture': None}], 'checklists': [], 'tags': [], 'parent': None, 'priority': None, 'due_date': None, 'start_date': None, 'points': None, 'time_estimate': None, 'custom_fields': [], 'dependencies': [], 'linked_tasks': [], 'locations': [], 'team_id': '12927880', 'url': 'https://app.clickup.com/t/86a4qz2xm', 'sharing': {'public': False, 'public_share_expires_on': None, 'public_fields': ['assignees', 'priority', 'due_date', 'content', 'comments', 'attachments', 'customFields', 'subtasks', 'tags', 'checklists', 'coverimage'], 'token': None, 'seo_optimized': False}, 'permission_level': 'create', 'list': {'id': '901304909413', 'name': 'clickup_agent', 'access': True}, 'project': {'id': '90132806032', 'name': 'agente clickup playgroud (ana beatriz)', 'hidden': False, 'access': True}, 'folder': {'id': '90132806032', 'name': 'agente clickup playgroud (ana beatriz)', 'hidden': False, 'access': True}, 'space': {'id': '54804921'}}, {'id': '86a4qyy92', 'custom_id': None, 'custom_item_id': 0, 'name': 'TESTE BEM SUCEDIDO04', 'text_content': '', 'description': '', 'status': {'status': 'backlog', 'id': 'p54804921_1gR1N0KG', 'color': '#9c09bc', 'type': 'open', 'orderindex': 0}, 'orderindex': '119424806.00000000000000000000000000000000', 'date_created': '1724946923626', 'date_updated': '1724946923626', 'date_closed': None, 'date_done': None, 'archived': False, 'creator': {'id': 84141406, 'username': 'Ana Beatriz', 'color': '#455963', 'email': 'ti@cogmo.com.br', 'profilePicture': 'https://attachments.clickup.com/profilePictures/84141406_ZkZ.jpg'}, 'assignees': [{'id': 82061927, 'username': 'Rafael Alves Magalhães', 'color': '', 'initials': 'RM', 'email': 'magalhaesrafael07@gmail.com', 'profilePicture': None}], 'group_assignees': [], 'watchers': [{'id': 84141406, 'username': 'Ana Beatriz', 'color': '#455963', 'initials': 'AB', 'email': 'ti@cogmo.com.br', 'profilePicture': 'https://attachments.clickup.com/profilePictures/84141406_ZkZ.jpg'}, {'id': 82061927, 'username': 'Rafael Alves Magalhães', 'color': '', 'initials': 'RM', 'email': 'magalhaesrafael07@gmail.com', 'profilePicture': None}], 'checklists': [], 'tags': [], 'parent': None, 'priority': None, 'due_date': None, 'start_date': None, 'points': None, 'time_estimate': None, 'custom_fields': [], 'dependencies': [], 'linked_tasks': [], 'locations': [], 'team_id': '12927880', 'url': 'https://app.clickup.com/t/86a4qyy92', 'sharing': {'public': False, 'public_share_expires_on': None, 'public_fields': ['assignees', 'priority', 'due_date', 'content', 'comments', 'attachments', 'customFields', 'subtasks', 'tags', 'checklists', 'coverimage'], 'token': None, 'seo_optimized': False}, 'permission_level': 'create', 'list': {'id': '901304909413', 'name': 'clickup_agent', 'access': True}, 'project': {'id': '90132806032', 'name': 'agente clickup playgroud (ana beatriz)', 'hidden': False, 'access': True}, 'folder': {'id': '90132806032', 'name': 'agente clickup playgroud (ana beatriz)', 'hidden': False, 'access': True}, 'space': {'id': '54804921'}}, {'id': '86a4qyw7r', 'custom_id': None, 'custom_item_id': 0, 'name': 'TESTE BEM SUCEDIDO03', 'text_content': '', 'description': '', 'status': {'status': 'backlog', 'id': 'p54804921_1gR1N0KG', 'color': '#9c09bc', 'type': 'open', 'orderindex': 0}, 'orderindex': '119424805.00000000000000000000000000000000', 'date_created': '1724946710544', 'date_updated': '1724946710544', 'date_closed': None, 'date_done': None, 'archived': False, 'creator': {'id': 84141406, 'username': 'Ana Beatriz', 'color': '#455963', 'email': 'ti@cogmo.com.br', 'profilePicture': 'https://attachments.clickup.com/profilePictures/84141406_ZkZ.jpg'}, 'assignees': [{'id': 82061927, 'username': 'Rafael Alves Magalhães', 'color': '', 'initials': 'RM', 'email': 'magalhaesrafael07@gmail.com', 'profilePicture': None}], 'group_assignees': [], 'watchers': [{'id': 84141406, 'username': 'Ana Beatriz', 'color': '#455963', 'initials': 'AB', 'email': 'ti@cogmo.com.br', 'profilePicture': 'https://attachments.clickup.com/profilePictures/84141406_ZkZ.jpg'}, {'id': 82061927, 'username': 'Rafael Alves Magalhães', 'color': '', 'initials': 'RM', 'email': 'magalhaesrafael07@gmail.com', 'profilePicture': None}], 'checklists': [], 'tags': [], 'parent': None, 'priority': None, 'due_date': None, 'start_date': None, 'points': None, 'time_estimate': None, 'custom_fields': [], 'dependencies': [], 'linked_tasks': [], 'locations': [], 'team_id': '12927880', 'url': 'https://app.clickup.com/t/86a4qyw7r', 'sharing': {'public': False, 'public_share_expires_on': None, 'public_fields': ['assignees', 'priority', 'due_date', 'content', 'comments', 'attachments', 'customFields', 'subtasks', 'tags', 'checklists', 'coverimage'], 'token': None, 'seo_optimized': False}, 'permission_level': 'create', 'list': {'id': '901304909413', 'name': 'clickup_agent', 'access': True}, 'project': {'id': '90132806032', 'name': 'agente clickup playgroud (ana beatriz)', 'hidden': False, 'access': True}, 'folder': {'id': '90132806032', 'name': 'agente clickup playgroud (ana beatriz)', 'hidden': False, 'access': True}, 'space': {'id': '54804921'}}, {'id': '86a4qp7up', 'custom_id': None, 'custom_item_id': 0, 'name': 'TESTE BEM SUCEDIDO02', 'text_content': '', 'description': '', 'status': {'status': 'backlog', 'id': 'p54804921_1gR1N0KG', 'color': '#9c09bc', 'type': 'open', 'orderindex': 0}, 'orderindex': '119424804.00000000000000000000000000000000', 'date_created': '1724881168183', 'date_updated': '1724881168183', 'date_closed': None, 'date_done': None, 'archived': False, 'creator': {'id': 84141406, 'username': 'Ana Beatriz', 'color': '#455963', 'email': 'ti@cogmo.com.br', 'profilePicture': 'https://attachments.clickup.com/profilePictures/84141406_ZkZ.jpg'}, 'assignees': [{'id': 82061927, 'username': 'Rafael Alves Magalhães', 'color': '', 'initials': 'RM', 'email': 'magalhaesrafael07@gmail.com', 'profilePicture': None}], 'group_assignees': [], 'watchers': [{'id': 84141406, 'username': 'Ana Beatriz', 'color': '#455963', 'initials': 'AB', 'email': 'ti@cogmo.com.br', 'profilePicture': 'https://attachments.clickup.com/profilePictures/84141406_ZkZ.jpg'}, {'id': 82061927, 'username': 'Rafael Alves Magalhães', 'color': '', 'initials': 'RM', 'email': 'magalhaesrafael07@gmail.com', 'profilePicture': None}], 'checklists': [], 'tags': [], 'parent': None, 'priority': None, 'due_date': None, 'start_date': None, 'points': None, 'time_estimate': None, 'custom_fields': [], 'dependencies': [], 'linked_tasks': [], 'locations': [], 'team_id': '12927880', 'url': 'https://app.clickup.com/t/86a4qp7up', 'sharing': {'public': False, 'public_share_expires_on': None, 'public_fields': ['assignees', 'priority', 'due_date', 'content', 'comments', 'attachments', 'customFields', 'subtasks', 'tags', 'checklists', 'coverimage'], 'token': None, 'seo_optimized': False}, 'permission_level': 'create', 'list': {'id': '901304909413', 'name': 'clickup_agent', 'access': True}, 'project': {'id': '90132806032', 'name': 'agente clickup playgroud (ana beatriz)', 'hidden': False, 'access': True}, 'folder': {'id': '90132806032', 'name': 'agente clickup playgroud (ana beatriz)', 'hidden': False, 'access': True}, 'space': {'id': '54804921'}}, {'id': '86a4qp55z', 'custom_id': None, 'custom_item_id': 0, 'name': 'Solicitar à Jussiane Siqueira envio do questionário de editais para inovação', 'text_content': '', 'description': '', 'status': {'status': 'doing', 'id': 'p54804921_KslxIFrF', 'color': '#e16b16', 'type': 'custom', 'orderindex': 2}, 'orderindex': '119424802.00006260000000000000000000000000', 'date_created': '1724880822207', 'date_updated': '1724881131688', 'date_closed': None, 'date_done': None, 'archived': False, 'creator': {'id': 84141406, 'username': 'Ana Beatriz', 'color': '#455963', 'email': 'ti@cogmo.com.br', 'profilePicture': 'https://attachments.clickup.com/profilePictures/84141406_ZkZ.jpg'}, 'assignees': [{'id': 84141406, 'username': 'Ana Beatriz', 'color': '#455963', 'initials': 'AB', 'email': 'ti@cogmo.com.br', 'profilePicture': 'https://attachments.clickup.com/profilePictures/84141406_ZkZ.jpg'}], 'group_assignees': [], 'watchers': [{'id': 84141406, 'username': 'Ana Beatriz', 'color': '#455963', 'initials': 'AB', 'email': 'ti@cogmo.com.br', 'profilePicture': 'https://attachments.clickup.com/profilePictures/84141406_ZkZ.jpg'}], 'checklists': [], 'tags': [], 'parent': None, 'priority': None, 'due_date': '1725174000000', 'start_date': None, 'points': None, 'time_estimate': None, 'custom_fields': [], 'dependencies': [], 'linked_tasks': [], 'locations': [], 'team_id': '12927880', 'url': 'https://app.clickup.com/t/86a4qp55z', 'sharing': {'public': False, 'public_share_expires_on': None, 'public_fields': ['assignees', 'priority', 'due_date', 'content', 'comments', 'attachments', 'customFields', 'subtasks', 'tags', 'checklists', 'coverimage'], 'token': None, 'seo_optimized': False}, 'permission_level': 'create', 'list': {'id': '901304909413', 'name': 'clickup_agent', 'access': True}, 'project': {'id': '90132806032', 'name': 'agente clickup playgroud (ana beatriz)', 'hidden': False, 'access': True}, 'folder': {'id': '90132806032', 'name': 'agente clickup playgroud (ana beatriz)', 'hidden': False, 'access': True}, 'space': {'id': '54804921'}}, {'id': '86a4qp4e9', 'custom_id': None, 'custom_item_id': 0, 'name': 'TESTE BEM SUCEDIDO03', 'text_content': '', 'description': '', 'status': {'status': 'backlog', 'id': 'p54804921_1gR1N0KG', 'color': '#9c09bc', 'type': 'open', 'orderindex': 0}, 'orderindex': '119424800.00000000000000000000000000000000', 'date_created': '1724880655952', 'date_updated': '1724880655952', 'date_closed': None, 'date_done': None, 'archived': False, 'creator': {'id': 84141406, 'username': 'Ana Beatriz', 'color': '#455963', 'email': 'ti@cogmo.com.br', 'profilePicture': 'https://attachments.clickup.com/profilePictures/84141406_ZkZ.jpg'}, 'assignees': [], 'group_assignees': [], 'watchers': [{'id': 84141406, 'username': 'Ana Beatriz', 'color': '#455963', 'initials': 'AB', 'email': 'ti@cogmo.com.br', 'profilePicture': 'https://attachments.clickup.com/profilePictures/84141406_ZkZ.jpg'}], 'checklists': [], 'tags': [], 'parent': None, 'priority': None, 'due_date': None, 'start_date': None, 'points': None, 'time_estimate': None, 'custom_fields': [], 'dependencies': [], 'linked_tasks': [], 'locations': [], 'team_id': '12927880', 'url': 'https://app.clickup.com/t/86a4qp4e9', 'sharing': {'public': False, 'public_share_expires_on': None, 'public_fields': ['assignees', 'priority', 'due_date', 'content', 'comments', 'attachments', 'customFields', 'subtasks', 'tags', 'checklists', 'coverimage'], 'token': None, 'seo_optimized': False}, 'permission_level': 'create', 'list': {'id': '901304909413', 'name': 'clickup_agent', 'access': True}, 'project': {'id': '90132806032', 'name': 'agente clickup playgroud (ana beatriz)', 'hidden': False, 'access': True}, 'folder': {'id': '90132806032', 'name': 'agente clickup playgroud (ana beatriz)', 'hidden': False, 'access': True}, 'space': {'id': '54804921'}}, {'id': '86a4qp46p', 'custom_id': None, 'custom_item_id': 0, 'name': 'TESTE BEM SUCEDIDO02', 'text_content': '', 'description': '', 'status': {'status': 'backlog', 'id': 'p54804921_1gR1N0KG', 'color': '#9c09bc', 'type': 'open', 'orderindex': 0}, 'orderindex': '119424799.00000000000000000000000000000000', 'date_created': '1724880604108', 'date_updated': '1724958860852', 'date_closed': None, 'date_done': None, 'archived': False, 'creator': {'id': 84141406, 'username': 'Ana Beatriz', 'color': '#455963', 'email': 'ti@cogmo.com.br', 'profilePicture': 'https://attachments.clickup.com/profilePictures/84141406_ZkZ.jpg'}, 'assignees': [{'id': 82061927, 'username': 'Rafael Alves Magalhães', 'color': '', 'initials': 'RM', 'email': 'magalhaesrafael07@gmail.com', 'profilePicture': None}], 'group_assignees': [], 'watchers': [{'id': 84141406, 'username': 'Ana Beatriz', 'color': '#455963', 'initials': 'AB', 'email': 'ti@cogmo.com.br', 'profilePicture': 'https://attachments.clickup.com/profilePictures/84141406_ZkZ.jpg'}, {'id': 82061927, 'username': 'Rafael Alves Magalhães', 'color': '', 'initials': 'RM', 'email': 'magalhaesrafael07@gmail.com', 'profilePicture': None}], 'checklists': [], 'tags': [], 'parent': None, 'priority': None, 'due_date': None, 'start_date': None, 'points': None, 'time_estimate': None, 'custom_fields': [], 'dependencies': [], 'linked_tasks': [], 'locations': [], 'team_id': '12927880', 'url': 'https://app.clickup.com/t/86a4qp46p', 'sharing': {'public': False, 'public_share_expires_on': None, 'public_fields': ['assignees', 'priority', 'due_date', 'content', 'comments', 'attachments', 'customFields', 'subtasks', 'tags', 'checklists', 'coverimage'], 'token': None, 'seo_optimized': False}, 'permission_level': 'create', 'list': {'id': '901304909413', 'name': 'clickup_agent', 'access': True}, 'project': {'id': '90132806032', 'name': 'agente clickup playgroud (ana beatriz)', 'hidden': False, 'access': True}, 'folder': {'id': '90132806032', 'name': 'agente clickup playgroud (ana beatriz)', 'hidden': False, 'access': True}, 'space': {'id': '54804921'}}, {'id': '86a4qp40d', 'custom_id': None, 'custom_item_id': 0, 'name': 'Fazer follow up com Jussiane Siqueira', 'text_content': '', 'description': '', 'status': {'status': 'backlog', 'id': 'p54804921_1gR1N0KG', 'color': '#9c09bc', 'type': 'open', 'orderindex': 0}, 'orderindex': '119424798.00000000000000000000000000000000', 'date_created': '1724880574665', 'date_updated': '1724880577255', 'date_closed': None, 'date_done': None, 'archived': False, 'creator': {'id': 84141406, 'username': 'Ana Beatriz', 'color': '#455963', 'email': 'ti@cogmo.com.br', 'profilePicture': 'https://attachments.clickup.com/profilePictures/84141406_ZkZ.jpg'}, 'assignees': [], 'group_assignees': [], 'watchers': [{'id': 84141406, 'username': 'Ana Beatriz', 'color': '#455963', 'initials': 'AB', 'email': 'ti@cogmo.com.br', 'profilePicture': 'https://attachments.clickup.com/profilePictures/84141406_ZkZ.jpg'}], 'checklists': [], 'tags': [], 'parent': None, 'priority': None, 'due_date': '1725174000000', 'start_date': None, 'points': None, 'time_estimate': None, 'custom_fields': [], 'dependencies': [], 'linked_tasks': [], 'locations': [], 'team_id': '12927880', 'url': 'https://app.clickup.com/t/86a4qp40d', 'sharing': {'public': False, 'public_share_expires_on': None, 'public_fields': ['assignees', 'priority', 'due_date', 'content', 'comments', 'attachments', 'customFields', 'subtasks', 'tags', 'checklists', 'coverimage'], 'token': None, 'seo_optimized': False}, 'permission_level': 'create', 'list': {'id': '901304909413', 'name': 'clickup_agent', 'access': True}, 'project': {'id': '90132806032', 'name': 'agente clickup playgroud (ana beatriz)', 'hidden': False, 'access': True}, 'folder': {'id': '90132806032', 'name': 'agente clickup playgroud (ana beatriz)', 'hidden': False, 'access': True}, 'space': {'id': '54804921'}}, {'id': '86a4qp3w2', 'custom_id': None, 'custom_item_id': 0, 'name': 'Fazer follow up com Jussiane Siqueira', 'text_content': '', 'description': '', 'status': {'status': 'backlog', 'id': 'p54804921_1gR1N0KG', 'color': '#9c09bc', 'type': 'open', 'orderindex': 0}, 'orderindex': '119424797.00000000000000000000000000000000', 'date_created': '1724880549257', 'date_updated': '1724880551958', 'date_closed': None, 'date_done': None, 'archived': False, 'creator': {'id': 84141406, 'username': 'Ana Beatriz', 'color': '#455963', 'email': 'ti@cogmo.com.br', 'profilePicture': 'https://attachments.clickup.com/profilePictures/84141406_ZkZ.jpg'}, 'assignees': [], 'group_assignees': [], 'watchers': [{'id': 84141406, 'username': 'Ana Beatriz', 'color': '#455963', 'initials': 'AB', 'email': 'ti@cogmo.com.br', 'profilePicture': 'https://attachments.clickup.com/profilePictures/84141406_ZkZ.jpg'}], 'checklists': [], 'tags': [], 'parent': None, 'priority': None, 'due_date': '1725174000000', 'start_date': None, 'points': None, 'time_estimate': None, 'custom_fields': [], 'dependencies': [], 'linked_tasks': [], 'locations': [], 'team_id': '12927880', 'url': 'https://app.clickup.com/t/86a4qp3w2', 'sharing': {'public': False, 'public_share_expires_on': None, 'public_fields': ['assignees', 'priority', 'due_date', 'content', 'comments', 'attachments', 'customFields', 'subtasks', 'tags', 'checklists', 'coverimage'], 'token': None, 'seo_optimized': False}, 'permission_level': 'create', 'list': {'id': '901304909413', 'name': 'clickup_agent', 'access': True}, 'project': {'id': '90132806032', 'name': 'agente clickup playgroud (ana beatriz)', 'hidden': False, 'access': True}, 'folder': {'id': '90132806032', 'name': 'agente clickup playgroud (ana beatriz)', 'hidden': False, 'access': True}, 'space': {'id': '54804921'}}, {'id': '86a4qp39v', 'custom_id': None, 'custom_item_id': 0, 'name': 'Fazer follow up com Jussiane Siqueira', 'text_content': '', 'description': '', 'status': {'status': 'backlog', 'id': 'p54804921_1gR1N0KG', 'color': '#9c09bc', 'type': 'open', 'orderindex': 0}, 'orderindex': '119424796.00000000000000000000000000000000', 'date_created': '1724880418229', 'date_updated': '1724880418229', 'date_closed': None, 'date_done': None, 'archived': False, 'creator': {'id': 84141406, 'username': 'Ana Beatriz', 'color': '#455963', 'email': 'ti@cogmo.com.br', 'profilePicture': 'https://attachments.clickup.com/profilePictures/84141406_ZkZ.jpg'}, 'assignees': [], 'group_assignees': [], 'watchers': [{'id': 84141406, 'username': 'Ana Beatriz', 'color': '#455963', 'initials': 'AB', 'email': 'ti@cogmo.com.br', 'profilePicture': 'https://attachments.clickup.com/profilePictures/84141406_ZkZ.jpg'}], 'checklists': [], 'tags': [], 'parent': None, 'priority': None, 'due_date': '1725174000000', 'start_date': None, 'points': None, 'time_estimate': None, 'custom_fields': [], 'dependencies': [], 'linked_tasks': [], 'locations': [], 'team_id': '12927880', 'url': 'https://app.clickup.com/t/86a4qp39v', 'sharing': {'public': False, 'public_share_expires_on': None, 'public_fields': ['assignees', 'priority', 'due_date', 'content', 'comments', 'attachments', 'customFields', 'subtasks', 'tags', 'checklists', 'coverimage'], 'token': None, 'seo_optimized': False}, 'permission_level': 'create', 'list': {'id': '901304909413', 'name': 'clickup_agent', 'access': True}, 'project': {'id': '90132806032', 'name': 'agente clickup playgroud (ana beatriz)', 'hidden': False, 'access': True}, 'folder': {'id': '90132806032', 'name': 'agente clickup playgroud (ana beatriz)', 'hidden': False, 'access': True}, 'space': {'id': '54804921'}}, {'id': '86a4qnyac', 'custom_id': None, 'custom_item_id': 0, 'name': 'Fazer follow up com Jussiane Siqueira', 'text_content': '', 'description': '', 'status': {'status': 'backlog', 'id': 'p54804921_1gR1N0KG', 'color': '#9c09bc', 'type': 'open', 'orderindex': 0}, 'orderindex': '119424795.00000000000000000000000000000000', 'date_created': '1724879515760', 'date_updated': '1724879515760', 'date_closed': None, 'date_done': None, 'archived': False, 'creator': {'id': 84141406, 'username': 'Ana Beatriz', 'color': '#455963', 'email': 'ti@cogmo.com.br', 'profilePicture': 'https://attachments.clickup.com/profilePictures/84141406_ZkZ.jpg'}, 'assignees': [], 'group_assignees': [], 'watchers': [{'id': 84141406, 'username': 'Ana Beatriz', 'color': '#455963', 'initials': 'AB', 'email': 'ti@cogmo.com.br', 'profilePicture': 'https://attachments.clickup.com/profilePictures/84141406_ZkZ.jpg'}], 'checklists': [], 'tags': [], 'parent': None, 'priority': None, 'due_date': '1725174000000', 'start_date': None, 'points': None, 'time_estimate': None, 'custom_fields': [], 'dependencies': [], 'linked_tasks': [], 'locations': [], 'team_id': '12927880', 'url': 'https://app.clickup.com/t/86a4qnyac', 'sharing': {'public': False, 'public_share_expires_on': None, 'public_fields': ['assignees', 'priority', 'due_date', 'content', 'comments', 'attachments', 'customFields', 'subtasks', 'tags', 'checklists', 'coverimage'], 'token': None, 'seo_optimized': False}, 'permission_level': 'create', 'list': {'id': '901304909413', 'name': 'clickup_agent', 'access': True}, 'project': {'id': '90132806032', 'name': 'agente clickup playgroud (ana beatriz)', 'hidden': False, 'access': True}, 'folder': {'id': '90132806032', 'name': 'agente clickup playgroud (ana beatriz)', 'hidden': False, 'access': True}, 'space': {'id': '54804921'}}, {'id': '86a4qny9e', 'custom_id': None, 'custom_item_id': 0, 'name': 'Fazer follow up com Jussiane Siqueira', 'text_content': '', 'description': '', 'status': {'status': 'backlog', 'id': 'p54804921_1gR1N0KG', 'color': '#9c09bc', 'type': 'open', 'orderindex': 0}, 'orderindex': '119424794.00000000000000000000000000000000', 'date_created': '1724879511733', 'date_updated': '1724879511733', 'date_closed': None, 'date_done': None, 'archived': False, 'creator': {'id': 84141406, 'username': 'Ana Beatriz', 'color': '#455963', 'email': 'ti@cogmo.com.br', 'profilePicture': 'https://attachments.clickup.com/profilePictures/84141406_ZkZ.jpg'}, 'assignees': [], 'group_assignees': [], 'watchers': [{'id': 84141406, 'username': 'Ana Beatriz', 'color': '#455963', 'initials': 'AB', 'email': 'ti@cogmo.com.br', 'profilePicture': 'https://attachments.clickup.com/profilePictures/84141406_ZkZ.jpg'}], 'checklists': [], 'tags': [], 'parent': None, 'priority': None, 'due_date': '1725174000000', 'start_date': None, 'points': None, 'time_estimate': None, 'custom_fields': [], 'dependencies': [], 'linked_tasks': [], 'locations': [], 'team_id': '12927880', 'url': 'https://app.clickup.com/t/86a4qny9e', 'sharing': {'public': False, 'public_share_expires_on': None, 'public_fields': ['assignees', 'priority', 'due_date', 'content', 'comments', 'attachments', 'customFields', 'subtasks', 'tags', 'checklists', 'coverimage'], 'token': None, 'seo_optimized': False}, 'permission_level': 'create', 'list': {'id': '901304909413', 'name': 'clickup_agent', 'access': True}, 'project': {'id': '90132806032', 'name': 'agente clickup playgroud (ana beatriz)', 'hidden': False, 'access': True}, 'folder': {'id': '90132806032', 'name': 'agente clickup playgroud (ana beatriz)', 'hidden': False, 'access': True}, 'space': {'id': '54804921'}}, {'id': '86a4qny8t', 'custom_id': None, 'custom_item_id': 0, 'name': 'Fazer follow up com Jussiane Siqueira', 'text_content': '', 'description': '', 'status': {'status': 'backlog', 'id': 'p54804921_1gR1N0KG', 'color': '#9c09bc', 'type': 'open', 'orderindex': 0}, 'orderindex': '119424793.00000000000000000000000000000000', 'date_created': '1724879507235', 'date_updated': '1724879507235', 'date_closed': None, 'date_done': None, 'archived': False, 'creator': {'id': 84141406, 'username': 'Ana Beatriz', 'color': '#455963', 'email': 'ti@cogmo.com.br', 'profilePicture': 'https://attachments.clickup.com/profilePictures/84141406_ZkZ.jpg'}, 'assignees': [], 'group_assignees': [], 'watchers': [{'id': 84141406, 'username': 'Ana Beatriz', 'color': '#455963', 'initials': 'AB', 'email': 'ti@cogmo.com.br', 'profilePicture': 'https://attachments.clickup.com/profilePictures/84141406_ZkZ.jpg'}], 'checklists': [], 'tags': [], 'parent': None, 'priority': None, 'due_date': '1725174000000', 'start_date': None, 'points': None, 'time_estimate': None, 'custom_fields': [], 'dependencies': [], 'linked_tasks': [], 'locations': [], 'team_id': '12927880', 'url': 'https://app.clickup.com/t/86a4qny8t', 'sharing': {'public': False, 'public_share_expires_on': None, 'public_fields': ['assignees', 'priority', 'due_date', 'content', 'comments', 'attachments', 'customFields', 'subtasks', 'tags', 'checklists', 'coverimage'], 'token': None, 'seo_optimized': False}, 'permission_level': 'create', 'list': {'id': '901304909413', 'name': 'clickup_agent', 'access': True}, 'project': {'id': '90132806032', 'name': 'agente clickup playgroud (ana beatriz)', 'hidden': False, 'access': True}, 'folder': {'id': '90132806032', 'name': 'agente clickup playgroud (ana beatriz)', 'hidden': False, 'access': True}, 'space': {'id': '54804921'}}, {'id': '86a4qnvxg', 'custom_id': None, 'custom_item_id': 0, 'name': 'Fazer follow up com Jussiane Siqueira', 'text_content': '', 'description': '', 'status': {'status': 'backlog', 'id': 'p54804921_1gR1N0KG', 'color': '#9c09bc', 'type': 'open', 'orderindex': 0}, 'orderindex': '119424792.00000000000000000000000000000000', 'date_created': '1724879234553', 'date_updated': '1724879234553', 'date_closed': None, 'date_done': None, 'archived': False, 'creator': {'id': 84141406, 'username': 'Ana Beatriz', 'color': '#455963', 'email': 'ti@cogmo.com.br', 'profilePicture': 'https://attachments.clickup.com/profilePictures/84141406_ZkZ.jpg'}, 'assignees': [], 'group_assignees': [], 'watchers': [{'id': 84141406, 'username': 'Ana Beatriz', 'color': '#455963', 'initials': 'AB', 'email': 'ti@cogmo.com.br', 'profilePicture': 'https://attachments.clickup.com/profilePictures/84141406_ZkZ.jpg'}], 'checklists': [], 'tags': [], 'parent': None, 'priority': None, 'due_date': '1724914800000', 'start_date': None, 'points': None, 'time_estimate': None, 'custom_fields': [], 'dependencies': [], 'linked_tasks': [], 'locations': [], 'team_id': '12927880', 'url': 'https://app.clickup.com/t/86a4qnvxg', 'sharing': {'public': False, 'public_share_expires_on': None, 'public_fields': ['assignees', 'priority', 'due_date', 'content', 'comments', 'attachments', 'customFields', 'subtasks', 'tags', 'checklists', 'coverimage'], 'token': None, 'seo_optimized': False}, 'permission_level': 'create', 'list': {'id': '901304909413', 'name': 'clickup_agent', 'access': True}, 'project': {'id': '90132806032', 'name': 'agente clickup playgroud (ana beatriz)', 'hidden': False, 'access': True}, 'folder': {'id': '90132806032', 'name': 'agente clickup playgroud (ana beatriz)', 'hidden': False, 'access': True}, 'space': {'id': '54804921'}}, {'id': '86a4qmd3x', 'custom_id': None, 'custom_item_id': 0, 'name': 'Fazer follow up com Jussiane Siqueira', 'text_content': '', 'description': '', 'status': {'status': 'backlog', 'id': 'p54804921_1gR1N0KG', 'color': '#9c09bc', 'type': 'open', 'orderindex': 0}, 'orderindex': '119424791.00000000000000000000000000000000', 'date_created': '1724874718882', 'date_updated': '1724874722450', 'date_closed': None, 'date_done': None, 'archived': False, 'creator': {'id': 84141406, 'username': 'Ana Beatriz', 'color': '#455963', 'email': 'ti@cogmo.com.br', 'profilePicture': 'https://attachments.clickup.com/profilePictures/84141406_ZkZ.jpg'}, 'assignees': [], 'group_assignees': [], 'watchers': [{'id': 84141406, 'username': 'Ana Beatriz', 'color': '#455963', 'initials': 'AB', 'email': 'ti@cogmo.com.br', 'profilePicture': 'https://attachments.clickup.com/profilePictures/84141406_ZkZ.jpg'}], 'checklists': [], 'tags': [], 'parent': None, 'priority': None, 'due_date': '1724914800000', 'start_date': None, 'points': None, 'time_estimate': None, 'custom_fields': [], 'dependencies': [], 'linked_tasks': [], 'locations': [], 'team_id': '12927880', 'url': 'https://app.clickup.com/t/86a4qmd3x', 'sharing': {'public': False, 'public_share_expires_on': None, 'public_fields': ['assignees', 'priority', 'due_date', 'content', 'comments', 'attachments', 'customFields', 'subtasks', 'tags', 'checklists', 'coverimage'], 'token': None, 'seo_optimized': False}, 'permission_level': 'create', 'list': {'id': '901304909413', 'name': 'clickup_agent', 'access': True}, 'project': {'id': '90132806032', 'name': 'agente clickup playgroud (ana beatriz)', 'hidden': False, 'access': True}, 'folder': {'id': '90132806032', 'name': 'agente clickup playgroud (ana beatriz)', 'hidden': False, 'access': True}, 'space': {'id': '54804921'}}, {'id': '86a4q650q', 'custom_id': None, 'custom_item_id': 0, 'name': 'Tarefa Exemplo', 'text_content': '', 'description': '', 'status': {'status': 'testing', 'id': 'p54804921_oYhO88Lm', 'color': '#d33d44', 'type': 'custom', 'orderindex': 3}, 'orderindex': '119424778.00000000000000000000000000000000', 'date_created': '1724797264500', 'date_updated': '1724797264500', 'date_closed': None, 'date_done': None, 'archived': False, 'creator': {'id': 82061927, 'username': 'Rafael Alves Magalhães', 'color': '', 'email': 'magalhaesrafael07@gmail.com', 'profilePicture': None}, 'assignees': [], 'group_assignees': [], 'watchers': [{'id': 82061927, 'username': 'Rafael Alves Magalhães', 'color': '', 'initials': 'RM', 'email': 'magalhaesrafael07@gmail.com', 'profilePicture': None}], 'checklists': [], 'tags': [], 'parent': None, 'priority': None, 'due_date': None, 'start_date': None, 'points': None, 'time_estimate': None, 'custom_fields': [], 'dependencies': [{'task_id': '86a4dv68f', 'depends_on': '86a4q650q', 'type': 1, 'date_created': '1724961508860', 'userid': '84141406', 'workspace_id': '12927880', 'chain_id': None}], 'linked_tasks': [], 'locations': [], 'team_id': '12927880', 'url': 'https://app.clickup.com/t/86a4q650q', 'sharing': {'public': False, 'public_share_expires_on': None, 'public_fields': ['assignees', 'priority', 'due_date', 'content', 'comments', 'attachments', 'customFields', 'subtasks', 'tags', 'checklists', 'coverimage'], 'token': None, 'seo_optimized': False}, 'permission_level': 'create', 'list': {'id': '901304909413', 'name': 'clickup_agent', 'access': True}, 'project': {'id': '90132806032', 'name': 'agente clickup playgroud (ana beatriz)', 'hidden': False, 'access': True}, 'folder': {'id': '90132806032', 'name': 'agente clickup playgroud (ana beatriz)', 'hidden': False, 'access': True}, 'space': {'id': '54804921'}}, {'id': '86a4q63w3', 'custom_id': None, 'custom_item_id': 0, 'name': 'Dummy Task 2', 'text_content': '', 'description': '', 'status': {'status': 'backlog', 'id': 'p54804921_1gR1N0KG', 'color': '#9c09bc', 'type': 'open', 'orderindex': 0}, 'orderindex': '119424777.00000000000000000000000000000000', 'date_created': '1724797022304', 'date_updated': '1724797022304', 'date_closed': None, 'date_done': None, 'archived': False, 'creator': {'id': 82061927, 'username': 'Rafael Alves Magalhães', 'color': '', 'email': 'magalhaesrafael07@gmail.com', 'profilePicture': None}, 'assignees': [], 'group_assignees': [], 'watchers': [{'id': 82061927, 'username': 'Rafael Alves Magalhães', 'color': '', 'initials': 'RM', 'email': 'magalhaesrafael07@gmail.com', 'profilePicture': None}], 'checklists': [], 'tags': [], 'parent': None, 'priority': None, 'due_date': None, 'start_date': None, 'points': None, 'time_estimate': None, 'custom_fields': [], 'dependencies': [], 'linked_tasks': [], 'locations': [], 'team_id': '12927880', 'url': 'https://app.clickup.com/t/86a4q63w3', 'sharing': {'public': False, 'public_share_expires_on': None, 'public_fields': ['assignees', 'priority', 'due_date', 'content', 'comments', 'attachments', 'customFields', 'subtasks', 'tags', 'checklists', 'coverimage'], 'token': None, 'seo_optimized': False}, 'permission_level': 'create', 'list': {'id': '901304909413', 'name': 'clickup_agent', 'access': True}, 'project': {'id': '90132806032', 'name': 'agente clickup playgroud (ana beatriz)', 'hidden': False, 'access': True}, 'folder': {'id': '90132806032', 'name': 'agente clickup playgroud (ana beatriz)', 'hidden': False, 'access': True}, 'space': {'id': '54804921'}}, {'id': '86a4q63vx', 'custom_id': None, 'custom_item_id': 0, 'name': 'Dummy Task 1', 'text_content': '', 'description': '', 'status': {'status': 'backlog', 'id': 'p54804921_1gR1N0KG', 'color': '#9c09bc', 'type': 'open', 'orderindex': 0}, 'orderindex': '119424776.00000000000000000000000000000000', 'date_created': '1724797017247', 'date_updated': '1724798383471', 'date_closed': None, 'date_done': None, 'archived': False, 'creator': {'id': 82061927, 'username': 'Rafael Alves Magalhães', 'color': '', 'email': 'magalhaesrafael07@gmail.com', 'profilePicture': None}, 'assignees': [], 'group_assignees': [], 'watchers': [{'id': 82061927, 'username': 'Rafael Alves Magalhães', 'color': '', 'initials': 'RM', 'email': 'magalhaesrafael07@gmail.com', 'profilePicture': None}], 'checklists': [], 'tags': [], 'parent': None, 'priority': None, 'due_date': '1727593200000', 'start_date': None, 'points': None, 'time_estimate': None, 'custom_fields': [], 'dependencies': [], 'linked_tasks': [], 'locations': [], 'team_id': '12927880', 'url': 'https://app.clickup.com/t/86a4q63vx', 'sharing': {'public': False, 'public_share_expires_on': None, 'public_fields': ['assignees', 'priority', 'due_date', 'content', 'comments', 'attachments', 'customFields', 'subtasks', 'tags', 'checklists', 'coverimage'], 'token': None, 'seo_optimized': False}, 'permission_level': 'create', 'list': {'id': '901304909413', 'name': 'clickup_agent', 'access': True}, 'project': {'id': '90132806032', 'name': 'agente clickup playgroud (ana beatriz)', 'hidden': False, 'access': True}, 'folder': {'id': '90132806032', 'name': 'agente clickup playgroud (ana beatriz)', 'hidden': False, 'access': True}, 'space': {'id': '54804921'}}, {'id': '86a4q63th', 'custom_id': None, 'custom_item_id': 0, 'name': '(2024-08-27 19:16:06.257577): ALVENARIA', 'text_content': '', 'description': '', 'status': {'status': 'backlog', 'id': 'p54804921_1gR1N0KG', 'color': '#9c09bc', 'type': 'open', 'orderindex': 0}, 'orderindex': '119424775.00000000000000000000000000000000', 'date_created': '1724796976922', 'date_updated': '1724796976922', 'date_closed': None, 'date_done': None, 'archived': False, 'creator': {'id': 82061927, 'username': 'Rafael Alves Magalhães', 'color': '', 'email': 'magalhaesrafael07@gmail.com', 'profilePicture': None}, 'assignees': [], 'group_assignees': [], 'watchers': [{'id': 82061927, 'username': 'Rafael Alves Magalhães', 'color': '', 'initials': 'RM', 'email': 'magalhaesrafael07@gmail.com', 'profilePicture': None}], 'checklists': [], 'tags': [], 'parent': None, 'priority': None, 'due_date': None, 'start_date': None, 'points': None, 'time_estimate': None, 'custom_fields': [], 'dependencies': [{'task_id': '86a4q63th', 'depends_on': '86a4q63td', 'type': 1, 'date_created': '1724796979874', 'userid': '82061927', 'workspace_id': '12927880', 'chain_id': None}], 'linked_tasks': [], 'locations': [], 'team_id': '12927880', 'url': 'https://app.clickup.com/t/86a4q63th', 'sharing': {'public': False, 'public_share_expires_on': None, 'public_fields': ['assignees', 'priority', 'due_date', 'content', 'comments', 'attachments', 'customFields', 'subtasks', 'tags', 'checklists', 'coverimage'], 'token': None, 'seo_optimized': False}, 'permission_level': 'create', 'list': {'id': '901304909413', 'name': 'clickup_agent', 'access': True}, 'project': {'id': '90132806032', 'name': 'agente clickup playgroud (ana beatriz)', 'hidden': False, 'access': True}, 'folder': {'id': '90132806032', 'name': 'agente clickup playgroud (ana beatriz)', 'hidden': False, 'access': True}, 'space': {'id': '54804921'}}, {'id': '86a4q63td', 'custom_id': None, 'custom_item_id': 0, 'name': '(2024-08-27 19:16:06.257577): FUNDAÇÃO', 'text_content': '', 'description': '', 'status': {'status': 'backlog', 'id': 'p54804921_1gR1N0KG', 'color': '#9c09bc', 'type': 'open', 'orderindex': 0}, 'orderindex': '119424774.00000000000000000000000000000000', 'date_created': '1724796974869', 'date_updated': '1724796974869', 'date_closed': None, 'date_done': None, 'archived': False, 'creator': {'id': 82061927, 'username': 'Rafael Alves Magalhães', 'color': '', 'email': 'magalhaesrafael07@gmail.com', 'profilePicture': None}, 'assignees': [], 'group_assignees': [], 'watchers': [{'id': 82061927, 'username': 'Rafael Alves Magalhães', 'color': '', 'initials': 'RM', 'email': 'magalhaesrafael07@gmail.com', 'profilePicture': None}], 'checklists': [], 'tags': [], 'parent': None, 'priority': None, 'due_date': None, 'start_date': None, 'points': None, 'time_estimate': None, 'custom_fields': [], 'dependencies': [{'task_id': '86a4q63th', 'depends_on': '86a4q63td', 'type': 1, 'date_created': '1724796979874', 'userid': '82061927', 'workspace_id': '12927880', 'chain_id': None}], 'linked_tasks': [], 'locations': [], 'team_id': '12927880', 'url': 'https://app.clickup.com/t/86a4q63td', 'sharing': {'public': False, 'public_share_expires_on': None, 'public_fields': ['assignees', 'priority', 'due_date', 'content', 'comments', 'attachments', 'customFields', 'subtasks', 'tags', 'checklists', 'coverimage'], 'token': None, 'seo_optimized': False}, 'permission_level': 'create', 'list': {'id': '901304909413', 'name': 'clickup_agent', 'access': True}, 'project': {'id': '90132806032', 'name': 'agente clickup playgroud (ana beatriz)', 'hidden': False, 'access': True}, 'folder': {'id': '90132806032', 'name': 'agente clickup playgroud (ana beatriz)', 'hidden': False, 'access': True}, 'space': {'id': '54804921'}}, {'id': '86a4q63ry', 'custom_id': None, 'custom_item_id': 0, 'name': '(2024-08-27 19:16:06.257577): NOVO TESTE BEM SUCEDIDO', 'text_content': '', 'description': '', 'status': {'status': 'backlog', 'id': 'p54804921_1gR1N0KG', 'color': '#9c09bc', 'type': 'open', 'orderindex': 0}, 'orderindex': '119424773.00000000000000000000000000000000', 'date_created': '1724796969535', 'date_updated': '1724796969535', 'date_closed': None, 'date_done': None, 'archived': False, 'creator': {'id': 82061927, 'username': 'Rafael Alves Magalhães', 'color': '', 'email': 'magalhaesrafael07@gmail.com', 'profilePicture': None}, 'assignees': [], 'group_assignees': [], 'watchers': [{'id': 82061927, 'username': 'Rafael Alves Magalhães', 'color': '', 'initials': 'RM', 'email': 'magalhaesrafael07@gmail.com', 'profilePicture': None}], 'checklists': [], 'tags': [], 'parent': None, 'priority': None, 'due_date': None, 'start_date': None, 'points': None, 'time_estimate': None, 'custom_fields': [], 'dependencies': [], 'linked_tasks': [], 'locations': [], 'team_id': '12927880', 'url': 'https://app.clickup.com/t/86a4q63ry', 'sharing': {'public': False, 'public_share_expires_on': None, 'public_fields': ['assignees', 'priority', 'due_date', 'content', 'comments', 'attachments', 'customFields', 'subtasks', 'tags', 'checklists', 'coverimage'], 'token': None, 'seo_optimized': False}, 'permission_level': 'create', 'list': {'id': '901304909413', 'name': 'clickup_agent', 'access': True}, 'project': {'id': '90132806032', 'name': 'agente clickup playgroud (ana beatriz)', 'hidden': False, 'access': True}, 'folder': {'id': '90132806032', 'name': 'agente clickup playgroud (ana beatriz)', 'hidden': False, 'access': True}, 'space': {'id': '54804921'}}, {'id': '86a4q5wyp', 'custom_id': None, 'custom_item_id': 0, 'name': '(2024-08-27 19:04:29.560449): NOVÍSSIMO TESTE BEM SUCEDIDO', 'text_content': '', 'description': '', 'status': {'status': 'backlog', 'id': 'p54804921_1gR1N0KG', 'color': '#9c09bc', 'type': 'open', 'orderindex': 0}, 'orderindex': '119424772.00000000000000000000000000000000', 'date_created': '1724796272206', 'date_updated': '1724796272206', 'date_closed': None, 'date_done': None, 'archived': False, 'creator': {'id': 82061927, 'username': 'Rafael Alves Magalhães', 'color': '', 'email': 'magalhaesrafael07@gmail.com', 'profilePicture': None}, 'assignees': [], 'group_assignees': [], 'watchers': [{'id': 82061927, 'username': 'Rafael Alves Magalhães', 'color': '', 'initials': 'RM', 'email': 'magalhaesrafael07@gmail.com', 'profilePicture': None}], 'checklists': [], 'tags': [], 'parent': None, 'priority': None, 'due_date': None, 'start_date': None, 'points': None, 'time_estimate': None, 'custom_fields': [], 'dependencies': [], 'linked_tasks': [], 'locations': [], 'team_id': '12927880', 'url': 'https://app.clickup.com/t/86a4q5wyp', 'sharing': {'public': False, 'public_share_expires_on': None, 'public_fields': ['assignees', 'priority', 'due_date', 'content', 'comments', 'attachments', 'customFields', 'subtasks', 'tags', 'checklists', 'coverimage'], 'token': None, 'seo_optimized': False}, 'permission_level': 'create', 'list': {'id': '901304909413', 'name': 'clickup_agent', 'access': True}, 'project': {'id': '90132806032', 'name': 'agente clickup playgroud (ana beatriz)', 'hidden': False, 'access': True}, 'folder': {'id': '90132806032', 'name': 'agente clickup playgroud (ana beatriz)', 'hidden': False, 'access': True}, 'space': {'id': '54804921'}}, {'id': '86a4q5wm2', 'custom_id': None, 'custom_item_id': 0, 'name': '(2024-08-27 19:03:52.393435): ALVENARIA', 'text_content': '', 'description': '', 'status': {'status': 'backlog', 'id': 'p54804921_1gR1N0KG', 'color': '#9c09bc', 'type': 'open', 'orderindex': 0}, 'orderindex': '119424771.00000000000000000000000000000000', 'date_created': '1724796246591', 'date_updated': '1724796246591', 'date_closed': None, 'date_done': None, 'archived': False, 'creator': {'id': 82061927, 'username': 'Rafael Alves Magalhães', 'color': '', 'email': 'magalhaesrafael07@gmail.com', 'profilePicture': None}, 'assignees': [], 'group_assignees': [], 'watchers': [{'id': 82061927, 'username': 'Rafael Alves Magalhães', 'color': '', 'initials': 'RM', 'email': 'magalhaesrafael07@gmail.com', 'profilePicture': None}], 'checklists': [], 'tags': [], 'parent': None, 'priority': None, 'due_date': None, 'start_date': None, 'points': None, 'time_estimate': None, 'custom_fields': [], 'dependencies': [], 'linked_tasks': [], 'locations': [], 'team_id': '12927880', 'url': 'https://app.clickup.com/t/86a4q5wm2', 'sharing': {'public': False, 'public_share_expires_on': None, 'public_fields': ['assignees', 'priority', 'due_date', 'content', 'comments', 'attachments', 'customFields', 'subtasks', 'tags', 'checklists', 'coverimage'], 'token': None, 'seo_optimized': False}, 'permission_level': 'create', 'list': {'id': '901304909413', 'name': 'clickup_agent', 'access': True}, 'project': {'id': '90132806032', 'name': 'agente clickup playgroud (ana beatriz)', 'hidden': False, 'access': True}, 'folder': {'id': '90132806032', 'name': 'agente clickup playgroud (ana beatriz)', 'hidden': False, 'access': True}, 'space': {'id': '54804921'}}, {'id': '86a4q5wk5', 'custom_id': None, 'custom_item_id': 0, 'name': '(2024-08-27 19:03:52.393435): FUNDAÇÃO', 'text_content': '', 'description': '', 'status': {'status': 'backlog', 'id': 'p54804921_1gR1N0KG', 'color': '#9c09bc', 'type': 'open', 'orderindex': 0}, 'orderindex': '119424770.00000000000000000000000000000000', 'date_created': '1724796244589', 'date_updated': '1724796244589', 'date_closed': None, 'date_done': None, 'archived': False, 'creator': {'id': 82061927, 'username': 'Rafael Alves Magalhães', 'color': '', 'email': 'magalhaesrafael07@gmail.com', 'profilePicture': None}, 'assignees': [], 'group_assignees': [], 'watchers': [{'id': 82061927, 'username': 'Rafael Alves Magalhães', 'color': '', 'initials': 'RM', 'email': 'magalhaesrafael07@gmail.com', 'profilePicture': None}], 'checklists': [], 'tags': [], 'parent': None, 'priority': None, 'due_date': None, 'start_date': None, 'points': None, 'time_estimate': None, 'custom_fields': [], 'dependencies': [{'task_id': '86a4q5jzb', 'depends_on': '86a4q5wk5', 'type': 1, 'date_created': '1724796718750', 'userid': '84141406', 'workspace_id': '12927880', 'chain_id': None}], 'linked_tasks': [], 'locations': [], 'team_id': '12927880', 'url': 'https://app.clickup.com/t/86a4q5wk5', 'sharing': {'public': False, 'public_share_expires_on': None, 'public_fields': ['assignees', 'priority', 'due_date', 'content', 'comments', 'attachments', 'customFields', 'subtasks', 'tags', 'checklists', 'coverimage'], 'token': None, 'seo_optimized': False}, 'permission_level': 'create', 'list': {'id': '901304909413', 'name': 'clickup_agent', 'access': True}, 'project': {'id': '90132806032', 'name': 'agente clickup playgroud (ana beatriz)', 'hidden': False, 'access': True}, 'folder': {'id': '90132806032', 'name': 'agente clickup playgroud (ana beatriz)', 'hidden': False, 'access': True}, 'space': {'id': '54804921'}}, {'id': '86a4q5wgm', 'custom_id': None, 'custom_item_id': 0, 'name': '(2024-08-27 19:03:52.393435): NOVO TESTE BEM SUCEDIDO', 'text_content': '', 'description': '', 'status': {'status': 'backlog', 'id': 'p54804921_1gR1N0KG', 'color': '#9c09bc', 'type': 'open', 'orderindex': 0}, 'orderindex': '119424769.00000000000000000000000000000000', 'date_created': '1724796237761', 'date_updated': '1724796237761', 'date_closed': None, 'date_done': None, 'archived': False, 'creator': {'id': 82061927, 'username': 'Rafael Alves Magalhães', 'color': '', 'email': 'magalhaesrafael07@gmail.com', 'profilePicture': None}, 'assignees': [], 'group_assignees': [], 'watchers': [{'id': 82061927, 'username': 'Rafael Alves Magalhães', 'color': '', 'initials': 'RM', 'email': 'magalhaesrafael07@gmail.com', 'profilePicture': None}], 'checklists': [], 'tags': [], 'parent': None, 'priority': None, 'due_date': None, 'start_date': None, 'points': None, 'time_estimate': None, 'custom_fields': [], 'dependencies': [], 'linked_tasks': [], 'locations': [], 'team_id': '12927880', 'url': 'https://app.clickup.com/t/86a4q5wgm', 'sharing': {'public': False, 'public_share_expires_on': None, 'public_fields': ['assignees', 'priority', 'due_date', 'content', 'comments', 'attachments', 'customFields', 'subtasks', 'tags', 'checklists', 'coverimage'], 'token': None, 'seo_optimized': False}, 'permission_level': 'create', 'list': {'id': '901304909413', 'name': 'clickup_agent', 'access': True}, 'project': {'id': '90132806032', 'name': 'agente clickup playgroud (ana beatriz)', 'hidden': False, 'access': True}, 'folder': {'id': '90132806032', 'name': 'agente clickup playgroud (ana beatriz)', 'hidden': False, 'access': True}, 'space': {'id': '54804921'}}, {'id': '86a4q5uy9', 'custom_id': None, 'custom_item_id': 0, 'name': '(2024-08-27 19:01:36.986836): NOVÍSSIMO TESTE BEM SUCEDIDO', 'text_content': '', 'description': '', 'status': {'status': 'backlog', 'id': 'p54804921_1gR1N0KG', 'color': '#9c09bc', 'type': 'open', 'orderindex': 0}, 'orderindex': '119424768.00000000000000000000000000000000', 'date_created': '1724796100244', 'date_updated': '1724796100244', 'date_closed': None, 'date_done': None, 'archived': False, 'creator': {'id': 82061927, 'username': 'Rafael Alves Magalhães', 'color': '', 'email': 'magalhaesrafael07@gmail.com', 'profilePicture': None}, 'assignees': [], 'group_assignees': [], 'watchers': [{'id': 82061927, 'username': 'Rafael Alves Magalhães', 'color': '', 'initials': 'RM', 'email': 'magalhaesrafael07@gmail.com', 'profilePicture': None}], 'checklists': [], 'tags': [], 'parent': None, 'priority': None, 'due_date': None, 'start_date': None, 'points': None, 'time_estimate': None, 'custom_fields': [], 'dependencies': [], 'linked_tasks': [], 'locations': [], 'team_id': '12927880', 'url': 'https://app.clickup.com/t/86a4q5uy9', 'sharing': {'public': False, 'public_share_expires_on': None, 'public_fields': ['assignees', 'priority', 'due_date', 'content', 'comments', 'attachments', 'customFields', 'subtasks', 'tags', 'checklists', 'coverimage'], 'token': None, 'seo_optimized': False}, 'permission_level': 'create', 'list': {'id': '901304909413', 'name': 'clickup_agent', 'access': True}, 'project': {'id': '90132806032', 'name': 'agente clickup playgroud (ana beatriz)', 'hidden': False, 'access': True}, 'folder': {'id': '90132806032', 'name': 'agente clickup playgroud (ana beatriz)', 'hidden': False, 'access': True}, 'space': {'id': '54804921'}}, {'id': '86a4q5pmk', 'custom_id': None, 'custom_item_id': 0, 'name': '(2024-08-27 18:53:56.810531): ALVENARIA', 'text_content': '', 'description': '', 'status': {'status': 'backlog', 'id': 'p54804921_1gR1N0KG', 'color': '#9c09bc', 'type': 'open', 'orderindex': 0}, 'orderindex': '119424765.00000000000000000000000000000000', 'date_created': '1724795647968', 'date_updated': '1724795647968', 'date_closed': None, 'date_done': None, 'archived': False, 'creator': {'id': 82061927, 'username': 'Rafael Alves Magalhães', 'color': '', 'email': 'magalhaesrafael07@gmail.com', 'profilePicture': None}, 'assignees': [], 'group_assignees': [], 'watchers': [{'id': 82061927, 'username': 'Rafael Alves Magalhães', 'color': '', 'initials': 'RM', 'email': 'magalhaesrafael07@gmail.com', 'profilePicture': None}], 'checklists': [], 'tags': [], 'parent': None, 'priority': None, 'due_date': None, 'start_date': None, 'points': None, 'time_estimate': None, 'custom_fields': [], 'dependencies': [], 'linked_tasks': [], 'locations': [], 'team_id': '12927880', 'url': 'https://app.clickup.com/t/86a4q5pmk', 'sharing': {'public': False, 'public_share_expires_on': None, 'public_fields': ['assignees', 'priority', 'due_date', 'content', 'comments', 'attachments', 'customFields', 'subtasks', 'tags', 'checklists', 'coverimage'], 'token': None, 'seo_optimized': False}, 'permission_level': 'create', 'list': {'id': '901304909413', 'name': 'clickup_agent', 'access': True}, 'project': {'id': '90132806032', 'name': 'agente clickup playgroud (ana beatriz)', 'hidden': False, 'access': True}, 'folder': {'id': '90132806032', 'name': 'agente clickup playgroud (ana beatriz)', 'hidden': False, 'access': True}, 'space': {'id': '54804921'}}, {'id': '86a4q5pkj', 'custom_id': None, 'custom_item_id': 0, 'name': '(2024-08-27 18:53:56.810531): FUNDAÇÃO', 'text_content': '', 'description': '', 'status': {'status': 'backlog', 'id': 'p54804921_1gR1N0KG', 'color': '#9c09bc', 'type': 'open', 'orderindex': 0}, 'orderindex': '119424764.00000000000000000000000000000000', 'date_created': '1724795645635', 'date_updated': '1724795645635', 'date_closed': None, 'date_done': None, 'archived': False, 'creator': {'id': 82061927, 'username': 'Rafael Alves Magalhães', 'color': '', 'email': 'magalhaesrafael07@gmail.com', 'profilePicture': None}, 'assignees': [], 'group_assignees': [], 'watchers': [{'id': 82061927, 'username': 'Rafael Alves Magalhães', 'color': '', 'initials': 'RM', 'email': 'magalhaesrafael07@gmail.com', 'profilePicture': None}], 'checklists': [], 'tags': [], 'parent': None, 'priority': None, 'due_date': None, 'start_date': None, 'points': None, 'time_estimate': None, 'custom_fields': [], 'dependencies': [], 'linked_tasks': [], 'locations': [], 'team_id': '12927880', 'url': 'https://app.clickup.com/t/86a4q5pkj', 'sharing': {'public': False, 'public_share_expires_on': None, 'public_fields': ['assignees', 'priority', 'due_date', 'content', 'comments', 'attachments', 'customFields', 'subtasks', 'tags', 'checklists', 'coverimage'], 'token': None, 'seo_optimized': False}, 'permission_level': 'create', 'list': {'id': '901304909413', 'name': 'clickup_agent', 'access': True}, 'project': {'id': '90132806032', 'name': 'agente clickup playgroud (ana beatriz)', 'hidden': False, 'access': True}, 'folder': {'id': '90132806032', 'name': 'agente clickup playgroud (ana beatriz)', 'hidden': False, 'access': True}, 'space': {'id': '54804921'}}, {'id': '86a4q5pg8', 'custom_id': None, 'custom_item_id': 0, 'name': '(2024-08-27 18:53:56.810531): NOVO TESTE BEM SUCEDIDO', 'text_content': '', 'description': '', 'status': {'status': 'backlog', 'id': 'p54804921_1gR1N0KG', 'color': '#9c09bc', 'type': 'open', 'orderindex': 0}, 'orderindex': '119424763.00000000000000000000000000000000', 'date_created': '1724795640384', 'date_updated': '1724795640384', 'date_closed': None, 'date_done': None, 'archived': False, 'creator': {'id': 82061927, 'username': 'Rafael Alves Magalhães', 'color': '', 'email': 'magalhaesrafael07@gmail.com', 'profilePicture': None}, 'assignees': [], 'group_assignees': [], 'watchers': [{'id': 82061927, 'username': 'Rafael Alves Magalhães', 'color': '', 'initials': 'RM', 'email': 'magalhaesrafael07@gmail.com', 'profilePicture': None}], 'checklists': [], 'tags': [], 'parent': None, 'priority': None, 'due_date': None, 'start_date': None, 'points': None, 'time_estimate': None, 'custom_fields': [], 'dependencies': [], 'linked_tasks': [], 'locations': [], 'team_id': '12927880', 'url': 'https://app.clickup.com/t/86a4q5pg8', 'sharing': {'public': False, 'public_share_expires_on': None, 'public_fields': ['assignees', 'priority', 'due_date', 'content', 'comments', 'attachments', 'customFields', 'subtasks', 'tags', 'checklists', 'coverimage'], 'token': None, 'seo_optimized': False}, 'permission_level': 'create', 'list': {'id': '901304909413', 'name': 'clickup_agent', 'access': True}, 'project': {'id': '90132806032', 'name': 'agente clickup playgroud (ana beatriz)', 'hidden': False, 'access': True}, 'folder': {'id': '90132806032', 'name': 'agente clickup playgroud (ana beatriz)', 'hidden': False, 'access': True}, 'space': {'id': '54804921'}}, {'id': '86a4q5jzb', 'custom_id': None, 'custom_item_id': 0, 'name': '(2024-08-27 18:48:25.780898): ALVENARIA', 'text_content': '', 'description': '', 'status': {'status': 'backlog', 'id': 'p54804921_1gR1N0KG', 'color': '#9c09bc', 'type': 'open', 'orderindex': 0}, 'orderindex': '119424762.00000000000000000000000000000000', 'date_created': '1724795322464', 'date_updated': '1724797708937', 'date_closed': None, 'date_done': None, 'archived': False, 'creator': {'id': 82061927, 'username': 'Rafael Alves Magalhães', 'color': '', 'email': 'magalhaesrafael07@gmail.com', 'profilePicture': None}, 'assignees': [], 'group_assignees': [], 'watchers': [{'id': 82061927, 'username': 'Rafael Alves Magalhães', 'color': '', 'initials': 'RM', 'email': 'magalhaesrafael07@gmail.com', 'profilePicture': None}], 'checklists': [], 'tags': [], 'parent': None, 'priority': None, 'due_date': '1724742000000', 'start_date': None, 'points': None, 'time_estimate': None, 'custom_fields': [], 'dependencies': [{'task_id': '86a4q5jzb', 'depends_on': '86a4q5jyh', 'type': 1, 'date_created': '1724796846663', 'userid': '82061927', 'workspace_id': '12927880', 'chain_id': None}, {'task_id': '86a4q5jzb', 'depends_on': '86a4q5wk5', 'type': 1, 'date_created': '1724796718750', 'userid': '84141406', 'workspace_id': '12927880', 'chain_id': None}], 'linked_tasks': [], 'locations': [], 'team_id': '12927880', 'url': 'https://app.clickup.com/t/86a4q5jzb', 'sharing': {'public': False, 'public_share_expires_on': None, 'public_fields': ['assignees', 'priority', 'due_date', 'content', 'comments', 'attachments', 'customFields', 'subtasks', 'tags', 'checklists', 'coverimage'], 'token': None, 'seo_optimized': False}, 'permission_level': 'create', 'list': {'id': '901304909413', 'name': 'clickup_agent', 'access': True}, 'project': {'id': '90132806032', 'name': 'agente clickup playgroud (ana beatriz)', 'hidden': False, 'access': True}, 'folder': {'id': '90132806032', 'name': 'agente clickup playgroud (ana beatriz)', 'hidden': False, 'access': True}, 'space': {'id': '54804921'}}, {'id': '86a4q5jyh', 'custom_id': None, 'custom_item_id': 0, 'name': '(2024-08-27 18:48:25.780898): FUNDAÇÃO', 'text_content': '', 'description': '', 'status': {'status': 'backlog', 'id': 'p54804921_1gR1N0KG', 'color': '#9c09bc', 'type': 'open', 'orderindex': 0}, 'orderindex': '119424761.00000000000000000000000000000000', 'date_created': '1724795320296', 'date_updated': '1724795320296', 'date_closed': None, 'date_done': None, 'archived': False, 'creator': {'id': 82061927, 'username': 'Rafael Alves Magalhães', 'color': '', 'email': 'magalhaesrafael07@gmail.com', 'profilePicture': None}, 'assignees': [], 'group_assignees': [], 'watchers': [{'id': 82061927, 'username': 'Rafael Alves Magalhães', 'color': '', 'initials': 'RM', 'email': 'magalhaesrafael07@gmail.com', 'profilePicture': None}], 'checklists': [], 'tags': [], 'parent': None, 'priority': None, 'due_date': None, 'start_date': None, 'points': None, 'time_estimate': None, 'custom_fields': [], 'dependencies': [{'task_id': '86a4q5jzb', 'depends_on': '86a4q5jyh', 'type': 1, 'date_created': '1724796846663', 'userid': '82061927', 'workspace_id': '12927880', 'chain_id': None}], 'linked_tasks': [], 'locations': [], 'team_id': '12927880', 'url': 'https://app.clickup.com/t/86a4q5jyh', 'sharing': {'public': False, 'public_share_expires_on': None, 'public_fields': ['assignees', 'priority', 'due_date', 'content', 'comments', 'attachments', 'customFields', 'subtasks', 'tags', 'checklists', 'coverimage'], 'token': None, 'seo_optimized': False}, 'permission_level': 'create', 'list': {'id': '901304909413', 'name': 'clickup_agent', 'access': True}, 'project': {'id': '90132806032', 'name': 'agente clickup playgroud (ana beatriz)', 'hidden': False, 'access': True}, 'folder': {'id': '90132806032', 'name': 'agente clickup playgroud (ana beatriz)', 'hidden': False, 'access': True}, 'space': {'id': '54804921'}}, {'id': '86a4q5jvz', 'custom_id': None, 'custom_item_id': 0, 'name': '(2024-08-27 18:48:25.780898): NOVO TESTE BEM SUCEDIDO', 'text_content': '', 'description': '', 'status': {'status': 'backlog', 'id': 'p54804921_1gR1N0KG', 'color': '#9c09bc', 'type': 'open', 'orderindex': 0}, 'orderindex': '119424760.00000000000000000000000000000000', 'date_created': '1724795312345', 'date_updated': '1724795312345', 'date_closed': None, 'date_done': None, 'archived': False, 'creator': {'id': 82061927, 'username': 'Rafael Alves Magalhães', 'color': '', 'email': 'magalhaesrafael07@gmail.com', 'profilePicture': None}, 'assignees': [], 'group_assignees': [], 'watchers': [{'id': 82061927, 'username': 'Rafael Alves Magalhães', 'color': '', 'initials': 'RM', 'email': 'magalhaesrafael07@gmail.com', 'profilePicture': None}], 'checklists': [], 'tags': [], 'parent': None, 'priority': None, 'due_date': None, 'start_date': None, 'points': None, 'time_estimate': None, 'custom_fields': [], 'dependencies': [], 'linked_tasks': [], 'locations': [], 'team_id': '12927880', 'url': 'https://app.clickup.com/t/86a4q5jvz', 'sharing': {'public': False, 'public_share_expires_on': None, 'public_fields': ['assignees', 'priority', 'due_date', 'content', 'comments', 'attachments', 'customFields', 'subtasks', 'tags', 'checklists', 'coverimage'], 'token': None, 'seo_optimized': False}, 'permission_level': 'create', 'list': {'id': '901304909413', 'name': 'clickup_agent', 'access': True}, 'project': {'id': '90132806032', 'name': 'agente clickup playgroud (ana beatriz)', 'hidden': False, 'access': True}, 'folder': {'id': '90132806032', 'name': 'agente clickup playgroud (ana beatriz)', 'hidden': False, 'access': True}, 'space': {'id': '54804921'}}, {'id': '86a4q3yd1', 'custom_id': None, 'custom_item_id': 0, 'name': 'TESTE BEM SUCEDIDO', 'text_content': '', 'description': '', 'status': {'status': 'backlog', 'id': 'p54804921_1gR1N0KG', 'color': '#9c09bc', 'type': 'open', 'orderindex': 0}, 'orderindex': '119424757.00000000000000000000000000000000', 'date_created': '1724788522006', 'date_updated': '1724788522006', 'date_closed': None, 'date_done': None, 'archived': False, 'creator': {'id': 82061927, 'username': 'Rafael Alves Magalhães', 'color': '', 'email': 'magalhaesrafael07@gmail.com', 'profilePicture': None}, 'assignees': [], 'group_assignees': [], 'watchers': [{'id': 82061927, 'username': 'Rafael Alves Magalhães', 'color': '', 'initials': 'RM', 'email': 'magalhaesrafael07@gmail.com', 'profilePicture': None}], 'checklists': [], 'tags': [], 'parent': None, 'priority': None, 'due_date': None, 'start_date': None, 'points': None, 'time_estimate': None, 'custom_fields': [], 'dependencies': [], 'linked_tasks': [], 'locations': [], 'team_id': '12927880', 'url': 'https://app.clickup.com/t/86a4q3yd1', 'sharing': {'public': False, 'public_share_expires_on': None, 'public_fields': ['assignees', 'priority', 'due_date', 'content', 'comments', 'attachments', 'customFields', 'subtasks', 'tags', 'checklists', 'coverimage'], 'token': None, 'seo_optimized': False}, 'permission_level': 'create', 'list': {'id': '901304909413', 'name': 'clickup_agent', 'access': True}, 'project': {'id': '90132806032', 'name': 'agente clickup playgroud (ana beatriz)', 'hidden': False, 'access': True}, 'folder': {'id': '90132806032', 'name': 'agente clickup playgroud (ana beatriz)', 'hidden': False, 'access': True}, 'space': {'id': '54804921'}}, {'id': '86a4dv68v', 'custom_id': None, 'custom_item_id': 0, 'name': 'Criar materiais de treinamento e documentação técnica', 'text_content': 'Parte do Marco 5: Treinamento e Documentação', 'description': 'Parte do Marco 5: Treinamento e Documentação', 'status': {'status': 'backlog', 'id': 'p54804921_1gR1N0KG', 'color': '#9c09bc', 'type': 'open', 'orderindex': 0}, 'orderindex': '119424655.00000910000000000000000000000000', 'date_created': '1722635915857', 'date_updated': '1722635915857', 'date_closed': None, 'date_done': None, 'archived': False, 'creator': {'id': 81918955, 'username': 'João Guilherme Silva Morossini', 'color': '#81b1ff', 'email': 'joaog.morossini@gmail.com', 'profilePicture': 'https://attachments.clickup.com/profilePictures/81918955_kcK.jpg'}, 'assignees': [], 'group_assignees': [], 'watchers': [{'id': 81918955, 'username': 'João Guilherme Silva Morossini', 'color': '#81b1ff', 'initials': 'JM', 'email': 'joaog.morossini@gmail.com', 'profilePicture': 'https://attachments.clickup.com/profilePictures/81918955_kcK.jpg'}], 'checklists': [], 'tags': [], 'parent': None, 'priority': None, 'due_date': None, 'start_date': None, 'points': None, 'time_estimate': None, 'custom_fields': [], 'dependencies': [], 'linked_tasks': [], 'locations': [], 'team_id': '12927880', 'url': 'https://app.clickup.com/t/86a4dv68v', 'sharing': {'public': False, 'public_share_expires_on': None, 'public_fields': ['assignees', 'priority', 'due_date', 'content', 'comments', 'attachments', 'customFields', 'subtasks', 'tags', 'checklists', 'coverimage'], 'token': None, 'seo_optimized': False}, 'permission_level': 'create', 'list': {'id': '901304909413', 'name': 'clickup_agent', 'access': True}, 'project': {'id': '90132806032', 'name': 'agente clickup playgroud (ana beatriz)', 'hidden': False, 'access': True}, 'folder': {'id': '90132806032', 'name': 'agente clickup playgroud (ana beatriz)', 'hidden': False, 'access': True}, 'space': {'id': '54804921'}}, {'id': '86a4dv68u', 'custom_id': None, 'custom_item_id': 0, 'name': 'Fornecer serviços de manutenção e suporte pós-implantação', 'text_content': 'Parte do Marco 6: Implantação e Suporte', 'description': 'Parte do Marco 6: Implantação e Suporte', 'status': {'status': 'backlog', 'id': 'p54804921_1gR1N0KG', 'color': '#9c09bc', 'type': 'open', 'orderindex': 0}, 'orderindex': '119424655.00000000000000000000000000000000', 'date_created': '1722635915830', 'date_updated': '1722635915830', 'date_closed': None, 'date_done': None, 'archived': False, 'creator': {'id': 81918955, 'username': 'João Guilherme Silva Morossini', 'color': '#81b1ff', 'email': 'joaog.morossini@gmail.com', 'profilePicture': 'https://attachments.clickup.com/profilePictures/81918955_kcK.jpg'}, 'assignees': [], 'group_assignees': [], 'watchers': [{'id': 81918955, 'username': 'João Guilherme Silva Morossini', 'color': '#81b1ff', 'initials': 'JM', 'email': 'joaog.morossini@gmail.com', 'profilePicture': 'https://attachments.clickup.com/profilePictures/81918955_kcK.jpg'}], 'checklists': [], 'tags': [], 'parent': None, 'priority': None, 'due_date': None, 'start_date': None, 'points': None, 'time_estimate': None, 'custom_fields': [], 'dependencies': [], 'linked_tasks': [], 'locations': [], 'team_id': '12927880', 'url': 'https://app.clickup.com/t/86a4dv68u', 'sharing': {'public': False, 'public_share_expires_on': None, 'public_fields': ['assignees', 'priority', 'due_date', 'content', 'comments', 'attachments', 'customFields', 'subtasks', 'tags', 'checklists', 'coverimage'], 'token': None, 'seo_optimized': False}, 'permission_level': 'create', 'list': {'id': '901304909413', 'name': 'clickup_agent', 'access': True}, 'project': {'id': '90132806032', 'name': 'agente clickup playgroud (ana beatriz)', 'hidden': False, 'access': True}, 'folder': {'id': '90132806032', 'name': 'agente clickup playgroud (ana beatriz)', 'hidden': False, 'access': True}, 'space': {'id': '54804921'}}, {'id': '86a4dv68t', 'custom_id': None, 'custom_item_id': 0, 'name': 'Validar conformidade com GDPR, FDCPA e outras regulamentações aplicáveis', 'text_content': 'Parte do Marco 4: Testes e Validação', 'description': 'Parte do Marco 4: Testes e Validação', 'status': {'status': 'backlog', 'id': 'p54804921_1gR1N0KG', 'color': '#9c09bc', 'type': 'open', 'orderindex': 0}, 'orderindex': '119424654.00000000000000000000000000000000', 'date_created': '1722635915774', 'date_updated': '1722635915774', 'date_closed': None, 'date_done': None, 'archived': False, 'creator': {'id': 81918955, 'username': 'João Guilherme Silva Morossini', 'color': '#81b1ff', 'email': 'joaog.morossini@gmail.com', 'profilePicture': 'https://attachments.clickup.com/profilePictures/81918955_kcK.jpg'}, 'assignees': [], 'group_assignees': [], 'watchers': [{'id': 81918955, 'username': 'João Guilherme Silva Morossini', 'color': '#81b1ff', 'initials': 'JM', 'email': 'joaog.morossini@gmail.com', 'profilePicture': 'https://attachments.clickup.com/profilePictures/81918955_kcK.jpg'}], 'checklists': [], 'tags': [], 'parent': None, 'priority': None, 'due_date': None, 'start_date': None, 'points': None, 'time_estimate': None, 'custom_fields': [], 'dependencies': [], 'linked_tasks': [], 'locations': [], 'team_id': '12927880', 'url': 'https://app.clickup.com/t/86a4dv68t', 'sharing': {'public': False, 'public_share_expires_on': None, 'public_fields': ['assignees', 'priority', 'due_date', 'content', 'comments', 'attachments', 'customFields', 'subtasks', 'tags', 'checklists', 'coverimage'], 'token': None, 'seo_optimized': False}, 'permission_level': 'create', 'list': {'id': '901304909413', 'name': 'clickup_agent', 'access': True}, 'project': {'id': '90132806032', 'name': 'agente clickup playgroud (ana beatriz)', 'hidden': False, 'access': True}, 'folder': {'id': '90132806032', 'name': 'agente clickup playgroud (ana beatriz)', 'hidden': False, 'access': True}, 'space': {'id': '54804921'}}, {'id': '86a4dv68r', 'custom_id': None, 'custom_item_id': 0, 'name': 'Implantar o agente de IA no ambiente do cliente', 'text_content': 'Parte do Marco 6: Implantação e Suporte', 'description': 'Parte do Marco 6: Implantação e Suporte', 'status': {'status': 'backlog', 'id': 'p54804921_1gR1N0KG', 'color': '#9c09bc', 'type': 'open', 'orderindex': 0}, 'orderindex': '119424653.00000771000000000000000000000000', 'date_created': '1722635915713', 'date_updated': '1722635915713', 'date_closed': None, 'date_done': None, 'archived': False, 'creator': {'id': 81918955, 'username': 'João Guilherme Silva Morossini', 'color': '#81b1ff', 'email': 'joaog.morossini@gmail.com', 'profilePicture': 'https://attachments.clickup.com/profilePictures/81918955_kcK.jpg'}, 'assignees': [], 'group_assignees': [], 'watchers': [{'id': 81918955, 'username': 'João Guilherme Silva Morossini', 'color': '#81b1ff', 'initials': 'JM', 'email': 'joaog.morossini@gmail.com', 'profilePicture': 'https://attachments.clickup.com/profilePictures/81918955_kcK.jpg'}], 'checklists': [], 'tags': [], 'parent': None, 'priority': None, 'due_date': None, 'start_date': None, 'points': None, 'time_estimate': None, 'custom_fields': [], 'dependencies': [], 'linked_tasks': [], 'locations': [], 'team_id': '12927880', 'url': 'https://app.clickup.com/t/86a4dv68r', 'sharing': {'public': False, 'public_share_expires_on': None, 'public_fields': ['assignees', 'priority', 'due_date', 'content', 'comments', 'attachments', 'customFields', 'subtasks', 'tags', 'checklists', 'coverimage'], 'token': None, 'seo_optimized': False}, 'permission_level': 'create', 'list': {'id': '901304909413', 'name': 'clickup_agent', 'access': True}, 'project': {'id': '90132806032', 'name': 'agente clickup playgroud (ana beatriz)', 'hidden': False, 'access': True}, 'folder': {'id': '90132806032', 'name': 'agente clickup playgroud (ana beatriz)', 'hidden': False, 'access': True}, 'space': {'id': '54804921'}}, {'id': '86a4dv68q', 'custom_id': None, 'custom_item_id': 0, 'name': 'Integrar o agente de IA com a API do WhatsApp', 'text_content': 'Parte do Marco 2: Desenvolvimento do Agente de IA', 'description': 'Parte do Marco 2: Desenvolvimento do Agente de IA', 'status': {'status': 'backlog', 'id': 'p54804921_1gR1N0KG', 'color': '#9c09bc', 'type': 'open', 'orderindex': 0}, 'orderindex': '119424653.00000385000000000000000000000000', 'date_created': '1722635915689', 'date_updated': '1722635915689', 'date_closed': None, 'date_done': None, 'archived': False, 'creator': {'id': 81918955, 'username': 'João Guilherme Silva Morossini', 'color': '#81b1ff', 'email': 'joaog.morossini@gmail.com', 'profilePicture': 'https://attachments.clickup.com/profilePictures/81918955_kcK.jpg'}, 'assignees': [], 'group_assignees': [], 'watchers': [{'id': 81918955, 'username': 'João Guilherme Silva Morossini', 'color': '#81b1ff', 'initials': 'JM', 'email': 'joaog.morossini@gmail.com', 'profilePicture': 'https://attachments.clickup.com/profilePictures/81918955_kcK.jpg'}], 'checklists': [], 'tags': [], 'parent': None, 'priority': None, 'due_date': None, 'start_date': None, 'points': None, 'time_estimate': None, 'custom_fields': [], 'dependencies': [], 'linked_tasks': [], 'locations': [], 'team_id': '12927880', 'url': 'https://app.clickup.com/t/86a4dv68q', 'sharing': {'public': False, 'public_share_expires_on': None, 'public_fields': ['assignees', 'priority', 'due_date', 'content', 'comments', 'attachments', 'customFields', 'subtasks', 'tags', 'checklists', 'coverimage'], 'token': None, 'seo_optimized': False}, 'permission_level': 'create', 'list': {'id': '901304909413', 'name': 'clickup_agent', 'access': True}, 'project': {'id': '90132806032', 'name': 'agente clickup playgroud (ana beatriz)', 'hidden': False, 'access': True}, 'folder': {'id': '90132806032', 'name': 'agente clickup playgroud (ana beatriz)', 'hidden': False, 'access': True}, 'space': {'id': '54804921'}}, {'id': '86a4dv68p', 'custom_id': None, 'custom_item_id': 0, 'name': 'Treinar a equipe do cliente no uso do agente de IA', 'text_content': 'Parte do Marco 5: Treinamento e Documentação', 'description': 'Parte do Marco 5: Treinamento e Documentação', 'status': {'status': 'backlog', 'id': 'p54804921_1gR1N0KG', 'color': '#9c09bc', 'type': 'open', 'orderindex': 0}, 'orderindex': '119424653.00000354000000000000000000000000', 'date_created': '1722635915679', 'date_updated': '1722635915679', 'date_closed': None, 'date_done': None, 'archived': False, 'creator': {'id': 81918955, 'username': 'João Guilherme Silva Morossini', 'color': '#81b1ff', 'email': 'joaog.morossini@gmail.com', 'profilePicture': 'https://attachments.clickup.com/profilePictures/81918955_kcK.jpg'}, 'assignees': [], 'group_assignees': [], 'watchers': [{'id': 81918955, 'username': 'João Guilherme Silva Morossini', 'color': '#81b1ff', 'initials': 'JM', 'email': 'joaog.morossini@gmail.com', 'profilePicture': 'https://attachments.clickup.com/profilePictures/81918955_kcK.jpg'}], 'checklists': [], 'tags': [], 'parent': None, 'priority': None, 'due_date': None, 'start_date': None, 'points': None, 'time_estimate': None, 'custom_fields': [], 'dependencies': [], 'linked_tasks': [], 'locations': [], 'team_id': '12927880', 'url': 'https://app.clickup.com/t/86a4dv68p', 'sharing': {'public': False, 'public_share_expires_on': None, 'public_fields': ['assignees', 'priority', 'due_date', 'content', 'comments', 'attachments', 'customFields', 'subtasks', 'tags', 'checklists', 'coverimage'], 'token': None, 'seo_optimized': False}, 'permission_level': 'create', 'list': {'id': '901304909413', 'name': 'clickup_agent', 'access': True}, 'project': {'id': '90132806032', 'name': 'agente clickup playgroud (ana beatriz)', 'hidden': False, 'access': True}, 'folder': {'id': '90132806032', 'name': 'agente clickup playgroud (ana beatriz)', 'hidden': False, 'access': True}, 'space': {'id': '54804921'}}, {'id': '86a4dv68n', 'custom_id': None, 'custom_item_id': 0, 'name': 'Implementar módulo de relatórios para métricas de desempenho', 'text_content': 'Parte do Marco 3: Interface do Usuário', 'description': 'Parte do Marco 3: Interface do Usuário', 'status': {'status': 'backlog', 'id': 'p54804921_1gR1N0KG', 'color': '#9c09bc', 'type': 'open', 'orderindex': 0}, 'orderindex': '119424653.00000000000000000000000000000000', 'date_created': '1722635915647', 'date_updated': '1722635915647', 'date_closed': None, 'date_done': None, 'archived': False, 'creator': {'id': 81918955, 'username': 'João Guilherme Silva Morossini', 'color': '#81b1ff', 'email': 'joaog.morossini@gmail.com', 'profilePicture': 'https://attachments.clickup.com/profilePictures/81918955_kcK.jpg'}, 'assignees': [], 'group_assignees': [], 'watchers': [{'id': 81918955, 'username': 'João Guilherme Silva Morossini', 'color': '#81b1ff', 'initials': 'JM', 'email': 'joaog.morossini@gmail.com', 'profilePicture': 'https://attachments.clickup.com/profilePictures/81918955_kcK.jpg'}], 'checklists': [], 'tags': [], 'parent': None, 'priority': None, 'due_date': None, 'start_date': None, 'points': None, 'time_estimate': None, 'custom_fields': [], 'dependencies': [], 'linked_tasks': [], 'locations': [], 'team_id': '12927880', 'url': 'https://app.clickup.com/t/86a4dv68n', 'sharing': {'public': False, 'public_share_expires_on': None, 'public_fields': ['assignees', 'priority', 'due_date', 'content', 'comments', 'attachments', 'customFields', 'subtasks', 'tags', 'checklists', 'coverimage'], 'token': None, 'seo_optimized': False}, 'permission_level': 'create', 'list': {'id': '901304909413', 'name': 'clickup_agent', 'access': True}, 'project': {'id': '90132806032', 'name': 'agente clickup playgroud (ana beatriz)', 'hidden': False, 'access': True}, 'folder': {'id': '90132806032', 'name': 'agente clickup playgroud (ana beatriz)', 'hidden': False, 'access': True}, 'space': {'id': '54804921'}}, {'id': '86a4dv68m', 'custom_id': None, 'custom_item_id': 0, 'name': 'Realizar testes de integração e segurança', 'text_content': 'Parte do Marco 4: Testes e Validação', 'description': 'Parte do Marco 4: Testes e Validação', 'status': {'status': 'backlog', 'id': 'p54804921_1gR1N0KG', 'color': '#9c09bc', 'type': 'open', 'orderindex': 0}, 'orderindex': '119424653.00000486000000000000000000000000', 'date_created': '1722635915634', 'date_updated': '1722635915634', 'date_closed': None, 'date_done': None, 'archived': False, 'creator': {'id': 81918955, 'username': 'João Guilherme Silva Morossini', 'color': '#81b1ff', 'email': 'joaog.morossini@gmail.com', 'profilePicture': 'https://attachments.clickup.com/profilePictures/81918955_kcK.jpg'}, 'assignees': [], 'group_assignees': [], 'watchers': [{'id': 81918955, 'username': 'João Guilherme Silva Morossini', 'color': '#81b1ff', 'initials': 'JM', 'email': 'joaog.morossini@gmail.com', 'profilePicture': 'https://attachments.clickup.com/profilePictures/81918955_kcK.jpg'}], 'checklists': [], 'tags': [], 'parent': None, 'priority': None, 'due_date': None, 'start_date': None, 'points': None, 'time_estimate': None, 'custom_fields': [], 'dependencies': [], 'linked_tasks': [], 'locations': [], 'team_id': '12927880', 'url': 'https://app.clickup.com/t/86a4dv68m', 'sharing': {'public': False, 'public_share_expires_on': None, 'public_fields': ['assignees', 'priority', 'due_date', 'content', 'comments', 'attachments', 'customFields', 'subtasks', 'tags', 'checklists', 'coverimage'], 'token': None, 'seo_optimized': False}, 'permission_level': 'create', 'list': {'id': '901304909413', 'name': 'clickup_agent', 'access': True}, 'project': {'id': '90132806032', 'name': 'agente clickup playgroud (ana beatriz)', 'hidden': False, 'access': True}, 'folder': {'id': '90132806032', 'name': 'agente clickup playgroud (ana beatriz)', 'hidden': False, 'access': True}, 'space': {'id': '54804921'}}, {'id': '86a4dv68k', 'custom_id': None, 'custom_item_id': 0, 'name': 'Desenvolver o agente de IA com capacidade de NLU', 'text_content': 'Parte do Marco 2: Desenvolvimento do Agente de IA', 'description': 'Parte do Marco 2: Desenvolvimento do Agente de IA', 'status': {'status': 'backlog', 'id': 'p54804921_1gR1N0KG', 'color': '#9c09bc', 'type': 'open', 'orderindex': 0}, 'orderindex': '119424652.00000000000000000000000000000000', 'date_created': '1722635915544', 'date_updated': '1722635915544', 'date_closed': None, 'date_done': None, 'archived': False, 'creator': {'id': 81918955, 'username': 'João Guilherme Silva Morossini', 'color': '#81b1ff', 'email': 'joaog.morossini@gmail.com', 'profilePicture': 'https://attachments.clickup.com/profilePictures/81918955_kcK.jpg'}, 'assignees': [], 'group_assignees': [], 'watchers': [{'id': 81918955, 'username': 'João Guilherme Silva Morossini', 'color': '#81b1ff', 'initials': 'JM', 'email': 'joaog.morossini@gmail.com', 'profilePicture': 'https://attachments.clickup.com/profilePictures/81918955_kcK.jpg'}], 'checklists': [], 'tags': [], 'parent': None, 'priority': None, 'due_date': None, 'start_date': None, 'points': None, 'time_estimate': None, 'custom_fields': [], 'dependencies': [], 'linked_tasks': [], 'locations': [], 'team_id': '12927880', 'url': 'https://app.clickup.com/t/86a4dv68k', 'sharing': {'public': False, 'public_share_expires_on': None, 'public_fields': ['assignees', 'priority', 'due_date', 'content', 'comments', 'attachments', 'customFields', 'subtasks', 'tags', 'checklists', 'coverimage'], 'token': None, 'seo_optimized': False}, 'permission_level': 'create', 'list': {'id': '901304909413', 'name': 'clickup_agent', 'access': True}, 'project': {'id': '90132806032', 'name': 'agente clickup playgroud (ana beatriz)', 'hidden': False, 'access': True}, 'folder': {'id': '90132806032', 'name': 'agente clickup playgroud (ana beatriz)', 'hidden': False, 'access': True}, 'space': {'id': '54804921'}}, {'id': '86a4dv68j', 'custom_id': None, 'custom_item_id': 0, 'name': 'Desenvolver interface do usuário para monitoramento de conversas e resultados', 'text_content': 'Parte do Marco 3: Interface do Usuário', 'description': 'Parte do Marco 3: Interface do Usuário', 'status': {'status': 'backlog', 'id': 'p54804921_1gR1N0KG', 'color': '#9c09bc', 'type': 'open', 'orderindex': 0}, 'orderindex': '119424651.00000947000000000000000000000000', 'date_created': '1722635915414', 'date_updated': '1722635915414', 'date_closed': None, 'date_done': None, 'archived': False, 'creator': {'id': 81918955, 'username': 'João Guilherme Silva Morossini', 'color': '#81b1ff', 'email': 'joaog.morossini@gmail.com', 'profilePicture': 'https://attachments.clickup.com/profilePictures/81918955_kcK.jpg'}, 'assignees': [], 'group_assignees': [], 'watchers': [{'id': 81918955, 'username': 'João Guilherme Silva Morossini', 'color': '#81b1ff', 'initials': 'JM', 'email': 'joaog.morossini@gmail.com', 'profilePicture': 'https://attachments.clickup.com/profilePictures/81918955_kcK.jpg'}], 'checklists': [], 'tags': [], 'parent': None, 'priority': None, 'due_date': None, 'start_date': None, 'points': None, 'time_estimate': None, 'custom_fields': [], 'dependencies': [], 'linked_tasks': [], 'locations': [], 'team_id': '12927880', 'url': 'https://app.clickup.com/t/86a4dv68j', 'sharing': {'public': False, 'public_share_expires_on': None, 'public_fields': ['assignees', 'priority', 'due_date', 'content', 'comments', 'attachments', 'customFields', 'subtasks', 'tags', 'checklists', 'coverimage'], 'token': None, 'seo_optimized': False}, 'permission_level': 'create', 'list': {'id': '901304909413', 'name': 'clickup_agent', 'access': True}, 'project': {'id': '90132806032', 'name': 'agente clickup playgroud (ana beatriz)', 'hidden': False, 'access': True}, 'folder': {'id': '90132806032', 'name': 'agente clickup playgroud (ana beatriz)', 'hidden': False, 'access': True}, 'space': {'id': '54804921'}}, {'id': '86a4dv68h', 'custom_id': None, 'custom_item_id': 0, 'name': 'Garantir compatibilidade com sistemas de gerenciamento de banco de dados', 'text_content': 'Parte do Marco 2: Desenvolvimento do Agente de IA', 'description': 'Parte do Marco 2: Desenvolvimento do Agente de IA', 'status': {'status': 'backlog', 'id': 'p54804921_1gR1N0KG', 'color': '#9c09bc', 'type': 'open', 'orderindex': 0}, 'orderindex': '119424651.00000000000000000000000000000000', 'date_created': '1722635915390', 'date_updated': '1722635915390', 'date_closed': None, 'date_done': None, 'archived': False, 'creator': {'id': 81918955, 'username': 'João Guilherme Silva Morossini', 'color': '#81b1ff', 'email': 'joaog.morossini@gmail.com', 'profilePicture': 'https://attachments.clickup.com/profilePictures/81918955_kcK.jpg'}, 'assignees': [], 'group_assignees': [], 'watchers': [{'id': 81918955, 'username': 'João Guilherme Silva Morossini', 'color': '#81b1ff', 'initials': 'JM', 'email': 'joaog.morossini@gmail.com', 'profilePicture': 'https://attachments.clickup.com/profilePictures/81918955_kcK.jpg'}], 'checklists': [], 'tags': [], 'parent': None, 'priority': None, 'due_date': None, 'start_date': None, 'points': None, 'time_estimate': None, 'custom_fields': [], 'dependencies': [{'task_id': '86a4dv68h', 'depends_on': '86a4dv68g', 'type': 1, 'date_created': '1724961769790', 'userid': '84141406', 'workspace_id': '12927880', 'chain_id': None}], 'linked_tasks': [], 'locations': [], 'team_id': '12927880', 'url': 'https://app.clickup.com/t/86a4dv68h', 'sharing': {'public': False, 'public_share_expires_on': None, 'public_fields': ['assignees', 'priority', 'due_date', 'content', 'comments', 'attachments', 'customFields', 'subtasks', 'tags', 'checklists', 'coverimage'], 'token': None, 'seo_optimized': False}, 'permission_level': 'create', 'list': {'id': '901304909413', 'name': 'clickup_agent', 'access': True}, 'project': {'id': '90132806032', 'name': 'agente clickup playgroud (ana beatriz)', 'hidden': False, 'access': True}, 'folder': {'id': '90132806032', 'name': 'agente clickup playgroud (ana beatriz)', 'hidden': False, 'access': True}, 'space': {'id': '54804921'}}, {'id': '86a4dv68g', 'custom_id': None, 'custom_item_id': 0, 'name': 'Definir requisitos técnicos e de segurança', 'text_content': 'Parte do Marco 1: Planejamento e Design', 'description': 'Parte do Marco 1: Planejamento e Design', 'status': {'status': 'backlog', 'id': 'p54804921_1gR1N0KG', 'color': '#9c09bc', 'type': 'open', 'orderindex': 0}, 'orderindex': '119424649.00000264000000000000000000000000', 'date_created': '1722635915121', 'date_updated': '1722635915121', 'date_closed': None, 'date_done': None, 'archived': False, 'creator': {'id': 81918955, 'username': 'João Guilherme Silva Morossini', 'color': '#81b1ff', 'email': 'joaog.morossini@gmail.com', 'profilePicture': 'https://attachments.clickup.com/profilePictures/81918955_kcK.jpg'}, 'assignees': [], 'group_assignees': [], 'watchers': [{'id': 81918955, 'username': 'João Guilherme Silva Morossini', 'color': '#81b1ff', 'initials': 'JM', 'email': 'joaog.morossini@gmail.com', 'profilePicture': 'https://attachments.clickup.com/profilePictures/81918955_kcK.jpg'}], 'checklists': [], 'tags': [], 'parent': None, 'priority': None, 'due_date': None, 'start_date': None, 'points': None, 'time_estimate': None, 'custom_fields': [], 'dependencies': [{'task_id': '86a4dv68h', 'depends_on': '86a4dv68g', 'type': 1, 'date_created': '1724961769790', 'userid': '84141406', 'workspace_id': '12927880', 'chain_id': None}], 'linked_tasks': [], 'locations': [], 'team_id': '12927880', 'url': 'https://app.clickup.com/t/86a4dv68g', 'sharing': {'public': False, 'public_share_expires_on': None, 'public_fields': ['assignees', 'priority', 'due_date', 'content', 'comments', 'attachments', 'customFields', 'subtasks', 'tags', 'checklists', 'coverimage'], 'token': None, 'seo_optimized': False}, 'permission_level': 'create', 'list': {'id': '901304909413', 'name': 'clickup_agent', 'access': True}, 'project': {'id': '90132806032', 'name': 'agente clickup playgroud (ana beatriz)', 'hidden': False, 'access': True}, 'folder': {'id': '90132806032', 'name': 'agente clickup playgroud (ana beatriz)', 'hidden': False, 'access': True}, 'space': {'id': '54804921'}}, {'id': '86a4dv68f', 'custom_id': None, 'custom_item_id': 0, 'name': 'Criar documento de design do sistema para o agente de IA', 'text_content': 'Parte do Marco 1: Planejamento e Design', 'description': 'Parte do Marco 1: Planejamento e Design', 'status': {'status': 'backlog', 'id': 'p54804921_1gR1N0KG', 'color': '#9c09bc', 'type': 'open', 'orderindex': 0}, 'orderindex': '119424649.00000000000000000000000000000000', 'date_created': '1722635915101', 'date_updated': '1722635915101', 'date_closed': None, 'date_done': None, 'archived': False, 'creator': {'id': 81918955, 'username': 'João Guilherme Silva Morossini', 'color': '#81b1ff', 'email': 'joaog.morossini@gmail.com', 'profilePicture': 'https://attachments.clickup.com/profilePictures/81918955_kcK.jpg'}, 'assignees': [], 'group_assignees': [], 'watchers': [{'id': 81918955, 'username': 'João Guilherme Silva Morossini', 'color': '#81b1ff', 'initials': 'JM', 'email': 'joaog.morossini@gmail.com', 'profilePicture': 'https://attachments.clickup.com/profilePictures/81918955_kcK.jpg'}], 'checklists': [], 'tags': [], 'parent': None, 'priority': None, 'due_date': None, 'start_date': None, 'points': None, 'time_estimate': None, 'custom_fields': [], 'dependencies': [{'task_id': '86a4dv68f', 'depends_on': '86a4q650q', 'type': 1, 'date_created': '1724961508860', 'userid': '84141406', 'workspace_id': '12927880', 'chain_id': None}], 'linked_tasks': [], 'locations': [], 'team_id': '12927880', 'url': 'https://app.clickup.com/t/86a4dv68f', 'sharing': {'public': False, 'public_share_expires_on': None, 'public_fields': ['assignees', 'priority', 'due_date', 'content', 'comments', 'attachments', 'customFields', 'subtasks', 'tags', 'checklists', 'coverimage'], 'token': None, 'seo_optimized': False}, 'permission_level': 'create', 'list': {'id': '901304909413', 'name': 'clickup_agent', 'access': True}, 'project': {'id': '90132806032', 'name': 'agente clickup playgroud (ana beatriz)', 'hidden': False, 'access': True}, 'folder': {'id': '90132806032', 'name': 'agente clickup playgroud (ana beatriz)', 'hidden': False, 'access': True}, 'space': {'id': '54804921'}}, {'id': '86a4dv4gx', 'custom_id': None, 'custom_item_id': 0, 'name': 'Escopo', 'text_content': 'Project Scope Document: Development of Custom Autonomous AI Agent for Debt Collection via WhatsApp\\n\\nExecutive Summary\\nThe purpose of this project is to develop a custom autonomous Artificial Intelligence (AI) agent that will handle debt collection through the WhatsApp messaging platform. The AI agent will interact with debtors in a professional and compliant manner, with the goal of improving collection rates and efficiency while maintaining customer relations.\\n\\nObjectives\\nTo create an AI-driven debt collection solution integrated with WhatsApp.\\nTo enhance the efficiency of the debt collection process by reducing manual intervention.\\nTo ensure compliance with legal and ethical standards in debt collection practices.\\nTo provide effortless user experiences for both the client (debt collector) and the debtor.\\nTo implement natural language processing for understanding and responding to debtor queries appropriately.\\n\\nProject Deliverables\\nA comprehensive system design document for the AI agent.\\nAn integrated AI agent that can securely connect to existing customer databases.\\nA user interface on the client side for monitoring conversations and outcomes.\\nA reporting module for tracking performance metrics such as success rate and response time.\\nTraining materials and technical documentation.\\nMaintenance and support services for a specified period after deployment.\\n\\nTechnical Requirements\\nSecure integration with WhatsApp API.\\nAI framework capable of natural language understanding (NLU) and machine learning for continuous improvement.\\nCompatibility with various database management systems for accessing debtor information.\\nStrong encryption protocols to protect sensitive data during transmission and at rest.\\nScalability options to handle variable workload.\\n\\nConstraints\\nCompliance with the General Data Protection Regulation (GDPR), Fair Debt Collection Practices Act (FDCPA), or any applicable regional regulations.\\nHigh availability requirements to ensure the AI agent operates without interruption.\\nBudget limitations for development, operation, and maintenance phases.\\nTimelines for development and testing before the tool goes live.\\n\\nAssumptions\\nSufficient training data will be available for machine learning models to effectively interact with debtors.\\nClient’s current IT infrastructure can support the integration of the AI agent.\\nUsers will have basic familiarity with WhatsApp and web-based applications.\\n\\nRisks\\nPrivacy concerns may arise regarding handling and storing personal data.\\nPotential resistance from debtors to communicate with an AI agent instead of a human representative.\\nTechnical challenges related to AI understanding complex debtor inquiries.', 'description': 'Project Scope Document: Development of Custom Autonomous AI Agent for Debt Collection via WhatsApp\\n\\nExecutive Summary\\nThe purpose of this project is to develop a custom autonomous Artificial Intelligence (AI) agent that will handle debt collection through the WhatsApp messaging platform. The AI agent will interact with debtors in a professional and compliant manner, with the goal of improving collection rates and efficiency while maintaining customer relations.\\n\\nObjectives\\nTo create an AI-driven debt collection solution integrated with WhatsApp.\\nTo enhance the efficiency of the debt collection process by reducing manual intervention.\\nTo ensure compliance with legal and ethical standards in debt collection practices.\\nTo provide effortless user experiences for both the client (debt collector) and the debtor.\\nTo implement natural language processing for understanding and responding to debtor queries appropriately.\\n\\nProject Deliverables\\nA comprehensive system design document for the AI agent.\\nAn integrated AI agent that can securely connect to existing customer databases.\\nA user interface on the client side for monitoring conversations and outcomes.\\nA reporting module for tracking performance metrics such as success rate and response time.\\nTraining materials and technical documentation.\\nMaintenance and support services for a specified period after deployment.\\n\\nTechnical Requirements\\nSecure integration with WhatsApp API.\\nAI framework capable of natural language understanding (NLU) and machine learning for continuous improvement.\\nCompatibility with various database management systems for accessing debtor information.\\nStrong encryption protocols to protect sensitive data during transmission and at rest.\\nScalability options to handle variable workload.\\n\\nConstraints\\nCompliance with the General Data Protection Regulation (GDPR), Fair Debt Collection Practices Act (FDCPA), or any applicable regional regulations.\\nHigh availability requirements to ensure the AI agent operates without interruption.\\nBudget limitations for development, operation, and maintenance phases.\\nTimelines for development and testing before the tool goes live.\\n\\nAssumptions\\nSufficient training data will be available for machine learning models to effectively interact with debtors.\\nClient’s current IT infrastructure can support the integration of the AI agent.\\nUsers will have basic familiarity with WhatsApp and web-based applications.\\n\\nRisks\\nPrivacy concerns may arise regarding handling and storing personal data.\\nPotential resistance from debtors to communicate with an AI agent instead of a human representative.\\nTechnical challenges related to AI understanding complex debtor inquiries.', 'status': {'status': 'backlog', 'id': 'p54804921_1gR1N0KG', 'color': '#9c09bc', 'type': 'open', 'orderindex': 0}, 'orderindex': '119424648.00000000000000000000000000000000', 'date_created': '1722635480585', 'date_updated': '1722635598809', 'date_closed': None, 'date_done': None, 'archived': False, 'creator': {'id': 81918955, 'username': 'João Guilherme Silva Morossini', 'color': '#81b1ff', 'email': 'joaog.morossini@gmail.com', 'profilePicture': 'https://attachments.clickup.com/profilePictures/81918955_kcK.jpg'}, 'assignees': [], 'group_assignees': [], 'watchers': [{'id': 81918955, 'username': 'João Guilherme Silva Morossini', 'color': '#81b1ff', 'initials': 'JM', 'email': 'joaog.morossini@gmail.com', 'profilePicture': 'https://attachments.clickup.com/profilePictures/81918955_kcK.jpg'}], 'checklists': [], 'tags': [], 'parent': None, 'priority': None, 'due_date': None, 'start_date': None, 'points': None, 'time_estimate': None, 'custom_fields': [], 'dependencies': [], 'linked_tasks': [], 'locations': [], 'team_id': '12927880', 'url': 'https://app.clickup.com/t/86a4dv4gx', 'sharing': {'public': False, 'public_share_expires_on': None, 'public_fields': ['assignees', 'priority', 'due_date', 'content', 'comments', 'attachments', 'customFields', 'subtasks', 'tags', 'checklists', 'coverimage'], 'token': None, 'seo_optimized': False}, 'permission_level': 'create', 'list': {'id': '901304909413', 'name': 'clickup_agent', 'access': True}, 'project': {'id': '90132806032', 'name': 'agente clickup playgroud (ana beatriz)', 'hidden': False, 'access': True}, 'folder': {'id': '90132806032', 'name': 'agente clickup playgroud (ana beatriz)', 'hidden': False, 'access': True}, 'space': {'id': '54804921'}}], 'last_page': True}\n"
     ]
    },
    {
     "data": {
      "text/plain": [
       "[{'id': '86a4r3bym',\n",
       "  'name': 'ALVENARIA',\n",
       "  'assignees': [],\n",
       "  'due_date': None,\n",
       "  'date_created': '1724961384759',\n",
       "  'status': 'backlog',\n",
       "  'url': 'https://app.clickup.com/t/86a4r3bym'},\n",
       " {'error': None},\n",
       " {'id': '86a4r3bxu',\n",
       "  'name': 'FUNDAÇÃO',\n",
       "  'assignees': [],\n",
       "  'due_date': None,\n",
       "  'date_created': '1724961383153',\n",
       "  'status': 'backlog',\n",
       "  'url': 'https://app.clickup.com/t/86a4r3bxu'},\n",
       " {'error': None},\n",
       " {'id': '86a4r2jbp',\n",
       "  'name': 'TASK ATUALIZADA ÀS 16:11',\n",
       "  'assignees': [],\n",
       "  'due_date': None,\n",
       "  'date_created': '1724958606754',\n",
       "  'status': 'backlog',\n",
       "  'url': 'https://app.clickup.com/t/86a4r2jbp'},\n",
       " {'error': None},\n",
       " {'id': '86a4r2ga8',\n",
       "  'name': 'TASK CRIADA ÀS 16:05',\n",
       "  'assignees': [],\n",
       "  'due_date': None,\n",
       "  'date_created': '1724958362753',\n",
       "  'status': 'backlog',\n",
       "  'url': 'https://app.clickup.com/t/86a4r2ga8'},\n",
       " {'error': None},\n",
       " {'id': '86a4r2ecz',\n",
       "  'name': 'TASK CRIADA ÀS 15:56',\n",
       "  'assignees': [],\n",
       "  'due_date': None,\n",
       "  'date_created': '1724958170291',\n",
       "  'status': 'backlog',\n",
       "  'url': 'https://app.clickup.com/t/86a4r2ecz'},\n",
       " {'error': None},\n",
       " {'id': '86a4r2b9f',\n",
       "  'name': 'TASK CRIADA ÀS 15:56',\n",
       "  'assignees': [],\n",
       "  'due_date': None,\n",
       "  'date_created': '1724957782089',\n",
       "  'status': 'backlog',\n",
       "  'url': 'https://app.clickup.com/t/86a4r2b9f'},\n",
       " {'error': None},\n",
       " {'id': '86a4r1ux8',\n",
       "  'name': 'TESTE BEM SUCEDIDO04',\n",
       "  'assignees': ['Rafael Alves Magalhães'],\n",
       "  'due_date': None,\n",
       "  'date_created': '1724956015230',\n",
       "  'status': 'backlog',\n",
       "  'url': 'https://app.clickup.com/t/86a4r1ux8'},\n",
       " {'error': None},\n",
       " {'id': '86a4qz2xm',\n",
       "  'name': 'TESTE BEM SUCEDIDO04',\n",
       "  'assignees': ['Rafael Alves Magalhães'],\n",
       "  'due_date': None,\n",
       "  'date_created': '1724947418613',\n",
       "  'status': 'backlog',\n",
       "  'url': 'https://app.clickup.com/t/86a4qz2xm'},\n",
       " {'error': None},\n",
       " {'id': '86a4qyy92',\n",
       "  'name': 'TESTE BEM SUCEDIDO04',\n",
       "  'assignees': ['Rafael Alves Magalhães'],\n",
       "  'due_date': None,\n",
       "  'date_created': '1724946923626',\n",
       "  'status': 'backlog',\n",
       "  'url': 'https://app.clickup.com/t/86a4qyy92'},\n",
       " {'error': None},\n",
       " {'id': '86a4qyw7r',\n",
       "  'name': 'TESTE BEM SUCEDIDO03',\n",
       "  'assignees': ['Rafael Alves Magalhães'],\n",
       "  'due_date': None,\n",
       "  'date_created': '1724946710544',\n",
       "  'status': 'backlog',\n",
       "  'url': 'https://app.clickup.com/t/86a4qyw7r'},\n",
       " {'error': None},\n",
       " {'id': '86a4qp7up',\n",
       "  'name': 'TESTE BEM SUCEDIDO02',\n",
       "  'assignees': ['Rafael Alves Magalhães'],\n",
       "  'due_date': None,\n",
       "  'date_created': '1724881168183',\n",
       "  'status': 'backlog',\n",
       "  'url': 'https://app.clickup.com/t/86a4qp7up'},\n",
       " {'error': None},\n",
       " {'id': '86a4qp55z',\n",
       "  'name': 'Solicitar à Jussiane Siqueira envio do questionário de editais para inovação',\n",
       "  'assignees': ['Ana Beatriz'],\n",
       "  'due_date': '1725174000000',\n",
       "  'date_created': '1724880822207',\n",
       "  'status': 'doing',\n",
       "  'url': 'https://app.clickup.com/t/86a4qp55z'},\n",
       " {'error': None},\n",
       " {'id': '86a4qp4e9',\n",
       "  'name': 'TESTE BEM SUCEDIDO03',\n",
       "  'assignees': [],\n",
       "  'due_date': None,\n",
       "  'date_created': '1724880655952',\n",
       "  'status': 'backlog',\n",
       "  'url': 'https://app.clickup.com/t/86a4qp4e9'},\n",
       " {'error': None},\n",
       " {'id': '86a4qp46p',\n",
       "  'name': 'TESTE BEM SUCEDIDO02',\n",
       "  'assignees': ['Rafael Alves Magalhães'],\n",
       "  'due_date': None,\n",
       "  'date_created': '1724880604108',\n",
       "  'status': 'backlog',\n",
       "  'url': 'https://app.clickup.com/t/86a4qp46p'},\n",
       " {'error': None},\n",
       " {'id': '86a4qp40d',\n",
       "  'name': 'Fazer follow up com Jussiane Siqueira',\n",
       "  'assignees': [],\n",
       "  'due_date': '1725174000000',\n",
       "  'date_created': '1724880574665',\n",
       "  'status': 'backlog',\n",
       "  'url': 'https://app.clickup.com/t/86a4qp40d'},\n",
       " {'error': None},\n",
       " {'id': '86a4qp3w2',\n",
       "  'name': 'Fazer follow up com Jussiane Siqueira',\n",
       "  'assignees': [],\n",
       "  'due_date': '1725174000000',\n",
       "  'date_created': '1724880549257',\n",
       "  'status': 'backlog',\n",
       "  'url': 'https://app.clickup.com/t/86a4qp3w2'},\n",
       " {'error': None},\n",
       " {'id': '86a4qp39v',\n",
       "  'name': 'Fazer follow up com Jussiane Siqueira',\n",
       "  'assignees': [],\n",
       "  'due_date': '1725174000000',\n",
       "  'date_created': '1724880418229',\n",
       "  'status': 'backlog',\n",
       "  'url': 'https://app.clickup.com/t/86a4qp39v'},\n",
       " {'error': None},\n",
       " {'id': '86a4qnyac',\n",
       "  'name': 'Fazer follow up com Jussiane Siqueira',\n",
       "  'assignees': [],\n",
       "  'due_date': '1725174000000',\n",
       "  'date_created': '1724879515760',\n",
       "  'status': 'backlog',\n",
       "  'url': 'https://app.clickup.com/t/86a4qnyac'},\n",
       " {'error': None},\n",
       " {'id': '86a4qny9e',\n",
       "  'name': 'Fazer follow up com Jussiane Siqueira',\n",
       "  'assignees': [],\n",
       "  'due_date': '1725174000000',\n",
       "  'date_created': '1724879511733',\n",
       "  'status': 'backlog',\n",
       "  'url': 'https://app.clickup.com/t/86a4qny9e'},\n",
       " {'error': None},\n",
       " {'id': '86a4qny8t',\n",
       "  'name': 'Fazer follow up com Jussiane Siqueira',\n",
       "  'assignees': [],\n",
       "  'due_date': '1725174000000',\n",
       "  'date_created': '1724879507235',\n",
       "  'status': 'backlog',\n",
       "  'url': 'https://app.clickup.com/t/86a4qny8t'},\n",
       " {'error': None},\n",
       " {'id': '86a4qnvxg',\n",
       "  'name': 'Fazer follow up com Jussiane Siqueira',\n",
       "  'assignees': [],\n",
       "  'due_date': '1724914800000',\n",
       "  'date_created': '1724879234553',\n",
       "  'status': 'backlog',\n",
       "  'url': 'https://app.clickup.com/t/86a4qnvxg'},\n",
       " {'error': None},\n",
       " {'id': '86a4qmd3x',\n",
       "  'name': 'Fazer follow up com Jussiane Siqueira',\n",
       "  'assignees': [],\n",
       "  'due_date': '1724914800000',\n",
       "  'date_created': '1724874718882',\n",
       "  'status': 'backlog',\n",
       "  'url': 'https://app.clickup.com/t/86a4qmd3x'},\n",
       " {'error': None},\n",
       " {'id': '86a4q650q',\n",
       "  'name': 'Tarefa Exemplo',\n",
       "  'assignees': [],\n",
       "  'due_date': None,\n",
       "  'date_created': '1724797264500',\n",
       "  'status': 'testing',\n",
       "  'url': 'https://app.clickup.com/t/86a4q650q'},\n",
       " {'error': None},\n",
       " {'id': '86a4q63w3',\n",
       "  'name': 'Dummy Task 2',\n",
       "  'assignees': [],\n",
       "  'due_date': None,\n",
       "  'date_created': '1724797022304',\n",
       "  'status': 'backlog',\n",
       "  'url': 'https://app.clickup.com/t/86a4q63w3'},\n",
       " {'error': None},\n",
       " {'id': '86a4q63vx',\n",
       "  'name': 'Dummy Task 1',\n",
       "  'assignees': [],\n",
       "  'due_date': '1727593200000',\n",
       "  'date_created': '1724797017247',\n",
       "  'status': 'backlog',\n",
       "  'url': 'https://app.clickup.com/t/86a4q63vx'},\n",
       " {'error': None},\n",
       " {'id': '86a4q63th',\n",
       "  'name': '(2024-08-27 19:16:06.257577): ALVENARIA',\n",
       "  'assignees': [],\n",
       "  'due_date': None,\n",
       "  'date_created': '1724796976922',\n",
       "  'status': 'backlog',\n",
       "  'url': 'https://app.clickup.com/t/86a4q63th'},\n",
       " {'error': None},\n",
       " {'id': '86a4q63td',\n",
       "  'name': '(2024-08-27 19:16:06.257577): FUNDAÇÃO',\n",
       "  'assignees': [],\n",
       "  'due_date': None,\n",
       "  'date_created': '1724796974869',\n",
       "  'status': 'backlog',\n",
       "  'url': 'https://app.clickup.com/t/86a4q63td'},\n",
       " {'error': None},\n",
       " {'id': '86a4q63ry',\n",
       "  'name': '(2024-08-27 19:16:06.257577): NOVO TESTE BEM SUCEDIDO',\n",
       "  'assignees': [],\n",
       "  'due_date': None,\n",
       "  'date_created': '1724796969535',\n",
       "  'status': 'backlog',\n",
       "  'url': 'https://app.clickup.com/t/86a4q63ry'},\n",
       " {'error': None},\n",
       " {'id': '86a4q5wyp',\n",
       "  'name': '(2024-08-27 19:04:29.560449): NOVÍSSIMO TESTE BEM SUCEDIDO',\n",
       "  'assignees': [],\n",
       "  'due_date': None,\n",
       "  'date_created': '1724796272206',\n",
       "  'status': 'backlog',\n",
       "  'url': 'https://app.clickup.com/t/86a4q5wyp'},\n",
       " {'error': None},\n",
       " {'id': '86a4q5wm2',\n",
       "  'name': '(2024-08-27 19:03:52.393435): ALVENARIA',\n",
       "  'assignees': [],\n",
       "  'due_date': None,\n",
       "  'date_created': '1724796246591',\n",
       "  'status': 'backlog',\n",
       "  'url': 'https://app.clickup.com/t/86a4q5wm2'},\n",
       " {'error': None},\n",
       " {'id': '86a4q5wk5',\n",
       "  'name': '(2024-08-27 19:03:52.393435): FUNDAÇÃO',\n",
       "  'assignees': [],\n",
       "  'due_date': None,\n",
       "  'date_created': '1724796244589',\n",
       "  'status': 'backlog',\n",
       "  'url': 'https://app.clickup.com/t/86a4q5wk5'},\n",
       " {'error': None},\n",
       " {'id': '86a4q5wgm',\n",
       "  'name': '(2024-08-27 19:03:52.393435): NOVO TESTE BEM SUCEDIDO',\n",
       "  'assignees': [],\n",
       "  'due_date': None,\n",
       "  'date_created': '1724796237761',\n",
       "  'status': 'backlog',\n",
       "  'url': 'https://app.clickup.com/t/86a4q5wgm'},\n",
       " {'error': None},\n",
       " {'id': '86a4q5uy9',\n",
       "  'name': '(2024-08-27 19:01:36.986836): NOVÍSSIMO TESTE BEM SUCEDIDO',\n",
       "  'assignees': [],\n",
       "  'due_date': None,\n",
       "  'date_created': '1724796100244',\n",
       "  'status': 'backlog',\n",
       "  'url': 'https://app.clickup.com/t/86a4q5uy9'},\n",
       " {'error': None},\n",
       " {'id': '86a4q5pmk',\n",
       "  'name': '(2024-08-27 18:53:56.810531): ALVENARIA',\n",
       "  'assignees': [],\n",
       "  'due_date': None,\n",
       "  'date_created': '1724795647968',\n",
       "  'status': 'backlog',\n",
       "  'url': 'https://app.clickup.com/t/86a4q5pmk'},\n",
       " {'error': None},\n",
       " {'id': '86a4q5pkj',\n",
       "  'name': '(2024-08-27 18:53:56.810531): FUNDAÇÃO',\n",
       "  'assignees': [],\n",
       "  'due_date': None,\n",
       "  'date_created': '1724795645635',\n",
       "  'status': 'backlog',\n",
       "  'url': 'https://app.clickup.com/t/86a4q5pkj'},\n",
       " {'error': None},\n",
       " {'id': '86a4q5pg8',\n",
       "  'name': '(2024-08-27 18:53:56.810531): NOVO TESTE BEM SUCEDIDO',\n",
       "  'assignees': [],\n",
       "  'due_date': None,\n",
       "  'date_created': '1724795640384',\n",
       "  'status': 'backlog',\n",
       "  'url': 'https://app.clickup.com/t/86a4q5pg8'},\n",
       " {'error': None},\n",
       " {'id': '86a4q5jzb',\n",
       "  'name': '(2024-08-27 18:48:25.780898): ALVENARIA',\n",
       "  'assignees': [],\n",
       "  'due_date': '1724742000000',\n",
       "  'date_created': '1724795322464',\n",
       "  'status': 'backlog',\n",
       "  'url': 'https://app.clickup.com/t/86a4q5jzb'},\n",
       " {'error': None},\n",
       " {'id': '86a4q5jyh',\n",
       "  'name': '(2024-08-27 18:48:25.780898): FUNDAÇÃO',\n",
       "  'assignees': [],\n",
       "  'due_date': None,\n",
       "  'date_created': '1724795320296',\n",
       "  'status': 'backlog',\n",
       "  'url': 'https://app.clickup.com/t/86a4q5jyh'},\n",
       " {'error': None},\n",
       " {'id': '86a4q5jvz',\n",
       "  'name': '(2024-08-27 18:48:25.780898): NOVO TESTE BEM SUCEDIDO',\n",
       "  'assignees': [],\n",
       "  'due_date': None,\n",
       "  'date_created': '1724795312345',\n",
       "  'status': 'backlog',\n",
       "  'url': 'https://app.clickup.com/t/86a4q5jvz'},\n",
       " {'error': None},\n",
       " {'id': '86a4q3yd1',\n",
       "  'name': 'TESTE BEM SUCEDIDO',\n",
       "  'assignees': [],\n",
       "  'due_date': None,\n",
       "  'date_created': '1724788522006',\n",
       "  'status': 'backlog',\n",
       "  'url': 'https://app.clickup.com/t/86a4q3yd1'},\n",
       " {'error': None},\n",
       " {'id': '86a4dv68v',\n",
       "  'name': 'Criar materiais de treinamento e documentação técnica',\n",
       "  'assignees': [],\n",
       "  'due_date': None,\n",
       "  'date_created': '1722635915857',\n",
       "  'status': 'backlog',\n",
       "  'url': 'https://app.clickup.com/t/86a4dv68v'},\n",
       " {'error': None},\n",
       " {'id': '86a4dv68u',\n",
       "  'name': 'Fornecer serviços de manutenção e suporte pós-implantação',\n",
       "  'assignees': [],\n",
       "  'due_date': None,\n",
       "  'date_created': '1722635915830',\n",
       "  'status': 'backlog',\n",
       "  'url': 'https://app.clickup.com/t/86a4dv68u'},\n",
       " {'error': None},\n",
       " {'id': '86a4dv68t',\n",
       "  'name': 'Validar conformidade com GDPR, FDCPA e outras regulamentações aplicáveis',\n",
       "  'assignees': [],\n",
       "  'due_date': None,\n",
       "  'date_created': '1722635915774',\n",
       "  'status': 'backlog',\n",
       "  'url': 'https://app.clickup.com/t/86a4dv68t'},\n",
       " {'error': None},\n",
       " {'id': '86a4dv68r',\n",
       "  'name': 'Implantar o agente de IA no ambiente do cliente',\n",
       "  'assignees': [],\n",
       "  'due_date': None,\n",
       "  'date_created': '1722635915713',\n",
       "  'status': 'backlog',\n",
       "  'url': 'https://app.clickup.com/t/86a4dv68r'},\n",
       " {'error': None},\n",
       " {'id': '86a4dv68q',\n",
       "  'name': 'Integrar o agente de IA com a API do WhatsApp',\n",
       "  'assignees': [],\n",
       "  'due_date': None,\n",
       "  'date_created': '1722635915689',\n",
       "  'status': 'backlog',\n",
       "  'url': 'https://app.clickup.com/t/86a4dv68q'},\n",
       " {'error': None},\n",
       " {'id': '86a4dv68p',\n",
       "  'name': 'Treinar a equipe do cliente no uso do agente de IA',\n",
       "  'assignees': [],\n",
       "  'due_date': None,\n",
       "  'date_created': '1722635915679',\n",
       "  'status': 'backlog',\n",
       "  'url': 'https://app.clickup.com/t/86a4dv68p'},\n",
       " {'error': None},\n",
       " {'id': '86a4dv68n',\n",
       "  'name': 'Implementar módulo de relatórios para métricas de desempenho',\n",
       "  'assignees': [],\n",
       "  'due_date': None,\n",
       "  'date_created': '1722635915647',\n",
       "  'status': 'backlog',\n",
       "  'url': 'https://app.clickup.com/t/86a4dv68n'},\n",
       " {'error': None},\n",
       " {'id': '86a4dv68m',\n",
       "  'name': 'Realizar testes de integração e segurança',\n",
       "  'assignees': [],\n",
       "  'due_date': None,\n",
       "  'date_created': '1722635915634',\n",
       "  'status': 'backlog',\n",
       "  'url': 'https://app.clickup.com/t/86a4dv68m'},\n",
       " {'error': None},\n",
       " {'id': '86a4dv68k',\n",
       "  'name': 'Desenvolver o agente de IA com capacidade de NLU',\n",
       "  'assignees': [],\n",
       "  'due_date': None,\n",
       "  'date_created': '1722635915544',\n",
       "  'status': 'backlog',\n",
       "  'url': 'https://app.clickup.com/t/86a4dv68k'},\n",
       " {'error': None},\n",
       " {'id': '86a4dv68j',\n",
       "  'name': 'Desenvolver interface do usuário para monitoramento de conversas e resultados',\n",
       "  'assignees': [],\n",
       "  'due_date': None,\n",
       "  'date_created': '1722635915414',\n",
       "  'status': 'backlog',\n",
       "  'url': 'https://app.clickup.com/t/86a4dv68j'},\n",
       " {'error': None},\n",
       " {'id': '86a4dv68h',\n",
       "  'name': 'Garantir compatibilidade com sistemas de gerenciamento de banco de dados',\n",
       "  'assignees': [],\n",
       "  'due_date': None,\n",
       "  'date_created': '1722635915390',\n",
       "  'status': 'backlog',\n",
       "  'url': 'https://app.clickup.com/t/86a4dv68h'},\n",
       " {'error': None},\n",
       " {'id': '86a4dv68g',\n",
       "  'name': 'Definir requisitos técnicos e de segurança',\n",
       "  'assignees': [],\n",
       "  'due_date': None,\n",
       "  'date_created': '1722635915121',\n",
       "  'status': 'backlog',\n",
       "  'url': 'https://app.clickup.com/t/86a4dv68g'},\n",
       " {'error': None},\n",
       " {'id': '86a4dv68f',\n",
       "  'name': 'Criar documento de design do sistema para o agente de IA',\n",
       "  'assignees': [],\n",
       "  'due_date': None,\n",
       "  'date_created': '1722635915101',\n",
       "  'status': 'backlog',\n",
       "  'url': 'https://app.clickup.com/t/86a4dv68f'},\n",
       " {'error': None},\n",
       " {'id': '86a4dv4gx',\n",
       "  'name': 'Escopo',\n",
       "  'assignees': [],\n",
       "  'due_date': None,\n",
       "  'date_created': '1722635480585',\n",
       "  'status': 'backlog',\n",
       "  'url': 'https://app.clickup.com/t/86a4dv4gx'},\n",
       " {'error': None}]"
      ]
     },
     "execution_count": 236,
     "metadata": {},
     "output_type": "execute_result"
    }
   ],
   "source": [
    "tool = GetTasksTool()\n",
    "result = tool._run(list_id=901304909413)\n",
    "result"
   ]
  },
  {
   "cell_type": "markdown",
   "metadata": {},
   "source": [
    "## Get Task"
   ]
  },
  {
   "cell_type": "code",
   "execution_count": null,
   "metadata": {},
   "outputs": [],
   "source": [
    "from composio.tools.local.clickup.actions.get_task import GetTask, GetTaskRequest, GetTaskResponse\n",
    "\n",
    "class GetTaskTool(BaseTool):\n",
    "    name: str = \"get_task_tool\"\n",
    "    description: str = \"\"\"\n",
    "    Ferramenta para visualizar detalhes de uma tarefa no ClickUp.\n",
    "    - Obter detalhes da tarefa:\n",
    "        Invocar: \"GetTaskTool\" com o ID da tarefa e parâmetros opcionais.\n",
    "    \"\"\"\n",
    "    args_schema: Type[BaseModel] = GetTaskRequest\n",
    "    headers: dict = {\"Authorization\": f\"{CLICKUP_TOKEN}\"}\n",
    "\n",
    "    def _init_(self, **data):\n",
    "        super()._init_(**data)\n",
    "\n",
    "    def _run(self, **kwargs) -> Any:\n",
    "        \"\"\"Executa a requisição para obter detalhes de uma tarefa no ClickUp\"\"\"\n",
    "\n",
    "        action = GetTask()\n",
    "\n",
    "        url = f\"{action.url}{action.path}\".format(task_id=kwargs.get('task_id'))\n",
    "\n",
    "        query_params = {k: v for k, v in kwargs.items() if v is not None}\n",
    "\n",
    "        response = requests.get(url, headers=self.headers, params=query_params)\n",
    "\n",
    "        if response.status_code == 200:\n",
    "            response_json = response.json()\n",
    "        else:\n",
    "            try:\n",
    "                response_json = response.json()\n",
    "            except requests.JSONDecodeError:\n",
    "                response_json = {\"error\": \"Invalid JSON response\"}\n",
    "\n",
    "        print(f\"Response Body: {response_json}\")\n",
    "        response = GetTaskResponse(data=response_json)\n",
    "        \n",
    "        filtered_response = {\n",
    "            'id': response.data.get('id'),\n",
    "            'name': response.data.get('name'),\n",
    "            'status': response.data.get('status', {}).get('status'),\n",
    "            'due_date': response.data.get('due_date'),\n",
    "            'date_created': response.data.get('date_created'),\n",
    "            'url': response.data.get('url'),\n",
    "            'assignees': [{'id': assignee.get('id'), 'username': assignee.get('username')} for assignee in response.data.get('assignees', [])],\n",
    "            'error': response.data.get('error')\n",
    "        }\n",
    "\n",
    "        return filtered_response"
   ]
  },
  {
   "cell_type": "code",
   "execution_count": null,
   "metadata": {},
   "outputs": [
    {
     "name": "stdout",
     "output_type": "stream",
     "text": [
      "Response Body: {'id': '86a4r2jbp', 'custom_id': None, 'custom_item_id': 0, 'name': 'TASK ATUALIZADA ÀS 16:11', 'text_content': '', 'description': '', 'status': {'id': 'p54804921_1gR1N0KG', 'status': 'backlog', 'color': '#9c09bc', 'orderindex': 0, 'type': 'open'}, 'orderindex': '119424851.00000000000000000000000000000000', 'date_created': '1724958606754', 'date_updated': '1724960031536', 'date_closed': None, 'date_done': None, 'archived': False, 'creator': {'id': 84141406, 'username': 'Ana Beatriz', 'color': '#455963', 'email': 'ti@cogmo.com.br', 'profilePicture': 'https://attachments.clickup.com/profilePictures/84141406_ZkZ.jpg'}, 'assignees': [], 'group_assignees': [], 'watchers': [{'id': 84141406, 'username': 'Ana Beatriz', 'color': '#455963', 'initials': 'AB', 'email': 'ti@cogmo.com.br', 'profilePicture': 'https://attachments.clickup.com/profilePictures/84141406_ZkZ.jpg'}], 'checklists': [], 'tags': [], 'parent': None, 'priority': None, 'due_date': None, 'start_date': None, 'points': None, 'time_estimate': None, 'time_spent': 0, 'custom_fields': [], 'dependencies': [], 'linked_tasks': [], 'locations': [], 'team_id': '12927880', 'url': 'https://app.clickup.com/t/86a4r2jbp', 'sharing': {'public': False, 'public_share_expires_on': None, 'public_fields': ['assignees', 'priority', 'due_date', 'content', 'comments', 'attachments', 'customFields', 'subtasks', 'tags', 'checklists', 'coverimage'], 'token': None, 'seo_optimized': False}, 'permission_level': 'create', 'list': {'id': '901304909413', 'name': 'clickup_agent', 'access': True}, 'project': {'id': '90132806032', 'name': 'agente clickup playgroud (ana beatriz)', 'hidden': False, 'access': True}, 'folder': {'id': '90132806032', 'name': 'agente clickup playgroud (ana beatriz)', 'hidden': False, 'access': True}, 'space': {'id': '54804921'}, 'attachments': []}\n"
     ]
    },
    {
     "data": {
      "text/plain": [
       "{'id': '86a4r2jbp',\n",
       " 'name': 'TASK ATUALIZADA ÀS 16:11',\n",
       " 'status': 'backlog',\n",
       " 'due_date': None,\n",
       " 'date_created': '1724958606754',\n",
       " 'url': 'https://app.clickup.com/t/86a4r2jbp',\n",
       " 'assignees': [],\n",
       " 'error': None}"
      ]
     },
     "execution_count": 238,
     "metadata": {},
     "output_type": "execute_result"
    }
   ],
   "source": [
    "tool = GetTaskTool()\n",
    "result = tool._run(task_id='86a4r2jbp')\n",
    "result"
   ]
  },
  {
   "cell_type": "markdown",
   "metadata": {},
   "source": [
    "## Get Workspace Seats"
   ]
  },
  {
   "cell_type": "code",
   "execution_count": 18,
   "metadata": {},
   "outputs": [],
   "source": [
    "from composio.tools.local.clickup.actions.get_workspace_seats import GetWorkspaceSeats, GetWorkspaceSeatsRequest, GetWorkspaceSeatsResponse\n",
    "class GetWorkspaceSeatsTool(BaseTool):\n",
    "    name: str = \"get_workspace_seats_tool\"\n",
    "    description: str = \"\"\"\n",
    "    Ferramenta para visualizar detalhes das vagas de um Workspace no ClickUp.\n",
    "    - Obter informações sobre as vagas usadas, totais e disponíveis:\n",
    "        Invocar: \"GetWorkspaceSeatsTool\" com o ID do time (Workspace).\n",
    "    \"\"\"\n",
    "    args_schema: Type[BaseModel] = GetWorkspaceSeatsRequest\n",
    "    headers: dict = {\"Authorization\": f\"{CLICKUP_TOKEN}\"}\n",
    "\n",
    "    def __init__(self, **data):\n",
    "        super().__init__(**data)\n",
    "\n",
    "    def _run(self, **kwargs) -> Any:\n",
    "        \"\"\"Executa a requisição para obter detalhes das vagas de um Workspace no ClickUp\"\"\"\n",
    "\n",
    "        action = GetWorkspaceSeats()\n",
    "\n",
    "        url = f\"{action.url}{action.path}\".format(team_id=kwargs.get('team_id'))\n",
    "\n",
    "        query_params = {}\n",
    "\n",
    "        response = requests.get(url, headers=self.headers, params=query_params)\n",
    "\n",
    "        if response.status_code == 200:\n",
    "            response_json = response.json()\n",
    "        else:\n",
    "            try:\n",
    "                response_json = response.json()\n",
    "            except requests.JSONDecodeError:\n",
    "                response_json = {\"error\": \"Invalid JSON response\"}\n",
    "\n",
    "        print(f\"Response Body: {response_json}\")\n",
    "        return GetWorkspaceSeatsResponse(data=response_json)"
   ]
  },
  {
   "cell_type": "code",
   "execution_count": 21,
   "metadata": {},
   "outputs": [
    {
     "name": "stdout",
     "output_type": "stream",
     "text": [
      "Response Body: {'members': {'filled_members_seats': 10, 'total_member_seats': 10, 'empty_member_seats': 0}, 'guests': {'filled_guest_seats': 5, 'total_guest_seats': 10, 'empty_guest_seats': 5}}\n",
      "GetWorkspaceSeatsResponse(data={'members': {'filled_members_seats': 10, 'total_member_seats': 10, 'empty_member_seats': 0}, 'guests': {'filled_guest_seats': 5, 'total_guest_seats': 10, 'empty_guest_seats': 5}})\n"
     ]
    }
   ],
   "source": [
    "from pprint import pprint\n",
    "\n",
    "tool = GetWorkspaceSeatsTool()\n",
    "result = tool._run(team_id=12927880)\n",
    "pprint(result)"
   ]
  },
  {
   "cell_type": "code",
   "execution_count": 23,
   "metadata": {},
   "outputs": [
    {
     "name": "stdout",
     "output_type": "stream",
     "text": [
      "{'guests': {'empty_guest_seats': 5,\n",
      "            'filled_guest_seats': 5,\n",
      "            'total_guest_seats': 10},\n",
      " 'members': {'empty_member_seats': 0,\n",
      "             'filled_members_seats': 10,\n",
      "             'total_member_seats': 10}}\n"
     ]
    }
   ],
   "source": [
    "pprint(result.data)"
   ]
  },
  {
   "cell_type": "markdown",
   "metadata": {},
   "source": [
    "## Agente"
   ]
  },
  {
   "cell_type": "code",
   "execution_count": null,
   "metadata": {},
   "outputs": [],
   "source": [
    "from langchain import hub\n",
    "from langchain_openai import AzureChatOpenAI\n",
    "from langchain.agents import AgentExecutor, create_tool_calling_agent\n",
    "\n",
    "load_dotenv()\n",
    "\n",
    "llm = AzureChatOpenAI(model=\"gpt-4o\")\n",
    "prompt = hub.pull(\"hwchase17/openai-tools-agent\", api_key=os.getenv(\"LANGCHAIN_API_KEY\"))"
   ]
  },
  {
   "cell_type": "code",
   "execution_count": null,
   "metadata": {},
   "outputs": [],
   "source": [
    "new_prompt = f\"\"\"\"\\n\n",
    "Você é o Jarbas, Gerente de Projetos da Cogmo Technology\n",
    "\n",
    "Using Tools:\n",
    "You have access to a variety of tools to help you in your conversations.\n",
    "Make sure to always pass the correct arguments to each tool.\n",
    "\n",
    "Project Management:\n",
    "Use ClickUp to manage projects and tasks. To do that, you need to understand its structure.\n",
    "Users will refer to lists by name (not always the exact name), so you need to search for the closest match and get its ID.\n",
    "-> Workspace: The highest level of organization in ClickUp. It contains all of your Spaces.\n",
    "--> Space: A collection of Folders and Lists. It's a way to group related work together.\n",
    "---> Folder: Used to group Lists together.\n",
    "----> List: Used to group tasks together.\n",
    "-----> Task: The basic unit of work in ClickUp. They can be assigned to people, have due dates, and more.\n",
    "Important ClickUp IDs (Always use these IDs when interacting with ClickUp):\n",
    "- Cogmo Workspace (aka \"team_id\"): {os.getenv('CLICKUP_TEAM_ID', 12927880)}\n",
    "- 'Projetos' Space id {os.getenv('CLICKUP_PROJETOS_SPACE_ID', 54804921)}\n",
    "- \"Agentes Folder id: 90131663060\n",
    "- \"clickup_agent\" List id: 901304909413\n",
    "\"\"\"\n",
    "prompt.messages[0].prompt.template = new_prompt"
   ]
  },
  {
   "cell_type": "code",
   "execution_count": null,
   "metadata": {},
   "outputs": [],
   "source": [
    "tools = [\n",
    "    GetAuthorizedTeamsWorkspacesTool(),\n",
    "    GetAuthorizedUserTool(),\n",
    "    GetFolderTool(),\n",
    "    GetFoldersTool(),\n",
    "    GetListTool(),\n",
    "    GetListMembersTool(),\n",
    "    GetTaskMembersTool(),\n",
    "    GetSpaceTool(),\n",
    "    GetSpacesTool(),\n",
    "    # GetFilteredTeamTasksTool(),\n",
    "    GetTasksTool(),\n",
    "    GetTaskTool(),\n",
    "    GetWorkspaceSeatsTool(),\n",
    "    GetTaskCommentsTool(),\n",
    "    GetListsTool(),\n",
    "    CreateTaskTool(), \n",
    "    DeleteTaskTool(), \n",
    "    UpdateTaskTool(), \n",
    "    CreateTaskCommentTool(),\n",
    "    # AddTaskToListTool(),\n",
    "    RemoveTaskFromListTool(),\n",
    "    CreateFolderlessListTool(),\n",
    "    AddDependencyTool(),\n",
    "]\n",
    "\n",
    "agent = create_tool_calling_agent(llm, tools, prompt)\n",
    "agent_executor = AgentExecutor(agent=agent, tools=tools, verbose=True)"
   ]
  },
  {
   "cell_type": "code",
   "execution_count": null,
   "metadata": {},
   "outputs": [],
   "source": []
  },
  {
   "cell_type": "code",
   "execution_count": null,
   "metadata": {},
   "outputs": [
    {
     "data": {
      "text/plain": [
       "True"
      ]
     },
     "execution_count": 28,
     "metadata": {},
     "output_type": "execute_result"
    }
   ],
   "source": [
    "efdgbfgbnfgnfxgnxf"
   ]
  },
  {
   "cell_type": "markdown",
   "metadata": {},
   "source": [
    "# Testes"
   ]
  },
  {
   "cell_type": "markdown",
   "metadata": {},
   "source": [
    "## Teste 1 - Criar Tarefa"
   ]
  },
  {
   "cell_type": "code",
   "execution_count": null,
   "metadata": {},
   "outputs": [
    {
     "name": "stdout",
     "output_type": "stream",
     "text": [
      "\n",
      "\n",
      "\u001b[1m> Entering new AgentExecutor chain...\u001b[0m\n",
      "\u001b[32;1m\u001b[1;3m\n",
      "Invoking: `create_task_tool` with `{'list_id': 901304909413, 'name': 'TESTE BEM SUCEDIDO04', 'assignees': [82061927]}`\n",
      "\n",
      "\n",
      "\u001b[0mResponse Body: {'id': '86a4r1ux8', 'custom_id': None, 'custom_item_id': 0, 'name': 'TESTE BEM SUCEDIDO04', 'text_content': '', 'description': '', 'status': {'id': 'p54804921_1gR1N0KG', 'status': 'backlog', 'color': '#9c09bc', 'orderindex': 0, 'type': 'open'}, 'orderindex': '119424843.00000000000000000000000000000000', 'date_created': '1724956015230', 'date_updated': '1724956015230', 'date_closed': None, 'date_done': None, 'archived': False, 'creator': {'id': 84141406, 'username': 'Ana Beatriz', 'color': '#455963', 'email': 'ti@cogmo.com.br', 'profilePicture': 'https://attachments.clickup.com/profilePictures/84141406_ZkZ.jpg'}, 'assignees': [{'id': 82061927, 'username': 'Rafael Alves Magalhães', 'color': '', 'initials': 'RM', 'email': 'magalhaesrafael07@gmail.com', 'profilePicture': None}], 'group_assignees': [], 'watchers': [{'id': 82061927, 'username': 'Rafael Alves Magalhães', 'color': '', 'initials': 'RM', 'email': 'magalhaesrafael07@gmail.com', 'profilePicture': None}, {'id': 84141406, 'username': 'Ana Beatriz', 'color': '#455963', 'initials': 'AB', 'email': 'ti@cogmo.com.br', 'profilePicture': 'https://attachments.clickup.com/profilePictures/84141406_ZkZ.jpg'}], 'checklists': [], 'tags': [], 'parent': None, 'priority': None, 'due_date': None, 'start_date': None, 'points': None, 'time_estimate': None, 'time_spent': 0, 'custom_fields': [], 'dependencies': [], 'linked_tasks': [], 'locations': [], 'team_id': '12927880', 'url': 'https://app.clickup.com/t/86a4r1ux8', 'sharing': {'public': False, 'public_share_expires_on': None, 'public_fields': ['assignees', 'priority', 'due_date', 'content', 'comments', 'attachments', 'customFields', 'subtasks', 'tags', 'checklists', 'coverimage'], 'token': None, 'seo_optimized': False}, 'permission_level': 'create', 'list': {'id': '901304909413', 'name': 'clickup_agent', 'access': True}, 'project': {'id': '90132806032', 'name': 'agente clickup playgroud (ana beatriz)', 'hidden': False, 'access': True}, 'folder': {'id': '90132806032', 'name': 'agente clickup playgroud (ana beatriz)', 'hidden': False, 'access': True}, 'space': {'id': '54804921'}}\n",
      "\u001b[36;1m\u001b[1;3mdata={'id': '86a4r1ux8', 'custom_id': None, 'custom_item_id': 0, 'name': 'TESTE BEM SUCEDIDO04', 'text_content': '', 'description': '', 'status': {'id': 'p54804921_1gR1N0KG', 'status': 'backlog', 'color': '#9c09bc', 'orderindex': 0, 'type': 'open'}, 'orderindex': '119424843.00000000000000000000000000000000', 'date_created': '1724956015230', 'date_updated': '1724956015230', 'date_closed': None, 'date_done': None, 'archived': False, 'creator': {'id': 84141406, 'username': 'Ana Beatriz', 'color': '#455963', 'email': 'ti@cogmo.com.br', 'profilePicture': 'https://attachments.clickup.com/profilePictures/84141406_ZkZ.jpg'}, 'assignees': [{'id': 82061927, 'username': 'Rafael Alves Magalhães', 'color': '', 'initials': 'RM', 'email': 'magalhaesrafael07@gmail.com', 'profilePicture': None}], 'group_assignees': [], 'watchers': [{'id': 82061927, 'username': 'Rafael Alves Magalhães', 'color': '', 'initials': 'RM', 'email': 'magalhaesrafael07@gmail.com', 'profilePicture': None}, {'id': 84141406, 'username': 'Ana Beatriz', 'color': '#455963', 'initials': 'AB', 'email': 'ti@cogmo.com.br', 'profilePicture': 'https://attachments.clickup.com/profilePictures/84141406_ZkZ.jpg'}], 'checklists': [], 'tags': [], 'parent': None, 'priority': None, 'due_date': None, 'start_date': None, 'points': None, 'time_estimate': None, 'time_spent': 0, 'custom_fields': [], 'dependencies': [], 'linked_tasks': [], 'locations': [], 'team_id': '12927880', 'url': 'https://app.clickup.com/t/86a4r1ux8', 'sharing': {'public': False, 'public_share_expires_on': None, 'public_fields': ['assignees', 'priority', 'due_date', 'content', 'comments', 'attachments', 'customFields', 'subtasks', 'tags', 'checklists', 'coverimage'], 'token': None, 'seo_optimized': False}, 'permission_level': 'create', 'list': {'id': '901304909413', 'name': 'clickup_agent', 'access': True}, 'project': {'id': '90132806032', 'name': 'agente clickup playgroud (ana beatriz)', 'hidden': False, 'access': True}, 'folder': {'id': '90132806032', 'name': 'agente clickup playgroud (ana beatriz)', 'hidden': False, 'access': True}, 'space': {'id': '54804921'}}\u001b[0m\u001b[32;1m\u001b[1;3mA tarefa 'TESTE BEM SUCEDIDO04' foi criada com sucesso e Rafael Magalhães foi designado como responsável. \n",
      "\n",
      "Você pode visualizar a tarefa [aqui](https://app.clickup.com/t/86a4r1ux8).\u001b[0m\n",
      "\n",
      "\u001b[1m> Finished chain.\u001b[0m\n"
     ]
    },
    {
     "data": {
      "text/plain": [
       "{'input': \"Crie uma tarefa com o título 'TESTE BEM SUCEDIDO04' e coloque Rafael Magalhães (id: 82061927) como responsável.\",\n",
       " 'output': \"A tarefa 'TESTE BEM SUCEDIDO04' foi criada com sucesso e Rafael Magalhães foi designado como responsável. \\n\\nVocê pode visualizar a tarefa [aqui](https://app.clickup.com/t/86a4r1ux8).\"}"
      ]
     },
     "execution_count": 29,
     "metadata": {},
     "output_type": "execute_result"
    }
   ],
   "source": [
    "agent_executor.invoke(\n",
    "    {\n",
    "        \"input\": \"Crie uma tarefa com o título 'TESTE BEM SUCEDIDO04' e coloque Rafael Magalhães (id: 82061927) como responsável.\"\n",
    "    }\n",
    ")"
   ]
  },
  {
   "cell_type": "markdown",
   "metadata": {},
   "source": [
    "## Teste 2 - Dependências"
   ]
  },
  {
   "cell_type": "code",
   "execution_count": null,
   "metadata": {},
   "outputs": [
    {
     "name": "stdout",
     "output_type": "stream",
     "text": [
      "\n",
      "\n",
      "\u001b[1m> Entering new AgentExecutor chain...\u001b[0m\n",
      "\u001b[32;1m\u001b[1;3m\n",
      "Invoking: `create_task_tool` with `{'list_id': 901304909413, 'name': 'FUNDAÇÃO'}`\n",
      "\n",
      "\n",
      "\u001b[0mResponse Body: {'id': '86a4r3bxu', 'custom_id': None, 'custom_item_id': 0, 'name': 'FUNDAÇÃO', 'text_content': '', 'description': '', 'status': {'id': 'p54804921_1gR1N0KG', 'status': 'backlog', 'color': '#9c09bc', 'orderindex': 0, 'type': 'open'}, 'orderindex': '119424854.00000000000000000000000000000000', 'date_created': '1724961383153', 'date_updated': '1724961383153', 'date_closed': None, 'date_done': None, 'archived': False, 'creator': {'id': 84141406, 'username': 'Ana Beatriz', 'color': '#455963', 'email': 'ti@cogmo.com.br', 'profilePicture': 'https://attachments.clickup.com/profilePictures/84141406_ZkZ.jpg'}, 'assignees': [], 'group_assignees': [], 'watchers': [{'id': 84141406, 'username': 'Ana Beatriz', 'color': '#455963', 'initials': 'AB', 'email': 'ti@cogmo.com.br', 'profilePicture': 'https://attachments.clickup.com/profilePictures/84141406_ZkZ.jpg'}], 'checklists': [], 'tags': [], 'parent': None, 'priority': None, 'due_date': None, 'start_date': None, 'points': None, 'time_estimate': None, 'time_spent': 0, 'custom_fields': [], 'dependencies': [], 'linked_tasks': [], 'locations': [], 'team_id': '12927880', 'url': 'https://app.clickup.com/t/86a4r3bxu', 'sharing': {'public': False, 'public_share_expires_on': None, 'public_fields': ['assignees', 'priority', 'due_date', 'content', 'comments', 'attachments', 'customFields', 'subtasks', 'tags', 'checklists', 'coverimage'], 'token': None, 'seo_optimized': False}, 'permission_level': 'create', 'list': {'id': '901304909413', 'name': 'clickup_agent', 'access': True}, 'project': {'id': '90132806032', 'name': 'agente clickup playgroud (ana beatriz)', 'hidden': False, 'access': True}, 'folder': {'id': '90132806032', 'name': 'agente clickup playgroud (ana beatriz)', 'hidden': False, 'access': True}, 'space': {'id': '54804921'}}\n",
      "\u001b[36;1m\u001b[1;3mdata={'id': '86a4r3bxu', 'custom_id': None, 'custom_item_id': 0, 'name': 'FUNDAÇÃO', 'text_content': '', 'description': '', 'status': {'id': 'p54804921_1gR1N0KG', 'status': 'backlog', 'color': '#9c09bc', 'orderindex': 0, 'type': 'open'}, 'orderindex': '119424854.00000000000000000000000000000000', 'date_created': '1724961383153', 'date_updated': '1724961383153', 'date_closed': None, 'date_done': None, 'archived': False, 'creator': {'id': 84141406, 'username': 'Ana Beatriz', 'color': '#455963', 'email': 'ti@cogmo.com.br', 'profilePicture': 'https://attachments.clickup.com/profilePictures/84141406_ZkZ.jpg'}, 'assignees': [], 'group_assignees': [], 'watchers': [{'id': 84141406, 'username': 'Ana Beatriz', 'color': '#455963', 'initials': 'AB', 'email': 'ti@cogmo.com.br', 'profilePicture': 'https://attachments.clickup.com/profilePictures/84141406_ZkZ.jpg'}], 'checklists': [], 'tags': [], 'parent': None, 'priority': None, 'due_date': None, 'start_date': None, 'points': None, 'time_estimate': None, 'time_spent': 0, 'custom_fields': [], 'dependencies': [], 'linked_tasks': [], 'locations': [], 'team_id': '12927880', 'url': 'https://app.clickup.com/t/86a4r3bxu', 'sharing': {'public': False, 'public_share_expires_on': None, 'public_fields': ['assignees', 'priority', 'due_date', 'content', 'comments', 'attachments', 'customFields', 'subtasks', 'tags', 'checklists', 'coverimage'], 'token': None, 'seo_optimized': False}, 'permission_level': 'create', 'list': {'id': '901304909413', 'name': 'clickup_agent', 'access': True}, 'project': {'id': '90132806032', 'name': 'agente clickup playgroud (ana beatriz)', 'hidden': False, 'access': True}, 'folder': {'id': '90132806032', 'name': 'agente clickup playgroud (ana beatriz)', 'hidden': False, 'access': True}, 'space': {'id': '54804921'}}\u001b[0m\u001b[32;1m\u001b[1;3m\n",
      "Invoking: `create_task_tool` with `{'list_id': 901304909413, 'name': 'ALVENARIA'}`\n",
      "\n",
      "\n",
      "\u001b[0mResponse Body: {'id': '86a4r3bym', 'custom_id': None, 'custom_item_id': 0, 'name': 'ALVENARIA', 'text_content': '', 'description': '', 'status': {'id': 'p54804921_1gR1N0KG', 'status': 'backlog', 'color': '#9c09bc', 'orderindex': 0, 'type': 'open'}, 'orderindex': '119424855.00000000000000000000000000000000', 'date_created': '1724961384759', 'date_updated': '1724961384759', 'date_closed': None, 'date_done': None, 'archived': False, 'creator': {'id': 84141406, 'username': 'Ana Beatriz', 'color': '#455963', 'email': 'ti@cogmo.com.br', 'profilePicture': 'https://attachments.clickup.com/profilePictures/84141406_ZkZ.jpg'}, 'assignees': [], 'group_assignees': [], 'watchers': [{'id': 84141406, 'username': 'Ana Beatriz', 'color': '#455963', 'initials': 'AB', 'email': 'ti@cogmo.com.br', 'profilePicture': 'https://attachments.clickup.com/profilePictures/84141406_ZkZ.jpg'}], 'checklists': [], 'tags': [], 'parent': None, 'priority': None, 'due_date': None, 'start_date': None, 'points': None, 'time_estimate': None, 'time_spent': 0, 'custom_fields': [], 'dependencies': [], 'linked_tasks': [], 'locations': [], 'team_id': '12927880', 'url': 'https://app.clickup.com/t/86a4r3bym', 'sharing': {'public': False, 'public_share_expires_on': None, 'public_fields': ['assignees', 'priority', 'due_date', 'content', 'comments', 'attachments', 'customFields', 'subtasks', 'tags', 'checklists', 'coverimage'], 'token': None, 'seo_optimized': False}, 'permission_level': 'create', 'list': {'id': '901304909413', 'name': 'clickup_agent', 'access': True}, 'project': {'id': '90132806032', 'name': 'agente clickup playgroud (ana beatriz)', 'hidden': False, 'access': True}, 'folder': {'id': '90132806032', 'name': 'agente clickup playgroud (ana beatriz)', 'hidden': False, 'access': True}, 'space': {'id': '54804921'}}\n",
      "\u001b[36;1m\u001b[1;3mdata={'id': '86a4r3bym', 'custom_id': None, 'custom_item_id': 0, 'name': 'ALVENARIA', 'text_content': '', 'description': '', 'status': {'id': 'p54804921_1gR1N0KG', 'status': 'backlog', 'color': '#9c09bc', 'orderindex': 0, 'type': 'open'}, 'orderindex': '119424855.00000000000000000000000000000000', 'date_created': '1724961384759', 'date_updated': '1724961384759', 'date_closed': None, 'date_done': None, 'archived': False, 'creator': {'id': 84141406, 'username': 'Ana Beatriz', 'color': '#455963', 'email': 'ti@cogmo.com.br', 'profilePicture': 'https://attachments.clickup.com/profilePictures/84141406_ZkZ.jpg'}, 'assignees': [], 'group_assignees': [], 'watchers': [{'id': 84141406, 'username': 'Ana Beatriz', 'color': '#455963', 'initials': 'AB', 'email': 'ti@cogmo.com.br', 'profilePicture': 'https://attachments.clickup.com/profilePictures/84141406_ZkZ.jpg'}], 'checklists': [], 'tags': [], 'parent': None, 'priority': None, 'due_date': None, 'start_date': None, 'points': None, 'time_estimate': None, 'time_spent': 0, 'custom_fields': [], 'dependencies': [], 'linked_tasks': [], 'locations': [], 'team_id': '12927880', 'url': 'https://app.clickup.com/t/86a4r3bym', 'sharing': {'public': False, 'public_share_expires_on': None, 'public_fields': ['assignees', 'priority', 'due_date', 'content', 'comments', 'attachments', 'customFields', 'subtasks', 'tags', 'checklists', 'coverimage'], 'token': None, 'seo_optimized': False}, 'permission_level': 'create', 'list': {'id': '901304909413', 'name': 'clickup_agent', 'access': True}, 'project': {'id': '90132806032', 'name': 'agente clickup playgroud (ana beatriz)', 'hidden': False, 'access': True}, 'folder': {'id': '90132806032', 'name': 'agente clickup playgroud (ana beatriz)', 'hidden': False, 'access': True}, 'space': {'id': '54804921'}}\u001b[0m\u001b[32;1m\u001b[1;3m\n",
      "Invoking: `add_dependency_tool` with `{'task_id': '86a4r3bym', 'depends_on': '86a4r3bxu'}`\n",
      "\n",
      "\n",
      "\u001b[0mResponse Body: {}\n",
      "\u001b[38;5;200m\u001b[1;3mdata={}\u001b[0m\u001b[32;1m\u001b[1;3mAs tarefas foram criadas com sucesso:\n",
      "\n",
      "1. **FUNDAÇÃO**.\n",
      "2. **ALVENARIA**, que depende da tarefa **FUNDAÇÃO**.\n",
      "\n",
      "Se precisar de mais alguma coisa, estou à disposição!\u001b[0m\n",
      "\n",
      "\u001b[1m> Finished chain.\u001b[0m\n"
     ]
    },
    {
     "data": {
      "text/plain": [
       "{'input': \"Crie duas tarefas. Uma delas com o título 'ALVENARIA', que depende da outra, intitulada 'FUNDAÇÃO'.\",\n",
       " 'output': 'As tarefas foram criadas com sucesso:\\n\\n1. **FUNDAÇÃO**.\\n2. **ALVENARIA**, que depende da tarefa **FUNDAÇÃO**.\\n\\nSe precisar de mais alguma coisa, estou à disposição!'}"
      ]
     },
     "execution_count": 152,
     "metadata": {},
     "output_type": "execute_result"
    }
   ],
   "source": [
    "agent_executor.invoke(\n",
    "    {\n",
    "        \"input\": \"Crie duas tarefas. Uma delas com o título 'ALVENARIA', que depende da outra, intitulada 'FUNDAÇÃO'.\"\n",
    "    }\n",
    ")"
   ]
  },
  {
   "cell_type": "markdown",
   "metadata": {},
   "source": [
    "## Teste 3 - Remover task"
   ]
  },
  {
   "cell_type": "code",
   "execution_count": null,
   "metadata": {},
   "outputs": [],
   "source": [
    "# agent_executor.invoke(\n",
    "#     {\n",
    "#         \"input\": \"Remova a tarefa com nome 'TESTE BEM SUCEDIDO'.\"\n",
    "#     }\n",
    "# )"
   ]
  },
  {
   "cell_type": "markdown",
   "metadata": {},
   "source": [
    "### Tests 4 - Update Task"
   ]
  },
  {
   "cell_type": "code",
   "execution_count": null,
   "metadata": {},
   "outputs": [],
   "source": [
    "# agent_executor.invoke(\n",
    "#     {\n",
    "#         \"input\": \"Atualize a tarefa de id '86a4qp7up', adicionando .\"\n",
    "#     }\n",
    "# )"
   ]
  },
  {
   "cell_type": "markdown",
   "metadata": {},
   "source": [
    "## Teste 4 - Authorized Workspaces"
   ]
  },
  {
   "cell_type": "code",
   "execution_count": null,
   "metadata": {},
   "outputs": [
    {
     "name": "stdout",
     "output_type": "stream",
     "text": [
      "\n",
      "\n",
      "\u001b[1m> Entering new AgentExecutor chain...\u001b[0m\n",
      "\u001b[32;1m\u001b[1;3m\n",
      "Invoking: `get_authorized_teams_workspaces_tool` with `{}`\n",
      "\n",
      "\n",
      "\u001b[0mResponse Body: {'teams': [{'id': '12927880', 'name': 'Cogmo Workspace', 'color': '#202020', 'avatar': 'https://attachments2.clickup.com/team_avatars/12927880_9xT.blob?Expires=1740700800&Key-Pair-Id=APKAIYJRUKB5RLQWHZWQ&Signature=lALHzDXUpHyxGJaGVRoy5zroZaNOUO1vkaaj0McCQC8muNZw5NDN1ipcVA4NXK5jHbr4skU17MnVvzRdwp63R1DmoC-RGaZvZjpOGyIRygOnLxzIIw1SSRbmdtaEUHHBmBTzojnf1B~Z~mLYne95h1thRe7Sgzzsa5U1P3b-2v0RnypCO610xUGj8DPdWC~jkNpW-skW9n8J~PLSt5JJZoyMCILKCqF6pV2de7W01ONWngTkrQ1QkXHWgc13t72zGYvJJ0dkHVlAGSR6op7K1HwpWJYCK3D5E3NxGdDOPgbnKrJp0XbKH328i7zJQO8AnskZh8oD56qGq20e7EMjcw__', 'members': [{'user': {'id': 84141406, 'username': 'Ana Beatriz', 'email': 'ti@cogmo.com.br', 'color': '#455963', 'profilePicture': 'https://attachments.clickup.com/profilePictures/84141406_ZkZ.jpg', 'initials': 'AB', 'role': 2, 'custom_role': None, 'last_active': '1724919274127', 'date_joined': '1722348822697', 'date_invited': '1722348667135'}, 'invited_by': {'id': 18951490, 'username': 'Gabriel Alberton', 'color': '#7b68ee', 'email': 'gabriel@cogmo.com.br', 'initials': 'GA', 'profilePicture': 'https://attachments.clickup.com/profilePictures/18951490_W33.jpg'}}, {'user': {'id': 44309342, 'username': 'Hibrael Loures', 'email': 'ibraelmoura@gmail.com', 'color': None, 'profilePicture': 'https://attachments.clickup.com/profilePictures/44309342_YHC.jpg', 'initials': 'HL', 'role': 3, 'custom_role': None, 'last_active': '1723603353249', 'date_joined': '1719500887900', 'date_invited': '1719500735732'}, 'invited_by': {'id': 18951490, 'username': 'Gabriel Alberton', 'color': '#7b68ee', 'email': 'gabriel@cogmo.com.br', 'initials': 'GA', 'profilePicture': 'https://attachments.clickup.com/profilePictures/18951490_W33.jpg'}}, {'user': {'id': 82061927, 'username': 'Rafael Alves Magalhães', 'email': 'magalhaesrafael07@gmail.com', 'color': '', 'profilePicture': None, 'initials': 'RM', 'role': 3, 'custom_role': None, 'last_active': '1724946328930', 'date_joined': '1715710208104', 'date_invited': '1715710148238'}, 'invited_by': {'id': 18951490, 'username': 'Gabriel Alberton', 'color': '#7b68ee', 'email': 'gabriel@cogmo.com.br', 'initials': 'GA', 'profilePicture': 'https://attachments.clickup.com/profilePictures/18951490_W33.jpg'}}, {'user': {'id': 3115657, 'username': 'Filipe Werlang', 'email': 'filipewerlang.d@gmail.com', 'color': '#622aea', 'profilePicture': 'https://attachments.clickup.com/profilePictures/3115657_GPh.jpg', 'initials': 'FW', 'role': 3, 'custom_role': None, 'last_active': '1716570383387', 'date_joined': '1713903403635', 'date_invited': '1713903340285'}, 'invited_by': {'id': 18951490, 'username': 'Gabriel Alberton', 'color': '#7b68ee', 'email': 'gabriel@cogmo.com.br', 'initials': 'GA', 'profilePicture': 'https://attachments.clickup.com/profilePictures/18951490_W33.jpg'}}, {'user': {'id': 72816031, 'username': 'Gabriel Silvestre', 'email': 'gabriel.h.silvestre11@gmail.com', 'color': '', 'profilePicture': None, 'initials': 'GS', 'role': 4, 'custom_role': None, 'last_active': '1711651350955', 'date_joined': '1706705323185', 'date_invited': '1706703387889'}, 'invited_by': {'id': 18951490, 'username': 'Gabriel Alberton', 'color': '#7b68ee', 'email': 'gabriel@cogmo.com.br', 'initials': 'GA', 'profilePicture': 'https://attachments.clickup.com/profilePictures/18951490_W33.jpg'}, 'can_see_time_spent': True, 'can_see_time_estimated': True, 'can_see_points_estimated': True, 'can_edit_tags': False, 'can_create_views': False}, {'user': {'id': 81955248, 'username': 'Sara Lima dos Santos', 'email': 'zarahlimma@gmail.com', 'color': '#02579b', 'profilePicture': None, 'initials': 'SS', 'role': 4, 'custom_role': None, 'last_active': '1705520398448', 'date_joined': '1700762889153', 'date_invited': '1700762748501'}, 'invited_by': {'id': 18951490, 'username': 'Gabriel Alberton', 'color': '#7b68ee', 'email': 'gabriel@cogmo.com.br', 'initials': 'GA', 'profilePicture': 'https://attachments.clickup.com/profilePictures/18951490_W33.jpg'}, 'can_see_time_spent': True, 'can_see_time_estimated': True, 'can_see_points_estimated': True, 'can_edit_tags': False, 'can_create_views': False}, {'user': {'id': 81942227, 'username': None, 'email': 'asdf@hbnjg.com', 'color': None, 'profilePicture': None, 'initials': 'A', 'role': 4, 'custom_role': None, 'last_active': None, 'date_joined': None, 'date_invited': '1697648867625'}, 'invited_by': {'id': 18951490, 'username': 'Gabriel Alberton', 'color': '#7b68ee', 'email': 'gabriel@cogmo.com.br', 'initials': 'GA', 'profilePicture': 'https://attachments.clickup.com/profilePictures/18951490_W33.jpg'}, 'can_see_time_spent': True, 'can_see_time_estimated': True, 'can_see_points_estimated': True, 'can_edit_tags': False, 'can_create_views': False}, {'user': {'id': 81942111, 'username': 'Romulo Fernando', 'email': 'fssromulo@gmail.com', 'color': '#ff897f', 'profilePicture': None, 'initials': 'RF', 'role': 4, 'custom_role': None, 'last_active': '1697657536419', 'date_joined': '1697639835143', 'date_invited': '1697639162077'}, 'invited_by': {'id': 18951490, 'username': 'Gabriel Alberton', 'color': '#7b68ee', 'email': 'gabriel@cogmo.com.br', 'initials': 'GA', 'profilePicture': 'https://attachments.clickup.com/profilePictures/18951490_W33.jpg'}, 'can_see_time_spent': True, 'can_see_time_estimated': True, 'can_see_points_estimated': True, 'can_edit_tags': False, 'can_create_views': False}, {'user': {'id': 32424453, 'username': 'Marcelo Marra', 'email': 'marcelo@devsquad.email', 'color': '#ffa12f', 'profilePicture': None, 'initials': 'MM', 'role': 4, 'custom_role': None, 'last_active': '1697856401732', 'date_joined': '1697578574655', 'date_invited': '1697578470743'}, 'invited_by': {'id': 18951490, 'username': 'Gabriel Alberton', 'color': '#7b68ee', 'email': 'gabriel@cogmo.com.br', 'initials': 'GA', 'profilePicture': 'https://attachments.clickup.com/profilePictures/18951490_W33.jpg'}, 'can_see_time_spent': True, 'can_see_time_estimated': True, 'can_see_points_estimated': True, 'can_edit_tags': False, 'can_create_views': False}, {'user': {'id': 81941856, 'username': 'Joseph Torres Kaltenecker', 'email': 'joseph.kaltenecker@gmail.com', 'color': '#d60800', 'profilePicture': None, 'initials': 'JK', 'role': 4, 'custom_role': None, 'last_active': '1697684220484', 'date_joined': '1697584232755', 'date_invited': '1697569495566'}, 'invited_by': {'id': 18951490, 'username': 'Gabriel Alberton', 'color': '#7b68ee', 'email': 'gabriel@cogmo.com.br', 'initials': 'GA', 'profilePicture': 'https://attachments.clickup.com/profilePictures/18951490_W33.jpg'}, 'can_see_time_spent': True, 'can_see_time_estimated': True, 'can_see_points_estimated': True, 'can_edit_tags': False, 'can_create_views': False}, {'user': {'id': 42954980, 'username': 'Paulo Gontijo', 'email': 'paulo@devsquad.email', 'color': '#cddc39', 'profilePicture': None, 'initials': 'PG', 'role': 4, 'custom_role': None, 'last_active': '1697629728042', 'date_joined': '1697564620641', 'date_invited': '1697549149854'}, 'invited_by': {'id': 18951490, 'username': 'Gabriel Alberton', 'color': '#7b68ee', 'email': 'gabriel@cogmo.com.br', 'initials': 'GA', 'profilePicture': 'https://attachments.clickup.com/profilePictures/18951490_W33.jpg'}, 'can_see_time_spent': True, 'can_see_time_estimated': True, 'can_see_points_estimated': True, 'can_edit_tags': False, 'can_create_views': False}, {'user': {'id': 81934261, 'username': 'Davi Mello de Figueiredo', 'email': 'davi.figueiredo@devsquad.email', 'color': '#02579b', 'profilePicture': None, 'initials': 'DF', 'role': 4, 'custom_role': None, 'last_active': '1697515706191', 'date_joined': '1696005734675', 'date_invited': '1695853301124'}, 'invited_by': {'id': 18951490, 'username': 'Gabriel Alberton', 'color': '#7b68ee', 'email': 'gabriel@cogmo.com.br', 'initials': 'GA', 'profilePicture': 'https://attachments.clickup.com/profilePictures/18951490_W33.jpg'}, 'can_see_time_spent': True, 'can_see_time_estimated': True, 'can_see_points_estimated': True, 'can_edit_tags': False, 'can_create_views': False}, {'user': {'id': 32443176, 'username': 'Wellington Mota', 'email': 'wellington@devsquad.email', 'color': '#006063', 'profilePicture': None, 'initials': 'WM', 'role': 4, 'custom_role': None, 'last_active': '1697218599283', 'date_joined': '1696015880511', 'date_invited': '1695853300919'}, 'invited_by': {'id': 18951490, 'username': 'Gabriel Alberton', 'color': '#7b68ee', 'email': 'gabriel@cogmo.com.br', 'initials': 'GA', 'profilePicture': 'https://attachments.clickup.com/profilePictures/18951490_W33.jpg'}, 'can_see_time_spent': True, 'can_see_time_estimated': True, 'can_see_points_estimated': True, 'can_edit_tags': False, 'can_create_views': False}, {'user': {'id': 54949151, 'username': 'DAC CAPITAL', 'email': 'gerencial@daccapital.com.br', 'color': '#2ea52c', 'profilePicture': None, 'initials': 'DC', 'role': 4, 'custom_role': None, 'last_active': '1702326584933', 'date_joined': '1702326323812', 'date_invited': '1695150324637'}, 'invited_by': {'id': 18951490, 'username': 'Gabriel Alberton', 'color': '#7b68ee', 'email': 'gabriel@cogmo.com.br', 'initials': 'GA', 'profilePicture': 'https://attachments.clickup.com/profilePictures/18951490_W33.jpg'}, 'can_see_time_spent': True, 'can_see_time_estimated': True, 'can_see_points_estimated': True, 'can_edit_tags': False, 'can_create_views': False}, {'user': {'id': 81930584, 'username': None, 'email': 'raquel.cardoso@daccapital.br', 'color': None, 'profilePicture': None, 'initials': 'R', 'role': 4, 'custom_role': None, 'last_active': None, 'date_joined': None, 'date_invited': '1695150306102'}, 'invited_by': {'id': 18951490, 'username': 'Gabriel Alberton', 'color': '#7b68ee', 'email': 'gabriel@cogmo.com.br', 'initials': 'GA', 'profilePicture': 'https://attachments.clickup.com/profilePictures/18951490_W33.jpg'}, 'can_see_time_spent': True, 'can_see_time_estimated': True, 'can_see_points_estimated': True, 'can_edit_tags': False, 'can_create_views': False}, {'user': {'id': 54951651, 'username': 'Legal', 'email': 'legal@daccapital.com.br', 'color': '#622aea', 'profilePicture': None, 'initials': 'L', 'role': 4, 'custom_role': None, 'last_active': '1695665069022', 'date_joined': '1695151113312', 'date_invited': '1694655863772'}, 'invited_by': {'id': 18951490, 'username': 'Gabriel Alberton', 'color': '#7b68ee', 'email': 'gabriel@cogmo.com.br', 'initials': 'GA', 'profilePicture': 'https://attachments.clickup.com/profilePictures/18951490_W33.jpg'}, 'can_see_time_spent': True, 'can_see_time_estimated': True, 'can_see_points_estimated': True, 'can_edit_tags': False, 'can_create_views': False}, {'user': {'id': 81918955, 'username': 'João Guilherme Silva Morossini', 'email': 'joaog.morossini@gmail.com', 'color': '#81b1ff', 'profilePicture': 'https://attachments.clickup.com/profilePictures/81918955_kcK.jpg', 'initials': 'JM', 'role': 3, 'custom_role': None, 'last_active': '1724922565907', 'date_joined': '1693245712205', 'date_invited': '1693245455315'}, 'invited_by': {'id': 18951490, 'username': 'Gabriel Alberton', 'color': '#7b68ee', 'email': 'gabriel@cogmo.com.br', 'initials': 'GA', 'profilePicture': 'https://attachments.clickup.com/profilePictures/18951490_W33.jpg'}}, {'user': {'id': 55040420, 'username': 'Gabriela Barreto Alberton', 'email': 'gabibalberton@gmail.com', 'color': '#f8306d', 'profilePicture': 'https://attachments.clickup.com/profilePictures/55040420_3Pe.jpg', 'initials': 'GA', 'role': 3, 'custom_role': None, 'last_active': '1695936684276', 'date_joined': '1671653244700', 'date_invited': '1671653134716'}, 'invited_by': {'id': 18951490, 'username': 'Gabriel Alberton', 'color': '#7b68ee', 'email': 'gabriel@cogmo.com.br', 'initials': 'GA', 'profilePicture': 'https://attachments.clickup.com/profilePictures/18951490_W33.jpg'}}, {'user': {'id': 3195751, 'username': 'Nicolas Augusto França Melo', 'email': 'nicolasfmelo@gmail.com', 'color': '#ff4081', 'profilePicture': 'https://attachments.clickup.com/profilePictures/3195751_KsS.jpg', 'initials': 'NM', 'role': 4, 'custom_role': None, 'last_active': '1701520726948', 'date_joined': '1670092173360', 'date_invited': '1670092062140'}, 'invited_by': {'id': 18951490, 'username': 'Gabriel Alberton', 'color': '#7b68ee', 'email': 'gabriel@cogmo.com.br', 'initials': 'GA', 'profilePicture': 'https://attachments.clickup.com/profilePictures/18951490_W33.jpg'}, 'can_see_time_spent': True, 'can_see_time_estimated': True, 'can_see_points_estimated': True, 'can_edit_tags': False, 'can_create_views': False}, {'user': {'id': 54979221, 'username': 'Caio Ferreira da Costa Macedo', 'email': 'cmacedo2011@hotmail.com', 'color': '#ff4081', 'profilePicture': None, 'initials': 'CM', 'role': 3, 'custom_role': None, 'last_active': '1724948757756', 'date_joined': '1667955977241', 'date_invited': '1667952178032'}, 'invited_by': {'id': 18951490, 'username': 'Gabriel Alberton', 'color': '#7b68ee', 'email': 'gabriel@cogmo.com.br', 'initials': 'GA', 'profilePicture': 'https://attachments.clickup.com/profilePictures/18951490_W33.jpg'}}, {'user': {'id': 54969508, 'username': 'Jessé Dantas Macedo Santos de Jesus', 'email': 'jessedantasti@gmail.com', 'color': '#388d3c', 'profilePicture': None, 'initials': 'JJ', 'role': 4, 'custom_role': None, 'last_active': '1719953610878', 'date_joined': '1667507094940', 'date_invited': '1667506942142'}, 'invited_by': {'id': 18951490, 'username': 'Gabriel Alberton', 'color': '#7b68ee', 'email': 'gabriel@cogmo.com.br', 'initials': 'GA', 'profilePicture': 'https://attachments.clickup.com/profilePictures/18951490_W33.jpg'}, 'can_see_time_spent': True, 'can_see_time_estimated': True, 'can_see_points_estimated': True, 'can_edit_tags': False, 'can_create_views': False}, {'user': {'id': 54951654, 'username': 'RAQUEL AMARAL CARDOSO', 'email': 'raquel.cardoso@daccapital.com.br', 'color': '#622aea', 'profilePicture': None, 'initials': 'RC', 'role': 4, 'custom_role': None, 'last_active': '1675922064014', 'date_joined': '1667487082668', 'date_invited': '1667356810385'}, 'invited_by': {'id': 18951490, 'username': 'Gabriel Alberton', 'color': '#7b68ee', 'email': 'gabriel@cogmo.com.br', 'initials': 'GA', 'profilePicture': 'https://attachments.clickup.com/profilePictures/18951490_W33.jpg'}, 'can_see_time_spent': True, 'can_see_time_estimated': True, 'can_see_points_estimated': True, 'can_edit_tags': False, 'can_create_views': False}, {'user': {'id': 49198435, 'username': 'Rafael Macedo Mendonça', 'email': 'rafael.macedo@perceptus.ai', 'color': '#5d4037', 'profilePicture': None, 'initials': 'RM', 'role': 3, 'custom_role': None, 'last_active': '1724457258995', 'date_joined': '1664404432181', 'date_invited': '1664404270203'}, 'invited_by': {'id': 18951490, 'username': 'Gabriel Alberton', 'color': '#7b68ee', 'email': 'gabriel@cogmo.com.br', 'initials': 'GA', 'profilePicture': 'https://attachments.clickup.com/profilePictures/18951490_W33.jpg'}}, {'user': {'id': 49198378, 'username': 'Ana Carolina Dos Santos', 'email': 'ana.carolina0509@gmail.com', 'color': '#795548', 'profilePicture': None, 'initials': 'AS', 'role': 4, 'custom_role': None, 'last_active': '1708656179438', 'date_joined': '1664410489464', 'date_invited': '1664401974533'}, 'invited_by': {'id': 18951490, 'username': 'Gabriel Alberton', 'color': '#7b68ee', 'email': 'gabriel@cogmo.com.br', 'initials': 'GA', 'profilePicture': 'https://attachments.clickup.com/profilePictures/18951490_W33.jpg'}, 'can_see_time_spent': True, 'can_see_time_estimated': True, 'can_see_points_estimated': True, 'can_edit_tags': False, 'can_create_views': False}, {'user': {'id': 49193170, 'username': 'Ricardo Terra', 'email': 'rterra88@gmail.com', 'color': '#07a092', 'profilePicture': None, 'initials': 'RT', 'role': 4, 'custom_role': None, 'last_active': '1722545119906', 'date_joined': '1664219470550', 'date_invited': '1664219444037'}, 'invited_by': {'id': 18951490, 'username': 'Gabriel Alberton', 'color': '#7b68ee', 'email': 'gabriel@cogmo.com.br', 'initials': 'GA', 'profilePicture': 'https://attachments.clickup.com/profilePictures/18951490_W33.jpg'}, 'can_see_time_spent': True, 'can_see_time_estimated': True, 'can_see_points_estimated': True, 'can_edit_tags': False, 'can_create_views': False}, {'user': {'id': 3027211, 'username': 'Denisson test', 'email': 'denissonfernades@gmail.com', 'color': '#afb42b', 'profilePicture': None, 'initials': 'DT', 'role': 4, 'custom_role': None, 'last_active': '1667362259881', 'date_joined': '1656636833254', 'date_invited': '1656633124280'}, 'invited_by': {'id': 18951490, 'username': 'Gabriel Alberton', 'color': '#7b68ee', 'email': 'gabriel@cogmo.com.br', 'initials': 'GA', 'profilePicture': 'https://attachments.clickup.com/profilePictures/18951490_W33.jpg'}, 'can_see_time_spent': True, 'can_see_time_estimated': True, 'can_see_points_estimated': True, 'can_edit_tags': False, 'can_create_views': False}, {'user': {'id': 48772077, 'username': 'Hélio Potelicki', 'email': 'helio@cogmo.com.br', 'color': '#2ea52c', 'profilePicture': 'https://attachments.clickup.com/profilePictures/48772077_rvb.jpg', 'initials': 'HP', 'role': 3, 'custom_role': None, 'last_active': '1724883304228', 'date_joined': '1649266868990', 'date_invited': '1649266363940'}, 'invited_by': {'id': 18951490, 'username': 'Gabriel Alberton', 'color': '#7b68ee', 'email': 'gabriel@cogmo.com.br', 'initials': 'GA', 'profilePicture': 'https://attachments.clickup.com/profilePictures/18951490_W33.jpg'}}, {'user': {'id': 18951490, 'username': 'Gabriel Alberton', 'email': 'gabriel@cogmo.com.br', 'color': '#7b68ee', 'profilePicture': 'https://attachments.clickup.com/profilePictures/18951490_W33.jpg', 'initials': 'GA', 'role': 1, 'custom_role': None, 'last_active': '1724946867915', 'date_joined': '1632348127957', 'date_invited': '1632348127957'}}]}]}\n",
      "\u001b[36;1m\u001b[1;3mdata={'teams': [{'id': '12927880', 'name': 'Cogmo Workspace', 'color': '#202020', 'avatar': 'https://attachments2.clickup.com/team_avatars/12927880_9xT.blob?Expires=1740700800&Key-Pair-Id=APKAIYJRUKB5RLQWHZWQ&Signature=lALHzDXUpHyxGJaGVRoy5zroZaNOUO1vkaaj0McCQC8muNZw5NDN1ipcVA4NXK5jHbr4skU17MnVvzRdwp63R1DmoC-RGaZvZjpOGyIRygOnLxzIIw1SSRbmdtaEUHHBmBTzojnf1B~Z~mLYne95h1thRe7Sgzzsa5U1P3b-2v0RnypCO610xUGj8DPdWC~jkNpW-skW9n8J~PLSt5JJZoyMCILKCqF6pV2de7W01ONWngTkrQ1QkXHWgc13t72zGYvJJ0dkHVlAGSR6op7K1HwpWJYCK3D5E3NxGdDOPgbnKrJp0XbKH328i7zJQO8AnskZh8oD56qGq20e7EMjcw__', 'members': [{'user': {'id': 84141406, 'username': 'Ana Beatriz', 'email': 'ti@cogmo.com.br', 'color': '#455963', 'profilePicture': 'https://attachments.clickup.com/profilePictures/84141406_ZkZ.jpg', 'initials': 'AB', 'role': 2, 'custom_role': None, 'last_active': '1724919274127', 'date_joined': '1722348822697', 'date_invited': '1722348667135'}, 'invited_by': {'id': 18951490, 'username': 'Gabriel Alberton', 'color': '#7b68ee', 'email': 'gabriel@cogmo.com.br', 'initials': 'GA', 'profilePicture': 'https://attachments.clickup.com/profilePictures/18951490_W33.jpg'}}, {'user': {'id': 44309342, 'username': 'Hibrael Loures', 'email': 'ibraelmoura@gmail.com', 'color': None, 'profilePicture': 'https://attachments.clickup.com/profilePictures/44309342_YHC.jpg', 'initials': 'HL', 'role': 3, 'custom_role': None, 'last_active': '1723603353249', 'date_joined': '1719500887900', 'date_invited': '1719500735732'}, 'invited_by': {'id': 18951490, 'username': 'Gabriel Alberton', 'color': '#7b68ee', 'email': 'gabriel@cogmo.com.br', 'initials': 'GA', 'profilePicture': 'https://attachments.clickup.com/profilePictures/18951490_W33.jpg'}}, {'user': {'id': 82061927, 'username': 'Rafael Alves Magalhães', 'email': 'magalhaesrafael07@gmail.com', 'color': '', 'profilePicture': None, 'initials': 'RM', 'role': 3, 'custom_role': None, 'last_active': '1724946328930', 'date_joined': '1715710208104', 'date_invited': '1715710148238'}, 'invited_by': {'id': 18951490, 'username': 'Gabriel Alberton', 'color': '#7b68ee', 'email': 'gabriel@cogmo.com.br', 'initials': 'GA', 'profilePicture': 'https://attachments.clickup.com/profilePictures/18951490_W33.jpg'}}, {'user': {'id': 3115657, 'username': 'Filipe Werlang', 'email': 'filipewerlang.d@gmail.com', 'color': '#622aea', 'profilePicture': 'https://attachments.clickup.com/profilePictures/3115657_GPh.jpg', 'initials': 'FW', 'role': 3, 'custom_role': None, 'last_active': '1716570383387', 'date_joined': '1713903403635', 'date_invited': '1713903340285'}, 'invited_by': {'id': 18951490, 'username': 'Gabriel Alberton', 'color': '#7b68ee', 'email': 'gabriel@cogmo.com.br', 'initials': 'GA', 'profilePicture': 'https://attachments.clickup.com/profilePictures/18951490_W33.jpg'}}, {'user': {'id': 72816031, 'username': 'Gabriel Silvestre', 'email': 'gabriel.h.silvestre11@gmail.com', 'color': '', 'profilePicture': None, 'initials': 'GS', 'role': 4, 'custom_role': None, 'last_active': '1711651350955', 'date_joined': '1706705323185', 'date_invited': '1706703387889'}, 'invited_by': {'id': 18951490, 'username': 'Gabriel Alberton', 'color': '#7b68ee', 'email': 'gabriel@cogmo.com.br', 'initials': 'GA', 'profilePicture': 'https://attachments.clickup.com/profilePictures/18951490_W33.jpg'}, 'can_see_time_spent': True, 'can_see_time_estimated': True, 'can_see_points_estimated': True, 'can_edit_tags': False, 'can_create_views': False}, {'user': {'id': 81955248, 'username': 'Sara Lima dos Santos', 'email': 'zarahlimma@gmail.com', 'color': '#02579b', 'profilePicture': None, 'initials': 'SS', 'role': 4, 'custom_role': None, 'last_active': '1705520398448', 'date_joined': '1700762889153', 'date_invited': '1700762748501'}, 'invited_by': {'id': 18951490, 'username': 'Gabriel Alberton', 'color': '#7b68ee', 'email': 'gabriel@cogmo.com.br', 'initials': 'GA', 'profilePicture': 'https://attachments.clickup.com/profilePictures/18951490_W33.jpg'}, 'can_see_time_spent': True, 'can_see_time_estimated': True, 'can_see_points_estimated': True, 'can_edit_tags': False, 'can_create_views': False}, {'user': {'id': 81942227, 'username': None, 'email': 'asdf@hbnjg.com', 'color': None, 'profilePicture': None, 'initials': 'A', 'role': 4, 'custom_role': None, 'last_active': None, 'date_joined': None, 'date_invited': '1697648867625'}, 'invited_by': {'id': 18951490, 'username': 'Gabriel Alberton', 'color': '#7b68ee', 'email': 'gabriel@cogmo.com.br', 'initials': 'GA', 'profilePicture': 'https://attachments.clickup.com/profilePictures/18951490_W33.jpg'}, 'can_see_time_spent': True, 'can_see_time_estimated': True, 'can_see_points_estimated': True, 'can_edit_tags': False, 'can_create_views': False}, {'user': {'id': 81942111, 'username': 'Romulo Fernando', 'email': 'fssromulo@gmail.com', 'color': '#ff897f', 'profilePicture': None, 'initials': 'RF', 'role': 4, 'custom_role': None, 'last_active': '1697657536419', 'date_joined': '1697639835143', 'date_invited': '1697639162077'}, 'invited_by': {'id': 18951490, 'username': 'Gabriel Alberton', 'color': '#7b68ee', 'email': 'gabriel@cogmo.com.br', 'initials': 'GA', 'profilePicture': 'https://attachments.clickup.com/profilePictures/18951490_W33.jpg'}, 'can_see_time_spent': True, 'can_see_time_estimated': True, 'can_see_points_estimated': True, 'can_edit_tags': False, 'can_create_views': False}, {'user': {'id': 32424453, 'username': 'Marcelo Marra', 'email': 'marcelo@devsquad.email', 'color': '#ffa12f', 'profilePicture': None, 'initials': 'MM', 'role': 4, 'custom_role': None, 'last_active': '1697856401732', 'date_joined': '1697578574655', 'date_invited': '1697578470743'}, 'invited_by': {'id': 18951490, 'username': 'Gabriel Alberton', 'color': '#7b68ee', 'email': 'gabriel@cogmo.com.br', 'initials': 'GA', 'profilePicture': 'https://attachments.clickup.com/profilePictures/18951490_W33.jpg'}, 'can_see_time_spent': True, 'can_see_time_estimated': True, 'can_see_points_estimated': True, 'can_edit_tags': False, 'can_create_views': False}, {'user': {'id': 81941856, 'username': 'Joseph Torres Kaltenecker', 'email': 'joseph.kaltenecker@gmail.com', 'color': '#d60800', 'profilePicture': None, 'initials': 'JK', 'role': 4, 'custom_role': None, 'last_active': '1697684220484', 'date_joined': '1697584232755', 'date_invited': '1697569495566'}, 'invited_by': {'id': 18951490, 'username': 'Gabriel Alberton', 'color': '#7b68ee', 'email': 'gabriel@cogmo.com.br', 'initials': 'GA', 'profilePicture': 'https://attachments.clickup.com/profilePictures/18951490_W33.jpg'}, 'can_see_time_spent': True, 'can_see_time_estimated': True, 'can_see_points_estimated': True, 'can_edit_tags': False, 'can_create_views': False}, {'user': {'id': 42954980, 'username': 'Paulo Gontijo', 'email': 'paulo@devsquad.email', 'color': '#cddc39', 'profilePicture': None, 'initials': 'PG', 'role': 4, 'custom_role': None, 'last_active': '1697629728042', 'date_joined': '1697564620641', 'date_invited': '1697549149854'}, 'invited_by': {'id': 18951490, 'username': 'Gabriel Alberton', 'color': '#7b68ee', 'email': 'gabriel@cogmo.com.br', 'initials': 'GA', 'profilePicture': 'https://attachments.clickup.com/profilePictures/18951490_W33.jpg'}, 'can_see_time_spent': True, 'can_see_time_estimated': True, 'can_see_points_estimated': True, 'can_edit_tags': False, 'can_create_views': False}, {'user': {'id': 81934261, 'username': 'Davi Mello de Figueiredo', 'email': 'davi.figueiredo@devsquad.email', 'color': '#02579b', 'profilePicture': None, 'initials': 'DF', 'role': 4, 'custom_role': None, 'last_active': '1697515706191', 'date_joined': '1696005734675', 'date_invited': '1695853301124'}, 'invited_by': {'id': 18951490, 'username': 'Gabriel Alberton', 'color': '#7b68ee', 'email': 'gabriel@cogmo.com.br', 'initials': 'GA', 'profilePicture': 'https://attachments.clickup.com/profilePictures/18951490_W33.jpg'}, 'can_see_time_spent': True, 'can_see_time_estimated': True, 'can_see_points_estimated': True, 'can_edit_tags': False, 'can_create_views': False}, {'user': {'id': 32443176, 'username': 'Wellington Mota', 'email': 'wellington@devsquad.email', 'color': '#006063', 'profilePicture': None, 'initials': 'WM', 'role': 4, 'custom_role': None, 'last_active': '1697218599283', 'date_joined': '1696015880511', 'date_invited': '1695853300919'}, 'invited_by': {'id': 18951490, 'username': 'Gabriel Alberton', 'color': '#7b68ee', 'email': 'gabriel@cogmo.com.br', 'initials': 'GA', 'profilePicture': 'https://attachments.clickup.com/profilePictures/18951490_W33.jpg'}, 'can_see_time_spent': True, 'can_see_time_estimated': True, 'can_see_points_estimated': True, 'can_edit_tags': False, 'can_create_views': False}, {'user': {'id': 54949151, 'username': 'DAC CAPITAL', 'email': 'gerencial@daccapital.com.br', 'color': '#2ea52c', 'profilePicture': None, 'initials': 'DC', 'role': 4, 'custom_role': None, 'last_active': '1702326584933', 'date_joined': '1702326323812', 'date_invited': '1695150324637'}, 'invited_by': {'id': 18951490, 'username': 'Gabriel Alberton', 'color': '#7b68ee', 'email': 'gabriel@cogmo.com.br', 'initials': 'GA', 'profilePicture': 'https://attachments.clickup.com/profilePictures/18951490_W33.jpg'}, 'can_see_time_spent': True, 'can_see_time_estimated': True, 'can_see_points_estimated': True, 'can_edit_tags': False, 'can_create_views': False}, {'user': {'id': 81930584, 'username': None, 'email': 'raquel.cardoso@daccapital.br', 'color': None, 'profilePicture': None, 'initials': 'R', 'role': 4, 'custom_role': None, 'last_active': None, 'date_joined': None, 'date_invited': '1695150306102'}, 'invited_by': {'id': 18951490, 'username': 'Gabriel Alberton', 'color': '#7b68ee', 'email': 'gabriel@cogmo.com.br', 'initials': 'GA', 'profilePicture': 'https://attachments.clickup.com/profilePictures/18951490_W33.jpg'}, 'can_see_time_spent': True, 'can_see_time_estimated': True, 'can_see_points_estimated': True, 'can_edit_tags': False, 'can_create_views': False}, {'user': {'id': 54951651, 'username': 'Legal', 'email': 'legal@daccapital.com.br', 'color': '#622aea', 'profilePicture': None, 'initials': 'L', 'role': 4, 'custom_role': None, 'last_active': '1695665069022', 'date_joined': '1695151113312', 'date_invited': '1694655863772'}, 'invited_by': {'id': 18951490, 'username': 'Gabriel Alberton', 'color': '#7b68ee', 'email': 'gabriel@cogmo.com.br', 'initials': 'GA', 'profilePicture': 'https://attachments.clickup.com/profilePictures/18951490_W33.jpg'}, 'can_see_time_spent': True, 'can_see_time_estimated': True, 'can_see_points_estimated': True, 'can_edit_tags': False, 'can_create_views': False}, {'user': {'id': 81918955, 'username': 'João Guilherme Silva Morossini', 'email': 'joaog.morossini@gmail.com', 'color': '#81b1ff', 'profilePicture': 'https://attachments.clickup.com/profilePictures/81918955_kcK.jpg', 'initials': 'JM', 'role': 3, 'custom_role': None, 'last_active': '1724922565907', 'date_joined': '1693245712205', 'date_invited': '1693245455315'}, 'invited_by': {'id': 18951490, 'username': 'Gabriel Alberton', 'color': '#7b68ee', 'email': 'gabriel@cogmo.com.br', 'initials': 'GA', 'profilePicture': 'https://attachments.clickup.com/profilePictures/18951490_W33.jpg'}}, {'user': {'id': 55040420, 'username': 'Gabriela Barreto Alberton', 'email': 'gabibalberton@gmail.com', 'color': '#f8306d', 'profilePicture': 'https://attachments.clickup.com/profilePictures/55040420_3Pe.jpg', 'initials': 'GA', 'role': 3, 'custom_role': None, 'last_active': '1695936684276', 'date_joined': '1671653244700', 'date_invited': '1671653134716'}, 'invited_by': {'id': 18951490, 'username': 'Gabriel Alberton', 'color': '#7b68ee', 'email': 'gabriel@cogmo.com.br', 'initials': 'GA', 'profilePicture': 'https://attachments.clickup.com/profilePictures/18951490_W33.jpg'}}, {'user': {'id': 3195751, 'username': 'Nicolas Augusto França Melo', 'email': 'nicolasfmelo@gmail.com', 'color': '#ff4081', 'profilePicture': 'https://attachments.clickup.com/profilePictures/3195751_KsS.jpg', 'initials': 'NM', 'role': 4, 'custom_role': None, 'last_active': '1701520726948', 'date_joined': '1670092173360', 'date_invited': '1670092062140'}, 'invited_by': {'id': 18951490, 'username': 'Gabriel Alberton', 'color': '#7b68ee', 'email': 'gabriel@cogmo.com.br', 'initials': 'GA', 'profilePicture': 'https://attachments.clickup.com/profilePictures/18951490_W33.jpg'}, 'can_see_time_spent': True, 'can_see_time_estimated': True, 'can_see_points_estimated': True, 'can_edit_tags': False, 'can_create_views': False}, {'user': {'id': 54979221, 'username': 'Caio Ferreira da Costa Macedo', 'email': 'cmacedo2011@hotmail.com', 'color': '#ff4081', 'profilePicture': None, 'initials': 'CM', 'role': 3, 'custom_role': None, 'last_active': '1724948757756', 'date_joined': '1667955977241', 'date_invited': '1667952178032'}, 'invited_by': {'id': 18951490, 'username': 'Gabriel Alberton', 'color': '#7b68ee', 'email': 'gabriel@cogmo.com.br', 'initials': 'GA', 'profilePicture': 'https://attachments.clickup.com/profilePictures/18951490_W33.jpg'}}, {'user': {'id': 54969508, 'username': 'Jessé Dantas Macedo Santos de Jesus', 'email': 'jessedantasti@gmail.com', 'color': '#388d3c', 'profilePicture': None, 'initials': 'JJ', 'role': 4, 'custom_role': None, 'last_active': '1719953610878', 'date_joined': '1667507094940', 'date_invited': '1667506942142'}, 'invited_by': {'id': 18951490, 'username': 'Gabriel Alberton', 'color': '#7b68ee', 'email': 'gabriel@cogmo.com.br', 'initials': 'GA', 'profilePicture': 'https://attachments.clickup.com/profilePictures/18951490_W33.jpg'}, 'can_see_time_spent': True, 'can_see_time_estimated': True, 'can_see_points_estimated': True, 'can_edit_tags': False, 'can_create_views': False}, {'user': {'id': 54951654, 'username': 'RAQUEL AMARAL CARDOSO', 'email': 'raquel.cardoso@daccapital.com.br', 'color': '#622aea', 'profilePicture': None, 'initials': 'RC', 'role': 4, 'custom_role': None, 'last_active': '1675922064014', 'date_joined': '1667487082668', 'date_invited': '1667356810385'}, 'invited_by': {'id': 18951490, 'username': 'Gabriel Alberton', 'color': '#7b68ee', 'email': 'gabriel@cogmo.com.br', 'initials': 'GA', 'profilePicture': 'https://attachments.clickup.com/profilePictures/18951490_W33.jpg'}, 'can_see_time_spent': True, 'can_see_time_estimated': True, 'can_see_points_estimated': True, 'can_edit_tags': False, 'can_create_views': False}, {'user': {'id': 49198435, 'username': 'Rafael Macedo Mendonça', 'email': 'rafael.macedo@perceptus.ai', 'color': '#5d4037', 'profilePicture': None, 'initials': 'RM', 'role': 3, 'custom_role': None, 'last_active': '1724457258995', 'date_joined': '1664404432181', 'date_invited': '1664404270203'}, 'invited_by': {'id': 18951490, 'username': 'Gabriel Alberton', 'color': '#7b68ee', 'email': 'gabriel@cogmo.com.br', 'initials': 'GA', 'profilePicture': 'https://attachments.clickup.com/profilePictures/18951490_W33.jpg'}}, {'user': {'id': 49198378, 'username': 'Ana Carolina Dos Santos', 'email': 'ana.carolina0509@gmail.com', 'color': '#795548', 'profilePicture': None, 'initials': 'AS', 'role': 4, 'custom_role': None, 'last_active': '1708656179438', 'date_joined': '1664410489464', 'date_invited': '1664401974533'}, 'invited_by': {'id': 18951490, 'username': 'Gabriel Alberton', 'color': '#7b68ee', 'email': 'gabriel@cogmo.com.br', 'initials': 'GA', 'profilePicture': 'https://attachments.clickup.com/profilePictures/18951490_W33.jpg'}, 'can_see_time_spent': True, 'can_see_time_estimated': True, 'can_see_points_estimated': True, 'can_edit_tags': False, 'can_create_views': False}, {'user': {'id': 49193170, 'username': 'Ricardo Terra', 'email': 'rterra88@gmail.com', 'color': '#07a092', 'profilePicture': None, 'initials': 'RT', 'role': 4, 'custom_role': None, 'last_active': '1722545119906', 'date_joined': '1664219470550', 'date_invited': '1664219444037'}, 'invited_by': {'id': 18951490, 'username': 'Gabriel Alberton', 'color': '#7b68ee', 'email': 'gabriel@cogmo.com.br', 'initials': 'GA', 'profilePicture': 'https://attachments.clickup.com/profilePictures/18951490_W33.jpg'}, 'can_see_time_spent': True, 'can_see_time_estimated': True, 'can_see_points_estimated': True, 'can_edit_tags': False, 'can_create_views': False}, {'user': {'id': 3027211, 'username': 'Denisson test', 'email': 'denissonfernades@gmail.com', 'color': '#afb42b', 'profilePicture': None, 'initials': 'DT', 'role': 4, 'custom_role': None, 'last_active': '1667362259881', 'date_joined': '1656636833254', 'date_invited': '1656633124280'}, 'invited_by': {'id': 18951490, 'username': 'Gabriel Alberton', 'color': '#7b68ee', 'email': 'gabriel@cogmo.com.br', 'initials': 'GA', 'profilePicture': 'https://attachments.clickup.com/profilePictures/18951490_W33.jpg'}, 'can_see_time_spent': True, 'can_see_time_estimated': True, 'can_see_points_estimated': True, 'can_edit_tags': False, 'can_create_views': False}, {'user': {'id': 48772077, 'username': 'Hélio Potelicki', 'email': 'helio@cogmo.com.br', 'color': '#2ea52c', 'profilePicture': 'https://attachments.clickup.com/profilePictures/48772077_rvb.jpg', 'initials': 'HP', 'role': 3, 'custom_role': None, 'last_active': '1724883304228', 'date_joined': '1649266868990', 'date_invited': '1649266363940'}, 'invited_by': {'id': 18951490, 'username': 'Gabriel Alberton', 'color': '#7b68ee', 'email': 'gabriel@cogmo.com.br', 'initials': 'GA', 'profilePicture': 'https://attachments.clickup.com/profilePictures/18951490_W33.jpg'}}, {'user': {'id': 18951490, 'username': 'Gabriel Alberton', 'email': 'gabriel@cogmo.com.br', 'color': '#7b68ee', 'profilePicture': 'https://attachments.clickup.com/profilePictures/18951490_W33.jpg', 'initials': 'GA', 'role': 1, 'custom_role': None, 'last_active': '1724946867915', 'date_joined': '1632348127957', 'date_invited': '1632348127957'}}]}]}\u001b[0m\u001b[32;1m\u001b[1;3mAtualmente, há um workspace disponível:\n",
      "\n",
      "- **Cogmo Workspace** (ID: 12927880)\u001b[0m\n",
      "\n",
      "\u001b[1m> Finished chain.\u001b[0m\n"
     ]
    },
    {
     "data": {
      "text/plain": [
       "{'input': 'Quais são os workspaces disponíveis?',\n",
       " 'output': 'Atualmente, há um workspace disponível:\\n\\n- **Cogmo Workspace** (ID: 12927880)'}"
      ]
     },
     "execution_count": 33,
     "metadata": {},
     "output_type": "execute_result"
    }
   ],
   "source": [
    "agent_executor.invoke(\n",
    "    {\n",
    "        \"input\": \"Quais são os workspaces disponíveis?\"\n",
    "    }\n",
    ")"
   ]
  },
  {
   "cell_type": "markdown",
   "metadata": {},
   "source": [
    "## Teste 5 - Authorized User"
   ]
  },
  {
   "cell_type": "code",
   "execution_count": null,
   "metadata": {},
   "outputs": [
    {
     "name": "stdout",
     "output_type": "stream",
     "text": [
      "\n",
      "\n",
      "\u001b[1m> Entering new AgentExecutor chain...\u001b[0m\n",
      "\u001b[32;1m\u001b[1;3m\n",
      "Invoking: `get_authorized_user_tool` with `{}`\n",
      "\n",
      "\n",
      "\u001b[0mResponse Body: {'user': {'id': 84141406, 'username': 'Ana Beatriz', 'email': 'ti@cogmo.com.br', 'color': '#455963', 'profilePicture': 'https://attachments.clickup.com/profilePictures/84141406_ZkZ.jpg', 'initials': 'AB', 'week_start_day': 1, 'global_font_support': True, 'timezone': 'America/Sao_Paulo'}}\n",
      "\u001b[33;1m\u001b[1;3mdata={'user': {'id': 84141406, 'username': 'Ana Beatriz', 'email': 'ti@cogmo.com.br', 'color': '#455963', 'profilePicture': 'https://attachments.clickup.com/profilePictures/84141406_ZkZ.jpg', 'initials': 'AB', 'week_start_day': 1, 'global_font_support': True, 'timezone': 'America/Sao_Paulo'}}\u001b[0m\u001b[32;1m\u001b[1;3mAqui estão as informações do seu usuário:\n",
      "\n",
      "- **Nome de Usuário:** Ana Beatriz\n",
      "- **Email:** ti@cogmo.com.br\n",
      "- **Cor do Perfil:** #455963\n",
      "- **Imagem do Perfil:** ![Profile Picture](https://attachments.clickup.com/profilePictures/84141406_ZkZ.jpg)\n",
      "- **Iniciais:** AB\n",
      "- **Primeiro Dia da Semana:** Segunda-feira\n",
      "- **Suporte Global a Fontes:** Sim\n",
      "- **Fuso Horário:** America/Sao_Paulo\u001b[0m\n",
      "\n",
      "\u001b[1m> Finished chain.\u001b[0m\n"
     ]
    },
    {
     "data": {
      "text/plain": [
       "{'input': 'Quais são as informações do meu usuário?',\n",
       " 'output': 'Aqui estão as informações do seu usuário:\\n\\n- **Nome de Usuário:** Ana Beatriz\\n- **Email:** ti@cogmo.com.br\\n- **Cor do Perfil:** #455963\\n- **Imagem do Perfil:** ![Profile Picture](https://attachments.clickup.com/profilePictures/84141406_ZkZ.jpg)\\n- **Iniciais:** AB\\n- **Primeiro Dia da Semana:** Segunda-feira\\n- **Suporte Global a Fontes:** Sim\\n- **Fuso Horário:** America/Sao_Paulo'}"
      ]
     },
     "execution_count": 34,
     "metadata": {},
     "output_type": "execute_result"
    }
   ],
   "source": [
    "agent_executor.invoke(\n",
    "    {\n",
    "        \"input\": \"Quais são as informações do meu usuário?\"\n",
    "    }\n",
    ")"
   ]
  },
  {
   "cell_type": "markdown",
   "metadata": {},
   "source": [
    "## Teste 6 - Get Folder"
   ]
  },
  {
   "cell_type": "code",
   "execution_count": null,
   "metadata": {},
   "outputs": [
    {
     "name": "stdout",
     "output_type": "stream",
     "text": [
      "\n",
      "\n",
      "\u001b[1m> Entering new AgentExecutor chain...\u001b[0m\n",
      "\u001b[32;1m\u001b[1;3m\n",
      "Invoking: `get_folder_tool` with `{'folder_id': 90131663060}`\n",
      "\n",
      "\n",
      "\u001b[0mResponse Body: {'id': '90131663060', 'name': 'Agentes', 'orderindex': 44, 'override_statuses': False, 'hidden': False, 'space': {'id': '54804921', 'name': 'Projetos', 'access': True}, 'task_count': '42', 'archived': False, 'statuses': [{'id': 'p54804921_KslxIFrF', 'status': 'doing', 'orderindex': 2, 'color': '#e16b16', 'type': 'custom'}, {'id': 'p54804921_yUsGlLJS', 'status': 'done', 'orderindex': 5, 'color': '#008844', 'type': 'closed'}, {'id': 'p54804921_1gR1N0KG', 'status': 'backlog', 'orderindex': 0, 'color': '#9c09bc', 'type': 'open'}, {'id': 'p54804921_oYhO88Lm', 'status': 'testing', 'orderindex': 3, 'color': '#d33d44', 'type': 'custom'}, {'id': 'p54804921_95z15BZN', 'status': 'todo', 'orderindex': 1, 'color': '#4466ff', 'type': 'custom'}, {'id': 'p54804921_sZXRFa49', 'status': 'brainstorming', 'orderindex': 4, 'color': '#1090e0', 'type': 'custom'}], 'lists': [{'id': '901303519577', 'name': 'Agents Hub', 'orderindex': 4, 'content': '', 'status': None, 'priority': None, 'assignee': None, 'task_count': 22, 'due_date': None, 'start_date': None, 'archived': False, 'override_statuses': False, 'statuses': [{'id': 'p54804921_1gR1N0KG', 'status': 'backlog', 'orderindex': 0, 'color': '#9c09bc', 'type': 'open', 'status_group': 'proj_54804921'}, {'id': 'p54804921_95z15BZN', 'status': 'todo', 'orderindex': 1, 'color': '#4466ff', 'type': 'custom', 'status_group': 'proj_54804921'}, {'id': 'p54804921_KslxIFrF', 'status': 'doing', 'orderindex': 2, 'color': '#e16b16', 'type': 'custom', 'status_group': 'proj_54804921'}, {'id': 'p54804921_oYhO88Lm', 'status': 'testing', 'orderindex': 3, 'color': '#d33d44', 'type': 'custom', 'status_group': 'proj_54804921'}, {'id': 'p54804921_sZXRFa49', 'status': 'brainstorming', 'orderindex': 4, 'color': '#1090e0', 'type': 'custom', 'status_group': 'proj_54804921'}, {'id': 'p54804921_yUsGlLJS', 'status': 'done', 'orderindex': 5, 'color': '#008844', 'type': 'closed', 'status_group': 'proj_54804921'}], 'permission_level': 'create'}, {'id': '901301915357', 'name': 'NutriChatBot', 'orderindex': 5, 'status': None, 'priority': None, 'assignee': None, 'task_count': 0, 'due_date': None, 'start_date': None, 'archived': False, 'override_statuses': None, 'statuses': [{'id': 'p54804921_1gR1N0KG', 'status': 'backlog', 'orderindex': 0, 'color': '#9c09bc', 'type': 'open', 'status_group': 'proj_54804921'}, {'id': 'p54804921_95z15BZN', 'status': 'todo', 'orderindex': 1, 'color': '#4466ff', 'type': 'custom', 'status_group': 'proj_54804921'}, {'id': 'p54804921_KslxIFrF', 'status': 'doing', 'orderindex': 2, 'color': '#e16b16', 'type': 'custom', 'status_group': 'proj_54804921'}, {'id': 'p54804921_oYhO88Lm', 'status': 'testing', 'orderindex': 3, 'color': '#d33d44', 'type': 'custom', 'status_group': 'proj_54804921'}, {'id': 'p54804921_sZXRFa49', 'status': 'brainstorming', 'orderindex': 4, 'color': '#1090e0', 'type': 'custom', 'status_group': 'proj_54804921'}, {'id': 'p54804921_yUsGlLJS', 'status': 'done', 'orderindex': 5, 'color': '#008844', 'type': 'closed', 'status_group': 'proj_54804921'}], 'permission_level': 'create'}, {'id': '901301762971', 'name': 'Chatbot Site e Cobrador', 'orderindex': 7, 'content': '', 'status': None, 'priority': {'priority': 'high', 'color': '#f8ae00'}, 'assignee': {'color': '#81b1ff', 'username': 'João Guilherme Silva Morossini', 'initials': 'JM', 'profilePicture': 'https://attachments.clickup.com/profilePictures/81918955_kcK.jpg'}, 'task_count': 1, 'due_date': None, 'start_date': '1706598000000', 'archived': False, 'override_statuses': True, 'statuses': [{'id': 'sc901301762971_TWYZRuMN', 'status': 'backlog', 'orderindex': 0, 'color': '#9c09bc', 'type': 'open', 'status_group': 'subcat_901301762971'}, {'id': 'sc901301762971_eHzppXvM', 'status': 'todo', 'orderindex': 1, 'color': '#4466ff', 'type': 'custom', 'status_group': 'subcat_901301762971'}, {'id': 'sc901301762971_oUwONxbj', 'status': 'doing', 'orderindex': 2, 'color': '#e16b16', 'type': 'custom', 'status_group': 'subcat_901301762971'}, {'id': 'sc901301762971_BDUC5nyv', 'status': 'testing', 'orderindex': 3, 'color': '#d33d44', 'type': 'custom', 'status_group': 'subcat_901301762971'}, {'id': 'sc901301762971_Qp3r38is', 'status': 'brainstorming', 'orderindex': 4, 'color': '#1090e0', 'type': 'custom', 'status_group': 'subcat_901301762971'}, {'id': 'sc901301762971_UP4PT3sp', 'status': 'waiting', 'orderindex': 5, 'color': '#f8ae00', 'type': 'custom', 'status_group': 'subcat_901301762971'}, {'id': 'sc901301762971_HzXA2xvY', 'status': 'done', 'orderindex': 6, 'color': '#008844', 'type': 'closed', 'status_group': 'subcat_901301762971'}], 'permission_level': 'create'}, {'id': '901303713036', 'name': 'Moderador de comunidade', 'orderindex': 9, 'status': None, 'priority': None, 'assignee': None, 'task_count': 1, 'due_date': None, 'start_date': None, 'archived': False, 'override_statuses': False, 'statuses': [{'id': 'p54804921_1gR1N0KG', 'status': 'backlog', 'orderindex': 0, 'color': '#9c09bc', 'type': 'open', 'status_group': 'proj_54804921'}, {'id': 'p54804921_95z15BZN', 'status': 'todo', 'orderindex': 1, 'color': '#4466ff', 'type': 'custom', 'status_group': 'proj_54804921'}, {'id': 'p54804921_KslxIFrF', 'status': 'doing', 'orderindex': 2, 'color': '#e16b16', 'type': 'custom', 'status_group': 'proj_54804921'}, {'id': 'p54804921_oYhO88Lm', 'status': 'testing', 'orderindex': 3, 'color': '#d33d44', 'type': 'custom', 'status_group': 'proj_54804921'}, {'id': 'p54804921_sZXRFa49', 'status': 'brainstorming', 'orderindex': 4, 'color': '#1090e0', 'type': 'custom', 'status_group': 'proj_54804921'}, {'id': 'p54804921_yUsGlLJS', 'status': 'done', 'orderindex': 5, 'color': '#008844', 'type': 'closed', 'status_group': 'proj_54804921'}], 'permission_level': 'create'}, {'id': '901303159092', 'name': 'Mediador', 'orderindex': 10, 'status': None, 'priority': None, 'assignee': None, 'task_count': 0, 'due_date': None, 'start_date': None, 'archived': False, 'override_statuses': None, 'statuses': [{'id': 'p54804921_1gR1N0KG', 'status': 'backlog', 'orderindex': 0, 'color': '#9c09bc', 'type': 'open', 'status_group': 'proj_54804921'}, {'id': 'p54804921_95z15BZN', 'status': 'todo', 'orderindex': 1, 'color': '#4466ff', 'type': 'custom', 'status_group': 'proj_54804921'}, {'id': 'p54804921_KslxIFrF', 'status': 'doing', 'orderindex': 2, 'color': '#e16b16', 'type': 'custom', 'status_group': 'proj_54804921'}, {'id': 'p54804921_oYhO88Lm', 'status': 'testing', 'orderindex': 3, 'color': '#d33d44', 'type': 'custom', 'status_group': 'proj_54804921'}, {'id': 'p54804921_sZXRFa49', 'status': 'brainstorming', 'orderindex': 4, 'color': '#1090e0', 'type': 'custom', 'status_group': 'proj_54804921'}, {'id': 'p54804921_yUsGlLJS', 'status': 'done', 'orderindex': 5, 'color': '#008844', 'type': 'closed', 'status_group': 'proj_54804921'}], 'permission_level': 'create'}, {'id': '901303713072', 'name': 'Peqii', 'orderindex': 12, 'status': None, 'priority': None, 'assignee': None, 'task_count': 3, 'due_date': None, 'start_date': None, 'archived': False, 'override_statuses': False, 'statuses': [{'id': 'p54804921_1gR1N0KG', 'status': 'backlog', 'orderindex': 0, 'color': '#9c09bc', 'type': 'open', 'status_group': 'proj_54804921'}, {'id': 'p54804921_95z15BZN', 'status': 'todo', 'orderindex': 1, 'color': '#4466ff', 'type': 'custom', 'status_group': 'proj_54804921'}, {'id': 'p54804921_KslxIFrF', 'status': 'doing', 'orderindex': 2, 'color': '#e16b16', 'type': 'custom', 'status_group': 'proj_54804921'}, {'id': 'p54804921_oYhO88Lm', 'status': 'testing', 'orderindex': 3, 'color': '#d33d44', 'type': 'custom', 'status_group': 'proj_54804921'}, {'id': 'p54804921_sZXRFa49', 'status': 'brainstorming', 'orderindex': 4, 'color': '#1090e0', 'type': 'custom', 'status_group': 'proj_54804921'}, {'id': 'p54804921_yUsGlLJS', 'status': 'done', 'orderindex': 5, 'color': '#008844', 'type': 'closed', 'status_group': 'proj_54804921'}], 'permission_level': 'create'}, {'id': '901303748839', 'name': 'Secretária', 'orderindex': 13, 'status': None, 'priority': None, 'assignee': None, 'task_count': 4, 'due_date': None, 'start_date': None, 'archived': False, 'override_statuses': False, 'statuses': [{'id': 'p54804921_1gR1N0KG', 'status': 'backlog', 'orderindex': 0, 'color': '#9c09bc', 'type': 'open', 'status_group': 'proj_54804921'}, {'id': 'p54804921_95z15BZN', 'status': 'todo', 'orderindex': 1, 'color': '#4466ff', 'type': 'custom', 'status_group': 'proj_54804921'}, {'id': 'p54804921_KslxIFrF', 'status': 'doing', 'orderindex': 2, 'color': '#e16b16', 'type': 'custom', 'status_group': 'proj_54804921'}, {'id': 'p54804921_oYhO88Lm', 'status': 'testing', 'orderindex': 3, 'color': '#d33d44', 'type': 'custom', 'status_group': 'proj_54804921'}, {'id': 'p54804921_sZXRFa49', 'status': 'brainstorming', 'orderindex': 4, 'color': '#1090e0', 'type': 'custom', 'status_group': 'proj_54804921'}, {'id': 'p54804921_yUsGlLJS', 'status': 'done', 'orderindex': 5, 'color': '#008844', 'type': 'closed', 'status_group': 'proj_54804921'}], 'permission_level': 'create'}, {'id': '901304886627', 'name': 'Educador', 'orderindex': 14, 'content': '', 'status': None, 'priority': None, 'assignee': None, 'task_count': 6, 'due_date': None, 'start_date': None, 'archived': False, 'override_statuses': False, 'statuses': [{'id': 'p54804921_1gR1N0KG', 'status': 'backlog', 'orderindex': 0, 'color': '#9c09bc', 'type': 'open', 'status_group': 'proj_54804921'}, {'id': 'p54804921_95z15BZN', 'status': 'todo', 'orderindex': 1, 'color': '#4466ff', 'type': 'custom', 'status_group': 'proj_54804921'}, {'id': 'p54804921_KslxIFrF', 'status': 'doing', 'orderindex': 2, 'color': '#e16b16', 'type': 'custom', 'status_group': 'proj_54804921'}, {'id': 'p54804921_oYhO88Lm', 'status': 'testing', 'orderindex': 3, 'color': '#d33d44', 'type': 'custom', 'status_group': 'proj_54804921'}, {'id': 'p54804921_sZXRFa49', 'status': 'brainstorming', 'orderindex': 4, 'color': '#1090e0', 'type': 'custom', 'status_group': 'proj_54804921'}, {'id': 'p54804921_yUsGlLJS', 'status': 'done', 'orderindex': 5, 'color': '#008844', 'type': 'closed', 'status_group': 'proj_54804921'}], 'permission_level': 'create'}, {'id': '901304907531', 'name': 'Gerente de projeto', 'orderindex': 15, 'content': '', 'status': None, 'priority': None, 'assignee': None, 'task_count': 3, 'due_date': None, 'start_date': None, 'archived': False, 'override_statuses': False, 'statuses': [{'id': 'p54804921_1gR1N0KG', 'status': 'backlog', 'orderindex': 0, 'color': '#9c09bc', 'type': 'open', 'status_group': 'proj_54804921'}, {'id': 'p54804921_95z15BZN', 'status': 'todo', 'orderindex': 1, 'color': '#4466ff', 'type': 'custom', 'status_group': 'proj_54804921'}, {'id': 'p54804921_KslxIFrF', 'status': 'doing', 'orderindex': 2, 'color': '#e16b16', 'type': 'custom', 'status_group': 'proj_54804921'}, {'id': 'p54804921_oYhO88Lm', 'status': 'testing', 'orderindex': 3, 'color': '#d33d44', 'type': 'custom', 'status_group': 'proj_54804921'}, {'id': 'p54804921_sZXRFa49', 'status': 'brainstorming', 'orderindex': 4, 'color': '#1090e0', 'type': 'custom', 'status_group': 'proj_54804921'}, {'id': 'p54804921_yUsGlLJS', 'status': 'done', 'orderindex': 5, 'color': '#008844', 'type': 'closed', 'status_group': 'proj_54804921'}], 'permission_level': 'create'}, {'id': '901304909787', 'name': 'Knowledge Graph e GraphRAG', 'orderindex': 17, 'content': '', 'status': None, 'priority': None, 'assignee': None, 'task_count': 2, 'due_date': None, 'start_date': None, 'archived': False, 'override_statuses': False, 'statuses': [{'id': 'p54804921_1gR1N0KG', 'status': 'backlog', 'orderindex': 0, 'color': '#9c09bc', 'type': 'open', 'status_group': 'proj_54804921'}, {'id': 'p54804921_95z15BZN', 'status': 'todo', 'orderindex': 1, 'color': '#4466ff', 'type': 'custom', 'status_group': 'proj_54804921'}, {'id': 'p54804921_KslxIFrF', 'status': 'doing', 'orderindex': 2, 'color': '#e16b16', 'type': 'custom', 'status_group': 'proj_54804921'}, {'id': 'p54804921_oYhO88Lm', 'status': 'testing', 'orderindex': 3, 'color': '#d33d44', 'type': 'custom', 'status_group': 'proj_54804921'}, {'id': 'p54804921_sZXRFa49', 'status': 'brainstorming', 'orderindex': 4, 'color': '#1090e0', 'type': 'custom', 'status_group': 'proj_54804921'}, {'id': 'p54804921_yUsGlLJS', 'status': 'done', 'orderindex': 5, 'color': '#008844', 'type': 'closed', 'status_group': 'proj_54804921'}], 'permission_level': 'create'}], 'permission_level': 'create'}\n",
      "\u001b[38;5;200m\u001b[1;3mdata={'id': '90131663060', 'name': 'Agentes', 'orderindex': 44, 'override_statuses': False, 'hidden': False, 'space': {'id': '54804921', 'name': 'Projetos', 'access': True}, 'task_count': '42', 'archived': False, 'statuses': [{'id': 'p54804921_KslxIFrF', 'status': 'doing', 'orderindex': 2, 'color': '#e16b16', 'type': 'custom'}, {'id': 'p54804921_yUsGlLJS', 'status': 'done', 'orderindex': 5, 'color': '#008844', 'type': 'closed'}, {'id': 'p54804921_1gR1N0KG', 'status': 'backlog', 'orderindex': 0, 'color': '#9c09bc', 'type': 'open'}, {'id': 'p54804921_oYhO88Lm', 'status': 'testing', 'orderindex': 3, 'color': '#d33d44', 'type': 'custom'}, {'id': 'p54804921_95z15BZN', 'status': 'todo', 'orderindex': 1, 'color': '#4466ff', 'type': 'custom'}, {'id': 'p54804921_sZXRFa49', 'status': 'brainstorming', 'orderindex': 4, 'color': '#1090e0', 'type': 'custom'}], 'lists': [{'id': '901303519577', 'name': 'Agents Hub', 'orderindex': 4, 'content': '', 'status': None, 'priority': None, 'assignee': None, 'task_count': 22, 'due_date': None, 'start_date': None, 'archived': False, 'override_statuses': False, 'statuses': [{'id': 'p54804921_1gR1N0KG', 'status': 'backlog', 'orderindex': 0, 'color': '#9c09bc', 'type': 'open', 'status_group': 'proj_54804921'}, {'id': 'p54804921_95z15BZN', 'status': 'todo', 'orderindex': 1, 'color': '#4466ff', 'type': 'custom', 'status_group': 'proj_54804921'}, {'id': 'p54804921_KslxIFrF', 'status': 'doing', 'orderindex': 2, 'color': '#e16b16', 'type': 'custom', 'status_group': 'proj_54804921'}, {'id': 'p54804921_oYhO88Lm', 'status': 'testing', 'orderindex': 3, 'color': '#d33d44', 'type': 'custom', 'status_group': 'proj_54804921'}, {'id': 'p54804921_sZXRFa49', 'status': 'brainstorming', 'orderindex': 4, 'color': '#1090e0', 'type': 'custom', 'status_group': 'proj_54804921'}, {'id': 'p54804921_yUsGlLJS', 'status': 'done', 'orderindex': 5, 'color': '#008844', 'type': 'closed', 'status_group': 'proj_54804921'}], 'permission_level': 'create'}, {'id': '901301915357', 'name': 'NutriChatBot', 'orderindex': 5, 'status': None, 'priority': None, 'assignee': None, 'task_count': 0, 'due_date': None, 'start_date': None, 'archived': False, 'override_statuses': None, 'statuses': [{'id': 'p54804921_1gR1N0KG', 'status': 'backlog', 'orderindex': 0, 'color': '#9c09bc', 'type': 'open', 'status_group': 'proj_54804921'}, {'id': 'p54804921_95z15BZN', 'status': 'todo', 'orderindex': 1, 'color': '#4466ff', 'type': 'custom', 'status_group': 'proj_54804921'}, {'id': 'p54804921_KslxIFrF', 'status': 'doing', 'orderindex': 2, 'color': '#e16b16', 'type': 'custom', 'status_group': 'proj_54804921'}, {'id': 'p54804921_oYhO88Lm', 'status': 'testing', 'orderindex': 3, 'color': '#d33d44', 'type': 'custom', 'status_group': 'proj_54804921'}, {'id': 'p54804921_sZXRFa49', 'status': 'brainstorming', 'orderindex': 4, 'color': '#1090e0', 'type': 'custom', 'status_group': 'proj_54804921'}, {'id': 'p54804921_yUsGlLJS', 'status': 'done', 'orderindex': 5, 'color': '#008844', 'type': 'closed', 'status_group': 'proj_54804921'}], 'permission_level': 'create'}, {'id': '901301762971', 'name': 'Chatbot Site e Cobrador', 'orderindex': 7, 'content': '', 'status': None, 'priority': {'priority': 'high', 'color': '#f8ae00'}, 'assignee': {'color': '#81b1ff', 'username': 'João Guilherme Silva Morossini', 'initials': 'JM', 'profilePicture': 'https://attachments.clickup.com/profilePictures/81918955_kcK.jpg'}, 'task_count': 1, 'due_date': None, 'start_date': '1706598000000', 'archived': False, 'override_statuses': True, 'statuses': [{'id': 'sc901301762971_TWYZRuMN', 'status': 'backlog', 'orderindex': 0, 'color': '#9c09bc', 'type': 'open', 'status_group': 'subcat_901301762971'}, {'id': 'sc901301762971_eHzppXvM', 'status': 'todo', 'orderindex': 1, 'color': '#4466ff', 'type': 'custom', 'status_group': 'subcat_901301762971'}, {'id': 'sc901301762971_oUwONxbj', 'status': 'doing', 'orderindex': 2, 'color': '#e16b16', 'type': 'custom', 'status_group': 'subcat_901301762971'}, {'id': 'sc901301762971_BDUC5nyv', 'status': 'testing', 'orderindex': 3, 'color': '#d33d44', 'type': 'custom', 'status_group': 'subcat_901301762971'}, {'id': 'sc901301762971_Qp3r38is', 'status': 'brainstorming', 'orderindex': 4, 'color': '#1090e0', 'type': 'custom', 'status_group': 'subcat_901301762971'}, {'id': 'sc901301762971_UP4PT3sp', 'status': 'waiting', 'orderindex': 5, 'color': '#f8ae00', 'type': 'custom', 'status_group': 'subcat_901301762971'}, {'id': 'sc901301762971_HzXA2xvY', 'status': 'done', 'orderindex': 6, 'color': '#008844', 'type': 'closed', 'status_group': 'subcat_901301762971'}], 'permission_level': 'create'}, {'id': '901303713036', 'name': 'Moderador de comunidade', 'orderindex': 9, 'status': None, 'priority': None, 'assignee': None, 'task_count': 1, 'due_date': None, 'start_date': None, 'archived': False, 'override_statuses': False, 'statuses': [{'id': 'p54804921_1gR1N0KG', 'status': 'backlog', 'orderindex': 0, 'color': '#9c09bc', 'type': 'open', 'status_group': 'proj_54804921'}, {'id': 'p54804921_95z15BZN', 'status': 'todo', 'orderindex': 1, 'color': '#4466ff', 'type': 'custom', 'status_group': 'proj_54804921'}, {'id': 'p54804921_KslxIFrF', 'status': 'doing', 'orderindex': 2, 'color': '#e16b16', 'type': 'custom', 'status_group': 'proj_54804921'}, {'id': 'p54804921_oYhO88Lm', 'status': 'testing', 'orderindex': 3, 'color': '#d33d44', 'type': 'custom', 'status_group': 'proj_54804921'}, {'id': 'p54804921_sZXRFa49', 'status': 'brainstorming', 'orderindex': 4, 'color': '#1090e0', 'type': 'custom', 'status_group': 'proj_54804921'}, {'id': 'p54804921_yUsGlLJS', 'status': 'done', 'orderindex': 5, 'color': '#008844', 'type': 'closed', 'status_group': 'proj_54804921'}], 'permission_level': 'create'}, {'id': '901303159092', 'name': 'Mediador', 'orderindex': 10, 'status': None, 'priority': None, 'assignee': None, 'task_count': 0, 'due_date': None, 'start_date': None, 'archived': False, 'override_statuses': None, 'statuses': [{'id': 'p54804921_1gR1N0KG', 'status': 'backlog', 'orderindex': 0, 'color': '#9c09bc', 'type': 'open', 'status_group': 'proj_54804921'}, {'id': 'p54804921_95z15BZN', 'status': 'todo', 'orderindex': 1, 'color': '#4466ff', 'type': 'custom', 'status_group': 'proj_54804921'}, {'id': 'p54804921_KslxIFrF', 'status': 'doing', 'orderindex': 2, 'color': '#e16b16', 'type': 'custom', 'status_group': 'proj_54804921'}, {'id': 'p54804921_oYhO88Lm', 'status': 'testing', 'orderindex': 3, 'color': '#d33d44', 'type': 'custom', 'status_group': 'proj_54804921'}, {'id': 'p54804921_sZXRFa49', 'status': 'brainstorming', 'orderindex': 4, 'color': '#1090e0', 'type': 'custom', 'status_group': 'proj_54804921'}, {'id': 'p54804921_yUsGlLJS', 'status': 'done', 'orderindex': 5, 'color': '#008844', 'type': 'closed', 'status_group': 'proj_54804921'}], 'permission_level': 'create'}, {'id': '901303713072', 'name': 'Peqii', 'orderindex': 12, 'status': None, 'priority': None, 'assignee': None, 'task_count': 3, 'due_date': None, 'start_date': None, 'archived': False, 'override_statuses': False, 'statuses': [{'id': 'p54804921_1gR1N0KG', 'status': 'backlog', 'orderindex': 0, 'color': '#9c09bc', 'type': 'open', 'status_group': 'proj_54804921'}, {'id': 'p54804921_95z15BZN', 'status': 'todo', 'orderindex': 1, 'color': '#4466ff', 'type': 'custom', 'status_group': 'proj_54804921'}, {'id': 'p54804921_KslxIFrF', 'status': 'doing', 'orderindex': 2, 'color': '#e16b16', 'type': 'custom', 'status_group': 'proj_54804921'}, {'id': 'p54804921_oYhO88Lm', 'status': 'testing', 'orderindex': 3, 'color': '#d33d44', 'type': 'custom', 'status_group': 'proj_54804921'}, {'id': 'p54804921_sZXRFa49', 'status': 'brainstorming', 'orderindex': 4, 'color': '#1090e0', 'type': 'custom', 'status_group': 'proj_54804921'}, {'id': 'p54804921_yUsGlLJS', 'status': 'done', 'orderindex': 5, 'color': '#008844', 'type': 'closed', 'status_group': 'proj_54804921'}], 'permission_level': 'create'}, {'id': '901303748839', 'name': 'Secretária', 'orderindex': 13, 'status': None, 'priority': None, 'assignee': None, 'task_count': 4, 'due_date': None, 'start_date': None, 'archived': False, 'override_statuses': False, 'statuses': [{'id': 'p54804921_1gR1N0KG', 'status': 'backlog', 'orderindex': 0, 'color': '#9c09bc', 'type': 'open', 'status_group': 'proj_54804921'}, {'id': 'p54804921_95z15BZN', 'status': 'todo', 'orderindex': 1, 'color': '#4466ff', 'type': 'custom', 'status_group': 'proj_54804921'}, {'id': 'p54804921_KslxIFrF', 'status': 'doing', 'orderindex': 2, 'color': '#e16b16', 'type': 'custom', 'status_group': 'proj_54804921'}, {'id': 'p54804921_oYhO88Lm', 'status': 'testing', 'orderindex': 3, 'color': '#d33d44', 'type': 'custom', 'status_group': 'proj_54804921'}, {'id': 'p54804921_sZXRFa49', 'status': 'brainstorming', 'orderindex': 4, 'color': '#1090e0', 'type': 'custom', 'status_group': 'proj_54804921'}, {'id': 'p54804921_yUsGlLJS', 'status': 'done', 'orderindex': 5, 'color': '#008844', 'type': 'closed', 'status_group': 'proj_54804921'}], 'permission_level': 'create'}, {'id': '901304886627', 'name': 'Educador', 'orderindex': 14, 'content': '', 'status': None, 'priority': None, 'assignee': None, 'task_count': 6, 'due_date': None, 'start_date': None, 'archived': False, 'override_statuses': False, 'statuses': [{'id': 'p54804921_1gR1N0KG', 'status': 'backlog', 'orderindex': 0, 'color': '#9c09bc', 'type': 'open', 'status_group': 'proj_54804921'}, {'id': 'p54804921_95z15BZN', 'status': 'todo', 'orderindex': 1, 'color': '#4466ff', 'type': 'custom', 'status_group': 'proj_54804921'}, {'id': 'p54804921_KslxIFrF', 'status': 'doing', 'orderindex': 2, 'color': '#e16b16', 'type': 'custom', 'status_group': 'proj_54804921'}, {'id': 'p54804921_oYhO88Lm', 'status': 'testing', 'orderindex': 3, 'color': '#d33d44', 'type': 'custom', 'status_group': 'proj_54804921'}, {'id': 'p54804921_sZXRFa49', 'status': 'brainstorming', 'orderindex': 4, 'color': '#1090e0', 'type': 'custom', 'status_group': 'proj_54804921'}, {'id': 'p54804921_yUsGlLJS', 'status': 'done', 'orderindex': 5, 'color': '#008844', 'type': 'closed', 'status_group': 'proj_54804921'}], 'permission_level': 'create'}, {'id': '901304907531', 'name': 'Gerente de projeto', 'orderindex': 15, 'content': '', 'status': None, 'priority': None, 'assignee': None, 'task_count': 3, 'due_date': None, 'start_date': None, 'archived': False, 'override_statuses': False, 'statuses': [{'id': 'p54804921_1gR1N0KG', 'status': 'backlog', 'orderindex': 0, 'color': '#9c09bc', 'type': 'open', 'status_group': 'proj_54804921'}, {'id': 'p54804921_95z15BZN', 'status': 'todo', 'orderindex': 1, 'color': '#4466ff', 'type': 'custom', 'status_group': 'proj_54804921'}, {'id': 'p54804921_KslxIFrF', 'status': 'doing', 'orderindex': 2, 'color': '#e16b16', 'type': 'custom', 'status_group': 'proj_54804921'}, {'id': 'p54804921_oYhO88Lm', 'status': 'testing', 'orderindex': 3, 'color': '#d33d44', 'type': 'custom', 'status_group': 'proj_54804921'}, {'id': 'p54804921_sZXRFa49', 'status': 'brainstorming', 'orderindex': 4, 'color': '#1090e0', 'type': 'custom', 'status_group': 'proj_54804921'}, {'id': 'p54804921_yUsGlLJS', 'status': 'done', 'orderindex': 5, 'color': '#008844', 'type': 'closed', 'status_group': 'proj_54804921'}], 'permission_level': 'create'}, {'id': '901304909787', 'name': 'Knowledge Graph e GraphRAG', 'orderindex': 17, 'content': '', 'status': None, 'priority': None, 'assignee': None, 'task_count': 2, 'due_date': None, 'start_date': None, 'archived': False, 'override_statuses': False, 'statuses': [{'id': 'p54804921_1gR1N0KG', 'status': 'backlog', 'orderindex': 0, 'color': '#9c09bc', 'type': 'open', 'status_group': 'proj_54804921'}, {'id': 'p54804921_95z15BZN', 'status': 'todo', 'orderindex': 1, 'color': '#4466ff', 'type': 'custom', 'status_group': 'proj_54804921'}, {'id': 'p54804921_KslxIFrF', 'status': 'doing', 'orderindex': 2, 'color': '#e16b16', 'type': 'custom', 'status_group': 'proj_54804921'}, {'id': 'p54804921_oYhO88Lm', 'status': 'testing', 'orderindex': 3, 'color': '#d33d44', 'type': 'custom', 'status_group': 'proj_54804921'}, {'id': 'p54804921_sZXRFa49', 'status': 'brainstorming', 'orderindex': 4, 'color': '#1090e0', 'type': 'custom', 'status_group': 'proj_54804921'}, {'id': 'p54804921_yUsGlLJS', 'status': 'done', 'orderindex': 5, 'color': '#008844', 'type': 'closed', 'status_group': 'proj_54804921'}], 'permission_level': 'create'}], 'permission_level': 'create'}\u001b[0m\u001b[32;1m\u001b[1;3mA pasta \"Agentes\" contém as seguintes listas:\n",
      "\n",
      "1. **Agents Hub**\n",
      "   - ID: 901303519577\n",
      "   - Ordem: 4\n",
      "   - Contagem de Tarefas: 22\n",
      "   - Statuses: backlog, todo, doing, testing, brainstorming, done\n",
      "\n",
      "2. **NutriChatBot**\n",
      "   - ID: 901301915357\n",
      "   - Ordem: 5\n",
      "   - Contagem de Tarefas: 0\n",
      "   - Statuses: backlog, todo, doing, testing, brainstorming, done\n",
      "\n",
      "3. **Chatbot Site e Cobrador**\n",
      "   - ID: 901301762971\n",
      "   - Ordem: 7\n",
      "   - Contagem de Tarefas: 1\n",
      "   - Prioridade: alta\n",
      "   - Responsável: João Guilherme Silva Morossini\n",
      "   - Data de Início: 1706598000000\n",
      "   - Statuses: backlog, todo, doing, testing, brainstorming, waiting, done\n",
      "\n",
      "4. **Moderador de comunidade**\n",
      "   - ID: 901303713036\n",
      "   - Ordem: 9\n",
      "   - Contagem de Tarefas: 1\n",
      "   - Statuses: backlog, todo, doing, testing, brainstorming, done\n",
      "\n",
      "5. **Mediador**\n",
      "   - ID: 901303159092\n",
      "   - Ordem: 10\n",
      "   - Contagem de Tarefas: 0\n",
      "   - Statuses: backlog, todo, doing, testing, brainstorming, done\n",
      "\n",
      "6. **Peqii**\n",
      "   - ID: 901303713072\n",
      "   - Ordem: 12\n",
      "   - Contagem de Tarefas: 3\n",
      "   - Statuses: backlog, todo, doing, testing, brainstorming, done\n",
      "\n",
      "7. **Secretária**\n",
      "   - ID: 901303748839\n",
      "   - Ordem: 13\n",
      "   - Contagem de Tarefas: 4\n",
      "   - Statuses: backlog, todo, doing, testing, brainstorming, done\n",
      "\n",
      "8. **Educador**\n",
      "   - ID: 901304886627\n",
      "   - Ordem: 14\n",
      "   - Contagem de Tarefas: 6\n",
      "   - Statuses: backlog, todo, doing, testing, brainstorming, done\n",
      "\n",
      "9. **Gerente de projeto**\n",
      "   - ID: 901304907531\n",
      "   - Ordem: 15\n",
      "   - Contagem de Tarefas: 3\n",
      "   - Statuses: backlog, todo, doing, testing, brainstorming, done\n",
      "\n",
      "10. **Knowledge Graph e GraphRAG**\n",
      "    - ID: 901304909787\n",
      "    - Ordem: 17\n",
      "    - Contagem de Tarefas: 2\n",
      "    - Statuses: backlog, todo, doing, testing, brainstorming, done\u001b[0m\n",
      "\n",
      "\u001b[1m> Finished chain.\u001b[0m\n"
     ]
    },
    {
     "data": {
      "text/plain": [
       "{'input': 'Qual o conteúdo da pasta que você conhece o id?',\n",
       " 'output': 'A pasta \"Agentes\" contém as seguintes listas:\\n\\n1. **Agents Hub**\\n   - ID: 901303519577\\n   - Ordem: 4\\n   - Contagem de Tarefas: 22\\n   - Statuses: backlog, todo, doing, testing, brainstorming, done\\n\\n2. **NutriChatBot**\\n   - ID: 901301915357\\n   - Ordem: 5\\n   - Contagem de Tarefas: 0\\n   - Statuses: backlog, todo, doing, testing, brainstorming, done\\n\\n3. **Chatbot Site e Cobrador**\\n   - ID: 901301762971\\n   - Ordem: 7\\n   - Contagem de Tarefas: 1\\n   - Prioridade: alta\\n   - Responsável: João Guilherme Silva Morossini\\n   - Data de Início: 1706598000000\\n   - Statuses: backlog, todo, doing, testing, brainstorming, waiting, done\\n\\n4. **Moderador de comunidade**\\n   - ID: 901303713036\\n   - Ordem: 9\\n   - Contagem de Tarefas: 1\\n   - Statuses: backlog, todo, doing, testing, brainstorming, done\\n\\n5. **Mediador**\\n   - ID: 901303159092\\n   - Ordem: 10\\n   - Contagem de Tarefas: 0\\n   - Statuses: backlog, todo, doing, testing, brainstorming, done\\n\\n6. **Peqii**\\n   - ID: 901303713072\\n   - Ordem: 12\\n   - Contagem de Tarefas: 3\\n   - Statuses: backlog, todo, doing, testing, brainstorming, done\\n\\n7. **Secretária**\\n   - ID: 901303748839\\n   - Ordem: 13\\n   - Contagem de Tarefas: 4\\n   - Statuses: backlog, todo, doing, testing, brainstorming, done\\n\\n8. **Educador**\\n   - ID: 901304886627\\n   - Ordem: 14\\n   - Contagem de Tarefas: 6\\n   - Statuses: backlog, todo, doing, testing, brainstorming, done\\n\\n9. **Gerente de projeto**\\n   - ID: 901304907531\\n   - Ordem: 15\\n   - Contagem de Tarefas: 3\\n   - Statuses: backlog, todo, doing, testing, brainstorming, done\\n\\n10. **Knowledge Graph e GraphRAG**\\n    - ID: 901304909787\\n    - Ordem: 17\\n    - Contagem de Tarefas: 2\\n    - Statuses: backlog, todo, doing, testing, brainstorming, done'}"
      ]
     },
     "execution_count": 35,
     "metadata": {},
     "output_type": "execute_result"
    }
   ],
   "source": [
    "agent_executor.invoke(\n",
    "    {\n",
    "        \"input\": \"Qual o conteúdo da pasta que você conhece o id?\"\n",
    "    }\n",
    ")"
   ]
  },
  {
   "cell_type": "markdown",
   "metadata": {},
   "source": [
    "## Teste 7 - Get Folders"
   ]
  },
  {
   "cell_type": "code",
   "execution_count": null,
   "metadata": {},
   "outputs": [
    {
     "name": "stdout",
     "output_type": "stream",
     "text": [
      "\n",
      "\n",
      "\u001b[1m> Entering new AgentExecutor chain...\u001b[0m\n",
      "\u001b[32;1m\u001b[1;3m\n",
      "Invoking: `get_folders_tool` with `{'space_id': 54804921}`\n",
      "\n",
      "\n",
      "\u001b[0mResponse Body: {'folders': [{'id': '90131663060', 'name': 'Agentes', 'orderindex': 44, 'override_statuses': False, 'hidden': False, 'space': {'id': '54804921', 'name': 'Projetos'}, 'task_count': '42', 'archived': False, 'statuses': [], 'lists': [{'id': '901303519577', 'name': 'Agents Hub', 'orderindex': 4, 'content': '', 'status': None, 'priority': None, 'assignee': None, 'task_count': 22, 'due_date': None, 'start_date': None, 'space': {'id': '54804921', 'name': 'Projetos', 'access': True}, 'archived': False, 'override_statuses': False, 'statuses': [{'id': 'p54804921_1gR1N0KG', 'status': 'backlog', 'orderindex': 0, 'color': '#9c09bc', 'type': 'open', 'status_group': 'proj_54804921'}, {'id': 'p54804921_95z15BZN', 'status': 'todo', 'orderindex': 1, 'color': '#4466ff', 'type': 'custom', 'status_group': 'proj_54804921'}, {'id': 'p54804921_KslxIFrF', 'status': 'doing', 'orderindex': 2, 'color': '#e16b16', 'type': 'custom', 'status_group': 'proj_54804921'}, {'id': 'p54804921_oYhO88Lm', 'status': 'testing', 'orderindex': 3, 'color': '#d33d44', 'type': 'custom', 'status_group': 'proj_54804921'}, {'id': 'p54804921_sZXRFa49', 'status': 'brainstorming', 'orderindex': 4, 'color': '#1090e0', 'type': 'custom', 'status_group': 'proj_54804921'}, {'id': 'p54804921_yUsGlLJS', 'status': 'done', 'orderindex': 5, 'color': '#008844', 'type': 'closed', 'status_group': 'proj_54804921'}], 'permission_level': 'create'}, {'id': '901301915357', 'name': 'NutriChatBot', 'orderindex': 5, 'status': None, 'priority': None, 'assignee': None, 'task_count': 0, 'due_date': None, 'start_date': None, 'space': {'id': '54804921', 'name': 'Projetos', 'access': True}, 'archived': False, 'override_statuses': None, 'statuses': [{'id': 'p54804921_1gR1N0KG', 'status': 'backlog', 'orderindex': 0, 'color': '#9c09bc', 'type': 'open', 'status_group': 'proj_54804921'}, {'id': 'p54804921_95z15BZN', 'status': 'todo', 'orderindex': 1, 'color': '#4466ff', 'type': 'custom', 'status_group': 'proj_54804921'}, {'id': 'p54804921_KslxIFrF', 'status': 'doing', 'orderindex': 2, 'color': '#e16b16', 'type': 'custom', 'status_group': 'proj_54804921'}, {'id': 'p54804921_oYhO88Lm', 'status': 'testing', 'orderindex': 3, 'color': '#d33d44', 'type': 'custom', 'status_group': 'proj_54804921'}, {'id': 'p54804921_sZXRFa49', 'status': 'brainstorming', 'orderindex': 4, 'color': '#1090e0', 'type': 'custom', 'status_group': 'proj_54804921'}, {'id': 'p54804921_yUsGlLJS', 'status': 'done', 'orderindex': 5, 'color': '#008844', 'type': 'closed', 'status_group': 'proj_54804921'}], 'permission_level': 'create'}, {'id': '901301762971', 'name': 'Chatbot Site e Cobrador', 'orderindex': 7, 'content': '', 'status': None, 'priority': {'priority': 'high', 'color': '#f8ae00'}, 'assignee': {'color': '#81b1ff', 'username': 'João Guilherme Silva Morossini', 'initials': 'JM', 'profilePicture': 'https://attachments.clickup.com/profilePictures/81918955_kcK.jpg'}, 'task_count': 1, 'due_date': None, 'start_date': '1706598000000', 'space': {'id': '54804921', 'name': 'Projetos', 'access': True}, 'archived': False, 'override_statuses': True, 'statuses': [{'id': 'sc901301762971_TWYZRuMN', 'status': 'backlog', 'orderindex': 0, 'color': '#9c09bc', 'type': 'open', 'status_group': 'subcat_901301762971'}, {'id': 'sc901301762971_eHzppXvM', 'status': 'todo', 'orderindex': 1, 'color': '#4466ff', 'type': 'custom', 'status_group': 'subcat_901301762971'}, {'id': 'sc901301762971_oUwONxbj', 'status': 'doing', 'orderindex': 2, 'color': '#e16b16', 'type': 'custom', 'status_group': 'subcat_901301762971'}, {'id': 'sc901301762971_BDUC5nyv', 'status': 'testing', 'orderindex': 3, 'color': '#d33d44', 'type': 'custom', 'status_group': 'subcat_901301762971'}, {'id': 'sc901301762971_Qp3r38is', 'status': 'brainstorming', 'orderindex': 4, 'color': '#1090e0', 'type': 'custom', 'status_group': 'subcat_901301762971'}, {'id': 'sc901301762971_UP4PT3sp', 'status': 'waiting', 'orderindex': 5, 'color': '#f8ae00', 'type': 'custom', 'status_group': 'subcat_901301762971'}, {'id': 'sc901301762971_HzXA2xvY', 'status': 'done', 'orderindex': 6, 'color': '#008844', 'type': 'closed', 'status_group': 'subcat_901301762971'}], 'permission_level': 'create'}, {'id': '901303713036', 'name': 'Moderador de comunidade', 'orderindex': 9, 'status': None, 'priority': None, 'assignee': None, 'task_count': 1, 'due_date': None, 'start_date': None, 'space': {'id': '54804921', 'name': 'Projetos', 'access': True}, 'archived': False, 'override_statuses': False, 'statuses': [{'id': 'p54804921_1gR1N0KG', 'status': 'backlog', 'orderindex': 0, 'color': '#9c09bc', 'type': 'open', 'status_group': 'proj_54804921'}, {'id': 'p54804921_95z15BZN', 'status': 'todo', 'orderindex': 1, 'color': '#4466ff', 'type': 'custom', 'status_group': 'proj_54804921'}, {'id': 'p54804921_KslxIFrF', 'status': 'doing', 'orderindex': 2, 'color': '#e16b16', 'type': 'custom', 'status_group': 'proj_54804921'}, {'id': 'p54804921_oYhO88Lm', 'status': 'testing', 'orderindex': 3, 'color': '#d33d44', 'type': 'custom', 'status_group': 'proj_54804921'}, {'id': 'p54804921_sZXRFa49', 'status': 'brainstorming', 'orderindex': 4, 'color': '#1090e0', 'type': 'custom', 'status_group': 'proj_54804921'}, {'id': 'p54804921_yUsGlLJS', 'status': 'done', 'orderindex': 5, 'color': '#008844', 'type': 'closed', 'status_group': 'proj_54804921'}], 'permission_level': 'create'}, {'id': '901303159092', 'name': 'Mediador', 'orderindex': 10, 'status': None, 'priority': None, 'assignee': None, 'task_count': 0, 'due_date': None, 'start_date': None, 'space': {'id': '54804921', 'name': 'Projetos', 'access': True}, 'archived': False, 'override_statuses': None, 'statuses': [{'id': 'p54804921_1gR1N0KG', 'status': 'backlog', 'orderindex': 0, 'color': '#9c09bc', 'type': 'open', 'status_group': 'proj_54804921'}, {'id': 'p54804921_95z15BZN', 'status': 'todo', 'orderindex': 1, 'color': '#4466ff', 'type': 'custom', 'status_group': 'proj_54804921'}, {'id': 'p54804921_KslxIFrF', 'status': 'doing', 'orderindex': 2, 'color': '#e16b16', 'type': 'custom', 'status_group': 'proj_54804921'}, {'id': 'p54804921_oYhO88Lm', 'status': 'testing', 'orderindex': 3, 'color': '#d33d44', 'type': 'custom', 'status_group': 'proj_54804921'}, {'id': 'p54804921_sZXRFa49', 'status': 'brainstorming', 'orderindex': 4, 'color': '#1090e0', 'type': 'custom', 'status_group': 'proj_54804921'}, {'id': 'p54804921_yUsGlLJS', 'status': 'done', 'orderindex': 5, 'color': '#008844', 'type': 'closed', 'status_group': 'proj_54804921'}], 'permission_level': 'create'}, {'id': '901303713072', 'name': 'Peqii', 'orderindex': 12, 'status': None, 'priority': None, 'assignee': None, 'task_count': 3, 'due_date': None, 'start_date': None, 'space': {'id': '54804921', 'name': 'Projetos', 'access': True}, 'archived': False, 'override_statuses': False, 'statuses': [{'id': 'p54804921_1gR1N0KG', 'status': 'backlog', 'orderindex': 0, 'color': '#9c09bc', 'type': 'open', 'status_group': 'proj_54804921'}, {'id': 'p54804921_95z15BZN', 'status': 'todo', 'orderindex': 1, 'color': '#4466ff', 'type': 'custom', 'status_group': 'proj_54804921'}, {'id': 'p54804921_KslxIFrF', 'status': 'doing', 'orderindex': 2, 'color': '#e16b16', 'type': 'custom', 'status_group': 'proj_54804921'}, {'id': 'p54804921_oYhO88Lm', 'status': 'testing', 'orderindex': 3, 'color': '#d33d44', 'type': 'custom', 'status_group': 'proj_54804921'}, {'id': 'p54804921_sZXRFa49', 'status': 'brainstorming', 'orderindex': 4, 'color': '#1090e0', 'type': 'custom', 'status_group': 'proj_54804921'}, {'id': 'p54804921_yUsGlLJS', 'status': 'done', 'orderindex': 5, 'color': '#008844', 'type': 'closed', 'status_group': 'proj_54804921'}], 'permission_level': 'create'}, {'id': '901303748839', 'name': 'Secretária', 'orderindex': 13, 'status': None, 'priority': None, 'assignee': None, 'task_count': 4, 'due_date': None, 'start_date': None, 'space': {'id': '54804921', 'name': 'Projetos', 'access': True}, 'archived': False, 'override_statuses': False, 'statuses': [{'id': 'p54804921_1gR1N0KG', 'status': 'backlog', 'orderindex': 0, 'color': '#9c09bc', 'type': 'open', 'status_group': 'proj_54804921'}, {'id': 'p54804921_95z15BZN', 'status': 'todo', 'orderindex': 1, 'color': '#4466ff', 'type': 'custom', 'status_group': 'proj_54804921'}, {'id': 'p54804921_KslxIFrF', 'status': 'doing', 'orderindex': 2, 'color': '#e16b16', 'type': 'custom', 'status_group': 'proj_54804921'}, {'id': 'p54804921_oYhO88Lm', 'status': 'testing', 'orderindex': 3, 'color': '#d33d44', 'type': 'custom', 'status_group': 'proj_54804921'}, {'id': 'p54804921_sZXRFa49', 'status': 'brainstorming', 'orderindex': 4, 'color': '#1090e0', 'type': 'custom', 'status_group': 'proj_54804921'}, {'id': 'p54804921_yUsGlLJS', 'status': 'done', 'orderindex': 5, 'color': '#008844', 'type': 'closed', 'status_group': 'proj_54804921'}], 'permission_level': 'create'}, {'id': '901304886627', 'name': 'Educador', 'orderindex': 14, 'content': '', 'status': None, 'priority': None, 'assignee': None, 'task_count': 6, 'due_date': None, 'start_date': None, 'space': {'id': '54804921', 'name': 'Projetos', 'access': True}, 'archived': False, 'override_statuses': False, 'statuses': [{'id': 'p54804921_1gR1N0KG', 'status': 'backlog', 'orderindex': 0, 'color': '#9c09bc', 'type': 'open', 'status_group': 'proj_54804921'}, {'id': 'p54804921_95z15BZN', 'status': 'todo', 'orderindex': 1, 'color': '#4466ff', 'type': 'custom', 'status_group': 'proj_54804921'}, {'id': 'p54804921_KslxIFrF', 'status': 'doing', 'orderindex': 2, 'color': '#e16b16', 'type': 'custom', 'status_group': 'proj_54804921'}, {'id': 'p54804921_oYhO88Lm', 'status': 'testing', 'orderindex': 3, 'color': '#d33d44', 'type': 'custom', 'status_group': 'proj_54804921'}, {'id': 'p54804921_sZXRFa49', 'status': 'brainstorming', 'orderindex': 4, 'color': '#1090e0', 'type': 'custom', 'status_group': 'proj_54804921'}, {'id': 'p54804921_yUsGlLJS', 'status': 'done', 'orderindex': 5, 'color': '#008844', 'type': 'closed', 'status_group': 'proj_54804921'}], 'permission_level': 'create'}, {'id': '901304907531', 'name': 'Gerente de projeto', 'orderindex': 15, 'content': '', 'status': None, 'priority': None, 'assignee': None, 'task_count': 3, 'due_date': None, 'start_date': None, 'space': {'id': '54804921', 'name': 'Projetos', 'access': True}, 'archived': False, 'override_statuses': False, 'statuses': [{'id': 'p54804921_1gR1N0KG', 'status': 'backlog', 'orderindex': 0, 'color': '#9c09bc', 'type': 'open', 'status_group': 'proj_54804921'}, {'id': 'p54804921_95z15BZN', 'status': 'todo', 'orderindex': 1, 'color': '#4466ff', 'type': 'custom', 'status_group': 'proj_54804921'}, {'id': 'p54804921_KslxIFrF', 'status': 'doing', 'orderindex': 2, 'color': '#e16b16', 'type': 'custom', 'status_group': 'proj_54804921'}, {'id': 'p54804921_oYhO88Lm', 'status': 'testing', 'orderindex': 3, 'color': '#d33d44', 'type': 'custom', 'status_group': 'proj_54804921'}, {'id': 'p54804921_sZXRFa49', 'status': 'brainstorming', 'orderindex': 4, 'color': '#1090e0', 'type': 'custom', 'status_group': 'proj_54804921'}, {'id': 'p54804921_yUsGlLJS', 'status': 'done', 'orderindex': 5, 'color': '#008844', 'type': 'closed', 'status_group': 'proj_54804921'}], 'permission_level': 'create'}, {'id': '901304909787', 'name': 'Knowledge Graph e GraphRAG', 'orderindex': 17, 'content': '', 'status': None, 'priority': None, 'assignee': None, 'task_count': 2, 'due_date': None, 'start_date': None, 'space': {'id': '54804921', 'name': 'Projetos', 'access': True}, 'archived': False, 'override_statuses': False, 'statuses': [{'id': 'p54804921_1gR1N0KG', 'status': 'backlog', 'orderindex': 0, 'color': '#9c09bc', 'type': 'open', 'status_group': 'proj_54804921'}, {'id': 'p54804921_95z15BZN', 'status': 'todo', 'orderindex': 1, 'color': '#4466ff', 'type': 'custom', 'status_group': 'proj_54804921'}, {'id': 'p54804921_KslxIFrF', 'status': 'doing', 'orderindex': 2, 'color': '#e16b16', 'type': 'custom', 'status_group': 'proj_54804921'}, {'id': 'p54804921_oYhO88Lm', 'status': 'testing', 'orderindex': 3, 'color': '#d33d44', 'type': 'custom', 'status_group': 'proj_54804921'}, {'id': 'p54804921_sZXRFa49', 'status': 'brainstorming', 'orderindex': 4, 'color': '#1090e0', 'type': 'custom', 'status_group': 'proj_54804921'}, {'id': 'p54804921_yUsGlLJS', 'status': 'done', 'orderindex': 5, 'color': '#008844', 'type': 'closed', 'status_group': 'proj_54804921'}], 'permission_level': 'create'}], 'permission_level': 'create'}, {'id': '90132407003', 'name': 'langflow', 'orderindex': 48, 'override_statuses': False, 'hidden': False, 'space': {'id': '54804921', 'name': 'Projetos'}, 'task_count': '15', 'archived': False, 'statuses': [], 'lists': [{'id': '901304390573', 'name': 'agente criador de componente langflow', 'orderindex': 0, 'status': None, 'priority': None, 'assignee': None, 'task_count': 4, 'due_date': None, 'start_date': None, 'space': {'id': '54804921', 'name': 'Projetos', 'access': True}, 'archived': False, 'override_statuses': None, 'statuses': [{'id': 'p54804921_1gR1N0KG', 'status': 'backlog', 'orderindex': 0, 'color': '#9c09bc', 'type': 'open', 'status_group': 'proj_54804921'}, {'id': 'p54804921_95z15BZN', 'status': 'todo', 'orderindex': 1, 'color': '#4466ff', 'type': 'custom', 'status_group': 'proj_54804921'}, {'id': 'p54804921_KslxIFrF', 'status': 'doing', 'orderindex': 2, 'color': '#e16b16', 'type': 'custom', 'status_group': 'proj_54804921'}, {'id': 'p54804921_oYhO88Lm', 'status': 'testing', 'orderindex': 3, 'color': '#d33d44', 'type': 'custom', 'status_group': 'proj_54804921'}, {'id': 'p54804921_sZXRFa49', 'status': 'brainstorming', 'orderindex': 4, 'color': '#1090e0', 'type': 'custom', 'status_group': 'proj_54804921'}, {'id': 'p54804921_yUsGlLJS', 'status': 'done', 'orderindex': 5, 'color': '#008844', 'type': 'closed', 'status_group': 'proj_54804921'}], 'permission_level': 'create'}, {'id': '901304835357', 'name': 'heliotest', 'orderindex': 1, 'content': '', 'status': None, 'priority': None, 'assignee': None, 'task_count': 0, 'due_date': None, 'start_date': None, 'space': {'id': '54804921', 'name': 'Projetos', 'access': True}, 'archived': False, 'override_statuses': False, 'statuses': [{'id': 'p54804921_1gR1N0KG', 'status': 'backlog', 'orderindex': 0, 'color': '#9c09bc', 'type': 'open', 'status_group': 'proj_54804921'}, {'id': 'p54804921_95z15BZN', 'status': 'todo', 'orderindex': 1, 'color': '#4466ff', 'type': 'custom', 'status_group': 'proj_54804921'}, {'id': 'p54804921_KslxIFrF', 'status': 'doing', 'orderindex': 2, 'color': '#e16b16', 'type': 'custom', 'status_group': 'proj_54804921'}, {'id': 'p54804921_oYhO88Lm', 'status': 'testing', 'orderindex': 3, 'color': '#d33d44', 'type': 'custom', 'status_group': 'proj_54804921'}, {'id': 'p54804921_sZXRFa49', 'status': 'brainstorming', 'orderindex': 4, 'color': '#1090e0', 'type': 'custom', 'status_group': 'proj_54804921'}, {'id': 'p54804921_yUsGlLJS', 'status': 'done', 'orderindex': 5, 'color': '#008844', 'type': 'closed', 'status_group': 'proj_54804921'}], 'permission_level': 'create'}, {'id': '901304862476', 'name': 'composioTest', 'orderindex': 2, 'content': '', 'status': None, 'priority': None, 'assignee': None, 'task_count': 11, 'due_date': None, 'start_date': None, 'space': {'id': '54804921', 'name': 'Projetos', 'access': True}, 'archived': False, 'override_statuses': False, 'statuses': [{'id': 'p54804921_1gR1N0KG', 'status': 'backlog', 'orderindex': 0, 'color': '#9c09bc', 'type': 'open', 'status_group': 'proj_54804921'}, {'id': 'p54804921_95z15BZN', 'status': 'todo', 'orderindex': 1, 'color': '#4466ff', 'type': 'custom', 'status_group': 'proj_54804921'}, {'id': 'p54804921_KslxIFrF', 'status': 'doing', 'orderindex': 2, 'color': '#e16b16', 'type': 'custom', 'status_group': 'proj_54804921'}, {'id': 'p54804921_oYhO88Lm', 'status': 'testing', 'orderindex': 3, 'color': '#d33d44', 'type': 'custom', 'status_group': 'proj_54804921'}, {'id': 'p54804921_sZXRFa49', 'status': 'brainstorming', 'orderindex': 4, 'color': '#1090e0', 'type': 'custom', 'status_group': 'proj_54804921'}, {'id': 'p54804921_yUsGlLJS', 'status': 'done', 'orderindex': 5, 'color': '#008844', 'type': 'closed', 'status_group': 'proj_54804921'}], 'permission_level': 'create'}, {'id': '901304890424', 'name': 'composioTest (copy)', 'orderindex': 3, 'content': '', 'status': None, 'priority': None, 'assignee': None, 'task_count': 0, 'due_date': None, 'start_date': None, 'space': {'id': '54804921', 'name': 'Projetos', 'access': True}, 'archived': False, 'override_statuses': False, 'statuses': [{'id': 'p54804921_1gR1N0KG', 'status': 'backlog', 'orderindex': 0, 'color': '#9c09bc', 'type': 'open', 'status_group': 'proj_54804921'}, {'id': 'p54804921_95z15BZN', 'status': 'todo', 'orderindex': 1, 'color': '#4466ff', 'type': 'custom', 'status_group': 'proj_54804921'}, {'id': 'p54804921_KslxIFrF', 'status': 'doing', 'orderindex': 2, 'color': '#e16b16', 'type': 'custom', 'status_group': 'proj_54804921'}, {'id': 'p54804921_oYhO88Lm', 'status': 'testing', 'orderindex': 3, 'color': '#d33d44', 'type': 'custom', 'status_group': 'proj_54804921'}, {'id': 'p54804921_sZXRFa49', 'status': 'brainstorming', 'orderindex': 4, 'color': '#1090e0', 'type': 'custom', 'status_group': 'proj_54804921'}, {'id': 'p54804921_yUsGlLJS', 'status': 'done', 'orderindex': 5, 'color': '#008844', 'type': 'closed', 'status_group': 'proj_54804921'}], 'permission_level': 'create'}], 'permission_level': 'create'}, {'id': '90132806032', 'name': 'agente clickup playgroud (ana beatriz)', 'orderindex': 49, 'override_statuses': False, 'hidden': False, 'space': {'id': '54804921', 'name': 'Projetos'}, 'task_count': '51', 'archived': False, 'statuses': [], 'lists': [{'id': '901304909413', 'name': 'clickup_agent', 'orderindex': 0, 'content': '', 'status': None, 'priority': None, 'assignee': None, 'task_count': 49, 'due_date': None, 'start_date': None, 'space': {'id': '54804921', 'name': 'Projetos', 'access': True}, 'archived': False, 'override_statuses': False, 'statuses': [{'id': 'p54804921_1gR1N0KG', 'status': 'backlog', 'orderindex': 0, 'color': '#9c09bc', 'type': 'open', 'status_group': 'proj_54804921'}, {'id': 'p54804921_95z15BZN', 'status': 'todo', 'orderindex': 1, 'color': '#4466ff', 'type': 'custom', 'status_group': 'proj_54804921'}, {'id': 'p54804921_KslxIFrF', 'status': 'doing', 'orderindex': 2, 'color': '#e16b16', 'type': 'custom', 'status_group': 'proj_54804921'}, {'id': 'p54804921_oYhO88Lm', 'status': 'testing', 'orderindex': 3, 'color': '#d33d44', 'type': 'custom', 'status_group': 'proj_54804921'}, {'id': 'p54804921_sZXRFa49', 'status': 'brainstorming', 'orderindex': 4, 'color': '#1090e0', 'type': 'custom', 'status_group': 'proj_54804921'}, {'id': 'p54804921_yUsGlLJS', 'status': 'done', 'orderindex': 5, 'color': '#008844', 'type': 'closed', 'status_group': 'proj_54804921'}], 'permission_level': 'create'}, {'id': '901305116068', 'name': 'List', 'orderindex': 1, 'status': None, 'priority': None, 'assignee': None, 'task_count': 2, 'due_date': None, 'start_date': None, 'space': {'id': '54804921', 'name': 'Projetos', 'access': True}, 'archived': False, 'override_statuses': None, 'statuses': [{'id': 'p54804921_1gR1N0KG', 'status': 'backlog', 'orderindex': 0, 'color': '#9c09bc', 'type': 'open', 'status_group': 'proj_54804921'}, {'id': 'p54804921_95z15BZN', 'status': 'todo', 'orderindex': 1, 'color': '#4466ff', 'type': 'custom', 'status_group': 'proj_54804921'}, {'id': 'p54804921_KslxIFrF', 'status': 'doing', 'orderindex': 2, 'color': '#e16b16', 'type': 'custom', 'status_group': 'proj_54804921'}, {'id': 'p54804921_oYhO88Lm', 'status': 'testing', 'orderindex': 3, 'color': '#d33d44', 'type': 'custom', 'status_group': 'proj_54804921'}, {'id': 'p54804921_sZXRFa49', 'status': 'brainstorming', 'orderindex': 4, 'color': '#1090e0', 'type': 'custom', 'status_group': 'proj_54804921'}, {'id': 'p54804921_yUsGlLJS', 'status': 'done', 'orderindex': 5, 'color': '#008844', 'type': 'closed', 'status_group': 'proj_54804921'}], 'permission_level': 'create'}], 'permission_level': 'create'}]}\n",
      "\u001b[36;1m\u001b[1;3mdata={'folders': [{'id': '90131663060', 'name': 'Agentes', 'orderindex': 44, 'override_statuses': False, 'hidden': False, 'space': {'id': '54804921', 'name': 'Projetos'}, 'task_count': '42', 'archived': False, 'statuses': [], 'lists': [{'id': '901303519577', 'name': 'Agents Hub', 'orderindex': 4, 'content': '', 'status': None, 'priority': None, 'assignee': None, 'task_count': 22, 'due_date': None, 'start_date': None, 'space': {'id': '54804921', 'name': 'Projetos', 'access': True}, 'archived': False, 'override_statuses': False, 'statuses': [{'id': 'p54804921_1gR1N0KG', 'status': 'backlog', 'orderindex': 0, 'color': '#9c09bc', 'type': 'open', 'status_group': 'proj_54804921'}, {'id': 'p54804921_95z15BZN', 'status': 'todo', 'orderindex': 1, 'color': '#4466ff', 'type': 'custom', 'status_group': 'proj_54804921'}, {'id': 'p54804921_KslxIFrF', 'status': 'doing', 'orderindex': 2, 'color': '#e16b16', 'type': 'custom', 'status_group': 'proj_54804921'}, {'id': 'p54804921_oYhO88Lm', 'status': 'testing', 'orderindex': 3, 'color': '#d33d44', 'type': 'custom', 'status_group': 'proj_54804921'}, {'id': 'p54804921_sZXRFa49', 'status': 'brainstorming', 'orderindex': 4, 'color': '#1090e0', 'type': 'custom', 'status_group': 'proj_54804921'}, {'id': 'p54804921_yUsGlLJS', 'status': 'done', 'orderindex': 5, 'color': '#008844', 'type': 'closed', 'status_group': 'proj_54804921'}], 'permission_level': 'create'}, {'id': '901301915357', 'name': 'NutriChatBot', 'orderindex': 5, 'status': None, 'priority': None, 'assignee': None, 'task_count': 0, 'due_date': None, 'start_date': None, 'space': {'id': '54804921', 'name': 'Projetos', 'access': True}, 'archived': False, 'override_statuses': None, 'statuses': [{'id': 'p54804921_1gR1N0KG', 'status': 'backlog', 'orderindex': 0, 'color': '#9c09bc', 'type': 'open', 'status_group': 'proj_54804921'}, {'id': 'p54804921_95z15BZN', 'status': 'todo', 'orderindex': 1, 'color': '#4466ff', 'type': 'custom', 'status_group': 'proj_54804921'}, {'id': 'p54804921_KslxIFrF', 'status': 'doing', 'orderindex': 2, 'color': '#e16b16', 'type': 'custom', 'status_group': 'proj_54804921'}, {'id': 'p54804921_oYhO88Lm', 'status': 'testing', 'orderindex': 3, 'color': '#d33d44', 'type': 'custom', 'status_group': 'proj_54804921'}, {'id': 'p54804921_sZXRFa49', 'status': 'brainstorming', 'orderindex': 4, 'color': '#1090e0', 'type': 'custom', 'status_group': 'proj_54804921'}, {'id': 'p54804921_yUsGlLJS', 'status': 'done', 'orderindex': 5, 'color': '#008844', 'type': 'closed', 'status_group': 'proj_54804921'}], 'permission_level': 'create'}, {'id': '901301762971', 'name': 'Chatbot Site e Cobrador', 'orderindex': 7, 'content': '', 'status': None, 'priority': {'priority': 'high', 'color': '#f8ae00'}, 'assignee': {'color': '#81b1ff', 'username': 'João Guilherme Silva Morossini', 'initials': 'JM', 'profilePicture': 'https://attachments.clickup.com/profilePictures/81918955_kcK.jpg'}, 'task_count': 1, 'due_date': None, 'start_date': '1706598000000', 'space': {'id': '54804921', 'name': 'Projetos', 'access': True}, 'archived': False, 'override_statuses': True, 'statuses': [{'id': 'sc901301762971_TWYZRuMN', 'status': 'backlog', 'orderindex': 0, 'color': '#9c09bc', 'type': 'open', 'status_group': 'subcat_901301762971'}, {'id': 'sc901301762971_eHzppXvM', 'status': 'todo', 'orderindex': 1, 'color': '#4466ff', 'type': 'custom', 'status_group': 'subcat_901301762971'}, {'id': 'sc901301762971_oUwONxbj', 'status': 'doing', 'orderindex': 2, 'color': '#e16b16', 'type': 'custom', 'status_group': 'subcat_901301762971'}, {'id': 'sc901301762971_BDUC5nyv', 'status': 'testing', 'orderindex': 3, 'color': '#d33d44', 'type': 'custom', 'status_group': 'subcat_901301762971'}, {'id': 'sc901301762971_Qp3r38is', 'status': 'brainstorming', 'orderindex': 4, 'color': '#1090e0', 'type': 'custom', 'status_group': 'subcat_901301762971'}, {'id': 'sc901301762971_UP4PT3sp', 'status': 'waiting', 'orderindex': 5, 'color': '#f8ae00', 'type': 'custom', 'status_group': 'subcat_901301762971'}, {'id': 'sc901301762971_HzXA2xvY', 'status': 'done', 'orderindex': 6, 'color': '#008844', 'type': 'closed', 'status_group': 'subcat_901301762971'}], 'permission_level': 'create'}, {'id': '901303713036', 'name': 'Moderador de comunidade', 'orderindex': 9, 'status': None, 'priority': None, 'assignee': None, 'task_count': 1, 'due_date': None, 'start_date': None, 'space': {'id': '54804921', 'name': 'Projetos', 'access': True}, 'archived': False, 'override_statuses': False, 'statuses': [{'id': 'p54804921_1gR1N0KG', 'status': 'backlog', 'orderindex': 0, 'color': '#9c09bc', 'type': 'open', 'status_group': 'proj_54804921'}, {'id': 'p54804921_95z15BZN', 'status': 'todo', 'orderindex': 1, 'color': '#4466ff', 'type': 'custom', 'status_group': 'proj_54804921'}, {'id': 'p54804921_KslxIFrF', 'status': 'doing', 'orderindex': 2, 'color': '#e16b16', 'type': 'custom', 'status_group': 'proj_54804921'}, {'id': 'p54804921_oYhO88Lm', 'status': 'testing', 'orderindex': 3, 'color': '#d33d44', 'type': 'custom', 'status_group': 'proj_54804921'}, {'id': 'p54804921_sZXRFa49', 'status': 'brainstorming', 'orderindex': 4, 'color': '#1090e0', 'type': 'custom', 'status_group': 'proj_54804921'}, {'id': 'p54804921_yUsGlLJS', 'status': 'done', 'orderindex': 5, 'color': '#008844', 'type': 'closed', 'status_group': 'proj_54804921'}], 'permission_level': 'create'}, {'id': '901303159092', 'name': 'Mediador', 'orderindex': 10, 'status': None, 'priority': None, 'assignee': None, 'task_count': 0, 'due_date': None, 'start_date': None, 'space': {'id': '54804921', 'name': 'Projetos', 'access': True}, 'archived': False, 'override_statuses': None, 'statuses': [{'id': 'p54804921_1gR1N0KG', 'status': 'backlog', 'orderindex': 0, 'color': '#9c09bc', 'type': 'open', 'status_group': 'proj_54804921'}, {'id': 'p54804921_95z15BZN', 'status': 'todo', 'orderindex': 1, 'color': '#4466ff', 'type': 'custom', 'status_group': 'proj_54804921'}, {'id': 'p54804921_KslxIFrF', 'status': 'doing', 'orderindex': 2, 'color': '#e16b16', 'type': 'custom', 'status_group': 'proj_54804921'}, {'id': 'p54804921_oYhO88Lm', 'status': 'testing', 'orderindex': 3, 'color': '#d33d44', 'type': 'custom', 'status_group': 'proj_54804921'}, {'id': 'p54804921_sZXRFa49', 'status': 'brainstorming', 'orderindex': 4, 'color': '#1090e0', 'type': 'custom', 'status_group': 'proj_54804921'}, {'id': 'p54804921_yUsGlLJS', 'status': 'done', 'orderindex': 5, 'color': '#008844', 'type': 'closed', 'status_group': 'proj_54804921'}], 'permission_level': 'create'}, {'id': '901303713072', 'name': 'Peqii', 'orderindex': 12, 'status': None, 'priority': None, 'assignee': None, 'task_count': 3, 'due_date': None, 'start_date': None, 'space': {'id': '54804921', 'name': 'Projetos', 'access': True}, 'archived': False, 'override_statuses': False, 'statuses': [{'id': 'p54804921_1gR1N0KG', 'status': 'backlog', 'orderindex': 0, 'color': '#9c09bc', 'type': 'open', 'status_group': 'proj_54804921'}, {'id': 'p54804921_95z15BZN', 'status': 'todo', 'orderindex': 1, 'color': '#4466ff', 'type': 'custom', 'status_group': 'proj_54804921'}, {'id': 'p54804921_KslxIFrF', 'status': 'doing', 'orderindex': 2, 'color': '#e16b16', 'type': 'custom', 'status_group': 'proj_54804921'}, {'id': 'p54804921_oYhO88Lm', 'status': 'testing', 'orderindex': 3, 'color': '#d33d44', 'type': 'custom', 'status_group': 'proj_54804921'}, {'id': 'p54804921_sZXRFa49', 'status': 'brainstorming', 'orderindex': 4, 'color': '#1090e0', 'type': 'custom', 'status_group': 'proj_54804921'}, {'id': 'p54804921_yUsGlLJS', 'status': 'done', 'orderindex': 5, 'color': '#008844', 'type': 'closed', 'status_group': 'proj_54804921'}], 'permission_level': 'create'}, {'id': '901303748839', 'name': 'Secretária', 'orderindex': 13, 'status': None, 'priority': None, 'assignee': None, 'task_count': 4, 'due_date': None, 'start_date': None, 'space': {'id': '54804921', 'name': 'Projetos', 'access': True}, 'archived': False, 'override_statuses': False, 'statuses': [{'id': 'p54804921_1gR1N0KG', 'status': 'backlog', 'orderindex': 0, 'color': '#9c09bc', 'type': 'open', 'status_group': 'proj_54804921'}, {'id': 'p54804921_95z15BZN', 'status': 'todo', 'orderindex': 1, 'color': '#4466ff', 'type': 'custom', 'status_group': 'proj_54804921'}, {'id': 'p54804921_KslxIFrF', 'status': 'doing', 'orderindex': 2, 'color': '#e16b16', 'type': 'custom', 'status_group': 'proj_54804921'}, {'id': 'p54804921_oYhO88Lm', 'status': 'testing', 'orderindex': 3, 'color': '#d33d44', 'type': 'custom', 'status_group': 'proj_54804921'}, {'id': 'p54804921_sZXRFa49', 'status': 'brainstorming', 'orderindex': 4, 'color': '#1090e0', 'type': 'custom', 'status_group': 'proj_54804921'}, {'id': 'p54804921_yUsGlLJS', 'status': 'done', 'orderindex': 5, 'color': '#008844', 'type': 'closed', 'status_group': 'proj_54804921'}], 'permission_level': 'create'}, {'id': '901304886627', 'name': 'Educador', 'orderindex': 14, 'content': '', 'status': None, 'priority': None, 'assignee': None, 'task_count': 6, 'due_date': None, 'start_date': None, 'space': {'id': '54804921', 'name': 'Projetos', 'access': True}, 'archived': False, 'override_statuses': False, 'statuses': [{'id': 'p54804921_1gR1N0KG', 'status': 'backlog', 'orderindex': 0, 'color': '#9c09bc', 'type': 'open', 'status_group': 'proj_54804921'}, {'id': 'p54804921_95z15BZN', 'status': 'todo', 'orderindex': 1, 'color': '#4466ff', 'type': 'custom', 'status_group': 'proj_54804921'}, {'id': 'p54804921_KslxIFrF', 'status': 'doing', 'orderindex': 2, 'color': '#e16b16', 'type': 'custom', 'status_group': 'proj_54804921'}, {'id': 'p54804921_oYhO88Lm', 'status': 'testing', 'orderindex': 3, 'color': '#d33d44', 'type': 'custom', 'status_group': 'proj_54804921'}, {'id': 'p54804921_sZXRFa49', 'status': 'brainstorming', 'orderindex': 4, 'color': '#1090e0', 'type': 'custom', 'status_group': 'proj_54804921'}, {'id': 'p54804921_yUsGlLJS', 'status': 'done', 'orderindex': 5, 'color': '#008844', 'type': 'closed', 'status_group': 'proj_54804921'}], 'permission_level': 'create'}, {'id': '901304907531', 'name': 'Gerente de projeto', 'orderindex': 15, 'content': '', 'status': None, 'priority': None, 'assignee': None, 'task_count': 3, 'due_date': None, 'start_date': None, 'space': {'id': '54804921', 'name': 'Projetos', 'access': True}, 'archived': False, 'override_statuses': False, 'statuses': [{'id': 'p54804921_1gR1N0KG', 'status': 'backlog', 'orderindex': 0, 'color': '#9c09bc', 'type': 'open', 'status_group': 'proj_54804921'}, {'id': 'p54804921_95z15BZN', 'status': 'todo', 'orderindex': 1, 'color': '#4466ff', 'type': 'custom', 'status_group': 'proj_54804921'}, {'id': 'p54804921_KslxIFrF', 'status': 'doing', 'orderindex': 2, 'color': '#e16b16', 'type': 'custom', 'status_group': 'proj_54804921'}, {'id': 'p54804921_oYhO88Lm', 'status': 'testing', 'orderindex': 3, 'color': '#d33d44', 'type': 'custom', 'status_group': 'proj_54804921'}, {'id': 'p54804921_sZXRFa49', 'status': 'brainstorming', 'orderindex': 4, 'color': '#1090e0', 'type': 'custom', 'status_group': 'proj_54804921'}, {'id': 'p54804921_yUsGlLJS', 'status': 'done', 'orderindex': 5, 'color': '#008844', 'type': 'closed', 'status_group': 'proj_54804921'}], 'permission_level': 'create'}, {'id': '901304909787', 'name': 'Knowledge Graph e GraphRAG', 'orderindex': 17, 'content': '', 'status': None, 'priority': None, 'assignee': None, 'task_count': 2, 'due_date': None, 'start_date': None, 'space': {'id': '54804921', 'name': 'Projetos', 'access': True}, 'archived': False, 'override_statuses': False, 'statuses': [{'id': 'p54804921_1gR1N0KG', 'status': 'backlog', 'orderindex': 0, 'color': '#9c09bc', 'type': 'open', 'status_group': 'proj_54804921'}, {'id': 'p54804921_95z15BZN', 'status': 'todo', 'orderindex': 1, 'color': '#4466ff', 'type': 'custom', 'status_group': 'proj_54804921'}, {'id': 'p54804921_KslxIFrF', 'status': 'doing', 'orderindex': 2, 'color': '#e16b16', 'type': 'custom', 'status_group': 'proj_54804921'}, {'id': 'p54804921_oYhO88Lm', 'status': 'testing', 'orderindex': 3, 'color': '#d33d44', 'type': 'custom', 'status_group': 'proj_54804921'}, {'id': 'p54804921_sZXRFa49', 'status': 'brainstorming', 'orderindex': 4, 'color': '#1090e0', 'type': 'custom', 'status_group': 'proj_54804921'}, {'id': 'p54804921_yUsGlLJS', 'status': 'done', 'orderindex': 5, 'color': '#008844', 'type': 'closed', 'status_group': 'proj_54804921'}], 'permission_level': 'create'}], 'permission_level': 'create'}, {'id': '90132407003', 'name': 'langflow', 'orderindex': 48, 'override_statuses': False, 'hidden': False, 'space': {'id': '54804921', 'name': 'Projetos'}, 'task_count': '15', 'archived': False, 'statuses': [], 'lists': [{'id': '901304390573', 'name': 'agente criador de componente langflow', 'orderindex': 0, 'status': None, 'priority': None, 'assignee': None, 'task_count': 4, 'due_date': None, 'start_date': None, 'space': {'id': '54804921', 'name': 'Projetos', 'access': True}, 'archived': False, 'override_statuses': None, 'statuses': [{'id': 'p54804921_1gR1N0KG', 'status': 'backlog', 'orderindex': 0, 'color': '#9c09bc', 'type': 'open', 'status_group': 'proj_54804921'}, {'id': 'p54804921_95z15BZN', 'status': 'todo', 'orderindex': 1, 'color': '#4466ff', 'type': 'custom', 'status_group': 'proj_54804921'}, {'id': 'p54804921_KslxIFrF', 'status': 'doing', 'orderindex': 2, 'color': '#e16b16', 'type': 'custom', 'status_group': 'proj_54804921'}, {'id': 'p54804921_oYhO88Lm', 'status': 'testing', 'orderindex': 3, 'color': '#d33d44', 'type': 'custom', 'status_group': 'proj_54804921'}, {'id': 'p54804921_sZXRFa49', 'status': 'brainstorming', 'orderindex': 4, 'color': '#1090e0', 'type': 'custom', 'status_group': 'proj_54804921'}, {'id': 'p54804921_yUsGlLJS', 'status': 'done', 'orderindex': 5, 'color': '#008844', 'type': 'closed', 'status_group': 'proj_54804921'}], 'permission_level': 'create'}, {'id': '901304835357', 'name': 'heliotest', 'orderindex': 1, 'content': '', 'status': None, 'priority': None, 'assignee': None, 'task_count': 0, 'due_date': None, 'start_date': None, 'space': {'id': '54804921', 'name': 'Projetos', 'access': True}, 'archived': False, 'override_statuses': False, 'statuses': [{'id': 'p54804921_1gR1N0KG', 'status': 'backlog', 'orderindex': 0, 'color': '#9c09bc', 'type': 'open', 'status_group': 'proj_54804921'}, {'id': 'p54804921_95z15BZN', 'status': 'todo', 'orderindex': 1, 'color': '#4466ff', 'type': 'custom', 'status_group': 'proj_54804921'}, {'id': 'p54804921_KslxIFrF', 'status': 'doing', 'orderindex': 2, 'color': '#e16b16', 'type': 'custom', 'status_group': 'proj_54804921'}, {'id': 'p54804921_oYhO88Lm', 'status': 'testing', 'orderindex': 3, 'color': '#d33d44', 'type': 'custom', 'status_group': 'proj_54804921'}, {'id': 'p54804921_sZXRFa49', 'status': 'brainstorming', 'orderindex': 4, 'color': '#1090e0', 'type': 'custom', 'status_group': 'proj_54804921'}, {'id': 'p54804921_yUsGlLJS', 'status': 'done', 'orderindex': 5, 'color': '#008844', 'type': 'closed', 'status_group': 'proj_54804921'}], 'permission_level': 'create'}, {'id': '901304862476', 'name': 'composioTest', 'orderindex': 2, 'content': '', 'status': None, 'priority': None, 'assignee': None, 'task_count': 11, 'due_date': None, 'start_date': None, 'space': {'id': '54804921', 'name': 'Projetos', 'access': True}, 'archived': False, 'override_statuses': False, 'statuses': [{'id': 'p54804921_1gR1N0KG', 'status': 'backlog', 'orderindex': 0, 'color': '#9c09bc', 'type': 'open', 'status_group': 'proj_54804921'}, {'id': 'p54804921_95z15BZN', 'status': 'todo', 'orderindex': 1, 'color': '#4466ff', 'type': 'custom', 'status_group': 'proj_54804921'}, {'id': 'p54804921_KslxIFrF', 'status': 'doing', 'orderindex': 2, 'color': '#e16b16', 'type': 'custom', 'status_group': 'proj_54804921'}, {'id': 'p54804921_oYhO88Lm', 'status': 'testing', 'orderindex': 3, 'color': '#d33d44', 'type': 'custom', 'status_group': 'proj_54804921'}, {'id': 'p54804921_sZXRFa49', 'status': 'brainstorming', 'orderindex': 4, 'color': '#1090e0', 'type': 'custom', 'status_group': 'proj_54804921'}, {'id': 'p54804921_yUsGlLJS', 'status': 'done', 'orderindex': 5, 'color': '#008844', 'type': 'closed', 'status_group': 'proj_54804921'}], 'permission_level': 'create'}, {'id': '901304890424', 'name': 'composioTest (copy)', 'orderindex': 3, 'content': '', 'status': None, 'priority': None, 'assignee': None, 'task_count': 0, 'due_date': None, 'start_date': None, 'space': {'id': '54804921', 'name': 'Projetos', 'access': True}, 'archived': False, 'override_statuses': False, 'statuses': [{'id': 'p54804921_1gR1N0KG', 'status': 'backlog', 'orderindex': 0, 'color': '#9c09bc', 'type': 'open', 'status_group': 'proj_54804921'}, {'id': 'p54804921_95z15BZN', 'status': 'todo', 'orderindex': 1, 'color': '#4466ff', 'type': 'custom', 'status_group': 'proj_54804921'}, {'id': 'p54804921_KslxIFrF', 'status': 'doing', 'orderindex': 2, 'color': '#e16b16', 'type': 'custom', 'status_group': 'proj_54804921'}, {'id': 'p54804921_oYhO88Lm', 'status': 'testing', 'orderindex': 3, 'color': '#d33d44', 'type': 'custom', 'status_group': 'proj_54804921'}, {'id': 'p54804921_sZXRFa49', 'status': 'brainstorming', 'orderindex': 4, 'color': '#1090e0', 'type': 'custom', 'status_group': 'proj_54804921'}, {'id': 'p54804921_yUsGlLJS', 'status': 'done', 'orderindex': 5, 'color': '#008844', 'type': 'closed', 'status_group': 'proj_54804921'}], 'permission_level': 'create'}], 'permission_level': 'create'}, {'id': '90132806032', 'name': 'agente clickup playgroud (ana beatriz)', 'orderindex': 49, 'override_statuses': False, 'hidden': False, 'space': {'id': '54804921', 'name': 'Projetos'}, 'task_count': '51', 'archived': False, 'statuses': [], 'lists': [{'id': '901304909413', 'name': 'clickup_agent', 'orderindex': 0, 'content': '', 'status': None, 'priority': None, 'assignee': None, 'task_count': 49, 'due_date': None, 'start_date': None, 'space': {'id': '54804921', 'name': 'Projetos', 'access': True}, 'archived': False, 'override_statuses': False, 'statuses': [{'id': 'p54804921_1gR1N0KG', 'status': 'backlog', 'orderindex': 0, 'color': '#9c09bc', 'type': 'open', 'status_group': 'proj_54804921'}, {'id': 'p54804921_95z15BZN', 'status': 'todo', 'orderindex': 1, 'color': '#4466ff', 'type': 'custom', 'status_group': 'proj_54804921'}, {'id': 'p54804921_KslxIFrF', 'status': 'doing', 'orderindex': 2, 'color': '#e16b16', 'type': 'custom', 'status_group': 'proj_54804921'}, {'id': 'p54804921_oYhO88Lm', 'status': 'testing', 'orderindex': 3, 'color': '#d33d44', 'type': 'custom', 'status_group': 'proj_54804921'}, {'id': 'p54804921_sZXRFa49', 'status': 'brainstorming', 'orderindex': 4, 'color': '#1090e0', 'type': 'custom', 'status_group': 'proj_54804921'}, {'id': 'p54804921_yUsGlLJS', 'status': 'done', 'orderindex': 5, 'color': '#008844', 'type': 'closed', 'status_group': 'proj_54804921'}], 'permission_level': 'create'}, {'id': '901305116068', 'name': 'List', 'orderindex': 1, 'status': None, 'priority': None, 'assignee': None, 'task_count': 2, 'due_date': None, 'start_date': None, 'space': {'id': '54804921', 'name': 'Projetos', 'access': True}, 'archived': False, 'override_statuses': None, 'statuses': [{'id': 'p54804921_1gR1N0KG', 'status': 'backlog', 'orderindex': 0, 'color': '#9c09bc', 'type': 'open', 'status_group': 'proj_54804921'}, {'id': 'p54804921_95z15BZN', 'status': 'todo', 'orderindex': 1, 'color': '#4466ff', 'type': 'custom', 'status_group': 'proj_54804921'}, {'id': 'p54804921_KslxIFrF', 'status': 'doing', 'orderindex': 2, 'color': '#e16b16', 'type': 'custom', 'status_group': 'proj_54804921'}, {'id': 'p54804921_oYhO88Lm', 'status': 'testing', 'orderindex': 3, 'color': '#d33d44', 'type': 'custom', 'status_group': 'proj_54804921'}, {'id': 'p54804921_sZXRFa49', 'status': 'brainstorming', 'orderindex': 4, 'color': '#1090e0', 'type': 'custom', 'status_group': 'proj_54804921'}, {'id': 'p54804921_yUsGlLJS', 'status': 'done', 'orderindex': 5, 'color': '#008844', 'type': 'closed', 'status_group': 'proj_54804921'}], 'permission_level': 'create'}], 'permission_level': 'create'}]}\u001b[0m\u001b[32;1m\u001b[1;3mNo espaço \"Projetos\", existem as seguintes pastas:\n",
      "\n",
      "1. **Agentes**\n",
      "    - Lists:\n",
      "        - Agents Hub\n",
      "        - NutriChatBot\n",
      "        - Chatbot Site e Cobrador\n",
      "        - Moderador de comunidade\n",
      "        - Mediador\n",
      "        - Peqii\n",
      "        - Secretária\n",
      "        - Educador\n",
      "        - Gerente de projeto\n",
      "        - Knowledge Graph e GraphRAG\n",
      "\n",
      "2. **langflow**\n",
      "    - Lists:\n",
      "        - agente criador de componente langflow\n",
      "        - heliotest\n",
      "        - composioTest\n",
      "        - composioTest (copy)\n",
      "\n",
      "3. **agente clickup playgroud (ana beatriz)**\n",
      "    - Lists:\n",
      "        - clickup_agent\n",
      "        - List\n",
      "\n",
      "Se precisar de mais detalhes sobre qualquer uma dessas listas ou pastas, me avise!\u001b[0m\n",
      "\n",
      "\u001b[1m> Finished chain.\u001b[0m\n"
     ]
    },
    {
     "data": {
      "text/plain": [
       "{'input': 'Quais são as pastas contidas no espaço que você tem o id?',\n",
       " 'output': 'No espaço \"Projetos\", existem as seguintes pastas:\\n\\n1. **Agentes**\\n    - Lists:\\n        - Agents Hub\\n        - NutriChatBot\\n        - Chatbot Site e Cobrador\\n        - Moderador de comunidade\\n        - Mediador\\n        - Peqii\\n        - Secretária\\n        - Educador\\n        - Gerente de projeto\\n        - Knowledge Graph e GraphRAG\\n\\n2. **langflow**\\n    - Lists:\\n        - agente criador de componente langflow\\n        - heliotest\\n        - composioTest\\n        - composioTest (copy)\\n\\n3. **agente clickup playgroud (ana beatriz)**\\n    - Lists:\\n        - clickup_agent\\n        - List\\n\\nSe precisar de mais detalhes sobre qualquer uma dessas listas ou pastas, me avise!'}"
      ]
     },
     "execution_count": 36,
     "metadata": {},
     "output_type": "execute_result"
    }
   ],
   "source": [
    "agent_executor.invoke(\n",
    "    {\n",
    "        \"input\": \"Quais são as pastas contidas no espaço que você tem o id?\"\n",
    "    }\n",
    ")"
   ]
  },
  {
   "cell_type": "markdown",
   "metadata": {},
   "source": [
    "## Teste 8 - Get List"
   ]
  },
  {
   "cell_type": "code",
   "execution_count": null,
   "metadata": {},
   "outputs": [
    {
     "name": "stdout",
     "output_type": "stream",
     "text": [
      "\n",
      "\n",
      "\u001b[1m> Entering new AgentExecutor chain...\u001b[0m\n",
      "\u001b[32;1m\u001b[1;3m\n",
      "Invoking: `get_list_tool` with `{'list_id': 901304909413}`\n",
      "\n",
      "\n",
      "\u001b[0mResponse Body: {'id': '901304909413', 'name': 'clickup_agent', 'deleted': False, 'orderindex': 0, 'content': '', 'priority': None, 'assignee': None, 'due_date': None, 'start_date': None, 'folder': {'id': '90132806032', 'name': 'agente clickup playgroud (ana beatriz)', 'hidden': False, 'access': True}, 'space': {'id': '54804921', 'name': 'Projetos', 'access': True}, 'inbound_address': 'a.t.901304909413.u-84141406.6188226b-47da-4be0-b3ac-fd9730078afb@tasks.clickup.com', 'archived': False, 'override_statuses': False, 'statuses': [{'id': 'p54804921_1gR1N0KG', 'status': 'backlog', 'orderindex': 0, 'color': '#9c09bc', 'type': 'open', 'status_group': 'proj_54804921'}, {'id': 'p54804921_95z15BZN', 'status': 'todo', 'orderindex': 1, 'color': '#4466ff', 'type': 'custom', 'status_group': 'proj_54804921'}, {'id': 'p54804921_KslxIFrF', 'status': 'doing', 'orderindex': 2, 'color': '#e16b16', 'type': 'custom', 'status_group': 'proj_54804921'}, {'id': 'p54804921_oYhO88Lm', 'status': 'testing', 'orderindex': 3, 'color': '#d33d44', 'type': 'custom', 'status_group': 'proj_54804921'}, {'id': 'p54804921_sZXRFa49', 'status': 'brainstorming', 'orderindex': 4, 'color': '#1090e0', 'type': 'custom', 'status_group': 'proj_54804921'}, {'id': 'p54804921_yUsGlLJS', 'status': 'done', 'orderindex': 5, 'color': '#008844', 'type': 'closed', 'status_group': 'proj_54804921'}], 'permission_level': 'create'}\n",
      "\u001b[33;1m\u001b[1;3mdata={'id': '901304909413', 'name': 'clickup_agent', 'deleted': False, 'orderindex': 0, 'content': '', 'priority': None, 'assignee': None, 'due_date': None, 'start_date': None, 'folder': {'id': '90132806032', 'name': 'agente clickup playgroud (ana beatriz)', 'hidden': False, 'access': True}, 'space': {'id': '54804921', 'name': 'Projetos', 'access': True}, 'inbound_address': 'a.t.901304909413.u-84141406.6188226b-47da-4be0-b3ac-fd9730078afb@tasks.clickup.com', 'archived': False, 'override_statuses': False, 'statuses': [{'id': 'p54804921_1gR1N0KG', 'status': 'backlog', 'orderindex': 0, 'color': '#9c09bc', 'type': 'open', 'status_group': 'proj_54804921'}, {'id': 'p54804921_95z15BZN', 'status': 'todo', 'orderindex': 1, 'color': '#4466ff', 'type': 'custom', 'status_group': 'proj_54804921'}, {'id': 'p54804921_KslxIFrF', 'status': 'doing', 'orderindex': 2, 'color': '#e16b16', 'type': 'custom', 'status_group': 'proj_54804921'}, {'id': 'p54804921_oYhO88Lm', 'status': 'testing', 'orderindex': 3, 'color': '#d33d44', 'type': 'custom', 'status_group': 'proj_54804921'}, {'id': 'p54804921_sZXRFa49', 'status': 'brainstorming', 'orderindex': 4, 'color': '#1090e0', 'type': 'custom', 'status_group': 'proj_54804921'}, {'id': 'p54804921_yUsGlLJS', 'status': 'done', 'orderindex': 5, 'color': '#008844', 'type': 'closed', 'status_group': 'proj_54804921'}], 'permission_level': 'create'}\u001b[0m\u001b[32;1m\u001b[1;3mAqui estão os detalhes da lista com o ID `901304909413`:\n",
      "\n",
      "- **Nome da Lista:** clickup_agent\n",
      "- **Conteúdo:** \n",
      "- **Prioridade:** Nenhuma\n",
      "- **Responsável:** Nenhum\n",
      "- **Data de Vencimento:** Nenhuma\n",
      "- **Data de Início:** Nenhuma\n",
      "- **Pasta:**\n",
      "  - **ID da Pasta:** 90132806032\n",
      "  - **Nome da Pasta:** agente clickup playground (ana beatriz)\n",
      "  - **Oculta:** Não\n",
      "  - **Acesso:** Sim\n",
      "- **Espaço:**\n",
      "  - **ID do Espaço:** 54804921\n",
      "  - **Nome do Espaço:** Projetos\n",
      "  - **Acesso:** Sim\n",
      "- **Endereço de E-mail Inbound:** a.t.901304909413.u-84141406.6188226b-47da-4be0-b3ac-fd9730078afb@tasks.clickup.com\n",
      "- **Arquivada:** Não\n",
      "- **Substituição de Status:** Não\n",
      "- **Permissão de Nível:** Criar\n",
      "\n",
      "### Statuses\n",
      "A lista possui os seguintes statuses:\n",
      "1. **backlog** (Cor: #9c09bc, Tipo: open)\n",
      "2. **todo** (Cor: #4466ff, Tipo: custom)\n",
      "3. **doing** (Cor: #e16b16, Tipo: custom)\n",
      "4. **testing** (Cor: #d33d44, Tipo: custom)\n",
      "5. **brainstorming** (Cor: #1090e0, Tipo: custom)\n",
      "6. **done** (Cor: #008844, Tipo: closed)\u001b[0m\n",
      "\n",
      "\u001b[1m> Finished chain.\u001b[0m\n"
     ]
    },
    {
     "data": {
      "text/plain": [
       "{'input': 'Recupere o conteúdo da lista que você possui o id.',\n",
       " 'output': 'Aqui estão os detalhes da lista com o ID `901304909413`:\\n\\n- **Nome da Lista:** clickup_agent\\n- **Conteúdo:** \\n- **Prioridade:** Nenhuma\\n- **Responsável:** Nenhum\\n- **Data de Vencimento:** Nenhuma\\n- **Data de Início:** Nenhuma\\n- **Pasta:**\\n  - **ID da Pasta:** 90132806032\\n  - **Nome da Pasta:** agente clickup playground (ana beatriz)\\n  - **Oculta:** Não\\n  - **Acesso:** Sim\\n- **Espaço:**\\n  - **ID do Espaço:** 54804921\\n  - **Nome do Espaço:** Projetos\\n  - **Acesso:** Sim\\n- **Endereço de E-mail Inbound:** a.t.901304909413.u-84141406.6188226b-47da-4be0-b3ac-fd9730078afb@tasks.clickup.com\\n- **Arquivada:** Não\\n- **Substituição de Status:** Não\\n- **Permissão de Nível:** Criar\\n\\n### Statuses\\nA lista possui os seguintes statuses:\\n1. **backlog** (Cor: #9c09bc, Tipo: open)\\n2. **todo** (Cor: #4466ff, Tipo: custom)\\n3. **doing** (Cor: #e16b16, Tipo: custom)\\n4. **testing** (Cor: #d33d44, Tipo: custom)\\n5. **brainstorming** (Cor: #1090e0, Tipo: custom)\\n6. **done** (Cor: #008844, Tipo: closed)'}"
      ]
     },
     "execution_count": 37,
     "metadata": {},
     "output_type": "execute_result"
    }
   ],
   "source": [
    "agent_executor.invoke(\n",
    "    {\n",
    "        \"input\": \"Recupere o conteúdo da lista que você possui o id.\"\n",
    "    }\n",
    ")"
   ]
  },
  {
   "cell_type": "markdown",
   "metadata": {},
   "source": [
    "## Teste 9 - Get List Members"
   ]
  },
  {
   "cell_type": "code",
   "execution_count": null,
   "metadata": {},
   "outputs": [
    {
     "name": "stdout",
     "output_type": "stream",
     "text": [
      "\n",
      "\n",
      "\u001b[1m> Entering new AgentExecutor chain...\u001b[0m\n",
      "\u001b[32;1m\u001b[1;3m\n",
      "Invoking: `get_list_members_tool` with `{'list_id': 901304909413}`\n",
      "\n",
      "\n",
      "\u001b[0mResponse Body: {'members': [{'id': 3115657, 'username': 'Filipe Werlang', 'email': 'filipewerlang.d@gmail.com', 'color': '#622aea', 'initials': 'FW', 'profilePicture': 'https://attachments.clickup.com/profilePictures/3115657_GPh.jpg', 'profileInfo': {'display_profile': True, 'verified_ambassador': None, 'verified_consultant': None, 'top_tier_user': None, 'ai_expert': None, 'viewed_verified_ambassador': None, 'viewed_verified_consultant': None, 'viewed_top_tier_user': None, 'viewed_ai_expert': None}}, {'id': 18951490, 'username': 'Gabriel Alberton', 'email': 'gabriel@cogmo.com.br', 'color': '#7b68ee', 'initials': 'GA', 'profilePicture': 'https://attachments.clickup.com/profilePictures/18951490_W33.jpg', 'profileInfo': {'display_profile': True, 'verified_ambassador': None, 'verified_consultant': None, 'top_tier_user': None, 'ai_expert': None, 'viewed_verified_ambassador': None, 'viewed_verified_consultant': None, 'viewed_top_tier_user': None, 'viewed_ai_expert': None}}, {'id': 44309342, 'username': 'Hibrael Loures', 'email': 'ibraelmoura@gmail.com', 'color': None, 'initials': 'HL', 'profilePicture': 'https://attachments.clickup.com/profilePictures/44309342_YHC.jpg', 'profileInfo': {'display_profile': True, 'verified_ambassador': None, 'verified_consultant': None, 'top_tier_user': None, 'ai_expert': None, 'viewed_verified_ambassador': None, 'viewed_verified_consultant': None, 'viewed_top_tier_user': None, 'viewed_ai_expert': None}}, {'id': 48772077, 'username': 'Hélio Potelicki', 'email': 'helio@cogmo.com.br', 'color': '#2ea52c', 'initials': 'HP', 'profilePicture': 'https://attachments.clickup.com/profilePictures/48772077_rvb.jpg', 'profileInfo': {'display_profile': True, 'verified_ambassador': None, 'verified_consultant': None, 'top_tier_user': None, 'ai_expert': None, 'viewed_verified_ambassador': None, 'viewed_verified_consultant': None, 'viewed_top_tier_user': None, 'viewed_ai_expert': None}}, {'id': 49198435, 'username': 'Rafael Macedo Mendonça', 'email': 'rafael.macedo@perceptus.ai', 'color': '#5d4037', 'initials': 'RM', 'profilePicture': None, 'profileInfo': {'display_profile': True, 'verified_ambassador': None, 'verified_consultant': None, 'top_tier_user': None, 'ai_expert': None, 'viewed_verified_ambassador': None, 'viewed_verified_consultant': None, 'viewed_top_tier_user': None, 'viewed_ai_expert': None}}, {'id': 54979221, 'username': 'Caio Ferreira da Costa Macedo', 'email': 'cmacedo2011@hotmail.com', 'color': '#ff4081', 'initials': 'CM', 'profilePicture': None, 'profileInfo': {'display_profile': None, 'verified_ambassador': None, 'verified_consultant': None, 'top_tier_user': None, 'ai_expert': None, 'viewed_verified_ambassador': None, 'viewed_verified_consultant': None, 'viewed_top_tier_user': None, 'viewed_ai_expert': None}}, {'id': 55040420, 'username': 'Gabriela Barreto Alberton', 'email': 'gabibalberton@gmail.com', 'color': '#f8306d', 'initials': 'GA', 'profilePicture': 'https://attachments.clickup.com/profilePictures/55040420_3Pe.jpg', 'profileInfo': {'display_profile': True, 'verified_ambassador': None, 'verified_consultant': None, 'top_tier_user': None, 'ai_expert': None, 'viewed_verified_ambassador': None, 'viewed_verified_consultant': None, 'viewed_top_tier_user': None, 'viewed_ai_expert': None}}, {'id': 81918955, 'username': 'João Guilherme Silva Morossini', 'email': 'joaog.morossini@gmail.com', 'color': '#81b1ff', 'initials': 'JM', 'profilePicture': 'https://attachments.clickup.com/profilePictures/81918955_kcK.jpg', 'profileInfo': {'display_profile': True, 'verified_ambassador': None, 'verified_consultant': None, 'top_tier_user': None, 'ai_expert': None, 'viewed_verified_ambassador': None, 'viewed_verified_consultant': None, 'viewed_top_tier_user': None, 'viewed_ai_expert': None}}, {'id': 82061927, 'username': 'Rafael Alves Magalhães', 'email': 'magalhaesrafael07@gmail.com', 'color': '', 'initials': 'RM', 'profilePicture': None, 'profileInfo': {'display_profile': None, 'verified_ambassador': None, 'verified_consultant': None, 'top_tier_user': None, 'ai_expert': None, 'viewed_verified_ambassador': None, 'viewed_verified_consultant': None, 'viewed_top_tier_user': None, 'viewed_ai_expert': None}}, {'id': 84141406, 'username': 'Ana Beatriz', 'email': 'ti@cogmo.com.br', 'color': '#455963', 'initials': 'AB', 'profilePicture': 'https://attachments.clickup.com/profilePictures/84141406_ZkZ.jpg', 'profileInfo': {'display_profile': True, 'verified_ambassador': None, 'verified_consultant': None, 'top_tier_user': None, 'ai_expert': None, 'viewed_verified_ambassador': None, 'viewed_verified_consultant': None, 'viewed_top_tier_user': None, 'viewed_ai_expert': None}}]}\n",
      "\u001b[38;5;200m\u001b[1;3mdata={'members': [{'id': 3115657, 'username': 'Filipe Werlang', 'email': 'filipewerlang.d@gmail.com', 'color': '#622aea', 'initials': 'FW', 'profilePicture': 'https://attachments.clickup.com/profilePictures/3115657_GPh.jpg', 'profileInfo': {'display_profile': True, 'verified_ambassador': None, 'verified_consultant': None, 'top_tier_user': None, 'ai_expert': None, 'viewed_verified_ambassador': None, 'viewed_verified_consultant': None, 'viewed_top_tier_user': None, 'viewed_ai_expert': None}}, {'id': 18951490, 'username': 'Gabriel Alberton', 'email': 'gabriel@cogmo.com.br', 'color': '#7b68ee', 'initials': 'GA', 'profilePicture': 'https://attachments.clickup.com/profilePictures/18951490_W33.jpg', 'profileInfo': {'display_profile': True, 'verified_ambassador': None, 'verified_consultant': None, 'top_tier_user': None, 'ai_expert': None, 'viewed_verified_ambassador': None, 'viewed_verified_consultant': None, 'viewed_top_tier_user': None, 'viewed_ai_expert': None}}, {'id': 44309342, 'username': 'Hibrael Loures', 'email': 'ibraelmoura@gmail.com', 'color': None, 'initials': 'HL', 'profilePicture': 'https://attachments.clickup.com/profilePictures/44309342_YHC.jpg', 'profileInfo': {'display_profile': True, 'verified_ambassador': None, 'verified_consultant': None, 'top_tier_user': None, 'ai_expert': None, 'viewed_verified_ambassador': None, 'viewed_verified_consultant': None, 'viewed_top_tier_user': None, 'viewed_ai_expert': None}}, {'id': 48772077, 'username': 'Hélio Potelicki', 'email': 'helio@cogmo.com.br', 'color': '#2ea52c', 'initials': 'HP', 'profilePicture': 'https://attachments.clickup.com/profilePictures/48772077_rvb.jpg', 'profileInfo': {'display_profile': True, 'verified_ambassador': None, 'verified_consultant': None, 'top_tier_user': None, 'ai_expert': None, 'viewed_verified_ambassador': None, 'viewed_verified_consultant': None, 'viewed_top_tier_user': None, 'viewed_ai_expert': None}}, {'id': 49198435, 'username': 'Rafael Macedo Mendonça', 'email': 'rafael.macedo@perceptus.ai', 'color': '#5d4037', 'initials': 'RM', 'profilePicture': None, 'profileInfo': {'display_profile': True, 'verified_ambassador': None, 'verified_consultant': None, 'top_tier_user': None, 'ai_expert': None, 'viewed_verified_ambassador': None, 'viewed_verified_consultant': None, 'viewed_top_tier_user': None, 'viewed_ai_expert': None}}, {'id': 54979221, 'username': 'Caio Ferreira da Costa Macedo', 'email': 'cmacedo2011@hotmail.com', 'color': '#ff4081', 'initials': 'CM', 'profilePicture': None, 'profileInfo': {'display_profile': None, 'verified_ambassador': None, 'verified_consultant': None, 'top_tier_user': None, 'ai_expert': None, 'viewed_verified_ambassador': None, 'viewed_verified_consultant': None, 'viewed_top_tier_user': None, 'viewed_ai_expert': None}}, {'id': 55040420, 'username': 'Gabriela Barreto Alberton', 'email': 'gabibalberton@gmail.com', 'color': '#f8306d', 'initials': 'GA', 'profilePicture': 'https://attachments.clickup.com/profilePictures/55040420_3Pe.jpg', 'profileInfo': {'display_profile': True, 'verified_ambassador': None, 'verified_consultant': None, 'top_tier_user': None, 'ai_expert': None, 'viewed_verified_ambassador': None, 'viewed_verified_consultant': None, 'viewed_top_tier_user': None, 'viewed_ai_expert': None}}, {'id': 81918955, 'username': 'João Guilherme Silva Morossini', 'email': 'joaog.morossini@gmail.com', 'color': '#81b1ff', 'initials': 'JM', 'profilePicture': 'https://attachments.clickup.com/profilePictures/81918955_kcK.jpg', 'profileInfo': {'display_profile': True, 'verified_ambassador': None, 'verified_consultant': None, 'top_tier_user': None, 'ai_expert': None, 'viewed_verified_ambassador': None, 'viewed_verified_consultant': None, 'viewed_top_tier_user': None, 'viewed_ai_expert': None}}, {'id': 82061927, 'username': 'Rafael Alves Magalhães', 'email': 'magalhaesrafael07@gmail.com', 'color': '', 'initials': 'RM', 'profilePicture': None, 'profileInfo': {'display_profile': None, 'verified_ambassador': None, 'verified_consultant': None, 'top_tier_user': None, 'ai_expert': None, 'viewed_verified_ambassador': None, 'viewed_verified_consultant': None, 'viewed_top_tier_user': None, 'viewed_ai_expert': None}}, {'id': 84141406, 'username': 'Ana Beatriz', 'email': 'ti@cogmo.com.br', 'color': '#455963', 'initials': 'AB', 'profilePicture': 'https://attachments.clickup.com/profilePictures/84141406_ZkZ.jpg', 'profileInfo': {'display_profile': True, 'verified_ambassador': None, 'verified_consultant': None, 'top_tier_user': None, 'ai_expert': None, 'viewed_verified_ambassador': None, 'viewed_verified_consultant': None, 'viewed_top_tier_user': None, 'viewed_ai_expert': None}}]}\u001b[0m\u001b[32;1m\u001b[1;3mAqui estão os membros da lista com o ID `901304909413`:\n",
      "\n",
      "1. **Filipe Werlang**\n",
      "   - Email: filipewerlang.d@gmail.com\n",
      "   - Inicial: FW\n",
      "   - ![Foto de Perfil](https://attachments.clickup.com/profilePictures/3115657_GPh.jpg)\n",
      "\n",
      "2. **Gabriel Alberton**\n",
      "   - Email: gabriel@cogmo.com.br\n",
      "   - Inicial: GA\n",
      "   - ![Foto de Perfil](https://attachments.clickup.com/profilePictures/18951490_W33.jpg)\n",
      "\n",
      "3. **Hibrael Loures**\n",
      "   - Email: ibraelmoura@gmail.com\n",
      "   - Inicial: HL\n",
      "   - ![Foto de Perfil](https://attachments.clickup.com/profilePictures/44309342_YHC.jpg)\n",
      "\n",
      "4. **Hélio Potelicki**\n",
      "   - Email: helio@cogmo.com.br\n",
      "   - Inicial: HP\n",
      "   - ![Foto de Perfil](https://attachments.clickup.com/profilePictures/48772077_rvb.jpg)\n",
      "\n",
      "5. **Rafael Macedo Mendonça**\n",
      "   - Email: rafael.macedo@perceptus.ai\n",
      "   - Inicial: RM\n",
      "\n",
      "6. **Caio Ferreira da Costa Macedo**\n",
      "   - Email: cmacedo2011@hotmail.com\n",
      "   - Inicial: CM\n",
      "\n",
      "7. **Gabriela Barreto Alberton**\n",
      "   - Email: gabibalberton@gmail.com\n",
      "   - Inicial: GA\n",
      "   - ![Foto de Perfil](https://attachments.clickup.com/profilePictures/55040420_3Pe.jpg)\n",
      "\n",
      "8. **João Guilherme Silva Morossini**\n",
      "   - Email: joaog.morossini@gmail.com\n",
      "   - Inicial: JM\n",
      "   - ![Foto de Perfil](https://attachments.clickup.com/profilePictures/81918955_kcK.jpg)\n",
      "\n",
      "9. **Rafael Alves Magalhães**\n",
      "   - Email: magalhaesrafael07@gmail.com\n",
      "   - Inicial: RM\n",
      "\n",
      "10. **Ana Beatriz**\n",
      "    - Email: ti@cogmo.com.br\n",
      "    - Inicial: AB\n",
      "    - ![Foto de Perfil](https://attachments.clickup.com/profilePictures/84141406_ZkZ.jpg)\u001b[0m\n",
      "\n",
      "\u001b[1m> Finished chain.\u001b[0m\n"
     ]
    },
    {
     "data": {
      "text/plain": [
       "{'input': 'Quais são os membros da lista que você possui o id.',\n",
       " 'output': 'Aqui estão os membros da lista com o ID `901304909413`:\\n\\n1. **Filipe Werlang**\\n   - Email: filipewerlang.d@gmail.com\\n   - Inicial: FW\\n   - ![Foto de Perfil](https://attachments.clickup.com/profilePictures/3115657_GPh.jpg)\\n\\n2. **Gabriel Alberton**\\n   - Email: gabriel@cogmo.com.br\\n   - Inicial: GA\\n   - ![Foto de Perfil](https://attachments.clickup.com/profilePictures/18951490_W33.jpg)\\n\\n3. **Hibrael Loures**\\n   - Email: ibraelmoura@gmail.com\\n   - Inicial: HL\\n   - ![Foto de Perfil](https://attachments.clickup.com/profilePictures/44309342_YHC.jpg)\\n\\n4. **Hélio Potelicki**\\n   - Email: helio@cogmo.com.br\\n   - Inicial: HP\\n   - ![Foto de Perfil](https://attachments.clickup.com/profilePictures/48772077_rvb.jpg)\\n\\n5. **Rafael Macedo Mendonça**\\n   - Email: rafael.macedo@perceptus.ai\\n   - Inicial: RM\\n\\n6. **Caio Ferreira da Costa Macedo**\\n   - Email: cmacedo2011@hotmail.com\\n   - Inicial: CM\\n\\n7. **Gabriela Barreto Alberton**\\n   - Email: gabibalberton@gmail.com\\n   - Inicial: GA\\n   - ![Foto de Perfil](https://attachments.clickup.com/profilePictures/55040420_3Pe.jpg)\\n\\n8. **João Guilherme Silva Morossini**\\n   - Email: joaog.morossini@gmail.com\\n   - Inicial: JM\\n   - ![Foto de Perfil](https://attachments.clickup.com/profilePictures/81918955_kcK.jpg)\\n\\n9. **Rafael Alves Magalhães**\\n   - Email: magalhaesrafael07@gmail.com\\n   - Inicial: RM\\n\\n10. **Ana Beatriz**\\n    - Email: ti@cogmo.com.br\\n    - Inicial: AB\\n    - ![Foto de Perfil](https://attachments.clickup.com/profilePictures/84141406_ZkZ.jpg)'}"
      ]
     },
     "execution_count": 38,
     "metadata": {},
     "output_type": "execute_result"
    }
   ],
   "source": [
    "agent_executor.invoke(\n",
    "    {\n",
    "        \"input\": \"Quais são os membros da lista que você possui o id.\"\n",
    "    }\n",
    ")"
   ]
  },
  {
   "cell_type": "markdown",
   "metadata": {},
   "source": [
    "## Teste 10 - Get Task Members"
   ]
  },
  {
   "cell_type": "code",
   "execution_count": null,
   "metadata": {},
   "outputs": [
    {
     "name": "stdout",
     "output_type": "stream",
     "text": [
      "\n",
      "\n",
      "\u001b[1m> Entering new AgentExecutor chain...\u001b[0m\n",
      "\u001b[32;1m\u001b[1;3m\n",
      "Invoking: `get_task_members_tool` with `{'task_id': '86a4qz2xm'}`\n",
      "\n",
      "\n",
      "\u001b[0mResponse Body: {'members': [{'id': 18951490, 'username': 'Gabriel Alberton', 'email': 'gabriel@cogmo.com.br', 'color': '#7b68ee', 'initials': 'GA', 'profilePicture': 'https://attachments.clickup.com/profilePictures/18951490_W33.jpg', 'profileInfo': {'display_profile': True, 'verified_ambassador': None, 'verified_consultant': None, 'top_tier_user': None, 'ai_expert': None, 'viewed_verified_ambassador': None, 'viewed_verified_consultant': None, 'viewed_top_tier_user': None, 'viewed_ai_expert': None}}]}\n",
      "\u001b[36;1m\u001b[1;3mdata={'members': [{'id': 18951490, 'username': 'Gabriel Alberton', 'email': 'gabriel@cogmo.com.br', 'color': '#7b68ee', 'initials': 'GA', 'profilePicture': 'https://attachments.clickup.com/profilePictures/18951490_W33.jpg', 'profileInfo': {'display_profile': True, 'verified_ambassador': None, 'verified_consultant': None, 'top_tier_user': None, 'ai_expert': None, 'viewed_verified_ambassador': None, 'viewed_verified_consultant': None, 'viewed_top_tier_user': None, 'viewed_ai_expert': None}}]}\u001b[0m\u001b[32;1m\u001b[1;3mO único membro da tarefa com ID `86a4qz2xm` é:\n",
      "\n",
      "- **Nome:** Gabriel Alberton\n",
      "- **Email:** gabriel@cogmo.com.br\n",
      "- **Iniciais:** GA\n",
      "- **Foto de Perfil:** ![Gabriel Alberton](https://attachments.clickup.com/profilePictures/18951490_W33.jpg)\u001b[0m\n",
      "\n",
      "\u001b[1m> Finished chain.\u001b[0m\n"
     ]
    },
    {
     "data": {
      "text/plain": [
       "{'input': 'Quais são os membros da tarefa de id 86a4qz2xm.',\n",
       " 'output': 'O único membro da tarefa com ID `86a4qz2xm` é:\\n\\n- **Nome:** Gabriel Alberton\\n- **Email:** gabriel@cogmo.com.br\\n- **Iniciais:** GA\\n- **Foto de Perfil:** ![Gabriel Alberton](https://attachments.clickup.com/profilePictures/18951490_W33.jpg)'}"
      ]
     },
     "execution_count": 39,
     "metadata": {},
     "output_type": "execute_result"
    }
   ],
   "source": [
    "agent_executor.invoke(\n",
    "    {\n",
    "        \"input\": \"Quais são os membros da tarefa de id 86a4qz2xm.\"\n",
    "    }\n",
    ")"
   ]
  },
  {
   "cell_type": "markdown",
   "metadata": {},
   "source": [
    "## Teste 11 - Get Space"
   ]
  },
  {
   "cell_type": "code",
   "execution_count": null,
   "metadata": {},
   "outputs": [
    {
     "name": "stdout",
     "output_type": "stream",
     "text": [
      "\n",
      "\n",
      "\u001b[1m> Entering new AgentExecutor chain...\u001b[0m\n",
      "\u001b[32;1m\u001b[1;3m\n",
      "Invoking: `get_space_tool` with `{'space_id': 54804921}`\n",
      "\n",
      "\n",
      "\u001b[0mResponse Body: {'id': '54804921', 'name': 'Projetos', 'color': '#1ABC9C', 'private': False, 'avatar': None, 'admin_can_manage': True, 'statuses': [{'id': 'p54804921_1gR1N0KG', 'status': 'backlog', 'type': 'open', 'orderindex': 0, 'color': '#9c09bc'}, {'id': 'p54804921_95z15BZN', 'status': 'todo', 'type': 'custom', 'orderindex': 1, 'color': '#4466ff'}, {'id': 'p54804921_KslxIFrF', 'status': 'doing', 'type': 'custom', 'orderindex': 2, 'color': '#e16b16'}, {'id': 'p54804921_oYhO88Lm', 'status': 'testing', 'type': 'custom', 'orderindex': 3, 'color': '#d33d44'}, {'id': 'p54804921_sZXRFa49', 'status': 'brainstorming', 'type': 'custom', 'orderindex': 4, 'color': '#1090e0'}, {'id': 'p54804921_yUsGlLJS', 'status': 'done', 'type': 'closed', 'orderindex': 5, 'color': '#008844'}], 'multiple_assignees': True, 'features': {'due_dates': {'enabled': True, 'start_date': True, 'remap_due_dates': True, 'remap_closed_due_date': False}, 'sprints': {'enabled': False}, 'time_tracking': {'enabled': True, 'harvest': False, 'rollup': False, 'default_to_billable': 2}, 'points': {'enabled': False}, 'custom_items': {'enabled': False}, 'priorities': {'enabled': True, 'priorities': [{'color': '#f50000', 'id': '1', 'orderindex': '1', 'priority': 'urgent'}, {'color': '#f8ae00', 'id': '2', 'orderindex': '2', 'priority': 'high'}, {'color': '#6fddff', 'id': '3', 'orderindex': '3', 'priority': 'normal'}, {'color': '#d8d8d8', 'id': '4', 'orderindex': '4', 'priority': 'low'}]}, 'tags': {'enabled': True}, 'time_estimates': {'enabled': True, 'rollup': True, 'per_assignee': False}, 'zoom': {'enabled': False}, 'milestones': {'enabled': True}, 'custom_fields': {'enabled': True}, 'dependency_warning': {'enabled': True}, 'status_pies': {'enabled': False}, 'multiple_assignees': {'enabled': True}, 'scheduler_enabled': False}, 'archived': False}\n",
      "\u001b[33;1m\u001b[1;3mdata={'id': '54804921', 'name': 'Projetos', 'color': '#1ABC9C', 'private': False, 'avatar': None, 'admin_can_manage': True, 'statuses': [{'id': 'p54804921_1gR1N0KG', 'status': 'backlog', 'type': 'open', 'orderindex': 0, 'color': '#9c09bc'}, {'id': 'p54804921_95z15BZN', 'status': 'todo', 'type': 'custom', 'orderindex': 1, 'color': '#4466ff'}, {'id': 'p54804921_KslxIFrF', 'status': 'doing', 'type': 'custom', 'orderindex': 2, 'color': '#e16b16'}, {'id': 'p54804921_oYhO88Lm', 'status': 'testing', 'type': 'custom', 'orderindex': 3, 'color': '#d33d44'}, {'id': 'p54804921_sZXRFa49', 'status': 'brainstorming', 'type': 'custom', 'orderindex': 4, 'color': '#1090e0'}, {'id': 'p54804921_yUsGlLJS', 'status': 'done', 'type': 'closed', 'orderindex': 5, 'color': '#008844'}], 'multiple_assignees': True, 'features': {'due_dates': {'enabled': True, 'start_date': True, 'remap_due_dates': True, 'remap_closed_due_date': False}, 'sprints': {'enabled': False}, 'time_tracking': {'enabled': True, 'harvest': False, 'rollup': False, 'default_to_billable': 2}, 'points': {'enabled': False}, 'custom_items': {'enabled': False}, 'priorities': {'enabled': True, 'priorities': [{'color': '#f50000', 'id': '1', 'orderindex': '1', 'priority': 'urgent'}, {'color': '#f8ae00', 'id': '2', 'orderindex': '2', 'priority': 'high'}, {'color': '#6fddff', 'id': '3', 'orderindex': '3', 'priority': 'normal'}, {'color': '#d8d8d8', 'id': '4', 'orderindex': '4', 'priority': 'low'}]}, 'tags': {'enabled': True}, 'time_estimates': {'enabled': True, 'rollup': True, 'per_assignee': False}, 'zoom': {'enabled': False}, 'milestones': {'enabled': True}, 'custom_fields': {'enabled': True}, 'dependency_warning': {'enabled': True}, 'status_pies': {'enabled': False}, 'multiple_assignees': {'enabled': True}, 'scheduler_enabled': False}, 'archived': False}\u001b[0m\u001b[32;1m\u001b[1;3mO espaço com o ID `54804921` é chamado de \"Projetos\". Aqui estão os detalhes do espaço:\n",
      "\n",
      "- **ID:** 54804921\n",
      "- **Nome:** Projetos\n",
      "- **Cor:** #1ABC9C\n",
      "- **Privado:** Não\n",
      "- **Administração:** Os administradores podem gerenciar o espaço\n",
      "- **Status:** \n",
      "  - Backlog (Aberto, #9c09bc)\n",
      "  - To Do (Customizado, #4466ff)\n",
      "  - Doing (Customizado, #e16b16)\n",
      "  - Testing (Customizado, #d33d44)\n",
      "  - Brainstorming (Customizado, #1090e0)\n",
      "  - Done (Fechado, #008844)\n",
      "- **Múltiplos Responsáveis:** Habilitado\n",
      "\n",
      "### Funcionalidades\n",
      "\n",
      "- **Datas de Vencimento:** Habilitado (com data de início e remapeamento de datas de vencimento)\n",
      "- **Sprints:** Desabilitado\n",
      "- **Rastreamento de Tempo:** Habilitado\n",
      "- **Pontos:** Desabilitado\n",
      "- **Itens Personalizados:** Desabilitado\n",
      "- **Prioridades:** Habilitado\n",
      "  - Urgente (#f50000)\n",
      "  - Alta (#f8ae00)\n",
      "  - Normal (#6fddff)\n",
      "  - Baixa (#d8d8d8)\n",
      "- **Tags:** Habilitado\n",
      "- **Estimativas de Tempo:** Habilitado (com rollup)\n",
      "- **Zoom:** Desabilitado\n",
      "- **Marcos:** Habilitado\n",
      "- **Campos Personalizados:** Habilitado\n",
      "- **Aviso de Dependência:** Habilitado\n",
      "- **Gráficos de Status:** Desabilitado\n",
      "- **Múltiplos Responsáveis:** Habilitado\n",
      "- **Agendador:** Desabilitado\n",
      "- **Arquivado:** Não\n",
      "\n",
      "Este espaço é usado para gerenciar projetos e contém várias funcionalidades para ajudar na organização e acompanhamento do trabalho.\u001b[0m\n",
      "\n",
      "\u001b[1m> Finished chain.\u001b[0m\n"
     ]
    },
    {
     "data": {
      "text/plain": [
       "{'input': 'Qual o conteúdo do espaço que você possui o id?',\n",
       " 'output': 'O espaço com o ID `54804921` é chamado de \"Projetos\". Aqui estão os detalhes do espaço:\\n\\n- **ID:** 54804921\\n- **Nome:** Projetos\\n- **Cor:** #1ABC9C\\n- **Privado:** Não\\n- **Administração:** Os administradores podem gerenciar o espaço\\n- **Status:** \\n  - Backlog (Aberto, #9c09bc)\\n  - To Do (Customizado, #4466ff)\\n  - Doing (Customizado, #e16b16)\\n  - Testing (Customizado, #d33d44)\\n  - Brainstorming (Customizado, #1090e0)\\n  - Done (Fechado, #008844)\\n- **Múltiplos Responsáveis:** Habilitado\\n\\n### Funcionalidades\\n\\n- **Datas de Vencimento:** Habilitado (com data de início e remapeamento de datas de vencimento)\\n- **Sprints:** Desabilitado\\n- **Rastreamento de Tempo:** Habilitado\\n- **Pontos:** Desabilitado\\n- **Itens Personalizados:** Desabilitado\\n- **Prioridades:** Habilitado\\n  - Urgente (#f50000)\\n  - Alta (#f8ae00)\\n  - Normal (#6fddff)\\n  - Baixa (#d8d8d8)\\n- **Tags:** Habilitado\\n- **Estimativas de Tempo:** Habilitado (com rollup)\\n- **Zoom:** Desabilitado\\n- **Marcos:** Habilitado\\n- **Campos Personalizados:** Habilitado\\n- **Aviso de Dependência:** Habilitado\\n- **Gráficos de Status:** Desabilitado\\n- **Múltiplos Responsáveis:** Habilitado\\n- **Agendador:** Desabilitado\\n- **Arquivado:** Não\\n\\nEste espaço é usado para gerenciar projetos e contém várias funcionalidades para ajudar na organização e acompanhamento do trabalho.'}"
      ]
     },
     "execution_count": 40,
     "metadata": {},
     "output_type": "execute_result"
    }
   ],
   "source": [
    "agent_executor.invoke(\n",
    "    {\n",
    "        \"input\": \"Qual o conteúdo do espaço que você possui o id?\"\n",
    "    }\n",
    ")"
   ]
  },
  {
   "cell_type": "markdown",
   "metadata": {},
   "source": [
    "## Teste 12 - Get Spaces"
   ]
  },
  {
   "cell_type": "code",
   "execution_count": null,
   "metadata": {},
   "outputs": [
    {
     "name": "stdout",
     "output_type": "stream",
     "text": [
      "\n",
      "\n",
      "\u001b[1m> Entering new AgentExecutor chain...\u001b[0m\n",
      "\u001b[32;1m\u001b[1;3m\n",
      "Invoking: `get_spaces_tool` with `{'team_id': 12927880}`\n",
      "\n",
      "\n",
      "\u001b[0mResponse Body: {'spaces': [{'id': '54804921', 'name': 'Projetos', 'color': '#1ABC9C', 'private': False, 'avatar': None, 'admin_can_manage': True, 'statuses': [{'id': 'p54804921_1gR1N0KG', 'status': 'backlog', 'type': 'open', 'orderindex': 0, 'color': '#9c09bc'}, {'id': 'p54804921_95z15BZN', 'status': 'todo', 'type': 'custom', 'orderindex': 1, 'color': '#4466ff'}, {'id': 'p54804921_KslxIFrF', 'status': 'doing', 'type': 'custom', 'orderindex': 2, 'color': '#e16b16'}, {'id': 'p54804921_oYhO88Lm', 'status': 'testing', 'type': 'custom', 'orderindex': 3, 'color': '#d33d44'}, {'id': 'p54804921_sZXRFa49', 'status': 'brainstorming', 'type': 'custom', 'orderindex': 4, 'color': '#1090e0'}, {'id': 'p54804921_yUsGlLJS', 'status': 'done', 'type': 'closed', 'orderindex': 5, 'color': '#008844'}], 'multiple_assignees': True, 'features': {'due_dates': {'enabled': True, 'start_date': True, 'remap_due_dates': True, 'remap_closed_due_date': False}, 'sprints': {'enabled': False}, 'time_tracking': {'enabled': True, 'harvest': False, 'rollup': False, 'default_to_billable': 2}, 'points': {'enabled': False}, 'custom_items': {'enabled': False}, 'priorities': {'enabled': True, 'priorities': [{'color': '#f50000', 'id': '1', 'orderindex': '1', 'priority': 'urgent'}, {'color': '#f8ae00', 'id': '2', 'orderindex': '2', 'priority': 'high'}, {'color': '#6fddff', 'id': '3', 'orderindex': '3', 'priority': 'normal'}, {'color': '#d8d8d8', 'id': '4', 'orderindex': '4', 'priority': 'low'}]}, 'tags': {'enabled': True}, 'time_estimates': {'enabled': True, 'rollup': False, 'per_assignee': False}, 'zoom': {'enabled': False}, 'milestones': {'enabled': True}, 'custom_fields': {'enabled': True}, 'dependency_warning': {'enabled': True}, 'status_pies': {'enabled': False}, 'multiple_assignees': {'enabled': True}, 'scheduler_enabled': False}, 'archived': False}, {'id': '54964971', 'name': 'Onboard e infos', 'color': None, 'private': False, 'avatar': None, 'admin_can_manage': True, 'statuses': [{'id': 'p54964971_bnCuGGBv', 'status': 'to do', 'type': 'open', 'orderindex': 0, 'color': '#87909e'}, {'id': 'p54964971_Km4inFPG', 'status': 'complete', 'type': 'closed', 'orderindex': 1, 'color': '#008844'}], 'multiple_assignees': False, 'features': {'due_dates': {'enabled': True, 'start_date': True, 'remap_due_dates': False, 'remap_closed_due_date': False}, 'sprints': {'enabled': False}, 'points': {'enabled': False}, 'custom_items': {'enabled': False}, 'zoom': {'enabled': False}, 'milestones': {'enabled': False}, 'status_pies': {'enabled': False}, 'time_tracking': {'default_to_billable': 2}, 'scheduler_enabled': False}, 'archived': False}, {'id': '90130502870', 'name': 'Projetos pausados', 'color': '#595d66', 'private': True, 'avatar': None, 'admin_can_manage': True, 'statuses': [{'id': 'p90130502870_p54804921_1gR1N0KG', 'status': 'backlog', 'type': 'open', 'orderindex': 0, 'color': '#9c09bc'}, {'id': 'p90130502870_p54804921_95z15BZN', 'status': 'todo', 'type': 'custom', 'orderindex': 1, 'color': '#4466ff'}, {'id': 'p90130502870_p54804921_KslxIFrF', 'status': 'doing', 'type': 'custom', 'orderindex': 2, 'color': '#e16b16'}, {'id': 'p90130502870_p54804921_oYhO88Lm', 'status': 'testing', 'type': 'custom', 'orderindex': 3, 'color': '#d33d44'}, {'id': 'p90130502870_p54804921_sZXRFa49', 'status': 'brainstorming', 'type': 'custom', 'orderindex': 4, 'color': '#1090e0'}, {'id': 'p90130502870_p54804921_yUsGlLJS', 'status': 'done', 'type': 'closed', 'orderindex': 5, 'color': '#008844'}], 'multiple_assignees': True, 'features': {'due_dates': {'enabled': True, 'start_date': True, 'remap_due_dates': True, 'remap_closed_due_date': False}, 'sprints': {'enabled': False}, 'time_tracking': {'enabled': True, 'harvest': False, 'rollup': False, 'default_to_billable': 2}, 'points': {'enabled': False}, 'custom_items': {'enabled': False}, 'priorities': {'enabled': True, 'priorities': [{'color': '#f50000', 'id': '1', 'orderindex': '1', 'priority': 'urgent'}, {'color': '#f8ae00', 'id': '2', 'orderindex': '2', 'priority': 'high'}, {'color': '#6fddff', 'id': '3', 'orderindex': '3', 'priority': 'normal'}, {'color': '#d8d8d8', 'id': '4', 'orderindex': '4', 'priority': 'low'}]}, 'tags': {'enabled': True}, 'time_estimates': {'enabled': True, 'rollup': False, 'per_assignee': False}, 'zoom': {'enabled': True}, 'milestones': {'enabled': True}, 'custom_fields': {'enabled': True}, 'dependency_warning': {'enabled': True}, 'status_pies': {'enabled': False}, 'multiple_assignees': {'enabled': True}, 'scheduler_enabled': False}, 'archived': False, 'members': [{'user': {'id': 18951490, 'username': 'Gabriel Alberton', 'color': '#7b68ee', 'profilePicture': 'https://attachments.clickup.com/profilePictures/18951490_W33.jpg', 'initials': 'GA'}}, {'user': {'id': 48772077, 'username': 'Hélio Potelicki', 'color': '#2ea52c', 'profilePicture': 'https://attachments.clickup.com/profilePictures/48772077_rvb.jpg', 'initials': 'HP'}}, {'user': {'id': 84141406, 'username': 'Ana Beatriz', 'color': '#455963', 'profilePicture': 'https://attachments.clickup.com/profilePictures/84141406_ZkZ.jpg', 'initials': 'AB'}}]}, {'id': '90130940333', 'name': 'Conteudos', 'color': '#c580e6', 'private': True, 'avatar': None, 'admin_can_manage': False, 'statuses': [{'id': 'p90130940333_nhbZ5gz3', 'status': 'backlog', 'type': 'open', 'orderindex': 0, 'color': '#87909e'}, {'id': 'p90130940333_dX7hgCzZ', 'status': 'planning', 'type': 'custom', 'orderindex': 1, 'color': '#5f55ee'}, {'id': 'p90130940333_QQcJg1TJ', 'status': 'in progress', 'type': 'custom', 'orderindex': 2, 'color': '#f8ae00'}, {'id': 'p90130940333_CoruDecn', 'status': 'ready for review', 'type': 'custom', 'orderindex': 3, 'color': '#b660e0'}, {'id': 'p90130940333_mJniaApM', 'status': 'approved', 'type': 'done', 'orderindex': 4, 'color': '#0f9d9f'}, {'id': 'p90130940333_xQ94E057', 'status': 'rejected', 'type': 'done', 'orderindex': 5, 'color': '#d33d44'}, {'id': 'p90130940333_9uuaYZyK', 'status': 'on hold', 'type': 'done', 'orderindex': 6, 'color': '#aa8d80'}, {'id': 'p90130940333_yAQDhWjq', 'status': 'done', 'type': 'closed', 'orderindex': 7, 'color': '#008844'}], 'multiple_assignees': True, 'features': {'due_dates': {'enabled': True, 'start_date': True, 'remap_due_dates': True, 'remap_closed_due_date': False}, 'sprints': {'enabled': True}, 'time_tracking': {'enabled': True, 'harvest': False, 'rollup': True, 'default_to_billable': 2}, 'points': {'enabled': False}, 'custom_items': {'enabled': False}, 'priorities': {'enabled': True, 'priorities': [{'color': '#f50000', 'id': '1', 'orderindex': '1', 'priority': 'urgent'}, {'color': '#f8ae00', 'id': '2', 'orderindex': '2', 'priority': 'high'}, {'color': '#6fddff', 'id': '3', 'orderindex': '3', 'priority': 'normal'}, {'color': '#d8d8d8', 'id': '4', 'orderindex': '4', 'priority': 'low'}]}, 'tags': {'enabled': True}, 'time_estimates': {'enabled': True, 'rollup': True, 'per_assignee': False}, 'check_unresolved': {'enabled': True, 'subtasks': None, 'checklists': None, 'comments': None}, 'zoom': {'enabled': False}, 'milestones': {'enabled': True}, 'custom_fields': {'enabled': True}, 'remap_dependencies': {'enabled': True}, 'dependency_warning': {'enabled': True}, 'status_pies': {'enabled': True}, 'multiple_assignees': {'enabled': True}, 'emails': {'enabled': True}, 'scheduler_enabled': False}, 'archived': False, 'members': [{'user': {'id': 3115657, 'username': 'Filipe Werlang', 'color': '#622aea', 'profilePicture': 'https://attachments.clickup.com/profilePictures/3115657_GPh.jpg', 'initials': 'FW'}}, {'user': {'id': 18951490, 'username': 'Gabriel Alberton', 'color': '#7b68ee', 'profilePicture': 'https://attachments.clickup.com/profilePictures/18951490_W33.jpg', 'initials': 'GA'}}, {'user': {'id': 44309342, 'username': 'Hibrael Loures', 'color': None, 'profilePicture': 'https://attachments.clickup.com/profilePictures/44309342_YHC.jpg', 'initials': 'HL'}}, {'user': {'id': 84141406, 'username': 'Ana Beatriz', 'color': '#455963', 'profilePicture': 'https://attachments.clickup.com/profilePictures/84141406_ZkZ.jpg', 'initials': 'AB'}}]}]}\n",
      "\u001b[38;5;200m\u001b[1;3mdata={'spaces': [{'id': '54804921', 'name': 'Projetos', 'color': '#1ABC9C', 'private': False, 'avatar': None, 'admin_can_manage': True, 'statuses': [{'id': 'p54804921_1gR1N0KG', 'status': 'backlog', 'type': 'open', 'orderindex': 0, 'color': '#9c09bc'}, {'id': 'p54804921_95z15BZN', 'status': 'todo', 'type': 'custom', 'orderindex': 1, 'color': '#4466ff'}, {'id': 'p54804921_KslxIFrF', 'status': 'doing', 'type': 'custom', 'orderindex': 2, 'color': '#e16b16'}, {'id': 'p54804921_oYhO88Lm', 'status': 'testing', 'type': 'custom', 'orderindex': 3, 'color': '#d33d44'}, {'id': 'p54804921_sZXRFa49', 'status': 'brainstorming', 'type': 'custom', 'orderindex': 4, 'color': '#1090e0'}, {'id': 'p54804921_yUsGlLJS', 'status': 'done', 'type': 'closed', 'orderindex': 5, 'color': '#008844'}], 'multiple_assignees': True, 'features': {'due_dates': {'enabled': True, 'start_date': True, 'remap_due_dates': True, 'remap_closed_due_date': False}, 'sprints': {'enabled': False}, 'time_tracking': {'enabled': True, 'harvest': False, 'rollup': False, 'default_to_billable': 2}, 'points': {'enabled': False}, 'custom_items': {'enabled': False}, 'priorities': {'enabled': True, 'priorities': [{'color': '#f50000', 'id': '1', 'orderindex': '1', 'priority': 'urgent'}, {'color': '#f8ae00', 'id': '2', 'orderindex': '2', 'priority': 'high'}, {'color': '#6fddff', 'id': '3', 'orderindex': '3', 'priority': 'normal'}, {'color': '#d8d8d8', 'id': '4', 'orderindex': '4', 'priority': 'low'}]}, 'tags': {'enabled': True}, 'time_estimates': {'enabled': True, 'rollup': False, 'per_assignee': False}, 'zoom': {'enabled': False}, 'milestones': {'enabled': True}, 'custom_fields': {'enabled': True}, 'dependency_warning': {'enabled': True}, 'status_pies': {'enabled': False}, 'multiple_assignees': {'enabled': True}, 'scheduler_enabled': False}, 'archived': False}, {'id': '54964971', 'name': 'Onboard e infos', 'color': None, 'private': False, 'avatar': None, 'admin_can_manage': True, 'statuses': [{'id': 'p54964971_bnCuGGBv', 'status': 'to do', 'type': 'open', 'orderindex': 0, 'color': '#87909e'}, {'id': 'p54964971_Km4inFPG', 'status': 'complete', 'type': 'closed', 'orderindex': 1, 'color': '#008844'}], 'multiple_assignees': False, 'features': {'due_dates': {'enabled': True, 'start_date': True, 'remap_due_dates': False, 'remap_closed_due_date': False}, 'sprints': {'enabled': False}, 'points': {'enabled': False}, 'custom_items': {'enabled': False}, 'zoom': {'enabled': False}, 'milestones': {'enabled': False}, 'status_pies': {'enabled': False}, 'time_tracking': {'default_to_billable': 2}, 'scheduler_enabled': False}, 'archived': False}, {'id': '90130502870', 'name': 'Projetos pausados', 'color': '#595d66', 'private': True, 'avatar': None, 'admin_can_manage': True, 'statuses': [{'id': 'p90130502870_p54804921_1gR1N0KG', 'status': 'backlog', 'type': 'open', 'orderindex': 0, 'color': '#9c09bc'}, {'id': 'p90130502870_p54804921_95z15BZN', 'status': 'todo', 'type': 'custom', 'orderindex': 1, 'color': '#4466ff'}, {'id': 'p90130502870_p54804921_KslxIFrF', 'status': 'doing', 'type': 'custom', 'orderindex': 2, 'color': '#e16b16'}, {'id': 'p90130502870_p54804921_oYhO88Lm', 'status': 'testing', 'type': 'custom', 'orderindex': 3, 'color': '#d33d44'}, {'id': 'p90130502870_p54804921_sZXRFa49', 'status': 'brainstorming', 'type': 'custom', 'orderindex': 4, 'color': '#1090e0'}, {'id': 'p90130502870_p54804921_yUsGlLJS', 'status': 'done', 'type': 'closed', 'orderindex': 5, 'color': '#008844'}], 'multiple_assignees': True, 'features': {'due_dates': {'enabled': True, 'start_date': True, 'remap_due_dates': True, 'remap_closed_due_date': False}, 'sprints': {'enabled': False}, 'time_tracking': {'enabled': True, 'harvest': False, 'rollup': False, 'default_to_billable': 2}, 'points': {'enabled': False}, 'custom_items': {'enabled': False}, 'priorities': {'enabled': True, 'priorities': [{'color': '#f50000', 'id': '1', 'orderindex': '1', 'priority': 'urgent'}, {'color': '#f8ae00', 'id': '2', 'orderindex': '2', 'priority': 'high'}, {'color': '#6fddff', 'id': '3', 'orderindex': '3', 'priority': 'normal'}, {'color': '#d8d8d8', 'id': '4', 'orderindex': '4', 'priority': 'low'}]}, 'tags': {'enabled': True}, 'time_estimates': {'enabled': True, 'rollup': False, 'per_assignee': False}, 'zoom': {'enabled': True}, 'milestones': {'enabled': True}, 'custom_fields': {'enabled': True}, 'dependency_warning': {'enabled': True}, 'status_pies': {'enabled': False}, 'multiple_assignees': {'enabled': True}, 'scheduler_enabled': False}, 'archived': False, 'members': [{'user': {'id': 18951490, 'username': 'Gabriel Alberton', 'color': '#7b68ee', 'profilePicture': 'https://attachments.clickup.com/profilePictures/18951490_W33.jpg', 'initials': 'GA'}}, {'user': {'id': 48772077, 'username': 'Hélio Potelicki', 'color': '#2ea52c', 'profilePicture': 'https://attachments.clickup.com/profilePictures/48772077_rvb.jpg', 'initials': 'HP'}}, {'user': {'id': 84141406, 'username': 'Ana Beatriz', 'color': '#455963', 'profilePicture': 'https://attachments.clickup.com/profilePictures/84141406_ZkZ.jpg', 'initials': 'AB'}}]}, {'id': '90130940333', 'name': 'Conteudos', 'color': '#c580e6', 'private': True, 'avatar': None, 'admin_can_manage': False, 'statuses': [{'id': 'p90130940333_nhbZ5gz3', 'status': 'backlog', 'type': 'open', 'orderindex': 0, 'color': '#87909e'}, {'id': 'p90130940333_dX7hgCzZ', 'status': 'planning', 'type': 'custom', 'orderindex': 1, 'color': '#5f55ee'}, {'id': 'p90130940333_QQcJg1TJ', 'status': 'in progress', 'type': 'custom', 'orderindex': 2, 'color': '#f8ae00'}, {'id': 'p90130940333_CoruDecn', 'status': 'ready for review', 'type': 'custom', 'orderindex': 3, 'color': '#b660e0'}, {'id': 'p90130940333_mJniaApM', 'status': 'approved', 'type': 'done', 'orderindex': 4, 'color': '#0f9d9f'}, {'id': 'p90130940333_xQ94E057', 'status': 'rejected', 'type': 'done', 'orderindex': 5, 'color': '#d33d44'}, {'id': 'p90130940333_9uuaYZyK', 'status': 'on hold', 'type': 'done', 'orderindex': 6, 'color': '#aa8d80'}, {'id': 'p90130940333_yAQDhWjq', 'status': 'done', 'type': 'closed', 'orderindex': 7, 'color': '#008844'}], 'multiple_assignees': True, 'features': {'due_dates': {'enabled': True, 'start_date': True, 'remap_due_dates': True, 'remap_closed_due_date': False}, 'sprints': {'enabled': True}, 'time_tracking': {'enabled': True, 'harvest': False, 'rollup': True, 'default_to_billable': 2}, 'points': {'enabled': False}, 'custom_items': {'enabled': False}, 'priorities': {'enabled': True, 'priorities': [{'color': '#f50000', 'id': '1', 'orderindex': '1', 'priority': 'urgent'}, {'color': '#f8ae00', 'id': '2', 'orderindex': '2', 'priority': 'high'}, {'color': '#6fddff', 'id': '3', 'orderindex': '3', 'priority': 'normal'}, {'color': '#d8d8d8', 'id': '4', 'orderindex': '4', 'priority': 'low'}]}, 'tags': {'enabled': True}, 'time_estimates': {'enabled': True, 'rollup': True, 'per_assignee': False}, 'check_unresolved': {'enabled': True, 'subtasks': None, 'checklists': None, 'comments': None}, 'zoom': {'enabled': False}, 'milestones': {'enabled': True}, 'custom_fields': {'enabled': True}, 'remap_dependencies': {'enabled': True}, 'dependency_warning': {'enabled': True}, 'status_pies': {'enabled': True}, 'multiple_assignees': {'enabled': True}, 'emails': {'enabled': True}, 'scheduler_enabled': False}, 'archived': False, 'members': [{'user': {'id': 3115657, 'username': 'Filipe Werlang', 'color': '#622aea', 'profilePicture': 'https://attachments.clickup.com/profilePictures/3115657_GPh.jpg', 'initials': 'FW'}}, {'user': {'id': 18951490, 'username': 'Gabriel Alberton', 'color': '#7b68ee', 'profilePicture': 'https://attachments.clickup.com/profilePictures/18951490_W33.jpg', 'initials': 'GA'}}, {'user': {'id': 44309342, 'username': 'Hibrael Loures', 'color': None, 'profilePicture': 'https://attachments.clickup.com/profilePictures/44309342_YHC.jpg', 'initials': 'HL'}}, {'user': {'id': 84141406, 'username': 'Ana Beatriz', 'color': '#455963', 'profilePicture': 'https://attachments.clickup.com/profilePictures/84141406_ZkZ.jpg', 'initials': 'AB'}}]}]}\u001b[0m\u001b[32;1m\u001b[1;3mOs espaços disponíveis no workspace são:\n",
      "\n",
      "1. **Projetos**\n",
      "   - ID: 54804921\n",
      "   - Cor: #1ABC9C\n",
      "   - Privado: Não\n",
      "   - Múltiplos Responsáveis: Sim\n",
      "   - Recursos Ativados:\n",
      "     - Datas de Vencimento\n",
      "     - Rastreamento de Tempo\n",
      "     - Prioridades\n",
      "     - Tags\n",
      "     - Estimativas de Tempo\n",
      "     - Marcos\n",
      "     - Campos Personalizados\n",
      "     - Aviso de Dependência\n",
      "   - Status:\n",
      "     - backlog\n",
      "     - todo\n",
      "     - doing\n",
      "     - testing\n",
      "     - brainstorming\n",
      "     - done\n",
      "\n",
      "2. **Onboard e infos**\n",
      "   - ID: 54964971\n",
      "   - Cor: Nenhuma\n",
      "   - Privado: Não\n",
      "   - Múltiplos Responsáveis: Não\n",
      "   - Recursos Ativados:\n",
      "     - Datas de Vencimento\n",
      "   - Status:\n",
      "     - to do\n",
      "     - complete\n",
      "\n",
      "3. **Projetos pausados**\n",
      "   - ID: 90130502870\n",
      "   - Cor: #595d66\n",
      "   - Privado: Sim\n",
      "   - Múltiplos Responsáveis: Sim\n",
      "   - Recursos Ativados:\n",
      "     - Datas de Vencimento\n",
      "     - Rastreamento de Tempo\n",
      "     - Prioridades\n",
      "     - Tags\n",
      "     - Estimativas de Tempo\n",
      "     - Zoom\n",
      "     - Marcos\n",
      "     - Campos Personalizados\n",
      "     - Aviso de Dependência\n",
      "   - Status:\n",
      "     - backlog\n",
      "     - todo\n",
      "     - doing\n",
      "     - testing\n",
      "     - brainstorming\n",
      "     - done\n",
      "   - Membros:\n",
      "     - Gabriel Alberton\n",
      "     - Hélio Potelicki\n",
      "     - Ana Beatriz\n",
      "\n",
      "4. **Conteudos**\n",
      "   - ID: 90130940333\n",
      "   - Cor: #c580e6\n",
      "   - Privado: Sim\n",
      "   - Múltiplos Responsáveis: Sim\n",
      "   - Recursos Ativados:\n",
      "     - Datas de Vencimento\n",
      "     - Sprints\n",
      "     - Rastreamento de Tempo\n",
      "     - Prioridades\n",
      "     - Tags\n",
      "     - Estimativas de Tempo\n",
      "     - Marcos\n",
      "     - Campos Personalizados\n",
      "     - Aviso de Dependência\n",
      "     - Status Pies\n",
      "     - Emails\n",
      "   - Status:\n",
      "     - backlog\n",
      "     - planning\n",
      "     - in progress\n",
      "     - ready for review\n",
      "     - approved\n",
      "     - rejected\n",
      "     - on hold\n",
      "     - done\n",
      "   - Membros:\n",
      "     - Filipe Werlang\n",
      "     - Gabriel Alberton\n",
      "     - Hibrael Loures\n",
      "     - Ana Beatriz\u001b[0m\n",
      "\n",
      "\u001b[1m> Finished chain.\u001b[0m\n"
     ]
    },
    {
     "data": {
      "text/plain": [
       "{'input': 'Quais são os espaços disponíveis?',\n",
       " 'output': 'Os espaços disponíveis no workspace são:\\n\\n1. **Projetos**\\n   - ID: 54804921\\n   - Cor: #1ABC9C\\n   - Privado: Não\\n   - Múltiplos Responsáveis: Sim\\n   - Recursos Ativados:\\n     - Datas de Vencimento\\n     - Rastreamento de Tempo\\n     - Prioridades\\n     - Tags\\n     - Estimativas de Tempo\\n     - Marcos\\n     - Campos Personalizados\\n     - Aviso de Dependência\\n   - Status:\\n     - backlog\\n     - todo\\n     - doing\\n     - testing\\n     - brainstorming\\n     - done\\n\\n2. **Onboard e infos**\\n   - ID: 54964971\\n   - Cor: Nenhuma\\n   - Privado: Não\\n   - Múltiplos Responsáveis: Não\\n   - Recursos Ativados:\\n     - Datas de Vencimento\\n   - Status:\\n     - to do\\n     - complete\\n\\n3. **Projetos pausados**\\n   - ID: 90130502870\\n   - Cor: #595d66\\n   - Privado: Sim\\n   - Múltiplos Responsáveis: Sim\\n   - Recursos Ativados:\\n     - Datas de Vencimento\\n     - Rastreamento de Tempo\\n     - Prioridades\\n     - Tags\\n     - Estimativas de Tempo\\n     - Zoom\\n     - Marcos\\n     - Campos Personalizados\\n     - Aviso de Dependência\\n   - Status:\\n     - backlog\\n     - todo\\n     - doing\\n     - testing\\n     - brainstorming\\n     - done\\n   - Membros:\\n     - Gabriel Alberton\\n     - Hélio Potelicki\\n     - Ana Beatriz\\n\\n4. **Conteudos**\\n   - ID: 90130940333\\n   - Cor: #c580e6\\n   - Privado: Sim\\n   - Múltiplos Responsáveis: Sim\\n   - Recursos Ativados:\\n     - Datas de Vencimento\\n     - Sprints\\n     - Rastreamento de Tempo\\n     - Prioridades\\n     - Tags\\n     - Estimativas de Tempo\\n     - Marcos\\n     - Campos Personalizados\\n     - Aviso de Dependência\\n     - Status Pies\\n     - Emails\\n   - Status:\\n     - backlog\\n     - planning\\n     - in progress\\n     - ready for review\\n     - approved\\n     - rejected\\n     - on hold\\n     - done\\n   - Membros:\\n     - Filipe Werlang\\n     - Gabriel Alberton\\n     - Hibrael Loures\\n     - Ana Beatriz'}"
      ]
     },
     "execution_count": 41,
     "metadata": {},
     "output_type": "execute_result"
    }
   ],
   "source": [
    "agent_executor.invoke(\n",
    "    {\n",
    "        \"input\": \"Quais são os espaços disponíveis?\"\n",
    "    }\n",
    ")"
   ]
  },
  {
   "cell_type": "markdown",
   "metadata": {},
   "source": [
    "## Teste 13 - Get Filtered Team Tasks"
   ]
  },
  {
   "cell_type": "code",
   "execution_count": null,
   "metadata": {},
   "outputs": [
    {
     "name": "stdout",
     "output_type": "stream",
     "text": [
      "\n",
      "\n",
      "\u001b[1m> Entering new AgentExecutor chain...\u001b[0m\n",
      "\u001b[32;1m\u001b[1;3m\n",
      "Invoking: `get_tasks_tool` with `{'list_id': 901304909413, 'assignees': ['82061927']}`\n",
      "\n",
      "\n",
      "\u001b[0mResponse Body: {'err': 'Assignees must be an array', 'ECODE': 'OAUTH_043'}\n",
      "\u001b[36;1m\u001b[1;3mdata={'err': 'Assignees must be an array', 'ECODE': 'OAUTH_043'}\u001b[0m\u001b[32;1m\u001b[1;3m\n",
      "Invoking: `get_tasks_tool` with `{'list_id': 901304909413, 'assignees': [82061927]}`\n",
      "\n",
      "\n",
      "\u001b[0m"
     ]
    },
    {
     "ename": "ValidationError",
     "evalue": "1 validation error for GetTasksRequest\nassignees.0\n  Input should be a valid string [type=string_type, input_value=82061927, input_type=int]\n    For further information visit https://errors.pydantic.dev/2.8/v/string_type",
     "output_type": "error",
     "traceback": [
      "\u001b[0;31m---------------------------------------------------------------------------\u001b[0m",
      "\u001b[0;31mValidationError\u001b[0m                           Traceback (most recent call last)",
      "Cell \u001b[0;32mIn[42], line 1\u001b[0m\n\u001b[0;32m----> 1\u001b[0m \u001b[43magent_executor\u001b[49m\u001b[38;5;241;43m.\u001b[39;49m\u001b[43minvoke\u001b[49m\u001b[43m(\u001b[49m\n\u001b[1;32m      2\u001b[0m \u001b[43m    \u001b[49m\u001b[43m{\u001b[49m\n\u001b[1;32m      3\u001b[0m \u001b[43m        \u001b[49m\u001b[38;5;124;43m\"\u001b[39;49m\u001b[38;5;124;43minput\u001b[39;49m\u001b[38;5;124;43m\"\u001b[39;49m\u001b[43m:\u001b[49m\u001b[43m \u001b[49m\u001b[38;5;124;43m\"\u001b[39;49m\u001b[38;5;124;43mQuais são as tarefas em que o usuário 82061927 é responsável?\u001b[39;49m\u001b[38;5;124;43m\"\u001b[39;49m\n\u001b[1;32m      4\u001b[0m \u001b[43m    \u001b[49m\u001b[43m}\u001b[49m\n\u001b[1;32m      5\u001b[0m \u001b[43m)\u001b[49m\n",
      "File \u001b[0;32m~/anaconda3/envs/secretary/lib/python3.11/site-packages/langchain/chains/base.py:164\u001b[0m, in \u001b[0;36mChain.invoke\u001b[0;34m(self, input, config, **kwargs)\u001b[0m\n\u001b[1;32m    162\u001b[0m \u001b[38;5;28;01mexcept\u001b[39;00m \u001b[38;5;167;01mBaseException\u001b[39;00m \u001b[38;5;28;01mas\u001b[39;00m e:\n\u001b[1;32m    163\u001b[0m     run_manager\u001b[38;5;241m.\u001b[39mon_chain_error(e)\n\u001b[0;32m--> 164\u001b[0m     \u001b[38;5;28;01mraise\u001b[39;00m e\n\u001b[1;32m    165\u001b[0m run_manager\u001b[38;5;241m.\u001b[39mon_chain_end(outputs)\n\u001b[1;32m    167\u001b[0m \u001b[38;5;28;01mif\u001b[39;00m include_run_info:\n",
      "File \u001b[0;32m~/anaconda3/envs/secretary/lib/python3.11/site-packages/langchain/chains/base.py:154\u001b[0m, in \u001b[0;36mChain.invoke\u001b[0;34m(self, input, config, **kwargs)\u001b[0m\n\u001b[1;32m    151\u001b[0m \u001b[38;5;28;01mtry\u001b[39;00m:\n\u001b[1;32m    152\u001b[0m     \u001b[38;5;28mself\u001b[39m\u001b[38;5;241m.\u001b[39m_validate_inputs(inputs)\n\u001b[1;32m    153\u001b[0m     outputs \u001b[38;5;241m=\u001b[39m (\n\u001b[0;32m--> 154\u001b[0m         \u001b[38;5;28;43mself\u001b[39;49m\u001b[38;5;241;43m.\u001b[39;49m\u001b[43m_call\u001b[49m\u001b[43m(\u001b[49m\u001b[43minputs\u001b[49m\u001b[43m,\u001b[49m\u001b[43m \u001b[49m\u001b[43mrun_manager\u001b[49m\u001b[38;5;241;43m=\u001b[39;49m\u001b[43mrun_manager\u001b[49m\u001b[43m)\u001b[49m\n\u001b[1;32m    155\u001b[0m         \u001b[38;5;28;01mif\u001b[39;00m new_arg_supported\n\u001b[1;32m    156\u001b[0m         \u001b[38;5;28;01melse\u001b[39;00m \u001b[38;5;28mself\u001b[39m\u001b[38;5;241m.\u001b[39m_call(inputs)\n\u001b[1;32m    157\u001b[0m     )\n\u001b[1;32m    159\u001b[0m     final_outputs: Dict[\u001b[38;5;28mstr\u001b[39m, Any] \u001b[38;5;241m=\u001b[39m \u001b[38;5;28mself\u001b[39m\u001b[38;5;241m.\u001b[39mprep_outputs(\n\u001b[1;32m    160\u001b[0m         inputs, outputs, return_only_outputs\n\u001b[1;32m    161\u001b[0m     )\n\u001b[1;32m    162\u001b[0m \u001b[38;5;28;01mexcept\u001b[39;00m \u001b[38;5;167;01mBaseException\u001b[39;00m \u001b[38;5;28;01mas\u001b[39;00m e:\n",
      "File \u001b[0;32m~/anaconda3/envs/secretary/lib/python3.11/site-packages/langchain/agents/agent.py:1625\u001b[0m, in \u001b[0;36mAgentExecutor._call\u001b[0;34m(self, inputs, run_manager)\u001b[0m\n\u001b[1;32m   1623\u001b[0m \u001b[38;5;66;03m# We now enter the agent loop (until it returns something).\u001b[39;00m\n\u001b[1;32m   1624\u001b[0m \u001b[38;5;28;01mwhile\u001b[39;00m \u001b[38;5;28mself\u001b[39m\u001b[38;5;241m.\u001b[39m_should_continue(iterations, time_elapsed):\n\u001b[0;32m-> 1625\u001b[0m     next_step_output \u001b[38;5;241m=\u001b[39m \u001b[38;5;28;43mself\u001b[39;49m\u001b[38;5;241;43m.\u001b[39;49m\u001b[43m_take_next_step\u001b[49m\u001b[43m(\u001b[49m\n\u001b[1;32m   1626\u001b[0m \u001b[43m        \u001b[49m\u001b[43mname_to_tool_map\u001b[49m\u001b[43m,\u001b[49m\n\u001b[1;32m   1627\u001b[0m \u001b[43m        \u001b[49m\u001b[43mcolor_mapping\u001b[49m\u001b[43m,\u001b[49m\n\u001b[1;32m   1628\u001b[0m \u001b[43m        \u001b[49m\u001b[43minputs\u001b[49m\u001b[43m,\u001b[49m\n\u001b[1;32m   1629\u001b[0m \u001b[43m        \u001b[49m\u001b[43mintermediate_steps\u001b[49m\u001b[43m,\u001b[49m\n\u001b[1;32m   1630\u001b[0m \u001b[43m        \u001b[49m\u001b[43mrun_manager\u001b[49m\u001b[38;5;241;43m=\u001b[39;49m\u001b[43mrun_manager\u001b[49m\u001b[43m,\u001b[49m\n\u001b[1;32m   1631\u001b[0m \u001b[43m    \u001b[49m\u001b[43m)\u001b[49m\n\u001b[1;32m   1632\u001b[0m     \u001b[38;5;28;01mif\u001b[39;00m \u001b[38;5;28misinstance\u001b[39m(next_step_output, AgentFinish):\n\u001b[1;32m   1633\u001b[0m         \u001b[38;5;28;01mreturn\u001b[39;00m \u001b[38;5;28mself\u001b[39m\u001b[38;5;241m.\u001b[39m_return(\n\u001b[1;32m   1634\u001b[0m             next_step_output, intermediate_steps, run_manager\u001b[38;5;241m=\u001b[39mrun_manager\n\u001b[1;32m   1635\u001b[0m         )\n",
      "File \u001b[0;32m~/anaconda3/envs/secretary/lib/python3.11/site-packages/langchain/agents/agent.py:1331\u001b[0m, in \u001b[0;36mAgentExecutor._take_next_step\u001b[0;34m(self, name_to_tool_map, color_mapping, inputs, intermediate_steps, run_manager)\u001b[0m\n\u001b[1;32m   1322\u001b[0m \u001b[38;5;28;01mdef\u001b[39;00m \u001b[38;5;21m_take_next_step\u001b[39m(\n\u001b[1;32m   1323\u001b[0m     \u001b[38;5;28mself\u001b[39m,\n\u001b[1;32m   1324\u001b[0m     name_to_tool_map: Dict[\u001b[38;5;28mstr\u001b[39m, BaseTool],\n\u001b[0;32m   (...)\u001b[0m\n\u001b[1;32m   1328\u001b[0m     run_manager: Optional[CallbackManagerForChainRun] \u001b[38;5;241m=\u001b[39m \u001b[38;5;28;01mNone\u001b[39;00m,\n\u001b[1;32m   1329\u001b[0m ) \u001b[38;5;241m-\u001b[39m\u001b[38;5;241m>\u001b[39m Union[AgentFinish, List[Tuple[AgentAction, \u001b[38;5;28mstr\u001b[39m]]]:\n\u001b[1;32m   1330\u001b[0m     \u001b[38;5;28;01mreturn\u001b[39;00m \u001b[38;5;28mself\u001b[39m\u001b[38;5;241m.\u001b[39m_consume_next_step(\n\u001b[0;32m-> 1331\u001b[0m         \u001b[43m[\u001b[49m\n\u001b[1;32m   1332\u001b[0m \u001b[43m            \u001b[49m\u001b[43ma\u001b[49m\n\u001b[1;32m   1333\u001b[0m \u001b[43m            \u001b[49m\u001b[38;5;28;43;01mfor\u001b[39;49;00m\u001b[43m \u001b[49m\u001b[43ma\u001b[49m\u001b[43m \u001b[49m\u001b[38;5;129;43;01min\u001b[39;49;00m\u001b[43m \u001b[49m\u001b[38;5;28;43mself\u001b[39;49m\u001b[38;5;241;43m.\u001b[39;49m\u001b[43m_iter_next_step\u001b[49m\u001b[43m(\u001b[49m\n\u001b[1;32m   1334\u001b[0m \u001b[43m                \u001b[49m\u001b[43mname_to_tool_map\u001b[49m\u001b[43m,\u001b[49m\n\u001b[1;32m   1335\u001b[0m \u001b[43m                \u001b[49m\u001b[43mcolor_mapping\u001b[49m\u001b[43m,\u001b[49m\n\u001b[1;32m   1336\u001b[0m \u001b[43m                \u001b[49m\u001b[43minputs\u001b[49m\u001b[43m,\u001b[49m\n\u001b[1;32m   1337\u001b[0m \u001b[43m                \u001b[49m\u001b[43mintermediate_steps\u001b[49m\u001b[43m,\u001b[49m\n\u001b[1;32m   1338\u001b[0m \u001b[43m                \u001b[49m\u001b[43mrun_manager\u001b[49m\u001b[43m,\u001b[49m\n\u001b[1;32m   1339\u001b[0m \u001b[43m            \u001b[49m\u001b[43m)\u001b[49m\n\u001b[1;32m   1340\u001b[0m \u001b[43m        \u001b[49m\u001b[43m]\u001b[49m\n\u001b[1;32m   1341\u001b[0m     )\n",
      "File \u001b[0;32m~/anaconda3/envs/secretary/lib/python3.11/site-packages/langchain/agents/agent.py:1331\u001b[0m, in \u001b[0;36m<listcomp>\u001b[0;34m(.0)\u001b[0m\n\u001b[1;32m   1322\u001b[0m \u001b[38;5;28;01mdef\u001b[39;00m \u001b[38;5;21m_take_next_step\u001b[39m(\n\u001b[1;32m   1323\u001b[0m     \u001b[38;5;28mself\u001b[39m,\n\u001b[1;32m   1324\u001b[0m     name_to_tool_map: Dict[\u001b[38;5;28mstr\u001b[39m, BaseTool],\n\u001b[0;32m   (...)\u001b[0m\n\u001b[1;32m   1328\u001b[0m     run_manager: Optional[CallbackManagerForChainRun] \u001b[38;5;241m=\u001b[39m \u001b[38;5;28;01mNone\u001b[39;00m,\n\u001b[1;32m   1329\u001b[0m ) \u001b[38;5;241m-\u001b[39m\u001b[38;5;241m>\u001b[39m Union[AgentFinish, List[Tuple[AgentAction, \u001b[38;5;28mstr\u001b[39m]]]:\n\u001b[1;32m   1330\u001b[0m     \u001b[38;5;28;01mreturn\u001b[39;00m \u001b[38;5;28mself\u001b[39m\u001b[38;5;241m.\u001b[39m_consume_next_step(\n\u001b[0;32m-> 1331\u001b[0m         \u001b[43m[\u001b[49m\n\u001b[1;32m   1332\u001b[0m \u001b[43m            \u001b[49m\u001b[43ma\u001b[49m\n\u001b[1;32m   1333\u001b[0m \u001b[43m            \u001b[49m\u001b[38;5;28;43;01mfor\u001b[39;49;00m\u001b[43m \u001b[49m\u001b[43ma\u001b[49m\u001b[43m \u001b[49m\u001b[38;5;129;43;01min\u001b[39;49;00m\u001b[43m \u001b[49m\u001b[38;5;28;43mself\u001b[39;49m\u001b[38;5;241;43m.\u001b[39;49m\u001b[43m_iter_next_step\u001b[49m\u001b[43m(\u001b[49m\n\u001b[1;32m   1334\u001b[0m \u001b[43m                \u001b[49m\u001b[43mname_to_tool_map\u001b[49m\u001b[43m,\u001b[49m\n\u001b[1;32m   1335\u001b[0m \u001b[43m                \u001b[49m\u001b[43mcolor_mapping\u001b[49m\u001b[43m,\u001b[49m\n\u001b[1;32m   1336\u001b[0m \u001b[43m                \u001b[49m\u001b[43minputs\u001b[49m\u001b[43m,\u001b[49m\n\u001b[1;32m   1337\u001b[0m \u001b[43m                \u001b[49m\u001b[43mintermediate_steps\u001b[49m\u001b[43m,\u001b[49m\n\u001b[1;32m   1338\u001b[0m \u001b[43m                \u001b[49m\u001b[43mrun_manager\u001b[49m\u001b[43m,\u001b[49m\n\u001b[1;32m   1339\u001b[0m \u001b[43m            \u001b[49m\u001b[43m)\u001b[49m\n\u001b[1;32m   1340\u001b[0m \u001b[43m        \u001b[49m\u001b[43m]\u001b[49m\n\u001b[1;32m   1341\u001b[0m     )\n",
      "File \u001b[0;32m~/anaconda3/envs/secretary/lib/python3.11/site-packages/langchain/agents/agent.py:1416\u001b[0m, in \u001b[0;36mAgentExecutor._iter_next_step\u001b[0;34m(self, name_to_tool_map, color_mapping, inputs, intermediate_steps, run_manager)\u001b[0m\n\u001b[1;32m   1414\u001b[0m     \u001b[38;5;28;01myield\u001b[39;00m agent_action\n\u001b[1;32m   1415\u001b[0m \u001b[38;5;28;01mfor\u001b[39;00m agent_action \u001b[38;5;129;01min\u001b[39;00m actions:\n\u001b[0;32m-> 1416\u001b[0m     \u001b[38;5;28;01myield\u001b[39;00m \u001b[38;5;28;43mself\u001b[39;49m\u001b[38;5;241;43m.\u001b[39;49m\u001b[43m_perform_agent_action\u001b[49m\u001b[43m(\u001b[49m\n\u001b[1;32m   1417\u001b[0m \u001b[43m        \u001b[49m\u001b[43mname_to_tool_map\u001b[49m\u001b[43m,\u001b[49m\u001b[43m \u001b[49m\u001b[43mcolor_mapping\u001b[49m\u001b[43m,\u001b[49m\u001b[43m \u001b[49m\u001b[43magent_action\u001b[49m\u001b[43m,\u001b[49m\u001b[43m \u001b[49m\u001b[43mrun_manager\u001b[49m\n\u001b[1;32m   1418\u001b[0m \u001b[43m    \u001b[49m\u001b[43m)\u001b[49m\n",
      "File \u001b[0;32m~/anaconda3/envs/secretary/lib/python3.11/site-packages/langchain/agents/agent.py:1438\u001b[0m, in \u001b[0;36mAgentExecutor._perform_agent_action\u001b[0;34m(self, name_to_tool_map, color_mapping, agent_action, run_manager)\u001b[0m\n\u001b[1;32m   1436\u001b[0m         tool_run_kwargs[\u001b[38;5;124m\"\u001b[39m\u001b[38;5;124mllm_prefix\u001b[39m\u001b[38;5;124m\"\u001b[39m] \u001b[38;5;241m=\u001b[39m \u001b[38;5;124m\"\u001b[39m\u001b[38;5;124m\"\u001b[39m\n\u001b[1;32m   1437\u001b[0m     \u001b[38;5;66;03m# We then call the tool on the tool input to get an observation\u001b[39;00m\n\u001b[0;32m-> 1438\u001b[0m     observation \u001b[38;5;241m=\u001b[39m \u001b[43mtool\u001b[49m\u001b[38;5;241;43m.\u001b[39;49m\u001b[43mrun\u001b[49m\u001b[43m(\u001b[49m\n\u001b[1;32m   1439\u001b[0m \u001b[43m        \u001b[49m\u001b[43magent_action\u001b[49m\u001b[38;5;241;43m.\u001b[39;49m\u001b[43mtool_input\u001b[49m\u001b[43m,\u001b[49m\n\u001b[1;32m   1440\u001b[0m \u001b[43m        \u001b[49m\u001b[43mverbose\u001b[49m\u001b[38;5;241;43m=\u001b[39;49m\u001b[38;5;28;43mself\u001b[39;49m\u001b[38;5;241;43m.\u001b[39;49m\u001b[43mverbose\u001b[49m\u001b[43m,\u001b[49m\n\u001b[1;32m   1441\u001b[0m \u001b[43m        \u001b[49m\u001b[43mcolor\u001b[49m\u001b[38;5;241;43m=\u001b[39;49m\u001b[43mcolor\u001b[49m\u001b[43m,\u001b[49m\n\u001b[1;32m   1442\u001b[0m \u001b[43m        \u001b[49m\u001b[43mcallbacks\u001b[49m\u001b[38;5;241;43m=\u001b[39;49m\u001b[43mrun_manager\u001b[49m\u001b[38;5;241;43m.\u001b[39;49m\u001b[43mget_child\u001b[49m\u001b[43m(\u001b[49m\u001b[43m)\u001b[49m\u001b[43m \u001b[49m\u001b[38;5;28;43;01mif\u001b[39;49;00m\u001b[43m \u001b[49m\u001b[43mrun_manager\u001b[49m\u001b[43m \u001b[49m\u001b[38;5;28;43;01melse\u001b[39;49;00m\u001b[43m \u001b[49m\u001b[38;5;28;43;01mNone\u001b[39;49;00m\u001b[43m,\u001b[49m\n\u001b[1;32m   1443\u001b[0m \u001b[43m        \u001b[49m\u001b[38;5;241;43m*\u001b[39;49m\u001b[38;5;241;43m*\u001b[39;49m\u001b[43mtool_run_kwargs\u001b[49m\u001b[43m,\u001b[49m\n\u001b[1;32m   1444\u001b[0m \u001b[43m    \u001b[49m\u001b[43m)\u001b[49m\n\u001b[1;32m   1445\u001b[0m \u001b[38;5;28;01melse\u001b[39;00m:\n\u001b[1;32m   1446\u001b[0m     tool_run_kwargs \u001b[38;5;241m=\u001b[39m \u001b[38;5;28mself\u001b[39m\u001b[38;5;241m.\u001b[39m_action_agent\u001b[38;5;241m.\u001b[39mtool_run_logging_kwargs()\n",
      "File \u001b[0;32m~/anaconda3/envs/secretary/lib/python3.11/site-packages/langchain_core/tools/base.py:586\u001b[0m, in \u001b[0;36mBaseTool.run\u001b[0;34m(self, tool_input, verbose, start_color, color, callbacks, tags, metadata, run_name, run_id, config, tool_call_id, **kwargs)\u001b[0m\n\u001b[1;32m    584\u001b[0m \u001b[38;5;28;01mif\u001b[39;00m error_to_raise:\n\u001b[1;32m    585\u001b[0m     run_manager\u001b[38;5;241m.\u001b[39mon_tool_error(error_to_raise)\n\u001b[0;32m--> 586\u001b[0m     \u001b[38;5;28;01mraise\u001b[39;00m error_to_raise\n\u001b[1;32m    587\u001b[0m output \u001b[38;5;241m=\u001b[39m _format_output(content, artifact, tool_call_id, \u001b[38;5;28mself\u001b[39m\u001b[38;5;241m.\u001b[39mname, status)\n\u001b[1;32m    588\u001b[0m run_manager\u001b[38;5;241m.\u001b[39mon_tool_end(output, color\u001b[38;5;241m=\u001b[39mcolor, name\u001b[38;5;241m=\u001b[39m\u001b[38;5;28mself\u001b[39m\u001b[38;5;241m.\u001b[39mname, \u001b[38;5;241m*\u001b[39m\u001b[38;5;241m*\u001b[39mkwargs)\n",
      "File \u001b[0;32m~/anaconda3/envs/secretary/lib/python3.11/site-packages/langchain_core/tools/base.py:549\u001b[0m, in \u001b[0;36mBaseTool.run\u001b[0;34m(self, tool_input, verbose, start_color, color, callbacks, tags, metadata, run_name, run_id, config, tool_call_id, **kwargs)\u001b[0m\n\u001b[1;32m    547\u001b[0m context \u001b[38;5;241m=\u001b[39m copy_context()\n\u001b[1;32m    548\u001b[0m context\u001b[38;5;241m.\u001b[39mrun(_set_config_context, child_config)\n\u001b[0;32m--> 549\u001b[0m tool_args, tool_kwargs \u001b[38;5;241m=\u001b[39m \u001b[38;5;28;43mself\u001b[39;49m\u001b[38;5;241;43m.\u001b[39;49m\u001b[43m_to_args_and_kwargs\u001b[49m\u001b[43m(\u001b[49m\u001b[43mtool_input\u001b[49m\u001b[43m)\u001b[49m\n\u001b[1;32m    550\u001b[0m \u001b[38;5;28;01mif\u001b[39;00m signature(\u001b[38;5;28mself\u001b[39m\u001b[38;5;241m.\u001b[39m_run)\u001b[38;5;241m.\u001b[39mparameters\u001b[38;5;241m.\u001b[39mget(\u001b[38;5;124m\"\u001b[39m\u001b[38;5;124mrun_manager\u001b[39m\u001b[38;5;124m\"\u001b[39m):\n\u001b[1;32m    551\u001b[0m     tool_kwargs[\u001b[38;5;124m\"\u001b[39m\u001b[38;5;124mrun_manager\u001b[39m\u001b[38;5;124m\"\u001b[39m] \u001b[38;5;241m=\u001b[39m run_manager\n",
      "File \u001b[0;32m~/anaconda3/envs/secretary/lib/python3.11/site-packages/langchain_core/tools/base.py:472\u001b[0m, in \u001b[0;36mBaseTool._to_args_and_kwargs\u001b[0;34m(self, tool_input)\u001b[0m\n\u001b[1;32m    471\u001b[0m \u001b[38;5;28;01mdef\u001b[39;00m \u001b[38;5;21m_to_args_and_kwargs\u001b[39m(\u001b[38;5;28mself\u001b[39m, tool_input: Union[\u001b[38;5;28mstr\u001b[39m, Dict]) \u001b[38;5;241m-\u001b[39m\u001b[38;5;241m>\u001b[39m Tuple[Tuple, Dict]:\n\u001b[0;32m--> 472\u001b[0m     tool_input \u001b[38;5;241m=\u001b[39m \u001b[38;5;28;43mself\u001b[39;49m\u001b[38;5;241;43m.\u001b[39;49m\u001b[43m_parse_input\u001b[49m\u001b[43m(\u001b[49m\u001b[43mtool_input\u001b[49m\u001b[43m)\u001b[49m\n\u001b[1;32m    473\u001b[0m     \u001b[38;5;66;03m# For backwards compatibility, if run_input is a string,\u001b[39;00m\n\u001b[1;32m    474\u001b[0m     \u001b[38;5;66;03m# pass as a positional argument.\u001b[39;00m\n\u001b[1;32m    475\u001b[0m     \u001b[38;5;28;01mif\u001b[39;00m \u001b[38;5;28misinstance\u001b[39m(tool_input, \u001b[38;5;28mstr\u001b[39m):\n",
      "File \u001b[0;32m~/anaconda3/envs/secretary/lib/python3.11/site-packages/langchain_core/tools/base.py:424\u001b[0m, in \u001b[0;36mBaseTool._parse_input\u001b[0;34m(self, tool_input)\u001b[0m\n\u001b[1;32m    422\u001b[0m \u001b[38;5;28;01melse\u001b[39;00m:\n\u001b[1;32m    423\u001b[0m     \u001b[38;5;28;01mif\u001b[39;00m input_args \u001b[38;5;129;01mis\u001b[39;00m \u001b[38;5;129;01mnot\u001b[39;00m \u001b[38;5;28;01mNone\u001b[39;00m:\n\u001b[0;32m--> 424\u001b[0m         result \u001b[38;5;241m=\u001b[39m \u001b[43minput_args\u001b[49m\u001b[38;5;241;43m.\u001b[39;49m\u001b[43mparse_obj\u001b[49m\u001b[43m(\u001b[49m\u001b[43mtool_input\u001b[49m\u001b[43m)\u001b[49m\n\u001b[1;32m    425\u001b[0m         \u001b[38;5;28;01mreturn\u001b[39;00m {\n\u001b[1;32m    426\u001b[0m             k: \u001b[38;5;28mgetattr\u001b[39m(result, k)\n\u001b[1;32m    427\u001b[0m             \u001b[38;5;28;01mfor\u001b[39;00m k, v \u001b[38;5;129;01min\u001b[39;00m result\u001b[38;5;241m.\u001b[39mdict()\u001b[38;5;241m.\u001b[39mitems()\n\u001b[1;32m    428\u001b[0m             \u001b[38;5;28;01mif\u001b[39;00m k \u001b[38;5;129;01min\u001b[39;00m tool_input\n\u001b[1;32m    429\u001b[0m         }\n\u001b[1;32m    430\u001b[0m     \u001b[38;5;28;01mreturn\u001b[39;00m tool_input\n",
      "File \u001b[0;32m~/anaconda3/envs/secretary/lib/python3.11/site-packages/pydantic/main.py:1135\u001b[0m, in \u001b[0;36mBaseModel.parse_obj\u001b[0;34m(cls, obj)\u001b[0m\n\u001b[1;32m   1129\u001b[0m \u001b[38;5;129m@classmethod\u001b[39m\n\u001b[1;32m   1130\u001b[0m \u001b[38;5;129m@typing_extensions\u001b[39m\u001b[38;5;241m.\u001b[39mdeprecated(\u001b[38;5;124m'\u001b[39m\u001b[38;5;124mThe `parse_obj` method is deprecated; use `model_validate` instead.\u001b[39m\u001b[38;5;124m'\u001b[39m, category\u001b[38;5;241m=\u001b[39m\u001b[38;5;28;01mNone\u001b[39;00m)\n\u001b[1;32m   1131\u001b[0m \u001b[38;5;28;01mdef\u001b[39;00m \u001b[38;5;21mparse_obj\u001b[39m(\u001b[38;5;28mcls\u001b[39m, obj: Any) \u001b[38;5;241m-\u001b[39m\u001b[38;5;241m>\u001b[39m Self:  \u001b[38;5;66;03m# noqa: D102\u001b[39;00m\n\u001b[1;32m   1132\u001b[0m     warnings\u001b[38;5;241m.\u001b[39mwarn(\n\u001b[1;32m   1133\u001b[0m         \u001b[38;5;124m'\u001b[39m\u001b[38;5;124mThe `parse_obj` method is deprecated; use `model_validate` instead.\u001b[39m\u001b[38;5;124m'\u001b[39m, category\u001b[38;5;241m=\u001b[39mPydanticDeprecatedSince20\n\u001b[1;32m   1134\u001b[0m     )\n\u001b[0;32m-> 1135\u001b[0m     \u001b[38;5;28;01mreturn\u001b[39;00m \u001b[38;5;28;43mcls\u001b[39;49m\u001b[38;5;241;43m.\u001b[39;49m\u001b[43mmodel_validate\u001b[49m\u001b[43m(\u001b[49m\u001b[43mobj\u001b[49m\u001b[43m)\u001b[49m\n",
      "File \u001b[0;32m~/anaconda3/envs/secretary/lib/python3.11/site-packages/pydantic/main.py:568\u001b[0m, in \u001b[0;36mBaseModel.model_validate\u001b[0;34m(cls, obj, strict, from_attributes, context)\u001b[0m\n\u001b[1;32m    566\u001b[0m \u001b[38;5;66;03m# `__tracebackhide__` tells pytest and some other tools to omit this function from tracebacks\u001b[39;00m\n\u001b[1;32m    567\u001b[0m __tracebackhide__ \u001b[38;5;241m=\u001b[39m \u001b[38;5;28;01mTrue\u001b[39;00m\n\u001b[0;32m--> 568\u001b[0m \u001b[38;5;28;01mreturn\u001b[39;00m \u001b[38;5;28;43mcls\u001b[39;49m\u001b[38;5;241;43m.\u001b[39;49m\u001b[43m__pydantic_validator__\u001b[49m\u001b[38;5;241;43m.\u001b[39;49m\u001b[43mvalidate_python\u001b[49m\u001b[43m(\u001b[49m\n\u001b[1;32m    569\u001b[0m \u001b[43m    \u001b[49m\u001b[43mobj\u001b[49m\u001b[43m,\u001b[49m\u001b[43m \u001b[49m\u001b[43mstrict\u001b[49m\u001b[38;5;241;43m=\u001b[39;49m\u001b[43mstrict\u001b[49m\u001b[43m,\u001b[49m\u001b[43m \u001b[49m\u001b[43mfrom_attributes\u001b[49m\u001b[38;5;241;43m=\u001b[39;49m\u001b[43mfrom_attributes\u001b[49m\u001b[43m,\u001b[49m\u001b[43m \u001b[49m\u001b[43mcontext\u001b[49m\u001b[38;5;241;43m=\u001b[39;49m\u001b[43mcontext\u001b[49m\n\u001b[1;32m    570\u001b[0m \u001b[43m\u001b[49m\u001b[43m)\u001b[49m\n",
      "\u001b[0;31mValidationError\u001b[0m: 1 validation error for GetTasksRequest\nassignees.0\n  Input should be a valid string [type=string_type, input_value=82061927, input_type=int]\n    For further information visit https://errors.pydantic.dev/2.8/v/string_type"
     ]
    }
   ],
   "source": [
    "agent_executor.invoke(\n",
    "    {\n",
    "        \"input\": \"Quais são as tarefas em que o usuário 82061927 é responsável?\"\n",
    "    }\n",
    ")"
   ]
  },
  {
   "cell_type": "markdown",
   "metadata": {},
   "source": [
    "## Teste 14 - Get Tasks"
   ]
  },
  {
   "cell_type": "code",
   "execution_count": null,
   "metadata": {},
   "outputs": [
    {
     "name": "stdout",
     "output_type": "stream",
     "text": [
      "\n",
      "\n",
      "\u001b[1m> Entering new AgentExecutor chain...\u001b[0m\n",
      "\u001b[32;1m\u001b[1;3m\n",
      "Invoking: `get_tasks_tool` with `{'list_id': 901304909413}`\n",
      "\n",
      "\n",
      "\u001b[0mResponse Body: {'tasks': [{'id': '86a4r1ux8', 'custom_id': None, 'custom_item_id': 0, 'name': 'TESTE BEM SUCEDIDO04', 'text_content': '', 'description': '', 'status': {'status': 'backlog', 'id': 'p54804921_1gR1N0KG', 'color': '#9c09bc', 'type': 'open', 'orderindex': 0}, 'orderindex': '119424843.00000000000000000000000000000000', 'date_created': '1724956015230', 'date_updated': '1724956015230', 'date_closed': None, 'date_done': None, 'archived': False, 'creator': {'id': 84141406, 'username': 'Ana Beatriz', 'color': '#455963', 'email': 'ti@cogmo.com.br', 'profilePicture': 'https://attachments.clickup.com/profilePictures/84141406_ZkZ.jpg'}, 'assignees': [{'id': 82061927, 'username': 'Rafael Alves Magalhães', 'color': '', 'initials': 'RM', 'email': 'magalhaesrafael07@gmail.com', 'profilePicture': None}], 'group_assignees': [], 'watchers': [{'id': 84141406, 'username': 'Ana Beatriz', 'color': '#455963', 'initials': 'AB', 'email': 'ti@cogmo.com.br', 'profilePicture': 'https://attachments.clickup.com/profilePictures/84141406_ZkZ.jpg'}, {'id': 82061927, 'username': 'Rafael Alves Magalhães', 'color': '', 'initials': 'RM', 'email': 'magalhaesrafael07@gmail.com', 'profilePicture': None}], 'checklists': [], 'tags': [], 'parent': None, 'priority': None, 'due_date': None, 'start_date': None, 'points': None, 'time_estimate': None, 'custom_fields': [], 'dependencies': [], 'linked_tasks': [], 'locations': [], 'team_id': '12927880', 'url': 'https://app.clickup.com/t/86a4r1ux8', 'sharing': {'public': False, 'public_share_expires_on': None, 'public_fields': ['assignees', 'priority', 'due_date', 'content', 'comments', 'attachments', 'customFields', 'subtasks', 'tags', 'checklists', 'coverimage'], 'token': None, 'seo_optimized': False}, 'permission_level': 'create', 'list': {'id': '901304909413', 'name': 'clickup_agent', 'access': True}, 'project': {'id': '90132806032', 'name': 'agente clickup playgroud (ana beatriz)', 'hidden': False, 'access': True}, 'folder': {'id': '90132806032', 'name': 'agente clickup playgroud (ana beatriz)', 'hidden': False, 'access': True}, 'space': {'id': '54804921'}}, {'id': '86a4r1eey', 'custom_id': None, 'custom_item_id': 0, 'name': 'DEU CERTO', 'text_content': '', 'description': '', 'status': {'status': 'backlog', 'id': 'p54804921_1gR1N0KG', 'color': '#9c09bc', 'type': 'open', 'orderindex': 0}, 'orderindex': '119424837.00000000000000000000000000000000', 'date_created': '1724954597275', 'date_updated': '1724954597275', 'date_closed': None, 'date_done': None, 'archived': False, 'creator': {'id': 82061927, 'username': 'Rafael Alves Magalhães', 'color': '', 'email': 'magalhaesrafael07@gmail.com', 'profilePicture': None}, 'assignees': [], 'group_assignees': [], 'watchers': [{'id': 82061927, 'username': 'Rafael Alves Magalhães', 'color': '', 'initials': 'RM', 'email': 'magalhaesrafael07@gmail.com', 'profilePicture': None}], 'checklists': [], 'tags': [], 'parent': None, 'priority': None, 'due_date': None, 'start_date': None, 'points': None, 'time_estimate': None, 'custom_fields': [], 'dependencies': [], 'linked_tasks': [], 'locations': [], 'team_id': '12927880', 'url': 'https://app.clickup.com/t/86a4r1eey', 'sharing': {'public': False, 'public_share_expires_on': None, 'public_fields': ['assignees', 'priority', 'due_date', 'content', 'comments', 'attachments', 'customFields', 'subtasks', 'tags', 'checklists', 'coverimage'], 'token': None, 'seo_optimized': False}, 'permission_level': 'create', 'list': {'id': '901304909413', 'name': 'clickup_agent', 'access': True}, 'project': {'id': '90132806032', 'name': 'agente clickup playgroud (ana beatriz)', 'hidden': False, 'access': True}, 'folder': {'id': '90132806032', 'name': 'agente clickup playgroud (ana beatriz)', 'hidden': False, 'access': True}, 'space': {'id': '54804921'}}, {'id': '86a4qz2xm', 'custom_id': None, 'custom_item_id': 0, 'name': 'TESTE BEM SUCEDIDO04', 'text_content': '', 'description': '', 'status': {'status': 'backlog', 'id': 'p54804921_1gR1N0KG', 'color': '#9c09bc', 'type': 'open', 'orderindex': 0}, 'orderindex': '119424807.00000000000000000000000000000000', 'date_created': '1724947418613', 'date_updated': '1724947418613', 'date_closed': None, 'date_done': None, 'archived': False, 'creator': {'id': 84141406, 'username': 'Ana Beatriz', 'color': '#455963', 'email': 'ti@cogmo.com.br', 'profilePicture': 'https://attachments.clickup.com/profilePictures/84141406_ZkZ.jpg'}, 'assignees': [{'id': 82061927, 'username': 'Rafael Alves Magalhães', 'color': '', 'initials': 'RM', 'email': 'magalhaesrafael07@gmail.com', 'profilePicture': None}], 'group_assignees': [], 'watchers': [{'id': 84141406, 'username': 'Ana Beatriz', 'color': '#455963', 'initials': 'AB', 'email': 'ti@cogmo.com.br', 'profilePicture': 'https://attachments.clickup.com/profilePictures/84141406_ZkZ.jpg'}, {'id': 82061927, 'username': 'Rafael Alves Magalhães', 'color': '', 'initials': 'RM', 'email': 'magalhaesrafael07@gmail.com', 'profilePicture': None}], 'checklists': [], 'tags': [], 'parent': None, 'priority': None, 'due_date': None, 'start_date': None, 'points': None, 'time_estimate': None, 'custom_fields': [], 'dependencies': [], 'linked_tasks': [], 'locations': [], 'team_id': '12927880', 'url': 'https://app.clickup.com/t/86a4qz2xm', 'sharing': {'public': False, 'public_share_expires_on': None, 'public_fields': ['assignees', 'priority', 'due_date', 'content', 'comments', 'attachments', 'customFields', 'subtasks', 'tags', 'checklists', 'coverimage'], 'token': None, 'seo_optimized': False}, 'permission_level': 'create', 'list': {'id': '901304909413', 'name': 'clickup_agent', 'access': True}, 'project': {'id': '90132806032', 'name': 'agente clickup playgroud (ana beatriz)', 'hidden': False, 'access': True}, 'folder': {'id': '90132806032', 'name': 'agente clickup playgroud (ana beatriz)', 'hidden': False, 'access': True}, 'space': {'id': '54804921'}}, {'id': '86a4qyy92', 'custom_id': None, 'custom_item_id': 0, 'name': 'TESTE BEM SUCEDIDO04', 'text_content': '', 'description': '', 'status': {'status': 'backlog', 'id': 'p54804921_1gR1N0KG', 'color': '#9c09bc', 'type': 'open', 'orderindex': 0}, 'orderindex': '119424806.00000000000000000000000000000000', 'date_created': '1724946923626', 'date_updated': '1724946923626', 'date_closed': None, 'date_done': None, 'archived': False, 'creator': {'id': 84141406, 'username': 'Ana Beatriz', 'color': '#455963', 'email': 'ti@cogmo.com.br', 'profilePicture': 'https://attachments.clickup.com/profilePictures/84141406_ZkZ.jpg'}, 'assignees': [{'id': 82061927, 'username': 'Rafael Alves Magalhães', 'color': '', 'initials': 'RM', 'email': 'magalhaesrafael07@gmail.com', 'profilePicture': None}], 'group_assignees': [], 'watchers': [{'id': 84141406, 'username': 'Ana Beatriz', 'color': '#455963', 'initials': 'AB', 'email': 'ti@cogmo.com.br', 'profilePicture': 'https://attachments.clickup.com/profilePictures/84141406_ZkZ.jpg'}, {'id': 82061927, 'username': 'Rafael Alves Magalhães', 'color': '', 'initials': 'RM', 'email': 'magalhaesrafael07@gmail.com', 'profilePicture': None}], 'checklists': [], 'tags': [], 'parent': None, 'priority': None, 'due_date': None, 'start_date': None, 'points': None, 'time_estimate': None, 'custom_fields': [], 'dependencies': [], 'linked_tasks': [], 'locations': [], 'team_id': '12927880', 'url': 'https://app.clickup.com/t/86a4qyy92', 'sharing': {'public': False, 'public_share_expires_on': None, 'public_fields': ['assignees', 'priority', 'due_date', 'content', 'comments', 'attachments', 'customFields', 'subtasks', 'tags', 'checklists', 'coverimage'], 'token': None, 'seo_optimized': False}, 'permission_level': 'create', 'list': {'id': '901304909413', 'name': 'clickup_agent', 'access': True}, 'project': {'id': '90132806032', 'name': 'agente clickup playgroud (ana beatriz)', 'hidden': False, 'access': True}, 'folder': {'id': '90132806032', 'name': 'agente clickup playgroud (ana beatriz)', 'hidden': False, 'access': True}, 'space': {'id': '54804921'}}, {'id': '86a4qyw7r', 'custom_id': None, 'custom_item_id': 0, 'name': 'TESTE BEM SUCEDIDO03', 'text_content': '', 'description': '', 'status': {'status': 'backlog', 'id': 'p54804921_1gR1N0KG', 'color': '#9c09bc', 'type': 'open', 'orderindex': 0}, 'orderindex': '119424805.00000000000000000000000000000000', 'date_created': '1724946710544', 'date_updated': '1724946710544', 'date_closed': None, 'date_done': None, 'archived': False, 'creator': {'id': 84141406, 'username': 'Ana Beatriz', 'color': '#455963', 'email': 'ti@cogmo.com.br', 'profilePicture': 'https://attachments.clickup.com/profilePictures/84141406_ZkZ.jpg'}, 'assignees': [{'id': 82061927, 'username': 'Rafael Alves Magalhães', 'color': '', 'initials': 'RM', 'email': 'magalhaesrafael07@gmail.com', 'profilePicture': None}], 'group_assignees': [], 'watchers': [{'id': 84141406, 'username': 'Ana Beatriz', 'color': '#455963', 'initials': 'AB', 'email': 'ti@cogmo.com.br', 'profilePicture': 'https://attachments.clickup.com/profilePictures/84141406_ZkZ.jpg'}, {'id': 82061927, 'username': 'Rafael Alves Magalhães', 'color': '', 'initials': 'RM', 'email': 'magalhaesrafael07@gmail.com', 'profilePicture': None}], 'checklists': [], 'tags': [], 'parent': None, 'priority': None, 'due_date': None, 'start_date': None, 'points': None, 'time_estimate': None, 'custom_fields': [], 'dependencies': [], 'linked_tasks': [], 'locations': [], 'team_id': '12927880', 'url': 'https://app.clickup.com/t/86a4qyw7r', 'sharing': {'public': False, 'public_share_expires_on': None, 'public_fields': ['assignees', 'priority', 'due_date', 'content', 'comments', 'attachments', 'customFields', 'subtasks', 'tags', 'checklists', 'coverimage'], 'token': None, 'seo_optimized': False}, 'permission_level': 'create', 'list': {'id': '901304909413', 'name': 'clickup_agent', 'access': True}, 'project': {'id': '90132806032', 'name': 'agente clickup playgroud (ana beatriz)', 'hidden': False, 'access': True}, 'folder': {'id': '90132806032', 'name': 'agente clickup playgroud (ana beatriz)', 'hidden': False, 'access': True}, 'space': {'id': '54804921'}}, {'id': '86a4qp7up', 'custom_id': None, 'custom_item_id': 0, 'name': 'TESTE BEM SUCEDIDO02', 'text_content': '', 'description': '', 'status': {'status': 'backlog', 'id': 'p54804921_1gR1N0KG', 'color': '#9c09bc', 'type': 'open', 'orderindex': 0}, 'orderindex': '119424804.00000000000000000000000000000000', 'date_created': '1724881168183', 'date_updated': '1724881168183', 'date_closed': None, 'date_done': None, 'archived': False, 'creator': {'id': 84141406, 'username': 'Ana Beatriz', 'color': '#455963', 'email': 'ti@cogmo.com.br', 'profilePicture': 'https://attachments.clickup.com/profilePictures/84141406_ZkZ.jpg'}, 'assignees': [{'id': 82061927, 'username': 'Rafael Alves Magalhães', 'color': '', 'initials': 'RM', 'email': 'magalhaesrafael07@gmail.com', 'profilePicture': None}], 'group_assignees': [], 'watchers': [{'id': 84141406, 'username': 'Ana Beatriz', 'color': '#455963', 'initials': 'AB', 'email': 'ti@cogmo.com.br', 'profilePicture': 'https://attachments.clickup.com/profilePictures/84141406_ZkZ.jpg'}, {'id': 82061927, 'username': 'Rafael Alves Magalhães', 'color': '', 'initials': 'RM', 'email': 'magalhaesrafael07@gmail.com', 'profilePicture': None}], 'checklists': [], 'tags': [], 'parent': None, 'priority': None, 'due_date': None, 'start_date': None, 'points': None, 'time_estimate': None, 'custom_fields': [], 'dependencies': [], 'linked_tasks': [], 'locations': [], 'team_id': '12927880', 'url': 'https://app.clickup.com/t/86a4qp7up', 'sharing': {'public': False, 'public_share_expires_on': None, 'public_fields': ['assignees', 'priority', 'due_date', 'content', 'comments', 'attachments', 'customFields', 'subtasks', 'tags', 'checklists', 'coverimage'], 'token': None, 'seo_optimized': False}, 'permission_level': 'create', 'list': {'id': '901304909413', 'name': 'clickup_agent', 'access': True}, 'project': {'id': '90132806032', 'name': 'agente clickup playgroud (ana beatriz)', 'hidden': False, 'access': True}, 'folder': {'id': '90132806032', 'name': 'agente clickup playgroud (ana beatriz)', 'hidden': False, 'access': True}, 'space': {'id': '54804921'}}, {'id': '86a4qp55z', 'custom_id': None, 'custom_item_id': 0, 'name': 'Solicitar à Jussiane Siqueira envio do questionário de editais para inovação', 'text_content': '', 'description': '', 'status': {'status': 'doing', 'id': 'p54804921_KslxIFrF', 'color': '#e16b16', 'type': 'custom', 'orderindex': 2}, 'orderindex': '119424802.00006260000000000000000000000000', 'date_created': '1724880822207', 'date_updated': '1724881131688', 'date_closed': None, 'date_done': None, 'archived': False, 'creator': {'id': 84141406, 'username': 'Ana Beatriz', 'color': '#455963', 'email': 'ti@cogmo.com.br', 'profilePicture': 'https://attachments.clickup.com/profilePictures/84141406_ZkZ.jpg'}, 'assignees': [{'id': 84141406, 'username': 'Ana Beatriz', 'color': '#455963', 'initials': 'AB', 'email': 'ti@cogmo.com.br', 'profilePicture': 'https://attachments.clickup.com/profilePictures/84141406_ZkZ.jpg'}], 'group_assignees': [], 'watchers': [{'id': 84141406, 'username': 'Ana Beatriz', 'color': '#455963', 'initials': 'AB', 'email': 'ti@cogmo.com.br', 'profilePicture': 'https://attachments.clickup.com/profilePictures/84141406_ZkZ.jpg'}], 'checklists': [], 'tags': [], 'parent': None, 'priority': None, 'due_date': '1725174000000', 'start_date': None, 'points': None, 'time_estimate': None, 'custom_fields': [], 'dependencies': [], 'linked_tasks': [], 'locations': [], 'team_id': '12927880', 'url': 'https://app.clickup.com/t/86a4qp55z', 'sharing': {'public': False, 'public_share_expires_on': None, 'public_fields': ['assignees', 'priority', 'due_date', 'content', 'comments', 'attachments', 'customFields', 'subtasks', 'tags', 'checklists', 'coverimage'], 'token': None, 'seo_optimized': False}, 'permission_level': 'create', 'list': {'id': '901304909413', 'name': 'clickup_agent', 'access': True}, 'project': {'id': '90132806032', 'name': 'agente clickup playgroud (ana beatriz)', 'hidden': False, 'access': True}, 'folder': {'id': '90132806032', 'name': 'agente clickup playgroud (ana beatriz)', 'hidden': False, 'access': True}, 'space': {'id': '54804921'}}, {'id': '86a4qp4e9', 'custom_id': None, 'custom_item_id': 0, 'name': 'TESTE BEM SUCEDIDO03', 'text_content': '', 'description': '', 'status': {'status': 'backlog', 'id': 'p54804921_1gR1N0KG', 'color': '#9c09bc', 'type': 'open', 'orderindex': 0}, 'orderindex': '119424800.00000000000000000000000000000000', 'date_created': '1724880655952', 'date_updated': '1724880655952', 'date_closed': None, 'date_done': None, 'archived': False, 'creator': {'id': 84141406, 'username': 'Ana Beatriz', 'color': '#455963', 'email': 'ti@cogmo.com.br', 'profilePicture': 'https://attachments.clickup.com/profilePictures/84141406_ZkZ.jpg'}, 'assignees': [], 'group_assignees': [], 'watchers': [{'id': 84141406, 'username': 'Ana Beatriz', 'color': '#455963', 'initials': 'AB', 'email': 'ti@cogmo.com.br', 'profilePicture': 'https://attachments.clickup.com/profilePictures/84141406_ZkZ.jpg'}], 'checklists': [], 'tags': [], 'parent': None, 'priority': None, 'due_date': None, 'start_date': None, 'points': None, 'time_estimate': None, 'custom_fields': [], 'dependencies': [], 'linked_tasks': [], 'locations': [], 'team_id': '12927880', 'url': 'https://app.clickup.com/t/86a4qp4e9', 'sharing': {'public': False, 'public_share_expires_on': None, 'public_fields': ['assignees', 'priority', 'due_date', 'content', 'comments', 'attachments', 'customFields', 'subtasks', 'tags', 'checklists', 'coverimage'], 'token': None, 'seo_optimized': False}, 'permission_level': 'create', 'list': {'id': '901304909413', 'name': 'clickup_agent', 'access': True}, 'project': {'id': '90132806032', 'name': 'agente clickup playgroud (ana beatriz)', 'hidden': False, 'access': True}, 'folder': {'id': '90132806032', 'name': 'agente clickup playgroud (ana beatriz)', 'hidden': False, 'access': True}, 'space': {'id': '54804921'}}, {'id': '86a4qp46p', 'custom_id': None, 'custom_item_id': 0, 'name': 'TESTE BEM SUCEDIDO02', 'text_content': '', 'description': '', 'status': {'status': 'backlog', 'id': 'p54804921_1gR1N0KG', 'color': '#9c09bc', 'type': 'open', 'orderindex': 0}, 'orderindex': '119424799.00000000000000000000000000000000', 'date_created': '1724880604108', 'date_updated': '1724880604108', 'date_closed': None, 'date_done': None, 'archived': False, 'creator': {'id': 84141406, 'username': 'Ana Beatriz', 'color': '#455963', 'email': 'ti@cogmo.com.br', 'profilePicture': 'https://attachments.clickup.com/profilePictures/84141406_ZkZ.jpg'}, 'assignees': [{'id': 82061927, 'username': 'Rafael Alves Magalhães', 'color': '', 'initials': 'RM', 'email': 'magalhaesrafael07@gmail.com', 'profilePicture': None}], 'group_assignees': [], 'watchers': [{'id': 84141406, 'username': 'Ana Beatriz', 'color': '#455963', 'initials': 'AB', 'email': 'ti@cogmo.com.br', 'profilePicture': 'https://attachments.clickup.com/profilePictures/84141406_ZkZ.jpg'}, {'id': 82061927, 'username': 'Rafael Alves Magalhães', 'color': '', 'initials': 'RM', 'email': 'magalhaesrafael07@gmail.com', 'profilePicture': None}], 'checklists': [], 'tags': [], 'parent': None, 'priority': None, 'due_date': None, 'start_date': None, 'points': None, 'time_estimate': None, 'custom_fields': [], 'dependencies': [], 'linked_tasks': [], 'locations': [], 'team_id': '12927880', 'url': 'https://app.clickup.com/t/86a4qp46p', 'sharing': {'public': False, 'public_share_expires_on': None, 'public_fields': ['assignees', 'priority', 'due_date', 'content', 'comments', 'attachments', 'customFields', 'subtasks', 'tags', 'checklists', 'coverimage'], 'token': None, 'seo_optimized': False}, 'permission_level': 'create', 'list': {'id': '901304909413', 'name': 'clickup_agent', 'access': True}, 'project': {'id': '90132806032', 'name': 'agente clickup playgroud (ana beatriz)', 'hidden': False, 'access': True}, 'folder': {'id': '90132806032', 'name': 'agente clickup playgroud (ana beatriz)', 'hidden': False, 'access': True}, 'space': {'id': '54804921'}}, {'id': '86a4qp40d', 'custom_id': None, 'custom_item_id': 0, 'name': 'Fazer follow up com Jussiane Siqueira', 'text_content': '', 'description': '', 'status': {'status': 'backlog', 'id': 'p54804921_1gR1N0KG', 'color': '#9c09bc', 'type': 'open', 'orderindex': 0}, 'orderindex': '119424798.00000000000000000000000000000000', 'date_created': '1724880574665', 'date_updated': '1724880577255', 'date_closed': None, 'date_done': None, 'archived': False, 'creator': {'id': 84141406, 'username': 'Ana Beatriz', 'color': '#455963', 'email': 'ti@cogmo.com.br', 'profilePicture': 'https://attachments.clickup.com/profilePictures/84141406_ZkZ.jpg'}, 'assignees': [], 'group_assignees': [], 'watchers': [{'id': 84141406, 'username': 'Ana Beatriz', 'color': '#455963', 'initials': 'AB', 'email': 'ti@cogmo.com.br', 'profilePicture': 'https://attachments.clickup.com/profilePictures/84141406_ZkZ.jpg'}], 'checklists': [], 'tags': [], 'parent': None, 'priority': None, 'due_date': '1725174000000', 'start_date': None, 'points': None, 'time_estimate': None, 'custom_fields': [], 'dependencies': [], 'linked_tasks': [], 'locations': [], 'team_id': '12927880', 'url': 'https://app.clickup.com/t/86a4qp40d', 'sharing': {'public': False, 'public_share_expires_on': None, 'public_fields': ['assignees', 'priority', 'due_date', 'content', 'comments', 'attachments', 'customFields', 'subtasks', 'tags', 'checklists', 'coverimage'], 'token': None, 'seo_optimized': False}, 'permission_level': 'create', 'list': {'id': '901304909413', 'name': 'clickup_agent', 'access': True}, 'project': {'id': '90132806032', 'name': 'agente clickup playgroud (ana beatriz)', 'hidden': False, 'access': True}, 'folder': {'id': '90132806032', 'name': 'agente clickup playgroud (ana beatriz)', 'hidden': False, 'access': True}, 'space': {'id': '54804921'}}, {'id': '86a4qp3w2', 'custom_id': None, 'custom_item_id': 0, 'name': 'Fazer follow up com Jussiane Siqueira', 'text_content': '', 'description': '', 'status': {'status': 'backlog', 'id': 'p54804921_1gR1N0KG', 'color': '#9c09bc', 'type': 'open', 'orderindex': 0}, 'orderindex': '119424797.00000000000000000000000000000000', 'date_created': '1724880549257', 'date_updated': '1724880551958', 'date_closed': None, 'date_done': None, 'archived': False, 'creator': {'id': 84141406, 'username': 'Ana Beatriz', 'color': '#455963', 'email': 'ti@cogmo.com.br', 'profilePicture': 'https://attachments.clickup.com/profilePictures/84141406_ZkZ.jpg'}, 'assignees': [], 'group_assignees': [], 'watchers': [{'id': 84141406, 'username': 'Ana Beatriz', 'color': '#455963', 'initials': 'AB', 'email': 'ti@cogmo.com.br', 'profilePicture': 'https://attachments.clickup.com/profilePictures/84141406_ZkZ.jpg'}], 'checklists': [], 'tags': [], 'parent': None, 'priority': None, 'due_date': '1725174000000', 'start_date': None, 'points': None, 'time_estimate': None, 'custom_fields': [], 'dependencies': [], 'linked_tasks': [], 'locations': [], 'team_id': '12927880', 'url': 'https://app.clickup.com/t/86a4qp3w2', 'sharing': {'public': False, 'public_share_expires_on': None, 'public_fields': ['assignees', 'priority', 'due_date', 'content', 'comments', 'attachments', 'customFields', 'subtasks', 'tags', 'checklists', 'coverimage'], 'token': None, 'seo_optimized': False}, 'permission_level': 'create', 'list': {'id': '901304909413', 'name': 'clickup_agent', 'access': True}, 'project': {'id': '90132806032', 'name': 'agente clickup playgroud (ana beatriz)', 'hidden': False, 'access': True}, 'folder': {'id': '90132806032', 'name': 'agente clickup playgroud (ana beatriz)', 'hidden': False, 'access': True}, 'space': {'id': '54804921'}}, {'id': '86a4qp39v', 'custom_id': None, 'custom_item_id': 0, 'name': 'Fazer follow up com Jussiane Siqueira', 'text_content': '', 'description': '', 'status': {'status': 'backlog', 'id': 'p54804921_1gR1N0KG', 'color': '#9c09bc', 'type': 'open', 'orderindex': 0}, 'orderindex': '119424796.00000000000000000000000000000000', 'date_created': '1724880418229', 'date_updated': '1724880418229', 'date_closed': None, 'date_done': None, 'archived': False, 'creator': {'id': 84141406, 'username': 'Ana Beatriz', 'color': '#455963', 'email': 'ti@cogmo.com.br', 'profilePicture': 'https://attachments.clickup.com/profilePictures/84141406_ZkZ.jpg'}, 'assignees': [], 'group_assignees': [], 'watchers': [{'id': 84141406, 'username': 'Ana Beatriz', 'color': '#455963', 'initials': 'AB', 'email': 'ti@cogmo.com.br', 'profilePicture': 'https://attachments.clickup.com/profilePictures/84141406_ZkZ.jpg'}], 'checklists': [], 'tags': [], 'parent': None, 'priority': None, 'due_date': '1725174000000', 'start_date': None, 'points': None, 'time_estimate': None, 'custom_fields': [], 'dependencies': [], 'linked_tasks': [], 'locations': [], 'team_id': '12927880', 'url': 'https://app.clickup.com/t/86a4qp39v', 'sharing': {'public': False, 'public_share_expires_on': None, 'public_fields': ['assignees', 'priority', 'due_date', 'content', 'comments', 'attachments', 'customFields', 'subtasks', 'tags', 'checklists', 'coverimage'], 'token': None, 'seo_optimized': False}, 'permission_level': 'create', 'list': {'id': '901304909413', 'name': 'clickup_agent', 'access': True}, 'project': {'id': '90132806032', 'name': 'agente clickup playgroud (ana beatriz)', 'hidden': False, 'access': True}, 'folder': {'id': '90132806032', 'name': 'agente clickup playgroud (ana beatriz)', 'hidden': False, 'access': True}, 'space': {'id': '54804921'}}, {'id': '86a4qnyac', 'custom_id': None, 'custom_item_id': 0, 'name': 'Fazer follow up com Jussiane Siqueira', 'text_content': '', 'description': '', 'status': {'status': 'backlog', 'id': 'p54804921_1gR1N0KG', 'color': '#9c09bc', 'type': 'open', 'orderindex': 0}, 'orderindex': '119424795.00000000000000000000000000000000', 'date_created': '1724879515760', 'date_updated': '1724879515760', 'date_closed': None, 'date_done': None, 'archived': False, 'creator': {'id': 84141406, 'username': 'Ana Beatriz', 'color': '#455963', 'email': 'ti@cogmo.com.br', 'profilePicture': 'https://attachments.clickup.com/profilePictures/84141406_ZkZ.jpg'}, 'assignees': [], 'group_assignees': [], 'watchers': [{'id': 84141406, 'username': 'Ana Beatriz', 'color': '#455963', 'initials': 'AB', 'email': 'ti@cogmo.com.br', 'profilePicture': 'https://attachments.clickup.com/profilePictures/84141406_ZkZ.jpg'}], 'checklists': [], 'tags': [], 'parent': None, 'priority': None, 'due_date': '1725174000000', 'start_date': None, 'points': None, 'time_estimate': None, 'custom_fields': [], 'dependencies': [], 'linked_tasks': [], 'locations': [], 'team_id': '12927880', 'url': 'https://app.clickup.com/t/86a4qnyac', 'sharing': {'public': False, 'public_share_expires_on': None, 'public_fields': ['assignees', 'priority', 'due_date', 'content', 'comments', 'attachments', 'customFields', 'subtasks', 'tags', 'checklists', 'coverimage'], 'token': None, 'seo_optimized': False}, 'permission_level': 'create', 'list': {'id': '901304909413', 'name': 'clickup_agent', 'access': True}, 'project': {'id': '90132806032', 'name': 'agente clickup playgroud (ana beatriz)', 'hidden': False, 'access': True}, 'folder': {'id': '90132806032', 'name': 'agente clickup playgroud (ana beatriz)', 'hidden': False, 'access': True}, 'space': {'id': '54804921'}}, {'id': '86a4qny9e', 'custom_id': None, 'custom_item_id': 0, 'name': 'Fazer follow up com Jussiane Siqueira', 'text_content': '', 'description': '', 'status': {'status': 'backlog', 'id': 'p54804921_1gR1N0KG', 'color': '#9c09bc', 'type': 'open', 'orderindex': 0}, 'orderindex': '119424794.00000000000000000000000000000000', 'date_created': '1724879511733', 'date_updated': '1724879511733', 'date_closed': None, 'date_done': None, 'archived': False, 'creator': {'id': 84141406, 'username': 'Ana Beatriz', 'color': '#455963', 'email': 'ti@cogmo.com.br', 'profilePicture': 'https://attachments.clickup.com/profilePictures/84141406_ZkZ.jpg'}, 'assignees': [], 'group_assignees': [], 'watchers': [{'id': 84141406, 'username': 'Ana Beatriz', 'color': '#455963', 'initials': 'AB', 'email': 'ti@cogmo.com.br', 'profilePicture': 'https://attachments.clickup.com/profilePictures/84141406_ZkZ.jpg'}], 'checklists': [], 'tags': [], 'parent': None, 'priority': None, 'due_date': '1725174000000', 'start_date': None, 'points': None, 'time_estimate': None, 'custom_fields': [], 'dependencies': [], 'linked_tasks': [], 'locations': [], 'team_id': '12927880', 'url': 'https://app.clickup.com/t/86a4qny9e', 'sharing': {'public': False, 'public_share_expires_on': None, 'public_fields': ['assignees', 'priority', 'due_date', 'content', 'comments', 'attachments', 'customFields', 'subtasks', 'tags', 'checklists', 'coverimage'], 'token': None, 'seo_optimized': False}, 'permission_level': 'create', 'list': {'id': '901304909413', 'name': 'clickup_agent', 'access': True}, 'project': {'id': '90132806032', 'name': 'agente clickup playgroud (ana beatriz)', 'hidden': False, 'access': True}, 'folder': {'id': '90132806032', 'name': 'agente clickup playgroud (ana beatriz)', 'hidden': False, 'access': True}, 'space': {'id': '54804921'}}, {'id': '86a4qny8t', 'custom_id': None, 'custom_item_id': 0, 'name': 'Fazer follow up com Jussiane Siqueira', 'text_content': '', 'description': '', 'status': {'status': 'backlog', 'id': 'p54804921_1gR1N0KG', 'color': '#9c09bc', 'type': 'open', 'orderindex': 0}, 'orderindex': '119424793.00000000000000000000000000000000', 'date_created': '1724879507235', 'date_updated': '1724879507235', 'date_closed': None, 'date_done': None, 'archived': False, 'creator': {'id': 84141406, 'username': 'Ana Beatriz', 'color': '#455963', 'email': 'ti@cogmo.com.br', 'profilePicture': 'https://attachments.clickup.com/profilePictures/84141406_ZkZ.jpg'}, 'assignees': [], 'group_assignees': [], 'watchers': [{'id': 84141406, 'username': 'Ana Beatriz', 'color': '#455963', 'initials': 'AB', 'email': 'ti@cogmo.com.br', 'profilePicture': 'https://attachments.clickup.com/profilePictures/84141406_ZkZ.jpg'}], 'checklists': [], 'tags': [], 'parent': None, 'priority': None, 'due_date': '1725174000000', 'start_date': None, 'points': None, 'time_estimate': None, 'custom_fields': [], 'dependencies': [], 'linked_tasks': [], 'locations': [], 'team_id': '12927880', 'url': 'https://app.clickup.com/t/86a4qny8t', 'sharing': {'public': False, 'public_share_expires_on': None, 'public_fields': ['assignees', 'priority', 'due_date', 'content', 'comments', 'attachments', 'customFields', 'subtasks', 'tags', 'checklists', 'coverimage'], 'token': None, 'seo_optimized': False}, 'permission_level': 'create', 'list': {'id': '901304909413', 'name': 'clickup_agent', 'access': True}, 'project': {'id': '90132806032', 'name': 'agente clickup playgroud (ana beatriz)', 'hidden': False, 'access': True}, 'folder': {'id': '90132806032', 'name': 'agente clickup playgroud (ana beatriz)', 'hidden': False, 'access': True}, 'space': {'id': '54804921'}}, {'id': '86a4qnvxg', 'custom_id': None, 'custom_item_id': 0, 'name': 'Fazer follow up com Jussiane Siqueira', 'text_content': '', 'description': '', 'status': {'status': 'backlog', 'id': 'p54804921_1gR1N0KG', 'color': '#9c09bc', 'type': 'open', 'orderindex': 0}, 'orderindex': '119424792.00000000000000000000000000000000', 'date_created': '1724879234553', 'date_updated': '1724879234553', 'date_closed': None, 'date_done': None, 'archived': False, 'creator': {'id': 84141406, 'username': 'Ana Beatriz', 'color': '#455963', 'email': 'ti@cogmo.com.br', 'profilePicture': 'https://attachments.clickup.com/profilePictures/84141406_ZkZ.jpg'}, 'assignees': [], 'group_assignees': [], 'watchers': [{'id': 84141406, 'username': 'Ana Beatriz', 'color': '#455963', 'initials': 'AB', 'email': 'ti@cogmo.com.br', 'profilePicture': 'https://attachments.clickup.com/profilePictures/84141406_ZkZ.jpg'}], 'checklists': [], 'tags': [], 'parent': None, 'priority': None, 'due_date': '1724914800000', 'start_date': None, 'points': None, 'time_estimate': None, 'custom_fields': [], 'dependencies': [], 'linked_tasks': [], 'locations': [], 'team_id': '12927880', 'url': 'https://app.clickup.com/t/86a4qnvxg', 'sharing': {'public': False, 'public_share_expires_on': None, 'public_fields': ['assignees', 'priority', 'due_date', 'content', 'comments', 'attachments', 'customFields', 'subtasks', 'tags', 'checklists', 'coverimage'], 'token': None, 'seo_optimized': False}, 'permission_level': 'create', 'list': {'id': '901304909413', 'name': 'clickup_agent', 'access': True}, 'project': {'id': '90132806032', 'name': 'agente clickup playgroud (ana beatriz)', 'hidden': False, 'access': True}, 'folder': {'id': '90132806032', 'name': 'agente clickup playgroud (ana beatriz)', 'hidden': False, 'access': True}, 'space': {'id': '54804921'}}, {'id': '86a4qmd3x', 'custom_id': None, 'custom_item_id': 0, 'name': 'Fazer follow up com Jussiane Siqueira', 'text_content': '', 'description': '', 'status': {'status': 'backlog', 'id': 'p54804921_1gR1N0KG', 'color': '#9c09bc', 'type': 'open', 'orderindex': 0}, 'orderindex': '119424791.00000000000000000000000000000000', 'date_created': '1724874718882', 'date_updated': '1724874722450', 'date_closed': None, 'date_done': None, 'archived': False, 'creator': {'id': 84141406, 'username': 'Ana Beatriz', 'color': '#455963', 'email': 'ti@cogmo.com.br', 'profilePicture': 'https://attachments.clickup.com/profilePictures/84141406_ZkZ.jpg'}, 'assignees': [], 'group_assignees': [], 'watchers': [{'id': 84141406, 'username': 'Ana Beatriz', 'color': '#455963', 'initials': 'AB', 'email': 'ti@cogmo.com.br', 'profilePicture': 'https://attachments.clickup.com/profilePictures/84141406_ZkZ.jpg'}], 'checklists': [], 'tags': [], 'parent': None, 'priority': None, 'due_date': '1724914800000', 'start_date': None, 'points': None, 'time_estimate': None, 'custom_fields': [], 'dependencies': [], 'linked_tasks': [], 'locations': [], 'team_id': '12927880', 'url': 'https://app.clickup.com/t/86a4qmd3x', 'sharing': {'public': False, 'public_share_expires_on': None, 'public_fields': ['assignees', 'priority', 'due_date', 'content', 'comments', 'attachments', 'customFields', 'subtasks', 'tags', 'checklists', 'coverimage'], 'token': None, 'seo_optimized': False}, 'permission_level': 'create', 'list': {'id': '901304909413', 'name': 'clickup_agent', 'access': True}, 'project': {'id': '90132806032', 'name': 'agente clickup playgroud (ana beatriz)', 'hidden': False, 'access': True}, 'folder': {'id': '90132806032', 'name': 'agente clickup playgroud (ana beatriz)', 'hidden': False, 'access': True}, 'space': {'id': '54804921'}}, {'id': '86a4q650q', 'custom_id': None, 'custom_item_id': 0, 'name': 'Tarefa Exemplo', 'text_content': '', 'description': '', 'status': {'status': 'testing', 'id': 'p54804921_oYhO88Lm', 'color': '#d33d44', 'type': 'custom', 'orderindex': 3}, 'orderindex': '119424778.00000000000000000000000000000000', 'date_created': '1724797264500', 'date_updated': '1724797264500', 'date_closed': None, 'date_done': None, 'archived': False, 'creator': {'id': 82061927, 'username': 'Rafael Alves Magalhães', 'color': '', 'email': 'magalhaesrafael07@gmail.com', 'profilePicture': None}, 'assignees': [], 'group_assignees': [], 'watchers': [{'id': 82061927, 'username': 'Rafael Alves Magalhães', 'color': '', 'initials': 'RM', 'email': 'magalhaesrafael07@gmail.com', 'profilePicture': None}], 'checklists': [], 'tags': [], 'parent': None, 'priority': None, 'due_date': None, 'start_date': None, 'points': None, 'time_estimate': None, 'custom_fields': [], 'dependencies': [], 'linked_tasks': [], 'locations': [], 'team_id': '12927880', 'url': 'https://app.clickup.com/t/86a4q650q', 'sharing': {'public': False, 'public_share_expires_on': None, 'public_fields': ['assignees', 'priority', 'due_date', 'content', 'comments', 'attachments', 'customFields', 'subtasks', 'tags', 'checklists', 'coverimage'], 'token': None, 'seo_optimized': False}, 'permission_level': 'create', 'list': {'id': '901304909413', 'name': 'clickup_agent', 'access': True}, 'project': {'id': '90132806032', 'name': 'agente clickup playgroud (ana beatriz)', 'hidden': False, 'access': True}, 'folder': {'id': '90132806032', 'name': 'agente clickup playgroud (ana beatriz)', 'hidden': False, 'access': True}, 'space': {'id': '54804921'}}, {'id': '86a4q63w3', 'custom_id': None, 'custom_item_id': 0, 'name': 'Dummy Task 2', 'text_content': '', 'description': '', 'status': {'status': 'backlog', 'id': 'p54804921_1gR1N0KG', 'color': '#9c09bc', 'type': 'open', 'orderindex': 0}, 'orderindex': '119424777.00000000000000000000000000000000', 'date_created': '1724797022304', 'date_updated': '1724797022304', 'date_closed': None, 'date_done': None, 'archived': False, 'creator': {'id': 82061927, 'username': 'Rafael Alves Magalhães', 'color': '', 'email': 'magalhaesrafael07@gmail.com', 'profilePicture': None}, 'assignees': [], 'group_assignees': [], 'watchers': [{'id': 82061927, 'username': 'Rafael Alves Magalhães', 'color': '', 'initials': 'RM', 'email': 'magalhaesrafael07@gmail.com', 'profilePicture': None}], 'checklists': [], 'tags': [], 'parent': None, 'priority': None, 'due_date': None, 'start_date': None, 'points': None, 'time_estimate': None, 'custom_fields': [], 'dependencies': [], 'linked_tasks': [], 'locations': [], 'team_id': '12927880', 'url': 'https://app.clickup.com/t/86a4q63w3', 'sharing': {'public': False, 'public_share_expires_on': None, 'public_fields': ['assignees', 'priority', 'due_date', 'content', 'comments', 'attachments', 'customFields', 'subtasks', 'tags', 'checklists', 'coverimage'], 'token': None, 'seo_optimized': False}, 'permission_level': 'create', 'list': {'id': '901304909413', 'name': 'clickup_agent', 'access': True}, 'project': {'id': '90132806032', 'name': 'agente clickup playgroud (ana beatriz)', 'hidden': False, 'access': True}, 'folder': {'id': '90132806032', 'name': 'agente clickup playgroud (ana beatriz)', 'hidden': False, 'access': True}, 'space': {'id': '54804921'}}, {'id': '86a4q63vx', 'custom_id': None, 'custom_item_id': 0, 'name': 'Dummy Task 1', 'text_content': '', 'description': '', 'status': {'status': 'backlog', 'id': 'p54804921_1gR1N0KG', 'color': '#9c09bc', 'type': 'open', 'orderindex': 0}, 'orderindex': '119424776.00000000000000000000000000000000', 'date_created': '1724797017247', 'date_updated': '1724798383471', 'date_closed': None, 'date_done': None, 'archived': False, 'creator': {'id': 82061927, 'username': 'Rafael Alves Magalhães', 'color': '', 'email': 'magalhaesrafael07@gmail.com', 'profilePicture': None}, 'assignees': [], 'group_assignees': [], 'watchers': [{'id': 82061927, 'username': 'Rafael Alves Magalhães', 'color': '', 'initials': 'RM', 'email': 'magalhaesrafael07@gmail.com', 'profilePicture': None}], 'checklists': [], 'tags': [], 'parent': None, 'priority': None, 'due_date': '1727593200000', 'start_date': None, 'points': None, 'time_estimate': None, 'custom_fields': [], 'dependencies': [], 'linked_tasks': [], 'locations': [], 'team_id': '12927880', 'url': 'https://app.clickup.com/t/86a4q63vx', 'sharing': {'public': False, 'public_share_expires_on': None, 'public_fields': ['assignees', 'priority', 'due_date', 'content', 'comments', 'attachments', 'customFields', 'subtasks', 'tags', 'checklists', 'coverimage'], 'token': None, 'seo_optimized': False}, 'permission_level': 'create', 'list': {'id': '901304909413', 'name': 'clickup_agent', 'access': True}, 'project': {'id': '90132806032', 'name': 'agente clickup playgroud (ana beatriz)', 'hidden': False, 'access': True}, 'folder': {'id': '90132806032', 'name': 'agente clickup playgroud (ana beatriz)', 'hidden': False, 'access': True}, 'space': {'id': '54804921'}}, {'id': '86a4q63th', 'custom_id': None, 'custom_item_id': 0, 'name': '(2024-08-27 19:16:06.257577): ALVENARIA', 'text_content': '', 'description': '', 'status': {'status': 'backlog', 'id': 'p54804921_1gR1N0KG', 'color': '#9c09bc', 'type': 'open', 'orderindex': 0}, 'orderindex': '119424775.00000000000000000000000000000000', 'date_created': '1724796976922', 'date_updated': '1724796976922', 'date_closed': None, 'date_done': None, 'archived': False, 'creator': {'id': 82061927, 'username': 'Rafael Alves Magalhães', 'color': '', 'email': 'magalhaesrafael07@gmail.com', 'profilePicture': None}, 'assignees': [], 'group_assignees': [], 'watchers': [{'id': 82061927, 'username': 'Rafael Alves Magalhães', 'color': '', 'initials': 'RM', 'email': 'magalhaesrafael07@gmail.com', 'profilePicture': None}], 'checklists': [], 'tags': [], 'parent': None, 'priority': None, 'due_date': None, 'start_date': None, 'points': None, 'time_estimate': None, 'custom_fields': [], 'dependencies': [{'task_id': '86a4q63th', 'depends_on': '86a4q63td', 'type': 1, 'date_created': '1724796979874', 'userid': '82061927', 'workspace_id': '12927880', 'chain_id': None}], 'linked_tasks': [], 'locations': [], 'team_id': '12927880', 'url': 'https://app.clickup.com/t/86a4q63th', 'sharing': {'public': False, 'public_share_expires_on': None, 'public_fields': ['assignees', 'priority', 'due_date', 'content', 'comments', 'attachments', 'customFields', 'subtasks', 'tags', 'checklists', 'coverimage'], 'token': None, 'seo_optimized': False}, 'permission_level': 'create', 'list': {'id': '901304909413', 'name': 'clickup_agent', 'access': True}, 'project': {'id': '90132806032', 'name': 'agente clickup playgroud (ana beatriz)', 'hidden': False, 'access': True}, 'folder': {'id': '90132806032', 'name': 'agente clickup playgroud (ana beatriz)', 'hidden': False, 'access': True}, 'space': {'id': '54804921'}}, {'id': '86a4q63td', 'custom_id': None, 'custom_item_id': 0, 'name': '(2024-08-27 19:16:06.257577): FUNDAÇÃO', 'text_content': '', 'description': '', 'status': {'status': 'backlog', 'id': 'p54804921_1gR1N0KG', 'color': '#9c09bc', 'type': 'open', 'orderindex': 0}, 'orderindex': '119424774.00000000000000000000000000000000', 'date_created': '1724796974869', 'date_updated': '1724796974869', 'date_closed': None, 'date_done': None, 'archived': False, 'creator': {'id': 82061927, 'username': 'Rafael Alves Magalhães', 'color': '', 'email': 'magalhaesrafael07@gmail.com', 'profilePicture': None}, 'assignees': [], 'group_assignees': [], 'watchers': [{'id': 82061927, 'username': 'Rafael Alves Magalhães', 'color': '', 'initials': 'RM', 'email': 'magalhaesrafael07@gmail.com', 'profilePicture': None}], 'checklists': [], 'tags': [], 'parent': None, 'priority': None, 'due_date': None, 'start_date': None, 'points': None, 'time_estimate': None, 'custom_fields': [], 'dependencies': [{'task_id': '86a4q63th', 'depends_on': '86a4q63td', 'type': 1, 'date_created': '1724796979874', 'userid': '82061927', 'workspace_id': '12927880', 'chain_id': None}], 'linked_tasks': [], 'locations': [], 'team_id': '12927880', 'url': 'https://app.clickup.com/t/86a4q63td', 'sharing': {'public': False, 'public_share_expires_on': None, 'public_fields': ['assignees', 'priority', 'due_date', 'content', 'comments', 'attachments', 'customFields', 'subtasks', 'tags', 'checklists', 'coverimage'], 'token': None, 'seo_optimized': False}, 'permission_level': 'create', 'list': {'id': '901304909413', 'name': 'clickup_agent', 'access': True}, 'project': {'id': '90132806032', 'name': 'agente clickup playgroud (ana beatriz)', 'hidden': False, 'access': True}, 'folder': {'id': '90132806032', 'name': 'agente clickup playgroud (ana beatriz)', 'hidden': False, 'access': True}, 'space': {'id': '54804921'}}, {'id': '86a4q63ry', 'custom_id': None, 'custom_item_id': 0, 'name': '(2024-08-27 19:16:06.257577): NOVO TESTE BEM SUCEDIDO', 'text_content': '', 'description': '', 'status': {'status': 'backlog', 'id': 'p54804921_1gR1N0KG', 'color': '#9c09bc', 'type': 'open', 'orderindex': 0}, 'orderindex': '119424773.00000000000000000000000000000000', 'date_created': '1724796969535', 'date_updated': '1724796969535', 'date_closed': None, 'date_done': None, 'archived': False, 'creator': {'id': 82061927, 'username': 'Rafael Alves Magalhães', 'color': '', 'email': 'magalhaesrafael07@gmail.com', 'profilePicture': None}, 'assignees': [], 'group_assignees': [], 'watchers': [{'id': 82061927, 'username': 'Rafael Alves Magalhães', 'color': '', 'initials': 'RM', 'email': 'magalhaesrafael07@gmail.com', 'profilePicture': None}], 'checklists': [], 'tags': [], 'parent': None, 'priority': None, 'due_date': None, 'start_date': None, 'points': None, 'time_estimate': None, 'custom_fields': [], 'dependencies': [], 'linked_tasks': [], 'locations': [], 'team_id': '12927880', 'url': 'https://app.clickup.com/t/86a4q63ry', 'sharing': {'public': False, 'public_share_expires_on': None, 'public_fields': ['assignees', 'priority', 'due_date', 'content', 'comments', 'attachments', 'customFields', 'subtasks', 'tags', 'checklists', 'coverimage'], 'token': None, 'seo_optimized': False}, 'permission_level': 'create', 'list': {'id': '901304909413', 'name': 'clickup_agent', 'access': True}, 'project': {'id': '90132806032', 'name': 'agente clickup playgroud (ana beatriz)', 'hidden': False, 'access': True}, 'folder': {'id': '90132806032', 'name': 'agente clickup playgroud (ana beatriz)', 'hidden': False, 'access': True}, 'space': {'id': '54804921'}}, {'id': '86a4q5wyp', 'custom_id': None, 'custom_item_id': 0, 'name': '(2024-08-27 19:04:29.560449): NOVÍSSIMO TESTE BEM SUCEDIDO', 'text_content': '', 'description': '', 'status': {'status': 'backlog', 'id': 'p54804921_1gR1N0KG', 'color': '#9c09bc', 'type': 'open', 'orderindex': 0}, 'orderindex': '119424772.00000000000000000000000000000000', 'date_created': '1724796272206', 'date_updated': '1724796272206', 'date_closed': None, 'date_done': None, 'archived': False, 'creator': {'id': 82061927, 'username': 'Rafael Alves Magalhães', 'color': '', 'email': 'magalhaesrafael07@gmail.com', 'profilePicture': None}, 'assignees': [], 'group_assignees': [], 'watchers': [{'id': 82061927, 'username': 'Rafael Alves Magalhães', 'color': '', 'initials': 'RM', 'email': 'magalhaesrafael07@gmail.com', 'profilePicture': None}], 'checklists': [], 'tags': [], 'parent': None, 'priority': None, 'due_date': None, 'start_date': None, 'points': None, 'time_estimate': None, 'custom_fields': [], 'dependencies': [], 'linked_tasks': [], 'locations': [], 'team_id': '12927880', 'url': 'https://app.clickup.com/t/86a4q5wyp', 'sharing': {'public': False, 'public_share_expires_on': None, 'public_fields': ['assignees', 'priority', 'due_date', 'content', 'comments', 'attachments', 'customFields', 'subtasks', 'tags', 'checklists', 'coverimage'], 'token': None, 'seo_optimized': False}, 'permission_level': 'create', 'list': {'id': '901304909413', 'name': 'clickup_agent', 'access': True}, 'project': {'id': '90132806032', 'name': 'agente clickup playgroud (ana beatriz)', 'hidden': False, 'access': True}, 'folder': {'id': '90132806032', 'name': 'agente clickup playgroud (ana beatriz)', 'hidden': False, 'access': True}, 'space': {'id': '54804921'}}, {'id': '86a4q5wm2', 'custom_id': None, 'custom_item_id': 0, 'name': '(2024-08-27 19:03:52.393435): ALVENARIA', 'text_content': '', 'description': '', 'status': {'status': 'backlog', 'id': 'p54804921_1gR1N0KG', 'color': '#9c09bc', 'type': 'open', 'orderindex': 0}, 'orderindex': '119424771.00000000000000000000000000000000', 'date_created': '1724796246591', 'date_updated': '1724796246591', 'date_closed': None, 'date_done': None, 'archived': False, 'creator': {'id': 82061927, 'username': 'Rafael Alves Magalhães', 'color': '', 'email': 'magalhaesrafael07@gmail.com', 'profilePicture': None}, 'assignees': [], 'group_assignees': [], 'watchers': [{'id': 82061927, 'username': 'Rafael Alves Magalhães', 'color': '', 'initials': 'RM', 'email': 'magalhaesrafael07@gmail.com', 'profilePicture': None}], 'checklists': [], 'tags': [], 'parent': None, 'priority': None, 'due_date': None, 'start_date': None, 'points': None, 'time_estimate': None, 'custom_fields': [], 'dependencies': [], 'linked_tasks': [], 'locations': [], 'team_id': '12927880', 'url': 'https://app.clickup.com/t/86a4q5wm2', 'sharing': {'public': False, 'public_share_expires_on': None, 'public_fields': ['assignees', 'priority', 'due_date', 'content', 'comments', 'attachments', 'customFields', 'subtasks', 'tags', 'checklists', 'coverimage'], 'token': None, 'seo_optimized': False}, 'permission_level': 'create', 'list': {'id': '901304909413', 'name': 'clickup_agent', 'access': True}, 'project': {'id': '90132806032', 'name': 'agente clickup playgroud (ana beatriz)', 'hidden': False, 'access': True}, 'folder': {'id': '90132806032', 'name': 'agente clickup playgroud (ana beatriz)', 'hidden': False, 'access': True}, 'space': {'id': '54804921'}}, {'id': '86a4q5wk5', 'custom_id': None, 'custom_item_id': 0, 'name': '(2024-08-27 19:03:52.393435): FUNDAÇÃO', 'text_content': '', 'description': '', 'status': {'status': 'backlog', 'id': 'p54804921_1gR1N0KG', 'color': '#9c09bc', 'type': 'open', 'orderindex': 0}, 'orderindex': '119424770.00000000000000000000000000000000', 'date_created': '1724796244589', 'date_updated': '1724796244589', 'date_closed': None, 'date_done': None, 'archived': False, 'creator': {'id': 82061927, 'username': 'Rafael Alves Magalhães', 'color': '', 'email': 'magalhaesrafael07@gmail.com', 'profilePicture': None}, 'assignees': [], 'group_assignees': [], 'watchers': [{'id': 82061927, 'username': 'Rafael Alves Magalhães', 'color': '', 'initials': 'RM', 'email': 'magalhaesrafael07@gmail.com', 'profilePicture': None}], 'checklists': [], 'tags': [], 'parent': None, 'priority': None, 'due_date': None, 'start_date': None, 'points': None, 'time_estimate': None, 'custom_fields': [], 'dependencies': [{'task_id': '86a4q5jzb', 'depends_on': '86a4q5wk5', 'type': 1, 'date_created': '1724796718750', 'userid': '84141406', 'workspace_id': '12927880', 'chain_id': None}], 'linked_tasks': [], 'locations': [], 'team_id': '12927880', 'url': 'https://app.clickup.com/t/86a4q5wk5', 'sharing': {'public': False, 'public_share_expires_on': None, 'public_fields': ['assignees', 'priority', 'due_date', 'content', 'comments', 'attachments', 'customFields', 'subtasks', 'tags', 'checklists', 'coverimage'], 'token': None, 'seo_optimized': False}, 'permission_level': 'create', 'list': {'id': '901304909413', 'name': 'clickup_agent', 'access': True}, 'project': {'id': '90132806032', 'name': 'agente clickup playgroud (ana beatriz)', 'hidden': False, 'access': True}, 'folder': {'id': '90132806032', 'name': 'agente clickup playgroud (ana beatriz)', 'hidden': False, 'access': True}, 'space': {'id': '54804921'}}, {'id': '86a4q5wgm', 'custom_id': None, 'custom_item_id': 0, 'name': '(2024-08-27 19:03:52.393435): NOVO TESTE BEM SUCEDIDO', 'text_content': '', 'description': '', 'status': {'status': 'backlog', 'id': 'p54804921_1gR1N0KG', 'color': '#9c09bc', 'type': 'open', 'orderindex': 0}, 'orderindex': '119424769.00000000000000000000000000000000', 'date_created': '1724796237761', 'date_updated': '1724796237761', 'date_closed': None, 'date_done': None, 'archived': False, 'creator': {'id': 82061927, 'username': 'Rafael Alves Magalhães', 'color': '', 'email': 'magalhaesrafael07@gmail.com', 'profilePicture': None}, 'assignees': [], 'group_assignees': [], 'watchers': [{'id': 82061927, 'username': 'Rafael Alves Magalhães', 'color': '', 'initials': 'RM', 'email': 'magalhaesrafael07@gmail.com', 'profilePicture': None}], 'checklists': [], 'tags': [], 'parent': None, 'priority': None, 'due_date': None, 'start_date': None, 'points': None, 'time_estimate': None, 'custom_fields': [], 'dependencies': [], 'linked_tasks': [], 'locations': [], 'team_id': '12927880', 'url': 'https://app.clickup.com/t/86a4q5wgm', 'sharing': {'public': False, 'public_share_expires_on': None, 'public_fields': ['assignees', 'priority', 'due_date', 'content', 'comments', 'attachments', 'customFields', 'subtasks', 'tags', 'checklists', 'coverimage'], 'token': None, 'seo_optimized': False}, 'permission_level': 'create', 'list': {'id': '901304909413', 'name': 'clickup_agent', 'access': True}, 'project': {'id': '90132806032', 'name': 'agente clickup playgroud (ana beatriz)', 'hidden': False, 'access': True}, 'folder': {'id': '90132806032', 'name': 'agente clickup playgroud (ana beatriz)', 'hidden': False, 'access': True}, 'space': {'id': '54804921'}}, {'id': '86a4q5uy9', 'custom_id': None, 'custom_item_id': 0, 'name': '(2024-08-27 19:01:36.986836): NOVÍSSIMO TESTE BEM SUCEDIDO', 'text_content': '', 'description': '', 'status': {'status': 'backlog', 'id': 'p54804921_1gR1N0KG', 'color': '#9c09bc', 'type': 'open', 'orderindex': 0}, 'orderindex': '119424768.00000000000000000000000000000000', 'date_created': '1724796100244', 'date_updated': '1724796100244', 'date_closed': None, 'date_done': None, 'archived': False, 'creator': {'id': 82061927, 'username': 'Rafael Alves Magalhães', 'color': '', 'email': 'magalhaesrafael07@gmail.com', 'profilePicture': None}, 'assignees': [], 'group_assignees': [], 'watchers': [{'id': 82061927, 'username': 'Rafael Alves Magalhães', 'color': '', 'initials': 'RM', 'email': 'magalhaesrafael07@gmail.com', 'profilePicture': None}], 'checklists': [], 'tags': [], 'parent': None, 'priority': None, 'due_date': None, 'start_date': None, 'points': None, 'time_estimate': None, 'custom_fields': [], 'dependencies': [], 'linked_tasks': [], 'locations': [], 'team_id': '12927880', 'url': 'https://app.clickup.com/t/86a4q5uy9', 'sharing': {'public': False, 'public_share_expires_on': None, 'public_fields': ['assignees', 'priority', 'due_date', 'content', 'comments', 'attachments', 'customFields', 'subtasks', 'tags', 'checklists', 'coverimage'], 'token': None, 'seo_optimized': False}, 'permission_level': 'create', 'list': {'id': '901304909413', 'name': 'clickup_agent', 'access': True}, 'project': {'id': '90132806032', 'name': 'agente clickup playgroud (ana beatriz)', 'hidden': False, 'access': True}, 'folder': {'id': '90132806032', 'name': 'agente clickup playgroud (ana beatriz)', 'hidden': False, 'access': True}, 'space': {'id': '54804921'}}, {'id': '86a4q5pmk', 'custom_id': None, 'custom_item_id': 0, 'name': '(2024-08-27 18:53:56.810531): ALVENARIA', 'text_content': '', 'description': '', 'status': {'status': 'backlog', 'id': 'p54804921_1gR1N0KG', 'color': '#9c09bc', 'type': 'open', 'orderindex': 0}, 'orderindex': '119424765.00000000000000000000000000000000', 'date_created': '1724795647968', 'date_updated': '1724795647968', 'date_closed': None, 'date_done': None, 'archived': False, 'creator': {'id': 82061927, 'username': 'Rafael Alves Magalhães', 'color': '', 'email': 'magalhaesrafael07@gmail.com', 'profilePicture': None}, 'assignees': [], 'group_assignees': [], 'watchers': [{'id': 82061927, 'username': 'Rafael Alves Magalhães', 'color': '', 'initials': 'RM', 'email': 'magalhaesrafael07@gmail.com', 'profilePicture': None}], 'checklists': [], 'tags': [], 'parent': None, 'priority': None, 'due_date': None, 'start_date': None, 'points': None, 'time_estimate': None, 'custom_fields': [], 'dependencies': [], 'linked_tasks': [], 'locations': [], 'team_id': '12927880', 'url': 'https://app.clickup.com/t/86a4q5pmk', 'sharing': {'public': False, 'public_share_expires_on': None, 'public_fields': ['assignees', 'priority', 'due_date', 'content', 'comments', 'attachments', 'customFields', 'subtasks', 'tags', 'checklists', 'coverimage'], 'token': None, 'seo_optimized': False}, 'permission_level': 'create', 'list': {'id': '901304909413', 'name': 'clickup_agent', 'access': True}, 'project': {'id': '90132806032', 'name': 'agente clickup playgroud (ana beatriz)', 'hidden': False, 'access': True}, 'folder': {'id': '90132806032', 'name': 'agente clickup playgroud (ana beatriz)', 'hidden': False, 'access': True}, 'space': {'id': '54804921'}}, {'id': '86a4q5pkj', 'custom_id': None, 'custom_item_id': 0, 'name': '(2024-08-27 18:53:56.810531): FUNDAÇÃO', 'text_content': '', 'description': '', 'status': {'status': 'backlog', 'id': 'p54804921_1gR1N0KG', 'color': '#9c09bc', 'type': 'open', 'orderindex': 0}, 'orderindex': '119424764.00000000000000000000000000000000', 'date_created': '1724795645635', 'date_updated': '1724795645635', 'date_closed': None, 'date_done': None, 'archived': False, 'creator': {'id': 82061927, 'username': 'Rafael Alves Magalhães', 'color': '', 'email': 'magalhaesrafael07@gmail.com', 'profilePicture': None}, 'assignees': [], 'group_assignees': [], 'watchers': [{'id': 82061927, 'username': 'Rafael Alves Magalhães', 'color': '', 'initials': 'RM', 'email': 'magalhaesrafael07@gmail.com', 'profilePicture': None}], 'checklists': [], 'tags': [], 'parent': None, 'priority': None, 'due_date': None, 'start_date': None, 'points': None, 'time_estimate': None, 'custom_fields': [], 'dependencies': [], 'linked_tasks': [], 'locations': [], 'team_id': '12927880', 'url': 'https://app.clickup.com/t/86a4q5pkj', 'sharing': {'public': False, 'public_share_expires_on': None, 'public_fields': ['assignees', 'priority', 'due_date', 'content', 'comments', 'attachments', 'customFields', 'subtasks', 'tags', 'checklists', 'coverimage'], 'token': None, 'seo_optimized': False}, 'permission_level': 'create', 'list': {'id': '901304909413', 'name': 'clickup_agent', 'access': True}, 'project': {'id': '90132806032', 'name': 'agente clickup playgroud (ana beatriz)', 'hidden': False, 'access': True}, 'folder': {'id': '90132806032', 'name': 'agente clickup playgroud (ana beatriz)', 'hidden': False, 'access': True}, 'space': {'id': '54804921'}}, {'id': '86a4q5pg8', 'custom_id': None, 'custom_item_id': 0, 'name': '(2024-08-27 18:53:56.810531): NOVO TESTE BEM SUCEDIDO', 'text_content': '', 'description': '', 'status': {'status': 'backlog', 'id': 'p54804921_1gR1N0KG', 'color': '#9c09bc', 'type': 'open', 'orderindex': 0}, 'orderindex': '119424763.00000000000000000000000000000000', 'date_created': '1724795640384', 'date_updated': '1724795640384', 'date_closed': None, 'date_done': None, 'archived': False, 'creator': {'id': 82061927, 'username': 'Rafael Alves Magalhães', 'color': '', 'email': 'magalhaesrafael07@gmail.com', 'profilePicture': None}, 'assignees': [], 'group_assignees': [], 'watchers': [{'id': 82061927, 'username': 'Rafael Alves Magalhães', 'color': '', 'initials': 'RM', 'email': 'magalhaesrafael07@gmail.com', 'profilePicture': None}], 'checklists': [], 'tags': [], 'parent': None, 'priority': None, 'due_date': None, 'start_date': None, 'points': None, 'time_estimate': None, 'custom_fields': [], 'dependencies': [], 'linked_tasks': [], 'locations': [], 'team_id': '12927880', 'url': 'https://app.clickup.com/t/86a4q5pg8', 'sharing': {'public': False, 'public_share_expires_on': None, 'public_fields': ['assignees', 'priority', 'due_date', 'content', 'comments', 'attachments', 'customFields', 'subtasks', 'tags', 'checklists', 'coverimage'], 'token': None, 'seo_optimized': False}, 'permission_level': 'create', 'list': {'id': '901304909413', 'name': 'clickup_agent', 'access': True}, 'project': {'id': '90132806032', 'name': 'agente clickup playgroud (ana beatriz)', 'hidden': False, 'access': True}, 'folder': {'id': '90132806032', 'name': 'agente clickup playgroud (ana beatriz)', 'hidden': False, 'access': True}, 'space': {'id': '54804921'}}, {'id': '86a4q5jzb', 'custom_id': None, 'custom_item_id': 0, 'name': '(2024-08-27 18:48:25.780898): ALVENARIA', 'text_content': '', 'description': '', 'status': {'status': 'backlog', 'id': 'p54804921_1gR1N0KG', 'color': '#9c09bc', 'type': 'open', 'orderindex': 0}, 'orderindex': '119424762.00000000000000000000000000000000', 'date_created': '1724795322464', 'date_updated': '1724797708937', 'date_closed': None, 'date_done': None, 'archived': False, 'creator': {'id': 82061927, 'username': 'Rafael Alves Magalhães', 'color': '', 'email': 'magalhaesrafael07@gmail.com', 'profilePicture': None}, 'assignees': [], 'group_assignees': [], 'watchers': [{'id': 82061927, 'username': 'Rafael Alves Magalhães', 'color': '', 'initials': 'RM', 'email': 'magalhaesrafael07@gmail.com', 'profilePicture': None}], 'checklists': [], 'tags': [], 'parent': None, 'priority': None, 'due_date': '1724742000000', 'start_date': None, 'points': None, 'time_estimate': None, 'custom_fields': [], 'dependencies': [{'task_id': '86a4q5jzb', 'depends_on': '86a4q5jyh', 'type': 1, 'date_created': '1724796846663', 'userid': '82061927', 'workspace_id': '12927880', 'chain_id': None}, {'task_id': '86a4q5jzb', 'depends_on': '86a4q5wk5', 'type': 1, 'date_created': '1724796718750', 'userid': '84141406', 'workspace_id': '12927880', 'chain_id': None}], 'linked_tasks': [], 'locations': [], 'team_id': '12927880', 'url': 'https://app.clickup.com/t/86a4q5jzb', 'sharing': {'public': False, 'public_share_expires_on': None, 'public_fields': ['assignees', 'priority', 'due_date', 'content', 'comments', 'attachments', 'customFields', 'subtasks', 'tags', 'checklists', 'coverimage'], 'token': None, 'seo_optimized': False}, 'permission_level': 'create', 'list': {'id': '901304909413', 'name': 'clickup_agent', 'access': True}, 'project': {'id': '90132806032', 'name': 'agente clickup playgroud (ana beatriz)', 'hidden': False, 'access': True}, 'folder': {'id': '90132806032', 'name': 'agente clickup playgroud (ana beatriz)', 'hidden': False, 'access': True}, 'space': {'id': '54804921'}}, {'id': '86a4q5jyh', 'custom_id': None, 'custom_item_id': 0, 'name': '(2024-08-27 18:48:25.780898): FUNDAÇÃO', 'text_content': '', 'description': '', 'status': {'status': 'backlog', 'id': 'p54804921_1gR1N0KG', 'color': '#9c09bc', 'type': 'open', 'orderindex': 0}, 'orderindex': '119424761.00000000000000000000000000000000', 'date_created': '1724795320296', 'date_updated': '1724795320296', 'date_closed': None, 'date_done': None, 'archived': False, 'creator': {'id': 82061927, 'username': 'Rafael Alves Magalhães', 'color': '', 'email': 'magalhaesrafael07@gmail.com', 'profilePicture': None}, 'assignees': [], 'group_assignees': [], 'watchers': [{'id': 82061927, 'username': 'Rafael Alves Magalhães', 'color': '', 'initials': 'RM', 'email': 'magalhaesrafael07@gmail.com', 'profilePicture': None}], 'checklists': [], 'tags': [], 'parent': None, 'priority': None, 'due_date': None, 'start_date': None, 'points': None, 'time_estimate': None, 'custom_fields': [], 'dependencies': [{'task_id': '86a4q5jzb', 'depends_on': '86a4q5jyh', 'type': 1, 'date_created': '1724796846663', 'userid': '82061927', 'workspace_id': '12927880', 'chain_id': None}], 'linked_tasks': [], 'locations': [], 'team_id': '12927880', 'url': 'https://app.clickup.com/t/86a4q5jyh', 'sharing': {'public': False, 'public_share_expires_on': None, 'public_fields': ['assignees', 'priority', 'due_date', 'content', 'comments', 'attachments', 'customFields', 'subtasks', 'tags', 'checklists', 'coverimage'], 'token': None, 'seo_optimized': False}, 'permission_level': 'create', 'list': {'id': '901304909413', 'name': 'clickup_agent', 'access': True}, 'project': {'id': '90132806032', 'name': 'agente clickup playgroud (ana beatriz)', 'hidden': False, 'access': True}, 'folder': {'id': '90132806032', 'name': 'agente clickup playgroud (ana beatriz)', 'hidden': False, 'access': True}, 'space': {'id': '54804921'}}, {'id': '86a4q5jvz', 'custom_id': None, 'custom_item_id': 0, 'name': '(2024-08-27 18:48:25.780898): NOVO TESTE BEM SUCEDIDO', 'text_content': '', 'description': '', 'status': {'status': 'backlog', 'id': 'p54804921_1gR1N0KG', 'color': '#9c09bc', 'type': 'open', 'orderindex': 0}, 'orderindex': '119424760.00000000000000000000000000000000', 'date_created': '1724795312345', 'date_updated': '1724795312345', 'date_closed': None, 'date_done': None, 'archived': False, 'creator': {'id': 82061927, 'username': 'Rafael Alves Magalhães', 'color': '', 'email': 'magalhaesrafael07@gmail.com', 'profilePicture': None}, 'assignees': [], 'group_assignees': [], 'watchers': [{'id': 82061927, 'username': 'Rafael Alves Magalhães', 'color': '', 'initials': 'RM', 'email': 'magalhaesrafael07@gmail.com', 'profilePicture': None}], 'checklists': [], 'tags': [], 'parent': None, 'priority': None, 'due_date': None, 'start_date': None, 'points': None, 'time_estimate': None, 'custom_fields': [], 'dependencies': [], 'linked_tasks': [], 'locations': [], 'team_id': '12927880', 'url': 'https://app.clickup.com/t/86a4q5jvz', 'sharing': {'public': False, 'public_share_expires_on': None, 'public_fields': ['assignees', 'priority', 'due_date', 'content', 'comments', 'attachments', 'customFields', 'subtasks', 'tags', 'checklists', 'coverimage'], 'token': None, 'seo_optimized': False}, 'permission_level': 'create', 'list': {'id': '901304909413', 'name': 'clickup_agent', 'access': True}, 'project': {'id': '90132806032', 'name': 'agente clickup playgroud (ana beatriz)', 'hidden': False, 'access': True}, 'folder': {'id': '90132806032', 'name': 'agente clickup playgroud (ana beatriz)', 'hidden': False, 'access': True}, 'space': {'id': '54804921'}}, {'id': '86a4q3yd1', 'custom_id': None, 'custom_item_id': 0, 'name': 'TESTE BEM SUCEDIDO', 'text_content': '', 'description': '', 'status': {'status': 'backlog', 'id': 'p54804921_1gR1N0KG', 'color': '#9c09bc', 'type': 'open', 'orderindex': 0}, 'orderindex': '119424757.00000000000000000000000000000000', 'date_created': '1724788522006', 'date_updated': '1724788522006', 'date_closed': None, 'date_done': None, 'archived': False, 'creator': {'id': 82061927, 'username': 'Rafael Alves Magalhães', 'color': '', 'email': 'magalhaesrafael07@gmail.com', 'profilePicture': None}, 'assignees': [], 'group_assignees': [], 'watchers': [{'id': 82061927, 'username': 'Rafael Alves Magalhães', 'color': '', 'initials': 'RM', 'email': 'magalhaesrafael07@gmail.com', 'profilePicture': None}], 'checklists': [], 'tags': [], 'parent': None, 'priority': None, 'due_date': None, 'start_date': None, 'points': None, 'time_estimate': None, 'custom_fields': [], 'dependencies': [], 'linked_tasks': [], 'locations': [], 'team_id': '12927880', 'url': 'https://app.clickup.com/t/86a4q3yd1', 'sharing': {'public': False, 'public_share_expires_on': None, 'public_fields': ['assignees', 'priority', 'due_date', 'content', 'comments', 'attachments', 'customFields', 'subtasks', 'tags', 'checklists', 'coverimage'], 'token': None, 'seo_optimized': False}, 'permission_level': 'create', 'list': {'id': '901304909413', 'name': 'clickup_agent', 'access': True}, 'project': {'id': '90132806032', 'name': 'agente clickup playgroud (ana beatriz)', 'hidden': False, 'access': True}, 'folder': {'id': '90132806032', 'name': 'agente clickup playgroud (ana beatriz)', 'hidden': False, 'access': True}, 'space': {'id': '54804921'}}, {'id': '86a4dv68v', 'custom_id': None, 'custom_item_id': 0, 'name': 'Criar materiais de treinamento e documentação técnica', 'text_content': 'Parte do Marco 5: Treinamento e Documentação', 'description': 'Parte do Marco 5: Treinamento e Documentação', 'status': {'status': 'backlog', 'id': 'p54804921_1gR1N0KG', 'color': '#9c09bc', 'type': 'open', 'orderindex': 0}, 'orderindex': '119424655.00000910000000000000000000000000', 'date_created': '1722635915857', 'date_updated': '1722635915857', 'date_closed': None, 'date_done': None, 'archived': False, 'creator': {'id': 81918955, 'username': 'João Guilherme Silva Morossini', 'color': '#81b1ff', 'email': 'joaog.morossini@gmail.com', 'profilePicture': 'https://attachments.clickup.com/profilePictures/81918955_kcK.jpg'}, 'assignees': [], 'group_assignees': [], 'watchers': [{'id': 81918955, 'username': 'João Guilherme Silva Morossini', 'color': '#81b1ff', 'initials': 'JM', 'email': 'joaog.morossini@gmail.com', 'profilePicture': 'https://attachments.clickup.com/profilePictures/81918955_kcK.jpg'}], 'checklists': [], 'tags': [], 'parent': None, 'priority': None, 'due_date': None, 'start_date': None, 'points': None, 'time_estimate': None, 'custom_fields': [], 'dependencies': [], 'linked_tasks': [], 'locations': [], 'team_id': '12927880', 'url': 'https://app.clickup.com/t/86a4dv68v', 'sharing': {'public': False, 'public_share_expires_on': None, 'public_fields': ['assignees', 'priority', 'due_date', 'content', 'comments', 'attachments', 'customFields', 'subtasks', 'tags', 'checklists', 'coverimage'], 'token': None, 'seo_optimized': False}, 'permission_level': 'create', 'list': {'id': '901304909413', 'name': 'clickup_agent', 'access': True}, 'project': {'id': '90132806032', 'name': 'agente clickup playgroud (ana beatriz)', 'hidden': False, 'access': True}, 'folder': {'id': '90132806032', 'name': 'agente clickup playgroud (ana beatriz)', 'hidden': False, 'access': True}, 'space': {'id': '54804921'}}, {'id': '86a4dv68u', 'custom_id': None, 'custom_item_id': 0, 'name': 'Fornecer serviços de manutenção e suporte pós-implantação', 'text_content': 'Parte do Marco 6: Implantação e Suporte', 'description': 'Parte do Marco 6: Implantação e Suporte', 'status': {'status': 'backlog', 'id': 'p54804921_1gR1N0KG', 'color': '#9c09bc', 'type': 'open', 'orderindex': 0}, 'orderindex': '119424655.00000000000000000000000000000000', 'date_created': '1722635915830', 'date_updated': '1722635915830', 'date_closed': None, 'date_done': None, 'archived': False, 'creator': {'id': 81918955, 'username': 'João Guilherme Silva Morossini', 'color': '#81b1ff', 'email': 'joaog.morossini@gmail.com', 'profilePicture': 'https://attachments.clickup.com/profilePictures/81918955_kcK.jpg'}, 'assignees': [], 'group_assignees': [], 'watchers': [{'id': 81918955, 'username': 'João Guilherme Silva Morossini', 'color': '#81b1ff', 'initials': 'JM', 'email': 'joaog.morossini@gmail.com', 'profilePicture': 'https://attachments.clickup.com/profilePictures/81918955_kcK.jpg'}], 'checklists': [], 'tags': [], 'parent': None, 'priority': None, 'due_date': None, 'start_date': None, 'points': None, 'time_estimate': None, 'custom_fields': [], 'dependencies': [], 'linked_tasks': [], 'locations': [], 'team_id': '12927880', 'url': 'https://app.clickup.com/t/86a4dv68u', 'sharing': {'public': False, 'public_share_expires_on': None, 'public_fields': ['assignees', 'priority', 'due_date', 'content', 'comments', 'attachments', 'customFields', 'subtasks', 'tags', 'checklists', 'coverimage'], 'token': None, 'seo_optimized': False}, 'permission_level': 'create', 'list': {'id': '901304909413', 'name': 'clickup_agent', 'access': True}, 'project': {'id': '90132806032', 'name': 'agente clickup playgroud (ana beatriz)', 'hidden': False, 'access': True}, 'folder': {'id': '90132806032', 'name': 'agente clickup playgroud (ana beatriz)', 'hidden': False, 'access': True}, 'space': {'id': '54804921'}}, {'id': '86a4dv68t', 'custom_id': None, 'custom_item_id': 0, 'name': 'Validar conformidade com GDPR, FDCPA e outras regulamentações aplicáveis', 'text_content': 'Parte do Marco 4: Testes e Validação', 'description': 'Parte do Marco 4: Testes e Validação', 'status': {'status': 'backlog', 'id': 'p54804921_1gR1N0KG', 'color': '#9c09bc', 'type': 'open', 'orderindex': 0}, 'orderindex': '119424654.00000000000000000000000000000000', 'date_created': '1722635915774', 'date_updated': '1722635915774', 'date_closed': None, 'date_done': None, 'archived': False, 'creator': {'id': 81918955, 'username': 'João Guilherme Silva Morossini', 'color': '#81b1ff', 'email': 'joaog.morossini@gmail.com', 'profilePicture': 'https://attachments.clickup.com/profilePictures/81918955_kcK.jpg'}, 'assignees': [], 'group_assignees': [], 'watchers': [{'id': 81918955, 'username': 'João Guilherme Silva Morossini', 'color': '#81b1ff', 'initials': 'JM', 'email': 'joaog.morossini@gmail.com', 'profilePicture': 'https://attachments.clickup.com/profilePictures/81918955_kcK.jpg'}], 'checklists': [], 'tags': [], 'parent': None, 'priority': None, 'due_date': None, 'start_date': None, 'points': None, 'time_estimate': None, 'custom_fields': [], 'dependencies': [], 'linked_tasks': [], 'locations': [], 'team_id': '12927880', 'url': 'https://app.clickup.com/t/86a4dv68t', 'sharing': {'public': False, 'public_share_expires_on': None, 'public_fields': ['assignees', 'priority', 'due_date', 'content', 'comments', 'attachments', 'customFields', 'subtasks', 'tags', 'checklists', 'coverimage'], 'token': None, 'seo_optimized': False}, 'permission_level': 'create', 'list': {'id': '901304909413', 'name': 'clickup_agent', 'access': True}, 'project': {'id': '90132806032', 'name': 'agente clickup playgroud (ana beatriz)', 'hidden': False, 'access': True}, 'folder': {'id': '90132806032', 'name': 'agente clickup playgroud (ana beatriz)', 'hidden': False, 'access': True}, 'space': {'id': '54804921'}}, {'id': '86a4dv68r', 'custom_id': None, 'custom_item_id': 0, 'name': 'Implantar o agente de IA no ambiente do cliente', 'text_content': 'Parte do Marco 6: Implantação e Suporte', 'description': 'Parte do Marco 6: Implantação e Suporte', 'status': {'status': 'backlog', 'id': 'p54804921_1gR1N0KG', 'color': '#9c09bc', 'type': 'open', 'orderindex': 0}, 'orderindex': '119424653.00000771000000000000000000000000', 'date_created': '1722635915713', 'date_updated': '1722635915713', 'date_closed': None, 'date_done': None, 'archived': False, 'creator': {'id': 81918955, 'username': 'João Guilherme Silva Morossini', 'color': '#81b1ff', 'email': 'joaog.morossini@gmail.com', 'profilePicture': 'https://attachments.clickup.com/profilePictures/81918955_kcK.jpg'}, 'assignees': [], 'group_assignees': [], 'watchers': [{'id': 81918955, 'username': 'João Guilherme Silva Morossini', 'color': '#81b1ff', 'initials': 'JM', 'email': 'joaog.morossini@gmail.com', 'profilePicture': 'https://attachments.clickup.com/profilePictures/81918955_kcK.jpg'}], 'checklists': [], 'tags': [], 'parent': None, 'priority': None, 'due_date': None, 'start_date': None, 'points': None, 'time_estimate': None, 'custom_fields': [], 'dependencies': [], 'linked_tasks': [], 'locations': [], 'team_id': '12927880', 'url': 'https://app.clickup.com/t/86a4dv68r', 'sharing': {'public': False, 'public_share_expires_on': None, 'public_fields': ['assignees', 'priority', 'due_date', 'content', 'comments', 'attachments', 'customFields', 'subtasks', 'tags', 'checklists', 'coverimage'], 'token': None, 'seo_optimized': False}, 'permission_level': 'create', 'list': {'id': '901304909413', 'name': 'clickup_agent', 'access': True}, 'project': {'id': '90132806032', 'name': 'agente clickup playgroud (ana beatriz)', 'hidden': False, 'access': True}, 'folder': {'id': '90132806032', 'name': 'agente clickup playgroud (ana beatriz)', 'hidden': False, 'access': True}, 'space': {'id': '54804921'}}, {'id': '86a4dv68q', 'custom_id': None, 'custom_item_id': 0, 'name': 'Integrar o agente de IA com a API do WhatsApp', 'text_content': 'Parte do Marco 2: Desenvolvimento do Agente de IA', 'description': 'Parte do Marco 2: Desenvolvimento do Agente de IA', 'status': {'status': 'backlog', 'id': 'p54804921_1gR1N0KG', 'color': '#9c09bc', 'type': 'open', 'orderindex': 0}, 'orderindex': '119424653.00000385000000000000000000000000', 'date_created': '1722635915689', 'date_updated': '1722635915689', 'date_closed': None, 'date_done': None, 'archived': False, 'creator': {'id': 81918955, 'username': 'João Guilherme Silva Morossini', 'color': '#81b1ff', 'email': 'joaog.morossini@gmail.com', 'profilePicture': 'https://attachments.clickup.com/profilePictures/81918955_kcK.jpg'}, 'assignees': [], 'group_assignees': [], 'watchers': [{'id': 81918955, 'username': 'João Guilherme Silva Morossini', 'color': '#81b1ff', 'initials': 'JM', 'email': 'joaog.morossini@gmail.com', 'profilePicture': 'https://attachments.clickup.com/profilePictures/81918955_kcK.jpg'}], 'checklists': [], 'tags': [], 'parent': None, 'priority': None, 'due_date': None, 'start_date': None, 'points': None, 'time_estimate': None, 'custom_fields': [], 'dependencies': [], 'linked_tasks': [], 'locations': [], 'team_id': '12927880', 'url': 'https://app.clickup.com/t/86a4dv68q', 'sharing': {'public': False, 'public_share_expires_on': None, 'public_fields': ['assignees', 'priority', 'due_date', 'content', 'comments', 'attachments', 'customFields', 'subtasks', 'tags', 'checklists', 'coverimage'], 'token': None, 'seo_optimized': False}, 'permission_level': 'create', 'list': {'id': '901304909413', 'name': 'clickup_agent', 'access': True}, 'project': {'id': '90132806032', 'name': 'agente clickup playgroud (ana beatriz)', 'hidden': False, 'access': True}, 'folder': {'id': '90132806032', 'name': 'agente clickup playgroud (ana beatriz)', 'hidden': False, 'access': True}, 'space': {'id': '54804921'}}, {'id': '86a4dv68p', 'custom_id': None, 'custom_item_id': 0, 'name': 'Treinar a equipe do cliente no uso do agente de IA', 'text_content': 'Parte do Marco 5: Treinamento e Documentação', 'description': 'Parte do Marco 5: Treinamento e Documentação', 'status': {'status': 'backlog', 'id': 'p54804921_1gR1N0KG', 'color': '#9c09bc', 'type': 'open', 'orderindex': 0}, 'orderindex': '119424653.00000354000000000000000000000000', 'date_created': '1722635915679', 'date_updated': '1722635915679', 'date_closed': None, 'date_done': None, 'archived': False, 'creator': {'id': 81918955, 'username': 'João Guilherme Silva Morossini', 'color': '#81b1ff', 'email': 'joaog.morossini@gmail.com', 'profilePicture': 'https://attachments.clickup.com/profilePictures/81918955_kcK.jpg'}, 'assignees': [], 'group_assignees': [], 'watchers': [{'id': 81918955, 'username': 'João Guilherme Silva Morossini', 'color': '#81b1ff', 'initials': 'JM', 'email': 'joaog.morossini@gmail.com', 'profilePicture': 'https://attachments.clickup.com/profilePictures/81918955_kcK.jpg'}], 'checklists': [], 'tags': [], 'parent': None, 'priority': None, 'due_date': None, 'start_date': None, 'points': None, 'time_estimate': None, 'custom_fields': [], 'dependencies': [], 'linked_tasks': [], 'locations': [], 'team_id': '12927880', 'url': 'https://app.clickup.com/t/86a4dv68p', 'sharing': {'public': False, 'public_share_expires_on': None, 'public_fields': ['assignees', 'priority', 'due_date', 'content', 'comments', 'attachments', 'customFields', 'subtasks', 'tags', 'checklists', 'coverimage'], 'token': None, 'seo_optimized': False}, 'permission_level': 'create', 'list': {'id': '901304909413', 'name': 'clickup_agent', 'access': True}, 'project': {'id': '90132806032', 'name': 'agente clickup playgroud (ana beatriz)', 'hidden': False, 'access': True}, 'folder': {'id': '90132806032', 'name': 'agente clickup playgroud (ana beatriz)', 'hidden': False, 'access': True}, 'space': {'id': '54804921'}}, {'id': '86a4dv68n', 'custom_id': None, 'custom_item_id': 0, 'name': 'Implementar módulo de relatórios para métricas de desempenho', 'text_content': 'Parte do Marco 3: Interface do Usuário', 'description': 'Parte do Marco 3: Interface do Usuário', 'status': {'status': 'backlog', 'id': 'p54804921_1gR1N0KG', 'color': '#9c09bc', 'type': 'open', 'orderindex': 0}, 'orderindex': '119424653.00000000000000000000000000000000', 'date_created': '1722635915647', 'date_updated': '1722635915647', 'date_closed': None, 'date_done': None, 'archived': False, 'creator': {'id': 81918955, 'username': 'João Guilherme Silva Morossini', 'color': '#81b1ff', 'email': 'joaog.morossini@gmail.com', 'profilePicture': 'https://attachments.clickup.com/profilePictures/81918955_kcK.jpg'}, 'assignees': [], 'group_assignees': [], 'watchers': [{'id': 81918955, 'username': 'João Guilherme Silva Morossini', 'color': '#81b1ff', 'initials': 'JM', 'email': 'joaog.morossini@gmail.com', 'profilePicture': 'https://attachments.clickup.com/profilePictures/81918955_kcK.jpg'}], 'checklists': [], 'tags': [], 'parent': None, 'priority': None, 'due_date': None, 'start_date': None, 'points': None, 'time_estimate': None, 'custom_fields': [], 'dependencies': [], 'linked_tasks': [], 'locations': [], 'team_id': '12927880', 'url': 'https://app.clickup.com/t/86a4dv68n', 'sharing': {'public': False, 'public_share_expires_on': None, 'public_fields': ['assignees', 'priority', 'due_date', 'content', 'comments', 'attachments', 'customFields', 'subtasks', 'tags', 'checklists', 'coverimage'], 'token': None, 'seo_optimized': False}, 'permission_level': 'create', 'list': {'id': '901304909413', 'name': 'clickup_agent', 'access': True}, 'project': {'id': '90132806032', 'name': 'agente clickup playgroud (ana beatriz)', 'hidden': False, 'access': True}, 'folder': {'id': '90132806032', 'name': 'agente clickup playgroud (ana beatriz)', 'hidden': False, 'access': True}, 'space': {'id': '54804921'}}, {'id': '86a4dv68m', 'custom_id': None, 'custom_item_id': 0, 'name': 'Realizar testes de integração e segurança', 'text_content': 'Parte do Marco 4: Testes e Validação', 'description': 'Parte do Marco 4: Testes e Validação', 'status': {'status': 'backlog', 'id': 'p54804921_1gR1N0KG', 'color': '#9c09bc', 'type': 'open', 'orderindex': 0}, 'orderindex': '119424653.00000486000000000000000000000000', 'date_created': '1722635915634', 'date_updated': '1722635915634', 'date_closed': None, 'date_done': None, 'archived': False, 'creator': {'id': 81918955, 'username': 'João Guilherme Silva Morossini', 'color': '#81b1ff', 'email': 'joaog.morossini@gmail.com', 'profilePicture': 'https://attachments.clickup.com/profilePictures/81918955_kcK.jpg'}, 'assignees': [], 'group_assignees': [], 'watchers': [{'id': 81918955, 'username': 'João Guilherme Silva Morossini', 'color': '#81b1ff', 'initials': 'JM', 'email': 'joaog.morossini@gmail.com', 'profilePicture': 'https://attachments.clickup.com/profilePictures/81918955_kcK.jpg'}], 'checklists': [], 'tags': [], 'parent': None, 'priority': None, 'due_date': None, 'start_date': None, 'points': None, 'time_estimate': None, 'custom_fields': [], 'dependencies': [], 'linked_tasks': [], 'locations': [], 'team_id': '12927880', 'url': 'https://app.clickup.com/t/86a4dv68m', 'sharing': {'public': False, 'public_share_expires_on': None, 'public_fields': ['assignees', 'priority', 'due_date', 'content', 'comments', 'attachments', 'customFields', 'subtasks', 'tags', 'checklists', 'coverimage'], 'token': None, 'seo_optimized': False}, 'permission_level': 'create', 'list': {'id': '901304909413', 'name': 'clickup_agent', 'access': True}, 'project': {'id': '90132806032', 'name': 'agente clickup playgroud (ana beatriz)', 'hidden': False, 'access': True}, 'folder': {'id': '90132806032', 'name': 'agente clickup playgroud (ana beatriz)', 'hidden': False, 'access': True}, 'space': {'id': '54804921'}}, {'id': '86a4dv68k', 'custom_id': None, 'custom_item_id': 0, 'name': 'Desenvolver o agente de IA com capacidade de NLU', 'text_content': 'Parte do Marco 2: Desenvolvimento do Agente de IA', 'description': 'Parte do Marco 2: Desenvolvimento do Agente de IA', 'status': {'status': 'backlog', 'id': 'p54804921_1gR1N0KG', 'color': '#9c09bc', 'type': 'open', 'orderindex': 0}, 'orderindex': '119424652.00000000000000000000000000000000', 'date_created': '1722635915544', 'date_updated': '1722635915544', 'date_closed': None, 'date_done': None, 'archived': False, 'creator': {'id': 81918955, 'username': 'João Guilherme Silva Morossini', 'color': '#81b1ff', 'email': 'joaog.morossini@gmail.com', 'profilePicture': 'https://attachments.clickup.com/profilePictures/81918955_kcK.jpg'}, 'assignees': [], 'group_assignees': [], 'watchers': [{'id': 81918955, 'username': 'João Guilherme Silva Morossini', 'color': '#81b1ff', 'initials': 'JM', 'email': 'joaog.morossini@gmail.com', 'profilePicture': 'https://attachments.clickup.com/profilePictures/81918955_kcK.jpg'}], 'checklists': [], 'tags': [], 'parent': None, 'priority': None, 'due_date': None, 'start_date': None, 'points': None, 'time_estimate': None, 'custom_fields': [], 'dependencies': [], 'linked_tasks': [], 'locations': [], 'team_id': '12927880', 'url': 'https://app.clickup.com/t/86a4dv68k', 'sharing': {'public': False, 'public_share_expires_on': None, 'public_fields': ['assignees', 'priority', 'due_date', 'content', 'comments', 'attachments', 'customFields', 'subtasks', 'tags', 'checklists', 'coverimage'], 'token': None, 'seo_optimized': False}, 'permission_level': 'create', 'list': {'id': '901304909413', 'name': 'clickup_agent', 'access': True}, 'project': {'id': '90132806032', 'name': 'agente clickup playgroud (ana beatriz)', 'hidden': False, 'access': True}, 'folder': {'id': '90132806032', 'name': 'agente clickup playgroud (ana beatriz)', 'hidden': False, 'access': True}, 'space': {'id': '54804921'}}, {'id': '86a4dv68j', 'custom_id': None, 'custom_item_id': 0, 'name': 'Desenvolver interface do usuário para monitoramento de conversas e resultados', 'text_content': 'Parte do Marco 3: Interface do Usuário', 'description': 'Parte do Marco 3: Interface do Usuário', 'status': {'status': 'backlog', 'id': 'p54804921_1gR1N0KG', 'color': '#9c09bc', 'type': 'open', 'orderindex': 0}, 'orderindex': '119424651.00000947000000000000000000000000', 'date_created': '1722635915414', 'date_updated': '1722635915414', 'date_closed': None, 'date_done': None, 'archived': False, 'creator': {'id': 81918955, 'username': 'João Guilherme Silva Morossini', 'color': '#81b1ff', 'email': 'joaog.morossini@gmail.com', 'profilePicture': 'https://attachments.clickup.com/profilePictures/81918955_kcK.jpg'}, 'assignees': [], 'group_assignees': [], 'watchers': [{'id': 81918955, 'username': 'João Guilherme Silva Morossini', 'color': '#81b1ff', 'initials': 'JM', 'email': 'joaog.morossini@gmail.com', 'profilePicture': 'https://attachments.clickup.com/profilePictures/81918955_kcK.jpg'}], 'checklists': [], 'tags': [], 'parent': None, 'priority': None, 'due_date': None, 'start_date': None, 'points': None, 'time_estimate': None, 'custom_fields': [], 'dependencies': [], 'linked_tasks': [], 'locations': [], 'team_id': '12927880', 'url': 'https://app.clickup.com/t/86a4dv68j', 'sharing': {'public': False, 'public_share_expires_on': None, 'public_fields': ['assignees', 'priority', 'due_date', 'content', 'comments', 'attachments', 'customFields', 'subtasks', 'tags', 'checklists', 'coverimage'], 'token': None, 'seo_optimized': False}, 'permission_level': 'create', 'list': {'id': '901304909413', 'name': 'clickup_agent', 'access': True}, 'project': {'id': '90132806032', 'name': 'agente clickup playgroud (ana beatriz)', 'hidden': False, 'access': True}, 'folder': {'id': '90132806032', 'name': 'agente clickup playgroud (ana beatriz)', 'hidden': False, 'access': True}, 'space': {'id': '54804921'}}, {'id': '86a4dv68h', 'custom_id': None, 'custom_item_id': 0, 'name': 'Garantir compatibilidade com sistemas de gerenciamento de banco de dados', 'text_content': 'Parte do Marco 2: Desenvolvimento do Agente de IA', 'description': 'Parte do Marco 2: Desenvolvimento do Agente de IA', 'status': {'status': 'backlog', 'id': 'p54804921_1gR1N0KG', 'color': '#9c09bc', 'type': 'open', 'orderindex': 0}, 'orderindex': '119424651.00000000000000000000000000000000', 'date_created': '1722635915390', 'date_updated': '1722635915390', 'date_closed': None, 'date_done': None, 'archived': False, 'creator': {'id': 81918955, 'username': 'João Guilherme Silva Morossini', 'color': '#81b1ff', 'email': 'joaog.morossini@gmail.com', 'profilePicture': 'https://attachments.clickup.com/profilePictures/81918955_kcK.jpg'}, 'assignees': [], 'group_assignees': [], 'watchers': [{'id': 81918955, 'username': 'João Guilherme Silva Morossini', 'color': '#81b1ff', 'initials': 'JM', 'email': 'joaog.morossini@gmail.com', 'profilePicture': 'https://attachments.clickup.com/profilePictures/81918955_kcK.jpg'}], 'checklists': [], 'tags': [], 'parent': None, 'priority': None, 'due_date': None, 'start_date': None, 'points': None, 'time_estimate': None, 'custom_fields': [], 'dependencies': [], 'linked_tasks': [], 'locations': [], 'team_id': '12927880', 'url': 'https://app.clickup.com/t/86a4dv68h', 'sharing': {'public': False, 'public_share_expires_on': None, 'public_fields': ['assignees', 'priority', 'due_date', 'content', 'comments', 'attachments', 'customFields', 'subtasks', 'tags', 'checklists', 'coverimage'], 'token': None, 'seo_optimized': False}, 'permission_level': 'create', 'list': {'id': '901304909413', 'name': 'clickup_agent', 'access': True}, 'project': {'id': '90132806032', 'name': 'agente clickup playgroud (ana beatriz)', 'hidden': False, 'access': True}, 'folder': {'id': '90132806032', 'name': 'agente clickup playgroud (ana beatriz)', 'hidden': False, 'access': True}, 'space': {'id': '54804921'}}, {'id': '86a4dv68g', 'custom_id': None, 'custom_item_id': 0, 'name': 'Definir requisitos técnicos e de segurança', 'text_content': 'Parte do Marco 1: Planejamento e Design', 'description': 'Parte do Marco 1: Planejamento e Design', 'status': {'status': 'backlog', 'id': 'p54804921_1gR1N0KG', 'color': '#9c09bc', 'type': 'open', 'orderindex': 0}, 'orderindex': '119424649.00000264000000000000000000000000', 'date_created': '1722635915121', 'date_updated': '1722635915121', 'date_closed': None, 'date_done': None, 'archived': False, 'creator': {'id': 81918955, 'username': 'João Guilherme Silva Morossini', 'color': '#81b1ff', 'email': 'joaog.morossini@gmail.com', 'profilePicture': 'https://attachments.clickup.com/profilePictures/81918955_kcK.jpg'}, 'assignees': [], 'group_assignees': [], 'watchers': [{'id': 81918955, 'username': 'João Guilherme Silva Morossini', 'color': '#81b1ff', 'initials': 'JM', 'email': 'joaog.morossini@gmail.com', 'profilePicture': 'https://attachments.clickup.com/profilePictures/81918955_kcK.jpg'}], 'checklists': [], 'tags': [], 'parent': None, 'priority': None, 'due_date': None, 'start_date': None, 'points': None, 'time_estimate': None, 'custom_fields': [], 'dependencies': [], 'linked_tasks': [], 'locations': [], 'team_id': '12927880', 'url': 'https://app.clickup.com/t/86a4dv68g', 'sharing': {'public': False, 'public_share_expires_on': None, 'public_fields': ['assignees', 'priority', 'due_date', 'content', 'comments', 'attachments', 'customFields', 'subtasks', 'tags', 'checklists', 'coverimage'], 'token': None, 'seo_optimized': False}, 'permission_level': 'create', 'list': {'id': '901304909413', 'name': 'clickup_agent', 'access': True}, 'project': {'id': '90132806032', 'name': 'agente clickup playgroud (ana beatriz)', 'hidden': False, 'access': True}, 'folder': {'id': '90132806032', 'name': 'agente clickup playgroud (ana beatriz)', 'hidden': False, 'access': True}, 'space': {'id': '54804921'}}, {'id': '86a4dv68f', 'custom_id': None, 'custom_item_id': 0, 'name': 'Criar documento de design do sistema para o agente de IA', 'text_content': 'Parte do Marco 1: Planejamento e Design', 'description': 'Parte do Marco 1: Planejamento e Design', 'status': {'status': 'backlog', 'id': 'p54804921_1gR1N0KG', 'color': '#9c09bc', 'type': 'open', 'orderindex': 0}, 'orderindex': '119424649.00000000000000000000000000000000', 'date_created': '1722635915101', 'date_updated': '1722635915101', 'date_closed': None, 'date_done': None, 'archived': False, 'creator': {'id': 81918955, 'username': 'João Guilherme Silva Morossini', 'color': '#81b1ff', 'email': 'joaog.morossini@gmail.com', 'profilePicture': 'https://attachments.clickup.com/profilePictures/81918955_kcK.jpg'}, 'assignees': [], 'group_assignees': [], 'watchers': [{'id': 81918955, 'username': 'João Guilherme Silva Morossini', 'color': '#81b1ff', 'initials': 'JM', 'email': 'joaog.morossini@gmail.com', 'profilePicture': 'https://attachments.clickup.com/profilePictures/81918955_kcK.jpg'}], 'checklists': [], 'tags': [], 'parent': None, 'priority': None, 'due_date': None, 'start_date': None, 'points': None, 'time_estimate': None, 'custom_fields': [], 'dependencies': [], 'linked_tasks': [], 'locations': [], 'team_id': '12927880', 'url': 'https://app.clickup.com/t/86a4dv68f', 'sharing': {'public': False, 'public_share_expires_on': None, 'public_fields': ['assignees', 'priority', 'due_date', 'content', 'comments', 'attachments', 'customFields', 'subtasks', 'tags', 'checklists', 'coverimage'], 'token': None, 'seo_optimized': False}, 'permission_level': 'create', 'list': {'id': '901304909413', 'name': 'clickup_agent', 'access': True}, 'project': {'id': '90132806032', 'name': 'agente clickup playgroud (ana beatriz)', 'hidden': False, 'access': True}, 'folder': {'id': '90132806032', 'name': 'agente clickup playgroud (ana beatriz)', 'hidden': False, 'access': True}, 'space': {'id': '54804921'}}, {'id': '86a4dv4gx', 'custom_id': None, 'custom_item_id': 0, 'name': 'Escopo', 'text_content': 'Project Scope Document: Development of Custom Autonomous AI Agent for Debt Collection via WhatsApp\\n\\nExecutive Summary\\nThe purpose of this project is to develop a custom autonomous Artificial Intelligence (AI) agent that will handle debt collection through the WhatsApp messaging platform. The AI agent will interact with debtors in a professional and compliant manner, with the goal of improving collection rates and efficiency while maintaining customer relations.\\n\\nObjectives\\nTo create an AI-driven debt collection solution integrated with WhatsApp.\\nTo enhance the efficiency of the debt collection process by reducing manual intervention.\\nTo ensure compliance with legal and ethical standards in debt collection practices.\\nTo provide effortless user experiences for both the client (debt collector) and the debtor.\\nTo implement natural language processing for understanding and responding to debtor queries appropriately.\\n\\nProject Deliverables\\nA comprehensive system design document for the AI agent.\\nAn integrated AI agent that can securely connect to existing customer databases.\\nA user interface on the client side for monitoring conversations and outcomes.\\nA reporting module for tracking performance metrics such as success rate and response time.\\nTraining materials and technical documentation.\\nMaintenance and support services for a specified period after deployment.\\n\\nTechnical Requirements\\nSecure integration with WhatsApp API.\\nAI framework capable of natural language understanding (NLU) and machine learning for continuous improvement.\\nCompatibility with various database management systems for accessing debtor information.\\nStrong encryption protocols to protect sensitive data during transmission and at rest.\\nScalability options to handle variable workload.\\n\\nConstraints\\nCompliance with the General Data Protection Regulation (GDPR), Fair Debt Collection Practices Act (FDCPA), or any applicable regional regulations.\\nHigh availability requirements to ensure the AI agent operates without interruption.\\nBudget limitations for development, operation, and maintenance phases.\\nTimelines for development and testing before the tool goes live.\\n\\nAssumptions\\nSufficient training data will be available for machine learning models to effectively interact with debtors.\\nClient’s current IT infrastructure can support the integration of the AI agent.\\nUsers will have basic familiarity with WhatsApp and web-based applications.\\n\\nRisks\\nPrivacy concerns may arise regarding handling and storing personal data.\\nPotential resistance from debtors to communicate with an AI agent instead of a human representative.\\nTechnical challenges related to AI understanding complex debtor inquiries.', 'description': 'Project Scope Document: Development of Custom Autonomous AI Agent for Debt Collection via WhatsApp\\n\\nExecutive Summary\\nThe purpose of this project is to develop a custom autonomous Artificial Intelligence (AI) agent that will handle debt collection through the WhatsApp messaging platform. The AI agent will interact with debtors in a professional and compliant manner, with the goal of improving collection rates and efficiency while maintaining customer relations.\\n\\nObjectives\\nTo create an AI-driven debt collection solution integrated with WhatsApp.\\nTo enhance the efficiency of the debt collection process by reducing manual intervention.\\nTo ensure compliance with legal and ethical standards in debt collection practices.\\nTo provide effortless user experiences for both the client (debt collector) and the debtor.\\nTo implement natural language processing for understanding and responding to debtor queries appropriately.\\n\\nProject Deliverables\\nA comprehensive system design document for the AI agent.\\nAn integrated AI agent that can securely connect to existing customer databases.\\nA user interface on the client side for monitoring conversations and outcomes.\\nA reporting module for tracking performance metrics such as success rate and response time.\\nTraining materials and technical documentation.\\nMaintenance and support services for a specified period after deployment.\\n\\nTechnical Requirements\\nSecure integration with WhatsApp API.\\nAI framework capable of natural language understanding (NLU) and machine learning for continuous improvement.\\nCompatibility with various database management systems for accessing debtor information.\\nStrong encryption protocols to protect sensitive data during transmission and at rest.\\nScalability options to handle variable workload.\\n\\nConstraints\\nCompliance with the General Data Protection Regulation (GDPR), Fair Debt Collection Practices Act (FDCPA), or any applicable regional regulations.\\nHigh availability requirements to ensure the AI agent operates without interruption.\\nBudget limitations for development, operation, and maintenance phases.\\nTimelines for development and testing before the tool goes live.\\n\\nAssumptions\\nSufficient training data will be available for machine learning models to effectively interact with debtors.\\nClient’s current IT infrastructure can support the integration of the AI agent.\\nUsers will have basic familiarity with WhatsApp and web-based applications.\\n\\nRisks\\nPrivacy concerns may arise regarding handling and storing personal data.\\nPotential resistance from debtors to communicate with an AI agent instead of a human representative.\\nTechnical challenges related to AI understanding complex debtor inquiries.', 'status': {'status': 'backlog', 'id': 'p54804921_1gR1N0KG', 'color': '#9c09bc', 'type': 'open', 'orderindex': 0}, 'orderindex': '119424648.00000000000000000000000000000000', 'date_created': '1722635480585', 'date_updated': '1722635598809', 'date_closed': None, 'date_done': None, 'archived': False, 'creator': {'id': 81918955, 'username': 'João Guilherme Silva Morossini', 'color': '#81b1ff', 'email': 'joaog.morossini@gmail.com', 'profilePicture': 'https://attachments.clickup.com/profilePictures/81918955_kcK.jpg'}, 'assignees': [], 'group_assignees': [], 'watchers': [{'id': 81918955, 'username': 'João Guilherme Silva Morossini', 'color': '#81b1ff', 'initials': 'JM', 'email': 'joaog.morossini@gmail.com', 'profilePicture': 'https://attachments.clickup.com/profilePictures/81918955_kcK.jpg'}], 'checklists': [], 'tags': [], 'parent': None, 'priority': None, 'due_date': None, 'start_date': None, 'points': None, 'time_estimate': None, 'custom_fields': [], 'dependencies': [], 'linked_tasks': [], 'locations': [], 'team_id': '12927880', 'url': 'https://app.clickup.com/t/86a4dv4gx', 'sharing': {'public': False, 'public_share_expires_on': None, 'public_fields': ['assignees', 'priority', 'due_date', 'content', 'comments', 'attachments', 'customFields', 'subtasks', 'tags', 'checklists', 'coverimage'], 'token': None, 'seo_optimized': False}, 'permission_level': 'create', 'list': {'id': '901304909413', 'name': 'clickup_agent', 'access': True}, 'project': {'id': '90132806032', 'name': 'agente clickup playgroud (ana beatriz)', 'hidden': False, 'access': True}, 'folder': {'id': '90132806032', 'name': 'agente clickup playgroud (ana beatriz)', 'hidden': False, 'access': True}, 'space': {'id': '54804921'}}], 'last_page': True}\n",
      "\u001b[36;1m\u001b[1;3mdata={'tasks': [{'id': '86a4r1ux8', 'custom_id': None, 'custom_item_id': 0, 'name': 'TESTE BEM SUCEDIDO04', 'text_content': '', 'description': '', 'status': {'status': 'backlog', 'id': 'p54804921_1gR1N0KG', 'color': '#9c09bc', 'type': 'open', 'orderindex': 0}, 'orderindex': '119424843.00000000000000000000000000000000', 'date_created': '1724956015230', 'date_updated': '1724956015230', 'date_closed': None, 'date_done': None, 'archived': False, 'creator': {'id': 84141406, 'username': 'Ana Beatriz', 'color': '#455963', 'email': 'ti@cogmo.com.br', 'profilePicture': 'https://attachments.clickup.com/profilePictures/84141406_ZkZ.jpg'}, 'assignees': [{'id': 82061927, 'username': 'Rafael Alves Magalhães', 'color': '', 'initials': 'RM', 'email': 'magalhaesrafael07@gmail.com', 'profilePicture': None}], 'group_assignees': [], 'watchers': [{'id': 84141406, 'username': 'Ana Beatriz', 'color': '#455963', 'initials': 'AB', 'email': 'ti@cogmo.com.br', 'profilePicture': 'https://attachments.clickup.com/profilePictures/84141406_ZkZ.jpg'}, {'id': 82061927, 'username': 'Rafael Alves Magalhães', 'color': '', 'initials': 'RM', 'email': 'magalhaesrafael07@gmail.com', 'profilePicture': None}], 'checklists': [], 'tags': [], 'parent': None, 'priority': None, 'due_date': None, 'start_date': None, 'points': None, 'time_estimate': None, 'custom_fields': [], 'dependencies': [], 'linked_tasks': [], 'locations': [], 'team_id': '12927880', 'url': 'https://app.clickup.com/t/86a4r1ux8', 'sharing': {'public': False, 'public_share_expires_on': None, 'public_fields': ['assignees', 'priority', 'due_date', 'content', 'comments', 'attachments', 'customFields', 'subtasks', 'tags', 'checklists', 'coverimage'], 'token': None, 'seo_optimized': False}, 'permission_level': 'create', 'list': {'id': '901304909413', 'name': 'clickup_agent', 'access': True}, 'project': {'id': '90132806032', 'name': 'agente clickup playgroud (ana beatriz)', 'hidden': False, 'access': True}, 'folder': {'id': '90132806032', 'name': 'agente clickup playgroud (ana beatriz)', 'hidden': False, 'access': True}, 'space': {'id': '54804921'}}, {'id': '86a4r1eey', 'custom_id': None, 'custom_item_id': 0, 'name': 'DEU CERTO', 'text_content': '', 'description': '', 'status': {'status': 'backlog', 'id': 'p54804921_1gR1N0KG', 'color': '#9c09bc', 'type': 'open', 'orderindex': 0}, 'orderindex': '119424837.00000000000000000000000000000000', 'date_created': '1724954597275', 'date_updated': '1724954597275', 'date_closed': None, 'date_done': None, 'archived': False, 'creator': {'id': 82061927, 'username': 'Rafael Alves Magalhães', 'color': '', 'email': 'magalhaesrafael07@gmail.com', 'profilePicture': None}, 'assignees': [], 'group_assignees': [], 'watchers': [{'id': 82061927, 'username': 'Rafael Alves Magalhães', 'color': '', 'initials': 'RM', 'email': 'magalhaesrafael07@gmail.com', 'profilePicture': None}], 'checklists': [], 'tags': [], 'parent': None, 'priority': None, 'due_date': None, 'start_date': None, 'points': None, 'time_estimate': None, 'custom_fields': [], 'dependencies': [], 'linked_tasks': [], 'locations': [], 'team_id': '12927880', 'url': 'https://app.clickup.com/t/86a4r1eey', 'sharing': {'public': False, 'public_share_expires_on': None, 'public_fields': ['assignees', 'priority', 'due_date', 'content', 'comments', 'attachments', 'customFields', 'subtasks', 'tags', 'checklists', 'coverimage'], 'token': None, 'seo_optimized': False}, 'permission_level': 'create', 'list': {'id': '901304909413', 'name': 'clickup_agent', 'access': True}, 'project': {'id': '90132806032', 'name': 'agente clickup playgroud (ana beatriz)', 'hidden': False, 'access': True}, 'folder': {'id': '90132806032', 'name': 'agente clickup playgroud (ana beatriz)', 'hidden': False, 'access': True}, 'space': {'id': '54804921'}}, {'id': '86a4qz2xm', 'custom_id': None, 'custom_item_id': 0, 'name': 'TESTE BEM SUCEDIDO04', 'text_content': '', 'description': '', 'status': {'status': 'backlog', 'id': 'p54804921_1gR1N0KG', 'color': '#9c09bc', 'type': 'open', 'orderindex': 0}, 'orderindex': '119424807.00000000000000000000000000000000', 'date_created': '1724947418613', 'date_updated': '1724947418613', 'date_closed': None, 'date_done': None, 'archived': False, 'creator': {'id': 84141406, 'username': 'Ana Beatriz', 'color': '#455963', 'email': 'ti@cogmo.com.br', 'profilePicture': 'https://attachments.clickup.com/profilePictures/84141406_ZkZ.jpg'}, 'assignees': [{'id': 82061927, 'username': 'Rafael Alves Magalhães', 'color': '', 'initials': 'RM', 'email': 'magalhaesrafael07@gmail.com', 'profilePicture': None}], 'group_assignees': [], 'watchers': [{'id': 84141406, 'username': 'Ana Beatriz', 'color': '#455963', 'initials': 'AB', 'email': 'ti@cogmo.com.br', 'profilePicture': 'https://attachments.clickup.com/profilePictures/84141406_ZkZ.jpg'}, {'id': 82061927, 'username': 'Rafael Alves Magalhães', 'color': '', 'initials': 'RM', 'email': 'magalhaesrafael07@gmail.com', 'profilePicture': None}], 'checklists': [], 'tags': [], 'parent': None, 'priority': None, 'due_date': None, 'start_date': None, 'points': None, 'time_estimate': None, 'custom_fields': [], 'dependencies': [], 'linked_tasks': [], 'locations': [], 'team_id': '12927880', 'url': 'https://app.clickup.com/t/86a4qz2xm', 'sharing': {'public': False, 'public_share_expires_on': None, 'public_fields': ['assignees', 'priority', 'due_date', 'content', 'comments', 'attachments', 'customFields', 'subtasks', 'tags', 'checklists', 'coverimage'], 'token': None, 'seo_optimized': False}, 'permission_level': 'create', 'list': {'id': '901304909413', 'name': 'clickup_agent', 'access': True}, 'project': {'id': '90132806032', 'name': 'agente clickup playgroud (ana beatriz)', 'hidden': False, 'access': True}, 'folder': {'id': '90132806032', 'name': 'agente clickup playgroud (ana beatriz)', 'hidden': False, 'access': True}, 'space': {'id': '54804921'}}, {'id': '86a4qyy92', 'custom_id': None, 'custom_item_id': 0, 'name': 'TESTE BEM SUCEDIDO04', 'text_content': '', 'description': '', 'status': {'status': 'backlog', 'id': 'p54804921_1gR1N0KG', 'color': '#9c09bc', 'type': 'open', 'orderindex': 0}, 'orderindex': '119424806.00000000000000000000000000000000', 'date_created': '1724946923626', 'date_updated': '1724946923626', 'date_closed': None, 'date_done': None, 'archived': False, 'creator': {'id': 84141406, 'username': 'Ana Beatriz', 'color': '#455963', 'email': 'ti@cogmo.com.br', 'profilePicture': 'https://attachments.clickup.com/profilePictures/84141406_ZkZ.jpg'}, 'assignees': [{'id': 82061927, 'username': 'Rafael Alves Magalhães', 'color': '', 'initials': 'RM', 'email': 'magalhaesrafael07@gmail.com', 'profilePicture': None}], 'group_assignees': [], 'watchers': [{'id': 84141406, 'username': 'Ana Beatriz', 'color': '#455963', 'initials': 'AB', 'email': 'ti@cogmo.com.br', 'profilePicture': 'https://attachments.clickup.com/profilePictures/84141406_ZkZ.jpg'}, {'id': 82061927, 'username': 'Rafael Alves Magalhães', 'color': '', 'initials': 'RM', 'email': 'magalhaesrafael07@gmail.com', 'profilePicture': None}], 'checklists': [], 'tags': [], 'parent': None, 'priority': None, 'due_date': None, 'start_date': None, 'points': None, 'time_estimate': None, 'custom_fields': [], 'dependencies': [], 'linked_tasks': [], 'locations': [], 'team_id': '12927880', 'url': 'https://app.clickup.com/t/86a4qyy92', 'sharing': {'public': False, 'public_share_expires_on': None, 'public_fields': ['assignees', 'priority', 'due_date', 'content', 'comments', 'attachments', 'customFields', 'subtasks', 'tags', 'checklists', 'coverimage'], 'token': None, 'seo_optimized': False}, 'permission_level': 'create', 'list': {'id': '901304909413', 'name': 'clickup_agent', 'access': True}, 'project': {'id': '90132806032', 'name': 'agente clickup playgroud (ana beatriz)', 'hidden': False, 'access': True}, 'folder': {'id': '90132806032', 'name': 'agente clickup playgroud (ana beatriz)', 'hidden': False, 'access': True}, 'space': {'id': '54804921'}}, {'id': '86a4qyw7r', 'custom_id': None, 'custom_item_id': 0, 'name': 'TESTE BEM SUCEDIDO03', 'text_content': '', 'description': '', 'status': {'status': 'backlog', 'id': 'p54804921_1gR1N0KG', 'color': '#9c09bc', 'type': 'open', 'orderindex': 0}, 'orderindex': '119424805.00000000000000000000000000000000', 'date_created': '1724946710544', 'date_updated': '1724946710544', 'date_closed': None, 'date_done': None, 'archived': False, 'creator': {'id': 84141406, 'username': 'Ana Beatriz', 'color': '#455963', 'email': 'ti@cogmo.com.br', 'profilePicture': 'https://attachments.clickup.com/profilePictures/84141406_ZkZ.jpg'}, 'assignees': [{'id': 82061927, 'username': 'Rafael Alves Magalhães', 'color': '', 'initials': 'RM', 'email': 'magalhaesrafael07@gmail.com', 'profilePicture': None}], 'group_assignees': [], 'watchers': [{'id': 84141406, 'username': 'Ana Beatriz', 'color': '#455963', 'initials': 'AB', 'email': 'ti@cogmo.com.br', 'profilePicture': 'https://attachments.clickup.com/profilePictures/84141406_ZkZ.jpg'}, {'id': 82061927, 'username': 'Rafael Alves Magalhães', 'color': '', 'initials': 'RM', 'email': 'magalhaesrafael07@gmail.com', 'profilePicture': None}], 'checklists': [], 'tags': [], 'parent': None, 'priority': None, 'due_date': None, 'start_date': None, 'points': None, 'time_estimate': None, 'custom_fields': [], 'dependencies': [], 'linked_tasks': [], 'locations': [], 'team_id': '12927880', 'url': 'https://app.clickup.com/t/86a4qyw7r', 'sharing': {'public': False, 'public_share_expires_on': None, 'public_fields': ['assignees', 'priority', 'due_date', 'content', 'comments', 'attachments', 'customFields', 'subtasks', 'tags', 'checklists', 'coverimage'], 'token': None, 'seo_optimized': False}, 'permission_level': 'create', 'list': {'id': '901304909413', 'name': 'clickup_agent', 'access': True}, 'project': {'id': '90132806032', 'name': 'agente clickup playgroud (ana beatriz)', 'hidden': False, 'access': True}, 'folder': {'id': '90132806032', 'name': 'agente clickup playgroud (ana beatriz)', 'hidden': False, 'access': True}, 'space': {'id': '54804921'}}, {'id': '86a4qp7up', 'custom_id': None, 'custom_item_id': 0, 'name': 'TESTE BEM SUCEDIDO02', 'text_content': '', 'description': '', 'status': {'status': 'backlog', 'id': 'p54804921_1gR1N0KG', 'color': '#9c09bc', 'type': 'open', 'orderindex': 0}, 'orderindex': '119424804.00000000000000000000000000000000', 'date_created': '1724881168183', 'date_updated': '1724881168183', 'date_closed': None, 'date_done': None, 'archived': False, 'creator': {'id': 84141406, 'username': 'Ana Beatriz', 'color': '#455963', 'email': 'ti@cogmo.com.br', 'profilePicture': 'https://attachments.clickup.com/profilePictures/84141406_ZkZ.jpg'}, 'assignees': [{'id': 82061927, 'username': 'Rafael Alves Magalhães', 'color': '', 'initials': 'RM', 'email': 'magalhaesrafael07@gmail.com', 'profilePicture': None}], 'group_assignees': [], 'watchers': [{'id': 84141406, 'username': 'Ana Beatriz', 'color': '#455963', 'initials': 'AB', 'email': 'ti@cogmo.com.br', 'profilePicture': 'https://attachments.clickup.com/profilePictures/84141406_ZkZ.jpg'}, {'id': 82061927, 'username': 'Rafael Alves Magalhães', 'color': '', 'initials': 'RM', 'email': 'magalhaesrafael07@gmail.com', 'profilePicture': None}], 'checklists': [], 'tags': [], 'parent': None, 'priority': None, 'due_date': None, 'start_date': None, 'points': None, 'time_estimate': None, 'custom_fields': [], 'dependencies': [], 'linked_tasks': [], 'locations': [], 'team_id': '12927880', 'url': 'https://app.clickup.com/t/86a4qp7up', 'sharing': {'public': False, 'public_share_expires_on': None, 'public_fields': ['assignees', 'priority', 'due_date', 'content', 'comments', 'attachments', 'customFields', 'subtasks', 'tags', 'checklists', 'coverimage'], 'token': None, 'seo_optimized': False}, 'permission_level': 'create', 'list': {'id': '901304909413', 'name': 'clickup_agent', 'access': True}, 'project': {'id': '90132806032', 'name': 'agente clickup playgroud (ana beatriz)', 'hidden': False, 'access': True}, 'folder': {'id': '90132806032', 'name': 'agente clickup playgroud (ana beatriz)', 'hidden': False, 'access': True}, 'space': {'id': '54804921'}}, {'id': '86a4qp55z', 'custom_id': None, 'custom_item_id': 0, 'name': 'Solicitar à Jussiane Siqueira envio do questionário de editais para inovação', 'text_content': '', 'description': '', 'status': {'status': 'doing', 'id': 'p54804921_KslxIFrF', 'color': '#e16b16', 'type': 'custom', 'orderindex': 2}, 'orderindex': '119424802.00006260000000000000000000000000', 'date_created': '1724880822207', 'date_updated': '1724881131688', 'date_closed': None, 'date_done': None, 'archived': False, 'creator': {'id': 84141406, 'username': 'Ana Beatriz', 'color': '#455963', 'email': 'ti@cogmo.com.br', 'profilePicture': 'https://attachments.clickup.com/profilePictures/84141406_ZkZ.jpg'}, 'assignees': [{'id': 84141406, 'username': 'Ana Beatriz', 'color': '#455963', 'initials': 'AB', 'email': 'ti@cogmo.com.br', 'profilePicture': 'https://attachments.clickup.com/profilePictures/84141406_ZkZ.jpg'}], 'group_assignees': [], 'watchers': [{'id': 84141406, 'username': 'Ana Beatriz', 'color': '#455963', 'initials': 'AB', 'email': 'ti@cogmo.com.br', 'profilePicture': 'https://attachments.clickup.com/profilePictures/84141406_ZkZ.jpg'}], 'checklists': [], 'tags': [], 'parent': None, 'priority': None, 'due_date': '1725174000000', 'start_date': None, 'points': None, 'time_estimate': None, 'custom_fields': [], 'dependencies': [], 'linked_tasks': [], 'locations': [], 'team_id': '12927880', 'url': 'https://app.clickup.com/t/86a4qp55z', 'sharing': {'public': False, 'public_share_expires_on': None, 'public_fields': ['assignees', 'priority', 'due_date', 'content', 'comments', 'attachments', 'customFields', 'subtasks', 'tags', 'checklists', 'coverimage'], 'token': None, 'seo_optimized': False}, 'permission_level': 'create', 'list': {'id': '901304909413', 'name': 'clickup_agent', 'access': True}, 'project': {'id': '90132806032', 'name': 'agente clickup playgroud (ana beatriz)', 'hidden': False, 'access': True}, 'folder': {'id': '90132806032', 'name': 'agente clickup playgroud (ana beatriz)', 'hidden': False, 'access': True}, 'space': {'id': '54804921'}}, {'id': '86a4qp4e9', 'custom_id': None, 'custom_item_id': 0, 'name': 'TESTE BEM SUCEDIDO03', 'text_content': '', 'description': '', 'status': {'status': 'backlog', 'id': 'p54804921_1gR1N0KG', 'color': '#9c09bc', 'type': 'open', 'orderindex': 0}, 'orderindex': '119424800.00000000000000000000000000000000', 'date_created': '1724880655952', 'date_updated': '1724880655952', 'date_closed': None, 'date_done': None, 'archived': False, 'creator': {'id': 84141406, 'username': 'Ana Beatriz', 'color': '#455963', 'email': 'ti@cogmo.com.br', 'profilePicture': 'https://attachments.clickup.com/profilePictures/84141406_ZkZ.jpg'}, 'assignees': [], 'group_assignees': [], 'watchers': [{'id': 84141406, 'username': 'Ana Beatriz', 'color': '#455963', 'initials': 'AB', 'email': 'ti@cogmo.com.br', 'profilePicture': 'https://attachments.clickup.com/profilePictures/84141406_ZkZ.jpg'}], 'checklists': [], 'tags': [], 'parent': None, 'priority': None, 'due_date': None, 'start_date': None, 'points': None, 'time_estimate': None, 'custom_fields': [], 'dependencies': [], 'linked_tasks': [], 'locations': [], 'team_id': '12927880', 'url': 'https://app.clickup.com/t/86a4qp4e9', 'sharing': {'public': False, 'public_share_expires_on': None, 'public_fields': ['assignees', 'priority', 'due_date', 'content', 'comments', 'attachments', 'customFields', 'subtasks', 'tags', 'checklists', 'coverimage'], 'token': None, 'seo_optimized': False}, 'permission_level': 'create', 'list': {'id': '901304909413', 'name': 'clickup_agent', 'access': True}, 'project': {'id': '90132806032', 'name': 'agente clickup playgroud (ana beatriz)', 'hidden': False, 'access': True}, 'folder': {'id': '90132806032', 'name': 'agente clickup playgroud (ana beatriz)', 'hidden': False, 'access': True}, 'space': {'id': '54804921'}}, {'id': '86a4qp46p', 'custom_id': None, 'custom_item_id': 0, 'name': 'TESTE BEM SUCEDIDO02', 'text_content': '', 'description': '', 'status': {'status': 'backlog', 'id': 'p54804921_1gR1N0KG', 'color': '#9c09bc', 'type': 'open', 'orderindex': 0}, 'orderindex': '119424799.00000000000000000000000000000000', 'date_created': '1724880604108', 'date_updated': '1724880604108', 'date_closed': None, 'date_done': None, 'archived': False, 'creator': {'id': 84141406, 'username': 'Ana Beatriz', 'color': '#455963', 'email': 'ti@cogmo.com.br', 'profilePicture': 'https://attachments.clickup.com/profilePictures/84141406_ZkZ.jpg'}, 'assignees': [{'id': 82061927, 'username': 'Rafael Alves Magalhães', 'color': '', 'initials': 'RM', 'email': 'magalhaesrafael07@gmail.com', 'profilePicture': None}], 'group_assignees': [], 'watchers': [{'id': 84141406, 'username': 'Ana Beatriz', 'color': '#455963', 'initials': 'AB', 'email': 'ti@cogmo.com.br', 'profilePicture': 'https://attachments.clickup.com/profilePictures/84141406_ZkZ.jpg'}, {'id': 82061927, 'username': 'Rafael Alves Magalhães', 'color': '', 'initials': 'RM', 'email': 'magalhaesrafael07@gmail.com', 'profilePicture': None}], 'checklists': [], 'tags': [], 'parent': None, 'priority': None, 'due_date': None, 'start_date': None, 'points': None, 'time_estimate': None, 'custom_fields': [], 'dependencies': [], 'linked_tasks': [], 'locations': [], 'team_id': '12927880', 'url': 'https://app.clickup.com/t/86a4qp46p', 'sharing': {'public': False, 'public_share_expires_on': None, 'public_fields': ['assignees', 'priority', 'due_date', 'content', 'comments', 'attachments', 'customFields', 'subtasks', 'tags', 'checklists', 'coverimage'], 'token': None, 'seo_optimized': False}, 'permission_level': 'create', 'list': {'id': '901304909413', 'name': 'clickup_agent', 'access': True}, 'project': {'id': '90132806032', 'name': 'agente clickup playgroud (ana beatriz)', 'hidden': False, 'access': True}, 'folder': {'id': '90132806032', 'name': 'agente clickup playgroud (ana beatriz)', 'hidden': False, 'access': True}, 'space': {'id': '54804921'}}, {'id': '86a4qp40d', 'custom_id': None, 'custom_item_id': 0, 'name': 'Fazer follow up com Jussiane Siqueira', 'text_content': '', 'description': '', 'status': {'status': 'backlog', 'id': 'p54804921_1gR1N0KG', 'color': '#9c09bc', 'type': 'open', 'orderindex': 0}, 'orderindex': '119424798.00000000000000000000000000000000', 'date_created': '1724880574665', 'date_updated': '1724880577255', 'date_closed': None, 'date_done': None, 'archived': False, 'creator': {'id': 84141406, 'username': 'Ana Beatriz', 'color': '#455963', 'email': 'ti@cogmo.com.br', 'profilePicture': 'https://attachments.clickup.com/profilePictures/84141406_ZkZ.jpg'}, 'assignees': [], 'group_assignees': [], 'watchers': [{'id': 84141406, 'username': 'Ana Beatriz', 'color': '#455963', 'initials': 'AB', 'email': 'ti@cogmo.com.br', 'profilePicture': 'https://attachments.clickup.com/profilePictures/84141406_ZkZ.jpg'}], 'checklists': [], 'tags': [], 'parent': None, 'priority': None, 'due_date': '1725174000000', 'start_date': None, 'points': None, 'time_estimate': None, 'custom_fields': [], 'dependencies': [], 'linked_tasks': [], 'locations': [], 'team_id': '12927880', 'url': 'https://app.clickup.com/t/86a4qp40d', 'sharing': {'public': False, 'public_share_expires_on': None, 'public_fields': ['assignees', 'priority', 'due_date', 'content', 'comments', 'attachments', 'customFields', 'subtasks', 'tags', 'checklists', 'coverimage'], 'token': None, 'seo_optimized': False}, 'permission_level': 'create', 'list': {'id': '901304909413', 'name': 'clickup_agent', 'access': True}, 'project': {'id': '90132806032', 'name': 'agente clickup playgroud (ana beatriz)', 'hidden': False, 'access': True}, 'folder': {'id': '90132806032', 'name': 'agente clickup playgroud (ana beatriz)', 'hidden': False, 'access': True}, 'space': {'id': '54804921'}}, {'id': '86a4qp3w2', 'custom_id': None, 'custom_item_id': 0, 'name': 'Fazer follow up com Jussiane Siqueira', 'text_content': '', 'description': '', 'status': {'status': 'backlog', 'id': 'p54804921_1gR1N0KG', 'color': '#9c09bc', 'type': 'open', 'orderindex': 0}, 'orderindex': '119424797.00000000000000000000000000000000', 'date_created': '1724880549257', 'date_updated': '1724880551958', 'date_closed': None, 'date_done': None, 'archived': False, 'creator': {'id': 84141406, 'username': 'Ana Beatriz', 'color': '#455963', 'email': 'ti@cogmo.com.br', 'profilePicture': 'https://attachments.clickup.com/profilePictures/84141406_ZkZ.jpg'}, 'assignees': [], 'group_assignees': [], 'watchers': [{'id': 84141406, 'username': 'Ana Beatriz', 'color': '#455963', 'initials': 'AB', 'email': 'ti@cogmo.com.br', 'profilePicture': 'https://attachments.clickup.com/profilePictures/84141406_ZkZ.jpg'}], 'checklists': [], 'tags': [], 'parent': None, 'priority': None, 'due_date': '1725174000000', 'start_date': None, 'points': None, 'time_estimate': None, 'custom_fields': [], 'dependencies': [], 'linked_tasks': [], 'locations': [], 'team_id': '12927880', 'url': 'https://app.clickup.com/t/86a4qp3w2', 'sharing': {'public': False, 'public_share_expires_on': None, 'public_fields': ['assignees', 'priority', 'due_date', 'content', 'comments', 'attachments', 'customFields', 'subtasks', 'tags', 'checklists', 'coverimage'], 'token': None, 'seo_optimized': False}, 'permission_level': 'create', 'list': {'id': '901304909413', 'name': 'clickup_agent', 'access': True}, 'project': {'id': '90132806032', 'name': 'agente clickup playgroud (ana beatriz)', 'hidden': False, 'access': True}, 'folder': {'id': '90132806032', 'name': 'agente clickup playgroud (ana beatriz)', 'hidden': False, 'access': True}, 'space': {'id': '54804921'}}, {'id': '86a4qp39v', 'custom_id': None, 'custom_item_id': 0, 'name': 'Fazer follow up com Jussiane Siqueira', 'text_content': '', 'description': '', 'status': {'status': 'backlog', 'id': 'p54804921_1gR1N0KG', 'color': '#9c09bc', 'type': 'open', 'orderindex': 0}, 'orderindex': '119424796.00000000000000000000000000000000', 'date_created': '1724880418229', 'date_updated': '1724880418229', 'date_closed': None, 'date_done': None, 'archived': False, 'creator': {'id': 84141406, 'username': 'Ana Beatriz', 'color': '#455963', 'email': 'ti@cogmo.com.br', 'profilePicture': 'https://attachments.clickup.com/profilePictures/84141406_ZkZ.jpg'}, 'assignees': [], 'group_assignees': [], 'watchers': [{'id': 84141406, 'username': 'Ana Beatriz', 'color': '#455963', 'initials': 'AB', 'email': 'ti@cogmo.com.br', 'profilePicture': 'https://attachments.clickup.com/profilePictures/84141406_ZkZ.jpg'}], 'checklists': [], 'tags': [], 'parent': None, 'priority': None, 'due_date': '1725174000000', 'start_date': None, 'points': None, 'time_estimate': None, 'custom_fields': [], 'dependencies': [], 'linked_tasks': [], 'locations': [], 'team_id': '12927880', 'url': 'https://app.clickup.com/t/86a4qp39v', 'sharing': {'public': False, 'public_share_expires_on': None, 'public_fields': ['assignees', 'priority', 'due_date', 'content', 'comments', 'attachments', 'customFields', 'subtasks', 'tags', 'checklists', 'coverimage'], 'token': None, 'seo_optimized': False}, 'permission_level': 'create', 'list': {'id': '901304909413', 'name': 'clickup_agent', 'access': True}, 'project': {'id': '90132806032', 'name': 'agente clickup playgroud (ana beatriz)', 'hidden': False, 'access': True}, 'folder': {'id': '90132806032', 'name': 'agente clickup playgroud (ana beatriz)', 'hidden': False, 'access': True}, 'space': {'id': '54804921'}}, {'id': '86a4qnyac', 'custom_id': None, 'custom_item_id': 0, 'name': 'Fazer follow up com Jussiane Siqueira', 'text_content': '', 'description': '', 'status': {'status': 'backlog', 'id': 'p54804921_1gR1N0KG', 'color': '#9c09bc', 'type': 'open', 'orderindex': 0}, 'orderindex': '119424795.00000000000000000000000000000000', 'date_created': '1724879515760', 'date_updated': '1724879515760', 'date_closed': None, 'date_done': None, 'archived': False, 'creator': {'id': 84141406, 'username': 'Ana Beatriz', 'color': '#455963', 'email': 'ti@cogmo.com.br', 'profilePicture': 'https://attachments.clickup.com/profilePictures/84141406_ZkZ.jpg'}, 'assignees': [], 'group_assignees': [], 'watchers': [{'id': 84141406, 'username': 'Ana Beatriz', 'color': '#455963', 'initials': 'AB', 'email': 'ti@cogmo.com.br', 'profilePicture': 'https://attachments.clickup.com/profilePictures/84141406_ZkZ.jpg'}], 'checklists': [], 'tags': [], 'parent': None, 'priority': None, 'due_date': '1725174000000', 'start_date': None, 'points': None, 'time_estimate': None, 'custom_fields': [], 'dependencies': [], 'linked_tasks': [], 'locations': [], 'team_id': '12927880', 'url': 'https://app.clickup.com/t/86a4qnyac', 'sharing': {'public': False, 'public_share_expires_on': None, 'public_fields': ['assignees', 'priority', 'due_date', 'content', 'comments', 'attachments', 'customFields', 'subtasks', 'tags', 'checklists', 'coverimage'], 'token': None, 'seo_optimized': False}, 'permission_level': 'create', 'list': {'id': '901304909413', 'name': 'clickup_agent', 'access': True}, 'project': {'id': '90132806032', 'name': 'agente clickup playgroud (ana beatriz)', 'hidden': False, 'access': True}, 'folder': {'id': '90132806032', 'name': 'agente clickup playgroud (ana beatriz)', 'hidden': False, 'access': True}, 'space': {'id': '54804921'}}, {'id': '86a4qny9e', 'custom_id': None, 'custom_item_id': 0, 'name': 'Fazer follow up com Jussiane Siqueira', 'text_content': '', 'description': '', 'status': {'status': 'backlog', 'id': 'p54804921_1gR1N0KG', 'color': '#9c09bc', 'type': 'open', 'orderindex': 0}, 'orderindex': '119424794.00000000000000000000000000000000', 'date_created': '1724879511733', 'date_updated': '1724879511733', 'date_closed': None, 'date_done': None, 'archived': False, 'creator': {'id': 84141406, 'username': 'Ana Beatriz', 'color': '#455963', 'email': 'ti@cogmo.com.br', 'profilePicture': 'https://attachments.clickup.com/profilePictures/84141406_ZkZ.jpg'}, 'assignees': [], 'group_assignees': [], 'watchers': [{'id': 84141406, 'username': 'Ana Beatriz', 'color': '#455963', 'initials': 'AB', 'email': 'ti@cogmo.com.br', 'profilePicture': 'https://attachments.clickup.com/profilePictures/84141406_ZkZ.jpg'}], 'checklists': [], 'tags': [], 'parent': None, 'priority': None, 'due_date': '1725174000000', 'start_date': None, 'points': None, 'time_estimate': None, 'custom_fields': [], 'dependencies': [], 'linked_tasks': [], 'locations': [], 'team_id': '12927880', 'url': 'https://app.clickup.com/t/86a4qny9e', 'sharing': {'public': False, 'public_share_expires_on': None, 'public_fields': ['assignees', 'priority', 'due_date', 'content', 'comments', 'attachments', 'customFields', 'subtasks', 'tags', 'checklists', 'coverimage'], 'token': None, 'seo_optimized': False}, 'permission_level': 'create', 'list': {'id': '901304909413', 'name': 'clickup_agent', 'access': True}, 'project': {'id': '90132806032', 'name': 'agente clickup playgroud (ana beatriz)', 'hidden': False, 'access': True}, 'folder': {'id': '90132806032', 'name': 'agente clickup playgroud (ana beatriz)', 'hidden': False, 'access': True}, 'space': {'id': '54804921'}}, {'id': '86a4qny8t', 'custom_id': None, 'custom_item_id': 0, 'name': 'Fazer follow up com Jussiane Siqueira', 'text_content': '', 'description': '', 'status': {'status': 'backlog', 'id': 'p54804921_1gR1N0KG', 'color': '#9c09bc', 'type': 'open', 'orderindex': 0}, 'orderindex': '119424793.00000000000000000000000000000000', 'date_created': '1724879507235', 'date_updated': '1724879507235', 'date_closed': None, 'date_done': None, 'archived': False, 'creator': {'id': 84141406, 'username': 'Ana Beatriz', 'color': '#455963', 'email': 'ti@cogmo.com.br', 'profilePicture': 'https://attachments.clickup.com/profilePictures/84141406_ZkZ.jpg'}, 'assignees': [], 'group_assignees': [], 'watchers': [{'id': 84141406, 'username': 'Ana Beatriz', 'color': '#455963', 'initials': 'AB', 'email': 'ti@cogmo.com.br', 'profilePicture': 'https://attachments.clickup.com/profilePictures/84141406_ZkZ.jpg'}], 'checklists': [], 'tags': [], 'parent': None, 'priority': None, 'due_date': '1725174000000', 'start_date': None, 'points': None, 'time_estimate': None, 'custom_fields': [], 'dependencies': [], 'linked_tasks': [], 'locations': [], 'team_id': '12927880', 'url': 'https://app.clickup.com/t/86a4qny8t', 'sharing': {'public': False, 'public_share_expires_on': None, 'public_fields': ['assignees', 'priority', 'due_date', 'content', 'comments', 'attachments', 'customFields', 'subtasks', 'tags', 'checklists', 'coverimage'], 'token': None, 'seo_optimized': False}, 'permission_level': 'create', 'list': {'id': '901304909413', 'name': 'clickup_agent', 'access': True}, 'project': {'id': '90132806032', 'name': 'agente clickup playgroud (ana beatriz)', 'hidden': False, 'access': True}, 'folder': {'id': '90132806032', 'name': 'agente clickup playgroud (ana beatriz)', 'hidden': False, 'access': True}, 'space': {'id': '54804921'}}, {'id': '86a4qnvxg', 'custom_id': None, 'custom_item_id': 0, 'name': 'Fazer follow up com Jussiane Siqueira', 'text_content': '', 'description': '', 'status': {'status': 'backlog', 'id': 'p54804921_1gR1N0KG', 'color': '#9c09bc', 'type': 'open', 'orderindex': 0}, 'orderindex': '119424792.00000000000000000000000000000000', 'date_created': '1724879234553', 'date_updated': '1724879234553', 'date_closed': None, 'date_done': None, 'archived': False, 'creator': {'id': 84141406, 'username': 'Ana Beatriz', 'color': '#455963', 'email': 'ti@cogmo.com.br', 'profilePicture': 'https://attachments.clickup.com/profilePictures/84141406_ZkZ.jpg'}, 'assignees': [], 'group_assignees': [], 'watchers': [{'id': 84141406, 'username': 'Ana Beatriz', 'color': '#455963', 'initials': 'AB', 'email': 'ti@cogmo.com.br', 'profilePicture': 'https://attachments.clickup.com/profilePictures/84141406_ZkZ.jpg'}], 'checklists': [], 'tags': [], 'parent': None, 'priority': None, 'due_date': '1724914800000', 'start_date': None, 'points': None, 'time_estimate': None, 'custom_fields': [], 'dependencies': [], 'linked_tasks': [], 'locations': [], 'team_id': '12927880', 'url': 'https://app.clickup.com/t/86a4qnvxg', 'sharing': {'public': False, 'public_share_expires_on': None, 'public_fields': ['assignees', 'priority', 'due_date', 'content', 'comments', 'attachments', 'customFields', 'subtasks', 'tags', 'checklists', 'coverimage'], 'token': None, 'seo_optimized': False}, 'permission_level': 'create', 'list': {'id': '901304909413', 'name': 'clickup_agent', 'access': True}, 'project': {'id': '90132806032', 'name': 'agente clickup playgroud (ana beatriz)', 'hidden': False, 'access': True}, 'folder': {'id': '90132806032', 'name': 'agente clickup playgroud (ana beatriz)', 'hidden': False, 'access': True}, 'space': {'id': '54804921'}}, {'id': '86a4qmd3x', 'custom_id': None, 'custom_item_id': 0, 'name': 'Fazer follow up com Jussiane Siqueira', 'text_content': '', 'description': '', 'status': {'status': 'backlog', 'id': 'p54804921_1gR1N0KG', 'color': '#9c09bc', 'type': 'open', 'orderindex': 0}, 'orderindex': '119424791.00000000000000000000000000000000', 'date_created': '1724874718882', 'date_updated': '1724874722450', 'date_closed': None, 'date_done': None, 'archived': False, 'creator': {'id': 84141406, 'username': 'Ana Beatriz', 'color': '#455963', 'email': 'ti@cogmo.com.br', 'profilePicture': 'https://attachments.clickup.com/profilePictures/84141406_ZkZ.jpg'}, 'assignees': [], 'group_assignees': [], 'watchers': [{'id': 84141406, 'username': 'Ana Beatriz', 'color': '#455963', 'initials': 'AB', 'email': 'ti@cogmo.com.br', 'profilePicture': 'https://attachments.clickup.com/profilePictures/84141406_ZkZ.jpg'}], 'checklists': [], 'tags': [], 'parent': None, 'priority': None, 'due_date': '1724914800000', 'start_date': None, 'points': None, 'time_estimate': None, 'custom_fields': [], 'dependencies': [], 'linked_tasks': [], 'locations': [], 'team_id': '12927880', 'url': 'https://app.clickup.com/t/86a4qmd3x', 'sharing': {'public': False, 'public_share_expires_on': None, 'public_fields': ['assignees', 'priority', 'due_date', 'content', 'comments', 'attachments', 'customFields', 'subtasks', 'tags', 'checklists', 'coverimage'], 'token': None, 'seo_optimized': False}, 'permission_level': 'create', 'list': {'id': '901304909413', 'name': 'clickup_agent', 'access': True}, 'project': {'id': '90132806032', 'name': 'agente clickup playgroud (ana beatriz)', 'hidden': False, 'access': True}, 'folder': {'id': '90132806032', 'name': 'agente clickup playgroud (ana beatriz)', 'hidden': False, 'access': True}, 'space': {'id': '54804921'}}, {'id': '86a4q650q', 'custom_id': None, 'custom_item_id': 0, 'name': 'Tarefa Exemplo', 'text_content': '', 'description': '', 'status': {'status': 'testing', 'id': 'p54804921_oYhO88Lm', 'color': '#d33d44', 'type': 'custom', 'orderindex': 3}, 'orderindex': '119424778.00000000000000000000000000000000', 'date_created': '1724797264500', 'date_updated': '1724797264500', 'date_closed': None, 'date_done': None, 'archived': False, 'creator': {'id': 82061927, 'username': 'Rafael Alves Magalhães', 'color': '', 'email': 'magalhaesrafael07@gmail.com', 'profilePicture': None}, 'assignees': [], 'group_assignees': [], 'watchers': [{'id': 82061927, 'username': 'Rafael Alves Magalhães', 'color': '', 'initials': 'RM', 'email': 'magalhaesrafael07@gmail.com', 'profilePicture': None}], 'checklists': [], 'tags': [], 'parent': None, 'priority': None, 'due_date': None, 'start_date': None, 'points': None, 'time_estimate': None, 'custom_fields': [], 'dependencies': [], 'linked_tasks': [], 'locations': [], 'team_id': '12927880', 'url': 'https://app.clickup.com/t/86a4q650q', 'sharing': {'public': False, 'public_share_expires_on': None, 'public_fields': ['assignees', 'priority', 'due_date', 'content', 'comments', 'attachments', 'customFields', 'subtasks', 'tags', 'checklists', 'coverimage'], 'token': None, 'seo_optimized': False}, 'permission_level': 'create', 'list': {'id': '901304909413', 'name': 'clickup_agent', 'access': True}, 'project': {'id': '90132806032', 'name': 'agente clickup playgroud (ana beatriz)', 'hidden': False, 'access': True}, 'folder': {'id': '90132806032', 'name': 'agente clickup playgroud (ana beatriz)', 'hidden': False, 'access': True}, 'space': {'id': '54804921'}}, {'id': '86a4q63w3', 'custom_id': None, 'custom_item_id': 0, 'name': 'Dummy Task 2', 'text_content': '', 'description': '', 'status': {'status': 'backlog', 'id': 'p54804921_1gR1N0KG', 'color': '#9c09bc', 'type': 'open', 'orderindex': 0}, 'orderindex': '119424777.00000000000000000000000000000000', 'date_created': '1724797022304', 'date_updated': '1724797022304', 'date_closed': None, 'date_done': None, 'archived': False, 'creator': {'id': 82061927, 'username': 'Rafael Alves Magalhães', 'color': '', 'email': 'magalhaesrafael07@gmail.com', 'profilePicture': None}, 'assignees': [], 'group_assignees': [], 'watchers': [{'id': 82061927, 'username': 'Rafael Alves Magalhães', 'color': '', 'initials': 'RM', 'email': 'magalhaesrafael07@gmail.com', 'profilePicture': None}], 'checklists': [], 'tags': [], 'parent': None, 'priority': None, 'due_date': None, 'start_date': None, 'points': None, 'time_estimate': None, 'custom_fields': [], 'dependencies': [], 'linked_tasks': [], 'locations': [], 'team_id': '12927880', 'url': 'https://app.clickup.com/t/86a4q63w3', 'sharing': {'public': False, 'public_share_expires_on': None, 'public_fields': ['assignees', 'priority', 'due_date', 'content', 'comments', 'attachments', 'customFields', 'subtasks', 'tags', 'checklists', 'coverimage'], 'token': None, 'seo_optimized': False}, 'permission_level': 'create', 'list': {'id': '901304909413', 'name': 'clickup_agent', 'access': True}, 'project': {'id': '90132806032', 'name': 'agente clickup playgroud (ana beatriz)', 'hidden': False, 'access': True}, 'folder': {'id': '90132806032', 'name': 'agente clickup playgroud (ana beatriz)', 'hidden': False, 'access': True}, 'space': {'id': '54804921'}}, {'id': '86a4q63vx', 'custom_id': None, 'custom_item_id': 0, 'name': 'Dummy Task 1', 'text_content': '', 'description': '', 'status': {'status': 'backlog', 'id': 'p54804921_1gR1N0KG', 'color': '#9c09bc', 'type': 'open', 'orderindex': 0}, 'orderindex': '119424776.00000000000000000000000000000000', 'date_created': '1724797017247', 'date_updated': '1724798383471', 'date_closed': None, 'date_done': None, 'archived': False, 'creator': {'id': 82061927, 'username': 'Rafael Alves Magalhães', 'color': '', 'email': 'magalhaesrafael07@gmail.com', 'profilePicture': None}, 'assignees': [], 'group_assignees': [], 'watchers': [{'id': 82061927, 'username': 'Rafael Alves Magalhães', 'color': '', 'initials': 'RM', 'email': 'magalhaesrafael07@gmail.com', 'profilePicture': None}], 'checklists': [], 'tags': [], 'parent': None, 'priority': None, 'due_date': '1727593200000', 'start_date': None, 'points': None, 'time_estimate': None, 'custom_fields': [], 'dependencies': [], 'linked_tasks': [], 'locations': [], 'team_id': '12927880', 'url': 'https://app.clickup.com/t/86a4q63vx', 'sharing': {'public': False, 'public_share_expires_on': None, 'public_fields': ['assignees', 'priority', 'due_date', 'content', 'comments', 'attachments', 'customFields', 'subtasks', 'tags', 'checklists', 'coverimage'], 'token': None, 'seo_optimized': False}, 'permission_level': 'create', 'list': {'id': '901304909413', 'name': 'clickup_agent', 'access': True}, 'project': {'id': '90132806032', 'name': 'agente clickup playgroud (ana beatriz)', 'hidden': False, 'access': True}, 'folder': {'id': '90132806032', 'name': 'agente clickup playgroud (ana beatriz)', 'hidden': False, 'access': True}, 'space': {'id': '54804921'}}, {'id': '86a4q63th', 'custom_id': None, 'custom_item_id': 0, 'name': '(2024-08-27 19:16:06.257577): ALVENARIA', 'text_content': '', 'description': '', 'status': {'status': 'backlog', 'id': 'p54804921_1gR1N0KG', 'color': '#9c09bc', 'type': 'open', 'orderindex': 0}, 'orderindex': '119424775.00000000000000000000000000000000', 'date_created': '1724796976922', 'date_updated': '1724796976922', 'date_closed': None, 'date_done': None, 'archived': False, 'creator': {'id': 82061927, 'username': 'Rafael Alves Magalhães', 'color': '', 'email': 'magalhaesrafael07@gmail.com', 'profilePicture': None}, 'assignees': [], 'group_assignees': [], 'watchers': [{'id': 82061927, 'username': 'Rafael Alves Magalhães', 'color': '', 'initials': 'RM', 'email': 'magalhaesrafael07@gmail.com', 'profilePicture': None}], 'checklists': [], 'tags': [], 'parent': None, 'priority': None, 'due_date': None, 'start_date': None, 'points': None, 'time_estimate': None, 'custom_fields': [], 'dependencies': [{'task_id': '86a4q63th', 'depends_on': '86a4q63td', 'type': 1, 'date_created': '1724796979874', 'userid': '82061927', 'workspace_id': '12927880', 'chain_id': None}], 'linked_tasks': [], 'locations': [], 'team_id': '12927880', 'url': 'https://app.clickup.com/t/86a4q63th', 'sharing': {'public': False, 'public_share_expires_on': None, 'public_fields': ['assignees', 'priority', 'due_date', 'content', 'comments', 'attachments', 'customFields', 'subtasks', 'tags', 'checklists', 'coverimage'], 'token': None, 'seo_optimized': False}, 'permission_level': 'create', 'list': {'id': '901304909413', 'name': 'clickup_agent', 'access': True}, 'project': {'id': '90132806032', 'name': 'agente clickup playgroud (ana beatriz)', 'hidden': False, 'access': True}, 'folder': {'id': '90132806032', 'name': 'agente clickup playgroud (ana beatriz)', 'hidden': False, 'access': True}, 'space': {'id': '54804921'}}, {'id': '86a4q63td', 'custom_id': None, 'custom_item_id': 0, 'name': '(2024-08-27 19:16:06.257577): FUNDAÇÃO', 'text_content': '', 'description': '', 'status': {'status': 'backlog', 'id': 'p54804921_1gR1N0KG', 'color': '#9c09bc', 'type': 'open', 'orderindex': 0}, 'orderindex': '119424774.00000000000000000000000000000000', 'date_created': '1724796974869', 'date_updated': '1724796974869', 'date_closed': None, 'date_done': None, 'archived': False, 'creator': {'id': 82061927, 'username': 'Rafael Alves Magalhães', 'color': '', 'email': 'magalhaesrafael07@gmail.com', 'profilePicture': None}, 'assignees': [], 'group_assignees': [], 'watchers': [{'id': 82061927, 'username': 'Rafael Alves Magalhães', 'color': '', 'initials': 'RM', 'email': 'magalhaesrafael07@gmail.com', 'profilePicture': None}], 'checklists': [], 'tags': [], 'parent': None, 'priority': None, 'due_date': None, 'start_date': None, 'points': None, 'time_estimate': None, 'custom_fields': [], 'dependencies': [{'task_id': '86a4q63th', 'depends_on': '86a4q63td', 'type': 1, 'date_created': '1724796979874', 'userid': '82061927', 'workspace_id': '12927880', 'chain_id': None}], 'linked_tasks': [], 'locations': [], 'team_id': '12927880', 'url': 'https://app.clickup.com/t/86a4q63td', 'sharing': {'public': False, 'public_share_expires_on': None, 'public_fields': ['assignees', 'priority', 'due_date', 'content', 'comments', 'attachments', 'customFields', 'subtasks', 'tags', 'checklists', 'coverimage'], 'token': None, 'seo_optimized': False}, 'permission_level': 'create', 'list': {'id': '901304909413', 'name': 'clickup_agent', 'access': True}, 'project': {'id': '90132806032', 'name': 'agente clickup playgroud (ana beatriz)', 'hidden': False, 'access': True}, 'folder': {'id': '90132806032', 'name': 'agente clickup playgroud (ana beatriz)', 'hidden': False, 'access': True}, 'space': {'id': '54804921'}}, {'id': '86a4q63ry', 'custom_id': None, 'custom_item_id': 0, 'name': '(2024-08-27 19:16:06.257577): NOVO TESTE BEM SUCEDIDO', 'text_content': '', 'description': '', 'status': {'status': 'backlog', 'id': 'p54804921_1gR1N0KG', 'color': '#9c09bc', 'type': 'open', 'orderindex': 0}, 'orderindex': '119424773.00000000000000000000000000000000', 'date_created': '1724796969535', 'date_updated': '1724796969535', 'date_closed': None, 'date_done': None, 'archived': False, 'creator': {'id': 82061927, 'username': 'Rafael Alves Magalhães', 'color': '', 'email': 'magalhaesrafael07@gmail.com', 'profilePicture': None}, 'assignees': [], 'group_assignees': [], 'watchers': [{'id': 82061927, 'username': 'Rafael Alves Magalhães', 'color': '', 'initials': 'RM', 'email': 'magalhaesrafael07@gmail.com', 'profilePicture': None}], 'checklists': [], 'tags': [], 'parent': None, 'priority': None, 'due_date': None, 'start_date': None, 'points': None, 'time_estimate': None, 'custom_fields': [], 'dependencies': [], 'linked_tasks': [], 'locations': [], 'team_id': '12927880', 'url': 'https://app.clickup.com/t/86a4q63ry', 'sharing': {'public': False, 'public_share_expires_on': None, 'public_fields': ['assignees', 'priority', 'due_date', 'content', 'comments', 'attachments', 'customFields', 'subtasks', 'tags', 'checklists', 'coverimage'], 'token': None, 'seo_optimized': False}, 'permission_level': 'create', 'list': {'id': '901304909413', 'name': 'clickup_agent', 'access': True}, 'project': {'id': '90132806032', 'name': 'agente clickup playgroud (ana beatriz)', 'hidden': False, 'access': True}, 'folder': {'id': '90132806032', 'name': 'agente clickup playgroud (ana beatriz)', 'hidden': False, 'access': True}, 'space': {'id': '54804921'}}, {'id': '86a4q5wyp', 'custom_id': None, 'custom_item_id': 0, 'name': '(2024-08-27 19:04:29.560449): NOVÍSSIMO TESTE BEM SUCEDIDO', 'text_content': '', 'description': '', 'status': {'status': 'backlog', 'id': 'p54804921_1gR1N0KG', 'color': '#9c09bc', 'type': 'open', 'orderindex': 0}, 'orderindex': '119424772.00000000000000000000000000000000', 'date_created': '1724796272206', 'date_updated': '1724796272206', 'date_closed': None, 'date_done': None, 'archived': False, 'creator': {'id': 82061927, 'username': 'Rafael Alves Magalhães', 'color': '', 'email': 'magalhaesrafael07@gmail.com', 'profilePicture': None}, 'assignees': [], 'group_assignees': [], 'watchers': [{'id': 82061927, 'username': 'Rafael Alves Magalhães', 'color': '', 'initials': 'RM', 'email': 'magalhaesrafael07@gmail.com', 'profilePicture': None}], 'checklists': [], 'tags': [], 'parent': None, 'priority': None, 'due_date': None, 'start_date': None, 'points': None, 'time_estimate': None, 'custom_fields': [], 'dependencies': [], 'linked_tasks': [], 'locations': [], 'team_id': '12927880', 'url': 'https://app.clickup.com/t/86a4q5wyp', 'sharing': {'public': False, 'public_share_expires_on': None, 'public_fields': ['assignees', 'priority', 'due_date', 'content', 'comments', 'attachments', 'customFields', 'subtasks', 'tags', 'checklists', 'coverimage'], 'token': None, 'seo_optimized': False}, 'permission_level': 'create', 'list': {'id': '901304909413', 'name': 'clickup_agent', 'access': True}, 'project': {'id': '90132806032', 'name': 'agente clickup playgroud (ana beatriz)', 'hidden': False, 'access': True}, 'folder': {'id': '90132806032', 'name': 'agente clickup playgroud (ana beatriz)', 'hidden': False, 'access': True}, 'space': {'id': '54804921'}}, {'id': '86a4q5wm2', 'custom_id': None, 'custom_item_id': 0, 'name': '(2024-08-27 19:03:52.393435): ALVENARIA', 'text_content': '', 'description': '', 'status': {'status': 'backlog', 'id': 'p54804921_1gR1N0KG', 'color': '#9c09bc', 'type': 'open', 'orderindex': 0}, 'orderindex': '119424771.00000000000000000000000000000000', 'date_created': '1724796246591', 'date_updated': '1724796246591', 'date_closed': None, 'date_done': None, 'archived': False, 'creator': {'id': 82061927, 'username': 'Rafael Alves Magalhães', 'color': '', 'email': 'magalhaesrafael07@gmail.com', 'profilePicture': None}, 'assignees': [], 'group_assignees': [], 'watchers': [{'id': 82061927, 'username': 'Rafael Alves Magalhães', 'color': '', 'initials': 'RM', 'email': 'magalhaesrafael07@gmail.com', 'profilePicture': None}], 'checklists': [], 'tags': [], 'parent': None, 'priority': None, 'due_date': None, 'start_date': None, 'points': None, 'time_estimate': None, 'custom_fields': [], 'dependencies': [], 'linked_tasks': [], 'locations': [], 'team_id': '12927880', 'url': 'https://app.clickup.com/t/86a4q5wm2', 'sharing': {'public': False, 'public_share_expires_on': None, 'public_fields': ['assignees', 'priority', 'due_date', 'content', 'comments', 'attachments', 'customFields', 'subtasks', 'tags', 'checklists', 'coverimage'], 'token': None, 'seo_optimized': False}, 'permission_level': 'create', 'list': {'id': '901304909413', 'name': 'clickup_agent', 'access': True}, 'project': {'id': '90132806032', 'name': 'agente clickup playgroud (ana beatriz)', 'hidden': False, 'access': True}, 'folder': {'id': '90132806032', 'name': 'agente clickup playgroud (ana beatriz)', 'hidden': False, 'access': True}, 'space': {'id': '54804921'}}, {'id': '86a4q5wk5', 'custom_id': None, 'custom_item_id': 0, 'name': '(2024-08-27 19:03:52.393435): FUNDAÇÃO', 'text_content': '', 'description': '', 'status': {'status': 'backlog', 'id': 'p54804921_1gR1N0KG', 'color': '#9c09bc', 'type': 'open', 'orderindex': 0}, 'orderindex': '119424770.00000000000000000000000000000000', 'date_created': '1724796244589', 'date_updated': '1724796244589', 'date_closed': None, 'date_done': None, 'archived': False, 'creator': {'id': 82061927, 'username': 'Rafael Alves Magalhães', 'color': '', 'email': 'magalhaesrafael07@gmail.com', 'profilePicture': None}, 'assignees': [], 'group_assignees': [], 'watchers': [{'id': 82061927, 'username': 'Rafael Alves Magalhães', 'color': '', 'initials': 'RM', 'email': 'magalhaesrafael07@gmail.com', 'profilePicture': None}], 'checklists': [], 'tags': [], 'parent': None, 'priority': None, 'due_date': None, 'start_date': None, 'points': None, 'time_estimate': None, 'custom_fields': [], 'dependencies': [{'task_id': '86a4q5jzb', 'depends_on': '86a4q5wk5', 'type': 1, 'date_created': '1724796718750', 'userid': '84141406', 'workspace_id': '12927880', 'chain_id': None}], 'linked_tasks': [], 'locations': [], 'team_id': '12927880', 'url': 'https://app.clickup.com/t/86a4q5wk5', 'sharing': {'public': False, 'public_share_expires_on': None, 'public_fields': ['assignees', 'priority', 'due_date', 'content', 'comments', 'attachments', 'customFields', 'subtasks', 'tags', 'checklists', 'coverimage'], 'token': None, 'seo_optimized': False}, 'permission_level': 'create', 'list': {'id': '901304909413', 'name': 'clickup_agent', 'access': True}, 'project': {'id': '90132806032', 'name': 'agente clickup playgroud (ana beatriz)', 'hidden': False, 'access': True}, 'folder': {'id': '90132806032', 'name': 'agente clickup playgroud (ana beatriz)', 'hidden': False, 'access': True}, 'space': {'id': '54804921'}}, {'id': '86a4q5wgm', 'custom_id': None, 'custom_item_id': 0, 'name': '(2024-08-27 19:03:52.393435): NOVO TESTE BEM SUCEDIDO', 'text_content': '', 'description': '', 'status': {'status': 'backlog', 'id': 'p54804921_1gR1N0KG', 'color': '#9c09bc', 'type': 'open', 'orderindex': 0}, 'orderindex': '119424769.00000000000000000000000000000000', 'date_created': '1724796237761', 'date_updated': '1724796237761', 'date_closed': None, 'date_done': None, 'archived': False, 'creator': {'id': 82061927, 'username': 'Rafael Alves Magalhães', 'color': '', 'email': 'magalhaesrafael07@gmail.com', 'profilePicture': None}, 'assignees': [], 'group_assignees': [], 'watchers': [{'id': 82061927, 'username': 'Rafael Alves Magalhães', 'color': '', 'initials': 'RM', 'email': 'magalhaesrafael07@gmail.com', 'profilePicture': None}], 'checklists': [], 'tags': [], 'parent': None, 'priority': None, 'due_date': None, 'start_date': None, 'points': None, 'time_estimate': None, 'custom_fields': [], 'dependencies': [], 'linked_tasks': [], 'locations': [], 'team_id': '12927880', 'url': 'https://app.clickup.com/t/86a4q5wgm', 'sharing': {'public': False, 'public_share_expires_on': None, 'public_fields': ['assignees', 'priority', 'due_date', 'content', 'comments', 'attachments', 'customFields', 'subtasks', 'tags', 'checklists', 'coverimage'], 'token': None, 'seo_optimized': False}, 'permission_level': 'create', 'list': {'id': '901304909413', 'name': 'clickup_agent', 'access': True}, 'project': {'id': '90132806032', 'name': 'agente clickup playgroud (ana beatriz)', 'hidden': False, 'access': True}, 'folder': {'id': '90132806032', 'name': 'agente clickup playgroud (ana beatriz)', 'hidden': False, 'access': True}, 'space': {'id': '54804921'}}, {'id': '86a4q5uy9', 'custom_id': None, 'custom_item_id': 0, 'name': '(2024-08-27 19:01:36.986836): NOVÍSSIMO TESTE BEM SUCEDIDO', 'text_content': '', 'description': '', 'status': {'status': 'backlog', 'id': 'p54804921_1gR1N0KG', 'color': '#9c09bc', 'type': 'open', 'orderindex': 0}, 'orderindex': '119424768.00000000000000000000000000000000', 'date_created': '1724796100244', 'date_updated': '1724796100244', 'date_closed': None, 'date_done': None, 'archived': False, 'creator': {'id': 82061927, 'username': 'Rafael Alves Magalhães', 'color': '', 'email': 'magalhaesrafael07@gmail.com', 'profilePicture': None}, 'assignees': [], 'group_assignees': [], 'watchers': [{'id': 82061927, 'username': 'Rafael Alves Magalhães', 'color': '', 'initials': 'RM', 'email': 'magalhaesrafael07@gmail.com', 'profilePicture': None}], 'checklists': [], 'tags': [], 'parent': None, 'priority': None, 'due_date': None, 'start_date': None, 'points': None, 'time_estimate': None, 'custom_fields': [], 'dependencies': [], 'linked_tasks': [], 'locations': [], 'team_id': '12927880', 'url': 'https://app.clickup.com/t/86a4q5uy9', 'sharing': {'public': False, 'public_share_expires_on': None, 'public_fields': ['assignees', 'priority', 'due_date', 'content', 'comments', 'attachments', 'customFields', 'subtasks', 'tags', 'checklists', 'coverimage'], 'token': None, 'seo_optimized': False}, 'permission_level': 'create', 'list': {'id': '901304909413', 'name': 'clickup_agent', 'access': True}, 'project': {'id': '90132806032', 'name': 'agente clickup playgroud (ana beatriz)', 'hidden': False, 'access': True}, 'folder': {'id': '90132806032', 'name': 'agente clickup playgroud (ana beatriz)', 'hidden': False, 'access': True}, 'space': {'id': '54804921'}}, {'id': '86a4q5pmk', 'custom_id': None, 'custom_item_id': 0, 'name': '(2024-08-27 18:53:56.810531): ALVENARIA', 'text_content': '', 'description': '', 'status': {'status': 'backlog', 'id': 'p54804921_1gR1N0KG', 'color': '#9c09bc', 'type': 'open', 'orderindex': 0}, 'orderindex': '119424765.00000000000000000000000000000000', 'date_created': '1724795647968', 'date_updated': '1724795647968', 'date_closed': None, 'date_done': None, 'archived': False, 'creator': {'id': 82061927, 'username': 'Rafael Alves Magalhães', 'color': '', 'email': 'magalhaesrafael07@gmail.com', 'profilePicture': None}, 'assignees': [], 'group_assignees': [], 'watchers': [{'id': 82061927, 'username': 'Rafael Alves Magalhães', 'color': '', 'initials': 'RM', 'email': 'magalhaesrafael07@gmail.com', 'profilePicture': None}], 'checklists': [], 'tags': [], 'parent': None, 'priority': None, 'due_date': None, 'start_date': None, 'points': None, 'time_estimate': None, 'custom_fields': [], 'dependencies': [], 'linked_tasks': [], 'locations': [], 'team_id': '12927880', 'url': 'https://app.clickup.com/t/86a4q5pmk', 'sharing': {'public': False, 'public_share_expires_on': None, 'public_fields': ['assignees', 'priority', 'due_date', 'content', 'comments', 'attachments', 'customFields', 'subtasks', 'tags', 'checklists', 'coverimage'], 'token': None, 'seo_optimized': False}, 'permission_level': 'create', 'list': {'id': '901304909413', 'name': 'clickup_agent', 'access': True}, 'project': {'id': '90132806032', 'name': 'agente clickup playgroud (ana beatriz)', 'hidden': False, 'access': True}, 'folder': {'id': '90132806032', 'name': 'agente clickup playgroud (ana beatriz)', 'hidden': False, 'access': True}, 'space': {'id': '54804921'}}, {'id': '86a4q5pkj', 'custom_id': None, 'custom_item_id': 0, 'name': '(2024-08-27 18:53:56.810531): FUNDAÇÃO', 'text_content': '', 'description': '', 'status': {'status': 'backlog', 'id': 'p54804921_1gR1N0KG', 'color': '#9c09bc', 'type': 'open', 'orderindex': 0}, 'orderindex': '119424764.00000000000000000000000000000000', 'date_created': '1724795645635', 'date_updated': '1724795645635', 'date_closed': None, 'date_done': None, 'archived': False, 'creator': {'id': 82061927, 'username': 'Rafael Alves Magalhães', 'color': '', 'email': 'magalhaesrafael07@gmail.com', 'profilePicture': None}, 'assignees': [], 'group_assignees': [], 'watchers': [{'id': 82061927, 'username': 'Rafael Alves Magalhães', 'color': '', 'initials': 'RM', 'email': 'magalhaesrafael07@gmail.com', 'profilePicture': None}], 'checklists': [], 'tags': [], 'parent': None, 'priority': None, 'due_date': None, 'start_date': None, 'points': None, 'time_estimate': None, 'custom_fields': [], 'dependencies': [], 'linked_tasks': [], 'locations': [], 'team_id': '12927880', 'url': 'https://app.clickup.com/t/86a4q5pkj', 'sharing': {'public': False, 'public_share_expires_on': None, 'public_fields': ['assignees', 'priority', 'due_date', 'content', 'comments', 'attachments', 'customFields', 'subtasks', 'tags', 'checklists', 'coverimage'], 'token': None, 'seo_optimized': False}, 'permission_level': 'create', 'list': {'id': '901304909413', 'name': 'clickup_agent', 'access': True}, 'project': {'id': '90132806032', 'name': 'agente clickup playgroud (ana beatriz)', 'hidden': False, 'access': True}, 'folder': {'id': '90132806032', 'name': 'agente clickup playgroud (ana beatriz)', 'hidden': False, 'access': True}, 'space': {'id': '54804921'}}, {'id': '86a4q5pg8', 'custom_id': None, 'custom_item_id': 0, 'name': '(2024-08-27 18:53:56.810531): NOVO TESTE BEM SUCEDIDO', 'text_content': '', 'description': '', 'status': {'status': 'backlog', 'id': 'p54804921_1gR1N0KG', 'color': '#9c09bc', 'type': 'open', 'orderindex': 0}, 'orderindex': '119424763.00000000000000000000000000000000', 'date_created': '1724795640384', 'date_updated': '1724795640384', 'date_closed': None, 'date_done': None, 'archived': False, 'creator': {'id': 82061927, 'username': 'Rafael Alves Magalhães', 'color': '', 'email': 'magalhaesrafael07@gmail.com', 'profilePicture': None}, 'assignees': [], 'group_assignees': [], 'watchers': [{'id': 82061927, 'username': 'Rafael Alves Magalhães', 'color': '', 'initials': 'RM', 'email': 'magalhaesrafael07@gmail.com', 'profilePicture': None}], 'checklists': [], 'tags': [], 'parent': None, 'priority': None, 'due_date': None, 'start_date': None, 'points': None, 'time_estimate': None, 'custom_fields': [], 'dependencies': [], 'linked_tasks': [], 'locations': [], 'team_id': '12927880', 'url': 'https://app.clickup.com/t/86a4q5pg8', 'sharing': {'public': False, 'public_share_expires_on': None, 'public_fields': ['assignees', 'priority', 'due_date', 'content', 'comments', 'attachments', 'customFields', 'subtasks', 'tags', 'checklists', 'coverimage'], 'token': None, 'seo_optimized': False}, 'permission_level': 'create', 'list': {'id': '901304909413', 'name': 'clickup_agent', 'access': True}, 'project': {'id': '90132806032', 'name': 'agente clickup playgroud (ana beatriz)', 'hidden': False, 'access': True}, 'folder': {'id': '90132806032', 'name': 'agente clickup playgroud (ana beatriz)', 'hidden': False, 'access': True}, 'space': {'id': '54804921'}}, {'id': '86a4q5jzb', 'custom_id': None, 'custom_item_id': 0, 'name': '(2024-08-27 18:48:25.780898): ALVENARIA', 'text_content': '', 'description': '', 'status': {'status': 'backlog', 'id': 'p54804921_1gR1N0KG', 'color': '#9c09bc', 'type': 'open', 'orderindex': 0}, 'orderindex': '119424762.00000000000000000000000000000000', 'date_created': '1724795322464', 'date_updated': '1724797708937', 'date_closed': None, 'date_done': None, 'archived': False, 'creator': {'id': 82061927, 'username': 'Rafael Alves Magalhães', 'color': '', 'email': 'magalhaesrafael07@gmail.com', 'profilePicture': None}, 'assignees': [], 'group_assignees': [], 'watchers': [{'id': 82061927, 'username': 'Rafael Alves Magalhães', 'color': '', 'initials': 'RM', 'email': 'magalhaesrafael07@gmail.com', 'profilePicture': None}], 'checklists': [], 'tags': [], 'parent': None, 'priority': None, 'due_date': '1724742000000', 'start_date': None, 'points': None, 'time_estimate': None, 'custom_fields': [], 'dependencies': [{'task_id': '86a4q5jzb', 'depends_on': '86a4q5jyh', 'type': 1, 'date_created': '1724796846663', 'userid': '82061927', 'workspace_id': '12927880', 'chain_id': None}, {'task_id': '86a4q5jzb', 'depends_on': '86a4q5wk5', 'type': 1, 'date_created': '1724796718750', 'userid': '84141406', 'workspace_id': '12927880', 'chain_id': None}], 'linked_tasks': [], 'locations': [], 'team_id': '12927880', 'url': 'https://app.clickup.com/t/86a4q5jzb', 'sharing': {'public': False, 'public_share_expires_on': None, 'public_fields': ['assignees', 'priority', 'due_date', 'content', 'comments', 'attachments', 'customFields', 'subtasks', 'tags', 'checklists', 'coverimage'], 'token': None, 'seo_optimized': False}, 'permission_level': 'create', 'list': {'id': '901304909413', 'name': 'clickup_agent', 'access': True}, 'project': {'id': '90132806032', 'name': 'agente clickup playgroud (ana beatriz)', 'hidden': False, 'access': True}, 'folder': {'id': '90132806032', 'name': 'agente clickup playgroud (ana beatriz)', 'hidden': False, 'access': True}, 'space': {'id': '54804921'}}, {'id': '86a4q5jyh', 'custom_id': None, 'custom_item_id': 0, 'name': '(2024-08-27 18:48:25.780898): FUNDAÇÃO', 'text_content': '', 'description': '', 'status': {'status': 'backlog', 'id': 'p54804921_1gR1N0KG', 'color': '#9c09bc', 'type': 'open', 'orderindex': 0}, 'orderindex': '119424761.00000000000000000000000000000000', 'date_created': '1724795320296', 'date_updated': '1724795320296', 'date_closed': None, 'date_done': None, 'archived': False, 'creator': {'id': 82061927, 'username': 'Rafael Alves Magalhães', 'color': '', 'email': 'magalhaesrafael07@gmail.com', 'profilePicture': None}, 'assignees': [], 'group_assignees': [], 'watchers': [{'id': 82061927, 'username': 'Rafael Alves Magalhães', 'color': '', 'initials': 'RM', 'email': 'magalhaesrafael07@gmail.com', 'profilePicture': None}], 'checklists': [], 'tags': [], 'parent': None, 'priority': None, 'due_date': None, 'start_date': None, 'points': None, 'time_estimate': None, 'custom_fields': [], 'dependencies': [{'task_id': '86a4q5jzb', 'depends_on': '86a4q5jyh', 'type': 1, 'date_created': '1724796846663', 'userid': '82061927', 'workspace_id': '12927880', 'chain_id': None}], 'linked_tasks': [], 'locations': [], 'team_id': '12927880', 'url': 'https://app.clickup.com/t/86a4q5jyh', 'sharing': {'public': False, 'public_share_expires_on': None, 'public_fields': ['assignees', 'priority', 'due_date', 'content', 'comments', 'attachments', 'customFields', 'subtasks', 'tags', 'checklists', 'coverimage'], 'token': None, 'seo_optimized': False}, 'permission_level': 'create', 'list': {'id': '901304909413', 'name': 'clickup_agent', 'access': True}, 'project': {'id': '90132806032', 'name': 'agente clickup playgroud (ana beatriz)', 'hidden': False, 'access': True}, 'folder': {'id': '90132806032', 'name': 'agente clickup playgroud (ana beatriz)', 'hidden': False, 'access': True}, 'space': {'id': '54804921'}}, {'id': '86a4q5jvz', 'custom_id': None, 'custom_item_id': 0, 'name': '(2024-08-27 18:48:25.780898): NOVO TESTE BEM SUCEDIDO', 'text_content': '', 'description': '', 'status': {'status': 'backlog', 'id': 'p54804921_1gR1N0KG', 'color': '#9c09bc', 'type': 'open', 'orderindex': 0}, 'orderindex': '119424760.00000000000000000000000000000000', 'date_created': '1724795312345', 'date_updated': '1724795312345', 'date_closed': None, 'date_done': None, 'archived': False, 'creator': {'id': 82061927, 'username': 'Rafael Alves Magalhães', 'color': '', 'email': 'magalhaesrafael07@gmail.com', 'profilePicture': None}, 'assignees': [], 'group_assignees': [], 'watchers': [{'id': 82061927, 'username': 'Rafael Alves Magalhães', 'color': '', 'initials': 'RM', 'email': 'magalhaesrafael07@gmail.com', 'profilePicture': None}], 'checklists': [], 'tags': [], 'parent': None, 'priority': None, 'due_date': None, 'start_date': None, 'points': None, 'time_estimate': None, 'custom_fields': [], 'dependencies': [], 'linked_tasks': [], 'locations': [], 'team_id': '12927880', 'url': 'https://app.clickup.com/t/86a4q5jvz', 'sharing': {'public': False, 'public_share_expires_on': None, 'public_fields': ['assignees', 'priority', 'due_date', 'content', 'comments', 'attachments', 'customFields', 'subtasks', 'tags', 'checklists', 'coverimage'], 'token': None, 'seo_optimized': False}, 'permission_level': 'create', 'list': {'id': '901304909413', 'name': 'clickup_agent', 'access': True}, 'project': {'id': '90132806032', 'name': 'agente clickup playgroud (ana beatriz)', 'hidden': False, 'access': True}, 'folder': {'id': '90132806032', 'name': 'agente clickup playgroud (ana beatriz)', 'hidden': False, 'access': True}, 'space': {'id': '54804921'}}, {'id': '86a4q3yd1', 'custom_id': None, 'custom_item_id': 0, 'name': 'TESTE BEM SUCEDIDO', 'text_content': '', 'description': '', 'status': {'status': 'backlog', 'id': 'p54804921_1gR1N0KG', 'color': '#9c09bc', 'type': 'open', 'orderindex': 0}, 'orderindex': '119424757.00000000000000000000000000000000', 'date_created': '1724788522006', 'date_updated': '1724788522006', 'date_closed': None, 'date_done': None, 'archived': False, 'creator': {'id': 82061927, 'username': 'Rafael Alves Magalhães', 'color': '', 'email': 'magalhaesrafael07@gmail.com', 'profilePicture': None}, 'assignees': [], 'group_assignees': [], 'watchers': [{'id': 82061927, 'username': 'Rafael Alves Magalhães', 'color': '', 'initials': 'RM', 'email': 'magalhaesrafael07@gmail.com', 'profilePicture': None}], 'checklists': [], 'tags': [], 'parent': None, 'priority': None, 'due_date': None, 'start_date': None, 'points': None, 'time_estimate': None, 'custom_fields': [], 'dependencies': [], 'linked_tasks': [], 'locations': [], 'team_id': '12927880', 'url': 'https://app.clickup.com/t/86a4q3yd1', 'sharing': {'public': False, 'public_share_expires_on': None, 'public_fields': ['assignees', 'priority', 'due_date', 'content', 'comments', 'attachments', 'customFields', 'subtasks', 'tags', 'checklists', 'coverimage'], 'token': None, 'seo_optimized': False}, 'permission_level': 'create', 'list': {'id': '901304909413', 'name': 'clickup_agent', 'access': True}, 'project': {'id': '90132806032', 'name': 'agente clickup playgroud (ana beatriz)', 'hidden': False, 'access': True}, 'folder': {'id': '90132806032', 'name': 'agente clickup playgroud (ana beatriz)', 'hidden': False, 'access': True}, 'space': {'id': '54804921'}}, {'id': '86a4dv68v', 'custom_id': None, 'custom_item_id': 0, 'name': 'Criar materiais de treinamento e documentação técnica', 'text_content': 'Parte do Marco 5: Treinamento e Documentação', 'description': 'Parte do Marco 5: Treinamento e Documentação', 'status': {'status': 'backlog', 'id': 'p54804921_1gR1N0KG', 'color': '#9c09bc', 'type': 'open', 'orderindex': 0}, 'orderindex': '119424655.00000910000000000000000000000000', 'date_created': '1722635915857', 'date_updated': '1722635915857', 'date_closed': None, 'date_done': None, 'archived': False, 'creator': {'id': 81918955, 'username': 'João Guilherme Silva Morossini', 'color': '#81b1ff', 'email': 'joaog.morossini@gmail.com', 'profilePicture': 'https://attachments.clickup.com/profilePictures/81918955_kcK.jpg'}, 'assignees': [], 'group_assignees': [], 'watchers': [{'id': 81918955, 'username': 'João Guilherme Silva Morossini', 'color': '#81b1ff', 'initials': 'JM', 'email': 'joaog.morossini@gmail.com', 'profilePicture': 'https://attachments.clickup.com/profilePictures/81918955_kcK.jpg'}], 'checklists': [], 'tags': [], 'parent': None, 'priority': None, 'due_date': None, 'start_date': None, 'points': None, 'time_estimate': None, 'custom_fields': [], 'dependencies': [], 'linked_tasks': [], 'locations': [], 'team_id': '12927880', 'url': 'https://app.clickup.com/t/86a4dv68v', 'sharing': {'public': False, 'public_share_expires_on': None, 'public_fields': ['assignees', 'priority', 'due_date', 'content', 'comments', 'attachments', 'customFields', 'subtasks', 'tags', 'checklists', 'coverimage'], 'token': None, 'seo_optimized': False}, 'permission_level': 'create', 'list': {'id': '901304909413', 'name': 'clickup_agent', 'access': True}, 'project': {'id': '90132806032', 'name': 'agente clickup playgroud (ana beatriz)', 'hidden': False, 'access': True}, 'folder': {'id': '90132806032', 'name': 'agente clickup playgroud (ana beatriz)', 'hidden': False, 'access': True}, 'space': {'id': '54804921'}}, {'id': '86a4dv68u', 'custom_id': None, 'custom_item_id': 0, 'name': 'Fornecer serviços de manutenção e suporte pós-implantação', 'text_content': 'Parte do Marco 6: Implantação e Suporte', 'description': 'Parte do Marco 6: Implantação e Suporte', 'status': {'status': 'backlog', 'id': 'p54804921_1gR1N0KG', 'color': '#9c09bc', 'type': 'open', 'orderindex': 0}, 'orderindex': '119424655.00000000000000000000000000000000', 'date_created': '1722635915830', 'date_updated': '1722635915830', 'date_closed': None, 'date_done': None, 'archived': False, 'creator': {'id': 81918955, 'username': 'João Guilherme Silva Morossini', 'color': '#81b1ff', 'email': 'joaog.morossini@gmail.com', 'profilePicture': 'https://attachments.clickup.com/profilePictures/81918955_kcK.jpg'}, 'assignees': [], 'group_assignees': [], 'watchers': [{'id': 81918955, 'username': 'João Guilherme Silva Morossini', 'color': '#81b1ff', 'initials': 'JM', 'email': 'joaog.morossini@gmail.com', 'profilePicture': 'https://attachments.clickup.com/profilePictures/81918955_kcK.jpg'}], 'checklists': [], 'tags': [], 'parent': None, 'priority': None, 'due_date': None, 'start_date': None, 'points': None, 'time_estimate': None, 'custom_fields': [], 'dependencies': [], 'linked_tasks': [], 'locations': [], 'team_id': '12927880', 'url': 'https://app.clickup.com/t/86a4dv68u', 'sharing': {'public': False, 'public_share_expires_on': None, 'public_fields': ['assignees', 'priority', 'due_date', 'content', 'comments', 'attachments', 'customFields', 'subtasks', 'tags', 'checklists', 'coverimage'], 'token': None, 'seo_optimized': False}, 'permission_level': 'create', 'list': {'id': '901304909413', 'name': 'clickup_agent', 'access': True}, 'project': {'id': '90132806032', 'name': 'agente clickup playgroud (ana beatriz)', 'hidden': False, 'access': True}, 'folder': {'id': '90132806032', 'name': 'agente clickup playgroud (ana beatriz)', 'hidden': False, 'access': True}, 'space': {'id': '54804921'}}, {'id': '86a4dv68t', 'custom_id': None, 'custom_item_id': 0, 'name': 'Validar conformidade com GDPR, FDCPA e outras regulamentações aplicáveis', 'text_content': 'Parte do Marco 4: Testes e Validação', 'description': 'Parte do Marco 4: Testes e Validação', 'status': {'status': 'backlog', 'id': 'p54804921_1gR1N0KG', 'color': '#9c09bc', 'type': 'open', 'orderindex': 0}, 'orderindex': '119424654.00000000000000000000000000000000', 'date_created': '1722635915774', 'date_updated': '1722635915774', 'date_closed': None, 'date_done': None, 'archived': False, 'creator': {'id': 81918955, 'username': 'João Guilherme Silva Morossini', 'color': '#81b1ff', 'email': 'joaog.morossini@gmail.com', 'profilePicture': 'https://attachments.clickup.com/profilePictures/81918955_kcK.jpg'}, 'assignees': [], 'group_assignees': [], 'watchers': [{'id': 81918955, 'username': 'João Guilherme Silva Morossini', 'color': '#81b1ff', 'initials': 'JM', 'email': 'joaog.morossini@gmail.com', 'profilePicture': 'https://attachments.clickup.com/profilePictures/81918955_kcK.jpg'}], 'checklists': [], 'tags': [], 'parent': None, 'priority': None, 'due_date': None, 'start_date': None, 'points': None, 'time_estimate': None, 'custom_fields': [], 'dependencies': [], 'linked_tasks': [], 'locations': [], 'team_id': '12927880', 'url': 'https://app.clickup.com/t/86a4dv68t', 'sharing': {'public': False, 'public_share_expires_on': None, 'public_fields': ['assignees', 'priority', 'due_date', 'content', 'comments', 'attachments', 'customFields', 'subtasks', 'tags', 'checklists', 'coverimage'], 'token': None, 'seo_optimized': False}, 'permission_level': 'create', 'list': {'id': '901304909413', 'name': 'clickup_agent', 'access': True}, 'project': {'id': '90132806032', 'name': 'agente clickup playgroud (ana beatriz)', 'hidden': False, 'access': True}, 'folder': {'id': '90132806032', 'name': 'agente clickup playgroud (ana beatriz)', 'hidden': False, 'access': True}, 'space': {'id': '54804921'}}, {'id': '86a4dv68r', 'custom_id': None, 'custom_item_id': 0, 'name': 'Implantar o agente de IA no ambiente do cliente', 'text_content': 'Parte do Marco 6: Implantação e Suporte', 'description': 'Parte do Marco 6: Implantação e Suporte', 'status': {'status': 'backlog', 'id': 'p54804921_1gR1N0KG', 'color': '#9c09bc', 'type': 'open', 'orderindex': 0}, 'orderindex': '119424653.00000771000000000000000000000000', 'date_created': '1722635915713', 'date_updated': '1722635915713', 'date_closed': None, 'date_done': None, 'archived': False, 'creator': {'id': 81918955, 'username': 'João Guilherme Silva Morossini', 'color': '#81b1ff', 'email': 'joaog.morossini@gmail.com', 'profilePicture': 'https://attachments.clickup.com/profilePictures/81918955_kcK.jpg'}, 'assignees': [], 'group_assignees': [], 'watchers': [{'id': 81918955, 'username': 'João Guilherme Silva Morossini', 'color': '#81b1ff', 'initials': 'JM', 'email': 'joaog.morossini@gmail.com', 'profilePicture': 'https://attachments.clickup.com/profilePictures/81918955_kcK.jpg'}], 'checklists': [], 'tags': [], 'parent': None, 'priority': None, 'due_date': None, 'start_date': None, 'points': None, 'time_estimate': None, 'custom_fields': [], 'dependencies': [], 'linked_tasks': [], 'locations': [], 'team_id': '12927880', 'url': 'https://app.clickup.com/t/86a4dv68r', 'sharing': {'public': False, 'public_share_expires_on': None, 'public_fields': ['assignees', 'priority', 'due_date', 'content', 'comments', 'attachments', 'customFields', 'subtasks', 'tags', 'checklists', 'coverimage'], 'token': None, 'seo_optimized': False}, 'permission_level': 'create', 'list': {'id': '901304909413', 'name': 'clickup_agent', 'access': True}, 'project': {'id': '90132806032', 'name': 'agente clickup playgroud (ana beatriz)', 'hidden': False, 'access': True}, 'folder': {'id': '90132806032', 'name': 'agente clickup playgroud (ana beatriz)', 'hidden': False, 'access': True}, 'space': {'id': '54804921'}}, {'id': '86a4dv68q', 'custom_id': None, 'custom_item_id': 0, 'name': 'Integrar o agente de IA com a API do WhatsApp', 'text_content': 'Parte do Marco 2: Desenvolvimento do Agente de IA', 'description': 'Parte do Marco 2: Desenvolvimento do Agente de IA', 'status': {'status': 'backlog', 'id': 'p54804921_1gR1N0KG', 'color': '#9c09bc', 'type': 'open', 'orderindex': 0}, 'orderindex': '119424653.00000385000000000000000000000000', 'date_created': '1722635915689', 'date_updated': '1722635915689', 'date_closed': None, 'date_done': None, 'archived': False, 'creator': {'id': 81918955, 'username': 'João Guilherme Silva Morossini', 'color': '#81b1ff', 'email': 'joaog.morossini@gmail.com', 'profilePicture': 'https://attachments.clickup.com/profilePictures/81918955_kcK.jpg'}, 'assignees': [], 'group_assignees': [], 'watchers': [{'id': 81918955, 'username': 'João Guilherme Silva Morossini', 'color': '#81b1ff', 'initials': 'JM', 'email': 'joaog.morossini@gmail.com', 'profilePicture': 'https://attachments.clickup.com/profilePictures/81918955_kcK.jpg'}], 'checklists': [], 'tags': [], 'parent': None, 'priority': None, 'due_date': None, 'start_date': None, 'points': None, 'time_estimate': None, 'custom_fields': [], 'dependencies': [], 'linked_tasks': [], 'locations': [], 'team_id': '12927880', 'url': 'https://app.clickup.com/t/86a4dv68q', 'sharing': {'public': False, 'public_share_expires_on': None, 'public_fields': ['assignees', 'priority', 'due_date', 'content', 'comments', 'attachments', 'customFields', 'subtasks', 'tags', 'checklists', 'coverimage'], 'token': None, 'seo_optimized': False}, 'permission_level': 'create', 'list': {'id': '901304909413', 'name': 'clickup_agent', 'access': True}, 'project': {'id': '90132806032', 'name': 'agente clickup playgroud (ana beatriz)', 'hidden': False, 'access': True}, 'folder': {'id': '90132806032', 'name': 'agente clickup playgroud (ana beatriz)', 'hidden': False, 'access': True}, 'space': {'id': '54804921'}}, {'id': '86a4dv68p', 'custom_id': None, 'custom_item_id': 0, 'name': 'Treinar a equipe do cliente no uso do agente de IA', 'text_content': 'Parte do Marco 5: Treinamento e Documentação', 'description': 'Parte do Marco 5: Treinamento e Documentação', 'status': {'status': 'backlog', 'id': 'p54804921_1gR1N0KG', 'color': '#9c09bc', 'type': 'open', 'orderindex': 0}, 'orderindex': '119424653.00000354000000000000000000000000', 'date_created': '1722635915679', 'date_updated': '1722635915679', 'date_closed': None, 'date_done': None, 'archived': False, 'creator': {'id': 81918955, 'username': 'João Guilherme Silva Morossini', 'color': '#81b1ff', 'email': 'joaog.morossini@gmail.com', 'profilePicture': 'https://attachments.clickup.com/profilePictures/81918955_kcK.jpg'}, 'assignees': [], 'group_assignees': [], 'watchers': [{'id': 81918955, 'username': 'João Guilherme Silva Morossini', 'color': '#81b1ff', 'initials': 'JM', 'email': 'joaog.morossini@gmail.com', 'profilePicture': 'https://attachments.clickup.com/profilePictures/81918955_kcK.jpg'}], 'checklists': [], 'tags': [], 'parent': None, 'priority': None, 'due_date': None, 'start_date': None, 'points': None, 'time_estimate': None, 'custom_fields': [], 'dependencies': [], 'linked_tasks': [], 'locations': [], 'team_id': '12927880', 'url': 'https://app.clickup.com/t/86a4dv68p', 'sharing': {'public': False, 'public_share_expires_on': None, 'public_fields': ['assignees', 'priority', 'due_date', 'content', 'comments', 'attachments', 'customFields', 'subtasks', 'tags', 'checklists', 'coverimage'], 'token': None, 'seo_optimized': False}, 'permission_level': 'create', 'list': {'id': '901304909413', 'name': 'clickup_agent', 'access': True}, 'project': {'id': '90132806032', 'name': 'agente clickup playgroud (ana beatriz)', 'hidden': False, 'access': True}, 'folder': {'id': '90132806032', 'name': 'agente clickup playgroud (ana beatriz)', 'hidden': False, 'access': True}, 'space': {'id': '54804921'}}, {'id': '86a4dv68n', 'custom_id': None, 'custom_item_id': 0, 'name': 'Implementar módulo de relatórios para métricas de desempenho', 'text_content': 'Parte do Marco 3: Interface do Usuário', 'description': 'Parte do Marco 3: Interface do Usuário', 'status': {'status': 'backlog', 'id': 'p54804921_1gR1N0KG', 'color': '#9c09bc', 'type': 'open', 'orderindex': 0}, 'orderindex': '119424653.00000000000000000000000000000000', 'date_created': '1722635915647', 'date_updated': '1722635915647', 'date_closed': None, 'date_done': None, 'archived': False, 'creator': {'id': 81918955, 'username': 'João Guilherme Silva Morossini', 'color': '#81b1ff', 'email': 'joaog.morossini@gmail.com', 'profilePicture': 'https://attachments.clickup.com/profilePictures/81918955_kcK.jpg'}, 'assignees': [], 'group_assignees': [], 'watchers': [{'id': 81918955, 'username': 'João Guilherme Silva Morossini', 'color': '#81b1ff', 'initials': 'JM', 'email': 'joaog.morossini@gmail.com', 'profilePicture': 'https://attachments.clickup.com/profilePictures/81918955_kcK.jpg'}], 'checklists': [], 'tags': [], 'parent': None, 'priority': None, 'due_date': None, 'start_date': None, 'points': None, 'time_estimate': None, 'custom_fields': [], 'dependencies': [], 'linked_tasks': [], 'locations': [], 'team_id': '12927880', 'url': 'https://app.clickup.com/t/86a4dv68n', 'sharing': {'public': False, 'public_share_expires_on': None, 'public_fields': ['assignees', 'priority', 'due_date', 'content', 'comments', 'attachments', 'customFields', 'subtasks', 'tags', 'checklists', 'coverimage'], 'token': None, 'seo_optimized': False}, 'permission_level': 'create', 'list': {'id': '901304909413', 'name': 'clickup_agent', 'access': True}, 'project': {'id': '90132806032', 'name': 'agente clickup playgroud (ana beatriz)', 'hidden': False, 'access': True}, 'folder': {'id': '90132806032', 'name': 'agente clickup playgroud (ana beatriz)', 'hidden': False, 'access': True}, 'space': {'id': '54804921'}}, {'id': '86a4dv68m', 'custom_id': None, 'custom_item_id': 0, 'name': 'Realizar testes de integração e segurança', 'text_content': 'Parte do Marco 4: Testes e Validação', 'description': 'Parte do Marco 4: Testes e Validação', 'status': {'status': 'backlog', 'id': 'p54804921_1gR1N0KG', 'color': '#9c09bc', 'type': 'open', 'orderindex': 0}, 'orderindex': '119424653.00000486000000000000000000000000', 'date_created': '1722635915634', 'date_updated': '1722635915634', 'date_closed': None, 'date_done': None, 'archived': False, 'creator': {'id': 81918955, 'username': 'João Guilherme Silva Morossini', 'color': '#81b1ff', 'email': 'joaog.morossini@gmail.com', 'profilePicture': 'https://attachments.clickup.com/profilePictures/81918955_kcK.jpg'}, 'assignees': [], 'group_assignees': [], 'watchers': [{'id': 81918955, 'username': 'João Guilherme Silva Morossini', 'color': '#81b1ff', 'initials': 'JM', 'email': 'joaog.morossini@gmail.com', 'profilePicture': 'https://attachments.clickup.com/profilePictures/81918955_kcK.jpg'}], 'checklists': [], 'tags': [], 'parent': None, 'priority': None, 'due_date': None, 'start_date': None, 'points': None, 'time_estimate': None, 'custom_fields': [], 'dependencies': [], 'linked_tasks': [], 'locations': [], 'team_id': '12927880', 'url': 'https://app.clickup.com/t/86a4dv68m', 'sharing': {'public': False, 'public_share_expires_on': None, 'public_fields': ['assignees', 'priority', 'due_date', 'content', 'comments', 'attachments', 'customFields', 'subtasks', 'tags', 'checklists', 'coverimage'], 'token': None, 'seo_optimized': False}, 'permission_level': 'create', 'list': {'id': '901304909413', 'name': 'clickup_agent', 'access': True}, 'project': {'id': '90132806032', 'name': 'agente clickup playgroud (ana beatriz)', 'hidden': False, 'access': True}, 'folder': {'id': '90132806032', 'name': 'agente clickup playgroud (ana beatriz)', 'hidden': False, 'access': True}, 'space': {'id': '54804921'}}, {'id': '86a4dv68k', 'custom_id': None, 'custom_item_id': 0, 'name': 'Desenvolver o agente de IA com capacidade de NLU', 'text_content': 'Parte do Marco 2: Desenvolvimento do Agente de IA', 'description': 'Parte do Marco 2: Desenvolvimento do Agente de IA', 'status': {'status': 'backlog', 'id': 'p54804921_1gR1N0KG', 'color': '#9c09bc', 'type': 'open', 'orderindex': 0}, 'orderindex': '119424652.00000000000000000000000000000000', 'date_created': '1722635915544', 'date_updated': '1722635915544', 'date_closed': None, 'date_done': None, 'archived': False, 'creator': {'id': 81918955, 'username': 'João Guilherme Silva Morossini', 'color': '#81b1ff', 'email': 'joaog.morossini@gmail.com', 'profilePicture': 'https://attachments.clickup.com/profilePictures/81918955_kcK.jpg'}, 'assignees': [], 'group_assignees': [], 'watchers': [{'id': 81918955, 'username': 'João Guilherme Silva Morossini', 'color': '#81b1ff', 'initials': 'JM', 'email': 'joaog.morossini@gmail.com', 'profilePicture': 'https://attachments.clickup.com/profilePictures/81918955_kcK.jpg'}], 'checklists': [], 'tags': [], 'parent': None, 'priority': None, 'due_date': None, 'start_date': None, 'points': None, 'time_estimate': None, 'custom_fields': [], 'dependencies': [], 'linked_tasks': [], 'locations': [], 'team_id': '12927880', 'url': 'https://app.clickup.com/t/86a4dv68k', 'sharing': {'public': False, 'public_share_expires_on': None, 'public_fields': ['assignees', 'priority', 'due_date', 'content', 'comments', 'attachments', 'customFields', 'subtasks', 'tags', 'checklists', 'coverimage'], 'token': None, 'seo_optimized': False}, 'permission_level': 'create', 'list': {'id': '901304909413', 'name': 'clickup_agent', 'access': True}, 'project': {'id': '90132806032', 'name': 'agente clickup playgroud (ana beatriz)', 'hidden': False, 'access': True}, 'folder': {'id': '90132806032', 'name': 'agente clickup playgroud (ana beatriz)', 'hidden': False, 'access': True}, 'space': {'id': '54804921'}}, {'id': '86a4dv68j', 'custom_id': None, 'custom_item_id': 0, 'name': 'Desenvolver interface do usuário para monitoramento de conversas e resultados', 'text_content': 'Parte do Marco 3: Interface do Usuário', 'description': 'Parte do Marco 3: Interface do Usuário', 'status': {'status': 'backlog', 'id': 'p54804921_1gR1N0KG', 'color': '#9c09bc', 'type': 'open', 'orderindex': 0}, 'orderindex': '119424651.00000947000000000000000000000000', 'date_created': '1722635915414', 'date_updated': '1722635915414', 'date_closed': None, 'date_done': None, 'archived': False, 'creator': {'id': 81918955, 'username': 'João Guilherme Silva Morossini', 'color': '#81b1ff', 'email': 'joaog.morossini@gmail.com', 'profilePicture': 'https://attachments.clickup.com/profilePictures/81918955_kcK.jpg'}, 'assignees': [], 'group_assignees': [], 'watchers': [{'id': 81918955, 'username': 'João Guilherme Silva Morossini', 'color': '#81b1ff', 'initials': 'JM', 'email': 'joaog.morossini@gmail.com', 'profilePicture': 'https://attachments.clickup.com/profilePictures/81918955_kcK.jpg'}], 'checklists': [], 'tags': [], 'parent': None, 'priority': None, 'due_date': None, 'start_date': None, 'points': None, 'time_estimate': None, 'custom_fields': [], 'dependencies': [], 'linked_tasks': [], 'locations': [], 'team_id': '12927880', 'url': 'https://app.clickup.com/t/86a4dv68j', 'sharing': {'public': False, 'public_share_expires_on': None, 'public_fields': ['assignees', 'priority', 'due_date', 'content', 'comments', 'attachments', 'customFields', 'subtasks', 'tags', 'checklists', 'coverimage'], 'token': None, 'seo_optimized': False}, 'permission_level': 'create', 'list': {'id': '901304909413', 'name': 'clickup_agent', 'access': True}, 'project': {'id': '90132806032', 'name': 'agente clickup playgroud (ana beatriz)', 'hidden': False, 'access': True}, 'folder': {'id': '90132806032', 'name': 'agente clickup playgroud (ana beatriz)', 'hidden': False, 'access': True}, 'space': {'id': '54804921'}}, {'id': '86a4dv68h', 'custom_id': None, 'custom_item_id': 0, 'name': 'Garantir compatibilidade com sistemas de gerenciamento de banco de dados', 'text_content': 'Parte do Marco 2: Desenvolvimento do Agente de IA', 'description': 'Parte do Marco 2: Desenvolvimento do Agente de IA', 'status': {'status': 'backlog', 'id': 'p54804921_1gR1N0KG', 'color': '#9c09bc', 'type': 'open', 'orderindex': 0}, 'orderindex': '119424651.00000000000000000000000000000000', 'date_created': '1722635915390', 'date_updated': '1722635915390', 'date_closed': None, 'date_done': None, 'archived': False, 'creator': {'id': 81918955, 'username': 'João Guilherme Silva Morossini', 'color': '#81b1ff', 'email': 'joaog.morossini@gmail.com', 'profilePicture': 'https://attachments.clickup.com/profilePictures/81918955_kcK.jpg'}, 'assignees': [], 'group_assignees': [], 'watchers': [{'id': 81918955, 'username': 'João Guilherme Silva Morossini', 'color': '#81b1ff', 'initials': 'JM', 'email': 'joaog.morossini@gmail.com', 'profilePicture': 'https://attachments.clickup.com/profilePictures/81918955_kcK.jpg'}], 'checklists': [], 'tags': [], 'parent': None, 'priority': None, 'due_date': None, 'start_date': None, 'points': None, 'time_estimate': None, 'custom_fields': [], 'dependencies': [], 'linked_tasks': [], 'locations': [], 'team_id': '12927880', 'url': 'https://app.clickup.com/t/86a4dv68h', 'sharing': {'public': False, 'public_share_expires_on': None, 'public_fields': ['assignees', 'priority', 'due_date', 'content', 'comments', 'attachments', 'customFields', 'subtasks', 'tags', 'checklists', 'coverimage'], 'token': None, 'seo_optimized': False}, 'permission_level': 'create', 'list': {'id': '901304909413', 'name': 'clickup_agent', 'access': True}, 'project': {'id': '90132806032', 'name': 'agente clickup playgroud (ana beatriz)', 'hidden': False, 'access': True}, 'folder': {'id': '90132806032', 'name': 'agente clickup playgroud (ana beatriz)', 'hidden': False, 'access': True}, 'space': {'id': '54804921'}}, {'id': '86a4dv68g', 'custom_id': None, 'custom_item_id': 0, 'name': 'Definir requisitos técnicos e de segurança', 'text_content': 'Parte do Marco 1: Planejamento e Design', 'description': 'Parte do Marco 1: Planejamento e Design', 'status': {'status': 'backlog', 'id': 'p54804921_1gR1N0KG', 'color': '#9c09bc', 'type': 'open', 'orderindex': 0}, 'orderindex': '119424649.00000264000000000000000000000000', 'date_created': '1722635915121', 'date_updated': '1722635915121', 'date_closed': None, 'date_done': None, 'archived': False, 'creator': {'id': 81918955, 'username': 'João Guilherme Silva Morossini', 'color': '#81b1ff', 'email': 'joaog.morossini@gmail.com', 'profilePicture': 'https://attachments.clickup.com/profilePictures/81918955_kcK.jpg'}, 'assignees': [], 'group_assignees': [], 'watchers': [{'id': 81918955, 'username': 'João Guilherme Silva Morossini', 'color': '#81b1ff', 'initials': 'JM', 'email': 'joaog.morossini@gmail.com', 'profilePicture': 'https://attachments.clickup.com/profilePictures/81918955_kcK.jpg'}], 'checklists': [], 'tags': [], 'parent': None, 'priority': None, 'due_date': None, 'start_date': None, 'points': None, 'time_estimate': None, 'custom_fields': [], 'dependencies': [], 'linked_tasks': [], 'locations': [], 'team_id': '12927880', 'url': 'https://app.clickup.com/t/86a4dv68g', 'sharing': {'public': False, 'public_share_expires_on': None, 'public_fields': ['assignees', 'priority', 'due_date', 'content', 'comments', 'attachments', 'customFields', 'subtasks', 'tags', 'checklists', 'coverimage'], 'token': None, 'seo_optimized': False}, 'permission_level': 'create', 'list': {'id': '901304909413', 'name': 'clickup_agent', 'access': True}, 'project': {'id': '90132806032', 'name': 'agente clickup playgroud (ana beatriz)', 'hidden': False, 'access': True}, 'folder': {'id': '90132806032', 'name': 'agente clickup playgroud (ana beatriz)', 'hidden': False, 'access': True}, 'space': {'id': '54804921'}}, {'id': '86a4dv68f', 'custom_id': None, 'custom_item_id': 0, 'name': 'Criar documento de design do sistema para o agente de IA', 'text_content': 'Parte do Marco 1: Planejamento e Design', 'description': 'Parte do Marco 1: Planejamento e Design', 'status': {'status': 'backlog', 'id': 'p54804921_1gR1N0KG', 'color': '#9c09bc', 'type': 'open', 'orderindex': 0}, 'orderindex': '119424649.00000000000000000000000000000000', 'date_created': '1722635915101', 'date_updated': '1722635915101', 'date_closed': None, 'date_done': None, 'archived': False, 'creator': {'id': 81918955, 'username': 'João Guilherme Silva Morossini', 'color': '#81b1ff', 'email': 'joaog.morossini@gmail.com', 'profilePicture': 'https://attachments.clickup.com/profilePictures/81918955_kcK.jpg'}, 'assignees': [], 'group_assignees': [], 'watchers': [{'id': 81918955, 'username': 'João Guilherme Silva Morossini', 'color': '#81b1ff', 'initials': 'JM', 'email': 'joaog.morossini@gmail.com', 'profilePicture': 'https://attachments.clickup.com/profilePictures/81918955_kcK.jpg'}], 'checklists': [], 'tags': [], 'parent': None, 'priority': None, 'due_date': None, 'start_date': None, 'points': None, 'time_estimate': None, 'custom_fields': [], 'dependencies': [], 'linked_tasks': [], 'locations': [], 'team_id': '12927880', 'url': 'https://app.clickup.com/t/86a4dv68f', 'sharing': {'public': False, 'public_share_expires_on': None, 'public_fields': ['assignees', 'priority', 'due_date', 'content', 'comments', 'attachments', 'customFields', 'subtasks', 'tags', 'checklists', 'coverimage'], 'token': None, 'seo_optimized': False}, 'permission_level': 'create', 'list': {'id': '901304909413', 'name': 'clickup_agent', 'access': True}, 'project': {'id': '90132806032', 'name': 'agente clickup playgroud (ana beatriz)', 'hidden': False, 'access': True}, 'folder': {'id': '90132806032', 'name': 'agente clickup playgroud (ana beatriz)', 'hidden': False, 'access': True}, 'space': {'id': '54804921'}}, {'id': '86a4dv4gx', 'custom_id': None, 'custom_item_id': 0, 'name': 'Escopo', 'text_content': 'Project Scope Document: Development of Custom Autonomous AI Agent for Debt Collection via WhatsApp\\n\\nExecutive Summary\\nThe purpose of this project is to develop a custom autonomous Artificial Intelligence (AI) agent that will handle debt collection through the WhatsApp messaging platform. The AI agent will interact with debtors in a professional and compliant manner, with the goal of improving collection rates and efficiency while maintaining customer relations.\\n\\nObjectives\\nTo create an AI-driven debt collection solution integrated with WhatsApp.\\nTo enhance the efficiency of the debt collection process by reducing manual intervention.\\nTo ensure compliance with legal and ethical standards in debt collection practices.\\nTo provide effortless user experiences for both the client (debt collector) and the debtor.\\nTo implement natural language processing for understanding and responding to debtor queries appropriately.\\n\\nProject Deliverables\\nA comprehensive system design document for the AI agent.\\nAn integrated AI agent that can securely connect to existing customer databases.\\nA user interface on the client side for monitoring conversations and outcomes.\\nA reporting module for tracking performance metrics such as success rate and response time.\\nTraining materials and technical documentation.\\nMaintenance and support services for a specified period after deployment.\\n\\nTechnical Requirements\\nSecure integration with WhatsApp API.\\nAI framework capable of natural language understanding (NLU) and machine learning for continuous improvement.\\nCompatibility with various database management systems for accessing debtor information.\\nStrong encryption protocols to protect sensitive data during transmission and at rest.\\nScalability options to handle variable workload.\\n\\nConstraints\\nCompliance with the General Data Protection Regulation (GDPR), Fair Debt Collection Practices Act (FDCPA), or any applicable regional regulations.\\nHigh availability requirements to ensure the AI agent operates without interruption.\\nBudget limitations for development, operation, and maintenance phases.\\nTimelines for development and testing before the tool goes live.\\n\\nAssumptions\\nSufficient training data will be available for machine learning models to effectively interact with debtors.\\nClient’s current IT infrastructure can support the integration of the AI agent.\\nUsers will have basic familiarity with WhatsApp and web-based applications.\\n\\nRisks\\nPrivacy concerns may arise regarding handling and storing personal data.\\nPotential resistance from debtors to communicate with an AI agent instead of a human representative.\\nTechnical challenges related to AI understanding complex debtor inquiries.', 'description': 'Project Scope Document: Development of Custom Autonomous AI Agent for Debt Collection via WhatsApp\\n\\nExecutive Summary\\nThe purpose of this project is to develop a custom autonomous Artificial Intelligence (AI) agent that will handle debt collection through the WhatsApp messaging platform. The AI agent will interact with debtors in a professional and compliant manner, with the goal of improving collection rates and efficiency while maintaining customer relations.\\n\\nObjectives\\nTo create an AI-driven debt collection solution integrated with WhatsApp.\\nTo enhance the efficiency of the debt collection process by reducing manual intervention.\\nTo ensure compliance with legal and ethical standards in debt collection practices.\\nTo provide effortless user experiences for both the client (debt collector) and the debtor.\\nTo implement natural language processing for understanding and responding to debtor queries appropriately.\\n\\nProject Deliverables\\nA comprehensive system design document for the AI agent.\\nAn integrated AI agent that can securely connect to existing customer databases.\\nA user interface on the client side for monitoring conversations and outcomes.\\nA reporting module for tracking performance metrics such as success rate and response time.\\nTraining materials and technical documentation.\\nMaintenance and support services for a specified period after deployment.\\n\\nTechnical Requirements\\nSecure integration with WhatsApp API.\\nAI framework capable of natural language understanding (NLU) and machine learning for continuous improvement.\\nCompatibility with various database management systems for accessing debtor information.\\nStrong encryption protocols to protect sensitive data during transmission and at rest.\\nScalability options to handle variable workload.\\n\\nConstraints\\nCompliance with the General Data Protection Regulation (GDPR), Fair Debt Collection Practices Act (FDCPA), or any applicable regional regulations.\\nHigh availability requirements to ensure the AI agent operates without interruption.\\nBudget limitations for development, operation, and maintenance phases.\\nTimelines for development and testing before the tool goes live.\\n\\nAssumptions\\nSufficient training data will be available for machine learning models to effectively interact with debtors.\\nClient’s current IT infrastructure can support the integration of the AI agent.\\nUsers will have basic familiarity with WhatsApp and web-based applications.\\n\\nRisks\\nPrivacy concerns may arise regarding handling and storing personal data.\\nPotential resistance from debtors to communicate with an AI agent instead of a human representative.\\nTechnical challenges related to AI understanding complex debtor inquiries.', 'status': {'status': 'backlog', 'id': 'p54804921_1gR1N0KG', 'color': '#9c09bc', 'type': 'open', 'orderindex': 0}, 'orderindex': '119424648.00000000000000000000000000000000', 'date_created': '1722635480585', 'date_updated': '1722635598809', 'date_closed': None, 'date_done': None, 'archived': False, 'creator': {'id': 81918955, 'username': 'João Guilherme Silva Morossini', 'color': '#81b1ff', 'email': 'joaog.morossini@gmail.com', 'profilePicture': 'https://attachments.clickup.com/profilePictures/81918955_kcK.jpg'}, 'assignees': [], 'group_assignees': [], 'watchers': [{'id': 81918955, 'username': 'João Guilherme Silva Morossini', 'color': '#81b1ff', 'initials': 'JM', 'email': 'joaog.morossini@gmail.com', 'profilePicture': 'https://attachments.clickup.com/profilePictures/81918955_kcK.jpg'}], 'checklists': [], 'tags': [], 'parent': None, 'priority': None, 'due_date': None, 'start_date': None, 'points': None, 'time_estimate': None, 'custom_fields': [], 'dependencies': [], 'linked_tasks': [], 'locations': [], 'team_id': '12927880', 'url': 'https://app.clickup.com/t/86a4dv4gx', 'sharing': {'public': False, 'public_share_expires_on': None, 'public_fields': ['assignees', 'priority', 'due_date', 'content', 'comments', 'attachments', 'customFields', 'subtasks', 'tags', 'checklists', 'coverimage'], 'token': None, 'seo_optimized': False}, 'permission_level': 'create', 'list': {'id': '901304909413', 'name': 'clickup_agent', 'access': True}, 'project': {'id': '90132806032', 'name': 'agente clickup playgroud (ana beatriz)', 'hidden': False, 'access': True}, 'folder': {'id': '90132806032', 'name': 'agente clickup playgroud (ana beatriz)', 'hidden': False, 'access': True}, 'space': {'id': '54804921'}}], 'last_page': True}\u001b[0m\u001b[32;1m\u001b[1;3mAqui está a lista de tarefas na lista \"clickup_agent\":\n",
      "\n",
      "1. **TESTE BEM SUCEDIDO04**\n",
      "   - Status: backlog\n",
      "   - Criador: Ana Beatriz\n",
      "   - Atribuído a: Rafael Alves Magalhães\n",
      "   - [Link para a tarefa](https://app.clickup.com/t/86a4r1ux8)\n",
      "\n",
      "2. **DEU CERTO**\n",
      "   - Status: backlog\n",
      "   - Criador: Rafael Alves Magalhães\n",
      "   - [Link para a tarefa](https://app.clickup.com/t/86a4r1eey)\n",
      "\n",
      "3. **TESTE BEM SUCEDIDO04**\n",
      "   - Status: backlog\n",
      "   - Criador: Ana Beatriz\n",
      "   - Atribuído a: Rafael Alves Magalhães\n",
      "   - [Link para a tarefa](https://app.clickup.com/t/86a4qz2xm)\n",
      "\n",
      "4. **TESTE BEM SUCEDIDO04**\n",
      "   - Status: backlog\n",
      "   - Criador: Ana Beatriz\n",
      "   - Atribuído a: Rafael Alves Magalhães\n",
      "   - [Link para a tarefa](https://app.clickup.com/t/86a4qyy92)\n",
      "\n",
      "5. **TESTE BEM SUCEDIDO03**\n",
      "   - Status: backlog\n",
      "   - Criador: Ana Beatriz\n",
      "   - Atribuído a: Rafael Alves Magalhães\n",
      "   - [Link para a tarefa](https://app.clickup.com/t/86a4qyw7r)\n",
      "\n",
      "6. **TESTE BEM SUCEDIDO02**\n",
      "   - Status: backlog\n",
      "   - Criador: Ana Beatriz\n",
      "   - Atribuído a: Rafael Alves Magalhães\n",
      "   - [Link para a tarefa](https://app.clickup.com/t/86a4qp7up)\n",
      "\n",
      "7. **Solicitar à Jussiane Siqueira envio do questionário de editais para inovação**\n",
      "   - Status: doing\n",
      "   - Criador: Ana Beatriz\n",
      "   - Atribuído a: Ana Beatriz\n",
      "   - Data de Vencimento: 1725174000000\n",
      "   - [Link para a tarefa](https://app.clickup.com/t/86a4qp55z)\n",
      "\n",
      "8. **TESTE BEM SUCEDIDO03**\n",
      "   - Status: backlog\n",
      "   - Criador: Ana Beatriz\n",
      "   - [Link para a tarefa](https://app.clickup.com/t/86a4qp4e9)\n",
      "\n",
      "9. **TESTE BEM SUCEDIDO02**\n",
      "   - Status: backlog\n",
      "   - Criador: Ana Beatriz\n",
      "   - Atribuído a: Rafael Alves Magalhães\n",
      "   - [Link para a tarefa](https://app.clickup.com/t/86a4qp46p)\n",
      "\n",
      "10. **Fazer follow up com Jussiane Siqueira**\n",
      "    - Status: backlog\n",
      "    - Criador: Ana Beatriz\n",
      "    - Data de Vencimento: 1725174000000\n",
      "    - [Link para a tarefa](https://app.clickup.com/t/86a4qp40d)\n",
      "\n",
      "11. **Fazer follow up com Jussiane Siqueira**\n",
      "    - Status: backlog\n",
      "    - Criador: Ana Beatriz\n",
      "    - Data de Vencimento: 1725174000000\n",
      "    - [Link para a tarefa](https://app.clickup.com/t/86a4qp3w2)\n",
      "\n",
      "12. **Fazer follow up com Jussiane Siqueira**\n",
      "    - Status: backlog\n",
      "    - Criador: Ana Beatriz\n",
      "    - Data de Vencimento: 1725174000000\n",
      "    - [Link para a tarefa](https://app.clickup.com/t/86a4qp39v)\n",
      "\n",
      "13. **Fazer follow up com Jussiane Siqueira**\n",
      "    - Status: backlog\n",
      "    - Criador: Ana Beatriz\n",
      "    - Data de Vencimento: 1725174000000\n",
      "    - [Link para a tarefa](https://app.clickup.com/t/86a4qnyac)\n",
      "\n",
      "14. **Fazer follow up com Jussiane Siqueira**\n",
      "    - Status: backlog\n",
      "    - Criador: Ana Beatriz\n",
      "    - Data de Vencimento: 1725174000000\n",
      "    - [Link para a tarefa](https://app.clickup.com/t/86a4qny9e)\n",
      "\n",
      "15. **Fazer follow up com Jussiane Siqueira**\n",
      "    - Status: backlog\n",
      "    - Criador: Ana Beatriz\n",
      "    - Data de Vencimento: 1725174000000\n",
      "    - [Link para a tarefa](https://app.clickup.com/t/86a4qny8t)\n",
      "\n",
      "16. **Fazer follow up com Jussiane Siqueira**\n",
      "    - Status: backlog\n",
      "    - Criador: Ana Beatriz\n",
      "    - Data de Vencimento: 1724914800000\n",
      "    - [Link para a tarefa](https://app.clickup.com/t/86a4qnvxg)\n",
      "\n",
      "17. **Fazer follow up com Jussiane Siqueira**\n",
      "    - Status: backlog\n",
      "    - Criador: Ana Beatriz\n",
      "    - Data de Vencimento: 1724914800000\n",
      "    - [Link para a tarefa](https://app.clickup.com/t/86a4qmd3x)\n",
      "\n",
      "18. **Tarefa Exemplo**\n",
      "    - Status: testing\n",
      "    - Criador: Rafael Alves Magalhães\n",
      "    - [Link para a tarefa](https://app.clickup.com/t/86a4q650q)\n",
      "\n",
      "19. **Dummy Task 2**\n",
      "    - Status: backlog\n",
      "    - Criador: Rafael Alves Magalhães\n",
      "    - [Link para a tarefa](https://app.clickup.com/t/86a4q63w3)\n",
      "\n",
      "20. **Dummy Task 1**\n",
      "    - Status: backlog\n",
      "    - Criador: Rafael Alves Magalhães\n",
      "    - Data de Vencimento: 1727593200000\n",
      "    - [Link para a tarefa](https://app.clickup.com/t/86a4q63vx)\n",
      "\n",
      "21. **(2024-08-27 19:16:06.257577): ALVENARIA**\n",
      "    - Status: backlog\n",
      "    - Criador: Rafael Alves Magalhães\n",
      "    - [Link para a tarefa](https://app.clickup.com/t/86a4q63th)\n",
      "\n",
      "22. **(2024-08-27 19:16:06.257577): FUNDAÇÃO**\n",
      "    - Status: backlog\n",
      "    - Criador: Rafael Alves Magalhães\n",
      "    - [Link para a tarefa](https://app.clickup.com/t/86a4q63td)\n",
      "\n",
      "23. **(2024-08-27 19:16:06.257577): NOVO TESTE BEM SUCEDIDO**\n",
      "    - Status: backlog\n",
      "    - Criador: Rafael Alves Magalhães\n",
      "    - [Link para a tarefa](https://app.clickup.com/t/86a4q63ry)\n",
      "\n",
      "24. **(2024-08-27 19:04:29.560449): NOVÍSSIMO TESTE BEM SUCEDIDO**\n",
      "    - Status: backlog\n",
      "    - Criador: Rafael Alves Magalhães\n",
      "    - [Link para a tarefa](https://app.clickup.com/t/86a4q5wyp)\n",
      "\n",
      "25. **(2024-08-27 19:03:52.393435): ALVENARIA**\n",
      "    - Status: backlog\n",
      "    - Criador: Rafael Alves Magalhães\n",
      "    - [Link para a tarefa](https://app.clickup.com/t/86a4q5wm2)\n",
      "\n",
      "26. **(2024-08-27 19:03:52.393435): FUNDAÇÃO**\n",
      "    - Status: backlog\n",
      "    - Criador: Rafael Alves Magalhães\n",
      "    - [Link para a tarefa](https://app.clickup.com/t/86a4q5wk5)\n",
      "\n",
      "27. **(2024-08-27 19:03:52.393435): NOVO TESTE BEM SUCEDIDO**\n",
      "    - Status: backlog\n",
      "    - Criador: Rafael Alves Magalhães\n",
      "    - [Link para a tarefa](https://app.clickup.com/t/86a4q5wgm)\n",
      "\n",
      "28. **(2024-08-27 19:01:36.986836): NOVÍSSIMO TESTE BEM SUCEDIDO**\n",
      "    - Status: backlog\n",
      "    - Criador: Rafael Alves Magalhães\n",
      "    - [Link para a tarefa](https://app.clickup.com/t/86a4q5uy9)\n",
      "\n",
      "29. **(2024-08-27 18:53:56.810531): ALVENARIA**\n",
      "    - Status: backlog\n",
      "    - Criador: Rafael Alves Magalhães\n",
      "    - [Link para a tarefa](https://app.clickup.com/t/86a4q5pmk)\n",
      "\n",
      "30. **(2024-08-27 18:53:56.810531): FUNDAÇÃO**\n",
      "    - Status: backlog\n",
      "    - Criador: Rafael Alves Magalhães\n",
      "    - [Link para a tarefa](https://app.clickup.com/t/86a4q5pkj)\n",
      "\n",
      "31. **(2024-08-27 18:53:56.810531): NOVO TESTE BEM SUCEDIDO**\n",
      "    - Status: backlog\n",
      "    - Criador: Rafael Alves Magalhães\n",
      "    - [Link para a tarefa](https://app.clickup.com/t/86a4q5pg8)\n",
      "\n",
      "32. **(2024-08-27 18:48:25.780898): ALVENARIA**\n",
      "    - Status: backlog\n",
      "    - Criador: Rafael Alves Magalhães\n",
      "    - Data de Vencimento: 1724742000000\n",
      "    - [Link para a tarefa](https://app.clickup.com/t/86a4q5jzb)\n",
      "\n",
      "33. **(2024-08-27 18:48:25.780898): FUNDAÇÃO**\n",
      "    - Status: backlog\n",
      "    - Criador: Rafael Alves Magalhães\n",
      "    - [Link para a tarefa](https://app.clickup.com/t/86a4q5jyh)\n",
      "\n",
      "34. **(2024-08-27 18:48:25.780898): NOVO TESTE BEM SUCEDIDO**\n",
      "    - Status: backlog\n",
      "    - Criador: Rafael Alves Magalhães\n",
      "    - [Link para a tarefa](https://app.clickup.com/t/86a4q5jvz)\n",
      "\n",
      "35. **TESTE BEM SUCEDIDO**\n",
      "    - Status: backlog\n",
      "    - Criador: Rafael Alves Magalhães\n",
      "    - [Link para a tarefa](https://app.clickup.com/t/86a4q3yd1)\n",
      "\n",
      "36. **Criar materiais de treinamento e documentação técnica**\n",
      "    - Status: backlog\n",
      "    - Criador: João Guilherme Silva Morossini\n",
      "    - [Link para a tarefa](https://app.clickup.com/t/86a4dv68v)\n",
      "\n",
      "37. **Fornecer serviços de manutenção e suporte pós-implantação**\n",
      "    - Status: backlog\n",
      "    - Criador: João Guilherme Silva Morossini\n",
      "    - [Link para a tarefa](https://app.clickup.com/t/86a4dv68u)\n",
      "\n",
      "38. **Validar conformidade com GDPR, FDCPA e outras regulamentações aplicáveis**\n",
      "    - Status: backlog\n",
      "    - Criador: João Guilherme Silva Morossini\n",
      "    - [Link para a tarefa](https://app.clickup.com/t/86a4dv68t)\n",
      "\n",
      "39. **Implantar o agente de IA no ambiente do cliente**\n",
      "    - Status: backlog\n",
      "    - Criador: João Guilherme Silva Morossini\n",
      "    - [Link para a tarefa](https://app.clickup.com/t/86a4dv68r)\n",
      "\n",
      "40. **Integrar o agente de IA com a API do WhatsApp**\n",
      "    - Status: backlog\n",
      "    - Criador: João Guilherme Silva Morossini\n",
      "    - [Link para a tarefa](https://app.clickup.com/t/86a4dv68q)\n",
      "\n",
      "41. **Treinar a equipe do cliente no uso do agente de IA**\n",
      "    - Status: backlog\n",
      "    - Criador: João Guilherme Silva Morossini\n",
      "    - [Link para a tarefa](https://app.clickup.com/t/86a4dv68p)\n",
      "\n",
      "42. **Implementar módulo de relatórios para métricas de desempenho**\n",
      "    - Status: backlog\n",
      "    - Criador: João Guilherme Silva Morossini\n",
      "    - [Link para a tarefa](https://app.clickup.com/t/86a4dv68n)\n",
      "\n",
      "43. **Realizar testes de integração e segurança**\n",
      "    - Status: backlog\n",
      "    - Criador: João Guilherme Silva Morossini\n",
      "    - [Link para a tarefa](https://app.clickup.com/t/86a4dv68m)\n",
      "\n",
      "44. **Desenvolver o agente de IA com capacidade de NLU**\n",
      "    - Status: backlog\n",
      "    - Criador: João Guilherme Silva Morossini\n",
      "    - [Link para a tarefa](https://app.clickup.com/t/86a4dv68k)\n",
      "\n",
      "45. **Desenvolver interface do usuário para monitoramento de conversas e resultados**\n",
      "    - Status: backlog\n",
      "    - Criador: João Guilherme Silva Morossini\n",
      "    - [Link para a tarefa](https://app.clickup.com/t/86a4dv68j)\n",
      "\n",
      "46. **Garantir compatibilidade com sistemas de gerenciamento de banco de dados**\n",
      "    - Status: backlog\n",
      "    - Criador: João Guilherme Silva Morossini\n",
      "    - [Link para a tarefa](https://app.clickup.com/t/86a4dv68h)\n",
      "\n",
      "47. **Definir requisitos técnicos e de segurança**\n",
      "    - Status: backlog\n",
      "    - Criador: João Guilherme Silva Morossini\n",
      "    - [Link para a tarefa](https://app.clickup.com/t/86a4dv68g)\n",
      "\n",
      "48. **Criar documento de design do sistema para o agente de IA**\n",
      "    - Status: backlog\n",
      "    - Criador: João Guilherme Silva Morossini\n",
      "    - [Link para a tarefa](https://app.clickup.com/t/86a4dv68f)\n",
      "\n",
      "49. **Escopo**\n",
      "    - Status: backlog\n",
      "    - Criador: João Guilherme Silva Morossini\n",
      "    - [Link para a tarefa](https://app.clickup.com/t/86a4dv4gx)\n",
      "\n",
      "Se precisar de mais detalhes sobre alguma tarefa específica, estou à disposição!\u001b[0m\n",
      "\n",
      "\u001b[1m> Finished chain.\u001b[0m\n"
     ]
    },
    {
     "data": {
      "text/plain": [
       "{'input': 'Quais são as tarefas na lista que tem conhecimento?',\n",
       " 'output': 'Aqui está a lista de tarefas na lista \"clickup_agent\":\\n\\n1. **TESTE BEM SUCEDIDO04**\\n   - Status: backlog\\n   - Criador: Ana Beatriz\\n   - Atribuído a: Rafael Alves Magalhães\\n   - [Link para a tarefa](https://app.clickup.com/t/86a4r1ux8)\\n\\n2. **DEU CERTO**\\n   - Status: backlog\\n   - Criador: Rafael Alves Magalhães\\n   - [Link para a tarefa](https://app.clickup.com/t/86a4r1eey)\\n\\n3. **TESTE BEM SUCEDIDO04**\\n   - Status: backlog\\n   - Criador: Ana Beatriz\\n   - Atribuído a: Rafael Alves Magalhães\\n   - [Link para a tarefa](https://app.clickup.com/t/86a4qz2xm)\\n\\n4. **TESTE BEM SUCEDIDO04**\\n   - Status: backlog\\n   - Criador: Ana Beatriz\\n   - Atribuído a: Rafael Alves Magalhães\\n   - [Link para a tarefa](https://app.clickup.com/t/86a4qyy92)\\n\\n5. **TESTE BEM SUCEDIDO03**\\n   - Status: backlog\\n   - Criador: Ana Beatriz\\n   - Atribuído a: Rafael Alves Magalhães\\n   - [Link para a tarefa](https://app.clickup.com/t/86a4qyw7r)\\n\\n6. **TESTE BEM SUCEDIDO02**\\n   - Status: backlog\\n   - Criador: Ana Beatriz\\n   - Atribuído a: Rafael Alves Magalhães\\n   - [Link para a tarefa](https://app.clickup.com/t/86a4qp7up)\\n\\n7. **Solicitar à Jussiane Siqueira envio do questionário de editais para inovação**\\n   - Status: doing\\n   - Criador: Ana Beatriz\\n   - Atribuído a: Ana Beatriz\\n   - Data de Vencimento: 1725174000000\\n   - [Link para a tarefa](https://app.clickup.com/t/86a4qp55z)\\n\\n8. **TESTE BEM SUCEDIDO03**\\n   - Status: backlog\\n   - Criador: Ana Beatriz\\n   - [Link para a tarefa](https://app.clickup.com/t/86a4qp4e9)\\n\\n9. **TESTE BEM SUCEDIDO02**\\n   - Status: backlog\\n   - Criador: Ana Beatriz\\n   - Atribuído a: Rafael Alves Magalhães\\n   - [Link para a tarefa](https://app.clickup.com/t/86a4qp46p)\\n\\n10. **Fazer follow up com Jussiane Siqueira**\\n    - Status: backlog\\n    - Criador: Ana Beatriz\\n    - Data de Vencimento: 1725174000000\\n    - [Link para a tarefa](https://app.clickup.com/t/86a4qp40d)\\n\\n11. **Fazer follow up com Jussiane Siqueira**\\n    - Status: backlog\\n    - Criador: Ana Beatriz\\n    - Data de Vencimento: 1725174000000\\n    - [Link para a tarefa](https://app.clickup.com/t/86a4qp3w2)\\n\\n12. **Fazer follow up com Jussiane Siqueira**\\n    - Status: backlog\\n    - Criador: Ana Beatriz\\n    - Data de Vencimento: 1725174000000\\n    - [Link para a tarefa](https://app.clickup.com/t/86a4qp39v)\\n\\n13. **Fazer follow up com Jussiane Siqueira**\\n    - Status: backlog\\n    - Criador: Ana Beatriz\\n    - Data de Vencimento: 1725174000000\\n    - [Link para a tarefa](https://app.clickup.com/t/86a4qnyac)\\n\\n14. **Fazer follow up com Jussiane Siqueira**\\n    - Status: backlog\\n    - Criador: Ana Beatriz\\n    - Data de Vencimento: 1725174000000\\n    - [Link para a tarefa](https://app.clickup.com/t/86a4qny9e)\\n\\n15. **Fazer follow up com Jussiane Siqueira**\\n    - Status: backlog\\n    - Criador: Ana Beatriz\\n    - Data de Vencimento: 1725174000000\\n    - [Link para a tarefa](https://app.clickup.com/t/86a4qny8t)\\n\\n16. **Fazer follow up com Jussiane Siqueira**\\n    - Status: backlog\\n    - Criador: Ana Beatriz\\n    - Data de Vencimento: 1724914800000\\n    - [Link para a tarefa](https://app.clickup.com/t/86a4qnvxg)\\n\\n17. **Fazer follow up com Jussiane Siqueira**\\n    - Status: backlog\\n    - Criador: Ana Beatriz\\n    - Data de Vencimento: 1724914800000\\n    - [Link para a tarefa](https://app.clickup.com/t/86a4qmd3x)\\n\\n18. **Tarefa Exemplo**\\n    - Status: testing\\n    - Criador: Rafael Alves Magalhães\\n    - [Link para a tarefa](https://app.clickup.com/t/86a4q650q)\\n\\n19. **Dummy Task 2**\\n    - Status: backlog\\n    - Criador: Rafael Alves Magalhães\\n    - [Link para a tarefa](https://app.clickup.com/t/86a4q63w3)\\n\\n20. **Dummy Task 1**\\n    - Status: backlog\\n    - Criador: Rafael Alves Magalhães\\n    - Data de Vencimento: 1727593200000\\n    - [Link para a tarefa](https://app.clickup.com/t/86a4q63vx)\\n\\n21. **(2024-08-27 19:16:06.257577): ALVENARIA**\\n    - Status: backlog\\n    - Criador: Rafael Alves Magalhães\\n    - [Link para a tarefa](https://app.clickup.com/t/86a4q63th)\\n\\n22. **(2024-08-27 19:16:06.257577): FUNDAÇÃO**\\n    - Status: backlog\\n    - Criador: Rafael Alves Magalhães\\n    - [Link para a tarefa](https://app.clickup.com/t/86a4q63td)\\n\\n23. **(2024-08-27 19:16:06.257577): NOVO TESTE BEM SUCEDIDO**\\n    - Status: backlog\\n    - Criador: Rafael Alves Magalhães\\n    - [Link para a tarefa](https://app.clickup.com/t/86a4q63ry)\\n\\n24. **(2024-08-27 19:04:29.560449): NOVÍSSIMO TESTE BEM SUCEDIDO**\\n    - Status: backlog\\n    - Criador: Rafael Alves Magalhães\\n    - [Link para a tarefa](https://app.clickup.com/t/86a4q5wyp)\\n\\n25. **(2024-08-27 19:03:52.393435): ALVENARIA**\\n    - Status: backlog\\n    - Criador: Rafael Alves Magalhães\\n    - [Link para a tarefa](https://app.clickup.com/t/86a4q5wm2)\\n\\n26. **(2024-08-27 19:03:52.393435): FUNDAÇÃO**\\n    - Status: backlog\\n    - Criador: Rafael Alves Magalhães\\n    - [Link para a tarefa](https://app.clickup.com/t/86a4q5wk5)\\n\\n27. **(2024-08-27 19:03:52.393435): NOVO TESTE BEM SUCEDIDO**\\n    - Status: backlog\\n    - Criador: Rafael Alves Magalhães\\n    - [Link para a tarefa](https://app.clickup.com/t/86a4q5wgm)\\n\\n28. **(2024-08-27 19:01:36.986836): NOVÍSSIMO TESTE BEM SUCEDIDO**\\n    - Status: backlog\\n    - Criador: Rafael Alves Magalhães\\n    - [Link para a tarefa](https://app.clickup.com/t/86a4q5uy9)\\n\\n29. **(2024-08-27 18:53:56.810531): ALVENARIA**\\n    - Status: backlog\\n    - Criador: Rafael Alves Magalhães\\n    - [Link para a tarefa](https://app.clickup.com/t/86a4q5pmk)\\n\\n30. **(2024-08-27 18:53:56.810531): FUNDAÇÃO**\\n    - Status: backlog\\n    - Criador: Rafael Alves Magalhães\\n    - [Link para a tarefa](https://app.clickup.com/t/86a4q5pkj)\\n\\n31. **(2024-08-27 18:53:56.810531): NOVO TESTE BEM SUCEDIDO**\\n    - Status: backlog\\n    - Criador: Rafael Alves Magalhães\\n    - [Link para a tarefa](https://app.clickup.com/t/86a4q5pg8)\\n\\n32. **(2024-08-27 18:48:25.780898): ALVENARIA**\\n    - Status: backlog\\n    - Criador: Rafael Alves Magalhães\\n    - Data de Vencimento: 1724742000000\\n    - [Link para a tarefa](https://app.clickup.com/t/86a4q5jzb)\\n\\n33. **(2024-08-27 18:48:25.780898): FUNDAÇÃO**\\n    - Status: backlog\\n    - Criador: Rafael Alves Magalhães\\n    - [Link para a tarefa](https://app.clickup.com/t/86a4q5jyh)\\n\\n34. **(2024-08-27 18:48:25.780898): NOVO TESTE BEM SUCEDIDO**\\n    - Status: backlog\\n    - Criador: Rafael Alves Magalhães\\n    - [Link para a tarefa](https://app.clickup.com/t/86a4q5jvz)\\n\\n35. **TESTE BEM SUCEDIDO**\\n    - Status: backlog\\n    - Criador: Rafael Alves Magalhães\\n    - [Link para a tarefa](https://app.clickup.com/t/86a4q3yd1)\\n\\n36. **Criar materiais de treinamento e documentação técnica**\\n    - Status: backlog\\n    - Criador: João Guilherme Silva Morossini\\n    - [Link para a tarefa](https://app.clickup.com/t/86a4dv68v)\\n\\n37. **Fornecer serviços de manutenção e suporte pós-implantação**\\n    - Status: backlog\\n    - Criador: João Guilherme Silva Morossini\\n    - [Link para a tarefa](https://app.clickup.com/t/86a4dv68u)\\n\\n38. **Validar conformidade com GDPR, FDCPA e outras regulamentações aplicáveis**\\n    - Status: backlog\\n    - Criador: João Guilherme Silva Morossini\\n    - [Link para a tarefa](https://app.clickup.com/t/86a4dv68t)\\n\\n39. **Implantar o agente de IA no ambiente do cliente**\\n    - Status: backlog\\n    - Criador: João Guilherme Silva Morossini\\n    - [Link para a tarefa](https://app.clickup.com/t/86a4dv68r)\\n\\n40. **Integrar o agente de IA com a API do WhatsApp**\\n    - Status: backlog\\n    - Criador: João Guilherme Silva Morossini\\n    - [Link para a tarefa](https://app.clickup.com/t/86a4dv68q)\\n\\n41. **Treinar a equipe do cliente no uso do agente de IA**\\n    - Status: backlog\\n    - Criador: João Guilherme Silva Morossini\\n    - [Link para a tarefa](https://app.clickup.com/t/86a4dv68p)\\n\\n42. **Implementar módulo de relatórios para métricas de desempenho**\\n    - Status: backlog\\n    - Criador: João Guilherme Silva Morossini\\n    - [Link para a tarefa](https://app.clickup.com/t/86a4dv68n)\\n\\n43. **Realizar testes de integração e segurança**\\n    - Status: backlog\\n    - Criador: João Guilherme Silva Morossini\\n    - [Link para a tarefa](https://app.clickup.com/t/86a4dv68m)\\n\\n44. **Desenvolver o agente de IA com capacidade de NLU**\\n    - Status: backlog\\n    - Criador: João Guilherme Silva Morossini\\n    - [Link para a tarefa](https://app.clickup.com/t/86a4dv68k)\\n\\n45. **Desenvolver interface do usuário para monitoramento de conversas e resultados**\\n    - Status: backlog\\n    - Criador: João Guilherme Silva Morossini\\n    - [Link para a tarefa](https://app.clickup.com/t/86a4dv68j)\\n\\n46. **Garantir compatibilidade com sistemas de gerenciamento de banco de dados**\\n    - Status: backlog\\n    - Criador: João Guilherme Silva Morossini\\n    - [Link para a tarefa](https://app.clickup.com/t/86a4dv68h)\\n\\n47. **Definir requisitos técnicos e de segurança**\\n    - Status: backlog\\n    - Criador: João Guilherme Silva Morossini\\n    - [Link para a tarefa](https://app.clickup.com/t/86a4dv68g)\\n\\n48. **Criar documento de design do sistema para o agente de IA**\\n    - Status: backlog\\n    - Criador: João Guilherme Silva Morossini\\n    - [Link para a tarefa](https://app.clickup.com/t/86a4dv68f)\\n\\n49. **Escopo**\\n    - Status: backlog\\n    - Criador: João Guilherme Silva Morossini\\n    - [Link para a tarefa](https://app.clickup.com/t/86a4dv4gx)\\n\\nSe precisar de mais detalhes sobre alguma tarefa específica, estou à disposição!'}"
      ]
     },
     "execution_count": 43,
     "metadata": {},
     "output_type": "execute_result"
    }
   ],
   "source": [
    "agent_executor.invoke(\n",
    "    {\n",
    "        \"input\": \"Quais são as tarefas na lista que tem conhecimento?\"\n",
    "    }\n",
    ")"
   ]
  },
  {
   "cell_type": "markdown",
   "metadata": {},
   "source": [
    "## Teste 15 - Get Task"
   ]
  },
  {
   "cell_type": "code",
   "execution_count": null,
   "metadata": {},
   "outputs": [],
   "source": [
    "agent_executor.invoke(\n",
    "    {\n",
    "        \"input\": \"O que você pode me dizer sobre a tarefa de id 86a4qp55z\"\n",
    "    }\n",
    ")"
   ]
  },
  {
   "cell_type": "markdown",
   "metadata": {},
   "source": [
    "## Teste 16 - Get Workspace Seats"
   ]
  },
  {
   "cell_type": "code",
   "execution_count": null,
   "metadata": {},
   "outputs": [],
   "source": [
    "agent_executor.invoke(\n",
    "    {\n",
    "        \"input\": \"Quais são os membros do meu workspace?\"\n",
    "    }\n",
    ")"
   ]
  },
  {
   "cell_type": "markdown",
   "metadata": {},
   "source": [
    "## Get Lists"
   ]
  },
  {
   "cell_type": "code",
   "execution_count": null,
   "metadata": {},
   "outputs": [],
   "source": [
    "agent_executor.invoke(\n",
    "    {\n",
    "        \"input\": \"Quais são as listas contidas dentro da pasta que você tem acesso?\"\n",
    "    }\n",
    ")"
   ]
  },
  {
   "cell_type": "code",
   "execution_count": null,
   "metadata": {},
   "outputs": [
    {
     "name": "stdout",
     "output_type": "stream",
     "text": [
      "\n",
      "\n",
      "\u001b[1m> Entering new AgentExecutor chain...\u001b[0m\n",
      "\u001b[32;1m\u001b[1;3m\n",
      "Invoking: `get_spaces_tool` with `{'team_id': 12927880}`\n",
      "\n",
      "\n",
      "\u001b[0mResponse Body: {'spaces': [{'id': '54804921', 'name': 'Projetos', 'color': '#1ABC9C', 'private': False, 'avatar': None, 'admin_can_manage': True, 'statuses': [{'id': 'p54804921_1gR1N0KG', 'status': 'backlog', 'type': 'open', 'orderindex': 0, 'color': '#9c09bc'}, {'id': 'p54804921_95z15BZN', 'status': 'todo', 'type': 'custom', 'orderindex': 1, 'color': '#4466ff'}, {'id': 'p54804921_KslxIFrF', 'status': 'doing', 'type': 'custom', 'orderindex': 2, 'color': '#e16b16'}, {'id': 'p54804921_oYhO88Lm', 'status': 'testing', 'type': 'custom', 'orderindex': 3, 'color': '#d33d44'}, {'id': 'p54804921_sZXRFa49', 'status': 'brainstorming', 'type': 'custom', 'orderindex': 4, 'color': '#1090e0'}, {'id': 'p54804921_yUsGlLJS', 'status': 'done', 'type': 'closed', 'orderindex': 5, 'color': '#008844'}], 'multiple_assignees': True, 'features': {'due_dates': {'enabled': True, 'start_date': True, 'remap_due_dates': True, 'remap_closed_due_date': False}, 'sprints': {'enabled': False}, 'time_tracking': {'enabled': True, 'harvest': False, 'rollup': False, 'default_to_billable': 2}, 'points': {'enabled': False}, 'custom_items': {'enabled': False}, 'priorities': {'enabled': True, 'priorities': [{'color': '#f50000', 'id': '1', 'orderindex': '1', 'priority': 'urgent'}, {'color': '#f8ae00', 'id': '2', 'orderindex': '2', 'priority': 'high'}, {'color': '#6fddff', 'id': '3', 'orderindex': '3', 'priority': 'normal'}, {'color': '#d8d8d8', 'id': '4', 'orderindex': '4', 'priority': 'low'}]}, 'tags': {'enabled': True}, 'time_estimates': {'enabled': True, 'rollup': False, 'per_assignee': False}, 'zoom': {'enabled': False}, 'milestones': {'enabled': True}, 'custom_fields': {'enabled': True}, 'dependency_warning': {'enabled': True}, 'status_pies': {'enabled': False}, 'multiple_assignees': {'enabled': True}, 'scheduler_enabled': False}, 'archived': False}, {'id': '54964971', 'name': 'Onboard e infos', 'color': None, 'private': False, 'avatar': None, 'admin_can_manage': True, 'statuses': [{'id': 'p54964971_bnCuGGBv', 'status': 'to do', 'type': 'open', 'orderindex': 0, 'color': '#87909e'}, {'id': 'p54964971_Km4inFPG', 'status': 'complete', 'type': 'closed', 'orderindex': 1, 'color': '#008844'}], 'multiple_assignees': False, 'features': {'due_dates': {'enabled': True, 'start_date': True, 'remap_due_dates': False, 'remap_closed_due_date': False}, 'sprints': {'enabled': False}, 'points': {'enabled': False}, 'custom_items': {'enabled': False}, 'zoom': {'enabled': False}, 'milestones': {'enabled': False}, 'status_pies': {'enabled': False}, 'time_tracking': {'default_to_billable': 2}, 'scheduler_enabled': False}, 'archived': False}, {'id': '90130502870', 'name': 'Projetos pausados', 'color': '#595d66', 'private': True, 'avatar': None, 'admin_can_manage': True, 'statuses': [{'id': 'p90130502870_p54804921_1gR1N0KG', 'status': 'backlog', 'type': 'open', 'orderindex': 0, 'color': '#9c09bc'}, {'id': 'p90130502870_p54804921_95z15BZN', 'status': 'todo', 'type': 'custom', 'orderindex': 1, 'color': '#4466ff'}, {'id': 'p90130502870_p54804921_KslxIFrF', 'status': 'doing', 'type': 'custom', 'orderindex': 2, 'color': '#e16b16'}, {'id': 'p90130502870_p54804921_oYhO88Lm', 'status': 'testing', 'type': 'custom', 'orderindex': 3, 'color': '#d33d44'}, {'id': 'p90130502870_p54804921_sZXRFa49', 'status': 'brainstorming', 'type': 'custom', 'orderindex': 4, 'color': '#1090e0'}, {'id': 'p90130502870_p54804921_yUsGlLJS', 'status': 'done', 'type': 'closed', 'orderindex': 5, 'color': '#008844'}], 'multiple_assignees': True, 'features': {'due_dates': {'enabled': True, 'start_date': True, 'remap_due_dates': True, 'remap_closed_due_date': False}, 'sprints': {'enabled': False}, 'time_tracking': {'enabled': True, 'harvest': False, 'rollup': False, 'default_to_billable': 2}, 'points': {'enabled': False}, 'custom_items': {'enabled': False}, 'priorities': {'enabled': True, 'priorities': [{'color': '#f50000', 'id': '1', 'orderindex': '1', 'priority': 'urgent'}, {'color': '#f8ae00', 'id': '2', 'orderindex': '2', 'priority': 'high'}, {'color': '#6fddff', 'id': '3', 'orderindex': '3', 'priority': 'normal'}, {'color': '#d8d8d8', 'id': '4', 'orderindex': '4', 'priority': 'low'}]}, 'tags': {'enabled': True}, 'time_estimates': {'enabled': True, 'rollup': False, 'per_assignee': False}, 'zoom': {'enabled': True}, 'milestones': {'enabled': True}, 'custom_fields': {'enabled': True}, 'dependency_warning': {'enabled': True}, 'status_pies': {'enabled': False}, 'multiple_assignees': {'enabled': True}, 'scheduler_enabled': False}, 'archived': False, 'members': [{'user': {'id': 18951490, 'username': 'Gabriel Alberton', 'color': '#7b68ee', 'profilePicture': 'https://attachments.clickup.com/profilePictures/18951490_W33.jpg', 'initials': 'GA'}}, {'user': {'id': 48772077, 'username': 'Hélio Potelicki', 'color': '#2ea52c', 'profilePicture': 'https://attachments.clickup.com/profilePictures/48772077_rvb.jpg', 'initials': 'HP'}}, {'user': {'id': 84141406, 'username': 'Ana Beatriz', 'color': '#455963', 'profilePicture': 'https://attachments.clickup.com/profilePictures/84141406_ZkZ.jpg', 'initials': 'AB'}}]}, {'id': '90130940333', 'name': 'Conteudos', 'color': '#c580e6', 'private': True, 'avatar': None, 'admin_can_manage': False, 'statuses': [{'id': 'p90130940333_nhbZ5gz3', 'status': 'backlog', 'type': 'open', 'orderindex': 0, 'color': '#87909e'}, {'id': 'p90130940333_dX7hgCzZ', 'status': 'planning', 'type': 'custom', 'orderindex': 1, 'color': '#5f55ee'}, {'id': 'p90130940333_QQcJg1TJ', 'status': 'in progress', 'type': 'custom', 'orderindex': 2, 'color': '#f8ae00'}, {'id': 'p90130940333_CoruDecn', 'status': 'ready for review', 'type': 'custom', 'orderindex': 3, 'color': '#b660e0'}, {'id': 'p90130940333_mJniaApM', 'status': 'approved', 'type': 'done', 'orderindex': 4, 'color': '#0f9d9f'}, {'id': 'p90130940333_xQ94E057', 'status': 'rejected', 'type': 'done', 'orderindex': 5, 'color': '#d33d44'}, {'id': 'p90130940333_9uuaYZyK', 'status': 'on hold', 'type': 'done', 'orderindex': 6, 'color': '#aa8d80'}, {'id': 'p90130940333_yAQDhWjq', 'status': 'done', 'type': 'closed', 'orderindex': 7, 'color': '#008844'}], 'multiple_assignees': True, 'features': {'due_dates': {'enabled': True, 'start_date': True, 'remap_due_dates': True, 'remap_closed_due_date': False}, 'sprints': {'enabled': True}, 'time_tracking': {'enabled': True, 'harvest': False, 'rollup': True, 'default_to_billable': 2}, 'points': {'enabled': False}, 'custom_items': {'enabled': False}, 'priorities': {'enabled': True, 'priorities': [{'color': '#f50000', 'id': '1', 'orderindex': '1', 'priority': 'urgent'}, {'color': '#f8ae00', 'id': '2', 'orderindex': '2', 'priority': 'high'}, {'color': '#6fddff', 'id': '3', 'orderindex': '3', 'priority': 'normal'}, {'color': '#d8d8d8', 'id': '4', 'orderindex': '4', 'priority': 'low'}]}, 'tags': {'enabled': True}, 'time_estimates': {'enabled': True, 'rollup': True, 'per_assignee': False}, 'check_unresolved': {'enabled': True, 'subtasks': None, 'checklists': None, 'comments': None}, 'zoom': {'enabled': False}, 'milestones': {'enabled': True}, 'custom_fields': {'enabled': True}, 'remap_dependencies': {'enabled': True}, 'dependency_warning': {'enabled': True}, 'status_pies': {'enabled': True}, 'multiple_assignees': {'enabled': True}, 'emails': {'enabled': True}, 'scheduler_enabled': False}, 'archived': False, 'members': [{'user': {'id': 3115657, 'username': 'Filipe Werlang', 'color': '#622aea', 'profilePicture': 'https://attachments.clickup.com/profilePictures/3115657_GPh.jpg', 'initials': 'FW'}}, {'user': {'id': 18951490, 'username': 'Gabriel Alberton', 'color': '#7b68ee', 'profilePicture': 'https://attachments.clickup.com/profilePictures/18951490_W33.jpg', 'initials': 'GA'}}, {'user': {'id': 44309342, 'username': 'Hibrael Loures', 'color': None, 'profilePicture': 'https://attachments.clickup.com/profilePictures/44309342_YHC.jpg', 'initials': 'HL'}}, {'user': {'id': 84141406, 'username': 'Ana Beatriz', 'color': '#455963', 'profilePicture': 'https://attachments.clickup.com/profilePictures/84141406_ZkZ.jpg', 'initials': 'AB'}}]}]}\n",
      "\u001b[38;5;200m\u001b[1;3m[{'id': '54804921', 'space_name': 'Projetos'}, {'id': '54964971', 'space_name': 'Onboard e infos'}, {'id': '90130502870', 'space_name': 'Projetos pausados'}, {'id': '90130940333', 'space_name': 'Conteudos'}]\u001b[0m\u001b[32;1m\u001b[1;3mOs spaces disponíveis no workspace são:\n",
      "\n",
      "1. **Projetos** (ID: 54804921)\n",
      "2. **Onboard e infos** (ID: 54964971)\n",
      "3. **Projetos pausados** (ID: 90130502870)\n",
      "4. **Conteudos** (ID: 90130940333)\u001b[0m\n",
      "\n",
      "\u001b[1m> Finished chain.\u001b[0m\n"
     ]
    },
    {
     "data": {
      "text/plain": [
       "{'input': 'Quais são os spaces nesse workspace?',\n",
       " 'output': 'Os spaces disponíveis no workspace são:\\n\\n1. **Projetos** (ID: 54804921)\\n2. **Onboard e infos** (ID: 54964971)\\n3. **Projetos pausados** (ID: 90130502870)\\n4. **Conteudos** (ID: 90130940333)'}"
      ]
     },
     "execution_count": 53,
     "metadata": {},
     "output_type": "execute_result"
    }
   ],
   "source": [
    "agent_executor.invoke(\n",
    "    {\n",
    "        \"input\": \"Quais são os spaces nesse workspace?\"\n",
    "    }\n",
    ")"
   ]
  },
  {
   "cell_type": "code",
   "execution_count": null,
   "metadata": {},
   "outputs": [],
   "source": []
  }
 ],
 "metadata": {
  "kernelspec": {
   "display_name": "composio",
   "language": "python",
   "name": "python3"
  },
  "language_info": {
   "codemirror_mode": {
    "name": "ipython",
    "version": 3
   },
   "file_extension": ".py",
   "mimetype": "text/x-python",
   "name": "python",
   "nbconvert_exporter": "python",
   "pygments_lexer": "ipython3",
   "version": "3.11.9"
  }
 },
 "nbformat": 4,
 "nbformat_minor": 2
}
