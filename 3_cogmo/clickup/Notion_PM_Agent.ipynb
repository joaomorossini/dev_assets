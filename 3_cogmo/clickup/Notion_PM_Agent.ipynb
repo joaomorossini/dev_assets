{
 "cells": [
  {
   "cell_type": "code",
   "execution_count": 1,
   "metadata": {},
   "outputs": [
    {
     "name": "stderr",
     "output_type": "stream",
     "text": [
      "/Users/morossini/anaconda3/envs/composio/lib/python3.12/site-packages/paramiko/pkey.py:100: CryptographyDeprecationWarning: TripleDES has been moved to cryptography.hazmat.decrepit.ciphers.algorithms.TripleDES and will be removed from this module in 48.0.0.\n",
      "  \"cipher\": algorithms.TripleDES,\n",
      "/Users/morossini/anaconda3/envs/composio/lib/python3.12/site-packages/paramiko/transport.py:259: CryptographyDeprecationWarning: TripleDES has been moved to cryptography.hazmat.decrepit.ciphers.algorithms.TripleDES and will be removed from this module in 48.0.0.\n",
      "  \"class\": algorithms.TripleDES,\n",
      "/Users/morossini/anaconda3/envs/composio/lib/python3.12/site-packages/composio/client/collections.py:884: UserWarning: Using all the actions of an app is not recommended. Please use tags to filter actions or provide specific actions. We just pass the important actions to the agent, but this is not meant to be used in production. Check out https://docs.composio.dev/sdk/python/actions for more information.\n",
      "  warnings.warn(\n"
     ]
    },
    {
     "name": "stdout",
     "output_type": "stream",
     "text": [
      "\n",
      "\n",
      "\u001b[1m> Entering new AgentExecutor chain...\u001b[0m\n",
      "\u001b[32;1m\u001b[1;3m\n",
      "Invoking: `notion_search_notion_page` with `{'query': 'Tasks', 'filter_value': 'database'}`\n",
      "\n",
      "\n",
      "\u001b[0m\u001b[33;1m\u001b[1;3m{'execution_details': {'executed': True}, 'search_results': {'object': 'list', 'results': [{'object': 'database', 'id': '7ac1a262-d8e3-49d6-9ff4-f882ac0164fc', 'cover': None, 'icon': None, 'created_time': '2024-07-25T13:46:00.000Z', 'created_by': {'object': 'user', 'id': '7232a348-787e-4e5b-9d96-9f6b7a453f52'}, 'last_edited_by': {'object': 'user', 'id': '7232a348-787e-4e5b-9d96-9f6b7a453f52'}, 'last_edited_time': '2024-07-25T18:24:00.000Z', 'title': [{'type': 'text', 'text': {'content': 'Tasks', 'link': None}, 'annotations': {'bold': False, 'italic': False, 'strikethrough': False, 'underline': False, 'code': False, 'color': 'default'}, 'plain_text': 'Tasks', 'href': None}], 'description': [], 'is_inline': True, 'properties': {'Tags': {'id': '_YN%60', 'name': 'Tags', 'type': 'multi_select', 'multi_select': {'options': []}}, 'Date': {'id': 's%7BU%5E', 'name': 'Date', 'type': 'date', 'date': {}}, 'Name': {'id': 'title', 'name': 'Name', 'type': 'title', 'title': {}}}, 'parent': {'type': 'page_id', 'page_id': '9119d3eb-9679-4320-b78f-6d41155fc74f'}, 'url': 'https://www.notion.so/7ac1a262d8e349d69ff4f882ac0164fc', 'public_url': 'https://morossini.notion.site/7ac1a262d8e349d69ff4f882ac0164fc', 'archived': False, 'in_trash': False}], 'next_cursor': None, 'has_more': False, 'type': 'page_or_database', 'page_or_database': {}, 'request_id': 'dc62dcb2-1f98-4cb8-ba0d-86275cc637b6'}}\u001b[0m\u001b[32;1m\u001b[1;3m\n",
      "Invoking: `notion_insert_row_database` with `{'database_id': '7ac1a262-d8e3-49d6-9ff4-f882ac0164fc', 'properties': [{'name': 'Name', 'type': 'title', 'value': 'Testing composio'}, {'name': 'Date', 'type': 'date', 'value': '2023-07-26'}]}`\n",
      "\n",
      "\n",
      "\u001b[0m\u001b[33;1m\u001b[1;3m{'executed': True, 'response_data': {'object': 'page', 'id': 'b27dfebc-d73c-46b3-a495-0d1e415228bc', 'created_time': '2024-07-25T20:28:00.000Z', 'last_edited_time': '2024-07-25T20:28:00.000Z', 'created_by': {'object': 'user', 'id': 'ffb52d8d-21b5-4c38-8eae-a2dc6e82728d'}, 'last_edited_by': {'object': 'user', 'id': 'ffb52d8d-21b5-4c38-8eae-a2dc6e82728d'}, 'cover': None, 'icon': None, 'parent': {'type': 'database_id', 'database_id': '7ac1a262-d8e3-49d6-9ff4-f882ac0164fc'}, 'archived': False, 'in_trash': False, 'properties': {'Tags': {'id': '_YN%60', 'type': 'multi_select', 'multi_select': []}, 'Date': {'id': 's%7BU%5E', 'type': 'date', 'date': {'start': '2023-07-26', 'end': None, 'time_zone': None}}, 'Name': {'id': 'title', 'type': 'title', 'title': [{'type': 'text', 'text': {'content': 'Testing composio', 'link': None}, 'annotations': {'bold': False, 'italic': False, 'strikethrough': False, 'underline': False, 'code': False, 'color': 'default'}, 'plain_text': 'Testing composio', 'href': None}]}}, 'url': 'https://www.notion.so/Testing-composio-b27dfebcd73c46b3a4950d1e415228bc', 'public_url': 'https://morossini.notion.site/Testing-composio-b27dfebcd73c46b3a4950d1e415228bc', 'request_id': 'f7d80d8f-c538-4e43-93f2-059f6536fd3b'}}\u001b[0m\u001b[32;1m\u001b[1;3mA new task titled \"**Testing composio**\" has been successfully created and is due tomorrow, July 26th.\n",
      "\n",
      "You can view the task [here](https://www.notion.so/Testing-composio-b27dfebcd73c46b3a4950d1e415228bc).\u001b[0m\n",
      "\n",
      "\u001b[1m> Finished chain.\u001b[0m\n",
      "{'input': 'Create a new task for testing composio, due tomorrow, July 26th', 'output': 'A new task titled \"**Testing composio**\" has been successfully created and is due tomorrow, July 26th.\\n\\nYou can view the task [here](https://www.notion.so/Testing-composio-b27dfebcd73c46b3a4950d1e415228bc).'}\n"
     ]
    }
   ],
   "source": [
    "import os\n",
    "import yaml\n",
    "from langchain.agents import create_tool_calling_agent, AgentExecutor\n",
    "from langchain_openai import ChatOpenAI\n",
    "from langchain_core.prompts import ChatPromptTemplate\n",
    "from composio_langchain import ComposioToolSet, App\n",
    "\n",
    "# Initialize the language model\n",
    "llm = ChatOpenAI(\n",
    "    model=\"gpt-4o\",\n",
    "    api_key=os.getenv(\"OPENAI_API_KEY\"),\n",
    ")\n",
    "\n",
    "composio_toolset = ComposioToolSet(api_key=os.getenv('COMPOSIO_API_KEY'))\n",
    "tools = composio_toolset.get_tools(apps=[App.NOTION])\n",
    "\n",
    "agent = create_tool_calling_agent(\n",
    "    llm=llm,\n",
    "    tools=tools,\n",
    "    prompt=ChatPromptTemplate.from_messages([\n",
    "        (\"system\", \"You are an experienced assistant. You are able to perform any task asked by the user through all the tools you have access to. Your goal is to complete the user's task by using the tools you have access to.\"),\n",
    "        (\"placeholder\", \"{chat_history}\"),\n",
    "        (\"human\", \"{input}\"),\n",
    "        (\"placeholder\", \"{agent_scratchpad}\"),\n",
    "    ]),\n",
    ")\n",
    "executor = AgentExecutor(agent=agent, tools=tools, verbose=True)\n",
    "\n",
    "result = executor.invoke({\"input\": \"Create a new task for testing composio, due tomorrow, July 26th\"})\n",
    "print(result)"
   ]
  },
  {
   "cell_type": "code",
   "execution_count": 2,
   "metadata": {},
   "outputs": [
    {
     "name": "stdout",
     "output_type": "stream",
     "text": [
      "\n",
      "\n",
      "\u001b[1m> Entering new AgentExecutor chain...\u001b[0m\n",
      "\u001b[32;1m\u001b[1;3m\n",
      "Invoking: `notion_search_notion_page` with `{'query': 'Tasks'}`\n",
      "\n",
      "\n",
      "\u001b[0m\u001b[33;1m\u001b[1;3m{'execution_details': {'executed': True}, 'search_results': {'object': 'list', 'results': [{'object': 'page', 'id': '9119d3eb-9679-4320-b78f-6d41155fc74f', 'created_time': '2024-07-25T13:46:00.000Z', 'last_edited_time': '2024-07-25T19:52:00.000Z', 'created_by': {'object': 'user', 'id': '7232a348-787e-4e5b-9d96-9f6b7a453f52'}, 'last_edited_by': {'object': 'user', 'id': '7232a348-787e-4e5b-9d96-9f6b7a453f52'}, 'cover': None, 'icon': None, 'parent': {'type': 'page_id', 'page_id': '3596c85f-55f7-434c-ad0c-a8e5855dcca2'}, 'archived': False, 'in_trash': False, 'properties': {'title': {'id': 'title', 'type': 'title', 'title': [{'type': 'text', 'text': {'content': 'NOTION TASKS AGENT', 'link': None}, 'annotations': {'bold': False, 'italic': False, 'strikethrough': False, 'underline': False, 'code': False, 'color': 'default'}, 'plain_text': 'NOTION TASKS AGENT', 'href': None}]}}, 'url': 'https://www.notion.so/NOTION-TASKS-AGENT-9119d3eb96794320b78f6d41155fc74f', 'public_url': 'https://morossini.notion.site/NOTION-TASKS-AGENT-9119d3eb96794320b78f6d41155fc74f'}, {'object': 'database', 'id': '7ac1a262-d8e3-49d6-9ff4-f882ac0164fc', 'cover': None, 'icon': None, 'created_time': '2024-07-25T13:46:00.000Z', 'created_by': {'object': 'user', 'id': '7232a348-787e-4e5b-9d96-9f6b7a453f52'}, 'last_edited_by': {'object': 'user', 'id': '7232a348-787e-4e5b-9d96-9f6b7a453f52'}, 'last_edited_time': '2024-07-25T18:24:00.000Z', 'title': [{'type': 'text', 'text': {'content': 'Tasks', 'link': None}, 'annotations': {'bold': False, 'italic': False, 'strikethrough': False, 'underline': False, 'code': False, 'color': 'default'}, 'plain_text': 'Tasks', 'href': None}], 'description': [], 'is_inline': True, 'properties': {'Tags': {'id': '_YN%60', 'name': 'Tags', 'type': 'multi_select', 'multi_select': {'options': []}}, 'Date': {'id': 's%7BU%5E', 'name': 'Date', 'type': 'date', 'date': {}}, 'Name': {'id': 'title', 'name': 'Name', 'type': 'title', 'title': {}}}, 'parent': {'type': 'page_id', 'page_id': '9119d3eb-9679-4320-b78f-6d41155fc74f'}, 'url': 'https://www.notion.so/7ac1a262d8e349d69ff4f882ac0164fc', 'public_url': 'https://morossini.notion.site/7ac1a262d8e349d69ff4f882ac0164fc', 'archived': False, 'in_trash': False}], 'next_cursor': None, 'has_more': False, 'type': 'page_or_database', 'page_or_database': {}, 'request_id': 'd96ae1a6-1b5e-45ce-b2b9-26b0763fb67d'}}\u001b[0m\u001b[32;1m\u001b[1;3m\n",
      "Invoking: `notion_query_database` with `{'database_id': '7ac1a262-d8e3-49d6-9ff4-f882ac0164fc'}`\n",
      "\n",
      "\n",
      "\u001b[0m\u001b[36;1m\u001b[1;3m{'executed': True, 'response_data': {'object': 'list', 'results': [{'object': 'page', 'id': 'b27dfebc-d73c-46b3-a495-0d1e415228bc', 'created_time': '2024-07-25T20:28:00.000Z', 'last_edited_time': '2024-07-25T20:28:00.000Z', 'created_by': {'object': 'user', 'id': 'ffb52d8d-21b5-4c38-8eae-a2dc6e82728d'}, 'last_edited_by': {'object': 'user', 'id': 'ffb52d8d-21b5-4c38-8eae-a2dc6e82728d'}, 'cover': None, 'icon': None, 'parent': {'type': 'database_id', 'database_id': '7ac1a262-d8e3-49d6-9ff4-f882ac0164fc'}, 'archived': False, 'in_trash': False, 'properties': {'Tags': {'id': '_YN%60', 'type': 'multi_select', 'multi_select': []}, 'Date': {'id': 's%7BU%5E', 'type': 'date', 'date': {'start': '2023-07-26', 'end': None, 'time_zone': None}}, 'Name': {'id': 'title', 'type': 'title', 'title': [{'type': 'text', 'text': {'content': 'Testing composio', 'link': None}, 'annotations': {'bold': False, 'italic': False, 'strikethrough': False, 'underline': False, 'code': False, 'color': 'default'}, 'plain_text': 'Testing composio', 'href': None}]}}, 'url': 'https://www.notion.so/Testing-composio-b27dfebcd73c46b3a4950d1e415228bc', 'public_url': 'https://morossini.notion.site/Testing-composio-b27dfebcd73c46b3a4950d1e415228bc'}, {'object': 'page', 'id': '65334727-52d4-41d8-b5a1-af62a9fe4a75', 'created_time': '2024-07-25T13:46:00.000Z', 'last_edited_time': '2024-07-25T18:24:00.000Z', 'created_by': {'object': 'user', 'id': '7232a348-787e-4e5b-9d96-9f6b7a453f52'}, 'last_edited_by': {'object': 'user', 'id': '7232a348-787e-4e5b-9d96-9f6b7a453f52'}, 'cover': None, 'icon': None, 'parent': {'type': 'database_id', 'database_id': '7ac1a262-d8e3-49d6-9ff4-f882ac0164fc'}, 'archived': False, 'in_trash': False, 'properties': {'Tags': {'id': '_YN%60', 'type': 'multi_select', 'multi_select': []}, 'Date': {'id': 's%7BU%5E', 'type': 'date', 'date': {'start': '2024-07-26', 'end': None, 'time_zone': None}}, 'Name': {'id': 'title', 'type': 'title', 'title': [{'type': 'text', 'text': {'content': 'Task 2', 'link': None}, 'annotations': {'bold': False, 'italic': False, 'strikethrough': False, 'underline': False, 'code': False, 'color': 'default'}, 'plain_text': 'Task 2', 'href': None}]}}, 'url': 'https://www.notion.so/Task-2-6533472752d441d8b5a1af62a9fe4a75', 'public_url': 'https://morossini.notion.site/Task-2-6533472752d441d8b5a1af62a9fe4a75'}, {'object': 'page', 'id': '8d2991f2-deb1-4b93-8c13-b72cd5f5eb9d', 'created_time': '2024-07-25T13:46:00.000Z', 'last_edited_time': '2024-07-25T13:48:00.000Z', 'created_by': {'object': 'user', 'id': '7232a348-787e-4e5b-9d96-9f6b7a453f52'}, 'last_edited_by': {'object': 'user', 'id': '7232a348-787e-4e5b-9d96-9f6b7a453f52'}, 'cover': None, 'icon': None, 'parent': {'type': 'database_id', 'database_id': '7ac1a262-d8e3-49d6-9ff4-f882ac0164fc'}, 'archived': False, 'in_trash': False, 'properties': {'Tags': {'id': '_YN%60', 'type': 'multi_select', 'multi_select': []}, 'Date': {'id': 's%7BU%5E', 'type': 'date', 'date': {'start': '2024-07-25T10:49:00.000-03:00', 'end': None, 'time_zone': None}}, 'Name': {'id': 'title', 'type': 'title', 'title': [{'type': 'text', 'text': {'content': 'Task 1', 'link': None}, 'annotations': {'bold': False, 'italic': False, 'strikethrough': False, 'underline': False, 'code': False, 'color': 'default'}, 'plain_text': 'Task 1', 'href': None}]}}, 'url': 'https://www.notion.so/Task-1-8d2991f2deb14b938c13b72cd5f5eb9d', 'public_url': 'https://morossini.notion.site/Task-1-8d2991f2deb14b938c13b72cd5f5eb9d'}, {'object': 'page', 'id': 'fec30188-c2f0-4c57-a11d-79b93c4c71cc', 'created_time': '2024-07-25T13:46:00.000Z', 'last_edited_time': '2024-07-25T18:24:00.000Z', 'created_by': {'object': 'user', 'id': '7232a348-787e-4e5b-9d96-9f6b7a453f52'}, 'last_edited_by': {'object': 'user', 'id': '7232a348-787e-4e5b-9d96-9f6b7a453f52'}, 'cover': None, 'icon': None, 'parent': {'type': 'database_id', 'database_id': '7ac1a262-d8e3-49d6-9ff4-f882ac0164fc'}, 'archived': False, 'in_trash': False, 'properties': {'Tags': {'id': '_YN%60', 'type': 'multi_select', 'multi_select': []}, 'Date': {'id': 's%7BU%5E', 'type': 'date', 'date': {'start': '2024-07-30', 'end': None, 'time_zone': None}}, 'Name': {'id': 'title', 'type': 'title', 'title': [{'type': 'text', 'text': {'content': 'Task 3', 'link': None}, 'annotations': {'bold': False, 'italic': False, 'strikethrough': False, 'underline': False, 'code': False, 'color': 'default'}, 'plain_text': 'Task 3', 'href': None}]}}, 'url': 'https://www.notion.so/Task-3-fec30188c2f04c57a11d79b93c4c71cc', 'public_url': 'https://morossini.notion.site/Task-3-fec30188c2f04c57a11d79b93c4c71cc'}], 'next_cursor': None, 'has_more': False, 'type': 'page_or_database', 'page_or_database': {}, 'request_id': '0590828c-d365-4d37-8e98-203cfd85bade'}}\u001b[0m\u001b[32;1m\u001b[1;3m\n",
      "Invoking: `notion_update_row_database` with `{'row_id': 'b27dfebc-d73c-46b3-a495-0d1e415228bc', 'delete_row': True}`\n",
      "\n",
      "\n",
      "\u001b[0m\u001b[38;5;200m\u001b[1;3m{'executed': True, 'response_data': {'object': 'page', 'id': 'b27dfebc-d73c-46b3-a495-0d1e415228bc', 'created_time': '2024-07-25T20:28:00.000Z', 'last_edited_time': '2024-07-25T20:38:00.000Z', 'created_by': {'object': 'user', 'id': 'ffb52d8d-21b5-4c38-8eae-a2dc6e82728d'}, 'last_edited_by': {'object': 'user', 'id': 'ffb52d8d-21b5-4c38-8eae-a2dc6e82728d'}, 'cover': None, 'icon': None, 'parent': {'type': 'database_id', 'database_id': '7ac1a262-d8e3-49d6-9ff4-f882ac0164fc'}, 'archived': True, 'in_trash': True, 'properties': {'Tags': {'id': '_YN%60', 'type': 'multi_select', 'multi_select': []}, 'Date': {'id': 's%7BU%5E', 'type': 'date', 'date': {'start': '2023-07-26', 'end': None, 'time_zone': None}}, 'Name': {'id': 'title', 'type': 'title', 'title': [{'type': 'text', 'text': {'content': 'Testing composio', 'link': None}, 'annotations': {'bold': False, 'italic': False, 'strikethrough': False, 'underline': False, 'code': False, 'color': 'default'}, 'plain_text': 'Testing composio', 'href': None}]}}, 'url': 'https://www.notion.so/Testing-composio-b27dfebcd73c46b3a4950d1e415228bc', 'public_url': 'https://morossini.notion.site/Testing-composio-b27dfebcd73c46b3a4950d1e415228bc', 'request_id': '9dc2b318-3932-4945-8300-1f788435bdf8'}}\u001b[0m\u001b[32;1m\u001b[1;3m\n",
      "Invoking: `notion_update_row_database` with `{'row_id': '65334727-52d4-41d8-b5a1-af62a9fe4a75', 'delete_row': True}`\n",
      "\n",
      "\n",
      "\u001b[0m\u001b[38;5;200m\u001b[1;3m{'executed': True, 'response_data': {'object': 'page', 'id': '65334727-52d4-41d8-b5a1-af62a9fe4a75', 'created_time': '2024-07-25T13:46:00.000Z', 'last_edited_time': '2024-07-25T20:38:00.000Z', 'created_by': {'object': 'user', 'id': '7232a348-787e-4e5b-9d96-9f6b7a453f52'}, 'last_edited_by': {'object': 'user', 'id': 'ffb52d8d-21b5-4c38-8eae-a2dc6e82728d'}, 'cover': None, 'icon': None, 'parent': {'type': 'database_id', 'database_id': '7ac1a262-d8e3-49d6-9ff4-f882ac0164fc'}, 'archived': True, 'in_trash': True, 'properties': {'Tags': {'id': '_YN%60', 'type': 'multi_select', 'multi_select': []}, 'Date': {'id': 's%7BU%5E', 'type': 'date', 'date': {'start': '2024-07-26', 'end': None, 'time_zone': None}}, 'Name': {'id': 'title', 'type': 'title', 'title': [{'type': 'text', 'text': {'content': 'Task 2', 'link': None}, 'annotations': {'bold': False, 'italic': False, 'strikethrough': False, 'underline': False, 'code': False, 'color': 'default'}, 'plain_text': 'Task 2', 'href': None}]}}, 'url': 'https://www.notion.so/Task-2-6533472752d441d8b5a1af62a9fe4a75', 'public_url': 'https://morossini.notion.site/Task-2-6533472752d441d8b5a1af62a9fe4a75', 'request_id': '6ff3eb91-9b90-4165-a326-f2e816e70030'}}\u001b[0m\u001b[32;1m\u001b[1;3m\n",
      "Invoking: `notion_update_row_database` with `{'row_id': '8d2991f2-deb1-4b93-8c13-b72cd5f5eb9d', 'delete_row': True}`\n",
      "\n",
      "\n",
      "\u001b[0m\u001b[38;5;200m\u001b[1;3m{'executed': True, 'response_data': {'object': 'page', 'id': '8d2991f2-deb1-4b93-8c13-b72cd5f5eb9d', 'created_time': '2024-07-25T13:46:00.000Z', 'last_edited_time': '2024-07-25T20:38:00.000Z', 'created_by': {'object': 'user', 'id': '7232a348-787e-4e5b-9d96-9f6b7a453f52'}, 'last_edited_by': {'object': 'user', 'id': 'ffb52d8d-21b5-4c38-8eae-a2dc6e82728d'}, 'cover': None, 'icon': None, 'parent': {'type': 'database_id', 'database_id': '7ac1a262-d8e3-49d6-9ff4-f882ac0164fc'}, 'archived': True, 'in_trash': True, 'properties': {'Tags': {'id': '_YN%60', 'type': 'multi_select', 'multi_select': []}, 'Date': {'id': 's%7BU%5E', 'type': 'date', 'date': {'start': '2024-07-25T10:49:00.000-03:00', 'end': None, 'time_zone': None}}, 'Name': {'id': 'title', 'type': 'title', 'title': [{'type': 'text', 'text': {'content': 'Task 1', 'link': None}, 'annotations': {'bold': False, 'italic': False, 'strikethrough': False, 'underline': False, 'code': False, 'color': 'default'}, 'plain_text': 'Task 1', 'href': None}]}}, 'url': 'https://www.notion.so/Task-1-8d2991f2deb14b938c13b72cd5f5eb9d', 'public_url': 'https://morossini.notion.site/Task-1-8d2991f2deb14b938c13b72cd5f5eb9d', 'request_id': '9aebf47c-7585-423c-8496-5d44542bbab6'}}\u001b[0m\u001b[32;1m\u001b[1;3m\n",
      "Invoking: `notion_update_row_database` with `{'row_id': 'fec30188-c2f0-4c57-a11d-79b93c4c71cc', 'delete_row': True}`\n",
      "\n",
      "\n",
      "\u001b[0m\u001b[38;5;200m\u001b[1;3m{'executed': True, 'response_data': {'object': 'page', 'id': 'fec30188-c2f0-4c57-a11d-79b93c4c71cc', 'created_time': '2024-07-25T13:46:00.000Z', 'last_edited_time': '2024-07-25T20:38:00.000Z', 'created_by': {'object': 'user', 'id': '7232a348-787e-4e5b-9d96-9f6b7a453f52'}, 'last_edited_by': {'object': 'user', 'id': 'ffb52d8d-21b5-4c38-8eae-a2dc6e82728d'}, 'cover': None, 'icon': None, 'parent': {'type': 'database_id', 'database_id': '7ac1a262-d8e3-49d6-9ff4-f882ac0164fc'}, 'archived': True, 'in_trash': True, 'properties': {'Tags': {'id': '_YN%60', 'type': 'multi_select', 'multi_select': []}, 'Date': {'id': 's%7BU%5E', 'type': 'date', 'date': {'start': '2024-07-30', 'end': None, 'time_zone': None}}, 'Name': {'id': 'title', 'type': 'title', 'title': [{'type': 'text', 'text': {'content': 'Task 3', 'link': None}, 'annotations': {'bold': False, 'italic': False, 'strikethrough': False, 'underline': False, 'code': False, 'color': 'default'}, 'plain_text': 'Task 3', 'href': None}]}}, 'url': 'https://www.notion.so/Task-3-fec30188c2f04c57a11d79b93c4c71cc', 'public_url': 'https://morossini.notion.site/Task-3-fec30188c2f04c57a11d79b93c4c71cc', 'request_id': 'b79c084a-6127-4608-9184-df8cd9c9c8c3'}}\u001b[0m\u001b[32;1m\u001b[1;3mAll tasks have been successfully deleted.\u001b[0m\n",
      "\n",
      "\u001b[1m> Finished chain.\u001b[0m\n",
      "{'input': 'Delete all tasks', 'output': 'All tasks have been successfully deleted.'}\n"
     ]
    }
   ],
   "source": [
    "result = executor.invoke({\"input\": \"Delete all tasks\"})\n",
    "print(result)"
   ]
  },
  {
   "cell_type": "code",
   "execution_count": 3,
   "metadata": {},
   "outputs": [
    {
     "name": "stdout",
     "output_type": "stream",
     "text": [
      "\n",
      "\n",
      "\u001b[1m> Entering new AgentExecutor chain...\u001b[0m\n",
      "\u001b[32;1m\u001b[1;3m\n",
      "Invoking: `notion_search_notion_page` with `{'query': 'Tasks'}`\n",
      "\n",
      "\n",
      "\u001b[0m\u001b[33;1m\u001b[1;3m{'execution_details': {'executed': True}, 'search_results': {'object': 'list', 'results': [{'object': 'page', 'id': '9119d3eb-9679-4320-b78f-6d41155fc74f', 'created_time': '2024-07-25T13:46:00.000Z', 'last_edited_time': '2024-07-25T19:52:00.000Z', 'created_by': {'object': 'user', 'id': '7232a348-787e-4e5b-9d96-9f6b7a453f52'}, 'last_edited_by': {'object': 'user', 'id': '7232a348-787e-4e5b-9d96-9f6b7a453f52'}, 'cover': None, 'icon': None, 'parent': {'type': 'page_id', 'page_id': '3596c85f-55f7-434c-ad0c-a8e5855dcca2'}, 'archived': False, 'in_trash': False, 'properties': {'title': {'id': 'title', 'type': 'title', 'title': [{'type': 'text', 'text': {'content': 'NOTION TASKS AGENT', 'link': None}, 'annotations': {'bold': False, 'italic': False, 'strikethrough': False, 'underline': False, 'code': False, 'color': 'default'}, 'plain_text': 'NOTION TASKS AGENT', 'href': None}]}}, 'url': 'https://www.notion.so/NOTION-TASKS-AGENT-9119d3eb96794320b78f6d41155fc74f', 'public_url': 'https://morossini.notion.site/NOTION-TASKS-AGENT-9119d3eb96794320b78f6d41155fc74f'}, {'object': 'database', 'id': '7ac1a262-d8e3-49d6-9ff4-f882ac0164fc', 'cover': None, 'icon': None, 'created_time': '2024-07-25T13:46:00.000Z', 'created_by': {'object': 'user', 'id': '7232a348-787e-4e5b-9d96-9f6b7a453f52'}, 'last_edited_by': {'object': 'user', 'id': '7232a348-787e-4e5b-9d96-9f6b7a453f52'}, 'last_edited_time': '2024-07-25T18:24:00.000Z', 'title': [{'type': 'text', 'text': {'content': 'Tasks', 'link': None}, 'annotations': {'bold': False, 'italic': False, 'strikethrough': False, 'underline': False, 'code': False, 'color': 'default'}, 'plain_text': 'Tasks', 'href': None}], 'description': [], 'is_inline': True, 'properties': {'Tags': {'id': '_YN%60', 'name': 'Tags', 'type': 'multi_select', 'multi_select': {'options': []}}, 'Date': {'id': 's%7BU%5E', 'name': 'Date', 'type': 'date', 'date': {}}, 'Name': {'id': 'title', 'name': 'Name', 'type': 'title', 'title': {}}}, 'parent': {'type': 'page_id', 'page_id': '9119d3eb-9679-4320-b78f-6d41155fc74f'}, 'url': 'https://www.notion.so/7ac1a262d8e349d69ff4f882ac0164fc', 'public_url': 'https://morossini.notion.site/7ac1a262d8e349d69ff4f882ac0164fc', 'archived': False, 'in_trash': False}], 'next_cursor': None, 'has_more': False, 'type': 'page_or_database', 'page_or_database': {}, 'request_id': 'd4e83257-e6be-4850-b7df-2ec092768fce'}}\u001b[0m\u001b[32;1m\u001b[1;3m\n",
      "Invoking: `notion_insert_row_database` with `{'database_id': '7ac1a262-d8e3-49d6-9ff4-f882ac0164fc', 'properties': [{'name': 'Name', 'type': 'title', 'value': 'Task 1'}, {'name': 'Date', 'type': 'date', 'value': '2024-07-30T11:00:00.000-04:00'}]}`\n",
      "\n",
      "\n",
      "\u001b[0m\u001b[33;1m\u001b[1;3m{'executed': True, 'response_data': {'object': 'page', 'id': 'ef9a6a11-d1cf-4151-b30b-bffa0aec4004', 'created_time': '2024-07-25T20:39:00.000Z', 'last_edited_time': '2024-07-25T20:39:00.000Z', 'created_by': {'object': 'user', 'id': 'ffb52d8d-21b5-4c38-8eae-a2dc6e82728d'}, 'last_edited_by': {'object': 'user', 'id': 'ffb52d8d-21b5-4c38-8eae-a2dc6e82728d'}, 'cover': None, 'icon': None, 'parent': {'type': 'database_id', 'database_id': '7ac1a262-d8e3-49d6-9ff4-f882ac0164fc'}, 'archived': False, 'in_trash': False, 'properties': {'Tags': {'id': '_YN%60', 'type': 'multi_select', 'multi_select': []}, 'Date': {'id': 's%7BU%5E', 'type': 'date', 'date': {'start': '2024-07-30T11:00:00.000-04:00', 'end': None, 'time_zone': None}}, 'Name': {'id': 'title', 'type': 'title', 'title': [{'type': 'text', 'text': {'content': 'Task 1', 'link': None}, 'annotations': {'bold': False, 'italic': False, 'strikethrough': False, 'underline': False, 'code': False, 'color': 'default'}, 'plain_text': 'Task 1', 'href': None}]}}, 'url': 'https://www.notion.so/Task-1-ef9a6a11d1cf4151b30bbffa0aec4004', 'public_url': 'https://morossini.notion.site/Task-1-ef9a6a11d1cf4151b30bbffa0aec4004', 'request_id': 'a6a727f2-82c3-4ea3-b03c-666ca3252abb'}}\u001b[0m\u001b[32;1m\u001b[1;3m\n",
      "Invoking: `notion_insert_row_database` with `{'database_id': '7ac1a262-d8e3-49d6-9ff4-f882ac0164fc', 'properties': [{'name': 'Name', 'type': 'title', 'value': 'Task 2'}, {'name': 'Date', 'type': 'date', 'value': '2024-07-30T11:00:00.000-04:00'}]}`\n",
      "\n",
      "\n",
      "\u001b[0m\u001b[33;1m\u001b[1;3m{'executed': True, 'response_data': {'object': 'page', 'id': '056fcf48-b68d-4255-b847-1e068e1bbb17', 'created_time': '2024-07-25T20:39:00.000Z', 'last_edited_time': '2024-07-25T20:39:00.000Z', 'created_by': {'object': 'user', 'id': 'ffb52d8d-21b5-4c38-8eae-a2dc6e82728d'}, 'last_edited_by': {'object': 'user', 'id': 'ffb52d8d-21b5-4c38-8eae-a2dc6e82728d'}, 'cover': None, 'icon': None, 'parent': {'type': 'database_id', 'database_id': '7ac1a262-d8e3-49d6-9ff4-f882ac0164fc'}, 'archived': False, 'in_trash': False, 'properties': {'Tags': {'id': '_YN%60', 'type': 'multi_select', 'multi_select': []}, 'Date': {'id': 's%7BU%5E', 'type': 'date', 'date': {'start': '2024-07-30T11:00:00.000-04:00', 'end': None, 'time_zone': None}}, 'Name': {'id': 'title', 'type': 'title', 'title': [{'type': 'text', 'text': {'content': 'Task 2', 'link': None}, 'annotations': {'bold': False, 'italic': False, 'strikethrough': False, 'underline': False, 'code': False, 'color': 'default'}, 'plain_text': 'Task 2', 'href': None}]}}, 'url': 'https://www.notion.so/Task-2-056fcf48b68d4255b8471e068e1bbb17', 'public_url': 'https://morossini.notion.site/Task-2-056fcf48b68d4255b8471e068e1bbb17', 'request_id': 'f1fb77c2-6f0b-41f5-8f13-85b4bfc0849b'}}\u001b[0m\u001b[32;1m\u001b[1;3m\n",
      "Invoking: `notion_insert_row_database` with `{'database_id': '7ac1a262-d8e3-49d6-9ff4-f882ac0164fc', 'properties': [{'name': 'Name', 'type': 'title', 'value': 'Task 3'}, {'name': 'Date', 'type': 'date', 'value': '2024-07-30T11:00:00.000-04:00'}]}`\n",
      "\n",
      "\n",
      "\u001b[0m\u001b[33;1m\u001b[1;3m{'executed': True, 'response_data': {'object': 'page', 'id': '2ec9dbff-603f-451b-8f3b-e6d4487717bb', 'created_time': '2024-07-25T20:39:00.000Z', 'last_edited_time': '2024-07-25T20:39:00.000Z', 'created_by': {'object': 'user', 'id': 'ffb52d8d-21b5-4c38-8eae-a2dc6e82728d'}, 'last_edited_by': {'object': 'user', 'id': 'ffb52d8d-21b5-4c38-8eae-a2dc6e82728d'}, 'cover': None, 'icon': None, 'parent': {'type': 'database_id', 'database_id': '7ac1a262-d8e3-49d6-9ff4-f882ac0164fc'}, 'archived': False, 'in_trash': False, 'properties': {'Tags': {'id': '_YN%60', 'type': 'multi_select', 'multi_select': []}, 'Date': {'id': 's%7BU%5E', 'type': 'date', 'date': {'start': '2024-07-30T11:00:00.000-04:00', 'end': None, 'time_zone': None}}, 'Name': {'id': 'title', 'type': 'title', 'title': [{'type': 'text', 'text': {'content': 'Task 3', 'link': None}, 'annotations': {'bold': False, 'italic': False, 'strikethrough': False, 'underline': False, 'code': False, 'color': 'default'}, 'plain_text': 'Task 3', 'href': None}]}}, 'url': 'https://www.notion.so/Task-3-2ec9dbff603f451b8f3be6d4487717bb', 'public_url': 'https://morossini.notion.site/Task-3-2ec9dbff603f451b8f3be6d4487717bb', 'request_id': 'fb8c2053-f6d0-4b0d-9bab-24aba981da72'}}\u001b[0m\u001b[32;1m\u001b[1;3mThe tasks have been successfully created and are all due on July 30th. Here are the details:\n",
      "\n",
      "1. [Task 1](https://www.notion.so/Task-1-ef9a6a11d1cf4151b30bbffa0aec4004)\n",
      "2. [Task 2](https://www.notion.so/Task-2-056fcf48b68d4255b8471e068e1bbb17)\n",
      "3. [Task 3](https://www.notion.so/Task-3-2ec9dbff603f451b8f3be6d4487717bb)\u001b[0m\n",
      "\n",
      "\u001b[1m> Finished chain.\u001b[0m\n",
      "{'input': 'Create tasks 1, 2 and 3, all due Jul-30', 'output': 'The tasks have been successfully created and are all due on July 30th. Here are the details:\\n\\n1. [Task 1](https://www.notion.so/Task-1-ef9a6a11d1cf4151b30bbffa0aec4004)\\n2. [Task 2](https://www.notion.so/Task-2-056fcf48b68d4255b8471e068e1bbb17)\\n3. [Task 3](https://www.notion.so/Task-3-2ec9dbff603f451b8f3be6d4487717bb)'}\n"
     ]
    }
   ],
   "source": [
    "result = executor.invoke({\"input\": \"Create tasks 1, 2 and 3, all due Jul-30\"})\n",
    "print(result)"
   ]
  },
  {
   "cell_type": "code",
   "execution_count": null,
   "metadata": {},
   "outputs": [],
   "source": []
  }
 ],
 "metadata": {
  "kernelspec": {
   "display_name": "composio",
   "language": "python",
   "name": "python3"
  },
  "language_info": {
   "codemirror_mode": {
    "name": "ipython",
    "version": 3
   },
   "file_extension": ".py",
   "mimetype": "text/x-python",
   "name": "python",
   "nbconvert_exporter": "python",
   "pygments_lexer": "ipython3",
   "version": "3.12.4"
  }
 },
 "nbformat": 4,
 "nbformat_minor": 2
}
