{
 "cells": [
  {
   "cell_type": "code",
   "execution_count": 1,
   "metadata": {},
   "outputs": [],
   "source": [
    "import os\n",
    "import requests\n",
    "from dotenv import load_dotenv\n",
    "from typing import Any, Type, List\n",
    "from langchain_core.tools import BaseTool\n",
    "from langchain_core.pydantic_v1 import BaseModel, Field\n",
    "from langchain import hub\n",
    "from langchain_openai import AzureChatOpenAI\n",
    "from langchain.agents import AgentExecutor, create_tool_calling_agent\n",
    "from langchain.memory import ConversationBufferMemory\n",
    "from datetime import datetime\n",
    "\n",
    "load_dotenv()\n",
    "CLICKUP_TOKEN = os.getenv(\"CLICKUP_TOKEN\")"
   ]
  },
  {
   "cell_type": "code",
   "execution_count": 2,
   "metadata": {},
   "outputs": [],
   "source": [
    "default_headers = {\"Authorization\": f\"{CLICKUP_TOKEN}\"}\n",
    "bearer_headers = {\"Authorization\": f\"Bearer {CLICKUP_TOKEN}\"}"
   ]
  },
  {
   "cell_type": "markdown",
   "metadata": {},
   "source": [
    "## Create Task Tool"
   ]
  },
  {
   "cell_type": "code",
   "execution_count": 3,
   "metadata": {},
   "outputs": [
    {
     "name": "stderr",
     "output_type": "stream",
     "text": [
      "/Users/morossini/anaconda3/envs/secretary/lib/python3.11/site-packages/paramiko/pkey.py:100: CryptographyDeprecationWarning: TripleDES has been moved to cryptography.hazmat.decrepit.ciphers.algorithms.TripleDES and will be removed from this module in 48.0.0.\n",
      "  \"cipher\": algorithms.TripleDES,\n",
      "/Users/morossini/anaconda3/envs/secretary/lib/python3.11/site-packages/paramiko/transport.py:259: CryptographyDeprecationWarning: TripleDES has been moved to cryptography.hazmat.decrepit.ciphers.algorithms.TripleDES and will be removed from this module in 48.0.0.\n",
      "  \"class\": algorithms.TripleDES,\n"
     ]
    }
   ],
   "source": [
    "from composio.tools.local.clickup.actions.create_task import CreateTask, CreateTaskRequest, CreateTaskResponse\n",
    "\n",
    "class CreateTaskTool(BaseTool):\n",
    "    name: str = \"create_task_tool\"\n",
    "    description: str = \"\"\"\n",
    "    Ferramenta para criar uma nova tarefa no ClickUp com base nos parâmetros fornecidos.\n",
    "    - Criar Tarefa:\n",
    "        Invocar: \"CreateTaskTool\" com os parâmetros apropriados.\n",
    "    \"\"\"\n",
    "    args_schema: Type[BaseModel] = CreateTaskRequest\n",
    "    headers: dict = {\"Authorization\": f\"{CLICKUP_TOKEN}\"}\n",
    "\n",
    "    def __init__(self, **data):\n",
    "        super().__init__(**data)\n",
    "\n",
    "    def _run(self, list_id: int, **task_data) -> Any:\n",
    "        \"\"\"Executa a criação de tarefa no ClickUp\"\"\"\n",
    "\n",
    "        action = CreateTask()\n",
    "\n",
    "        url = f\"{action.url}{action.path}\".format(list_id=list_id)\n",
    "        params = {key: value for key, value in task_data.items() if value is not None}\n",
    "\n",
    "        response = requests.post(url, headers=self.headers, json=params)\n",
    "\n",
    "        if response.status_code == 201:\n",
    "            response_json = response.json()\n",
    "        else:\n",
    "            try:\n",
    "                response_json = response.json()\n",
    "            except requests.JSONDecodeError:\n",
    "                response_json = {\"error\": \"Invalid JSON response\"}\n",
    "\n",
    "        print(f\"Response Body: {response_json}\")\n",
    "        return CreateTaskResponse(data=response_json)"
   ]
  },
  {
   "cell_type": "markdown",
   "metadata": {},
   "source": [
    "## Delete Task Tool"
   ]
  },
  {
   "cell_type": "code",
   "execution_count": 4,
   "metadata": {},
   "outputs": [],
   "source": [
    "from composio.tools.local.clickup.actions.delete_task import DeleteTask, DeleteTaskRequest, DeleteTaskResponse\n",
    "\n",
    "class DeleteTaskTool(BaseTool):\n",
    "    name: str = \"delete_task_tool\"\n",
    "    description: str = \"\"\"\n",
    "    Ferramenta para deletar uma tarefa no ClickUp com base nos parâmetros fornecidos.\n",
    "    - Deletar Tarefa:\n",
    "        Invocar: \"DeleteTaskTool\" com os parâmetros apropriados.\n",
    "    \"\"\"\n",
    "    args_schema: Type[BaseModel] = DeleteTaskRequest\n",
    "    headers: dict = {\"Authorization\": f\"Bearer {CLICKUP_TOKEN}\"}\n",
    "\n",
    "    def __init__(self, **data):\n",
    "        super().__init__(**data)\n",
    "\n",
    "    def _run(self, task_id: str, **delete_params) -> Any:\n",
    "        \"\"\"Executa a deleção de tarefa no ClickUp\"\"\"\n",
    "\n",
    "        action = DeleteTask()\n",
    "\n",
    "\n",
    "        url = f\"{action.url}{action.path}\".format(task_id=task_id)\n",
    "        params = {key: value for key, value in delete_params.items() if value is not None}\n",
    "\n",
    "        response = requests.delete(url, headers=self.headers, params=params)\n",
    "\n",
    "        if response.status_code == 204:\n",
    "            response_json = {\"message\": \"Task deleted successfully\"}\n",
    "        else:\n",
    "            try:\n",
    "                response_json = response.json()\n",
    "            except requests.JSONDecodeError:\n",
    "                response_json = {\"error\": \"Invalid JSON response\"}\n",
    "        \n",
    "        print(f\"Response Body: {response_json}\")\n",
    "        return DeleteTaskResponse(data=response_json)"
   ]
  },
  {
   "cell_type": "markdown",
   "metadata": {},
   "source": [
    "## Update Task Tool"
   ]
  },
  {
   "cell_type": "code",
   "execution_count": 5,
   "metadata": {},
   "outputs": [],
   "source": [
    "from composio.tools.local.clickup.actions.update_task import UpdateTask, UpdateTaskRequest, UpdateTaskResponse\n",
    "\n",
    "class UpdateTaskRequestCustom(UpdateTaskRequest):\n",
    "    assignees_add: List[int] = Field(\n",
    "        default=None,\n",
    "        alias=\"assignees__add\",\n",
    "        description=\"\",\n",
    "    )\n",
    "    assignees_rem: List[int] = Field(\n",
    "        default=None,\n",
    "        alias=\"assignees__rem\",\n",
    "        description=\"\",\n",
    "    )\n",
    "\n",
    "\n",
    "class UpdateTaskTool(BaseTool):\n",
    "    name: str = \"update_task_tool\"\n",
    "    description: str = \"\"\"\n",
    "    Ferramenta para atualizar uma tarefa no ClickUp com base nos parâmetros fornecidos.\n",
    "    - Atualizar Tarefa:\n",
    "        Invocar: \"UpdateTaskTool\" com os parâmetros apropriados.\n",
    "    \"\"\"\n",
    "    args_schema: Type[BaseModel] = UpdateTaskRequestCustom\n",
    "    headers: dict = {\"Authorization\": f\"{CLICKUP_TOKEN}\"}\n",
    "\n",
    "    def __init__(self, **data):\n",
    "        super().__init__(**data)\n",
    "\n",
    "    def _run(self, task_id: str, **update_params) -> Any:\n",
    "        \"\"\"Executa a atualização de tarefa no ClickUp\"\"\"\n",
    "\n",
    "        action = UpdateTask()\n",
    "\n",
    "        url = f\"{action.url}{action.path}\".format(task_id=task_id)\n",
    "        params = {key: value for key, value in update_params.items() if value is not None}\n",
    "\n",
    "        response = requests.put(url, headers=self.headers, json=params)\n",
    "\n",
    "        if response.status_code == 200:\n",
    "            response_json = response.json()\n",
    "        else:\n",
    "            try:\n",
    "                response_json = response.json()\n",
    "            except requests.JSONDecodeError:\n",
    "                response_json = {\"error\": \"Invalid JSON response\"}\n",
    "        \n",
    "        print(f\"Response Body: {response_json}\")\n",
    "        return UpdateTaskResponse(data=response_json)"
   ]
  },
  {
   "cell_type": "markdown",
   "metadata": {},
   "source": [
    "## Create Task Comment"
   ]
  },
  {
   "cell_type": "code",
   "execution_count": 6,
   "metadata": {},
   "outputs": [],
   "source": [
    "from composio.tools.local.clickup.actions.create_task_comment import CreateTaskComment, CreateTaskCommentRequest, CreateTaskCommentResponse\n",
    "\n",
    "class CreateTaskCommentTool(BaseTool):\n",
    "    name: str = \"create_task_comment_tool\"\n",
    "    description: str = \"\"\"\n",
    "    Ferramenta para adicionar um novo comentário a uma tarefa no ClickUp com base nos parâmetros fornecidos.\n",
    "    - Criar Comentário:\n",
    "        Invocar: \"CreateTaskCommentTool\" com os parâmetros apropriados.\n",
    "    \"\"\"\n",
    "    args_schema: Type[BaseModel] = CreateTaskCommentRequest\n",
    "    headers: dict = {\"Authorization\": f\"Bearer {CLICKUP_TOKEN}\"}\n",
    "\n",
    "    def __init__(self, **data):\n",
    "        super().__init__(**data)\n",
    "\n",
    "    def _run(self, task_id: str, **comment_data) -> Any:\n",
    "        \"\"\"Executa a criação de comentário na tarefa no ClickUp\"\"\"\n",
    "\n",
    "        action = CreateTaskComment()\n",
    "\n",
    "        url = f\"{action.url}{action.path}\".format(task_id=task_id)\n",
    "        params = {key: value for key, value in comment_data.items() if value is not None}\n",
    "\n",
    "        response = requests.post(url, headers=self.headers, json=params)\n",
    "\n",
    "        if response.status_code == 200:\n",
    "            response_json = response.json()\n",
    "        else:\n",
    "            try:\n",
    "                response_json = response.json()\n",
    "            except requests.JSONDecodeError:\n",
    "                response_json = {\"error\": \"Invalid JSON response\"}\n",
    "        \n",
    "        print(f\"Response Body: {response_json}\")\n",
    "        return CreateTaskCommentResponse(data=response_json)\n"
   ]
  },
  {
   "cell_type": "markdown",
   "metadata": {},
   "source": [
    "## Get Task Comments"
   ]
  },
  {
   "cell_type": "code",
   "execution_count": 7,
   "metadata": {},
   "outputs": [],
   "source": [
    "from composio.tools.local.clickup.actions.get_task_comments import GetTaskComments, GetTaskCommentsRequest, GetTaskCommentsResponse\n",
    "\n",
    "class GetTaskCommentsTool(BaseTool):\n",
    "    name: str = \"get_task_comments_tool\"\n",
    "    description: str = \"\"\"\n",
    "    Ferramenta para obter os comentários de uma tarefa no ClickUp com base nos parâmetros fornecidos.\n",
    "    - Obter Comentários:\n",
    "        Invocar: \"GetTaskCommentsTool\" com os parâmetros apropriados.\n",
    "    \"\"\"\n",
    "    args_schema: Type[BaseModel] = GetTaskCommentsRequest\n",
    "    headers: dict = {\"Authorization\": f\"{CLICKUP_TOKEN}\"}\n",
    "\n",
    "    def __init__(self, **data):\n",
    "        super().__init__(**data)\n",
    "\n",
    "    def _run(self, task_id: str, **query_params) -> Any:\n",
    "        \"\"\"Executa a consulta de comentários da tarefa no ClickUp\"\"\"\n",
    "\n",
    "        action = GetTaskComments()\n",
    "\n",
    "        url = f\"{action.url}{action.path}\".format(task_id=task_id)\n",
    "        params = {key: value for key, value in query_params.items() if value is not None}\n",
    "\n",
    "        response = requests.get(url, headers=self.headers, params=params)\n",
    "\n",
    "        if response.status_code == 200:\n",
    "            response_json = response.json()\n",
    "        else:\n",
    "            try:\n",
    "                response_json = response.json()\n",
    "            except requests.JSONDecodeError:\n",
    "                response_json = {\"error\": \"Invalid JSON response\"}\n",
    "        \n",
    "        print(f\"Response Body: {response_json}\")\n",
    "        return GetTaskCommentsResponse(data=response_json)"
   ]
  },
  {
   "cell_type": "markdown",
   "metadata": {},
   "source": [
    "## Add Task to List\n",
    "\n",
    "**Necessita do plano ilimitado da ClickUp**"
   ]
  },
  {
   "cell_type": "code",
   "execution_count": 8,
   "metadata": {},
   "outputs": [],
   "source": [
    "from composio.tools.local.clickup.actions.add_task_to_list import AddTaskToList, AddTaskToListRequest, AddTaskToListResponse\n",
    "\n",
    "class AddTaskToListTool(BaseTool):\n",
    "    name: str = \"add_task_to_list_tool\"\n",
    "    description: str = \"\"\"\n",
    "    Ferramenta para adicionar uma tarefa a uma lista no ClickUp com base nos parâmetros fornecidos.\n",
    "    - Adicionar Tarefa à Lista:\n",
    "        Invocar: \"AddTaskToListTool\" com os parâmetros apropriados.\n",
    "    \"\"\"\n",
    "    args_schema: Type[BaseModel] = AddTaskToListRequest\n",
    "    headers: dict = {\"Authorization\": f\"Bearer {CLICKUP_TOKEN}\"}\n",
    "\n",
    "    def __init__(self, **data):\n",
    "        super().__init__(**data)\n",
    "\n",
    "    def _run(self, list_id: int, task_id: str) -> Any:\n",
    "        \"\"\"Executa a adição de tarefa a uma lista no ClickUp\"\"\"\n",
    "\n",
    "        action = AddTaskToList()\n",
    "\n",
    "        url = f\"{action.url}{action.path}\".format(list_id=list_id, task_id=task_id)\n",
    "        params = {}  # Sem parâmetros adicionais para esta ação\n",
    "\n",
    "        response = requests.post(url, headers=self.headers, json=params)\n",
    "\n",
    "        if response.status_code == 200:\n",
    "            response_json = response.json()\n",
    "        else:\n",
    "            try:\n",
    "                response_json = response.json()\n",
    "            except requests.JSONDecodeError:\n",
    "                response_json = {\"error\": \"Invalid JSON response\"}\n",
    "        \n",
    "        print(f\"Response Body: {response_json}\")\n",
    "        return AddTaskToListResponse(data=response_json)"
   ]
  },
  {
   "cell_type": "markdown",
   "metadata": {},
   "source": [
    "## Remove Task From List"
   ]
  },
  {
   "cell_type": "code",
   "execution_count": 9,
   "metadata": {},
   "outputs": [],
   "source": [
    "from composio.tools.local.clickup.actions.remove_task_from_list import RemoveTaskFromList, RemoveTaskFromListRequest, RemoveTaskFromListResponse\n",
    "\n",
    "class RemoveTaskFromListTool(BaseTool):\n",
    "    name: str = \"remove_task_from_list_tool\"\n",
    "    description: str = \"\"\"\n",
    "    Ferramenta para remover uma tarefa de uma lista no ClickUp com base nos parâmetros fornecidos.\n",
    "    - Remover Tarefa da Lista:\n",
    "        Invocar: \"RemoveTaskFromListTool\" com os parâmetros apropriados.\n",
    "    \"\"\"\n",
    "    args_schema: Type[BaseModel] = RemoveTaskFromListRequest\n",
    "    headers: dict = {\"Authorization\": f\"Bearer {CLICKUP_TOKEN}\"}\n",
    "\n",
    "    def __init__(self, **data):\n",
    "        super().__init__(**data)\n",
    "\n",
    "    def _run(self, list_id: int, task_id: str) -> Any:\n",
    "        \"\"\"Executa a remoção de uma tarefa de uma lista no ClickUp\"\"\"\n",
    "\n",
    "        action = RemoveTaskFromList()\n",
    "\n",
    "        url = f\"{action.url}{action.path}\".format(list_id=list_id, task_id=task_id)\n",
    "\n",
    "        response = requests.delete(url, headers=self.headers)\n",
    "\n",
    "        if response.status_code == 200:\n",
    "            response_json = response.json()\n",
    "        else:\n",
    "            try:\n",
    "                response_json = response.json()\n",
    "            except requests.JSONDecodeError:\n",
    "                response_json = {\"error\": \"Invalid JSON response\"}\n",
    "        \n",
    "        print(f\"Response Body: {response_json}\")\n",
    "        return RemoveTaskFromListResponse(data=response_json)"
   ]
  },
  {
   "cell_type": "markdown",
   "metadata": {},
   "source": [
    "## Create Folderless List"
   ]
  },
  {
   "cell_type": "code",
   "execution_count": 10,
   "metadata": {},
   "outputs": [],
   "source": [
    "from composio.tools.local.clickup.actions.create_folderless_list import CreateFolderlessList, CreateFolderlessListRequest, CreateFolderlessListResponse\n",
    "\n",
    "class CreateFolderlessListTool(BaseTool):\n",
    "    name: str = \"create_folderless_list_tool\"\n",
    "    description: str = \"\"\"\n",
    "    Ferramenta para criar uma nova lista em um espaço no ClickUp com base nos parâmetros fornecidos.\n",
    "    - Criar Lista Sem Pasta:\n",
    "        Invocar: \"CreateFolderlessListTool\" com os parâmetros apropriados.\n",
    "    \"\"\"\n",
    "    args_schema: Type[BaseModel] = CreateFolderlessListRequest\n",
    "    headers: dict = {\"Authorization\": f\"Bearer {CLICKUP_TOKEN}\"}\n",
    "\n",
    "    def __init__(self, **data):\n",
    "        super().__init__(**data)\n",
    "\n",
    "    def _run(self, space_id: int, **list_data) -> Any:\n",
    "        \"\"\"Executa a criação de uma lista sem pasta no ClickUp\"\"\"\n",
    "\n",
    "        action = CreateFolderlessList()\n",
    "\n",
    "        url = f\"{action.url}{action.path}\".format(space_id=space_id)\n",
    "        params = {key: value for key, value in list_data.items() if value is not None}\n",
    "\n",
    "        response = requests.post(url, headers=self.headers, json=params)\n",
    "\n",
    "        if response.status_code == 200:\n",
    "            response_json = response.json()\n",
    "        else:\n",
    "            try:\n",
    "                response_json = response.json()\n",
    "            except requests.JSONDecodeError:\n",
    "                response_json = {\"error\": \"Invalid JSON response\"}\n",
    "        \n",
    "        print(f\"Response Body: {response_json}\")\n",
    "        return CreateFolderlessListResponse(data=response_json)"
   ]
  },
  {
   "cell_type": "markdown",
   "metadata": {},
   "source": [
    "## Get Lists"
   ]
  },
  {
   "cell_type": "code",
   "execution_count": 11,
   "metadata": {},
   "outputs": [],
   "source": [
    "from composio.tools.local.clickup.actions.get_lists import GetLists, GetListsRequest, GetListsResponse\n",
    "\n",
    "class GetListsTool(BaseTool):\n",
    "    name: str = \"get_lists_tool\"\n",
    "    description: str = \"\"\"\n",
    "    Ferramenta para visualizar as listas dentro de uma pasta no ClickUp com base nos parâmetros fornecidos.\n",
    "    - Obter Listas:\n",
    "        Invocar: \"GetListsTool\" com os parâmetros apropriados.\n",
    "    \"\"\"\n",
    "    args_schema: Type[BaseModel] = GetListsRequest\n",
    "    headers: dict = {\"Authorization\": f\"Bearer {CLICKUP_TOKEN}\"}\n",
    "\n",
    "    def __init__(self, **data):\n",
    "        super().__init__(**data)\n",
    "\n",
    "    def _run(self, folder_id: int, **query_params) -> Any:\n",
    "        \"\"\"Executa a obtenção de listas dentro de uma pasta no ClickUp\"\"\"\n",
    "\n",
    "        action = GetLists()\n",
    "\n",
    "        url = f\"{action.url}{action.path}\".format(folder_id=folder_id)\n",
    "        params = {key: value for key, value in query_params.items() if value is not None}\n",
    "\n",
    "        response = requests.get(url, headers=self.headers, params=params)\n",
    "\n",
    "        if response.status_code == 200:\n",
    "            response_json = response.json()\n",
    "        else:\n",
    "            try:\n",
    "                response_json = response.json()\n",
    "            except requests.JSONDecodeError:\n",
    "                response_json = {\"error\": \"Invalid JSON response\"}\n",
    "        \n",
    "        print(f\"Response Body: {response_json}\")\n",
    "        return GetListsResponse(data=response_json)"
   ]
  },
  {
   "cell_type": "markdown",
   "metadata": {},
   "source": [
    "# Add Dependency"
   ]
  },
  {
   "cell_type": "code",
   "execution_count": 12,
   "metadata": {},
   "outputs": [],
   "source": [
    "from composio.tools.local.clickup.actions.add_dependency import AddDependency, AddDependencyRequest, AddDependencyResponse\n",
    "\n",
    "class AddDependencyTool(BaseTool):\n",
    "    name: str = \"add_dependency_tool\"\n",
    "    description: str = \"\"\"\n",
    "    Ferramenta para definir uma tarefa como dependente ou bloqueadora de outra tarefa no ClickUp.\n",
    "    - Adicionar Dependência:\n",
    "        Invocar: \"AddDependencyTool\" com os parâmetros apropriados.\n",
    "    \"\"\"\n",
    "    args_schema: Type[BaseModel] = AddDependencyRequest\n",
    "    headers: dict = {\"Authorization\": f\"{CLICKUP_TOKEN}\"}\n",
    "\n",
    "    def _init_(self, **data):\n",
    "        super()._init_(**data)\n",
    "\n",
    "    def _run(self, task_id: str, **query_params) -> Any:\n",
    "        \"\"\"Executa a adição de uma dependência de tarefa no ClickUp\"\"\"\n",
    "\n",
    "        action = AddDependency()\n",
    "\n",
    "        url = f\"{action.url}{action.path}\".format(task_id=task_id)\n",
    "        params = {key: value for key, value in query_params.items() if value is not None}\n",
    "        request_body = {key: query_params.get(key) for key in action.request_params.keys()}\n",
    "\n",
    "        response = requests.post(url, headers=self.headers, params=params, json=request_body)\n",
    "\n",
    "        if response.status_code == 200:\n",
    "            response_json = response.json()\n",
    "        else:\n",
    "            try:\n",
    "                response_json = response.json()\n",
    "            except requests.JSONDecodeError:\n",
    "                response_json = {\"error\": \"Invalid JSON response\"}\n",
    "        \n",
    "        print(f\"Response Body: {response_json}\")\n",
    "        return AddDependencyResponse(data=response_json)"
   ]
  },
  {
   "cell_type": "markdown",
   "metadata": {},
   "source": [
    "## Agente"
   ]
  },
  {
   "cell_type": "code",
   "execution_count": 13,
   "metadata": {},
   "outputs": [],
   "source": [
    "from langchain import hub\n",
    "from langchain_openai import AzureChatOpenAI\n",
    "from langchain.agents import AgentExecutor, create_tool_calling_agent\n",
    "\n",
    "load_dotenv()\n",
    "\n",
    "llm = AzureChatOpenAI(model=\"gpt-4o\")\n",
    "prompt = hub.pull(\"hwchase17/openai-tools-agent\")"
   ]
  },
  {
   "cell_type": "code",
   "execution_count": 14,
   "metadata": {},
   "outputs": [],
   "source": [
    "prompt_template = f\"\"\"\"\\n\n",
    "Você é Ana Beatriz, secretária e Assistente de Projetos da Cogmo Technology\n",
    "\n",
    "Using Tools:\n",
    "You have access to a variety of tools to help you in your conversations.\n",
    "Make sure to always pass the correct arguments to each tool.\n",
    "\n",
    "Project Management:\n",
    "Use ClickUp to manage projects and tasks. To do that, you need to understand its structure.\n",
    "Users will refer to lists by name (not always the exact name), so you need to search for the closest match and get its ID.\n",
    "-> Workspace: The highest level of organization in ClickUp. It contains all of your Spaces.\n",
    "--> Space: A collection of Folders and Lists. It's a way to group related work together.\n",
    "---> Folder: Used to group Lists together.\n",
    "----> List: Used to group tasks together.\n",
    "-----> Task: The basic unit of work in ClickUp. They can be assigned to people, have due dates, and more.\n",
    "Important ClickUp IDs (Always use these IDs when interacting with ClickUp, unless otherwise specified):\n",
    "- Your ClickUp user details:\n",
    " - id: 84141406\n",
    " - username: Ana Beatriz\n",
    " - email: ti@cogmo.com.br\n",
    "- Cogmo Workspace (aka \"team_id\"): {os.getenv('CLICKUP_TEAM_ID', 12927880)}\n",
    "- 'Projetos' Space id {os.getenv('CLICKUP_PROJETOS_SPACE_ID', 54804921)}\n",
    "- \"Agentes Folder id: 90131663060\n",
    "- \"clickup_agent\" List id: 901304909413\n",
    "\"\"\""
   ]
  },
  {
   "cell_type": "code",
   "execution_count": 15,
   "metadata": {},
   "outputs": [],
   "source": [
    "prompt.messages[0].prompt.template = prompt_template"
   ]
  },
  {
   "cell_type": "code",
   "execution_count": 16,
   "metadata": {},
   "outputs": [
    {
     "name": "stdout",
     "output_type": "stream",
     "text": [
      "ChatPromptTemplate(input_variables=['agent_scratchpad', 'input'], optional_variables=['chat_history'], input_types={'chat_history': typing.List[typing.Union[langchain_core.messages.ai.AIMessage, langchain_core.messages.human.HumanMessage, langchain_core.messages.chat.ChatMessage, langchain_core.messages.system.SystemMessage, langchain_core.messages.function.FunctionMessage, langchain_core.messages.tool.ToolMessage]], 'agent_scratchpad': typing.List[typing.Union[langchain_core.messages.ai.AIMessage, langchain_core.messages.human.HumanMessage, langchain_core.messages.chat.ChatMessage, langchain_core.messages.system.SystemMessage, langchain_core.messages.function.FunctionMessage, langchain_core.messages.tool.ToolMessage]]}, partial_variables={'chat_history': []}, metadata={'lc_hub_owner': 'hwchase17', 'lc_hub_repo': 'openai-tools-agent', 'lc_hub_commit_hash': 'c18672812789a3b9697656dd539edf0120285dcae36396d0b548ae42a4ed66f5'}, messages=[SystemMessagePromptTemplate(prompt=PromptTemplate(input_variables=[], template='\"\\n\\nVocê é Ana Beatriz, secretária e Assistente de Projetos da Cogmo Technology\\n\\nUsing Tools:\\nYou have access to a variety of tools to help you in your conversations.\\nMake sure to always pass the correct arguments to each tool.\\n\\nProject Management:\\nUse ClickUp to manage projects and tasks. To do that, you need to understand its structure.\\nUsers will refer to lists by name (not always the exact name), so you need to search for the closest match and get its ID.\\n-> Workspace: The highest level of organization in ClickUp. It contains all of your Spaces.\\n--> Space: A collection of Folders and Lists. It\\'s a way to group related work together.\\n---> Folder: Used to group Lists together.\\n----> List: Used to group tasks together.\\n-----> Task: The basic unit of work in ClickUp. They can be assigned to people, have due dates, and more.\\nImportant ClickUp IDs (Always use these IDs when interacting with ClickUp, unless otherwise specified):\\n- Your ClickUp user details:\\n - id: 84141406\\n - username: Ana Beatriz\\n - email: ti@cogmo.com.br\\n- Cogmo Workspace (aka \"team_id\"): 12927880\\n- \\'Projetos\\' Space id 54804921\\n- \"Agentes Folder id: 90131663060\\n- \"clickup_agent\" List id: 901304909413\\n')), MessagesPlaceholder(variable_name='chat_history', optional=True), HumanMessagePromptTemplate(prompt=PromptTemplate(input_variables=['input'], template='{input}')), MessagesPlaceholder(variable_name='agent_scratchpad')])\n"
     ]
    }
   ],
   "source": [
    "from pprint import pprint\n",
    "\n",
    "pprint(prompt)"
   ]
  },
  {
   "cell_type": "code",
   "execution_count": 17,
   "metadata": {},
   "outputs": [],
   "source": [
    "from composio_langchain import ComposioToolSet, Action\n",
    "from langchain.tools import StructuredTool\n",
    "from langchain_core.tools import ToolException\n",
    "from pydantic import ValidationError\n",
    "from typing import List\n",
    "\n",
    "def try_except_tool(func):\n",
    "    try:\n",
    "        return func\n",
    "    except ValidationError as e:\n",
    "        raise ValidationError(f\"Validation Error: {e}\")    \n",
    "    except Exception as e:\n",
    "        raise ToolException(f\"Error: {e}\")\n",
    "\n",
    "def enhance_agent_tools(agent_tools: List):\n",
    "    enhanced_agent_tools = [\n",
    "        StructuredTool(\n",
    "            name=tool.name,\n",
    "            description=tool.description,\n",
    "            args_schema=tool.args_schema,\n",
    "            func=try_except_tool(tool.func),\n",
    "            handle_tool_error=True,\n",
    "            handle_validation_error=True\n",
    "        ) for tool in agent_tools\n",
    "    ]\n",
    "    return enhanced_agent_tools\n",
    "\n",
    "def initialize_composio_clickup_tools():\n",
    "    composio_toolset = ComposioToolSet(api_key=os.getenv('COMPOSIO_API_KEY'))\n",
    "\n",
    "    selected_clickup_actions = [\n",
    "            \"CLICKUP_AUTHORIZATION_GET_WORK_SPACE_LIST\",\n",
    "            \"CLICKUP_AUTHORIZATION_VIEW_ACCOUNT_DETAILS\",\n",
    "            \"CLICKUP_FOLDERS_GET_CONTENTS_OF\",\n",
    "            \"CLICKUP_FOLDERS_GET_FOLDER_CONTENT\",\n",
    "            \"CLICKUP_LISTS_GET_LIST_DETAILS\",\n",
    "            \"CLICKUP_MEMBERS_GET_LIST_USERS\",\n",
    "            \"CLICKUP_MEMBERS_GET_TASK_ACCESS\",\n",
    "            \"CLICKUP_SPACES_GET_DETAILS\",\n",
    "            \"CLICKUP_SPACES_GET_SPACE_DETAILS\",\n",
    "            \"CLICKUP_TASKS_FILTER_TEAM_TASKS\",\n",
    "            \"CLICKUP_TASKS_GET_LIST_TASKS\",\n",
    "            \"CLICKUP_TASKS_GET_TASK_DETAILS\",\n",
    "            \"CLICKUP_TEAMS_WORK_SPACES_GET_WORK_SPACE_SEATS\",\n",
    "        ]\n",
    "\n",
    "    clickup_tools = []\n",
    "\n",
    "    for action in selected_clickup_actions:\n",
    "        try:\n",
    "            clickup_tools.extend(composio_toolset.get_actions(actions=[getattr(Action, action)]))\n",
    "        except Exception as e:\n",
    "            print(f\"Error importing action {action}: {e}\")\n",
    "    clickup_enhanced_tools = enhance_agent_tools(clickup_tools)\n",
    "    return clickup_enhanced_tools"
   ]
  },
  {
   "cell_type": "code",
   "execution_count": 18,
   "metadata": {},
   "outputs": [
    {
     "name": "stderr",
     "output_type": "stream",
     "text": [
      "/var/folders/gj/5sh3dt_j0077hpjs7rt7hlrh0000gn/T/ipykernel_17888/4025261537.py:51: DeprecationWarning: Use CLICKUP_GET_FOLDERS instead.\n",
      "  clickup_tools.extend(composio_toolset.get_actions(actions=[getattr(Action, action)]))\n",
      "/var/folders/gj/5sh3dt_j0077hpjs7rt7hlrh0000gn/T/ipykernel_17888/4025261537.py:51: DeprecationWarning: Use CLICKUP_GET_FOLDER instead.\n",
      "  clickup_tools.extend(composio_toolset.get_actions(actions=[getattr(Action, action)]))\n"
     ]
    },
    {
     "name": "stdout",
     "output_type": "stream",
     "text": [
      "Error importing action CLICKUP_LISTS_GET_LIST_DETAILS: type object 'Action' has no attribute 'CLICKUP_LISTS_GET_LIST_DETAILS'\n",
      "Error importing action CLICKUP_MEMBERS_GET_TASK_ACCESS: type object 'Action' has no attribute 'CLICKUP_MEMBERS_GET_TASK_ACCESS'\n"
     ]
    },
    {
     "name": "stderr",
     "output_type": "stream",
     "text": [
      "/var/folders/gj/5sh3dt_j0077hpjs7rt7hlrh0000gn/T/ipykernel_17888/4025261537.py:51: DeprecationWarning: Use CLICKUP_GET_LIST_MEMBERS instead.\n",
      "  clickup_tools.extend(composio_toolset.get_actions(actions=[getattr(Action, action)]))\n",
      "/var/folders/gj/5sh3dt_j0077hpjs7rt7hlrh0000gn/T/ipykernel_17888/4025261537.py:51: DeprecationWarning: Use CLICKUP_GET_SPACE instead.\n",
      "  clickup_tools.extend(composio_toolset.get_actions(actions=[getattr(Action, action)]))\n",
      "/var/folders/gj/5sh3dt_j0077hpjs7rt7hlrh0000gn/T/ipykernel_17888/4025261537.py:51: DeprecationWarning: Use CLICKUP_GET_SPACES instead.\n",
      "  clickup_tools.extend(composio_toolset.get_actions(actions=[getattr(Action, action)]))\n",
      "/var/folders/gj/5sh3dt_j0077hpjs7rt7hlrh0000gn/T/ipykernel_17888/4025261537.py:51: DeprecationWarning: Use CLICKUP_GET_TASKS instead.\n",
      "  clickup_tools.extend(composio_toolset.get_actions(actions=[getattr(Action, action)]))\n"
     ]
    },
    {
     "name": "stdout",
     "output_type": "stream",
     "text": [
      "Error importing action CLICKUP_TASKS_FILTER_TEAM_TASKS: type object 'Action' has no attribute 'CLICKUP_TASKS_FILTER_TEAM_TASKS'\n"
     ]
    },
    {
     "name": "stderr",
     "output_type": "stream",
     "text": [
      "/Users/morossini/anaconda3/envs/secretary/lib/python3.11/site-packages/pydantic/json_schema.py:2179: PydanticJsonSchemaWarning: Default value alias='assignees__add' alias_priority=2 description='' extra={} is not JSON serializable; excluding default from JSON schema [non-serializable-default]\n",
      "  warnings.warn(message, PydanticJsonSchemaWarning)\n",
      "/Users/morossini/anaconda3/envs/secretary/lib/python3.11/site-packages/pydantic/json_schema.py:2179: PydanticJsonSchemaWarning: Default value alias='assignees__rem' alias_priority=2 description='' extra={} is not JSON serializable; excluding default from JSON schema [non-serializable-default]\n",
      "  warnings.warn(message, PydanticJsonSchemaWarning)\n"
     ]
    }
   ],
   "source": [
    "tools = [\n",
    "    CreateTaskTool(), \n",
    "    DeleteTaskTool(), \n",
    "    UpdateTaskTool(), \n",
    "    CreateTaskCommentTool(),\n",
    "    GetTaskCommentsTool(),\n",
    "    # AddTaskToListTool(),\n",
    "    RemoveTaskFromListTool(),\n",
    "    CreateFolderlessListTool(),\n",
    "    GetListsTool(),\n",
    "    AddDependencyTool(),\n",
    "    *initialize_composio_clickup_tools(),\n",
    "]\n",
    "\n",
    "agent_memory = ConversationBufferMemory(memory_key=\"chat_history\", return_messages=True)\n",
    "agent = create_tool_calling_agent(llm, tools, prompt)\n",
    "agent_executor = AgentExecutor(agent=agent, tools=tools, verbose=True, memory=agent_memory)"
   ]
  },
  {
   "cell_type": "code",
   "execution_count": 21,
   "metadata": {},
   "outputs": [
    {
     "data": {
      "text/plain": [
       "[CreateTaskTool(),\n",
       " DeleteTaskTool(),\n",
       " UpdateTaskTool(),\n",
       " CreateTaskCommentTool(),\n",
       " GetTaskCommentsTool(),\n",
       " RemoveTaskFromListTool(),\n",
       " CreateFolderlessListTool(),\n",
       " GetListsTool(),\n",
       " AddDependencyTool()]"
      ]
     },
     "execution_count": 21,
     "metadata": {},
     "output_type": "execute_result"
    }
   ],
   "source": [
    "agent_executor.tools"
   ]
  },
  {
   "cell_type": "code",
   "execution_count": 19,
   "metadata": {},
   "outputs": [],
   "source": [
    "# agent_executor.invoke({\n",
    "#     \"input\": \"Crie uma tarefa chamada 'TESTANDO NOVAMENTE', com vencimento de 02/09/2024, sob sua responsabilidade\"\n",
    "# })"
   ]
  },
  {
   "cell_type": "code",
   "execution_count": 20,
   "metadata": {},
   "outputs": [],
   "source": [
    "# agent_executor.invoke({\n",
    "#     \"input\": \"Atualize essa tarefa (id 86a4qp55z): Mude o responsabilidade para o Rafa (id 82061927) e coloque em status 'DOING'\"\n",
    "# })"
   ]
  },
  {
   "cell_type": "code",
   "execution_count": null,
   "metadata": {},
   "outputs": [],
   "source": []
  }
 ],
 "metadata": {
  "kernelspec": {
   "display_name": "composio",
   "language": "python",
   "name": "python3"
  },
  "language_info": {
   "codemirror_mode": {
    "name": "ipython",
    "version": 3
   },
   "file_extension": ".py",
   "mimetype": "text/x-python",
   "name": "python",
   "nbconvert_exporter": "python",
   "pygments_lexer": "ipython3",
   "version": "3.11.9"
  }
 },
 "nbformat": 4,
 "nbformat_minor": 2
}
